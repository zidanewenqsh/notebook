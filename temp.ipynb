{
 "cells": [
  {
   "cell_type": "code",
   "execution_count": 49,
   "id": "9da00c8b",
   "metadata": {},
   "outputs": [],
   "source": [
    "from IPython.core.interactiveshell import InteractiveShell\n",
    "InteractiveShell.ast_node_interactivity = \"all\""
   ]
  },
  {
   "cell_type": "markdown",
   "id": "a68c0042",
   "metadata": {},
   "source": [
    "/mnt/shared *(rw,sync,no_root_squash,no_subtree_check)\n",
    "mount -t nfs -o proto=tcp,port=2049,nolock 192.168.10.107:/home/wenquanshan/Docker /mnt/Docker"
   ]
  },
  {
   "cell_type": "markdown",
   "id": "83d6c1a3",
   "metadata": {},
   "source": [
    "mount -t nfs -o proto=tcp,port=2049,nolock 10.0.2.201:/home/hjimi/Docker /mnt/201"
   ]
  },
  {
   "cell_type": "code",
   "execution_count": 6,
   "id": "64b399f9",
   "metadata": {
    "scrolled": true
   },
   "outputs": [
    {
     "data": {
      "text/plain": [
       "['0b110000', '0b1100001', '0b1100010', '0b1100011']"
      ]
     },
     "execution_count": 6,
     "metadata": {},
     "output_type": "execute_result"
    }
   ],
   "source": [
    "x = b'0abc'\n",
    "x\n",
    "[bin(a) for a in x]"
   ]
  },
  {
   "cell_type": "code",
   "execution_count": 23,
   "id": "e7f18ddf",
   "metadata": {},
   "outputs": [
    {
     "data": {
      "text/plain": [
       "<attribute 'itemsize' of 'numpy.generic' objects>"
      ]
     },
     "execution_count": 23,
     "metadata": {},
     "output_type": "execute_result"
    }
   ],
   "source": [
    "np.float32.itemsize"
   ]
  },
  {
   "cell_type": "code",
   "execution_count": 26,
   "id": "87cae93e",
   "metadata": {},
   "outputs": [
    {
     "name": "stdout",
     "output_type": "stream",
     "text": [
      "数据类型所占空间大小：1 字节\n"
     ]
    }
   ],
   "source": [
    "import numpy as np\n",
    "\n",
    "# 定义一个NumPy数组\n",
    "arr = np.array([1, 2, 3], dtype=np.int8)\n",
    "\n",
    "# 获取数据类型的字节数\n",
    "size = arr.dtype.itemsize\n",
    "\n",
    "# 打印结果\n",
    "print(\"数据类型所占空间大小：{} 字节\".format(size))\n"
   ]
  },
  {
   "cell_type": "code",
   "execution_count": 32,
   "id": "8afb0310",
   "metadata": {},
   "outputs": [
    {
     "name": "stdout",
     "output_type": "stream",
     "text": [
      "1 |S1\n"
     ]
    },
    {
     "ename": "ValueError",
     "evalue": "invalid literal for int() with base 10: b'H'",
     "output_type": "error",
     "traceback": [
      "\u001b[0;31m---------------------------------------------------------------------------\u001b[0m",
      "\u001b[0;31mValueError\u001b[0m                                Traceback (most recent call last)",
      "Input \u001b[0;32mIn [32]\u001b[0m, in \u001b[0;36m<cell line: 9>\u001b[0;34m()\u001b[0m\n\u001b[1;32m      7\u001b[0m array \u001b[38;5;241m=\u001b[39m np\u001b[38;5;241m.\u001b[39marray(\u001b[38;5;28mlist\u001b[39m(string_data), dtype\u001b[38;5;241m=\u001b[39mnp\u001b[38;5;241m.\u001b[39mdtype(\u001b[38;5;124m'\u001b[39m\u001b[38;5;124mS1\u001b[39m\u001b[38;5;124m'\u001b[39m))\n\u001b[1;32m      8\u001b[0m \u001b[38;5;28mprint\u001b[39m(array\u001b[38;5;241m.\u001b[39mitemsize, array\u001b[38;5;241m.\u001b[39mdtype)\n\u001b[0;32m----> 9\u001b[0m array2 \u001b[38;5;241m=\u001b[39m \u001b[43marray\u001b[49m\u001b[38;5;241;43m.\u001b[39;49m\u001b[43mastype\u001b[49m\u001b[43m(\u001b[49m\u001b[43mnp\u001b[49m\u001b[38;5;241;43m.\u001b[39;49m\u001b[43muint8\u001b[49m\u001b[43m)\u001b[49m\n\u001b[1;32m     10\u001b[0m \u001b[38;5;28mprint\u001b[39m(array2\u001b[38;5;241m.\u001b[39mitemsize)\n\u001b[1;32m     11\u001b[0m \u001b[38;5;66;03m# 打印结果\u001b[39;00m\n",
      "\u001b[0;31mValueError\u001b[0m: invalid literal for int() with base 10: b'H'"
     ]
    }
   ],
   "source": [
    "import numpy as np\n",
    "\n",
    "# 定义一个字符串\n",
    "string_data = \"Hello, World!\"\n",
    "\n",
    "# 将字符串转换为NumPy字符数组\n",
    "array = np.array(list(string_data), dtype=np.dtype('S1'))\n",
    "print(array.itemsize, array.dtype)\n",
    "array2 = array.astype(np.uint8)\n",
    "print(array2.itemsize)\n",
    "# 打印结果\n",
    "# print(array)\n",
    "# a = array.tobytes()\n",
    "# a\n"
   ]
  },
  {
   "cell_type": "code",
   "execution_count": 34,
   "id": "e66b895e",
   "metadata": {},
   "outputs": [
    {
     "name": "stdout",
     "output_type": "stream",
     "text": [
      "[1 2 3 4 5]\n"
     ]
    }
   ],
   "source": [
    "import numpy as np\n",
    "\n",
    "# 定义一个字符数组\n",
    "char_array = np.array(['1', '2', '3', '4', '5'])\n",
    "\n",
    "# 将字符数组转换为整型数组\n",
    "int_array = char_array.astype(int)\n",
    "\n",
    "# 打印结果\n",
    "print(int_array)\n"
   ]
  },
  {
   "cell_type": "code",
   "execution_count": 35,
   "id": "10ca8d3a",
   "metadata": {},
   "outputs": [
    {
     "name": "stdout",
     "output_type": "stream",
     "text": [
      "[65 66 67 68 69]\n"
     ]
    }
   ],
   "source": [
    "import numpy as np\n",
    "\n",
    "# 定义一个字符数组\n",
    "char_array = np.array(['A', 'B', 'C', 'D', 'E'])\n",
    "\n",
    "# 定义转换函数\n",
    "convert_func = np.frompyfunc(ord, 1, 1)\n",
    "\n",
    "# 将字符数组转换为整型数组\n",
    "int_array = convert_func(char_array)\n",
    "\n",
    "# 打印结果\n",
    "print(int_array)\n"
   ]
  },
  {
   "cell_type": "code",
   "execution_count": 37,
   "id": "80e5e97e",
   "metadata": {},
   "outputs": [],
   "source": [
    "import torch"
   ]
  },
  {
   "cell_type": "code",
   "execution_count": 44,
   "id": "9d8f692b",
   "metadata": {},
   "outputs": [
    {
     "data": {
      "text/plain": [
       "94309967927360"
      ]
     },
     "execution_count": 44,
     "metadata": {},
     "output_type": "execute_result"
    }
   ],
   "source": [
    "a = torch.Tensor([1,2,3])\n",
    "# a\n",
    "a.data\n",
    "a.data_ptr()"
   ]
  },
  {
   "cell_type": "code",
   "execution_count": null,
   "id": "4e85af2d",
   "metadata": {},
   "outputs": [],
   "source": []
  },
  {
   "cell_type": "code",
   "execution_count": null,
   "id": "6186848e",
   "metadata": {},
   "outputs": [],
   "source": []
  },
  {
   "cell_type": "code",
   "execution_count": null,
   "id": "81a8ca53",
   "metadata": {},
   "outputs": [],
   "source": []
  },
  {
   "cell_type": "code",
   "execution_count": 19,
   "id": "6bb5f3b9",
   "metadata": {},
   "outputs": [
    {
     "data": {
      "text/plain": [
       "(255, 65535, 255, 65535)"
      ]
     },
     "execution_count": 19,
     "metadata": {},
     "output_type": "execute_result"
    }
   ],
   "source": [
    "int('11111111',2), int('1111111111111111',2), 0xFF, 0xFFFF"
   ]
  },
  {
   "cell_type": "code",
   "execution_count": 10,
   "id": "693e7682",
   "metadata": {},
   "outputs": [
    {
     "data": {
      "text/plain": [
       "'a'"
      ]
     },
     "execution_count": 10,
     "metadata": {},
     "output_type": "execute_result"
    }
   ],
   "source": [
    "chr(97)"
   ]
  },
  {
   "cell_type": "code",
   "execution_count": 3,
   "id": "2ba35117",
   "metadata": {},
   "outputs": [
    {
     "data": {
      "text/plain": [
       "(171, '0b10101011')"
      ]
     },
     "execution_count": 3,
     "metadata": {},
     "output_type": "execute_result"
    }
   ],
   "source": [
    "k = 0xAB\n",
    "k, bin(k)"
   ]
  },
  {
   "cell_type": "code",
   "execution_count": 8,
   "id": "d9372fa8",
   "metadata": {},
   "outputs": [
    {
     "data": {
      "text/plain": [
       "'0b11111111'"
      ]
     },
     "execution_count": 8,
     "metadata": {},
     "output_type": "execute_result"
    }
   ],
   "source": [
    "bin(255)"
   ]
  },
  {
   "cell_type": "code",
   "execution_count": 3,
   "id": "cfca136a",
   "metadata": {},
   "outputs": [
    {
     "name": "stdout",
     "output_type": "stream",
     "text": [
      "Thu Apr  6 12:05:28 2023       \n",
      "+-----------------------------------------------------------------------------+\n",
      "| NVIDIA-SMI 525.89.02    Driver Version: 525.89.02    CUDA Version: 12.0     |\n",
      "|-------------------------------+----------------------+----------------------+\n",
      "| GPU  Name        Persistence-M| Bus-Id        Disp.A | Volatile Uncorr. ECC |\n",
      "| Fan  Temp  Perf  Pwr:Usage/Cap|         Memory-Usage | GPU-Util  Compute M. |\n",
      "|                               |                      |               MIG M. |\n",
      "|===============================+======================+======================|\n",
      "|   0  NVIDIA TITAN V      Off  | 00000000:04:00.0 Off |                  N/A |\n",
      "| 28%   41C    P2    35W / 250W |   1242MiB / 12288MiB |      0%      Default |\n",
      "|                               |                      |                  N/A |\n",
      "+-------------------------------+----------------------+----------------------+\n",
      "|   1  NVIDIA TITAN V      Off  | 00000000:05:00.0 Off |                  N/A |\n",
      "| 28%   39C    P8    28W / 250W |      4MiB / 12288MiB |      0%      Default |\n",
      "|                               |                      |                  N/A |\n",
      "+-------------------------------+----------------------+----------------------+\n",
      "|   2  NVIDIA TITAN V      Off  | 00000000:08:00.0 Off |                  N/A |\n",
      "| 28%   38C    P8    25W / 250W |      4MiB / 12288MiB |      0%      Default |\n",
      "|                               |                      |                  N/A |\n",
      "+-------------------------------+----------------------+----------------------+\n",
      "|   3  NVIDIA TITAN V      Off  | 00000000:09:00.0 Off |                  N/A |\n",
      "| 28%   37C    P8    25W / 250W |      4MiB / 12288MiB |      0%      Default |\n",
      "|                               |                      |                  N/A |\n",
      "+-------------------------------+----------------------+----------------------+\n",
      "|   4  NVIDIA TITAN V      Off  | 00000000:85:00.0 Off |                  N/A |\n",
      "| 28%   38C    P8    25W / 250W |      4MiB / 12288MiB |      0%      Default |\n",
      "|                               |                      |                  N/A |\n",
      "+-------------------------------+----------------------+----------------------+\n",
      "|   5  NVIDIA TITAN V      Off  | 00000000:86:00.0 Off |                  N/A |\n",
      "| 28%   39C    P8    26W / 250W |      4MiB / 12288MiB |      0%      Default |\n",
      "|                               |                      |                  N/A |\n",
      "+-------------------------------+----------------------+----------------------+\n",
      "|   6  NVIDIA TITAN V      Off  | 00000000:89:00.0 Off |                  N/A |\n",
      "| 28%   35C    P8    25W / 250W |      4MiB / 12288MiB |      0%      Default |\n",
      "|                               |                      |                  N/A |\n",
      "+-------------------------------+----------------------+----------------------+\n",
      "|   7  NVIDIA TITAN V      Off  | 00000000:8A:00.0 Off |                  N/A |\n",
      "| 28%   37C    P8    26W / 250W |      4MiB / 12288MiB |      0%      Default |\n",
      "|                               |                      |                  N/A |\n",
      "+-------------------------------+----------------------+----------------------+\n",
      "                                                                               \n",
      "+-----------------------------------------------------------------------------+\n",
      "| Processes:                                                                  |\n",
      "|  GPU   GI   CI        PID   Type   Process name                  GPU Memory |\n",
      "|        ID   ID                                                   Usage      |\n",
      "|=============================================================================|\n",
      "+-----------------------------------------------------------------------------+\n"
     ]
    }
   ],
   "source": [
    "!nvidia-smi"
   ]
  },
  {
   "cell_type": "code",
   "execution_count": 9,
   "id": "57dce243",
   "metadata": {},
   "outputs": [
    {
     "data": {
      "text/plain": [
       "173056"
      ]
     },
     "execution_count": 9,
     "metadata": {},
     "output_type": "execute_result"
    }
   ],
   "source": [
    "416*416"
   ]
  },
  {
   "cell_type": "code",
   "execution_count": 3,
   "id": "9632395e",
   "metadata": {},
   "outputs": [
    {
     "data": {
      "text/plain": [
       "array([ 1.        ,  1.38177329,  0.49315059, ..., -0.9822334 ,\n",
       "       -1.38686302, -0.51641718])"
      ]
     },
     "execution_count": 3,
     "metadata": {},
     "output_type": "execute_result"
    },
    {
     "data": {
      "text/plain": [
       "0.08633305630871865"
      ]
     },
     "execution_count": 3,
     "metadata": {},
     "output_type": "execute_result"
    }
   ],
   "source": [
    "x = np.arange(1024)\n",
    "a = np.sin(x)\n",
    "b = np.cos(x)\n",
    "c = a + b\n",
    "c\n",
    "np.dot(a.T, b)"
   ]
  },
  {
   "cell_type": "code",
   "execution_count": 8,
   "id": "36878594",
   "metadata": {},
   "outputs": [
    {
     "data": {
      "text/plain": [
       "64.0"
      ]
     },
     "execution_count": 8,
     "metadata": {},
     "output_type": "execute_result"
    }
   ],
   "source": [
    "4096/64"
   ]
  },
  {
   "cell_type": "code",
   "execution_count": 10,
   "id": "5ae8c365",
   "metadata": {},
   "outputs": [
    {
     "data": {
      "text/plain": [
       "6144"
      ]
     },
     "execution_count": 10,
     "metadata": {},
     "output_type": "execute_result"
    }
   ],
   "source": [
    "0x1800"
   ]
  },
  {
   "cell_type": "code",
   "execution_count": 11,
   "id": "3ca78b93",
   "metadata": {},
   "outputs": [
    {
     "data": {
      "text/plain": [
       "6144"
      ]
     },
     "execution_count": 11,
     "metadata": {},
     "output_type": "execute_result"
    }
   ],
   "source": [
    "1024*6"
   ]
  },
  {
   "cell_type": "code",
   "execution_count": 47,
   "id": "38b10179",
   "metadata": {},
   "outputs": [],
   "source": [
    "import torch\n",
    "import torch.nn as nn"
   ]
  },
  {
   "cell_type": "code",
   "execution_count": 46,
   "id": "55a9edff",
   "metadata": {},
   "outputs": [],
   "source": [
    "torch.nn.L1Loss?\n"
   ]
  },
  {
   "cell_type": "code",
   "execution_count": 50,
   "id": "dbaeff5e",
   "metadata": {},
   "outputs": [
    {
     "data": {
      "text/plain": [
       "torch.Size([20, 33, 93, 100])"
      ]
     },
     "execution_count": 50,
     "metadata": {},
     "output_type": "execute_result"
    },
    {
     "data": {
      "text/plain": [
       "torch.Size([1, 16, 6, 6])"
      ]
     },
     "execution_count": 50,
     "metadata": {},
     "output_type": "execute_result"
    },
    {
     "data": {
      "text/plain": [
       "torch.Size([1, 16, 12, 12])"
      ]
     },
     "execution_count": 50,
     "metadata": {},
     "output_type": "execute_result"
    }
   ],
   "source": [
    "# With square kernels and equal stride\n",
    "m = nn.ConvTranspose2d(16, 33, 3, stride=2)\n",
    "# non-square kernels and unequal stride and with padding\n",
    "m = nn.ConvTranspose2d(16, 33, (3, 5), stride=(2, 1), padding=(4, 2))\n",
    "x = torch.randn(20, 16, 50, 100)\n",
    "y = m(x)\n",
    "y.size()\n",
    "# exact output size can be also specified as an argument\n",
    "x = torch.randn(1, 16, 12, 12)\n",
    "downsample = nn.Conv2d(16, 16, 3, stride=2, padding=1)\n",
    "upsample = nn.ConvTranspose2d(16, 16, 3, stride=2, padding=1)\n",
    "h = downsample(x)\n",
    "h.size()\n",
    "output = upsample(h, output_size=input.size())\n",
    "output.size()"
   ]
  },
  {
   "cell_type": "code",
   "execution_count": 78,
   "id": "38d98abc",
   "metadata": {},
   "outputs": [
    {
     "data": {
      "text/plain": [
       "torch.Size([1, 16, 62, 62])"
      ]
     },
     "execution_count": 78,
     "metadata": {},
     "output_type": "execute_result"
    },
    {
     "data": {
      "text/plain": [
       "torch.Size([1, 16, 248, 248])"
      ]
     },
     "execution_count": 78,
     "metadata": {},
     "output_type": "execute_result"
    }
   ],
   "source": [
    "x = torch.randn(1, 16, 128, 128)\n",
    "downsample = nn.Conv2d(16, 16, 7, stride=2, padding=1)\n",
    "upsample = nn.ConvTranspose2d(16, 16, 3, stride=4, padding=1, output_padding=3)\n",
    "h = downsample(x)\n",
    "h.size()\n",
    "output = upsample(h)\n",
    "output.size()"
   ]
  },
  {
   "cell_type": "code",
   "execution_count": 88,
   "id": "15cb2cc5",
   "metadata": {},
   "outputs": [
    {
     "data": {
      "text/plain": [
       "torch.Size([1, 1, 3, 3])"
      ]
     },
     "execution_count": 88,
     "metadata": {},
     "output_type": "execute_result"
    },
    {
     "data": {
      "text/plain": [
       "torch.Size([1, 1, 5, 5])"
      ]
     },
     "execution_count": 88,
     "metadata": {},
     "output_type": "execute_result"
    },
    {
     "data": {
      "text/plain": [
       "torch.Size([1, 1, 5, 5])"
      ]
     },
     "execution_count": 88,
     "metadata": {},
     "output_type": "execute_result"
    },
    {
     "data": {
      "text/plain": [
       "tensor([[[[-0.3093, -0.3665, -0.2657, -0.2544, -0.1902],\n",
       "          [-0.3924, -0.1280, -0.3535, -0.2466, -0.1745],\n",
       "          [-0.3385, -0.4933, -0.3911, -0.4539, -0.2281],\n",
       "          [-0.4653, -0.5214, -0.4226, -0.4689, -0.1859],\n",
       "          [-0.4096, -0.4205, -0.1423, -0.0434, -0.1315]]]],\n",
       "       grad_fn=<SlowConvTranspose2DBackward>)"
      ]
     },
     "execution_count": 88,
     "metadata": {},
     "output_type": "execute_result"
    },
    {
     "data": {
      "text/plain": [
       "tensor([[[[2.3064e-01, 9.5724e-02, 1.9556e-01, 1.6054e-01, 1.3482e-01],\n",
       "          [1.3070e-01, 2.2006e-01, 1.8396e-01, 4.3802e-01, 1.9692e-01],\n",
       "          [2.5420e-01, 1.4615e-02, 2.9654e-01, 6.4069e-02, 1.6531e-01],\n",
       "          [1.2809e-01, 2.3576e-01, 2.7536e-04, 1.3473e-01, 1.3475e-01],\n",
       "          [3.1137e-01, 9.5796e-02, 9.6277e-02, 2.6620e-01, 8.7532e-02]]]],\n",
       "       grad_fn=<SlowConvTranspose2DBackward>)"
      ]
     },
     "execution_count": 88,
     "metadata": {},
     "output_type": "execute_result"
    }
   ],
   "source": [
    "x = torch.randn(1, 1, 5, 5)\n",
    "downsample = nn.Conv2d(1, 1, 3, stride=2, padding=1)\n",
    "upsample = nn.ConvTranspose2d(1, 1, 3, stride=2, padding=1, output_padding=0)\n",
    "upsample1 = nn.ConvTranspose2d(1, 1, 3, stride=2, padding=1, output_padding=0)\n",
    "h = downsample(x)\n",
    "h.size()\n",
    "y = upsample(h)\n",
    "y.size()\n",
    "y1 = upsample1(h)\n",
    "y1.size()\n",
    "y\n",
    "y1"
   ]
  },
  {
   "cell_type": "code",
   "execution_count": 98,
   "id": "dfe6e1de",
   "metadata": {},
   "outputs": [
    {
     "data": {
      "text/plain": [
       "torch.Size([1, 1, 3, 3])"
      ]
     },
     "execution_count": 98,
     "metadata": {},
     "output_type": "execute_result"
    },
    {
     "data": {
      "text/plain": [
       "torch.Size([1, 1, 5, 5])"
      ]
     },
     "execution_count": 98,
     "metadata": {},
     "output_type": "execute_result"
    },
    {
     "data": {
      "text/plain": [
       "torch.Size([1, 1, 6, 6])"
      ]
     },
     "execution_count": 98,
     "metadata": {},
     "output_type": "execute_result"
    },
    {
     "data": {
      "text/plain": [
       "tensor([[[[ 1.1957,  0.7997,  0.6039,  0.8489,  1.2450],\n",
       "          [ 0.9188,  0.2865,  0.3677,  0.0919,  0.7242],\n",
       "          [ 0.7231,  0.4868,  0.7637,  0.2430,  0.4793],\n",
       "          [ 1.0673,  0.0865,  0.0192, -1.1782, -0.1974],\n",
       "          [ 1.3442,  0.5997,  0.2555, -0.4211,  0.3233]]]],\n",
       "       grad_fn=<SlowConvTranspose2DBackward>)"
      ]
     },
     "execution_count": 98,
     "metadata": {},
     "output_type": "execute_result"
    },
    {
     "data": {
      "text/plain": [
       "tensor([[[[ 1.1957,  0.7997,  0.6039,  0.8489,  1.2450,  1.2450],\n",
       "          [ 0.9188,  0.2865,  0.3677,  0.0919,  0.7242,  0.7242],\n",
       "          [ 0.7231,  0.4868,  0.7637,  0.2430,  0.4793,  0.4793],\n",
       "          [ 1.0673,  0.0865,  0.0192, -1.1782, -0.1974, -0.1974],\n",
       "          [ 1.3442,  0.5997,  0.2555, -0.4211,  0.3233,  0.3233],\n",
       "          [ 1.3442,  0.5997,  0.2555, -0.4211,  0.3233,  0.3233]]]],\n",
       "       grad_fn=<SlowConvTranspose2DBackward>)"
      ]
     },
     "execution_count": 98,
     "metadata": {},
     "output_type": "execute_result"
    }
   ],
   "source": [
    "x = torch.randn(1, 1, 6, 6)\n",
    "down = nn.Conv2d(1, 1, 3, stride=2, padding=1)\n",
    "up = nn.ConvTranspose2d(1, 1, 3, stride=2, padding=1, output_padding=0)\n",
    "up1 = nn.ConvTranspose2d(1, 1, 3, stride=2, padding=1, output_padding=1)\n",
    "up.weight = nn.Parameter(torch.ones_like(up.weight))\n",
    "up1.weight = nn.Parameter(torch.ones_like(up1.weight))\n",
    "up.bias = nn.Parameter(torch.ones_like(up.bias))\n",
    "up1.bias = nn.Parameter(torch.ones_like(up1.bias))\n",
    "h = down(x)\n",
    "h.size()\n",
    "y = up(h)\n",
    "y.size()\n",
    "y1 = up1(h)\n",
    "y1.size()\n",
    "y\n",
    "y1\n"
   ]
  },
  {
   "cell_type": "code",
   "execution_count": 85,
   "id": "2fc2ebb7",
   "metadata": {},
   "outputs": [
    {
     "data": {
      "text/plain": [
       "tensor([[[[-0.0772, -0.1619, -0.1059, -0.2029, -0.1024],\n",
       "          [-0.1348,  0.0948, -0.1253, -0.2055, -0.0426],\n",
       "          [-0.0886, -0.2985, -0.1193, -0.1115, -0.0872],\n",
       "          [-0.1130,  0.2573,  0.0167, -0.5055, -0.1521],\n",
       "          [-0.0946, -0.0511, -0.0871, -0.1885, -0.1062]]]],\n",
       "       grad_fn=<SlowConvTranspose2DBackward>)"
      ]
     },
     "execution_count": 85,
     "metadata": {},
     "output_type": "execute_result"
    },
    {
     "data": {
      "text/plain": [
       "tensor([[[[ 0.1168,  0.1964,  0.1589,  0.2481,  0.1537,  0.1658],\n",
       "          [ 0.0830, -0.2058,  0.0734,  0.2096,  0.2153,  0.2744],\n",
       "          [ 0.1334,  0.3287,  0.1785,  0.1696,  0.1314,  0.1244],\n",
       "          [ 0.1096,  0.2929,  0.2999,  0.2693,  0.0451, -0.0067],\n",
       "          [ 0.1422,  0.1017,  0.1313,  0.2259,  0.1593,  0.1762],\n",
       "          [ 0.1485,  0.1264,  0.1114,  0.1566,  0.2066,  0.2759]]]],\n",
       "       grad_fn=<SlowConvTranspose2DBackward>)"
      ]
     },
     "execution_count": 85,
     "metadata": {},
     "output_type": "execute_result"
    }
   ],
   "source": []
  },
  {
   "cell_type": "code",
   "execution_count": 83,
   "id": "5134981e",
   "metadata": {},
   "outputs": [
    {
     "data": {
      "text/plain": [
       "torch.Size([1, 1, 3, 3])"
      ]
     },
     "execution_count": 83,
     "metadata": {},
     "output_type": "execute_result"
    },
    {
     "data": {
      "text/plain": [
       "torch.Size([1, 1, 5, 5])"
      ]
     },
     "execution_count": 83,
     "metadata": {},
     "output_type": "execute_result"
    }
   ],
   "source": [
    "x = torch.randn(1, 1, 5, 5)\n",
    "downsample = nn.Conv2d(1, 1, 3, stride=2, padding=1)\n",
    "upsample = nn.ConvTranspose2d(1, 1, 3, stride=2, padding=1, output_padding=0)\n",
    "h = downsample(x)\n",
    "h.size()\n",
    "y = upsample(h)\n",
    "y.size()"
   ]
  },
  {
   "cell_type": "code",
   "execution_count": 82,
   "id": "4c89b9d1",
   "metadata": {},
   "outputs": [
    {
     "data": {
      "text/plain": [
       "tensor([[[[-0.3256, -0.2951,  0.9024,  0.2518, -0.6083],\n",
       "          [ 1.5094,  0.7742, -0.2906, -1.2123, -0.9252],\n",
       "          [ 0.8520, -0.1239,  0.8412, -0.0914,  0.5549],\n",
       "          [ 0.1946, -0.1306,  0.5278,  1.3719,  0.3391],\n",
       "          [ 0.4267,  0.6061, -3.9008, -0.9503, -0.3829]]]])"
      ]
     },
     "execution_count": 82,
     "metadata": {},
     "output_type": "execute_result"
    },
    {
     "data": {
      "text/plain": [
       "tensor([[[[-0.2599, -0.1101, -0.1413, -0.0538, -0.0472, -0.2193],\n",
       "          [-0.2117, -0.2307, -0.3049, -0.3312, -0.3098, -0.2938],\n",
       "          [-0.2401, -0.3349, -0.3507, -0.2872, -0.3421, -0.1159],\n",
       "          [-0.1578, -0.1600,  0.0201,  0.0229, -0.0311, -0.0585],\n",
       "          [-0.1618,  0.0732,  0.0679, -0.0800, -0.0020, -0.2352],\n",
       "          [-0.1761, -0.2416, -0.2030, -0.1791, -0.1949, -0.1427]]]],\n",
       "       grad_fn=<SlowConvTranspose2DBackward>)"
      ]
     },
     "execution_count": 82,
     "metadata": {},
     "output_type": "execute_result"
    }
   ],
   "source": [
    "x\n",
    "y"
   ]
  },
  {
   "cell_type": "code",
   "execution_count": null,
   "id": "39679c84",
   "metadata": {},
   "outputs": [],
   "source": []
  }
 ],
 "metadata": {
  "kernelspec": {
   "display_name": "Python 3 (ipykernel)",
   "language": "python",
   "name": "python3"
  },
  "language_info": {
   "codemirror_mode": {
    "name": "ipython",
    "version": 3
   },
   "file_extension": ".py",
   "mimetype": "text/x-python",
   "name": "python",
   "nbconvert_exporter": "python",
   "pygments_lexer": "ipython3",
   "version": "3.9.12"
  },
  "toc": {
   "base_numbering": 1,
   "nav_menu": {},
   "number_sections": true,
   "sideBar": true,
   "skip_h1_title": false,
   "title_cell": "Table of Contents",
   "title_sidebar": "Contents",
   "toc_cell": false,
   "toc_position": {},
   "toc_section_display": true,
   "toc_window_display": false
  },
  "varInspector": {
   "cols": {
    "lenName": 16,
    "lenType": 16,
    "lenVar": 40
   },
   "kernels_config": {
    "python": {
     "delete_cmd_postfix": "",
     "delete_cmd_prefix": "del ",
     "library": "var_list.py",
     "varRefreshCmd": "print(var_dic_list())"
    },
    "r": {
     "delete_cmd_postfix": ") ",
     "delete_cmd_prefix": "rm(",
     "library": "var_list.r",
     "varRefreshCmd": "cat(var_dic_list()) "
    }
   },
   "types_to_exclude": [
    "module",
    "function",
    "builtin_function_or_method",
    "instance",
    "_Feature"
   ],
   "window_display": false
  }
 },
 "nbformat": 4,
 "nbformat_minor": 5
}
