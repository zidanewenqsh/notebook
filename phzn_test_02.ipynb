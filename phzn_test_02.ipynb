{
 "cells": [
  {
   "cell_type": "code",
   "execution_count": 1,
   "id": "a03ad202",
   "metadata": {},
   "outputs": [],
   "source": [
    "import numpy as np\n",
    "import os\n",
    "import sys\n",
    "import math\n",
    "import torch\n",
    "import time\n",
    "import re\n",
    "import cv2\n",
    "from pathlib import Path\n",
    "from tqdm import tqdm\n",
    "from matplotlib import pyplot as plt\n",
    "from torchvision import transforms\n",
    "from icecream import ic\n",
    "from itertools import repeat\n",
    "import random\n",
    "# import sympy as sy\n",
    "from IPython.core.interactiveshell import InteractiveShell\n",
    "InteractiveShell.ast_node_interactivity = \"all\"\n",
    "from copy import deepcopy"
   ]
  },
  {
   "cell_type": "code",
   "execution_count": 26,
   "id": "9a717a1b",
   "metadata": {},
   "outputs": [
    {
     "data": {
      "text/plain": [
       "[61, 64, 83, 85]"
      ]
     },
     "execution_count": 26,
     "metadata": {},
     "output_type": "execute_result"
    }
   ],
   "source": [
    "a = np.arange(100)\n",
    "random.choices(a, k=4)"
   ]
  },
  {
   "cell_type": "code",
   "execution_count": 27,
   "id": "5ada8d1c",
   "metadata": {},
   "outputs": [
    {
     "data": {
      "text/plain": [
       "'0b110100000000000000'"
      ]
     },
     "execution_count": 27,
     "metadata": {},
     "output_type": "execute_result"
    }
   ],
   "source": [
    "bin(212992)"
   ]
  },
  {
   "cell_type": "markdown",
   "id": "89812641",
   "metadata": {},
   "source": [
    "# matrix"
   ]
  },
  {
   "cell_type": "code",
   "execution_count": 203,
   "id": "f8af94c6",
   "metadata": {},
   "outputs": [
    {
     "data": {
      "text/plain": [
       "(array([[7, 0, 2, 2],\n",
       "        [9, 3, 6, 8]]),\n",
       " array([[3, 0, 7],\n",
       "        [0, 1, 6],\n",
       "        [5, 9, 9],\n",
       "        [9, 6, 2]]),\n",
       " array([[ 49,  30,  71],\n",
       "        [129, 105, 151]]))"
      ]
     },
     "execution_count": 203,
     "metadata": {},
     "output_type": "execute_result"
    }
   ],
   "source": [
    "m,n,p = 2,3,4\n",
    "a = np.random.randint(0,10, size=(m, p))\n",
    "b = np.random.randint(0,10, size=(p, n))\n",
    "a, b, a@b"
   ]
  },
  {
   "cell_type": "code",
   "execution_count": 200,
   "id": "24889413",
   "metadata": {},
   "outputs": [],
   "source": [
    "def matrix_mul(a, b):\n",
    "    c = np.zeros((m, n))\n",
    "    for i in range(m):\n",
    "        for j in range(n):\n",
    "            for k in range(p):\n",
    "                c[i,j] += a[i, k]*b[k, j]\n",
    "    return c"
   ]
  },
  {
   "cell_type": "code",
   "execution_count": 200,
   "id": "fd0ccb44",
   "metadata": {},
   "outputs": [],
   "source": [
    "def matrix_mul(a, b):\n",
    "    c = np.zeros((m, n))\n",
    "    for i in range(m):\n",
    "        for k in range(p):\n",
    "            for j in range(n):\n",
    "    return c"
   ]
  },
  {
   "cell_type": "code",
   "execution_count": 204,
   "id": "86579320",
   "metadata": {},
   "outputs": [
    {
     "data": {
      "text/plain": [
       "array([[ 49.,  30.,  71.],\n",
       "       [129., 105., 151.]])"
      ]
     },
     "execution_count": 204,
     "metadata": {},
     "output_type": "execute_result"
    }
   ],
   "source": [
    "matrix_mul(a, b)"
   ]
  },
  {
   "cell_type": "code",
   "execution_count": 205,
   "id": "3dd6edd3",
   "metadata": {},
   "outputs": [
    {
     "data": {
      "text/plain": [
       "array([[ 49,  30,  71],\n",
       "       [129, 105, 151]])"
      ]
     },
     "execution_count": 205,
     "metadata": {},
     "output_type": "execute_result"
    }
   ],
   "source": [
    "np.einsum(\"ab, bc->ac\", a, b)"
   ]
  },
  {
   "cell_type": "code",
   "execution_count": 208,
   "id": "8bccd0b0",
   "metadata": {},
   "outputs": [
    {
     "data": {
      "text/plain": [
       "array([[[ 87,  63,  40],\n",
       "        [135, 115,  93]],\n",
       "\n",
       "       [[178, 161, 179],\n",
       "        [138, 129, 147]],\n",
       "\n",
       "       [[126, 171,  97],\n",
       "        [156, 192, 108]]])"
      ]
     },
     "execution_count": 208,
     "metadata": {},
     "output_type": "execute_result"
    }
   ],
   "source": [
    "m,n,p = 2,3,4\n",
    "a1 = np.random.randint(0,10, size=(m, p, 3))\n",
    "b1 = np.random.randint(0,10, size=(p, n, 3))\n",
    "c1 = np.einsum(\"hkc, kwc->chw\", a1, b1)\n",
    "c1"
   ]
  },
  {
   "cell_type": "code",
   "execution_count": 214,
   "id": "9b6afbe4",
   "metadata": {},
   "outputs": [
    {
     "data": {
      "text/plain": [
       "array([[[9, 4, 7, 7],\n",
       "        [4, 8, 9, 5],\n",
       "        [3, 4, 5, 2]],\n",
       "\n",
       "       [[2, 2, 5, 7],\n",
       "        [6, 4, 1, 9],\n",
       "        [8, 0, 8, 4]]])"
      ]
     },
     "execution_count": 214,
     "metadata": {},
     "output_type": "execute_result"
    },
    {
     "data": {
      "text/plain": [
       "array([[[9, 4, 3],\n",
       "        [2, 6, 8]],\n",
       "\n",
       "       [[4, 8, 4],\n",
       "        [2, 4, 0]],\n",
       "\n",
       "       [[7, 9, 5],\n",
       "        [5, 1, 8]],\n",
       "\n",
       "       [[7, 5, 2],\n",
       "        [7, 9, 4]]])"
      ]
     },
     "execution_count": 214,
     "metadata": {},
     "output_type": "execute_result"
    },
    {
     "data": {
      "text/plain": [
       "array([[16, 16],\n",
       "       [16,  6],\n",
       "       [21, 14],\n",
       "       [14, 20]])"
      ]
     },
     "execution_count": 214,
     "metadata": {},
     "output_type": "execute_result"
    }
   ],
   "source": [
    "a2 = np.random.randint(0,10,size=(2,3,4))\n",
    "a2\n",
    "np.einsum(\"abc->cab\", a2)\n",
    "np.einsum(\"abc->ca\", a2)"
   ]
  },
  {
   "cell_type": "markdown",
   "id": "6df73ff7",
   "metadata": {},
   "source": [
    "# aplt "
   ]
  },
  {
   "cell_type": "code",
   "execution_count": 690,
   "id": "8eddea46",
   "metadata": {},
   "outputs": [
    {
     "data": {
      "text/plain": [
       "407"
      ]
     },
     "execution_count": 690,
     "metadata": {},
     "output_type": "execute_result"
    },
    {
     "data": {
      "text/plain": [
       "0.7005163511187608"
      ]
     },
     "execution_count": 690,
     "metadata": {},
     "output_type": "execute_result"
    }
   ],
   "source": [
    "a = 176+72+47+72+40\n",
    "a \n",
    "a / (195+386)"
   ]
  },
  {
   "cell_type": "code",
   "execution_count": 215,
   "id": "69102421",
   "metadata": {},
   "outputs": [
    {
     "data": {
      "text/plain": [
       "61"
      ]
     },
     "execution_count": 215,
     "metadata": {},
     "output_type": "execute_result"
    },
    {
     "data": {
      "text/plain": [
       "0.10499139414802065"
      ]
     },
     "execution_count": 215,
     "metadata": {},
     "output_type": "execute_result"
    },
    {
     "data": {
      "text/plain": [
       "0.16695352839931152"
      ]
     },
     "execution_count": 215,
     "metadata": {},
     "output_type": "execute_result"
    }
   ],
   "source": [
    "b = 61\n",
    "b\n",
    "b / (195+386)\n",
    "c = 97\n",
    "c / (195+386)"
   ]
  },
  {
   "cell_type": "code",
   "execution_count": null,
   "id": "0810749b",
   "metadata": {},
   "outputs": [],
   "source": []
  },
  {
   "cell_type": "markdown",
   "id": "0ac0b29c",
   "metadata": {},
   "source": [
    "# free"
   ]
  },
  {
   "cell_type": "code",
   "execution_count": 120,
   "id": "bb51f105",
   "metadata": {},
   "outputs": [
    {
     "data": {
      "text/plain": [
       "array([ 0.03539268,  0.21553914, -0.98582894,  0.44265166, -0.15179107,\n",
       "       -0.25053548, -0.6835056 ,  0.56808226, -0.95499826, -0.18357662])"
      ]
     },
     "execution_count": 120,
     "metadata": {},
     "output_type": "execute_result"
    }
   ],
   "source": [
    "np.random.uniform(-1,1,size=(10,))"
   ]
  },
  {
   "cell_type": "code",
   "execution_count": 123,
   "id": "788636d5",
   "metadata": {},
   "outputs": [
    {
     "data": {
      "text/plain": [
       "array([[0.61910053, 0.21419449, 0.70208857],\n",
       "       [0.81382575, 0.50604175, 0.40632994]])"
      ]
     },
     "execution_count": 123,
     "metadata": {},
     "output_type": "execute_result"
    }
   ],
   "source": [
    "np.random.rand(2,3)"
   ]
  },
  {
   "cell_type": "markdown",
   "id": "ccb4c7e2",
   "metadata": {},
   "source": [
    "# cython"
   ]
  },
  {
   "cell_type": "code",
   "execution_count": 8,
   "id": "a334bdde",
   "metadata": {},
   "outputs": [],
   "source": [
    "%load_ext Cython"
   ]
  },
  {
   "cell_type": "code",
   "execution_count": null,
   "id": "6ff6bfd8",
   "metadata": {},
   "outputs": [],
   "source": []
  },
  {
   "cell_type": "code",
   "execution_count": 3,
   "id": "831b47e4",
   "metadata": {},
   "outputs": [],
   "source": [
    "def simple_loop():\n",
    "    acc = 0\n",
    "    for i in range(1000):\n",
    "        acc += 1\n",
    "    return acc"
   ]
  },
  {
   "cell_type": "code",
   "execution_count": 24,
   "id": "56cbbe18",
   "metadata": {},
   "outputs": [],
   "source": [
    "%%cython\n",
    "def cc_simple_loop():\n",
    "    acc = 0\n",
    "    for i in range(1000):\n",
    "        acc += i\n",
    "    return acc"
   ]
  },
  {
   "cell_type": "code",
   "execution_count": 21,
   "id": "9d268c23",
   "metadata": {},
   "outputs": [],
   "source": [
    "%%cython\n",
    "def cc_simple_loop2():\n",
    "    cdef int acc = 0\n",
    "    for i in range(1000):\n",
    "        acc += i\n",
    "    return acc"
   ]
  },
  {
   "cell_type": "code",
   "execution_count": 22,
   "id": "a18d08f8",
   "metadata": {},
   "outputs": [],
   "source": [
    "%%cython\n",
    "def cc_simple_loop3():\n",
    "    cdef int acc = 0\n",
    "    cdef int i = 0\n",
    "    for i in range(1000):\n",
    "        acc += i\n",
    "    return acc"
   ]
  },
  {
   "cell_type": "code",
   "execution_count": 11,
   "id": "a8ddcada",
   "metadata": {},
   "outputs": [
    {
     "name": "stdout",
     "output_type": "stream",
     "text": [
      "43.5 µs ± 2.32 µs per loop (mean ± std. dev. of 7 runs, 10,000 loops each)\n"
     ]
    }
   ],
   "source": [
    "%timeit simple_loop()"
   ]
  },
  {
   "cell_type": "code",
   "execution_count": 25,
   "id": "f2a32831",
   "metadata": {},
   "outputs": [
    {
     "name": "stdout",
     "output_type": "stream",
     "text": [
      "26.4 µs ± 850 ns per loop (mean ± std. dev. of 7 runs, 10,000 loops each)\n"
     ]
    }
   ],
   "source": [
    "%timeit cc_simple_loop()"
   ]
  },
  {
   "cell_type": "code",
   "execution_count": 26,
   "id": "652f3622",
   "metadata": {},
   "outputs": [
    {
     "name": "stdout",
     "output_type": "stream",
     "text": [
      "38.6 µs ± 774 ns per loop (mean ± std. dev. of 7 runs, 10,000 loops each)\n"
     ]
    }
   ],
   "source": [
    "%timeit cc_simple_loop2()"
   ]
  },
  {
   "cell_type": "code",
   "execution_count": 27,
   "id": "eec3b07e",
   "metadata": {},
   "outputs": [
    {
     "name": "stdout",
     "output_type": "stream",
     "text": [
      "42.7 ns ± 0.0479 ns per loop (mean ± std. dev. of 7 runs, 10,000,000 loops each)\n"
     ]
    }
   ],
   "source": [
    "%timeit cc_simple_loop3()"
   ]
  },
  {
   "cell_type": "code",
   "execution_count": null,
   "id": "a720b4ea",
   "metadata": {},
   "outputs": [],
   "source": []
  },
  {
   "cell_type": "code",
   "execution_count": null,
   "id": "3f7835d5",
   "metadata": {},
   "outputs": [],
   "source": []
  },
  {
   "cell_type": "markdown",
   "id": "c963b0c6",
   "metadata": {},
   "source": [
    "# plot "
   ]
  },
  {
   "cell_type": "code",
   "execution_count": 134,
   "id": "07de4996",
   "metadata": {
    "scrolled": false
   },
   "outputs": [
    {
     "data": {
      "text/plain": [
       "[<matplotlib.lines.Line2D at 0x7fa40101c340>]"
      ]
     },
     "execution_count": 134,
     "metadata": {},
     "output_type": "execute_result"
    },
    {
     "data": {
      "text/plain": [
       "[<matplotlib.lines.Line2D at 0x7fa40101c3a0>]"
      ]
     },
     "execution_count": 134,
     "metadata": {},
     "output_type": "execute_result"
    },
    {
     "data": {
      "text/plain": [
       "[<matplotlib.lines.Line2D at 0x7fa40101c760>]"
      ]
     },
     "execution_count": 134,
     "metadata": {},
     "output_type": "execute_result"
    },
    {
     "data": {
      "image/png": "[encoded data removed]",
      "text/plain": [
       "<Figure size 432x288 with 1 Axes>"
      ]
     },
     "metadata": {
      "needs_background": "light"
     },
     "output_type": "display_data"
    }
   ],
   "source": [
    "a = np.pi\n",
    "x = np.linspace(-a,a,100).astype(np.float128)\n",
    "y1 = np.zeros_like(x)\n",
    "# y = np.sin(x) + 0.02*np.sin(20*x)+ 0.03*np.sin(30*x)+ 0.05*np.sin(50*x)\n",
    "y = np.sin(x) + 0.02*np.sin(20*x)+ 0.02*np.sin(30*x)+0.02*np.sin(40*x)+ 0.05*np.sin(50*x)\n",
    "y2 = np.sin(50*x)\n",
    "plt.plot(x, y)\n",
    "plt.plot(x, y1)\n",
    "plt.plot(x, y2)"
   ]
  },
  {
   "cell_type": "code",
   "execution_count": 28,
   "id": "17356d0d",
   "metadata": {
    "scrolled": false
   },
   "outputs": [
    {
     "data": {
      "text/plain": [
       "[<matplotlib.lines.Line2D at 0x7f6411672c70>]"
      ]
     },
     "execution_count": 28,
     "metadata": {},
     "output_type": "execute_result"
    },
    {
     "data": {
      "text/plain": [
       "[<matplotlib.lines.Line2D at 0x7f6411672250>]"
      ]
     },
     "execution_count": 28,
     "metadata": {},
     "output_type": "execute_result"
    },
    {
     "data": {
      "text/plain": [
       "[<matplotlib.lines.Line2D at 0x7f6411672730>]"
      ]
     },
     "execution_count": 28,
     "metadata": {},
     "output_type": "execute_result"
    },
    {
     "data": {
      "image/png": "[encoded data removed]",
      "text/plain": [
       "<Figure size 432x288 with 1 Axes>"
      ]
     },
     "metadata": {
      "needs_background": "light"
     },
     "output_type": "display_data"
    }
   ],
   "source": [
    "a = np.pi\n",
    "x = np.linspace(-a,a,100).astype(np.float128)\n",
    "y1 = np.zeros_like(x)\n",
    "# y = np.sin(x) + 0.02*np.sin(20*x)+ 0.03*np.sin(30*x)+ 0.05*np.sin(50*x)\n",
    "y = np.cos(x) + 0.02*np.cos(20*x)+ 0.02*np.cos(30*x)+0.02*np.cos(40*x)+ 0.05*np.cos(50*x)\n",
    "y2 = np.cos(50*x)\n",
    "plt.plot(x, y)\n",
    "plt.plot(x, y1)\n",
    "plt.plot(x, y2)"
   ]
  },
  {
   "cell_type": "code",
   "execution_count": 220,
   "id": "392f9ea4",
   "metadata": {
    "scrolled": false
   },
   "outputs": [
    {
     "data": {
      "text/plain": [
       "[<matplotlib.lines.Line2D at 0x7f62a83bbf10>]"
      ]
     },
     "execution_count": 220,
     "metadata": {},
     "output_type": "execute_result"
    },
    {
     "data": {
      "text/plain": [
       "(200, 300)"
      ]
     },
     "execution_count": 220,
     "metadata": {},
     "output_type": "execute_result"
    },
    {
     "data": {
      "text/plain": [
       "<matplotlib.image.AxesImage at 0x7f62a8425ee0>"
      ]
     },
     "execution_count": 220,
     "metadata": {},
     "output_type": "execute_result"
    },
    {
     "name": "stderr",
     "output_type": "stream",
     "text": [
      "/opt/conda/lib/python3.9/site-packages/IPython/core/pylabtools.py:151: UserWarning: Casting input data from float128 to float64 for imshow\n",
      "  fig.canvas.print_figure(bytes_io, **kw)\n"
     ]
    },
    {
     "data": {
      "image/png": "[encoded data removed]",
      "text/plain": [
       "<Figure size 432x288 with 1 Axes>"
      ]
     },
     "metadata": {
      "needs_background": "light"
     },
     "output_type": "display_data"
    }
   ],
   "source": [
    "a = np.pi\n",
    "x2 = np.linspace(-a,a,100).astype(np.float128)\n",
    "x1 = np.linspace(-2*a,2*a,200).astype(np.float128)\n",
    "y1 = -np.ones_like(x1)\n",
    "\n",
    "# y = np.sin(x) + 0.02*np.sin(20*x)+ 0.03*np.sin(30*x)+ 0.05*np.sin(50*x)\n",
    "y2 = np.cos(x2)\n",
    "y2 += 0.02*np.cos(20*x2)+ 0.02*np.cos(30*x2)+0.02*np.cos(40*x2)+ 0.05*np.cos(50*x2)\n",
    "y1[50:150] = y2\n",
    "# y1 += 0.002*np.cos(20*x1)+ 0.01*np.cos(30*x1)+0.01*np.cos(40*x1)+ 0.01*np.cos(50*x1)\n",
    "for i in range(20, 50):\n",
    "    y1 += random.uniform(0.005, 0.01) * np.cos((i+random.uniform(0,10))*x1+random.uniform(-5,5))\n",
    "    \n",
    "# y2 = np.cos(50*x)\n",
    "# plt.plot(x, y)\n",
    "plt.plot(x1, y1)\n",
    "# plt.plot(x2, y2)\n",
    "y3 = y1.reshape(-1,1).repeat(300,1)\n",
    "y3.shape\n",
    "plt.imshow(y3)"
   ]
  },
  {
   "cell_type": "code",
   "execution_count": 233,
   "id": "f8838911",
   "metadata": {},
   "outputs": [
    {
     "data": {
      "text/plain": [
       "[<matplotlib.lines.Line2D at 0x7f62a8d6e4f0>]"
      ]
     },
     "execution_count": 233,
     "metadata": {},
     "output_type": "execute_result"
    },
    {
     "data": {
      "text/plain": [
       "(100, 300)"
      ]
     },
     "execution_count": 233,
     "metadata": {},
     "output_type": "execute_result"
    },
    {
     "name": "stderr",
     "output_type": "stream",
     "text": [
      "ic| A: array([[ 0.98480775,  0.17364818, -6.40357184],\n",
      "              [-0.17364818,  0.98480775, 26.806839  ]])\n"
     ]
    },
    {
     "data": {
      "text/plain": [
       "array([[ 0.98480775,  0.17364818, -6.40357184],\n",
       "       [-0.17364818,  0.98480775, 26.806839  ]])"
      ]
     },
     "execution_count": 233,
     "metadata": {},
     "output_type": "execute_result"
    },
    {
     "data": {
      "text/plain": [
       "(1.0433550999103576513, -1.0815453911530944813)"
      ]
     },
     "execution_count": 233,
     "metadata": {},
     "output_type": "execute_result"
    },
    {
     "data": {
      "text/plain": [
       "<matplotlib.image.AxesImage at 0x7f62a8d57580>"
      ]
     },
     "execution_count": 233,
     "metadata": {},
     "output_type": "execute_result"
    },
    {
     "data": {
      "image/png": "[encoded data removed]",
      "text/plain": [
       "<Figure size 432x288 with 1 Axes>"
      ]
     },
     "metadata": {
      "needs_background": "light"
     },
     "output_type": "display_data"
    }
   ],
   "source": [
    "### a = np.pi\n",
    "x2 = np.linspace(-a,a,100).astype(np.float128)\n",
    "x1 = np.linspace(-2*a,2*a,200).astype(np.float128)\n",
    "y1 = -np.ones_like(x1)\n",
    "\n",
    "# y = np.sin(x) + 0.02*np.sin(20*x)+ 0.03*np.sin(30*x)+ 0.05*np.sin(50*x)\n",
    "y2 = np.cos(x2)\n",
    "y2 += 0.02*np.cos(20*x2)+ 0.02*np.cos(30*x2)+0.02*np.cos(40*x2)+ 0.05*np.cos(50*x2)\n",
    "y1[50:150] = y2\n",
    "# y1 += 0.002*np.cos(20*x1)+ 0.01*np.cos(30*x1)+0.01*np.cos(40*x1)+ 0.01*np.cos(50*x1)\n",
    "for i in range(20, 50):\n",
    "    y1 += random.uniform(0.005, 0.01) * np.cos((i+random.uniform(0,10))*x1+random.uniform(-5,5))\n",
    "    \n",
    "# y2 = np.cos(50*x)\n",
    "# plt.plot(x, y)\n",
    "plt.plot(x1, y1)\n",
    "# plt.plot(x2, y2)\n",
    "y3 = y1[50:-50].reshape(-1,1).repeat(300,1)\n",
    "y3.shape\n",
    "h, w = y3.shape[:2]\n",
    "angle = 10\n",
    "scale = 1\n",
    "border = 0\n",
    "A = cv2.getRotationMatrix2D(center=(w // 2, h // 2), angle=angle, scale=scale)\n",
    "# y3 = cv2.warpAffine(y3, A, (w, h), borderValue=border)\n",
    "ic(A)\n",
    "y3.max(), y3.min()\n",
    "y3 = (y3 - y3.min()) / (y3.max() - y3.min())\n",
    "y3 *= 255\n",
    "y3 = y3.astype(np.uint8)\n",
    "y3 = cv2.warpAffine(y3, A, (w, h), borderValue=border)\n",
    "y3 = y3[:, 10:-10]\n",
    "plt.imshow(y3)"
   ]
  },
  {
   "cell_type": "code",
   "execution_count": 217,
   "id": "2b06ffa9",
   "metadata": {},
   "outputs": [],
   "source": [
    "np.repeat?"
   ]
  },
  {
   "cell_type": "code",
   "execution_count": 132,
   "id": "750b93bc",
   "metadata": {
    "scrolled": false
   },
   "outputs": [
    {
     "data": {
      "text/plain": [
       "[<matplotlib.lines.Line2D at 0x7f62aaa9bf10>]"
      ]
     },
     "execution_count": 132,
     "metadata": {},
     "output_type": "execute_result"
    },
    {
     "data": {
      "image/png": "[encoded data removed]",
      "text/plain": [
       "<Figure size 432x288 with 1 Axes>"
      ]
     },
     "metadata": {
      "needs_background": "light"
     },
     "output_type": "display_data"
    }
   ],
   "source": [
    "a = np.pi/2\n",
    "x2 = np.linspace(-a,a,100).astype(np.float128)\n",
    "x1 = np.linspace(-2*a,2*a,200).astype(np.float128)\n",
    "y1 = np.r_[-np.ones_like(x2), np.ones_like(x2)]\n",
    "\n",
    "# y = np.sin(x) + 0.02*np.sin(20*x)+ 0.03*np.sin(30*x)+ 0.05*np.sin(50*x)\n",
    "y2 = np.sin(x2)\n",
    "y2 += 0.02*np.sin(20*x2)+ 0.02*np.sin(30*x2)+0.02*np.sin(40*x2)+ 0.05*np.sin(50*x2)\n",
    "y1[50:150] = y2\n",
    "# y1 += 0.002*np.cos(20*x1)+ 0.01*np.cos(30*x1)+0.01*np.cos(40*x1)+ 0.01*np.cos(50*x1)\n",
    "for i in range(20, 50):\n",
    "    y1 += random.uniform(0.005, 0.01) * np.cos((i+random.uniform(0,10))*x1+random.uniform(-5,5))\n",
    "    \n",
    "# y2 = np.cos(50*x)\n",
    "# plt.plot(x, y)\n",
    "plt.plot(x1, y1)\n",
    "# plt.plot(x2, y2)"
   ]
  },
  {
   "cell_type": "code",
   "execution_count": 137,
   "id": "495f90be",
   "metadata": {
    "scrolled": true
   },
   "outputs": [
    {
     "data": {
      "text/plain": [
       "[<matplotlib.lines.Line2D at 0x7f62aa27c850>]"
      ]
     },
     "execution_count": 137,
     "metadata": {},
     "output_type": "execute_result"
    },
    {
     "data": {
      "image/png": "[encoded data removed]",
      "text/plain": [
       "<Figure size 432x288 with 1 Axes>"
      ]
     },
     "metadata": {
      "needs_background": "light"
     },
     "output_type": "display_data"
    }
   ],
   "source": [
    "x = np.linspace(-5,5,100)\n",
    "y = 1 / (1 + np.exp(np.abs(-x)))\n",
    "plt.plot(x, y)"
   ]
  },
  {
   "cell_type": "code",
   "execution_count": 142,
   "id": "380742b2",
   "metadata": {
    "scrolled": true
   },
   "outputs": [
    {
     "data": {
      "text/plain": [
       "[<matplotlib.lines.Line2D at 0x7f62aa290220>]"
      ]
     },
     "execution_count": 142,
     "metadata": {},
     "output_type": "execute_result"
    },
    {
     "data": {
      "image/png": "[encoded data removed]",
      "text/plain": [
       "<Figure size 432x288 with 1 Axes>"
      ]
     },
     "metadata": {
      "needs_background": "light"
     },
     "output_type": "display_data"
    }
   ],
   "source": [
    "x = np.linspace(-5,5,100)\n",
    "y = 0.01*x**4\n",
    "plt.plot(x, y)"
   ]
  },
  {
   "cell_type": "code",
   "execution_count": 140,
   "id": "a12c326c",
   "metadata": {},
   "outputs": [
    {
     "data": {
      "text/plain": [
       "2.302585092994046"
      ]
     },
     "execution_count": 140,
     "metadata": {},
     "output_type": "execute_result"
    },
    {
     "data": {
      "text/plain": [
       "2.3025850929940455"
      ]
     },
     "execution_count": 140,
     "metadata": {},
     "output_type": "execute_result"
    }
   ],
   "source": [
    "np.log(10)\n",
    "np.log(2) + np.log(5)"
   ]
  },
  {
   "cell_type": "code",
   "execution_count": 149,
   "id": "c0d93d9c",
   "metadata": {
    "scrolled": true
   },
   "outputs": [
    {
     "data": {
      "text/plain": [
       "[<matplotlib.lines.Line2D at 0x7f62a9ec3340>]"
      ]
     },
     "execution_count": 149,
     "metadata": {},
     "output_type": "execute_result"
    },
    {
     "data": {
      "image/png": "[encoded data removed]",
      "text/plain": [
       "<Figure size 432x288 with 1 Axes>"
      ]
     },
     "metadata": {
      "needs_background": "light"
     },
     "output_type": "display_data"
    }
   ],
   "source": [
    "a = np.pi/2\n",
    "x = np.linspace(-a,a,100)\n",
    "y = np.sin(x**4)\n",
    "plt.plot(x, y)"
   ]
  },
  {
   "cell_type": "code",
   "execution_count": 153,
   "id": "8315ed19",
   "metadata": {
    "scrolled": true
   },
   "outputs": [
    {
     "data": {
      "text/plain": [
       "[<matplotlib.lines.Line2D at 0x7f62aa4be760>]"
      ]
     },
     "execution_count": 153,
     "metadata": {},
     "output_type": "execute_result"
    },
    {
     "data": {
      "image/png": "[encoded data removed]",
      "text/plain": [
       "<Figure size 432x288 with 1 Axes>"
      ]
     },
     "metadata": {
      "needs_background": "light"
     },
     "output_type": "display_data"
    }
   ],
   "source": [
    "a = np.pi/2\n",
    "x = np.linspace(-a,a,100)\n",
    "y = np.sin(np.exp(x**2))\n",
    "plt.plot(x, y)"
   ]
  },
  {
   "cell_type": "code",
   "execution_count": 156,
   "id": "64860e59",
   "metadata": {
    "scrolled": true
   },
   "outputs": [
    {
     "data": {
      "text/plain": [
       "[<matplotlib.lines.Line2D at 0x7f62aa5ddc40>]"
      ]
     },
     "execution_count": 156,
     "metadata": {},
     "output_type": "execute_result"
    },
    {
     "data": {
      "image/png": "[encoded data removed]",
      "text/plain": [
       "<Figure size 432x288 with 1 Axes>"
      ]
     },
     "metadata": {
      "needs_background": "light"
     },
     "output_type": "display_data"
    }
   ],
   "source": [
    "a = np.pi/2\n",
    "x = np.linspace(-a,a,100)\n",
    "y = np.sin(np.exp(x**2))+np.cos(np.exp(x**2))\n",
    "plt.plot(x, y)"
   ]
  },
  {
   "cell_type": "code",
   "execution_count": 161,
   "id": "ffc2da07",
   "metadata": {
    "scrolled": true
   },
   "outputs": [
    {
     "data": {
      "text/plain": [
       "[<matplotlib.lines.Line2D at 0x7f62a9f76820>]"
      ]
     },
     "execution_count": 161,
     "metadata": {},
     "output_type": "execute_result"
    },
    {
     "data": {
      "image/png": "[encoded data removed]",
      "text/plain": [
       "<Figure size 432x288 with 1 Axes>"
      ]
     },
     "metadata": {
      "needs_background": "light"
     },
     "output_type": "display_data"
    }
   ],
   "source": [
    "a = np.pi\n",
    "x = np.linspace(-a,a,100)\n",
    "y = 1*np.sin(x**2)+ 1*np.cos(x**2)\n",
    "\n",
    "plt.plot(x, y)"
   ]
  },
  {
   "cell_type": "code",
   "execution_count": 165,
   "id": "7f5108ad",
   "metadata": {
    "scrolled": true
   },
   "outputs": [
    {
     "data": {
      "text/plain": [
       "[<matplotlib.lines.Line2D at 0x7f62a9c77fd0>]"
      ]
     },
     "execution_count": 165,
     "metadata": {},
     "output_type": "execute_result"
    },
    {
     "data": {
      "image/png": "[encoded data removed]",
      "text/plain": [
       "<Figure size 432x288 with 1 Axes>"
      ]
     },
     "metadata": {
      "needs_background": "light"
     },
     "output_type": "display_data"
    }
   ],
   "source": [
    "a = np.pi\n",
    "x = np.linspace(-a,a,100)\n",
    "y = 1*np.sin(np.log(1+x**2))+ 1*np.cos(np.log(x**2+1))\n",
    "\n",
    "plt.plot(x, y)"
   ]
  },
  {
   "cell_type": "code",
   "execution_count": 177,
   "id": "46d0e416",
   "metadata": {
    "scrolled": true
   },
   "outputs": [
    {
     "data": {
      "text/plain": [
       "[<matplotlib.lines.Line2D at 0x7f62a9a65fd0>]"
      ]
     },
     "execution_count": 177,
     "metadata": {},
     "output_type": "execute_result"
    },
    {
     "data": {
      "image/png": "[encoded data removed]",
      "text/plain": [
       "<Figure size 432x288 with 1 Axes>"
      ]
     },
     "metadata": {
      "needs_background": "light"
     },
     "output_type": "display_data"
    }
   ],
   "source": [
    "a = np.pi\n",
    "x = np.linspace(-a,a,100)\n",
    "y = 0.01 / (np.exp(np.sin(x**2)))+ 0.1 / (1 + np.exp(np.cos(x**2)))\n",
    "\n",
    "plt.plot(x, y)"
   ]
  },
  {
   "cell_type": "code",
   "execution_count": 194,
   "id": "f333fdb6",
   "metadata": {
    "scrolled": true
   },
   "outputs": [
    {
     "data": {
      "text/plain": [
       "[<matplotlib.lines.Line2D at 0x7f62a932d160>]"
      ]
     },
     "execution_count": 194,
     "metadata": {},
     "output_type": "execute_result"
    },
    {
     "data": {
      "image/png": "[encoded data removed]",
      "text/plain": [
       "<Figure size 432x288 with 1 Axes>"
      ]
     },
     "metadata": {
      "needs_background": "light"
     },
     "output_type": "display_data"
    }
   ],
   "source": [
    "a = np.pi*2\n",
    "x = np.linspace(-a,a,200)\n",
    "y = 0.1 / (np.log(2+np.sin(x**4)))+ 0.1 / (np.log(2+np.cos(x**4)))\n",
    "\n",
    "plt.plot(x, y)"
   ]
  },
  {
   "cell_type": "code",
   "execution_count": null,
   "id": "f507262a",
   "metadata": {},
   "outputs": [],
   "source": []
  },
  {
   "cell_type": "code",
   "execution_count": null,
   "id": "33674d1a",
   "metadata": {},
   "outputs": [],
   "source": []
  },
  {
   "cell_type": "code",
   "execution_count": null,
   "id": "ce09b4d4",
   "metadata": {},
   "outputs": [],
   "source": []
  },
  {
   "cell_type": "code",
   "execution_count": null,
   "id": "21202fec",
   "metadata": {},
   "outputs": [],
   "source": []
  },
  {
   "cell_type": "code",
   "execution_count": 135,
   "id": "dd00f9cd",
   "metadata": {},
   "outputs": [],
   "source": [
    "from uuid import uuid1"
   ]
  },
  {
   "cell_type": "code",
   "execution_count": 141,
   "id": "c6469fd7",
   "metadata": {},
   "outputs": [
    {
     "data": {
      "text/plain": [
       "uuid.UUID"
      ]
     },
     "execution_count": 141,
     "metadata": {},
     "output_type": "execute_result"
    },
    {
     "data": {
      "text/plain": [
       "'1e9eb2e1-e0bb-11ec-b8a9-193adce9d3f7'"
      ]
     },
     "execution_count": 141,
     "metadata": {},
     "output_type": "execute_result"
    }
   ],
   "source": [
    "a = uuid1()\n",
    "type(a)\n",
    "b = f\"{a}\"\n",
    "b"
   ]
  },
  {
   "cell_type": "code",
   "execution_count": 108,
   "id": "f4dd9adf",
   "metadata": {},
   "outputs": [
    {
     "data": {
      "text/plain": [
       "[<matplotlib.lines.Line2D at 0x7fa401c8b070>]"
      ]
     },
     "execution_count": 108,
     "metadata": {},
     "output_type": "execute_result"
    },
    {
     "data": {
      "text/plain": [
       "[<matplotlib.lines.Line2D at 0x7fa401c8dbb0>]"
      ]
     },
     "execution_count": 108,
     "metadata": {},
     "output_type": "execute_result"
    },
    {
     "data": {
      "image/png": "[encoded data removed]",
      "text/plain": [
       "<Figure size 432x288 with 1 Axes>"
      ]
     },
     "metadata": {
      "needs_background": "light"
     },
     "output_type": "display_data"
    }
   ],
   "source": [
    "a = np.pi\n",
    "x = np.linspace(-a,a,100)\n",
    "y1 = np.zeros_like(x)\n",
    "y = np.sin(x) + 1*np.sin(100*x)\n",
    "y2 = np.sin(99*x)\n",
    "plt.plot(x, y2)\n",
    "plt.plot(x, y1)\n",
    "# plt.plot(x, y2)"
   ]
  },
  {
   "cell_type": "code",
   "execution_count": null,
   "id": "4cabe47a",
   "metadata": {},
   "outputs": [],
   "source": []
  },
  {
   "cell_type": "code",
   "execution_count": null,
   "id": "83120f5a",
   "metadata": {},
   "outputs": [],
   "source": []
  },
  {
   "cell_type": "code",
   "execution_count": null,
   "id": "4e3d28e0",
   "metadata": {},
   "outputs": [],
   "source": []
  },
  {
   "cell_type": "code",
   "execution_count": null,
   "id": "18068b7a",
   "metadata": {},
   "outputs": [],
   "source": []
  },
  {
   "cell_type": "code",
   "execution_count": null,
   "id": "96139df9",
   "metadata": {},
   "outputs": [],
   "source": []
  },
  {
   "cell_type": "code",
   "execution_count": 36,
   "id": "15fb9fb5",
   "metadata": {},
   "outputs": [],
   "source": [
    "from mpl_toolkits.mplot3d.axes3d import Axes3D"
   ]
  },
  {
   "cell_type": "code",
   "execution_count": 63,
   "id": "2c61a0a9",
   "metadata": {},
   "outputs": [
    {
     "data": {
      "text/plain": [
       "0.5619639135717194"
      ]
     },
     "execution_count": 63,
     "metadata": {},
     "output_type": "execute_result"
    }
   ],
   "source": [
    "random.random()"
   ]
  },
  {
   "cell_type": "code",
   "execution_count": 37,
   "id": "0b5fdc2c",
   "metadata": {},
   "outputs": [
    {
     "name": "stderr",
     "output_type": "stream",
     "text": [
      "/tmp/ipykernel_692/4217533370.py:5: MatplotlibDeprecationWarning: Axes3D(fig) adding itself to the figure is deprecated since 3.4. Pass the keyword argument auto_add_to_figure=False and use fig.add_axes(ax) to suppress this warning. The default value of auto_add_to_figure will change to False in mpl3.5 and True values will no longer work in 3.6.  This is consistent with other Axes classes.\n",
      "  ax = Axes3D(fig)\n"
     ]
    },
    {
     "data": {
      "text/plain": [
       "<mpl_toolkits.mplot3d.art3d.Poly3DCollection at 0x7fa4077dcc40>"
      ]
     },
     "execution_count": 37,
     "metadata": {},
     "output_type": "execute_result"
    },
    {
     "data": {
      "text/plain": [
       "<matplotlib.contour.QuadContourSet at 0x7fa407bd2ca0>"
      ]
     },
     "execution_count": 37,
     "metadata": {},
     "output_type": "execute_result"
    },
    {
     "data": {
      "text/plain": [
       "(-2.0, 2.0)"
      ]
     },
     "execution_count": 37,
     "metadata": {},
     "output_type": "execute_result"
    },
    {
     "data": {
      "image/png": "[encoded data removed]",
      "text/plain": [
       "<Figure size 432x288 with 1 Axes>"
      ]
     },
     "metadata": {
      "needs_background": "light"
     },
     "output_type": "display_data"
    }
   ],
   "source": [
    "# 定义figure\n",
    "fig = plt.figure()\n",
    "# 创建3d图形的两种方式\n",
    "# 将figure变为3d\n",
    "ax = Axes3D(fig)\n",
    "\n",
    "#ax = fig.add_subplot(111, projection='3d')\n",
    "\n",
    "# 定义x, y\n",
    "x = np.arange(-4, 4, 0.25)\n",
    "y = np.arange(-4, 4, 0.25)\n",
    "\n",
    "# 生成网格数据\n",
    "X, Y = np.meshgrid(x, y)\n",
    "\n",
    "# 计算每个点对的长度\n",
    "R = np.sqrt(X ** 2 + Y ** 2)\n",
    "# 计算Z轴的高度\n",
    "Z = np.sin(R)\n",
    "\n",
    "# 绘制3D曲面\n",
    "\n",
    "\n",
    "# rstride:行之间的跨度  cstride:列之间的跨度\n",
    "# rcount:设置间隔个数，默认50个，ccount:列的间隔个数  不能与上面两个参数同时出现\n",
    "\n",
    "\n",
    "# cmap是颜色映射表\n",
    "# from matplotlib import cm\n",
    "# ax.plot_surface(X, Y, Z, rstride = 1, cstride = 1, cmap = cm.coolwarm)\n",
    "# cmap = \"rainbow\" 亦可\n",
    "# 我的理解的 改变cmap参数可以控制三维曲面的颜色组合, 一般我们见到的三维曲面就是 rainbow 的\n",
    "# 你也可以修改 rainbow 为 coolwarm, 验证我的结论\n",
    "ax.plot_surface(X, Y, Z, rstride = 1, cstride = 1, cmap = plt.get_cmap('rainbow'))\n",
    "\n",
    "# 绘制从3D曲面到底部的投影,zdir 可选 'z'|'x'|'y'| 分别表示投影到z,x,y平面\n",
    "# zdir = 'z', offset = -2 表示投影到z = -2上\n",
    "ax.contour(X, Y, Z, zdir = 'z', offset = -2, cmap = plt.get_cmap('rainbow'))\n",
    "\n",
    "# 设置z轴的维度，x,y类似\n",
    "ax.set_zlim(-2, 2)\n",
    "\n",
    "plt.show()"
   ]
  },
  {
   "cell_type": "code",
   "execution_count": 39,
   "id": "72f1ed4d",
   "metadata": {},
   "outputs": [
    {
     "data": {
      "text/plain": [
       "array([[-0.58617619, -0.7175353 , -0.82381719, ..., -0.90411471,\n",
       "        -0.82381719, -0.7175353 ],\n",
       "       [-0.7175353 , -0.830433  , -0.91423432, ..., -0.96892001,\n",
       "        -0.91423432, -0.830433  ],\n",
       "       [-0.82381719, -0.91423432, -0.97196248, ..., -0.99796201,\n",
       "        -0.97196248, -0.91423432],\n",
       "       ...,\n",
       "       [-0.90411471, -0.96892001, -0.99796201, ..., -0.99325696,\n",
       "        -0.99796201, -0.96892001],\n",
       "       [-0.82381719, -0.91423432, -0.97196248, ..., -0.99796201,\n",
       "        -0.97196248, -0.91423432],\n",
       "       [-0.7175353 , -0.830433  , -0.91423432, ..., -0.96892001,\n",
       "        -0.91423432, -0.830433  ]])"
      ]
     },
     "execution_count": 39,
     "metadata": {},
     "output_type": "execute_result"
    }
   ],
   "source": [
    "# 定义x, y\n",
    "x = np.arange(-4, 4, 0.25)\n",
    "y = np.arange(-4, 4, 0.25)\n",
    "\n",
    "# 生成网格数据\n",
    "X, Y = np.meshgrid(x, y)\n",
    "\n",
    "# 计算每个点对的长度\n",
    "R = np.sqrt(X ** 2 + Y ** 2)\n",
    "# 计算Z轴的高度\n",
    "Z = np.sin(R)\n",
    "Z"
   ]
  },
  {
   "cell_type": "code",
   "execution_count": 41,
   "id": "98250093",
   "metadata": {},
   "outputs": [
    {
     "data": {
      "text/plain": [
       "array([[0.20691324, 0.14123158, 0.08808894, ..., 0.04793889, 0.08808894,\n",
       "        0.14123158],\n",
       "       [0.14123158, 0.08478092, 0.04287892, ..., 0.0155352 , 0.04287892,\n",
       "        0.08478092],\n",
       "       [0.08808894, 0.04287892, 0.01401392, ..., 0.00101374, 0.01401392,\n",
       "        0.04287892],\n",
       "       ...,\n",
       "       [0.04793889, 0.0155352 , 0.00101374, ..., 0.00336633, 0.00101374,\n",
       "        0.0155352 ],\n",
       "       [0.08808894, 0.04287892, 0.01401392, ..., 0.00101374, 0.01401392,\n",
       "        0.04287892],\n",
       "       [0.14123158, 0.08478092, 0.04287892, ..., 0.0155352 , 0.04287892,\n",
       "        0.08478092]])"
      ]
     },
     "execution_count": 41,
     "metadata": {},
     "output_type": "execute_result"
    },
    {
     "data": {
      "text/plain": [
       "<matplotlib.image.AxesImage at 0x7fa402fb2040>"
      ]
     },
     "execution_count": 41,
     "metadata": {},
     "output_type": "execute_result"
    },
    {
     "data": {
      "image/png": "[encoded data removed]",
      "text/plain": [
       "<Figure size 432x288 with 1 Axes>"
      ]
     },
     "metadata": {
      "needs_background": "light"
     },
     "output_type": "display_data"
    }
   ],
   "source": [
    "z = (Z - np.min(Z))/(np.max(Z) - np.min(Z))\n",
    "z\n",
    "plt.imshow(z)"
   ]
  },
  {
   "cell_type": "markdown",
   "id": "a4505ece",
   "metadata": {},
   "source": [
    "# numpy "
   ]
  },
  {
   "cell_type": "code",
   "execution_count": null,
   "id": "c3a79bf7",
   "metadata": {},
   "outputs": [],
   "source": []
  },
  {
   "cell_type": "code",
   "execution_count": null,
   "id": "fe5933b8",
   "metadata": {},
   "outputs": [],
   "source": []
  },
  {
   "cell_type": "code",
   "execution_count": 643,
   "id": "c5638fed",
   "metadata": {},
   "outputs": [
    {
     "data": {
      "text/plain": [
       "array([6, 9, 5, 8, 2, 6, 7, 3, 4, 6, 0, 3, 6, 1, 8, 6, 3, 2, 4, 7, 1, 5,\n",
       "       7, 2, 0, 2, 9, 0, 2, 7, 1, 4, 4, 5, 8, 5, 6, 0, 9, 1, 1, 4, 8, 5,\n",
       "       4, 6, 5, 6, 6, 2, 3, 7, 0, 1, 3, 3, 4, 9, 2, 7, 4, 6, 3, 5, 5, 9,\n",
       "       1, 6, 2, 1, 7, 4, 1, 7, 3, 9, 6, 5, 6, 6, 5, 4, 6, 7, 1, 0, 2, 6,\n",
       "       3, 3, 6, 2, 3, 3, 8, 4, 2, 7, 8, 8])"
      ]
     },
     "execution_count": 643,
     "metadata": {},
     "output_type": "execute_result"
    }
   ],
   "source": [
    "a = np.arange(10)\n",
    "np.random.choice(a, (100,))"
   ]
  },
  {
   "cell_type": "code",
   "execution_count": 646,
   "id": "fe4160e1",
   "metadata": {},
   "outputs": [],
   "source": [
    "from tqdm import tqdm, trange\n"
   ]
  },
  {
   "cell_type": "code",
   "execution_count": 649,
   "id": "47258bb6",
   "metadata": {},
   "outputs": [
    {
     "name": "stderr",
     "output_type": "stream",
     "text": [
      " 10%|█████████████                                                                                                                      | 1/10 [00:01<00:09,  1.00s/it]"
     ]
    },
    {
     "data": {
      "text/plain": [
       "True"
      ]
     },
     "execution_count": 649,
     "metadata": {},
     "output_type": "execute_result"
    },
    {
     "name": "stderr",
     "output_type": "stream",
     "text": [
      " 10%|█████████████                                                                                                                      | 1/10 [00:01<00:09,  1.01s/it]\n"
     ]
    }
   ],
   "source": [
    "with trange(10) as pbar:\n",
    "    time.sleep(1)\n",
    "    pbar.update()"
   ]
  },
  {
   "cell_type": "code",
   "execution_count": 651,
   "id": "94cbf1a1",
   "metadata": {},
   "outputs": [],
   "source": [
    "import random"
   ]
  },
  {
   "cell_type": "code",
   "execution_count": 656,
   "id": "da9a8fe1",
   "metadata": {},
   "outputs": [],
   "source": [
    "random.choices?"
   ]
  },
  {
   "cell_type": "code",
   "execution_count": 659,
   "id": "7e3b7292",
   "metadata": {},
   "outputs": [
    {
     "data": {
      "text/plain": [
       "['h', 'e', 'l', 'l', 'o']"
      ]
     },
     "execution_count": 659,
     "metadata": {},
     "output_type": "execute_result"
    }
   ],
   "source": [
    "a = \"hello\"\n",
    "list(a)"
   ]
  },
  {
   "cell_type": "code",
   "execution_count": 661,
   "id": "9938216d",
   "metadata": {},
   "outputs": [
    {
     "data": {
      "text/plain": [
       "(1.4947033898305084, 1.3333333333333333)"
      ]
     },
     "execution_count": 661,
     "metadata": {},
     "output_type": "execute_result"
    }
   ],
   "source": [
    "1411/944, 1024/768"
   ]
  },
  {
   "cell_type": "code",
   "execution_count": 684,
   "id": "914e75c3",
   "metadata": {},
   "outputs": [
    {
     "data": {
      "text/plain": [
       "(2, 0)"
      ]
     },
     "execution_count": 684,
     "metadata": {},
     "output_type": "execute_result"
    }
   ],
   "source": [
    "random.randint(0,2), np.random.randint(0,2)"
   ]
  },
  {
   "cell_type": "code",
   "execution_count": 685,
   "id": "306649c6",
   "metadata": {},
   "outputs": [
    {
     "data": {
      "text/plain": [
       "(1, 0, 0, 1)"
      ]
     },
     "execution_count": 685,
     "metadata": {},
     "output_type": "execute_result"
    }
   ],
   "source": [
    "# 1^0, 1^1, 0^0, 0^1"
   ]
  },
  {
   "cell_type": "code",
   "execution_count": 688,
   "id": "9c6f39b5",
   "metadata": {},
   "outputs": [
    {
     "data": {
      "text/plain": [
       "{'a': 1, 'b': 2}"
      ]
     },
     "execution_count": 688,
     "metadata": {},
     "output_type": "execute_result"
    }
   ],
   "source": [
    "a = dict(a=1, b=2)\n",
    "a"
   ]
  },
  {
   "cell_type": "code",
   "execution_count": null,
   "id": "1463fb5d",
   "metadata": {},
   "outputs": [],
   "source": []
  },
  {
   "cell_type": "code",
   "execution_count": null,
   "id": "e7e4920e",
   "metadata": {},
   "outputs": [],
   "source": []
  },
  {
   "cell_type": "code",
   "execution_count": null,
   "id": "5997e44b",
   "metadata": {},
   "outputs": [],
   "source": []
  },
  {
   "cell_type": "code",
   "execution_count": null,
   "id": "11bbecab",
   "metadata": {},
   "outputs": [],
   "source": []
  },
  {
   "cell_type": "markdown",
   "id": "865d3bc8",
   "metadata": {},
   "source": [
    "## reverseBit"
   ]
  },
  {
   "cell_type": "code",
   "execution_count": 638,
   "id": "b618206b",
   "metadata": {},
   "outputs": [
    {
     "data": {
      "text/plain": [
       "array([2360. , 3527.5])"
      ]
     },
     "execution_count": 638,
     "metadata": {},
     "output_type": "execute_result"
    }
   ],
   "source": [
    "a = np.array([4720,7055])* 0.5()\n",
    "\n",
    "a"
   ]
  },
  {
   "cell_type": "code",
   "execution_count": 632,
   "id": "52dfa313",
   "metadata": {},
   "outputs": [
    {
     "data": {
      "text/plain": [
       "(37, '0b100101')"
      ]
     },
     "execution_count": 632,
     "metadata": {},
     "output_type": "execute_result"
    },
    {
     "data": {
      "text/plain": [
       "(0, '0b0', 1)"
      ]
     },
     "execution_count": 632,
     "metadata": {},
     "output_type": "execute_result"
    }
   ],
   "source": [
    "def dfs(n, m):\n",
    "    if (m == 1):\n",
    "        return n\n",
    "    m >>= 1\n",
    "    a = dfs(n>>m, m)\n",
    "    b = dfs(n&(m-1), m)\n",
    "    c = b << m + a\n",
    "    return c\n",
    "def reverseBits(n):\n",
    "    ans = dfs(n, 32)\n",
    "    return ans\n",
    "a = int(\"100101\",2)\n",
    "a, bin(a)\n",
    "b = reverseBits(a)\n",
    "b, bin(b), len(bin(b)[2:])"
   ]
  },
  {
   "cell_type": "code",
   "execution_count": 634,
   "id": "43779088",
   "metadata": {},
   "outputs": [
    {
     "data": {
      "text/plain": [
       "16.0"
      ]
     },
     "execution_count": 634,
     "metadata": {},
     "output_type": "execute_result"
    }
   ],
   "source": [
    "np.log2(65536)"
   ]
  },
  {
   "cell_type": "markdown",
   "id": "cde2f35b",
   "metadata": {},
   "source": [
    "const uint32_t M1 = 0x55555555;  // 01010101010101010101010101010101\n",
    "const uint32_t M2 = 0x33333333;  // 00110011001100110011001100110011\n",
    "const uint32_t M4 = 0x0f0f0f0f;  // 00001111000011110000111100001111\n",
    "const uint32_t M8 = 0x00ff00ff;  // 00000000111111110000000011111111\n",
    "\n",
    "uint32_t reverseBits(uint32_t n) {\n",
    "    n = n >> 1 & M1 | (n & M1) << 1;\n",
    "    n = n >> 2 & M2 | (n & M2) << 2;\n",
    "    n = n >> 4 & M4 | (n & M4) << 4;\n",
    "    n = n >> 8 & M8 | (n & M8) << 8;\n",
    "    return n >> 16 | n << 16;\n",
    "}\n"
   ]
  },
  {
   "cell_type": "code",
   "execution_count": 601,
   "id": "81e73b7a",
   "metadata": {},
   "outputs": [],
   "source": [
    "M1 = 0x55555555  # 01010101010101010101010101010101\n",
    "M2 = 0x33333333  # 00110011001100110011001100110011\n",
    "M4 = 0x0f0f0f0f  # 00001111000011110000111100001111\n",
    "M8 = 0x00ff00ff  # 00000000111111110000000011111111"
   ]
  },
  {
   "cell_type": "code",
   "execution_count": 628,
   "id": "411244b3",
   "metadata": {},
   "outputs": [
    {
     "data": {
      "text/plain": [
       "(37, '0b100101')"
      ]
     },
     "execution_count": 628,
     "metadata": {},
     "output_type": "execute_result"
    },
    {
     "name": "stderr",
     "output_type": "stream",
     "text": [
      "ic| n: 37, bin(n): '0b100101'\n",
      "ic| n: 26\n",
      "    bin(n): '0b11010'\n",
      "    bin(x): '0b10000'\n",
      "    bin(y): '0b1010'\n",
      "    bin(x|y): '0b11010'\n",
      "ic| n: 74\n",
      "    bin(n): '0b1001010'\n",
      "    bin(x): '0b10'\n",
      "    bin(y): '0b1001000'\n",
      "    bin(x|y): '0b1001010'\n",
      "ic| n: 164\n",
      "    bin(n): '0b10100100'\n",
      "    bin(x): '0b100'\n",
      "    bin(y): '0b10100000'\n",
      "    bin(x|y): '0b10100100'\n",
      "ic| n: 41984\n",
      "    bin(n): '0b1010010000000000'\n",
      "    bin(x): '0b0'\n",
      "    bin(y): '0b1010010000000000'\n",
      "    bin(x|y): '0b1010010000000000'\n"
     ]
    },
    {
     "data": {
      "text/plain": [
       "(2751463424, '0b10100100000000000000000000000000', 32)"
      ]
     },
     "execution_count": 628,
     "metadata": {},
     "output_type": "execute_result"
    }
   ],
   "source": [
    "def reverseBits(n):\n",
    "    ic(n, bin(n))\n",
    "    x = (n>>1 & M1)\n",
    "    y = ((n & M1)<<1) \n",
    "    n = ((n >> 1) & M1) | ((n & M1) << 1)\n",
    "    ic(n, bin(n), bin(x), bin(y), bin(x|y))\n",
    "    x = (n>>2 & M2)\n",
    "    y = ((n & M2)<<2) \n",
    "    n = n >> 2 & M2 | (n & M2) << 2\n",
    "    ic(n, bin(n), bin(x), bin(y), bin(x|y))\n",
    "    x = (n>>4 & M4)\n",
    "    y = ((n & M4)<<4) \n",
    "    n = n >> 4 & M4 | (n & M4) << 4\n",
    "    ic(n, bin(n), bin(x), bin(y), bin(x|y))\n",
    "    x = (n>>8 & M8)\n",
    "    y = ((n & M8)<<8)\n",
    "    n = n >> 8 & M8 | (n & M8) << 8\n",
    "    ic(n, bin(n), bin(x), bin(y), bin(x|y))\n",
    "    \n",
    "    return n >> 16 | n << 16\n",
    "a = int(\"100101\",2)\n",
    "a, bin(a)\n",
    "b = reverseBits(a)\n",
    "b, bin(b), len(bin(b)[2:])"
   ]
  },
  {
   "cell_type": "code",
   "execution_count": 620,
   "id": "dd66c989",
   "metadata": {},
   "outputs": [
    {
     "data": {
      "text/plain": [
       "(37, '0b100101')"
      ]
     },
     "execution_count": 620,
     "metadata": {},
     "output_type": "execute_result"
    },
    {
     "name": "stderr",
     "output_type": "stream",
     "text": [
      "ic| n: 37, bin(n): '0b100101'\n",
      "ic| n: 26\n",
      "    bin(n): '0b11010'\n",
      "    bin(x): '0b10000'\n",
      "    bin(y): '0b101'\n",
      "    bin(x|y): '0b10101'\n",
      "ic| n: 74, bin(n): '0b1001010'\n",
      "ic| n: 164, bin(n): '0b10100100'\n",
      "ic| n: 41984, bin(n): '0b1010010000000000'\n"
     ]
    },
    {
     "data": {
      "text/plain": [
       "(2751463424, '0b10100100000000000000000000000000', 32)"
      ]
     },
     "execution_count": 620,
     "metadata": {},
     "output_type": "execute_result"
    }
   ],
   "source": [
    "def reverseBits(n):\n",
    "    ic(n, bin(n))\n",
    "    x = (n>>1 & M1)\n",
    "    y = (n & M1) \n",
    "    n = n >> 1 & M1 | (n & M1) << 1\n",
    "    ic(n, bin(n), bin(x), bin(y), bin(x|y))\n",
    "    n = n >> 2 & M2 | (n & M2) << 2\n",
    "    ic(n, bin(n))\n",
    "    n = n >> 4 & M4 | (n & M4) << 4\n",
    "    ic(n, bin(n))\n",
    "    n = n >> 8 & M8 | (n & M8) << 8\n",
    "    ic(n, bin(n))\n",
    "    \n",
    "    return n >> 16 | n << 16\n",
    "a = int(\"100101\",2)\n",
    "a, bin(a)\n",
    "b = reverseBits(a)\n",
    "b, bin(b), len(bin(b)[2:])"
   ]
  },
  {
   "cell_type": "code",
   "execution_count": 457,
   "id": "f1e82fef",
   "metadata": {},
   "outputs": [
    {
     "data": {
      "text/plain": [
       "'0b10101010101010101010101010101010'"
      ]
     },
     "execution_count": 457,
     "metadata": {},
     "output_type": "execute_result"
    },
    {
     "data": {
      "text/plain": [
       "'0b11001100110011001100110011001100'"
      ]
     },
     "execution_count": 457,
     "metadata": {},
     "output_type": "execute_result"
    },
    {
     "data": {
      "text/plain": [
       "'0b11110000111100001111000011110000'"
      ]
     },
     "execution_count": 457,
     "metadata": {},
     "output_type": "execute_result"
    },
    {
     "data": {
      "text/plain": [
       "'0b11111111000000001111111100000000'"
      ]
     },
     "execution_count": 457,
     "metadata": {},
     "output_type": "execute_result"
    },
    {
     "data": {
      "text/plain": [
       "'0b1010101010101010101010101010101'"
      ]
     },
     "execution_count": 457,
     "metadata": {},
     "output_type": "execute_result"
    },
    {
     "data": {
      "text/plain": [
       "'0b110011001100110011001100110011'"
      ]
     },
     "execution_count": 457,
     "metadata": {},
     "output_type": "execute_result"
    },
    {
     "data": {
      "text/plain": [
       "'0b1111000011110000111100001111'"
      ]
     },
     "execution_count": 457,
     "metadata": {},
     "output_type": "execute_result"
    },
    {
     "data": {
      "text/plain": [
       "'0b111111110000000011111111'"
      ]
     },
     "execution_count": 457,
     "metadata": {},
     "output_type": "execute_result"
    }
   ],
   "source": [
    "bin(0xaaaaaaaa)\n",
    "bin(0xcccccccc)\n",
    "bin(0xf0f0f0f0)\n",
    "bin(0xff00ff00)\n",
    "bin(0x55555555)\n",
    "bin(0x33333333)\n",
    "bin(0x0f0f0f0f)\n",
    "bin(0x00ff00ff)"
   ]
  },
  {
   "cell_type": "code",
   "execution_count": 610,
   "id": "3151fd6e",
   "metadata": {},
   "outputs": [
    {
     "data": {
      "text/plain": [
       "(37, '0b100101')"
      ]
     },
     "execution_count": 610,
     "metadata": {},
     "output_type": "execute_result"
    },
    {
     "data": {
      "text/plain": [
       "(2751463424, '0b10100100000000000000000000000000', 32)"
      ]
     },
     "execution_count": 610,
     "metadata": {},
     "output_type": "execute_result"
    }
   ],
   "source": [
    "a = int(\"100101\",2)\n",
    "a, bin(a)\n",
    "b = reverseBits(a)\n",
    "b, bin(b), len(bin(b)[2:])"
   ]
  },
  {
   "cell_type": "code",
   "execution_count": null,
   "id": "97e2cdea",
   "metadata": {},
   "outputs": [],
   "source": []
  },
  {
   "cell_type": "code",
   "execution_count": 600,
   "id": "c6c47926",
   "metadata": {
    "scrolled": false
   },
   "outputs": [
    {
     "data": {
      "text/plain": [
       "(array([1., 1., 1., 1., 1., 1., 1., 1., 1., 1., 1., 1., 1., 1., 1., 1.]),\n",
       " array([0., 0., 0., 0., 0., 0., 0., 0., 0., 0., 0., 0., 0., 0., 0., 0.]))"
      ]
     },
     "execution_count": 600,
     "metadata": {},
     "output_type": "execute_result"
    },
    {
     "data": {
      "text/plain": [
       "(array([ 0,  1,  2,  3,  4,  5,  6,  7,  8,  9, 10, 11, 12, 13, 14, 15]),\n",
       " array([-16, -15, -14, -13, -12, -11, -10,  -9,  -8,  -7,  -6,  -5,  -4,\n",
       "         -3,  -2,  -1]))"
      ]
     },
     "execution_count": 600,
     "metadata": {},
     "output_type": "execute_result"
    },
    {
     "data": {
      "text/plain": [
       "<Figure size 1152x720 with 0 Axes>"
      ]
     },
     "execution_count": 600,
     "metadata": {},
     "output_type": "execute_result"
    },
    {
     "data": {
      "text/plain": [
       "<AxesSubplot:>"
      ]
     },
     "execution_count": 600,
     "metadata": {},
     "output_type": "execute_result"
    },
    {
     "data": {
      "text/plain": [
       "[<matplotlib.lines.Line2D at 0x7f22da9799d0>]"
      ]
     },
     "execution_count": 600,
     "metadata": {},
     "output_type": "execute_result"
    },
    {
     "data": {
      "text/plain": [
       "<AxesSubplot:>"
      ]
     },
     "execution_count": 600,
     "metadata": {},
     "output_type": "execute_result"
    },
    {
     "data": {
      "text/plain": [
       "[<matplotlib.lines.Line2D at 0x7f22da943490>]"
      ]
     },
     "execution_count": 600,
     "metadata": {},
     "output_type": "execute_result"
    },
    {
     "data": {
      "text/plain": [
       "<AxesSubplot:>"
      ]
     },
     "execution_count": 600,
     "metadata": {},
     "output_type": "execute_result"
    },
    {
     "data": {
      "text/plain": [
       "[<matplotlib.lines.Line2D at 0x7f22da8f7fa0>]"
      ]
     },
     "execution_count": 600,
     "metadata": {},
     "output_type": "execute_result"
    },
    {
     "data": {
      "text/plain": [
       "<AxesSubplot:>"
      ]
     },
     "execution_count": 600,
     "metadata": {},
     "output_type": "execute_result"
    },
    {
     "data": {
      "text/plain": [
       "[<matplotlib.lines.Line2D at 0x7f22da8ba610>]"
      ]
     },
     "execution_count": 600,
     "metadata": {},
     "output_type": "execute_result"
    },
    {
     "data": {
      "image/png": "[encoded data removed]",
      "text/plain": [
       "<Figure size 1152x720 with 4 Axes>"
      ]
     },
     "metadata": {
      "needs_background": "light"
     },
     "output_type": "display_data"
    }
   ],
   "source": [
    "n = 16\n",
    "a = np.ones((n, ))\n",
    "a1 = np.arange(n)\n",
    "b = np.zeros((n, ))\n",
    "b1 = (-np.arange(1, n+1))[::-1]\n",
    "a,b\n",
    "a1, b1\n",
    "c = np.r_[a, b].reshape(1, -1)\n",
    "c1 = np.r_[a1, b1].reshape(1, -1)\n",
    "# c, c.shape\n",
    "d = c.repeat(4, 0).reshape(-1)\n",
    "d1 = c1.repeat(4, 0).reshape(-1)\n",
    "# d\n",
    "# d1\n",
    "df = fft(d)\n",
    "df1 = fft(d1)\n",
    "# df\n",
    "# df[490:500] = 0\n",
    "# df[0:5] *= 2\n",
    "# df *= 0.5\n",
    "# df+=100\n",
    "idf = ifft(df)\n",
    "idf1 = ifft(df1)\n",
    "# idf1\n",
    "plt.figure(figsize=(16,10))\n",
    "plt.subplot(221)\n",
    "plt.plot(np.abs(df))\n",
    "plt.subplot(222)\n",
    "plt.plot(idf.real)\n",
    "plt.subplot(223)\n",
    "plt.plot(np.abs(df1))\n",
    "plt.subplot(224)\n",
    "plt.plot(idf1.real)\n",
    "plt.show()"
   ]
  },
  {
   "cell_type": "code",
   "execution_count": 548,
   "id": "d0146daf",
   "metadata": {},
   "outputs": [
    {
     "data": {
      "text/plain": [
       "array([1, 1, 1, 1, 2, 2, 3, 3])"
      ]
     },
     "execution_count": 548,
     "metadata": {},
     "output_type": "execute_result"
    }
   ],
   "source": [
    "a = np.array([1,1,2,3])\n",
    "a.repeat(2, 0)"
   ]
  },
  {
   "cell_type": "code",
   "execution_count": null,
   "id": "02d76c4f",
   "metadata": {},
   "outputs": [],
   "source": []
  },
  {
   "cell_type": "code",
   "execution_count": 457,
   "id": "9aceb6a0",
   "metadata": {},
   "outputs": [
    {
     "data": {
      "text/plain": [
       "'0b10101010101010101010101010101010'"
      ]
     },
     "execution_count": 457,
     "metadata": {},
     "output_type": "execute_result"
    },
    {
     "data": {
      "text/plain": [
       "'0b11001100110011001100110011001100'"
      ]
     },
     "execution_count": 457,
     "metadata": {},
     "output_type": "execute_result"
    },
    {
     "data": {
      "text/plain": [
       "'0b11110000111100001111000011110000'"
      ]
     },
     "execution_count": 457,
     "metadata": {},
     "output_type": "execute_result"
    },
    {
     "data": {
      "text/plain": [
       "'0b11111111000000001111111100000000'"
      ]
     },
     "execution_count": 457,
     "metadata": {},
     "output_type": "execute_result"
    },
    {
     "data": {
      "text/plain": [
       "'0b1010101010101010101010101010101'"
      ]
     },
     "execution_count": 457,
     "metadata": {},
     "output_type": "execute_result"
    },
    {
     "data": {
      "text/plain": [
       "'0b110011001100110011001100110011'"
      ]
     },
     "execution_count": 457,
     "metadata": {},
     "output_type": "execute_result"
    },
    {
     "data": {
      "text/plain": [
       "'0b1111000011110000111100001111'"
      ]
     },
     "execution_count": 457,
     "metadata": {},
     "output_type": "execute_result"
    },
    {
     "data": {
      "text/plain": [
       "'0b111111110000000011111111'"
      ]
     },
     "execution_count": 457,
     "metadata": {},
     "output_type": "execute_result"
    }
   ],
   "source": [
    "bin(0xaaaaaaaa)\n",
    "bin(0xcccccccc)\n",
    "bin(0xf0f0f0f0)\n",
    "bin(0xff00ff00)\n",
    "bin(0x55555555)\n",
    "bin(0x33333333)\n",
    "bin(0x0f0f0f0f)\n",
    "bin(0x00ff00ff)"
   ]
  },
  {
   "cell_type": "code",
   "execution_count": 519,
   "id": "1b71068d",
   "metadata": {},
   "outputs": [
    {
     "name": "stdout",
     "output_type": "stream",
     "text": [
      "0 0\n",
      "1 1\n",
      "2 1\n",
      "3 2\n",
      "4 2\n",
      "5 4\n",
      "6 2\n",
      "7 6\n",
      "8 4\n",
      "9 6\n"
     ]
    }
   ],
   "source": [
    "def phi(n):\n",
    "    ans = n\n",
    "    i = 2\n",
    "    while (i * i <= n):\n",
    "        if (n % i == 0):\n",
    "            ans -= ans//i\n",
    "        while (n % i == 0): n //= i\n",
    "        i += 1\n",
    "#     print(n)\n",
    "    if (n > 1): ans -= ans // n \n",
    "    return ans\n",
    "    \n",
    "for i in range(10):\n",
    "    print(i, phi(i))"
   ]
  },
  {
   "cell_type": "code",
   "execution_count": null,
   "id": "7201a506",
   "metadata": {},
   "outputs": [],
   "source": []
  },
  {
   "cell_type": "code",
   "execution_count": 412,
   "id": "e6b3fa1c",
   "metadata": {},
   "outputs": [
    {
     "name": "stdout",
     "output_type": "stream",
     "text": [
      "4 2 2\n",
      "9 3 3\n",
      "8 4 2\n",
      "25 5 5\n",
      "12 6 2\n",
      "49 7 7\n",
      "16 8 2\n",
      "27 9 3\n",
      "20 10 2\n",
      "24 12 2\n",
      "28 14 2\n",
      "45 15 3\n",
      "32 16 2\n",
      "36 18 2\n",
      "40 20 2\n",
      "63 21 3\n",
      "44 22 2\n",
      "48 24 2\n",
      "52 26 2\n",
      "81 27 3\n",
      "56 28 2\n",
      "60 30 2\n",
      "64 32 2\n",
      "99 33 3\n",
      "68 34 2\n",
      "72 36 2\n",
      "76 38 2\n",
      "80 40 2\n",
      "84 42 2\n",
      "88 44 2\n",
      "92 46 2\n",
      "96 48 2\n",
      "100 50 2\n"
     ]
    },
    {
     "data": {
      "text/plain": [
       "array([25,  2,  3,  5,  7, 11, 13, 17, 19, 23, 29, 31, 37, 41, 43, 47, 53,\n",
       "       59, 61, 67, 71, 73, 79, 83, 89, 97,  1,  1,  1,  0,  1,  0,  1,  1,\n",
       "        1,  1,  1,  0,  1,  1,  1,  0,  1,  0,  1,  1,  1,  0,  1,  1,  1,\n",
       "        1,  1,  0,  1,  1,  1,  1,  1,  0,  1,  0,  1,  1,  1,  1,  1,  0,\n",
       "        1,  1,  1,  0,  1,  0,  1,  1,  1,  1,  1,  0,  1,  1,  1,  0,  1,\n",
       "        1,  1,  1,  1,  0,  1,  1,  1,  1,  1,  1,  1,  0,  1,  1,  1])"
      ]
     },
     "execution_count": 412,
     "metadata": {},
     "output_type": "execute_result"
    }
   ],
   "source": [
    "n = 100\n",
    "cnt = 0\n",
    "prim = np.zeros((n+1,), dtype=np.int64)\n",
    "for i in range(2, n+1):\n",
    "    if prim[i] == 0:\n",
    "        prim[0] += 1\n",
    "        prim[prim[0]] = i\n",
    "    for j in range(1, prim[0]+1):\n",
    "        if (i * prim[j] > n): break\n",
    "#         print(i * prim[j], i, prim[j])\n",
    "        prim[i*prim[j]] = 1\n",
    "        if (i % prim[j]==0): \n",
    "            print(i * prim[j], i, prim[j])\n",
    "            break\n",
    "prim"
   ]
  },
  {
   "cell_type": "code",
   "execution_count": 404,
   "id": "cf56315b",
   "metadata": {},
   "outputs": [
    {
     "data": {
      "text/plain": [
       "array([ 2,  3,  5,  7, 11, 13, 17, 19, 23, 29, 31, 37, 41, 43, 47, 53, 59,\n",
       "       61, 67, 71, 73, 79, 83, 89, 97])"
      ]
     },
     "execution_count": 404,
     "metadata": {},
     "output_type": "execute_result"
    }
   ],
   "source": [
    "prim[1:prim[0]+1]\n",
    "# prim[:100]"
   ]
  },
  {
   "cell_type": "code",
   "execution_count": 398,
   "id": "e726396e",
   "metadata": {},
   "outputs": [
    {
     "data": {
      "text/plain": [
       "array([25,  2,  3,  5,  7, 11, 13, 17, 19, 23, 29, 31, 37, 41, 43, 47, 53,\n",
       "       59, 61, 67, 71, 73, 79, 83, 89, 97,  1,  1,  1,  0,  1,  0,  1,  1,\n",
       "        1,  1,  1,  0,  1,  1,  1,  0,  1,  0,  1,  1,  1,  0,  1,  1,  1,\n",
       "        1,  1,  0,  1,  1,  1,  1,  1,  0,  1,  0,  1,  1,  1,  1,  1,  0,\n",
       "        1,  1,  1,  0,  1,  0,  1,  1,  1,  1,  1,  0,  1,  1,  1,  0,  1,\n",
       "        1,  1,  1,  1,  0,  1,  1,  1,  1,  1,  1,  1,  0,  1,  1,  1])"
      ]
     },
     "execution_count": 398,
     "metadata": {},
     "output_type": "execute_result"
    }
   ],
   "source": [
    "prim"
   ]
  },
  {
   "cell_type": "code",
   "execution_count": 24,
   "id": "ae47fb0b",
   "metadata": {},
   "outputs": [],
   "source": [
    "def multishow(*args):\n",
    "    plt.figure(figsize=(10, 6))\n",
    "    size = len(args)\n",
    "    n = math.ceil(size/2)\n",
    "    for i in range(size):\n",
    "        plt.subplot(n, 2, i+1)\n",
    "        if args[i].ndim == 3:\n",
    "            plt.imshow(args[i][...,::-1])\n",
    "        else:\n",
    "            plt.imshow(args[i])\n",
    "    plt.show()"
   ]
  },
  {
   "cell_type": "code",
   "execution_count": 4,
   "id": "bb6d485c",
   "metadata": {},
   "outputs": [
    {
     "data": {
      "text/plain": [
       "(0, 3)"
      ]
     },
     "execution_count": 4,
     "metadata": {},
     "output_type": "execute_result"
    },
    {
     "data": {
      "text/plain": [
       "(1, 2)"
      ]
     },
     "execution_count": 4,
     "metadata": {},
     "output_type": "execute_result"
    },
    {
     "data": {
      "text/plain": [
       "(2, 1)"
      ]
     },
     "execution_count": 4,
     "metadata": {},
     "output_type": "execute_result"
    },
    {
     "data": {
      "text/plain": [
       "(3, 0)"
      ]
     },
     "execution_count": 4,
     "metadata": {},
     "output_type": "execute_result"
    }
   ],
   "source": [
    "for i in range(4):\n",
    "    i, i^3"
   ]
  },
  {
   "cell_type": "code",
   "execution_count": 12,
   "id": "7798df40",
   "metadata": {},
   "outputs": [],
   "source": [
    "a = np.array([[0,0,1,1,0,1,0,0,1,0],[1,1,0,1,1,0,1,1,1,0],[1,0,1,1,1,0,0,1,1,0],[0,1,1,0,0,0,0,1,0,1],[0,0,0,0,0,0,1,1,1,0],[0,1,0,1,0,1,0,1,1,1],[1,0,1,0,1,1,0,0,0,1],[1,1,1,1,1,1,0,0,0,0],[1,1,1,0,0,1,0,1,0,1],[1,1,1,0,1,1,0,1,1,0]])"
   ]
  },
  {
   "cell_type": "code",
   "execution_count": 9,
   "id": "987e8d1d",
   "metadata": {},
   "outputs": [
    {
     "data": {
      "text/plain": [
       "[[1, 2], [2, 1], [2, 6], [3, 8], [6, 1], [6, 3], [6, 8], [8, 4]]"
      ]
     },
     "execution_count": 9,
     "metadata": {},
     "output_type": "execute_result"
    }
   ],
   "source": [
    "b =[[1, 2],\n",
    "[2, 1],\n",
    "[2, 6],\n",
    "[3, 8],\n",
    "[6, 1],\n",
    "[6, 3],\n",
    "[6, 8],\n",
    "[8, 4]]\n",
    "b"
   ]
  },
  {
   "cell_type": "code",
   "execution_count": 15,
   "id": "4d9f924a",
   "metadata": {},
   "outputs": [],
   "source": [
    "c = deepcopy(a)\n",
    "for x in b:\n",
    "    i,j = x\n",
    "    c[i,j] = 2"
   ]
  },
  {
   "cell_type": "code",
   "execution_count": 16,
   "id": "eb4792e8",
   "metadata": {
    "scrolled": true
   },
   "outputs": [
    {
     "data": {
      "text/plain": [
       "<matplotlib.image.AxesImage at 0x7f2503a487f0>"
      ]
     },
     "execution_count": 16,
     "metadata": {},
     "output_type": "execute_result"
    },
    {
     "data": {
      "image/png": "[encoded data removed]",
      "text/plain": [
       "<Figure size 432x288 with 1 Axes>"
      ]
     },
     "metadata": {
      "needs_background": "light"
     },
     "output_type": "display_data"
    }
   ],
   "source": [
    "plt.imshow(a)"
   ]
  },
  {
   "cell_type": "code",
   "execution_count": 39,
   "id": "812fd2a4",
   "metadata": {},
   "outputs": [],
   "source": [
    "a = np.array([[1,2,2,3,5],[3,2,3,4,4],[2,4,5,3,1],[6,7,1,4,5],[5,1,1,2,4]])"
   ]
  },
  {
   "cell_type": "code",
   "execution_count": 40,
   "id": "90d18bbe",
   "metadata": {},
   "outputs": [
    {
     "data": {
      "text/plain": [
       "<matplotlib.image.AxesImage at 0x7f23a8e9d8b0>"
      ]
     },
     "execution_count": 40,
     "metadata": {},
     "output_type": "execute_result"
    },
    {
     "data": {
      "image/png": "[encoded data removed]",
      "text/plain": [
       "<Figure size 432x288 with 1 Axes>"
      ]
     },
     "metadata": {
      "needs_background": "light"
     },
     "output_type": "display_data"
    }
   ],
   "source": [
    "plt.imshow(a)"
   ]
  },
  {
   "cell_type": "code",
   "execution_count": 42,
   "id": "751cf219",
   "metadata": {},
   "outputs": [
    {
     "data": {
      "text/plain": [
       "array([[1, 2, 2, 3, 5],\n",
       "       [3, 2, 3, 4, 4],\n",
       "       [2, 4, 5, 3, 1],\n",
       "       [6, 7, 1, 4, 5],\n",
       "       [5, 1, 1, 2, 4]])"
      ]
     },
     "execution_count": 42,
     "metadata": {},
     "output_type": "execute_result"
    },
    {
     "data": {
      "text/plain": [
       "<matplotlib.image.AxesImage at 0x7f23a8f09460>"
      ]
     },
     "execution_count": 42,
     "metadata": {},
     "output_type": "execute_result"
    },
    {
     "data": {
      "image/png": "[encoded data removed]",
      "text/plain": [
       "<Figure size 432x288 with 1 Axes>"
      ]
     },
     "metadata": {
      "needs_background": "light"
     },
     "output_type": "display_data"
    }
   ],
   "source": [
    "b = deepcopy(a)\n",
    "for x, y in [[0,4],[1,3],[1,4],[2,2],[3,0],[3,1],[4,0]]:\n",
    "    b[x,y] = 100\n",
    "a\n",
    "plt.imshow(b)"
   ]
  },
  {
   "cell_type": "code",
   "execution_count": null,
   "id": "a95b73d5",
   "metadata": {},
   "outputs": [],
   "source": []
  },
  {
   "cell_type": "code",
   "execution_count": null,
   "id": "df3db3ef",
   "metadata": {},
   "outputs": [],
   "source": []
  },
  {
   "cell_type": "code",
   "execution_count": 21,
   "id": "f1acd503",
   "metadata": {},
   "outputs": [
    {
     "data": {
      "text/plain": [
       "array([[0, 0, 0, 0],\n",
       "       [1, 0, 1, 0],\n",
       "       [0, 1, 1, 0],\n",
       "       [0, 0, 0, 0]])"
      ]
     },
     "execution_count": 21,
     "metadata": {},
     "output_type": "execute_result"
    }
   ],
   "source": [
    "a = np.array([[0,0,0,0],[1,0,1,0],[0,1,1,0],[0,0,0,0]])\n",
    "a"
   ]
  },
  {
   "cell_type": "code",
   "execution_count": 27,
   "id": "df7d4d7c",
   "metadata": {},
   "outputs": [
    {
     "data": {
      "image/png": "[encoded data removed]",
      "text/plain": [
       "<Figure size 720x432 with 4 Axes>"
      ]
     },
     "metadata": {
      "needs_background": "light"
     },
     "output_type": "display_data"
    }
   ],
   "source": [
    "a = np.array([[1,1,1,0,0],[0,1,1,1,1],[0,0,0,0,0],[1,0,0,0,0],[1,1,0,1,1]])\n",
    "b = np.array([[1,1,1,0,0],[0,0,1,1,1],[0,1,0,0,0],[1,0,1,1,0],[0,1,0,1,0]])\n",
    "c = a & b\n",
    "d = a^b\n",
    "multishow(a, b, c,d)"
   ]
  },
  {
   "cell_type": "code",
   "execution_count": 28,
   "id": "fbad46f0",
   "metadata": {},
   "outputs": [],
   "source": [
    "def some_func(f = lambda x:x+1):\n",
    "    return f\n",
    "def some_func_out(func, m):\n",
    "    return lambda n:some_func(func)(n)+m"
   ]
  },
  {
   "cell_type": "code",
   "execution_count": 30,
   "id": "c68c4936",
   "metadata": {},
   "outputs": [
    {
     "data": {
      "text/plain": [
       "120"
      ]
     },
     "execution_count": 30,
     "metadata": {},
     "output_type": "execute_result"
    },
    {
     "data": {
      "text/plain": [
       "100"
      ]
     },
     "execution_count": 30,
     "metadata": {},
     "output_type": "execute_result"
    }
   ],
   "source": [
    "some_func_out(lambda x:x**2, 20)(10)\n",
    "some_func(lambda x:x**2)(10)"
   ]
  },
  {
   "cell_type": "markdown",
   "id": "ee07e6e0",
   "metadata": {},
   "source": [
    "a = \"hello\"\n",
    "a.capitalize()"
   ]
  },
  {
   "cell_type": "code",
   "execution_count": 32,
   "id": "bf8995e4",
   "metadata": {},
   "outputs": [],
   "source": [
    "from itertools import product"
   ]
  },
  {
   "cell_type": "code",
   "execution_count": 34,
   "id": "235a1516",
   "metadata": {},
   "outputs": [
    {
     "data": {
      "text/plain": [
       "[(1, 2), (1, 4), (2, 2), (2, 4)]"
      ]
     },
     "execution_count": 34,
     "metadata": {},
     "output_type": "execute_result"
    }
   ],
   "source": [
    "a = (1,2)\n",
    "b = (2, 4)\n",
    "list(product(a, b))"
   ]
  },
  {
   "cell_type": "code",
   "execution_count": 78,
   "id": "1ae14fab",
   "metadata": {},
   "outputs": [
    {
     "data": {
      "text/plain": [
       "array([0, 1, 1, 1, 0, 1, 0, 1, 1, 0])"
      ]
     },
     "execution_count": 78,
     "metadata": {},
     "output_type": "execute_result"
    },
    {
     "data": {
      "text/plain": [
       "array([0, 2, 2, 2, 0, 2, 0, 2, 2, 0])"
      ]
     },
     "execution_count": 78,
     "metadata": {},
     "output_type": "execute_result"
    },
    {
     "data": {
      "text/plain": [
       "array([3, 2, 2, 2, 3, 2, 3, 2, 2, 3])"
      ]
     },
     "execution_count": 78,
     "metadata": {},
     "output_type": "execute_result"
    }
   ],
   "source": [
    "a = np.random.randint(0,2,(10,))\n",
    "a \n",
    "b = deepcopy(a)\n",
    "b[a==1] = a[a==1]^ 3\n",
    "b\n",
    "a ^ 3"
   ]
  },
  {
   "cell_type": "code",
   "execution_count": 83,
   "id": "9460570b",
   "metadata": {},
   "outputs": [
    {
     "data": {
      "text/plain": [
       "array([0, 1, 2, 3])"
      ]
     },
     "execution_count": 83,
     "metadata": {},
     "output_type": "execute_result"
    },
    {
     "data": {
      "text/plain": [
       "array([3, 2, 1, 0])"
      ]
     },
     "execution_count": 83,
     "metadata": {},
     "output_type": "execute_result"
    },
    {
     "data": {
      "text/plain": [
       "array([0, 1, 2, 3])"
      ]
     },
     "execution_count": 83,
     "metadata": {},
     "output_type": "execute_result"
    }
   ],
   "source": [
    "a = np.array([0,1,2,3])\n",
    "b = a ^ 3\n",
    "c = b ^ 3\n",
    "a\n",
    "b\n",
    "c\n",
    "\n"
   ]
  },
  {
   "cell_type": "code",
   "execution_count": 84,
   "id": "4fffb3a7",
   "metadata": {},
   "outputs": [
    {
     "data": {
      "text/plain": [
       "2"
      ]
     },
     "execution_count": 84,
     "metadata": {},
     "output_type": "execute_result"
    }
   ],
   "source": [
    "1 ^ 3"
   ]
  },
  {
   "cell_type": "markdown",
   "id": "46c59705",
   "metadata": {},
   "source": [
    "# doctest"
   ]
  },
  {
   "cell_type": "code",
   "execution_count": 85,
   "id": "cb6d6ae9",
   "metadata": {},
   "outputs": [],
   "source": [
    "import doctest"
   ]
  },
  {
   "cell_type": "code",
   "execution_count": 120,
   "id": "ea5e32b3",
   "metadata": {},
   "outputs": [],
   "source": [
    "# @doctest_mode\n",
    "def simple(n):\n",
    "#     \"\"\"\n",
    "#     >>> simple(3)\n",
    "#     11\n",
    "#     >>> simple(4)\n",
    "#     14\n",
    "#     >>> simple(5)\n",
    "#     16\n",
    "#     \"\"\"\n",
    "    return 3*n + 2;"
   ]
  },
  {
   "cell_type": "code",
   "execution_count": 95,
   "id": "7b970a13",
   "metadata": {},
   "outputs": [
    {
     "name": "stdout",
     "output_type": "stream",
     "text": [
      "**********************************************************************\n",
      "File \"__main__\", line 8, in __main__.simple\n",
      "Failed example:\n",
      "    simple(5)\n",
      "Expected:\n",
      "    16\n",
      "Got:\n",
      "    17\n",
      "**********************************************************************\n",
      "1 items had failures:\n",
      "   1 of   3 in __main__.simple\n",
      "***Test Failed*** 1 failures.\n"
     ]
    },
    {
     "data": {
      "text/plain": [
       "TestResults(failed=1, attempted=3)"
      ]
     },
     "execution_count": 95,
     "metadata": {},
     "output_type": "execute_result"
    }
   ],
   "source": [
    "doctest.testmod()"
   ]
  },
  {
   "cell_type": "code",
   "execution_count": 96,
   "id": "a9d621d6",
   "metadata": {},
   "outputs": [
    {
     "ename": "SyntaxError",
     "evalue": "invalid syntax (2248096530.py, line 2)",
     "output_type": "error",
     "traceback": [
      "\u001b[0;36m  Input \u001b[0;32mIn [96]\u001b[0;36m\u001b[0m\n\u001b[0;31m    return fib(n - 1) + fib(n - 2) else n\u001b[0m\n\u001b[0m                                   ^\u001b[0m\n\u001b[0;31mSyntaxError\u001b[0m\u001b[0;31m:\u001b[0m invalid syntax\n"
     ]
    }
   ],
   "source": [
    "def fib(n):\n",
    "    return fib(n - 1) + fib(n - 2) else n"
   ]
  },
  {
   "cell_type": "markdown",
   "id": "1fcbe888",
   "metadata": {},
   "source": [
    "# regex"
   ]
  },
  {
   "cell_type": "code",
   "execution_count": 156,
   "id": "192fc1d0",
   "metadata": {},
   "outputs": [],
   "source": [
    "def search(pat:str, text:str):\n",
    "    \"\"\"\n",
    "    >>> search(\"a*bcd\", \"bcd\")\n",
    "    True\n",
    "    >>> search(\"a*bcd\", \"abcd\")\n",
    "    True\n",
    "    >>> search(\"a*bcd\", \"aaabcd\")\n",
    "    True\n",
    "    >>> search(\"a?bcd\", \"bcd\")\n",
    "    True\n",
    "    >>> search(\"a?bcd\", \"abcd\")\n",
    "    True\n",
    "    >>> search(\"a?bcd\", \"aaabcd\")\n",
    "    True\n",
    "    >>> search(\"a+bcd\", \"bcd\")\n",
    "    False\n",
    "    >>> search(\"a+bcd\", \"abcd\")\n",
    "    True\n",
    "    >>> search(\"a+bcd\", \"aaabcd\")\n",
    "    True\n",
    "    >>> search(\"^abcd\", \"abcdefg\")\n",
    "    True\n",
    "    >>> search(\"^bcd\", \"abcdefg\")\n",
    "    False\n",
    "    >>> search(\"abcd$\", \"aaabcd\")\n",
    "    True\n",
    "    >>> search(\"abcd$\", \"abcdefg\")\n",
    "    False\n",
    "    \"\"\"\n",
    "    if pat.startswith(\"^\"):\n",
    "        return match(pat[1:], text)\n",
    "    else:\n",
    "        return match(\".*\" + pat, text)"
   ]
  },
  {
   "cell_type": "code",
   "execution_count": 122,
   "id": "105c38cf",
   "metadata": {},
   "outputs": [],
   "source": [
    "def match_1(p, t):\n",
    "    \"\"\"\n",
    "    >>> match_1('h', 'hello')\n",
    "    True\n",
    "    >>> match_1('e', 'hello')\n",
    "    False\n",
    "    \"\"\"\n",
    "    if not t: return False\n",
    "    return p == '.' or p == t[0]"
   ]
  },
  {
   "cell_type": "code",
   "execution_count": 158,
   "id": "e43a6418",
   "metadata": {},
   "outputs": [],
   "source": [
    "def match_plus(p, _pat, text):\n",
    "    return match_1(p, text) and (\n",
    "        match(_pat, text) or match_plus(p, _pat, text[1:])\n",
    "    )"
   ]
  },
  {
   "cell_type": "code",
   "execution_count": 149,
   "id": "07b397fb",
   "metadata": {},
   "outputs": [
    {
     "data": {
      "text/plain": [
       "True"
      ]
     },
     "execution_count": 149,
     "metadata": {},
     "output_type": "execute_result"
    }
   ],
   "source": [
    "def match(pat: str, text: str):\n",
    "    \"\"\"\n",
    "    >>> match(\"a*bcd\", \"bcd\")\n",
    "    True\n",
    "    >>> match(\"a*bcd\", \"abcd\")\n",
    "    True\n",
    "    >>> match(\"a*bcd\", \"aaabcd\")\n",
    "    True\n",
    "    >>> match(\"a?bcd\", \"bcd\")\n",
    "    True\n",
    "    >>> match(\"a?bcd\", \"abcd\")\n",
    "    True\n",
    "    >>> match(\"a?bcd\", \"aaabcd\")\n",
    "    False\n",
    "    >>> match(\"a+bcd\", \"bcd\")\n",
    "    False\n",
    "    >>> match(\"a+bcd\", \"abcd\")\n",
    "    True\n",
    "    >>> match(\"a+bcd\", \"aaabcd\")\n",
    "    True\n",
    "    \"\"\"\n",
    "    if pat == '': return True\n",
    "    if pat == '$': return text == ''\n",
    "    elif len(pat) > 1 and pat[1] in \"*?+\":\n",
    "        p, op, _pat = pat[0], pat[1], pat[2:]\n",
    "        if op == '*':\n",
    "            return match(_pat, text) or (\n",
    "                    match_1(p, text) and match(pat, text[1:])\n",
    "            )\n",
    "\n",
    "        elif op == '?':\n",
    "            return match(p + _pat, text) or match(_pat, text)\n",
    "        elif op == '+':\n",
    "            # print(p, op, _pat)\n",
    "            # print(p+\"*\"+_pat, pat)\n",
    "            # exit()\n",
    "            return match_1(p, text) and match(p+'*'+_pat, text[1:])\n",
    "            # return match_1(p, text) and match(pat, text[1:])\n",
    "\n",
    "    else:\n",
    "        return match_1(pat[0], text) and match(pat[1:], text[1:])\n",
    "\n",
    "match(\"a+bcd\", \"abcd\")  "
   ]
  },
  {
   "cell_type": "code",
   "execution_count": 157,
   "id": "53038809",
   "metadata": {
    "scrolled": true
   },
   "outputs": [
    {
     "data": {
      "text/plain": [
       "TestResults(failed=0, attempted=24)"
      ]
     },
     "execution_count": 157,
     "metadata": {},
     "output_type": "execute_result"
    }
   ],
   "source": [
    "doctest.testmod()"
   ]
  },
  {
   "cell_type": "markdown",
   "id": "0fdadbbd",
   "metadata": {},
   "source": [
    "# Complex\n"
   ]
  },
  {
   "cell_type": "code",
   "execution_count": 193,
   "id": "3c6c5b95",
   "metadata": {},
   "outputs": [
    {
     "data": {
      "text/plain": [
       "(-10+10j)"
      ]
     },
     "execution_count": 193,
     "metadata": {},
     "output_type": "execute_result"
    }
   ],
   "source": [
    "a = 1 + 3j\n",
    "b = 2+4j\n",
    "a*b\n"
   ]
  },
  {
   "cell_type": "code",
   "execution_count": 176,
   "id": "89db951e",
   "metadata": {},
   "outputs": [
    {
     "data": {
      "text/plain": [
       "(0.7+0.1j)"
      ]
     },
     "execution_count": 176,
     "metadata": {},
     "output_type": "execute_result"
    }
   ],
   "source": [
    "a / b"
   ]
  },
  {
   "cell_type": "code",
   "execution_count": 181,
   "id": "a1997899",
   "metadata": {},
   "outputs": [
    {
     "data": {
      "text/plain": [
       "1125899906842625.0"
      ]
     },
     "execution_count": 181,
     "metadata": {},
     "output_type": "execute_result"
    }
   ],
   "source": [
    "a = 2\n",
    "math.exp(50*math.log(a))"
   ]
  },
  {
   "cell_type": "code",
   "execution_count": 182,
   "id": "b4794dac",
   "metadata": {},
   "outputs": [
    {
     "data": {
      "text/plain": [
       "1125899906842624"
      ]
     },
     "execution_count": 182,
     "metadata": {},
     "output_type": "execute_result"
    }
   ],
   "source": [
    "2**50"
   ]
  },
  {
   "cell_type": "code",
   "execution_count": 183,
   "id": "e0ecdbf2",
   "metadata": {},
   "outputs": [
    {
     "data": {
      "text/plain": [
       "(1+0j)"
      ]
     },
     "execution_count": 183,
     "metadata": {},
     "output_type": "execute_result"
    }
   ],
   "source": [
    "(0+0j)**0"
   ]
  },
  {
   "cell_type": "code",
   "execution_count": 194,
   "id": "2e3a2b23",
   "metadata": {},
   "outputs": [
    {
     "data": {
      "text/plain": [
       "(-88+16j)"
      ]
     },
     "execution_count": 194,
     "metadata": {},
     "output_type": "execute_result"
    },
    {
     "data": {
      "text/plain": [
       "(1.3988656059159141-0.39738840378983187j)"
      ]
     },
     "execution_count": 194,
     "metadata": {},
     "output_type": "execute_result"
    }
   ],
   "source": [
    "b = 2-4j\n",
    "b**3\n",
    "b**(1/4)"
   ]
  },
  {
   "cell_type": "code",
   "execution_count": 188,
   "id": "92f6e71a",
   "metadata": {},
   "outputs": [
    {
     "data": {
      "text/plain": [
       "1.4142135623730951"
      ]
     },
     "execution_count": 188,
     "metadata": {},
     "output_type": "execute_result"
    }
   ],
   "source": [
    "2**(1/2)"
   ]
  },
  {
   "cell_type": "code",
   "execution_count": 189,
   "id": "6a5d2b67",
   "metadata": {},
   "outputs": [],
   "source": [
    "a1 = (1.398866-0.397388j)\n",
    "a2 = (0.397388+1.398866j)\n",
    "a3 = (-1.398866+0.397388j)\n",
    "a4 = (-0.397389-1.398866j)"
   ]
  },
  {
   "cell_type": "code",
   "execution_count": 190,
   "id": "567c9b59",
   "metadata": {},
   "outputs": [
    {
     "data": {
      "text/plain": [
       "(2.0000069368789806-4.000000227603984j)"
      ]
     },
     "execution_count": 190,
     "metadata": {},
     "output_type": "execute_result"
    },
    {
     "data": {
      "text/plain": [
       "(2.0000069368789806-4.000000227603984j)"
      ]
     },
     "execution_count": 190,
     "metadata": {},
     "output_type": "execute_result"
    },
    {
     "data": {
      "text/plain": [
       "(2.0000069368789806-4.000000227603984j)"
      ]
     },
     "execution_count": 190,
     "metadata": {},
     "output_type": "execute_result"
    },
    {
     "data": {
      "text/plain": [
       "(1.9999978564553682-4.00000852608683j)"
      ]
     },
     "execution_count": 190,
     "metadata": {},
     "output_type": "execute_result"
    }
   ],
   "source": [
    "for x in [a1, a2, a3, a4]:\n",
    "    x**4"
   ]
  },
  {
   "cell_type": "code",
   "execution_count": 197,
   "id": "058a3d54",
   "metadata": {},
   "outputs": [
    {
     "data": {
      "text/plain": [
       "(2-4j)"
      ]
     },
     "execution_count": 197,
     "metadata": {},
     "output_type": "execute_result"
    },
    {
     "data": {
      "text/plain": [
       "(24.83130584894638+11.356612711218173j)"
      ]
     },
     "execution_count": 197,
     "metadata": {},
     "output_type": "execute_result"
    },
    {
     "data": {
      "text/plain": [
       "(-11.36423470640106+24.814651485634183j)"
      ]
     },
     "execution_count": 197,
     "metadata": {},
     "output_type": "execute_result"
    }
   ],
   "source": [
    "b\n",
    "np.sin(b)\n",
    "np.cos(b)"
   ]
  },
  {
   "cell_type": "markdown",
   "id": "e6c98f23",
   "metadata": {},
   "source": [
    "# fft"
   ]
  },
  {
   "cell_type": "code",
   "execution_count": 29,
   "id": "dd389e08",
   "metadata": {},
   "outputs": [],
   "source": [
    "from scipy.fft import fft, fftshift, ifft, fftfreq"
   ]
  },
  {
   "cell_type": "code",
   "execution_count": 287,
   "id": "e4afb132",
   "metadata": {},
   "outputs": [],
   "source": [
    "fftfreq?"
   ]
  },
  {
   "cell_type": "code",
   "execution_count": 459,
   "id": "d9eb15e7",
   "metadata": {},
   "outputs": [
    {
     "data": {
      "text/plain": [
       "array([0, 1, 2, 3])"
      ]
     },
     "execution_count": 459,
     "metadata": {},
     "output_type": "execute_result"
    }
   ],
   "source": [
    "a = np.arange(0,4)\n",
    "a"
   ]
  },
  {
   "cell_type": "code",
   "execution_count": 260,
   "id": "f1dccd99",
   "metadata": {},
   "outputs": [],
   "source": [
    "a = np.array([-4,-2,-2,0,1,2,4]) "
   ]
  },
  {
   "cell_type": "code",
   "execution_count": 487,
   "id": "73ad3bf8",
   "metadata": {},
   "outputs": [
    {
     "data": {
      "text/plain": [
       "[<matplotlib.lines.Line2D at 0x7f22df99a850>]"
      ]
     },
     "execution_count": 487,
     "metadata": {},
     "output_type": "execute_result"
    },
    {
     "data": {
      "image/png": "[encoded data removed]",
      "text/plain": [
       "<Figure size 432x288 with 1 Axes>"
      ]
     },
     "metadata": {
      "needs_background": "light"
     },
     "output_type": "display_data"
    }
   ],
   "source": [
    "a = np.sin(np.linspace(-10*np.pi, 10*np.pi, 1000))\n",
    "a = np.cos(np.linspace(0, 1024*np.pi, 2048))\n",
    "# a = np.linspace(-1,1,16)\n",
    "a = np.ones(1024)\n",
    "b = fft(a)\n",
    "# b\n",
    "# b1 = fftshift(b)\n",
    "# b1\n",
    "plt.plot(np.abs(b)/np.max(np.abs(b)))\n",
    "plt.show()"
   ]
  },
  {
   "cell_type": "code",
   "execution_count": 288,
   "id": "5d18db38",
   "metadata": {},
   "outputs": [
    {
     "data": {
      "text/plain": [
       "array([ 0. ,  0.1,  0.2,  0.3,  0.4, -0.5, -0.4, -0.3, -0.2, -0.1])"
      ]
     },
     "execution_count": 288,
     "metadata": {},
     "output_type": "execute_result"
    },
    {
     "data": {
      "text/plain": [
       "array([ 0.,  1.,  2.,  3.,  4., -5., -4., -3., -2., -1.])"
      ]
     },
     "execution_count": 288,
     "metadata": {},
     "output_type": "execute_result"
    }
   ],
   "source": [
    "fftfreq(10)\n",
    "fftfreq(10,0.1)"
   ]
  },
  {
   "cell_type": "code",
   "execution_count": 35,
   "id": "190cd3a6",
   "metadata": {
    "scrolled": false
   },
   "outputs": [
    {
     "data": {
      "text/plain": [
       "<Figure size 720x288 with 0 Axes>"
      ]
     },
     "execution_count": 35,
     "metadata": {},
     "output_type": "execute_result"
    },
    {
     "data": {
      "text/plain": [
       "<AxesSubplot:>"
      ]
     },
     "execution_count": 35,
     "metadata": {},
     "output_type": "execute_result"
    },
    {
     "data": {
      "text/plain": [
       "[<matplotlib.lines.Line2D at 0x7fa407243a90>]"
      ]
     },
     "execution_count": 35,
     "metadata": {},
     "output_type": "execute_result"
    },
    {
     "data": {
      "text/plain": [
       "<AxesSubplot:>"
      ]
     },
     "execution_count": 35,
     "metadata": {},
     "output_type": "execute_result"
    },
    {
     "data": {
      "text/plain": [
       "[<matplotlib.lines.Line2D at 0x7fa4073a1280>]"
      ]
     },
     "execution_count": 35,
     "metadata": {},
     "output_type": "execute_result"
    },
    {
     "data": {
      "image/png": "[encoded data removed]",
      "text/plain": [
       "<Figure size 720x288 with 2 Axes>"
      ]
     },
     "metadata": {
      "needs_background": "light"
     },
     "output_type": "display_data"
    }
   ],
   "source": [
    "n = 1024\n",
    "# a = np.sin(np.linspace(-np.pi, 1*np.pi, n)) + np.cos(np.linspace(0, 100*np.pi, n))\n",
    "# a = np.sin(np.cos(np.linspace(0, 100*np.pi, n)))\n",
    "# a = np.sin(np.linspace(-0.25*np.pi, 0.25*np.pi, n)) + np.cos(np.linspace(-0.25*np.pi, 0.25*np.pi, n))\n",
    "# a = np.sin(np.linspace(-0*np.pi, 10*np.pi, n)) + np.cos(np.linspace(-0*np.pi, 1000*np.pi, n))\n",
    "a = np.cos(np.linspace(0, 500*np.pi, n))\n",
    "# a = np.linspace(-1,1,n)\n",
    "x = fftfreq(n)\n",
    "# x\n",
    "b = fft(a)\n",
    "# b\n",
    "# b1 = fftshift(b)\n",
    "# b1\n",
    "plt.figure(figsize=(10,4))\n",
    "plt.subplot(1,2,1)\n",
    "plt.plot(a)\n",
    "plt.subplot(1,2,2)\n",
    "plt.plot(x, np.abs(b))\n",
    "# plt.plot(x, b.real-b.imag)\n",
    "# plt.plot(b.real-b.imag)\n",
    "plt.show()"
   ]
  },
  {
   "cell_type": "code",
   "execution_count": 32,
   "id": "68431a2c",
   "metadata": {},
   "outputs": [
    {
     "data": {
      "text/plain": [
       "array([1.        , 0.9969421 , 0.99390416, ..., 1.00929591, 1.00617666,\n",
       "       1.0030781 ])"
      ]
     },
     "execution_count": 32,
     "metadata": {},
     "output_type": "execute_result"
    }
   ],
   "source": [
    "b.real - b.imag"
   ]
  },
  {
   "cell_type": "code",
   "execution_count": null,
   "id": "375531d4",
   "metadata": {},
   "outputs": [],
   "source": []
  },
  {
   "cell_type": "code",
   "execution_count": 262,
   "id": "42df2663",
   "metadata": {},
   "outputs": [
    {
     "data": {
      "text/plain": [
       "array([-4.00000000e+00+0.j, -2.00000000e+00+0.j, -2.00000000e+00+0.j,\n",
       "        3.17206578e-16+0.j,  1.00000000e+00+0.j,  2.00000000e+00+0.j,\n",
       "        4.00000000e+00+0.j])"
      ]
     },
     "execution_count": 262,
     "metadata": {},
     "output_type": "execute_result"
    }
   ],
   "source": [
    "c = ifft(b)\n",
    "c"
   ]
  },
  {
   "cell_type": "markdown",
   "id": "be912e9d",
   "metadata": {},
   "source": [
    "# myfft"
   ]
  },
  {
   "cell_type": "markdown",
   "id": "bc265abd",
   "metadata": {},
   "source": [
    "## DIT-FFT"
   ]
  },
  {
   "cell_type": "code",
   "execution_count": 452,
   "id": "6b4cad9b",
   "metadata": {},
   "outputs": [
    {
     "data": {
      "text/plain": [
       "array([28.+0.j  , -4.-9.66j, -4.-4.j  , -4.-1.66j, -4.+0.j  , -4.+1.66j,\n",
       "       -4.+4.j  , -4.+9.66j], dtype=complex64)"
      ]
     },
     "execution_count": 452,
     "metadata": {},
     "output_type": "execute_result"
    },
    {
     "data": {
      "text/plain": [
       "array([0.+0.j, 1.-0.j, 2.-0.j, 3.-0.j, 4.+0.j, 5.+0.j, 6.+0.j, 7.+0.j],\n",
       "      dtype=complex64)"
      ]
     },
     "execution_count": 452,
     "metadata": {},
     "output_type": "execute_result"
    }
   ],
   "source": [
    "def __transform(a:np.array, n:int, type=1):\n",
    "#     n = len(a)\n",
    "    if n == 1: return \n",
    "    m = n // 2\n",
    "    a1 = np.zeros((m,), dtype=a.dtype)\n",
    "    a2 = np.zeros((m,), dtype=a.dtype)\n",
    "    for i in range(m):\n",
    "        a1[i] = a[i<<1]\n",
    "        a2[i] = a[(i<<1)|1]\n",
    "    __transform(a1, m, type)\n",
    "    __transform(a2, m, type)\n",
    "    wn = 1+0j\n",
    "    w1 = np.cos(2*np.pi/n) + type * np.sin(2*np.pi/n)*1j\n",
    "    for i in range(m):\n",
    "        a[i] = a1[i] + wn * a2[i]\n",
    "        a[i + m] = a1[i] - wn * a2[i]\n",
    "        wn *= w1\n",
    "    return \n",
    "def myfft(a:np.array, n:int):\n",
    "    temp = np.zeros((n,),dtype=np.complex64)\n",
    "    for i in range(a.shape[0]):temp[i] = a[i]\n",
    "    __transform(temp, n, 1)\n",
    "    return temp\n",
    "def myifft(a:np.array, n:int):\n",
    "    temp = np.zeros((n,),dtype=np.complex64)\n",
    "    for i in range(a.shape[0]):temp[i] = a[i]\n",
    "    __transform(temp, n, -1)\n",
    "    temp /= a.shape[0]\n",
    "    return temp    \n",
    "x = np.arange(8)\n",
    "y = myfft(x, 8)\n",
    "z = myifft(y, 8)\n",
    "y\n",
    "z    "
   ]
  },
  {
   "cell_type": "code",
   "execution_count": 457,
   "id": "ffa0773e",
   "metadata": {},
   "outputs": [
    {
     "data": {
      "text/plain": [
       "'0b10101010101010101010101010101010'"
      ]
     },
     "execution_count": 457,
     "metadata": {},
     "output_type": "execute_result"
    },
    {
     "data": {
      "text/plain": [
       "'0b11001100110011001100110011001100'"
      ]
     },
     "execution_count": 457,
     "metadata": {},
     "output_type": "execute_result"
    },
    {
     "data": {
      "text/plain": [
       "'0b11110000111100001111000011110000'"
      ]
     },
     "execution_count": 457,
     "metadata": {},
     "output_type": "execute_result"
    },
    {
     "data": {
      "text/plain": [
       "'0b11111111000000001111111100000000'"
      ]
     },
     "execution_count": 457,
     "metadata": {},
     "output_type": "execute_result"
    },
    {
     "data": {
      "text/plain": [
       "'0b1010101010101010101010101010101'"
      ]
     },
     "execution_count": 457,
     "metadata": {},
     "output_type": "execute_result"
    },
    {
     "data": {
      "text/plain": [
       "'0b110011001100110011001100110011'"
      ]
     },
     "execution_count": 457,
     "metadata": {},
     "output_type": "execute_result"
    },
    {
     "data": {
      "text/plain": [
       "'0b1111000011110000111100001111'"
      ]
     },
     "execution_count": 457,
     "metadata": {},
     "output_type": "execute_result"
    },
    {
     "data": {
      "text/plain": [
       "'0b111111110000000011111111'"
      ]
     },
     "execution_count": 457,
     "metadata": {},
     "output_type": "execute_result"
    }
   ],
   "source": [
    "bin(0xaaaaaaaa)\n",
    "bin(0xcccccccc)\n",
    "bin(0xf0f0f0f0)\n",
    "bin(0xff00ff00)\n",
    "bin(0x55555555)\n",
    "bin(0x33333333)\n",
    "bin(0x0f0f0f0f)\n",
    "bin(0x00ff00ff)"
   ]
  },
  {
   "cell_type": "code",
   "execution_count": 458,
   "id": "7621a838",
   "metadata": {},
   "outputs": [
    {
     "data": {
      "text/plain": [
       "'0b1010101010101010101010101010101'"
      ]
     },
     "execution_count": 458,
     "metadata": {},
     "output_type": "execute_result"
    },
    {
     "data": {
      "text/plain": [
       "'0b110011001100110011001100110011'"
      ]
     },
     "execution_count": 458,
     "metadata": {},
     "output_type": "execute_result"
    },
    {
     "data": {
      "text/plain": [
       "'0b1111000011110000111100001111'"
      ]
     },
     "execution_count": 458,
     "metadata": {},
     "output_type": "execute_result"
    },
    {
     "data": {
      "text/plain": [
       "'0b111111110000000011111111'"
      ]
     },
     "execution_count": 458,
     "metadata": {},
     "output_type": "execute_result"
    },
    {
     "data": {
      "text/plain": [
       "'0b10101010101010101010101010101010'"
      ]
     },
     "execution_count": 458,
     "metadata": {},
     "output_type": "execute_result"
    },
    {
     "data": {
      "text/plain": [
       "'0b11001100110011001100110011001100'"
      ]
     },
     "execution_count": 458,
     "metadata": {},
     "output_type": "execute_result"
    },
    {
     "data": {
      "text/plain": [
       "'0b11110000111100001111000011110000'"
      ]
     },
     "execution_count": 458,
     "metadata": {},
     "output_type": "execute_result"
    },
    {
     "data": {
      "text/plain": [
       "'0b11111111000000001111111100000000'"
      ]
     },
     "execution_count": 458,
     "metadata": {},
     "output_type": "execute_result"
    }
   ],
   "source": [
    "bin(0xaaaaaaaa>>1)\n",
    "bin(0xcccccccc>>2)\n",
    "bin(0xf0f0f0f0>>4)\n",
    "bin(0xff00ff00>>8)\n",
    "bin(0x55555555<<1)\n",
    "bin(0x33333333<<2)\n",
    "bin(0x0f0f0f0f<<4)\n",
    "bin(0x00ff00ff<<8)"
   ]
  },
  {
   "cell_type": "markdown",
   "id": "84fa286f",
   "metadata": {},
   "source": [
    "## DIF-FFT"
   ]
  },
  {
   "cell_type": "code",
   "execution_count": 453,
   "id": "9704d03f",
   "metadata": {},
   "outputs": [
    {
     "data": {
      "text/plain": [
       "array([28.  +0.j  , -1.41+9.07j,  1.  +9.j  , -2.83+2.83j,  6.  +0.j  ,\n",
       "        0.  +2.j  ,  1.  -0.j  ,  0.  -0.j  ], dtype=complex64)"
      ]
     },
     "execution_count": 453,
     "metadata": {},
     "output_type": "execute_result"
    },
    {
     "data": {
      "text/plain": [
       "array([3.97+2.86j, 5.07-0.74j, 3.57+0.38j, 2.97-0.53j, 3.09+2.61j,\n",
       "       4.62-0.13j, 3.32+1.13j, 3.5 +0.j  ], dtype=complex64)"
      ]
     },
     "execution_count": 453,
     "metadata": {},
     "output_type": "execute_result"
    }
   ],
   "source": [
    "def __transform(a:np.array, n:int, type=1):\n",
    "#     n = len(a)\n",
    "    if n == 1: return \n",
    "    m = n // 2\n",
    "    a1 = a[:m]\n",
    "    a2 = a[m:]\n",
    "#     a1 = np.zeros((m,), dtype=a.dtype)\n",
    "#     a2 = np.zeros((m,), dtype=a.dtype)\n",
    "#     for i in range(m):\n",
    "#         a1[i] = a[i<<1]\n",
    "#         a2[i] = a[(i<<1)|1]\n",
    "    __transform(a1, m, type)\n",
    "    __transform(a2, m, type)\n",
    "    wn = 1+0j\n",
    "    w1 = np.cos(2*np.pi/n) + type * np.sin(2*np.pi/n)*1j\n",
    "    for i in range(m):\n",
    "        a[i] = a1[i] + wn * a2[i]\n",
    "        a[i + m] = a1[i] - wn * a2[i]\n",
    "        wn *= w1\n",
    "    return \n",
    "def myfft(a:np.array, n:int):\n",
    "    temp = np.zeros((n,),dtype=np.complex64)\n",
    "    for i in range(a.shape[0]):temp[i] = a[i]\n",
    "    __transform(temp, n, 1)\n",
    "    return temp\n",
    "def myifft(a:np.array, n:int):\n",
    "    temp = np.zeros((n,),dtype=np.complex64)\n",
    "    for i in range(a.shape[0]):temp[i] = a[i]\n",
    "    __transform(temp, n, -1)\n",
    "    temp /= a.shape[0]\n",
    "    return temp    \n",
    "x = np.arange(8)\n",
    "y = myfft(x, 8)\n",
    "z = myifft(y, 8)\n",
    "y\n",
    "z    "
   ]
  },
  {
   "cell_type": "code",
   "execution_count": 451,
   "id": "d60366c7",
   "metadata": {},
   "outputs": [
    {
     "data": {
      "text/plain": [
       "array([28.+0.j  , -4.+9.66j, -4.+4.j  , -4.+1.66j, -4.+0.j  , -4.-1.66j,\n",
       "       -4.-4.j  , -4.-9.66j], dtype=complex64)"
      ]
     },
     "execution_count": 451,
     "metadata": {},
     "output_type": "execute_result"
    },
    {
     "data": {
      "text/plain": [
       "array([0.+0.j, 1.+0.j, 2.+0.j, 3.+0.j, 4.+0.j, 5.-0.j, 6.-0.j, 7.-0.j],\n",
       "      dtype=complex64)"
      ]
     },
     "execution_count": 451,
     "metadata": {},
     "output_type": "execute_result"
    }
   ],
   "source": [
    "def __transform(a:np.array, n:int, type=1):\n",
    "#     n = len(a)\n",
    "    if n == 1: return \n",
    "    m = n // 2\n",
    "    a1 = np.zeros((m,), dtype=a.dtype)\n",
    "    a2 = np.zeros((m,), dtype=a.dtype)\n",
    "    for i in range(m):\n",
    "        a1[i] = a[i<<1]\n",
    "        a2[i] = a[(i<<1)|1]\n",
    "    __transform(a1, m, type)\n",
    "    __transform(a2, m, type)\n",
    "    wn = 1+0j\n",
    "    w1 = np.cos(2*np.pi/n) + type * np.sin(2*np.pi/n)*1j\n",
    "    for i in range(m):\n",
    "        a[i] = a1[i] + wn * a2[i]\n",
    "        a[i + m] = a1[i] - wn * a2[i]\n",
    "        wn *= w1\n",
    "    return \n",
    "def myfft(a:np.array, n:int):\n",
    "    temp = np.zeros((n,),dtype=np.complex64)\n",
    "    for i in range(a.shape[0]):temp[i] = a[i]\n",
    "    __transform(temp, n, -1)\n",
    "    return temp\n",
    "def myifft(a:np.array, n:int):\n",
    "    temp = np.zeros((n,),dtype=np.complex64)\n",
    "    for i in range(a.shape[0]):temp[i] = a[i]\n",
    "    __transform(temp, n, 1)\n",
    "    temp /= a.shape[0]\n",
    "    return temp    \n",
    "x = np.arange(8)\n",
    "y = myfft(x, 8)\n",
    "z = myifft(y, 8)\n",
    "y\n",
    "z    "
   ]
  },
  {
   "cell_type": "code",
   "execution_count": 446,
   "id": "b70b5702",
   "metadata": {},
   "outputs": [
    {
     "name": "stderr",
     "output_type": "stream",
     "text": [
      "ic| a: array([-1.  , -0.33,  0.33,  1.  ])\n"
     ]
    },
    {
     "data": {
      "text/plain": [
       "array([-1.  , -0.33,  0.33,  1.  ])"
      ]
     },
     "execution_count": 446,
     "metadata": {},
     "output_type": "execute_result"
    }
   ],
   "source": [
    "from icecream import ic\n",
    "ic(a)"
   ]
  },
  {
   "cell_type": "code",
   "execution_count": 447,
   "id": "4ec5f765",
   "metadata": {},
   "outputs": [
    {
     "name": "stderr",
     "output_type": "stream",
     "text": [
      "ic| a1: array([1.+0.j], dtype=complex64)\n",
      "ic| a2: array([2.+0.j], dtype=complex64)\n",
      "ic| a1: array([3.+0.j], dtype=complex64)\n",
      "ic| a2: array([-1.+0.j], dtype=complex64)\n"
     ]
    },
    {
     "data": {
      "text/plain": [
       "array([ 3.+0.j, -1.+0.j,  3.+0.j], dtype=complex64)"
      ]
     },
     "execution_count": 447,
     "metadata": {},
     "output_type": "execute_result"
    },
    {
     "data": {
      "text/plain": [
       "array([0.67+0.j, 1.33+0.j, 1.  +0.j], dtype=complex64)"
      ]
     },
     "execution_count": 447,
     "metadata": {},
     "output_type": "execute_result"
    }
   ],
   "source": [
    "def __transform2(a:np.array, n:int, type=1):\n",
    "#     n = len(a)\n",
    "    if n == 1: return \n",
    "    m = n // 2\n",
    "    a1 = np.zeros((m + (n % m),), dtype=a.dtype)\n",
    "    a2 = np.zeros((m,), dtype=a.dtype)\n",
    "    for i in range(m):\n",
    "        a1[i] = a[i<<1]\n",
    "        a2[i] = a[(i<<1)|1]\n",
    "    if (n % m):\n",
    "        a1[-1] = a[-1]\n",
    "    ic(a1)\n",
    "    ic(a2)\n",
    "    __transform2(a1, m, type)\n",
    "    __transform2(a2, m, type)\n",
    "    wn = 1+0j\n",
    "    w1 = np.cos(2*np.pi/n) + type * np.sin(2*np.pi/n)*1j\n",
    "    for i in range(m):\n",
    "        a[i] = a1[i] + wn * a2[i]\n",
    "        a[i + m] = a1[i] - wn * a2[i]\n",
    "        wn *= w1\n",
    "    return \n",
    "def myfft2(a:np.array, n:int):\n",
    "    temp = np.zeros((n,),dtype=np.complex64)\n",
    "    for i in range(a.shape[0]):temp[i] = a[i]\n",
    "    __transform2(temp, n, 1)\n",
    "    return temp\n",
    "def myifft2(a:np.array, n:int):\n",
    "    temp = np.zeros((n,),dtype=np.complex64)\n",
    "    for i in range(a.shape[0]):temp[i] = a[i]\n",
    "    __transform2(temp, n, -1)\n",
    "    temp /= a.shape[0]\n",
    "    return temp    \n",
    "x = np.array([1, 2, 3])\n",
    "n = x.shape[0]\n",
    "y = myfft2(x, n)\n",
    "z = myifft2(y, n)\n",
    "y\n",
    "z    "
   ]
  },
  {
   "cell_type": "code",
   "execution_count": 329,
   "id": "3aa8d276",
   "metadata": {},
   "outputs": [
    {
     "data": {
      "text/plain": [
       "array([ 0.0000000e+00+0.0000000e+00j, -1.7137072e+01+1.5059664e-08j,\n",
       "        4.4408921e-16-9.6568546e+00j, -5.6199141e+00-1.2784344e-09j,\n",
       "        8.8817842e-16-4.0000000e+00j, -4.7232313e+00-1.2784337e-09j,\n",
       "        2.2204460e-15-1.6568543e+00j, -4.5197830e+00+1.5059667e-08j,\n",
       "        0.0000000e+00+0.0000000e+00j, -4.5197830e+00-1.5059662e-08j,\n",
       "       -1.3322676e-15+1.6568543e+00j, -4.7232313e+00+1.2784330e-09j,\n",
       "       -8.8817842e-16+4.0000000e+00j, -5.6199141e+00+1.2784332e-09j,\n",
       "       -1.3322676e-15+9.6568546e+00j, -1.7137072e+01-1.5059666e-08j],\n",
       "      dtype=complex64)"
      ]
     },
     "execution_count": 329,
     "metadata": {},
     "output_type": "execute_result"
    },
    {
     "data": {
      "text/plain": [
       "array([-4.0000000e+00+1.1102230e-16j, -3.0000002e+00+1.4180604e-09j,\n",
       "       -2.0000000e+00+1.1102230e-16j, -1.0000001e+00+7.2656361e-09j,\n",
       "        5.5511151e-17-1.2325952e-32j,  1.0000001e+00-4.1392192e-09j,\n",
       "        2.0000000e+00-3.3306691e-16j,  3.0000002e+00+1.4180603e-09j,\n",
       "        4.0000000e+00-1.1102230e-16j], dtype=complex64)"
      ]
     },
     "execution_count": 329,
     "metadata": {},
     "output_type": "execute_result"
    }
   ],
   "source": [
    "x = np.array([-4,-3,-2,-1, 0, 1, 2, 3, 4])\n",
    "y = myfft(x, 16)\n",
    "z = myifft(y, 16)[:x.shape[0]]\n",
    "y\n",
    "z"
   ]
  },
  {
   "cell_type": "code",
   "execution_count": 433,
   "id": "51f9aa53",
   "metadata": {
    "scrolled": false
   },
   "outputs": [
    {
     "data": {
      "text/plain": [
       "8"
      ]
     },
     "execution_count": 433,
     "metadata": {},
     "output_type": "execute_result"
    },
    {
     "data": {
      "text/plain": [
       "array([-1. , -0.6, -0.2,  0.2,  0.6,  1. ])"
      ]
     },
     "execution_count": 433,
     "metadata": {},
     "output_type": "execute_result"
    },
    {
     "data": {
      "text/plain": [
       "array([ 0.  +0.j  , -2.87-1.19j, -0.2 +0.2j , -0.33-0.79j, -1.2 +0.j  ,\n",
       "       -0.33+0.79j, -0.2 -0.2j , -2.87+1.19j], dtype=complex64)"
      ]
     },
     "execution_count": 433,
     "metadata": {},
     "output_type": "execute_result"
    },
    {
     "data": {
      "text/plain": [
       "array([-1. +0.j, -0.6-0.j, -0.2-0.j,  0.2+0.j,  0.6+0.j,  1. +0.j,\n",
       "        0. +0.j, -0. -0.j], dtype=complex64)"
      ]
     },
     "execution_count": 433,
     "metadata": {},
     "output_type": "execute_result"
    },
    {
     "data": {
      "text/plain": [
       "<Figure size 720x576 with 0 Axes>"
      ]
     },
     "execution_count": 433,
     "metadata": {},
     "output_type": "execute_result"
    },
    {
     "data": {
      "text/plain": [
       "<AxesSubplot:>"
      ]
     },
     "execution_count": 433,
     "metadata": {},
     "output_type": "execute_result"
    },
    {
     "data": {
      "text/plain": [
       "[<matplotlib.lines.Line2D at 0x7f22e0171be0>]"
      ]
     },
     "execution_count": 433,
     "metadata": {},
     "output_type": "execute_result"
    },
    {
     "data": {
      "text/plain": [
       "<AxesSubplot:>"
      ]
     },
     "execution_count": 433,
     "metadata": {},
     "output_type": "execute_result"
    },
    {
     "data": {
      "text/plain": [
       "[<matplotlib.lines.Line2D at 0x7f22e017ccd0>]"
      ]
     },
     "execution_count": 433,
     "metadata": {},
     "output_type": "execute_result"
    },
    {
     "data": {
      "text/plain": [
       "<AxesSubplot:>"
      ]
     },
     "execution_count": 433,
     "metadata": {},
     "output_type": "execute_result"
    },
    {
     "data": {
      "text/plain": [
       "[<matplotlib.lines.Line2D at 0x7f22e01e12e0>]"
      ]
     },
     "execution_count": 433,
     "metadata": {},
     "output_type": "execute_result"
    },
    {
     "data": {
      "image/png": "[encoded data removed]",
      "text/plain": [
       "<Figure size 720x576 with 3 Axes>"
      ]
     },
     "metadata": {
      "needs_background": "light"
     },
     "output_type": "display_data"
    }
   ],
   "source": [
    "np.set_printoptions(precision=2,suppress=True)\n",
    "n = 1000\n",
    "x = np.sin(np.linspace(-np.pi, 1*np.pi, n)) + np.cos(np.linspace(0, 100*np.pi, n)) +np.cos(np.linspace(0, 1000*np.pi, n))\n",
    "x = np.linspace(-1,1,1000)\n",
    "x = np.sin(10*np.cos(np.linspace(-np.pi, 1*np.pi, n)))\n",
    "x = np.arange(6)\n",
    "x = np.linspace(-1,1,6)\n",
    "n = min(n, x.shape[0])\n",
    "N = 1\n",
    "while (N < n): N<<=1\n",
    "N\n",
    "y = myfft(x, N)\n",
    "l = 400\n",
    "r = 600\n",
    "e = None if l == 0 else -l\n",
    "# y[l:r] = 0\n",
    "# y[-r:e] = 0\n",
    "z = myifft(y, N)\n",
    "x\n",
    "y\n",
    "z\n",
    "# x[:10]\n",
    "# y[:10]\n",
    "# z[:10]\n",
    "plt.figure(figsize=(10,8))\n",
    "plt.subplot(2,2,1)\n",
    "plt.plot(x)\n",
    "plt.subplot(2,2,2)\n",
    "plt.plot(np.abs(y))\n",
    "plt.subplot(2,2,3)\n",
    "plt.plot(z.real)\n",
    "plt.show()"
   ]
  },
  {
   "cell_type": "code",
   "execution_count": 434,
   "id": "e06d0bb2",
   "metadata": {
    "scrolled": false
   },
   "outputs": [
    {
     "data": {
      "text/plain": [
       "array([-1. , -0.6, -0.2,  0.2,  0.6,  1. ])"
      ]
     },
     "execution_count": 434,
     "metadata": {},
     "output_type": "execute_result"
    },
    {
     "data": {
      "text/plain": [
       "array([-1.6+0.j  , -1.2-0.69j,  0.1+0.87j, -0.8+0.j  , -0.4+0.69j,\n",
       "        1.1-0.87j], dtype=complex64)"
      ]
     },
     "execution_count": 434,
     "metadata": {},
     "output_type": "execute_result"
    },
    {
     "data": {
      "text/plain": [
       "array([-0.58+0.03j, -0.42-0.14j, -0.28+0.03j,  0.08+0.26j, -0.15-0.14j,\n",
       "        0.15+0.2j ], dtype=complex64)"
      ]
     },
     "execution_count": 434,
     "metadata": {},
     "output_type": "execute_result"
    },
    {
     "data": {
      "text/plain": [
       "<Figure size 720x576 with 0 Axes>"
      ]
     },
     "execution_count": 434,
     "metadata": {},
     "output_type": "execute_result"
    },
    {
     "data": {
      "text/plain": [
       "<AxesSubplot:>"
      ]
     },
     "execution_count": 434,
     "metadata": {},
     "output_type": "execute_result"
    },
    {
     "data": {
      "text/plain": [
       "[<matplotlib.lines.Line2D at 0x7f22e01dcaf0>]"
      ]
     },
     "execution_count": 434,
     "metadata": {},
     "output_type": "execute_result"
    },
    {
     "data": {
      "text/plain": [
       "<AxesSubplot:>"
      ]
     },
     "execution_count": 434,
     "metadata": {},
     "output_type": "execute_result"
    },
    {
     "data": {
      "text/plain": [
       "[<matplotlib.lines.Line2D at 0x7f22e01ea8b0>]"
      ]
     },
     "execution_count": 434,
     "metadata": {},
     "output_type": "execute_result"
    },
    {
     "data": {
      "text/plain": [
       "<AxesSubplot:>"
      ]
     },
     "execution_count": 434,
     "metadata": {},
     "output_type": "execute_result"
    },
    {
     "data": {
      "text/plain": [
       "[<matplotlib.lines.Line2D at 0x7f22dffb9070>]"
      ]
     },
     "execution_count": 434,
     "metadata": {},
     "output_type": "execute_result"
    },
    {
     "data": {
      "image/png": "[encoded data removed]",
      "text/plain": [
       "<Figure size 720x576 with 3 Axes>"
      ]
     },
     "metadata": {
      "needs_background": "light"
     },
     "output_type": "display_data"
    }
   ],
   "source": [
    "np.set_printoptions(precision=2,suppress=True)\n",
    "n = 1000\n",
    "x = np.sin(np.linspace(-np.pi, 1*np.pi, n)) + np.cos(np.linspace(0, 100*np.pi, n)) +np.cos(np.linspace(0, 1000*np.pi, n))\n",
    "x = np.linspace(-1,1,1000)\n",
    "x = np.sin(10*np.cos(np.linspace(-np.pi, 1*np.pi, n)))\n",
    "x = np.arange(6)\n",
    "x = np.linspace(-1,1,6)\n",
    "n = min(n, x.shape[0])\n",
    "N = 1\n",
    "while (N < n): N<<=1\n",
    "N = n\n",
    "y = myfft(x, N)\n",
    "l = 400\n",
    "r = 600\n",
    "e = None if l == 0 else -l\n",
    "# y[l:r] = 0\n",
    "# y[-r:e] = 0\n",
    "z = myifft(y, N)\n",
    "x\n",
    "y\n",
    "z\n",
    "# x[:10]\n",
    "# y[:10]\n",
    "# z[:10]\n",
    "plt.figure(figsize=(10,8))\n",
    "plt.subplot(2,2,1)\n",
    "plt.plot(x)\n",
    "plt.subplot(2,2,2)\n",
    "plt.plot(np.abs(y))\n",
    "plt.subplot(2,2,3)\n",
    "plt.plot(z.real)\n",
    "plt.show()"
   ]
  },
  {
   "cell_type": "code",
   "execution_count": 426,
   "id": "d6dcc21f",
   "metadata": {},
   "outputs": [
    {
     "data": {
      "text/plain": [
       "array([-1.        , -0.33333333,  0.33333333,  1.        ])"
      ]
     },
     "execution_count": 426,
     "metadata": {},
     "output_type": "execute_result"
    },
    {
     "data": {
      "text/plain": [
       "(4,)"
      ]
     },
     "execution_count": 426,
     "metadata": {},
     "output_type": "execute_result"
    },
    {
     "data": {
      "text/plain": [
       "array([-1.11022302e-16-0.j        , -1.33333333e+00+1.33333333j,\n",
       "       -1.33333333e+00-0.j        , -1.33333333e+00-1.33333333j])"
      ]
     },
     "execution_count": 426,
     "metadata": {},
     "output_type": "execute_result"
    },
    {
     "data": {
      "text/plain": [
       "[<matplotlib.lines.Line2D at 0x7f22e1026a60>]"
      ]
     },
     "execution_count": 426,
     "metadata": {},
     "output_type": "execute_result"
    },
    {
     "data": {
      "image/png": "[encoded data removed]",
      "text/plain": [
       "<Figure size 432x288 with 1 Axes>"
      ]
     },
     "metadata": {
      "needs_background": "light"
     },
     "output_type": "display_data"
    }
   ],
   "source": [
    "a = np.sin(np.linspace(-10*np.pi, 10*np.pi, 1000))\n",
    "# a = np.cos(np.linspace(-np.pi, np.pi, 100))\n",
    "a = np.linspace(-1,1,4)\n",
    "# a = np.arange(4)\n",
    "a\n",
    "b = fft(a)\n",
    "b.shape\n",
    "b\n",
    "# b1 = fftshift(b)\n",
    "# b1\n",
    "plt.plot(np.abs(b))\n",
    "plt.show()"
   ]
  },
  {
   "cell_type": "code",
   "execution_count": 344,
   "id": "0d0d2db7",
   "metadata": {},
   "outputs": [
    {
     "data": {
      "text/plain": [
       "dtype('complex64')"
      ]
     },
     "execution_count": 344,
     "metadata": {},
     "output_type": "execute_result"
    },
    {
     "data": {
      "text/plain": [
       "array([  1.0000012, -37.704926 ,   3.6593206,   3.2179189,   3.0922737,\n",
       "         3.0323474,   2.9914072,   2.9536734,   2.911427 ,   2.8597207],\n",
       "      dtype=float32)"
      ]
     },
     "execution_count": 344,
     "metadata": {},
     "output_type": "execute_result"
    },
    {
     "data": {
      "text/plain": [
       "((1024,), (10,), (10,))"
      ]
     },
     "execution_count": 344,
     "metadata": {},
     "output_type": "execute_result"
    }
   ],
   "source": [
    "y.dtype\n",
    "y[:10].real\n",
    "y.shape, y[:10].shape, y[-10:].shape"
   ]
  },
  {
   "cell_type": "markdown",
   "id": "e2ebd2f0",
   "metadata": {},
   "source": [
    "# gym "
   ]
  },
  {
   "cell_type": "code",
   "execution_count": 162,
   "id": "8e9eda03",
   "metadata": {},
   "outputs": [],
   "source": [
    "import gym"
   ]
  },
  {
   "cell_type": "code",
   "execution_count": 164,
   "id": "44df14f8",
   "metadata": {},
   "outputs": [
    {
     "data": {
      "text/plain": [
       "array([ 0.01977585,  0.03800463, -0.03670713,  0.00693857], dtype=float32)"
      ]
     },
     "execution_count": 164,
     "metadata": {},
     "output_type": "execute_result"
    },
    {
     "ename": "error",
     "evalue": "No available video device",
     "output_type": "error",
     "traceback": [
      "\u001b[0;31m---------------------------------------------------------------------------\u001b[0m",
      "\u001b[0;31merror\u001b[0m                                     Traceback (most recent call last)",
      "Input \u001b[0;32mIn [164]\u001b[0m, in \u001b[0;36m<module>\u001b[0;34m\u001b[0m\n\u001b[1;32m      5\u001b[0m \u001b[38;5;66;03m#重置环境，让环境回到起点\u001b[39;00m\n\u001b[1;32m      6\u001b[0m \u001b[38;5;28;01mfor\u001b[39;00m _ \u001b[38;5;129;01min\u001b[39;00m \u001b[38;5;28mrange\u001b[39m(\u001b[38;5;241m100\u001b[39m):\n\u001b[0;32m----> 7\u001b[0m     \u001b[43menv\u001b[49m\u001b[38;5;241;43m.\u001b[39;49m\u001b[43mrender\u001b[49m\u001b[43m(\u001b[49m\u001b[43m)\u001b[49m\n\u001b[1;32m      8\u001b[0m     \u001b[38;5;66;03m#提供环境（把游戏中发生的显示到屏幕上）\u001b[39;00m\n\u001b[1;32m      9\u001b[0m     env\u001b[38;5;241m.\u001b[39mstep(env\u001b[38;5;241m.\u001b[39maction_space\u001b[38;5;241m.\u001b[39msample()) \n",
      "File \u001b[0;32m/opt/conda/lib/python3.9/site-packages/gym/core.py:286\u001b[0m, in \u001b[0;36mWrapper.render\u001b[0;34m(self, mode, **kwargs)\u001b[0m\n\u001b[1;32m    285\u001b[0m \u001b[38;5;28;01mdef\u001b[39;00m \u001b[38;5;21mrender\u001b[39m(\u001b[38;5;28mself\u001b[39m, mode\u001b[38;5;241m=\u001b[39m\u001b[38;5;124m\"\u001b[39m\u001b[38;5;124mhuman\u001b[39m\u001b[38;5;124m\"\u001b[39m, \u001b[38;5;241m*\u001b[39m\u001b[38;5;241m*\u001b[39mkwargs):\n\u001b[0;32m--> 286\u001b[0m     \u001b[38;5;28;01mreturn\u001b[39;00m \u001b[38;5;28;43mself\u001b[39;49m\u001b[38;5;241;43m.\u001b[39;49m\u001b[43menv\u001b[49m\u001b[38;5;241;43m.\u001b[39;49m\u001b[43mrender\u001b[49m\u001b[43m(\u001b[49m\u001b[43mmode\u001b[49m\u001b[43m,\u001b[49m\u001b[43m \u001b[49m\u001b[38;5;241;43m*\u001b[39;49m\u001b[38;5;241;43m*\u001b[39;49m\u001b[43mkwargs\u001b[49m\u001b[43m)\u001b[49m\n",
      "File \u001b[0;32m/opt/conda/lib/python3.9/site-packages/gym/core.py:286\u001b[0m, in \u001b[0;36mWrapper.render\u001b[0;34m(self, mode, **kwargs)\u001b[0m\n\u001b[1;32m    285\u001b[0m \u001b[38;5;28;01mdef\u001b[39;00m \u001b[38;5;21mrender\u001b[39m(\u001b[38;5;28mself\u001b[39m, mode\u001b[38;5;241m=\u001b[39m\u001b[38;5;124m\"\u001b[39m\u001b[38;5;124mhuman\u001b[39m\u001b[38;5;124m\"\u001b[39m, \u001b[38;5;241m*\u001b[39m\u001b[38;5;241m*\u001b[39mkwargs):\n\u001b[0;32m--> 286\u001b[0m     \u001b[38;5;28;01mreturn\u001b[39;00m \u001b[38;5;28;43mself\u001b[39;49m\u001b[38;5;241;43m.\u001b[39;49m\u001b[43menv\u001b[49m\u001b[38;5;241;43m.\u001b[39;49m\u001b[43mrender\u001b[49m\u001b[43m(\u001b[49m\u001b[43mmode\u001b[49m\u001b[43m,\u001b[49m\u001b[43m \u001b[49m\u001b[38;5;241;43m*\u001b[39;49m\u001b[38;5;241;43m*\u001b[39;49m\u001b[43mkwargs\u001b[49m\u001b[43m)\u001b[49m\n",
      "File \u001b[0;32m/opt/conda/lib/python3.9/site-packages/gym/envs/classic_control/cartpole.py:207\u001b[0m, in \u001b[0;36mCartPoleEnv.render\u001b[0;34m(self, mode)\u001b[0m\n\u001b[1;32m    205\u001b[0m \u001b[38;5;28;01mif\u001b[39;00m \u001b[38;5;28mself\u001b[39m\u001b[38;5;241m.\u001b[39mscreen \u001b[38;5;129;01mis\u001b[39;00m \u001b[38;5;28;01mNone\u001b[39;00m:\n\u001b[1;32m    206\u001b[0m     pygame\u001b[38;5;241m.\u001b[39minit()\n\u001b[0;32m--> 207\u001b[0m     \u001b[43mpygame\u001b[49m\u001b[38;5;241;43m.\u001b[39;49m\u001b[43mdisplay\u001b[49m\u001b[38;5;241;43m.\u001b[39;49m\u001b[43minit\u001b[49m\u001b[43m(\u001b[49m\u001b[43m)\u001b[49m\n\u001b[1;32m    208\u001b[0m     \u001b[38;5;28mself\u001b[39m\u001b[38;5;241m.\u001b[39mscreen \u001b[38;5;241m=\u001b[39m pygame\u001b[38;5;241m.\u001b[39mdisplay\u001b[38;5;241m.\u001b[39mset_mode((screen_width, screen_height))\n\u001b[1;32m    209\u001b[0m \u001b[38;5;28;01mif\u001b[39;00m \u001b[38;5;28mself\u001b[39m\u001b[38;5;241m.\u001b[39mclock \u001b[38;5;129;01mis\u001b[39;00m \u001b[38;5;28;01mNone\u001b[39;00m:\n",
      "\u001b[0;31merror\u001b[0m: No available video device"
     ]
    }
   ],
   "source": [
    "import gym\n",
    "env = gym.make('CartPole-v0')\n",
    "#生成环境\n",
    "env.reset()\n",
    "#重置环境，让环境回到起点\n",
    "for _ in range(100):\n",
    "    env.render()\n",
    "    #提供环境（把游戏中发生的显示到屏幕上）\n",
    "    env.step(env.action_space.sample()) \n",
    "    #env.action_space.sample() 会在动作空间中随机选择一个\n",
    "    #env.step会顺着这个动作进入下一个状态\n",
    "env.close()\n"
   ]
  },
  {
   "cell_type": "code",
   "execution_count": 167,
   "id": "c6149e1b",
   "metadata": {},
   "outputs": [
    {
     "data": {
      "text/plain": [
       "27"
      ]
     },
     "execution_count": 167,
     "metadata": {},
     "output_type": "execute_result"
    }
   ],
   "source": [
    "len(bin(100000000)[2:])"
   ]
  },
  {
   "cell_type": "code",
   "execution_count": 170,
   "id": "ca8511d8",
   "metadata": {},
   "outputs": [
    {
     "data": {
      "text/plain": [
       "'0x3b9aca00'"
      ]
     },
     "execution_count": 170,
     "metadata": {},
     "output_type": "execute_result"
    }
   ],
   "source": [
    "hex(int(1e9))"
   ]
  },
  {
   "cell_type": "code",
   "execution_count": 171,
   "id": "2bdc9336",
   "metadata": {},
   "outputs": [
    {
     "data": {
      "text/plain": [
       "65535"
      ]
     },
     "execution_count": 171,
     "metadata": {},
     "output_type": "execute_result"
    }
   ],
   "source": [
    "0xffff"
   ]
  },
  {
   "cell_type": "code",
   "execution_count": 206,
   "id": "9f34d996",
   "metadata": {},
   "outputs": [
    {
     "data": {
      "text/plain": [
       "(24, 4, 24)"
      ]
     },
     "execution_count": 206,
     "metadata": {},
     "output_type": "execute_result"
    }
   ],
   "source": [
    "5+1 << 2, 1 <<2, (5+1)<<2"
   ]
  },
  {
   "cell_type": "code",
   "execution_count": 207,
   "id": "a29ed11e",
   "metadata": {},
   "outputs": [
    {
     "data": {
      "text/plain": [
       "('0b101', '0b11000', '0b110')"
      ]
     },
     "execution_count": 207,
     "metadata": {},
     "output_type": "execute_result"
    }
   ],
   "source": [
    "bin(5), bin(24), bin(6)"
   ]
  },
  {
   "cell_type": "code",
   "execution_count": 209,
   "id": "fafd8c45",
   "metadata": {},
   "outputs": [
    {
     "data": {
      "text/plain": [
       "(1+2j)"
      ]
     },
     "execution_count": 209,
     "metadata": {},
     "output_type": "execute_result"
    }
   ],
   "source": [
    "a = 1+2j\n",
    "a"
   ]
  },
  {
   "cell_type": "code",
   "execution_count": 250,
   "id": "650249cd",
   "metadata": {},
   "outputs": [
    {
     "data": {
      "text/plain": [
       "array([[1.+0.j],\n",
       "       [1.+0.j],\n",
       "       [1.+0.j],\n",
       "       [1.+0.j]], dtype=complex64)"
      ]
     },
     "execution_count": 250,
     "metadata": {},
     "output_type": "execute_result"
    },
    {
     "data": {
      "text/plain": [
       "array([[ 1.+0.j],\n",
       "       [ 0.+1.j],\n",
       "       [-1.+0.j],\n",
       "       [-0.-1.j]], dtype=complex64)"
      ]
     },
     "execution_count": 250,
     "metadata": {},
     "output_type": "execute_result"
    },
    {
     "data": {
      "text/plain": [
       "array([[ 1.+0.j,  1.+0.j,  1.+0.j,  1.+0.j],\n",
       "       [ 1.+0.j,  0.+1.j, -1.+0.j, -0.-1.j],\n",
       "       [ 1.+0.j, -1.+0.j,  1.-0.j, -1.+0.j],\n",
       "       [ 1.+0.j, -0.-1.j, -1.+0.j,  0.+1.j]], dtype=complex64)"
      ]
     },
     "execution_count": 250,
     "metadata": {},
     "output_type": "execute_result"
    }
   ],
   "source": [
    "a = np.ones((4, 1),dtype=np.complex64)\n",
    "a\n",
    "b1 = np.array([1, 1j, -1, -1j], dtype=np.complex64).reshape(-1, 1)\n",
    "b1\n",
    "c = a.copy()\n",
    "for i in range(1, 4):\n",
    "    c = np.c_[c, b1**i]\n",
    "c\n"
   ]
  },
  {
   "cell_type": "code",
   "execution_count": 227,
   "id": "d4810142",
   "metadata": {},
   "outputs": [
    {
     "data": {
      "text/plain": [
       "array([[ 1.+0.j],\n",
       "       [ 0.+0.j],\n",
       "       [-1.+0.j],\n",
       "       [ 0.+0.j]], dtype=complex64)"
      ]
     },
     "execution_count": 227,
     "metadata": {},
     "output_type": "execute_result"
    }
   ],
   "source": [
    "b1"
   ]
  },
  {
   "cell_type": "code",
   "execution_count": 251,
   "id": "158aa975",
   "metadata": {},
   "outputs": [
    {
     "data": {
      "text/plain": [
       "array([[1.+0.j],\n",
       "       [1.+0.j],\n",
       "       [1.+0.j],\n",
       "       [1.+0.j]], dtype=complex64)"
      ]
     },
     "execution_count": 251,
     "metadata": {},
     "output_type": "execute_result"
    },
    {
     "data": {
      "text/plain": [
       "array([[ 1.+0.j],\n",
       "       [-0.-1.j],\n",
       "       [-1.+0.j],\n",
       "       [ 0.+1.j]], dtype=complex64)"
      ]
     },
     "execution_count": 251,
     "metadata": {},
     "output_type": "execute_result"
    },
    {
     "data": {
      "text/plain": [
       "array([[ 1.+0.j,  1.+0.j,  1.+0.j,  1.+0.j],\n",
       "       [ 1.+0.j, -0.-1.j, -1.+0.j,  0.+1.j],\n",
       "       [ 1.+0.j, -1.+0.j,  1.-0.j, -1.+0.j],\n",
       "       [ 1.+0.j,  0.+1.j, -1.+0.j, -0.-1.j]], dtype=complex64)"
      ]
     },
     "execution_count": 251,
     "metadata": {},
     "output_type": "execute_result"
    }
   ],
   "source": [
    "a = np.ones((4, 1),dtype=np.complex64)\n",
    "a\n",
    "b2= np.array([1, -1j, -1, 1j], dtype=np.complex64).reshape(-1, 1)\n",
    "b2\n",
    "d = a.copy()\n",
    "for i in range(1, 4):\n",
    "    d = np.c_[d, b2**i]\n",
    "d\n"
   ]
  },
  {
   "cell_type": "code",
   "execution_count": 254,
   "id": "954aa8e4",
   "metadata": {},
   "outputs": [
    {
     "data": {
      "text/plain": [
       "array([[ 1.+0.j,  1.+0.j,  1.+0.j,  1.+0.j],\n",
       "       [ 1.+0.j,  0.-1.j, -1.+0.j,  0.+1.j],\n",
       "       [ 1.+0.j, -1.+0.j,  1.+0.j, -1.+0.j],\n",
       "       [ 1.+0.j,  0.+1.j, -1.-0.j,  0.-1.j]], dtype=complex64)"
      ]
     },
     "execution_count": 254,
     "metadata": {},
     "output_type": "execute_result"
    }
   ],
   "source": [
    "e = np.linalg.inv(c) * 4\n",
    "e"
   ]
  },
  {
   "cell_type": "code",
   "execution_count": 246,
   "id": "4f326ae7",
   "metadata": {},
   "outputs": [
    {
     "data": {
      "text/plain": [
       "array([1.+2.j], dtype=complex64)"
      ]
     },
     "execution_count": 246,
     "metadata": {},
     "output_type": "execute_result"
    }
   ],
   "source": [
    "np.array([1+2j], dtype=np.complex64)"
   ]
  },
  {
   "cell_type": "code",
   "execution_count": 243,
   "id": "67fee603",
   "metadata": {},
   "outputs": [
    {
     "data": {
      "text/plain": [
       "array([3])"
      ]
     },
     "execution_count": 243,
     "metadata": {},
     "output_type": "execute_result"
    }
   ],
   "source": [
    "np.array([i])"
   ]
  },
  {
   "cell_type": "code",
   "execution_count": 245,
   "id": "90af3d53",
   "metadata": {},
   "outputs": [
    {
     "data": {
      "text/plain": [
       "(1+2j)"
      ]
     },
     "execution_count": 245,
     "metadata": {},
     "output_type": "execute_result"
    }
   ],
   "source": [
    "1 + 2j"
   ]
  },
  {
   "cell_type": "code",
   "execution_count": 450,
   "id": "757db5b5",
   "metadata": {},
   "outputs": [
    {
     "data": {
      "text/plain": [
       "('0b0', '0b10', '0b10')"
      ]
     },
     "execution_count": 450,
     "metadata": {},
     "output_type": "execute_result"
    }
   ],
   "source": [
    "a = 0\n",
    "b = 2\n",
    "bin(a), bin(b), bin(a^b)"
   ]
  }
 ],
 "metadata": {
  "kernelspec": {
   "display_name": "Python 3 (ipykernel)",
   "language": "python",
   "name": "python3"
  },
  "language_info": {
   "codemirror_mode": {
    "name": "ipython",
    "version": 3
   },
   "file_extension": ".py",
   "mimetype": "text/x-python",
   "name": "python",
   "nbconvert_exporter": "python",
   "pygments_lexer": "ipython3",
   "version": "3.9.12"
  },
  "toc": {
   "base_numbering": 1,
   "nav_menu": {},
   "number_sections": true,
   "sideBar": true,
   "skip_h1_title": false,
   "title_cell": "Table of Contents",
   "title_sidebar": "Contents",
   "toc_cell": false,
   "toc_position": {},
   "toc_section_display": true,
   "toc_window_display": true
  },
  "varInspector": {
   "cols": {
    "lenName": 16,
    "lenType": 16,
    "lenVar": 40
   },
   "kernels_config": {
    "python": {
     "delete_cmd_postfix": "",
     "delete_cmd_prefix": "del ",
     "library": "var_list.py",
     "varRefreshCmd": "print(var_dic_list())"
    },
    "r": {
     "delete_cmd_postfix": ") ",
     "delete_cmd_prefix": "rm(",
     "library": "var_list.r",
     "varRefreshCmd": "cat(var_dic_list()) "
    }
   },
   "position": {
    "height": "277.844px",
    "left": "873.667px",
    "right": "20px",
    "top": "124px",
    "width": "350px"
   },
   "types_to_exclude": [
    "module",
    "function",
    "builtin_function_or_method",
    "instance",
    "_Feature"
   ],
   "window_display": false
  }
 },
 "nbformat": 4,
 "nbformat_minor": 5
}
