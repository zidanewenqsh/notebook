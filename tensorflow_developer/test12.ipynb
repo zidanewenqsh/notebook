{
 "cells": [
  {
   "cell_type": "code",
   "execution_count": 23,
   "id": "da97e36b",
   "metadata": {},
   "outputs": [],
   "source": [
    "import numpy as np\n",
    "import pandas as pd\n",
    "import os\n",
    "import sys\n",
    "import math\n",
    "import torch\n",
    "import time\n",
    "import re\n",
    "import cv2\n",
    "import shutil\n",
    "from pathlib import Path\n",
    "from tqdm import tqdm\n",
    "from matplotlib import pyplot as plt\n",
    "from torchvision import transforms\n",
    "from icecream import ic\n",
    "import tensorflow as tf \n",
    "from IPython.core.interactiveshell import InteractiveShell\n",
    "InteractiveShell.ast_node_interactivity = \"all\"\n",
    "plt.rcParams['axes.labelsize'] = 14\n",
    "plt.rcParams['xtick.labelsize'] = 12\n",
    "plt.rcParams['ytick.labelsize'] = 12\n",
    "import warnings\n",
    "warnings.filterwarnings('ignore')\n",
    "np.random.seed(42)\n",
    "np.set_printoptions(precision=2,suppress=True)"
   ]
  },
  {
   "cell_type": "code",
   "execution_count": null,
   "id": "e8462345",
   "metadata": {},
   "outputs": [],
   "source": [
    "gpus = tf.config.experimental.list_physical_devices('GPU')\n",
    "tf.config.experimental.set_visible_devices(device_type='GPU', devices=gpus[0])"
   ]
  },
  {
   "cell_type": "code",
   "execution_count": 2,
   "id": "ebe39649",
   "metadata": {},
   "outputs": [
    {
     "name": "stdout",
     "output_type": "stream",
     "text": [
      "--2022-03-05 03:02:16--  http://aimaksen.bslience.cn/poetrySong.txt\n",
      "Resolving aimaksen.bslience.cn (aimaksen.bslience.cn)... 140.249.60.152, 240e:944:1:e00:3::3fc\n",
      "Connecting to aimaksen.bslience.cn (aimaksen.bslience.cn)|140.249.60.152|:80... connected.\n",
      "HTTP request sent, awaiting response... 200 OK\n",
      "Length: 56092736 (53M) [text/plain]\n",
      "Saving to: ‘poetrySong.txt’\n",
      "\n",
      "poetrySong.txt      100%[===================>]  53.49M  1.85MB/s    in 57s     \n",
      "\n",
      "2022-03-05 03:03:13 (956 KB/s) - ‘poetrySong.txt’ saved [56092736/56092736]\n",
      "\n"
     ]
    }
   ],
   "source": [
    "# ! wget http://aimaksen.bslience.cn/poetrySong.txt"
   ]
  },
  {
   "cell_type": "code",
   "execution_count": 10,
   "id": "4430b439",
   "metadata": {},
   "outputs": [
    {
     "name": "stdout",
     "output_type": "stream",
     "text": [
      "Sources       poetrySong.txt  test03.ipynb  test08.ipynb  test12.ipynb\r\n",
      "bbc-text.csv  test01.ipynb    test04.ipynb  test10.ipynb  test9.ipynb\r\n",
      "english       test02.ipynb    test05.ipynb  test11.ipynb\r\n"
     ]
    }
   ],
   "source": [
    "!ls"
   ]
  },
  {
   "cell_type": "code",
   "execution_count": 2,
   "id": "27507394",
   "metadata": {},
   "outputs": [],
   "source": [
    "txtfile = Path(\"poetrySong.txt\")"
   ]
  },
  {
   "cell_type": "code",
   "execution_count": 17,
   "id": "18afa097",
   "metadata": {},
   "outputs": [
    {
     "name": "stdout",
     "output_type": "stream",
     "text": [
      "太白山祈雨诗五首  其一::苏辙::田漫漫，耕挹挹。拔陈草，生九谷。人功尽，雨则违。苗不穗，莩不米，哀将饥兮。\n",
      "\n",
      "太白山祈雨诗五首  其二::苏辙::山岩岩，奠南西。嗟我民，匪神依。伐山木，蓺稷黍。求既多，诉不已，犹我许兮。\n",
      "\n",
      "太白山祈雨诗五首  其三::苏辙::山为灰，石为炭。水泉沸，百草烂。神予我，旱夺之。孰为是，骄不威，尚可弛兮。\n",
      "\n",
      "太白山祈雨诗五首  其四::苏辙::雷冯空，雨腾渊。诛孽妖，反丰年。顾千里，瞬三日。神在堂，龙为役，是何惜兮。\n",
      "\n",
      "太白山祈雨诗五首  其五::苏辙::雨既止，百谷复。筑场壤，治囷簏。为酒醴，伐豚羔。舞长袖，击鸣鼍，匪以报兮。\n",
      "\n",
      "舜泉诗::苏辙::历山岩岩，虞舜宅焉。虞舜徂矣，其神在天。其德在人，其物在泉。神不可亲，德用不知。有冽斯泉，下民是祗。泉流无疆，有永我思。源发于山，施于北河。播于中逵，汇为澄波。有鳖与鱼，有菱与荷。蕴毒是泄，污浊以流。埃{土盍}消亡，风火灭收。丛木敷荣，劳者所休。谁为旱灾，靡物不伤。天地耗竭，泉亦沦亡。民咸不宁，曰不享耶。时雨既澍，百谷既登。有流泫然，弥坎而升。沟洫满盈，𫚥黾沸腾。匪泉实来，帝实顾余。执其羔豚，蘋藻是菹。帝今在堂，泉复如初。\n",
      "\n",
      "筠州圣祖殿诗  其一::苏辙::高安在南，分自豫章。重山复江，鱼鸟之乡。俗野不文，吏亦怠荒。礼失不知，习为旧常。\n",
      "\n",
      "筠州圣祖殿诗  其二::苏辙::于穆圣祖，宅神皇极。降鉴在下，子孙千亿。羽衣玉佩，旗纛旄节。巍巍煌煌，秩祀万国。\n",
      "\n",
      "筠州圣祖殿诗  其三::苏辙::如日在天，靡国不临。筠虽小邦，其有不歆。东庑西向，谁昔营之。民昏不知，神以不怀。\n",
      "\n",
      "筠州圣祖殿诗  其四::苏辙::深山之间，野水之滨。礼乐声明，孰见孰闻。祖庙之严，君臣则存。失而不图，民以罔观。\n",
      "\n"
     ]
    }
   ],
   "source": [
    "with open(txtfile) as f:\n",
    "    for i, line in enumerate(f.readlines()):\n",
    "        if i < 10:\n",
    "            print(line)"
   ]
  },
  {
   "cell_type": "code",
   "execution_count": 3,
   "id": "2e727326",
   "metadata": {},
   "outputs": [],
   "source": [
    "df = pd.read_csv(str(txtfile), sep=\"::\", header=None)\n",
    "df.columns = ['cipai', 'author', 'content']"
   ]
  },
  {
   "cell_type": "code",
   "execution_count": 5,
   "id": "f9249e66",
   "metadata": {},
   "outputs": [
    {
     "data": {
      "text/html": [
       "<div>\n",
       "<style scoped>\n",
       "    .dataframe tbody tr th:only-of-type {\n",
       "        vertical-align: middle;\n",
       "    }\n",
       "\n",
       "    .dataframe tbody tr th {\n",
       "        vertical-align: top;\n",
       "    }\n",
       "\n",
       "    .dataframe thead th {\n",
       "        text-align: right;\n",
       "    }\n",
       "</style>\n",
       "<table border=\"1\" class=\"dataframe\">\n",
       "  <thead>\n",
       "    <tr style=\"text-align: right;\">\n",
       "      <th></th>\n",
       "      <th>cipai</th>\n",
       "      <th>author</th>\n",
       "      <th>content</th>\n",
       "    </tr>\n",
       "  </thead>\n",
       "  <tbody>\n",
       "    <tr>\n",
       "      <th>0</th>\n",
       "      <td>太白山祈雨诗五首  其一</td>\n",
       "      <td>苏辙</td>\n",
       "      <td>田漫漫，耕挹挹。拔陈草，生九谷。人功尽，雨则违。苗不穗，莩不米，哀将饥兮。</td>\n",
       "    </tr>\n",
       "    <tr>\n",
       "      <th>1</th>\n",
       "      <td>太白山祈雨诗五首  其二</td>\n",
       "      <td>苏辙</td>\n",
       "      <td>山岩岩，奠南西。嗟我民，匪神依。伐山木，蓺稷黍。求既多，诉不已，犹我许兮。</td>\n",
       "    </tr>\n",
       "    <tr>\n",
       "      <th>2</th>\n",
       "      <td>太白山祈雨诗五首  其三</td>\n",
       "      <td>苏辙</td>\n",
       "      <td>山为灰，石为炭。水泉沸，百草烂。神予我，旱夺之。孰为是，骄不威，尚可弛兮。</td>\n",
       "    </tr>\n",
       "    <tr>\n",
       "      <th>3</th>\n",
       "      <td>太白山祈雨诗五首  其四</td>\n",
       "      <td>苏辙</td>\n",
       "      <td>雷冯空，雨腾渊。诛孽妖，反丰年。顾千里，瞬三日。神在堂，龙为役，是何惜兮。</td>\n",
       "    </tr>\n",
       "    <tr>\n",
       "      <th>4</th>\n",
       "      <td>太白山祈雨诗五首  其五</td>\n",
       "      <td>苏辙</td>\n",
       "      <td>雨既止，百谷复。筑场壤，治囷簏。为酒醴，伐豚羔。舞长袖，击鸣鼍，匪以报兮。</td>\n",
       "    </tr>\n",
       "  </tbody>\n",
       "</table>\n",
       "</div>"
      ],
      "text/plain": [
       "          cipai author                                content\n",
       "0  太白山祈雨诗五首  其一     苏辙  田漫漫，耕挹挹。拔陈草，生九谷。人功尽，雨则违。苗不穗，莩不米，哀将饥兮。\n",
       "1  太白山祈雨诗五首  其二     苏辙  山岩岩，奠南西。嗟我民，匪神依。伐山木，蓺稷黍。求既多，诉不已，犹我许兮。\n",
       "2  太白山祈雨诗五首  其三     苏辙  山为灰，石为炭。水泉沸，百草烂。神予我，旱夺之。孰为是，骄不威，尚可弛兮。\n",
       "3  太白山祈雨诗五首  其四     苏辙  雷冯空，雨腾渊。诛孽妖，反丰年。顾千里，瞬三日。神在堂，龙为役，是何惜兮。\n",
       "4  太白山祈雨诗五首  其五     苏辙  雨既止，百谷复。筑场壤，治囷簏。为酒醴，伐豚羔。舞长袖，击鸣鼍，匪以报兮。"
      ]
     },
     "execution_count": 5,
     "metadata": {},
     "output_type": "execute_result"
    }
   ],
   "source": [
    "df.head()"
   ]
  },
  {
   "cell_type": "code",
   "execution_count": 23,
   "id": "496cb92b",
   "metadata": {},
   "outputs": [
    {
     "data": {
      "text/plain": [
       "254237"
      ]
     },
     "execution_count": 23,
     "metadata": {},
     "output_type": "execute_result"
    }
   ],
   "source": [
    "len(df)"
   ]
  },
  {
   "cell_type": "code",
   "execution_count": 4,
   "id": "682e0202",
   "metadata": {},
   "outputs": [
    {
     "data": {
      "text/plain": [
       "254214"
      ]
     },
     "execution_count": 4,
     "metadata": {},
     "output_type": "execute_result"
    }
   ],
   "source": [
    "# nan\n",
    "df = df.dropna()\n",
    "len(df)"
   ]
  },
  {
   "cell_type": "code",
   "execution_count": 5,
   "id": "3840e306",
   "metadata": {},
   "outputs": [],
   "source": [
    "contents = df['content'].values.tolist()"
   ]
  },
  {
   "cell_type": "code",
   "execution_count": 28,
   "id": "5628c272",
   "metadata": {},
   "outputs": [
    {
     "data": {
      "text/plain": [
       "['田漫漫，耕挹挹。拔陈草，生九谷。人功尽，雨则违。苗不穗，莩不米，哀将饥兮。',\n",
       " '山岩岩，奠南西。嗟我民，匪神依。伐山木，蓺稷黍。求既多，诉不已，犹我许兮。',\n",
       " '山为灰，石为炭。水泉沸，百草烂。神予我，旱夺之。孰为是，骄不威，尚可弛兮。',\n",
       " '雷冯空，雨腾渊。诛孽妖，反丰年。顾千里，瞬三日。神在堂，龙为役，是何惜兮。',\n",
       " '雨既止，百谷复。筑场壤，治囷簏。为酒醴，伐豚羔。舞长袖，击鸣鼍，匪以报兮。',\n",
       " '历山岩岩，虞舜宅焉。虞舜徂矣，其神在天。其德在人，其物在泉。神不可亲，德用不知。有冽斯泉，下民是祗。泉流无疆，有永我思。源发于山，施于北河。播于中逵，汇为澄波。有鳖与鱼，有菱与荷。蕴毒是泄，污浊以流。埃{土盍}消亡，风火灭收。丛木敷荣，劳者所休。谁为旱灾，靡物不伤。天地耗竭，泉亦沦亡。民咸不宁，曰不享耶。时雨既澍，百谷既登。有流泫然，弥坎而升。沟洫满盈，𫚥黾沸腾。匪泉实来，帝实顾余。执其羔豚，蘋藻是菹。帝今在堂，泉复如初。',\n",
       " '高安在南，分自豫章。重山复江，鱼鸟之乡。俗野不文，吏亦怠荒。礼失不知，习为旧常。',\n",
       " '于穆圣祖，宅神皇极。降鉴在下，子孙千亿。羽衣玉佩，旗纛旄节。巍巍煌煌，秩祀万国。',\n",
       " '如日在天，靡国不临。筠虽小邦，其有不歆。东庑西向，谁昔营之。民昏不知，神以不怀。',\n",
       " '深山之间，野水之滨。礼乐声明，孰见孰闻。祖庙之严，君臣则存。失而不图，民以罔观。',\n",
       " '毛侯始来，其则有意。匪民之愚，礼教实坠。章闻于朝，帝曰俞哉。弗改弗营，何以示民。',\n",
       " '九峰之杉，逍遥之柟。易直且修，弗斫而堪。新堂有严，四星在南。朝廷之仪，万民所祗。',\n",
       " '还朝正三伏，一再趋未央。久从江海游，苦此剑佩长。梦中惊和璞，起坐怜老房。为我忝丞辖，置身愿并凉。此心一自许，何暇忧陟冈。早岁发归念，老来未尝忘。渊明不久仕，黔娄足为康。家有二顷田，岁办十口粮。教敕诸子弟，编排旧文章。辛勤养松竹，迟莫多风霜。常恐先着鞭，独引社酒尝。火急报君恩，会合心则降。',\n",
       " '卧对郗人气已真，晚依丘壑更无伦。不须复预清言侣，自是江东第一人。',\n",
       " '亟往遄归真旷哉，聋人不信有惊雷。虽云不必见安道，已误扁舟犯雪来。',\n",
       " '失脚来游九陌尘，故溪何日定抽身。便同贺老扁舟去，已笑西山郑子真。',\n",
       " '雨细风斜欲暝时，凌波一叶去安归。遥知夜宿蛟人室，浪卷波分不着衣。',\n",
       " '老去那堪用，恩深未敢归。谁能告民病，一一指吾非。尔赴河间治，无嫌野老讥。仍将尺书报，勿复问从违。',\n",
       " '未识吾君龙凤章，诸儒望幸久南庠。辇回原庙初移跸，鹭集西雝已著行。执爵稍前疑问道，献琛不日数来王。从官始悟熙宁意，遗我亲临见肯堂。',\n",
       " '名自乌台发，恩从凤沼深。盐梅和众口，金玉比诚心。澹泊平生事，弥留一病侵。遗言自无憾，朝野为沾襟。',\n",
       " '丹旐国西门，茅庐济水深。官清贫似旧，名重殁犹存。台阁传遗懿，交游拭泪痕。君恩不改故，延赏遍诸孙。',\n",
       " '闰岁穷冬已是春，当寒却暖未宜人。阴风半夜催飞霰，稍净天街一尺尘。',\n",
       " '玄冥留雪付勾芒，桃李虽忧麦未伤。膏泽较迟三十日，问天此意亦茫茫。',\n",
       " '连岁金明不见冰，上春风雪气棱棱。台中曾奏五行传，到此施行愧未曾。',\n",
       " '春到都城曾未知，楸花时见万年枝。多情赖有王公子，解剪金槃寄所思。',\n",
       " '后圃荼{艹縻}手自栽，清于芍药酽于梅。旧来诗客今无几，三臭馨香懒举杯。',\n",
       " '懒从朝谒事骖騑，此去高眠罢倒衣。诏许敲门访耆旧，天教筑室俟来归。肩舆尚肯追春色，鼓缶何妨傲夕晖。所至成家即安隠，武昌谁乞钓鱼矶。',\n",
       " '才适邦家用，学非章句儒。遭逢初莫测，流落一长吁。大节轻多难，深言究远图。收功太原守，谈笑视羌胡。',\n",
       " '南窜逢公弄水亭，北归留我阖闾城。壮年不见日千里，余论犹惊敌万兵。简册何人知造膝，边防触处竦先声。伤心系舸城东地，目断安知有死生。',\n",
       " '遗直诵家声，持心本至诚。何劳求皦察，所至自安平。气象余前辈，才华属后生。飞腾看诸子，相继亦公卿。']"
      ]
     },
     "execution_count": 28,
     "metadata": {},
     "output_type": "execute_result"
    }
   ],
   "source": [
    "contents[:30]"
   ]
  },
  {
   "cell_type": "markdown",
   "id": "b68a7f4a",
   "metadata": {},
   "source": [
    "# 读取词表"
   ]
  },
  {
   "cell_type": "code",
   "execution_count": 6,
   "id": "15b18591",
   "metadata": {},
   "outputs": [],
   "source": [
    "from tensorflow.keras.preprocessing.text import Tokenizer"
   ]
  },
  {
   "cell_type": "code",
   "execution_count": 7,
   "id": "db7841f0",
   "metadata": {},
   "outputs": [],
   "source": [
    "tokenizer = Tokenizer(char_level=True, oov_token=\"<OOV>\")"
   ]
  },
  {
   "cell_type": "code",
   "execution_count": 8,
   "id": "9f54be96",
   "metadata": {},
   "outputs": [],
   "source": [
    "tokenizer.fit_on_texts(contents)"
   ]
  },
  {
   "cell_type": "code",
   "execution_count": 21,
   "id": "cf0ffabb",
   "metadata": {},
   "outputs": [
    {
     "data": {
      "text/plain": [
       "10111"
      ]
     },
     "execution_count": 21,
     "metadata": {},
     "output_type": "execute_result"
    }
   ],
   "source": [
    "vocab_size = len(tokenizer.word_index)+1\n",
    "vocab_size"
   ]
  },
  {
   "cell_type": "code",
   "execution_count": 10,
   "id": "b36b5d39",
   "metadata": {},
   "outputs": [
    {
     "data": {
      "text/plain": [
       "[[309,\n",
       "  548,\n",
       "  548,\n",
       "  2,\n",
       "  713,\n",
       "  2193,\n",
       "  2193,\n",
       "  3,\n",
       "  1767,\n",
       "  621,\n",
       "  143,\n",
       "  2,\n",
       "  18,\n",
       "  226,\n",
       "  476,\n",
       "  3,\n",
       "  5,\n",
       "  298,\n",
       "  127,\n",
       "  2,\n",
       "  47,\n",
       "  1026,\n",
       "  1335,\n",
       "  3,\n",
       "  1690,\n",
       "  4,\n",
       "  2701,\n",
       "  2,\n",
       "  5246,\n",
       "  4,\n",
       "  1327,\n",
       "  2,\n",
       "  905,\n",
       "  153,\n",
       "  702,\n",
       "  234,\n",
       "  3]]"
      ]
     },
     "execution_count": 10,
     "metadata": {},
     "output_type": "execute_result"
    }
   ],
   "source": [
    "tokenizer.texts_to_sequences(contents)[:1]"
   ]
  },
  {
   "cell_type": "code",
   "execution_count": 12,
   "id": "f8812552",
   "metadata": {},
   "outputs": [
    {
     "data": {
      "text/plain": [
       "1509632"
      ]
     },
     "execution_count": 12,
     "metadata": {},
     "output_type": "execute_result"
    }
   ],
   "source": [
    "input_sentences = []\n",
    "for line in contents:\n",
    "    tokenlist = tokenizer.texts_to_sequences([line])[0]\n",
    "    for i in range(1, len(tokenlist)):\n",
    "        if np.random.randint(10):continue\n",
    "        ngram_sentence = tokenlist[:i+1]\n",
    "        input_sentences.append(ngram_sentence)\n",
    "#     break\n",
    "# tokenlist\n",
    "len(input_sentences)\n",
    "# 15120466"
   ]
  },
  {
   "cell_type": "code",
   "execution_count": null,
   "id": "3ea58454",
   "metadata": {},
   "outputs": [],
   "source": [
    "# del input_sentences"
   ]
  },
  {
   "cell_type": "code",
   "execution_count": 11,
   "id": "95886b1e",
   "metadata": {},
   "outputs": [
    {
     "data": {
      "text/plain": [
       "2"
      ]
     },
     "execution_count": 11,
     "metadata": {},
     "output_type": "execute_result"
    }
   ],
   "source": [
    "np.random.randint(3)"
   ]
  },
  {
   "cell_type": "code",
   "execution_count": 15,
   "id": "bdcf89d9",
   "metadata": {},
   "outputs": [
    {
     "ename": "AttributeError",
     "evalue": "'list' object has no attribute 'shape'",
     "output_type": "error",
     "traceback": [
      "\u001b[0;31m---------------------------------------------------------------------------\u001b[0m",
      "\u001b[0;31mAttributeError\u001b[0m                            Traceback (most recent call last)",
      "Input \u001b[0;32mIn [15]\u001b[0m, in \u001b[0;36m<module>\u001b[0;34m\u001b[0m\n\u001b[0;32m----> 1\u001b[0m \u001b[43minput_sentences\u001b[49m\u001b[38;5;241;43m.\u001b[39;49m\u001b[43mshape\u001b[49m\n",
      "\u001b[0;31mAttributeError\u001b[0m: 'list' object has no attribute 'shape'"
     ]
    }
   ],
   "source": []
  },
  {
   "cell_type": "code",
   "execution_count": 13,
   "id": "8efe19e1",
   "metadata": {},
   "outputs": [],
   "source": [
    "from tensorflow.keras.preprocessing.sequence import pad_sequences"
   ]
  },
  {
   "cell_type": "code",
   "execution_count": 14,
   "id": "425812a8",
   "metadata": {},
   "outputs": [
    {
     "data": {
      "text/plain": [
       "(1509632, 2396)"
      ]
     },
     "execution_count": 14,
     "metadata": {},
     "output_type": "execute_result"
    }
   ],
   "source": [
    "input_squences = pad_sequences(input_sentences, padding='pre')\n",
    "input_squences.shape"
   ]
  },
  {
   "cell_type": "code",
   "execution_count": null,
   "id": "b5f92544",
   "metadata": {},
   "outputs": [],
   "source": []
  },
  {
   "cell_type": "code",
   "execution_count": 25,
   "id": "be66f351",
   "metadata": {},
   "outputs": [],
   "source": [
    "xs = input_squences[:, :-1]\n",
    "labels = input_squences[:, -1]\n",
    "ys = tf.keras.utils.to_categorical(labels, num_classes=vocab_size)"
   ]
  },
  {
   "cell_type": "code",
   "execution_count": 29,
   "id": "83ab8ba4",
   "metadata": {},
   "outputs": [
    {
     "data": {
      "text/plain": [
       "((10000, 2395), (10000, 10111))"
      ]
     },
     "execution_count": 29,
     "metadata": {},
     "output_type": "execute_result"
    }
   ],
   "source": [
    "xs = xs[:10000]\n",
    "ys = ys[:10000]\n",
    "xs.shape, ys.shape\n"
   ]
  },
  {
   "cell_type": "code",
   "execution_count": 19,
   "id": "7f2f8454",
   "metadata": {},
   "outputs": [
    {
     "data": {
      "text/plain": [
       "array([  0,   0,   0, ..., 127,   2,  47], dtype=int32)"
      ]
     },
     "execution_count": 19,
     "metadata": {},
     "output_type": "execute_result"
    }
   ],
   "source": [
    "xs[0]\n"
   ]
  },
  {
   "cell_type": "code",
   "execution_count": 20,
   "id": "1b4bb175",
   "metadata": {},
   "outputs": [
    {
     "data": {
      "text/plain": [
       "1026"
      ]
     },
     "execution_count": 20,
     "metadata": {},
     "output_type": "execute_result"
    }
   ],
   "source": [
    "label[0]"
   ]
  },
  {
   "cell_type": "markdown",
   "id": "a3d21951",
   "metadata": {},
   "source": [
    "# 构建模型"
   ]
  },
  {
   "cell_type": "code",
   "execution_count": 27,
   "id": "f442ee38",
   "metadata": {},
   "outputs": [
    {
     "name": "stderr",
     "output_type": "stream",
     "text": [
      "2022-03-05 07:07:39.852129: I tensorflow/core/platform/cpu_feature_guard.cc:151] This TensorFlow binary is optimized with oneAPI Deep Neural Network Library (oneDNN) to use the following CPU instructions in performance-critical operations:  AVX2 AVX512F FMA\n",
      "To enable them in other operations, rebuild TensorFlow with the appropriate compiler flags.\n",
      "2022-03-05 07:07:54.810948: I tensorflow/core/common_runtime/gpu/gpu_device.cc:1525] Created device /job:localhost/replica:0/task:0/device:GPU:0 with 44769 MB memory:  -> device: 0, name: NVIDIA RTX A6000, pci bus id: 0000:89:00.0, compute capability: 8.6\n",
      "2022-03-05 07:07:54.813547: I tensorflow/core/common_runtime/gpu/gpu_device.cc:1525] Created device /job:localhost/replica:0/task:0/device:GPU:1 with 44769 MB memory:  -> device: 1, name: NVIDIA RTX A6000, pci bus id: 0000:b1:00.0, compute capability: 8.6\n"
     ]
    }
   ],
   "source": [
    "model = tf.keras.Sequential(\n",
    "    [\n",
    "        tf.keras.layers.Embedding(vocab_size, 100), \n",
    "        tf.keras.layers.Bidirectional(tf.keras.layers.GRU(150)),\n",
    "        tf.keras.layers.Dense(vocab_size, activation=\"sigmoid\"),\n",
    "    ]\n",
    ")"
   ]
  },
  {
   "cell_type": "code",
   "execution_count": 28,
   "id": "50083bbd",
   "metadata": {},
   "outputs": [
    {
     "name": "stdout",
     "output_type": "stream",
     "text": [
      "Model: \"sequential\"\n",
      "_________________________________________________________________\n",
      " Layer (type)                Output Shape              Param #   \n",
      "=================================================================\n",
      " embedding (Embedding)       (None, None, 100)         1011100   \n",
      "                                                                 \n",
      " bidirectional (Bidirectiona  (None, 300)              226800    \n",
      " l)                                                              \n",
      "                                                                 \n",
      " dense (Dense)               (None, 10111)             3043411   \n",
      "                                                                 \n",
      "=================================================================\n",
      "Total params: 4,281,311\n",
      "Trainable params: 4,281,311\n",
      "Non-trainable params: 0\n",
      "_________________________________________________________________\n"
     ]
    }
   ],
   "source": [
    "model.summary()"
   ]
  },
  {
   "cell_type": "code",
   "execution_count": 33,
   "id": "604cf063",
   "metadata": {},
   "outputs": [],
   "source": [
    "model.compile(\n",
    "    loss=tf.losses.categorical_crossentropy,\n",
    "    optimizer='Adam',\n",
    "    metrics=['accuracy']\n",
    ")"
   ]
  },
  {
   "cell_type": "code",
   "execution_count": 35,
   "id": "5ec662dc",
   "metadata": {},
   "outputs": [
    {
     "name": "stdout",
     "output_type": "stream",
     "text": [
      "Epoch 1/20\n",
      "313/313 [==============================] - 46s 147ms/step - loss: 1.1218 - accuracy: 0.8320\n",
      "Epoch 2/20\n",
      "313/313 [==============================] - 47s 149ms/step - loss: 0.9672 - accuracy: 0.8654\n",
      "Epoch 3/20\n",
      "313/313 [==============================] - 47s 151ms/step - loss: 0.8318 - accuracy: 0.8923\n",
      "Epoch 4/20\n",
      "313/313 [==============================] - 47s 151ms/step - loss: 0.7132 - accuracy: 0.9132\n",
      "Epoch 5/20\n",
      "313/313 [==============================] - 47s 151ms/step - loss: 0.6088 - accuracy: 0.9317\n",
      "Epoch 6/20\n",
      "313/313 [==============================] - 47s 151ms/step - loss: 0.5202 - accuracy: 0.9465\n",
      "Epoch 7/20\n",
      "313/313 [==============================] - 47s 151ms/step - loss: 0.4348 - accuracy: 0.9594\n",
      "Epoch 8/20\n",
      "313/313 [==============================] - 46s 148ms/step - loss: 0.3684 - accuracy: 0.9695\n",
      "Epoch 9/20\n",
      "313/313 [==============================] - 46s 147ms/step - loss: 0.3107 - accuracy: 0.9770\n",
      "Epoch 10/20\n",
      "313/313 [==============================] - 47s 149ms/step - loss: 0.2710 - accuracy: 0.9809\n",
      "Epoch 11/20\n",
      "313/313 [==============================] - 47s 151ms/step - loss: 0.2242 - accuracy: 0.9869\n",
      "Epoch 12/20\n",
      "313/313 [==============================] - 47s 150ms/step - loss: 0.1873 - accuracy: 0.9891\n",
      "Epoch 13/20\n",
      "313/313 [==============================] - 46s 148ms/step - loss: 0.1481 - accuracy: 0.9919\n",
      "Epoch 14/20\n",
      "313/313 [==============================] - 46s 148ms/step - loss: 0.1137 - accuracy: 0.9934\n",
      "Epoch 15/20\n",
      "313/313 [==============================] - 47s 151ms/step - loss: 0.0951 - accuracy: 0.9938\n",
      "Epoch 16/20\n",
      "313/313 [==============================] - 46s 148ms/step - loss: 0.0835 - accuracy: 0.9938\n",
      "Epoch 17/20\n",
      "313/313 [==============================] - 47s 149ms/step - loss: 0.0733 - accuracy: 0.9943\n",
      "Epoch 18/20\n",
      "313/313 [==============================] - 47s 149ms/step - loss: 0.0725 - accuracy: 0.9939\n",
      "Epoch 19/20\n",
      "313/313 [==============================] - 47s 150ms/step - loss: 0.3214 - accuracy: 0.9467\n",
      "Epoch 20/20\n",
      "313/313 [==============================] - 48s 152ms/step - loss: 0.3591 - accuracy: 0.9430\n"
     ]
    }
   ],
   "source": [
    "history = model.fit(xs, ys, epochs=20, verbose=1)"
   ]
  },
  {
   "cell_type": "code",
   "execution_count": null,
   "id": "cff5abff",
   "metadata": {},
   "outputs": [],
   "source": []
  },
  {
   "cell_type": "code",
   "execution_count": null,
   "id": "ea9a77cd",
   "metadata": {},
   "outputs": [],
   "source": []
  },
  {
   "cell_type": "code",
   "execution_count": null,
   "id": "46858334",
   "metadata": {},
   "outputs": [],
   "source": []
  },
  {
   "cell_type": "code",
   "execution_count": null,
   "id": "639ba577",
   "metadata": {},
   "outputs": [],
   "source": []
  }
 ],
 "metadata": {
  "kernelspec": {
   "display_name": "Python 3 (ipykernel)",
   "language": "python",
   "name": "python3"
  },
  "language_info": {
   "codemirror_mode": {
    "name": "ipython",
    "version": 3
   },
   "file_extension": ".py",
   "mimetype": "text/x-python",
   "name": "python",
   "nbconvert_exporter": "python",
   "pygments_lexer": "ipython3",
   "version": "3.9.5"
  },
  "toc": {
   "base_numbering": 1,
   "nav_menu": {},
   "number_sections": true,
   "sideBar": true,
   "skip_h1_title": false,
   "title_cell": "Table of Contents",
   "title_sidebar": "Contents",
   "toc_cell": false,
   "toc_position": {},
   "toc_section_display": true,
   "toc_window_display": false
  },
  "varInspector": {
   "cols": {
    "lenName": 16,
    "lenType": 16,
    "lenVar": 40
   },
   "kernels_config": {
    "python": {
     "delete_cmd_postfix": "",
     "delete_cmd_prefix": "del ",
     "library": "var_list.py",
     "varRefreshCmd": "print(var_dic_list())"
    },
    "r": {
     "delete_cmd_postfix": ") ",
     "delete_cmd_prefix": "rm(",
     "library": "var_list.r",
     "varRefreshCmd": "cat(var_dic_list()) "
    }
   },
   "types_to_exclude": [
    "module",
    "function",
    "builtin_function_or_method",
    "instance",
    "_Feature"
   ],
   "window_display": false
  }
 },
 "nbformat": 4,
 "nbformat_minor": 5
}
