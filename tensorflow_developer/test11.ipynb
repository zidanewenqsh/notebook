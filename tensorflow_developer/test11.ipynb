{
 "cells": [
  {
   "cell_type": "code",
   "execution_count": 1,
   "metadata": {
    "id": "NdOXqYCELSTh"
   },
   "outputs": [],
   "source": [
    "import tensorflow as tf\n",
    "import random\n",
    "import os\n",
    "import sys\n",
    "import numpy as np\n",
    "# import torch\n",
    "import logging\n",
    "import argparse\n",
    "import shutil\n",
    "import cv2\n",
    "import time\n",
    "import threading\n",
    "import multiprocessing\n",
    "from pathlib import Path\n",
    "from tqdm import tqdm\n",
    "import pandas as pd\n",
    "from matplotlib import pyplot as plt\n",
    "# from icecream import ic\n",
    "from collections import defaultdict\n",
    "import re"
   ]
  },
  {
   "cell_type": "code",
   "execution_count": 4,
   "metadata": {
    "id": "oWvgkJnULcmv"
   },
   "outputs": [],
   "source": [
    "import tensorflow_datasets as tfds"
   ]
  },
  {
   "cell_type": "code",
   "execution_count": 2,
   "metadata": {
    "id": "VpHY6P6H8edQ"
   },
   "outputs": [],
   "source": [
    "gpus = tf.config.experimental.list_physical_devices('GPU')\n",
    "tf.config.experimental.set_visible_devices(device_type='GPU', devices=gpus[0])"
   ]
  },
  {
   "cell_type": "code",
   "execution_count": null,
   "metadata": {
    "colab": {
     "base_uri": "https://localhost:8080/"
    },
    "executionInfo": {
     "elapsed": 75720,
     "status": "ok",
     "timestamp": 1645852549822,
     "user": {
      "displayName": "quanshan wen",
      "photoUrl": "https://lh3.googleusercontent.com/a/default-user=s64",
      "userId": "06343720122502781757"
     },
     "user_tz": -480
    },
    "id": "idCqBTl0LcpN",
    "outputId": "c6fb2151-4262-45a3-950f-8ce27045af7d"
   },
   "outputs": [
    {
     "name": "stderr",
     "output_type": "stream",
     "text": [
      "2022-03-05 07:43:52.766539: W tensorflow/core/platform/cloud/google_auth_provider.cc:184] All attempts to get a Google authentication bearer token failed, returning an empty token. Retrieving token from files failed with \"NOT_FOUND: Could not locate the credentials file.\". Retrieving token from GCE failed with \"FAILED_PRECONDITION: Error executing an HTTP request: libcurl code 6 meaning 'Couldn't resolve host name', error details: Could not resolve host: metadata\".\n",
      "2022-03-05 07:46:58.182725: E tensorflow/core/platform/cloud/curl_http_request.cc:614] The transmission  of request 0x5636ec801440 (URI: https://www.googleapis.com/storage/v1/b/tfds-data/o/dataset_info%2Fimdb_reviews%2Fplain_text%2F1.0.0?fields=size%2Cgeneration%2Cupdated) has been stuck at 0 of 0 bytes for 61 seconds and will be aborted. CURL timing information: lookup time: 0.021579 (No error), connect time: 0 (No error), pre-transfer time: 0 (No error), start-transfer time: 0 (No error)\n",
      "2022-03-05 07:48:04.932612: E tensorflow/core/platform/cloud/curl_http_request.cc:614] The transmission  of request 0x5636ec7eba30 (URI: https://www.googleapis.com/storage/v1/b/tfds-data/o/dataset_info%2Fimdb_reviews%2Fplain_text%2F1.0.0?fields=size%2Cgeneration%2Cupdated) has been stuck at 0 of 0 bytes for 61 seconds and will be aborted. CURL timing information: lookup time: 0.025102 (No error), connect time: 0 (No error), pre-transfer time: 0 (No error), start-transfer time: 0 (No error)\n",
      "2022-03-05 07:49:13.168958: E tensorflow/core/platform/cloud/curl_http_request.cc:614] The transmission  of request 0x5636ec7eba30 (URI: https://www.googleapis.com/storage/v1/b/tfds-data/o/dataset_info%2Fimdb_reviews%2Fplain_text%2F1.0.0?fields=size%2Cgeneration%2Cupdated) has been stuck at 0 of 0 bytes for 61 seconds and will be aborted. CURL timing information: lookup time: 0.021171 (No error), connect time: 0 (No error), pre-transfer time: 0 (No error), start-transfer time: 0 (No error)\n",
      "2022-03-05 07:50:27.494110: E tensorflow/core/platform/cloud/curl_http_request.cc:614] The transmission  of request 0x5636ec7eba30 (URI: https://www.googleapis.com/storage/v1/b/tfds-data/o/dataset_info%2Fimdb_reviews%2Fplain_text%2F1.0.0?fields=size%2Cgeneration%2Cupdated) has been stuck at 0 of 0 bytes for 61 seconds and will be aborted. CURL timing information: lookup time: 0.0258 (No error), connect time: 0 (No error), pre-transfer time: 0 (No error), start-transfer time: 0 (No error)\n"
     ]
    },
    {
     "name": "stdout",
     "output_type": "stream",
     "text": [
      "\u001b[1mDownloading and preparing dataset Unknown size (download: Unknown size, generated: Unknown size, total: Unknown size) to /root/tensorflow_datasets/imdb_reviews/plain_text/1.0.0...\u001b[0m\n"
     ]
    },
    {
     "name": "stderr",
     "output_type": "stream",
     "text": [
      "2022-03-05 07:53:27.972488: E tensorflow/core/platform/cloud/curl_http_request.cc:614] The transmission  of request 0x5636ebf69da0 (URI: https://www.googleapis.com/storage/v1/b/tfds-data/o/datasets%2Fimdb_reviews%2Fplain_text%2F1.0.0?fields=size%2Cgeneration%2Cupdated) has been stuck at 0 of 0 bytes for 61 seconds and will be aborted. CURL timing information: lookup time: 0.022174 (No error), connect time: 0 (No error), pre-transfer time: 0 (No error), start-transfer time: 0 (No error)\n",
      "2022-03-05 07:54:29.294202: E tensorflow/core/platform/cloud/curl_http_request.cc:614] The transmission  of request 0x5636ebf69da0 (URI: https://www.googleapis.com/storage/v1/b/tfds-data/o/datasets%2Fimdb_reviews%2Fplain_text%2F1.0.0?fields=size%2Cgeneration%2Cupdated) has been stuck at 0 of 0 bytes for 61 seconds and will be aborted. CURL timing information: lookup time: 0.031564 (No error), connect time: 0 (No error), pre-transfer time: 0 (No error), start-transfer time: 0 (No error)\n"
     ]
    }
   ],
   "source": [
    "imdb, info = tfds.load(\"imdb_reviews\", with_info=True, as_supervised=True)"
   ]
  },
  {
   "cell_type": "code",
   "execution_count": 6,
   "metadata": {
    "colab": {
     "base_uri": "https://localhost:8080/"
    },
    "executionInfo": {
     "elapsed": 17,
     "status": "ok",
     "timestamp": 1645852549822,
     "user": {
      "displayName": "quanshan wen",
      "photoUrl": "https://lh3.googleusercontent.com/a/default-user=s64",
      "userId": "06343720122502781757"
     },
     "user_tz": -480
    },
    "id": "Mkr-PWpjr6yT",
    "outputId": "ab7d59bb-1cc7-4f2b-d1d0-5157f5806bd5"
   },
   "outputs": [
    {
     "data": {
      "text/plain": [
       "{'train': <PrefetchDataset shapes: ((), ()), types: (tf.string, tf.int64)>,\n",
       " 'test': <PrefetchDataset shapes: ((), ()), types: (tf.string, tf.int64)>,\n",
       " 'unsupervised': <PrefetchDataset shapes: ((), ()), types: (tf.string, tf.int64)>}"
      ]
     },
     "execution_count": 6,
     "metadata": {},
     "output_type": "execute_result"
    }
   ],
   "source": [
    "type(imdb)\n",
    "imdb"
   ]
  },
  {
   "cell_type": "code",
   "execution_count": 7,
   "metadata": {
    "colab": {
     "base_uri": "https://localhost:8080/"
    },
    "executionInfo": {
     "elapsed": 16,
     "status": "ok",
     "timestamp": 1645852549823,
     "user": {
      "displayName": "quanshan wen",
      "photoUrl": "https://lh3.googleusercontent.com/a/default-user=s64",
      "userId": "06343720122502781757"
     },
     "user_tz": -480
    },
    "id": "COUT-sppNADP",
    "outputId": "0516da2f-ac69-4c6e-de18-83f27385da5d"
   },
   "outputs": [
    {
     "data": {
      "text/plain": [
       "tfds.core.DatasetInfo(\n",
       "    name='imdb_reviews',\n",
       "    full_name='imdb_reviews/plain_text/1.0.0',\n",
       "    description=\"\"\"\n",
       "    Large Movie Review Dataset.\n",
       "    This is a dataset for binary sentiment classification containing substantially more data than previous benchmark datasets. We provide a set of 25,000 highly polar movie reviews for training, and 25,000 for testing. There is additional unlabeled data for use as well.\n",
       "    \"\"\",\n",
       "    config_description=\"\"\"\n",
       "    Plain text\n",
       "    \"\"\",\n",
       "    homepage='http://ai.stanford.edu/~amaas/data/sentiment/',\n",
       "    data_path='/root/tensorflow_datasets/imdb_reviews/plain_text/1.0.0',\n",
       "    download_size=80.23 MiB,\n",
       "    dataset_size=129.83 MiB,\n",
       "    features=FeaturesDict({\n",
       "        'label': ClassLabel(shape=(), dtype=tf.int64, num_classes=2),\n",
       "        'text': Text(shape=(), dtype=tf.string),\n",
       "    }),\n",
       "    supervised_keys=('text', 'label'),\n",
       "    disable_shuffling=False,\n",
       "    splits={\n",
       "        'test': <SplitInfo num_examples=25000, num_shards=1>,\n",
       "        'train': <SplitInfo num_examples=25000, num_shards=1>,\n",
       "        'unsupervised': <SplitInfo num_examples=50000, num_shards=1>,\n",
       "    },\n",
       "    citation=\"\"\"@InProceedings{maas-EtAl:2011:ACL-HLT2011,\n",
       "      author    = {Maas, Andrew L.  and  Daly, Raymond E.  and  Pham, Peter T.  and  Huang, Dan  and  Ng, Andrew Y.  and  Potts, Christopher},\n",
       "      title     = {Learning Word Vectors for Sentiment Analysis},\n",
       "      booktitle = {Proceedings of the 49th Annual Meeting of the Association for Computational Linguistics: Human Language Technologies},\n",
       "      month     = {June},\n",
       "      year      = {2011},\n",
       "      address   = {Portland, Oregon, USA},\n",
       "      publisher = {Association for Computational Linguistics},\n",
       "      pages     = {142--150},\n",
       "      url       = {http://www.aclweb.org/anthology/P11-1015}\n",
       "    }\"\"\",\n",
       ")"
      ]
     },
     "execution_count": 7,
     "metadata": {},
     "output_type": "execute_result"
    }
   ],
   "source": [
    "info"
   ]
  },
  {
   "cell_type": "code",
   "execution_count": 8,
   "metadata": {
    "id": "uWPG_pdzNAGh"
   },
   "outputs": [],
   "source": [
    "train_data, test_data = imdb['train'], imdb['test']"
   ]
  },
  {
   "cell_type": "code",
   "execution_count": 9,
   "metadata": {
    "colab": {
     "base_uri": "https://localhost:8080/"
    },
    "executionInfo": {
     "elapsed": 434,
     "status": "ok",
     "timestamp": 1645852550253,
     "user": {
      "displayName": "quanshan wen",
      "photoUrl": "https://lh3.googleusercontent.com/a/default-user=s64",
      "userId": "06343720122502781757"
     },
     "user_tz": -480
    },
    "id": "sIazgEcoNAKH",
    "outputId": "c1d3ab46-cc78-4281-c7cf-aa2b68a7d323"
   },
   "outputs": [
    {
     "data": {
      "text/plain": [
       "(<PrefetchDataset shapes: ((), ()), types: (tf.string, tf.int64)>,\n",
       " <PrefetchDataset shapes: ((), ()), types: (tf.string, tf.int64)>)"
      ]
     },
     "execution_count": 9,
     "metadata": {},
     "output_type": "execute_result"
    }
   ],
   "source": [
    "train_data, test_data"
   ]
  },
  {
   "cell_type": "code",
   "execution_count": 10,
   "metadata": {
    "colab": {
     "base_uri": "https://localhost:8080/"
    },
    "executionInfo": {
     "elapsed": 8,
     "status": "ok",
     "timestamp": 1645852550253,
     "user": {
      "displayName": "quanshan wen",
      "photoUrl": "https://lh3.googleusercontent.com/a/default-user=s64",
      "userId": "06343720122502781757"
     },
     "user_tz": -480
    },
    "id": "CSGqu3WTNAN9",
    "outputId": "fdfca381-2e6a-4bd3-a0dd-ea3b71136660"
   },
   "outputs": [
    {
     "data": {
      "text/plain": [
       "<TakeDataset shapes: ((), ()), types: (tf.string, tf.int64)>"
      ]
     },
     "execution_count": 10,
     "metadata": {},
     "output_type": "execute_result"
    }
   ],
   "source": [
    "train_data.take(1)"
   ]
  },
  {
   "cell_type": "code",
   "execution_count": 11,
   "metadata": {
    "id": "TS54Ha0lNASP"
   },
   "outputs": [],
   "source": [
    "training_sentences = []\n",
    "training_labels = []\n",
    "for s, l in train_data:\n",
    "    training_sentences.append(s.numpy().decode('utf8'))\n",
    "    training_labels.append(l.numpy())\n",
    "    # print(s)\n",
    "    # print(l)"
   ]
  },
  {
   "cell_type": "code",
   "execution_count": 12,
   "metadata": {
    "colab": {
     "base_uri": "https://localhost:8080/"
    },
    "executionInfo": {
     "elapsed": 942,
     "status": "ok",
     "timestamp": 1645852561481,
     "user": {
      "displayName": "quanshan wen",
      "photoUrl": "https://lh3.googleusercontent.com/a/default-user=s64",
      "userId": "06343720122502781757"
     },
     "user_tz": -480
    },
    "id": "qcohxLN9SNXN",
    "outputId": "7abe6a2f-f4bb-479d-a31d-02cce093272a"
   },
   "outputs": [
    {
     "data": {
      "text/plain": [
       "((25000,), (25000,))"
      ]
     },
     "execution_count": 12,
     "metadata": {},
     "output_type": "execute_result"
    }
   ],
   "source": [
    "training_sentences = np.array(training_sentences)\n",
    "training_labels = np.array(training_labels)\n",
    "training_sentences.shape, training_labels.shape"
   ]
  },
  {
   "cell_type": "code",
   "execution_count": 13,
   "metadata": {
    "id": "-7VgEPXdTB43"
   },
   "outputs": [],
   "source": [
    "test_sentences = []\n",
    "test_labels = []\n",
    "for s, l in test_data:\n",
    "    test_sentences.append(s.numpy().decode('utf8'))\n",
    "    test_labels.append(l.numpy())\n",
    "    # print(s)\n",
    "    # print(l)"
   ]
  },
  {
   "cell_type": "code",
   "execution_count": 14,
   "metadata": {
    "colab": {
     "base_uri": "https://localhost:8080/"
    },
    "executionInfo": {
     "elapsed": 840,
     "status": "ok",
     "timestamp": 1645852572475,
     "user": {
      "displayName": "quanshan wen",
      "photoUrl": "https://lh3.googleusercontent.com/a/default-user=s64",
      "userId": "06343720122502781757"
     },
     "user_tz": -480
    },
    "id": "oWteuYzKTRqX",
    "outputId": "dd1e44eb-64dc-4e0c-d75c-534dff1a0350"
   },
   "outputs": [
    {
     "data": {
      "text/plain": [
       "((25000,), (25000,))"
      ]
     },
     "execution_count": 14,
     "metadata": {},
     "output_type": "execute_result"
    }
   ],
   "source": [
    "test_sentences = np.array(test_sentences)\n",
    "test_labels = np.array(test_labels)\n",
    "test_sentences.shape,test_labels.shape"
   ]
  },
  {
   "cell_type": "code",
   "execution_count": 15,
   "metadata": {
    "colab": {
     "base_uri": "https://localhost:8080/"
    },
    "executionInfo": {
     "elapsed": 7,
     "status": "ok",
     "timestamp": 1645839416591,
     "user": {
      "displayName": "quanshan wen",
      "photoUrl": "https://lh3.googleusercontent.com/a/default-user=s64",
      "userId": "06343720122502781757"
     },
     "user_tz": -480
    },
    "id": "a4rfe7JqSNfe",
    "outputId": "c9bc974e-7335-4ea9-d009-73c4a5488b44"
   },
   "outputs": [
    {
     "data": {
      "text/plain": [
       "array([0, 0, 0, ..., 0, 0, 1])"
      ]
     },
     "execution_count": 15,
     "metadata": {},
     "output_type": "execute_result"
    }
   ],
   "source": [
    "training_labels"
   ]
  },
  {
   "cell_type": "code",
   "execution_count": 16,
   "metadata": {
    "colab": {
     "base_uri": "https://localhost:8080/"
    },
    "executionInfo": {
     "elapsed": 6,
     "status": "ok",
     "timestamp": 1645839416592,
     "user": {
      "displayName": "quanshan wen",
      "photoUrl": "https://lh3.googleusercontent.com/a/default-user=s64",
      "userId": "06343720122502781757"
     },
     "user_tz": -480
    },
    "id": "_yXRPu7eSNh-",
    "outputId": "6ccd86b5-585b-45ab-d1eb-8b19564c447d"
   },
   "outputs": [
    {
     "data": {
      "text/plain": [
       "array([1, 1, 0, ..., 0, 1, 1])"
      ]
     },
     "execution_count": 16,
     "metadata": {},
     "output_type": "execute_result"
    }
   ],
   "source": [
    "test_labels"
   ]
  },
  {
   "cell_type": "markdown",
   "metadata": {
    "id": "g7jHvig7URC2"
   },
   "source": [
    "### 1"
   ]
  },
  {
   "cell_type": "code",
   "execution_count": 17,
   "metadata": {
    "id": "klcvgo7ESNlK"
   },
   "outputs": [],
   "source": [
    "from tensorflow.keras.preprocessing.sequence import pad_sequences\n",
    "from tensorflow.keras.preprocessing.text import Tokenizer"
   ]
  },
  {
   "cell_type": "code",
   "execution_count": 18,
   "metadata": {
    "colab": {
     "base_uri": "https://localhost:8080/"
    },
    "executionInfo": {
     "elapsed": 13792,
     "status": "ok",
     "timestamp": 1645852700782,
     "user": {
      "displayName": "quanshan wen",
      "photoUrl": "https://lh3.googleusercontent.com/a/default-user=s64",
      "userId": "06343720122502781757"
     },
     "user_tz": -480
    },
    "id": "2hQL-mU2SNoR",
    "outputId": "76614590-14de-49b4-da26-14472d7b00c2"
   },
   "outputs": [
    {
     "data": {
      "text/plain": [
       "(124252, dict)"
      ]
     },
     "execution_count": 18,
     "metadata": {},
     "output_type": "execute_result"
    }
   ],
   "source": [
    "tokenizer = Tokenizer(num_words=10000)\n",
    "tokenizer.fit_on_texts(np.concatenate((training_sentences, test_sentences)))\n",
    "tokenizer.word_index\n",
    "word_index = tokenizer.word_index\n",
    "len(word_index),type(word_index)"
   ]
  },
  {
   "cell_type": "code",
   "execution_count": 19,
   "metadata": {
    "id": "-ALgz5Thi7S_"
   },
   "outputs": [],
   "source": [
    "from itertools import islice"
   ]
  },
  {
   "cell_type": "code",
   "execution_count": 20,
   "metadata": {
    "colab": {
     "base_uri": "https://localhost:8080/"
    },
    "executionInfo": {
     "elapsed": 7,
     "status": "ok",
     "timestamp": 1645852700783,
     "user": {
      "displayName": "quanshan wen",
      "photoUrl": "https://lh3.googleusercontent.com/a/default-user=s64",
      "userId": "06343720122502781757"
     },
     "user_tz": -480
    },
    "id": "tO34xq-bjmEQ",
    "outputId": "ea9d18f4-3959-40f8-ce05-be1080fabe96"
   },
   "outputs": [
    {
     "data": {
      "text/plain": [
       "[('the', 1),\n",
       " ('and', 2),\n",
       " ('a', 3),\n",
       " ('of', 4),\n",
       " ('to', 5),\n",
       " ('is', 6),\n",
       " ('br', 7),\n",
       " ('in', 8),\n",
       " ('it', 9),\n",
       " ('i', 10)]"
      ]
     },
     "execution_count": 20,
     "metadata": {},
     "output_type": "execute_result"
    }
   ],
   "source": [
    "list(islice(tokenizer.word_index.items(), 0, 10))"
   ]
  },
  {
   "cell_type": "code",
   "execution_count": 21,
   "metadata": {
    "id": "xfFj7kcyLcud"
   },
   "outputs": [],
   "source": [
    "training_sequences_id = tokenizer.texts_to_sequences(training_sentences)\n",
    "test_sequences_id = tokenizer.texts_to_sequences(test_sentences)"
   ]
  },
  {
   "cell_type": "code",
   "execution_count": 22,
   "metadata": {
    "colab": {
     "base_uri": "https://localhost:8080/"
    },
    "executionInfo": {
     "elapsed": 467,
     "status": "ok",
     "timestamp": 1645852714701,
     "user": {
      "displayName": "quanshan wen",
      "photoUrl": "https://lh3.googleusercontent.com/a/default-user=s64",
      "userId": "06343720122502781757"
     },
     "user_tz": -480
    },
    "id": "Sh6TWtVXl7cR",
    "outputId": "744befc2-a1c5-476f-c6a7-21c4fc636d5e"
   },
   "outputs": [
    {
     "data": {
      "text/plain": [
       "((25000, 2142), (25000, 2209), 25000, 25000)"
      ]
     },
     "execution_count": 22,
     "metadata": {},
     "output_type": "execute_result"
    }
   ],
   "source": [
    "training_padded = pad_sequences(training_sequences_id, padding='post')\n",
    "test_padded = pad_sequences(test_sequences_id, padding='post')\n",
    "training_padded.shape, test_padded.shape, len(training_labels), len(test_labels)"
   ]
  },
  {
   "cell_type": "code",
   "execution_count": 23,
   "metadata": {
    "colab": {
     "base_uri": "https://localhost:8080/"
    },
    "executionInfo": {
     "elapsed": 938,
     "status": "ok",
     "timestamp": 1645844354295,
     "user": {
      "displayName": "quanshan wen",
      "photoUrl": "https://lh3.googleusercontent.com/a/default-user=s64",
      "userId": "06343720122502781757"
     },
     "user_tz": -480
    },
    "id": "TLXRWlhb96ab",
    "outputId": "a958436e-0a1a-41e9-fc5a-904451b8525e"
   },
   "outputs": [
    {
     "data": {
      "text/plain": [
       "numpy.ndarray"
      ]
     },
     "execution_count": 23,
     "metadata": {},
     "output_type": "execute_result"
    }
   ],
   "source": [
    "type(training_labels)"
   ]
  },
  {
   "cell_type": "markdown",
   "metadata": {
    "id": "clr02iQj4i0h"
   },
   "source": [
    "### train"
   ]
  },
  {
   "cell_type": "code",
   "execution_count": 3,
   "metadata": {
    "colab": {
     "base_uri": "https://localhost:8080/"
    },
    "executionInfo": {
     "elapsed": 495,
     "status": "ok",
     "timestamp": 1645844760331,
     "user": {
      "displayName": "quanshan wen",
      "photoUrl": "https://lh3.googleusercontent.com/a/default-user=s64",
      "userId": "06343720122502781757"
     },
     "user_tz": -480
    },
    "id": "aTmC9SZol7i7",
    "outputId": "cb4b5c00-f183-40a5-ae16-366f5130b898"
   },
   "outputs": [
    {
     "ename": "NameError",
     "evalue": "name 'word_index' is not defined",
     "output_type": "error",
     "traceback": [
      "\u001b[0;31m---------------------------------------------------------------------------\u001b[0m",
      "\u001b[0;31mNameError\u001b[0m                                 Traceback (most recent call last)",
      "Input \u001b[0;32mIn [3]\u001b[0m, in \u001b[0;36m<module>\u001b[0;34m\u001b[0m\n\u001b[1;32m      1\u001b[0m model \u001b[38;5;241m=\u001b[39m tf\u001b[38;5;241m.\u001b[39mkeras\u001b[38;5;241m.\u001b[39mSequential(\n\u001b[1;32m      2\u001b[0m     [\n\u001b[0;32m----> 3\u001b[0m       tf\u001b[38;5;241m.\u001b[39mkeras\u001b[38;5;241m.\u001b[39mlayers\u001b[38;5;241m.\u001b[39mEmbedding(\u001b[38;5;28mlen\u001b[39m(\u001b[43mword_index\u001b[49m), \u001b[38;5;241m16\u001b[39m), \n\u001b[1;32m      4\u001b[0m       tf\u001b[38;5;241m.\u001b[39mkeras\u001b[38;5;241m.\u001b[39mlayers\u001b[38;5;241m.\u001b[39mGlobalAveragePooling1D(),\n\u001b[1;32m      5\u001b[0m       tf\u001b[38;5;241m.\u001b[39mkeras\u001b[38;5;241m.\u001b[39mlayers\u001b[38;5;241m.\u001b[39mDense(\u001b[38;5;241m24\u001b[39m, activation\u001b[38;5;241m=\u001b[39m\u001b[38;5;124m'\u001b[39m\u001b[38;5;124mrelu\u001b[39m\u001b[38;5;124m'\u001b[39m),\n\u001b[1;32m      6\u001b[0m       tf\u001b[38;5;241m.\u001b[39mkeras\u001b[38;5;241m.\u001b[39mlayers\u001b[38;5;241m.\u001b[39mDense(\u001b[38;5;241m1\u001b[39m, activation\u001b[38;5;241m=\u001b[39m\u001b[38;5;124m'\u001b[39m\u001b[38;5;124msigmoid\u001b[39m\u001b[38;5;124m'\u001b[39m),\n\u001b[1;32m      7\u001b[0m     ]\n\u001b[1;32m      8\u001b[0m )\n\u001b[1;32m      9\u001b[0m model\u001b[38;5;241m.\u001b[39msummary()\n",
      "\u001b[0;31mNameError\u001b[0m: name 'word_index' is not defined"
     ]
    }
   ],
   "source": [
    "model = tf.keras.Sequential(\n",
    "    [\n",
    "      tf.keras.layers.Embedding(len(word_index), 16), \n",
    "      tf.keras.layers.GlobalAveragePooling1D(),\n",
    "      tf.keras.layers.Dense(24, activation='relu'),\n",
    "      tf.keras.layers.Dense(1, activation='sigmoid'),\n",
    "    ]\n",
    ")\n",
    "model.summary()"
   ]
  },
  {
   "cell_type": "code",
   "execution_count": 25,
   "metadata": {
    "colab": {
     "base_uri": "https://localhost:8080/"
    },
    "executionInfo": {
     "elapsed": 472,
     "status": "ok",
     "timestamp": 1645845283344,
     "user": {
      "displayName": "quanshan wen",
      "photoUrl": "https://lh3.googleusercontent.com/a/default-user=s64",
      "userId": "06343720122502781757"
     },
     "user_tz": -480
    },
    "id": "6g-Bb5355J45",
    "outputId": "ce8ab661-bb19-4f24-eacb-6394fb2b50f1"
   },
   "outputs": [
    {
     "name": "stdout",
     "output_type": "stream",
     "text": [
      "Model: \"sequential_1\"\n",
      "_________________________________________________________________\n",
      " Layer (type)                Output Shape              Param #   \n",
      "=================================================================\n",
      " embedding_1 (Embedding)     (None, None, 16)          160016    \n",
      "                                                                 \n",
      " global_average_pooling1d_1   (None, 16)               0         \n",
      " (GlobalAveragePooling1D)                                        \n",
      "                                                                 \n",
      " dense_2 (Dense)             (None, 24)                408       \n",
      "                                                                 \n",
      " dense_3 (Dense)             (None, 1)                 25        \n",
      "                                                                 \n",
      "=================================================================\n",
      "Total params: 160,449\n",
      "Trainable params: 160,449\n",
      "Non-trainable params: 0\n",
      "_________________________________________________________________\n"
     ]
    }
   ],
   "source": [
    "model = tf.keras.Sequential(\n",
    "    [\n",
    "      tf.keras.layers.Embedding(10001, 16), \n",
    "      tf.keras.layers.GlobalAveragePooling1D(),\n",
    "      tf.keras.layers.Dense(24, activation='relu'),\n",
    "      tf.keras.layers.Dense(1, activation='sigmoid'),\n",
    "    ]\n",
    ")\n",
    "model.summary()"
   ]
  },
  {
   "cell_type": "code",
   "execution_count": 26,
   "metadata": {
    "id": "hzpzG9Ud5J7b"
   },
   "outputs": [],
   "source": [
    "model.compile(\n",
    "    loss='binary_crossentropy',\n",
    "    optimizer = 'adam', \n",
    "    metrics=['accuracy']\n",
    ")"
   ]
  },
  {
   "cell_type": "code",
   "execution_count": 27,
   "metadata": {
    "colab": {
     "base_uri": "https://localhost:8080/"
    },
    "executionInfo": {
     "elapsed": 117829,
     "status": "ok",
     "timestamp": 1645845405332,
     "user": {
      "displayName": "quanshan wen",
      "photoUrl": "https://lh3.googleusercontent.com/a/default-user=s64",
      "userId": "06343720122502781757"
     },
     "user_tz": -480
    },
    "id": "-hnRX5DD5J-G",
    "outputId": "b370be77-524b-4fff-d2fa-e85d2207395e",
    "scrolled": true
   },
   "outputs": [
    {
     "name": "stdout",
     "output_type": "stream",
     "text": [
      "Epoch 1/10\n",
      " 38/782 [>.............................] - ETA: 3s - loss: 0.6933 - accuracy: 0.4844"
     ]
    },
    {
     "name": "stderr",
     "output_type": "stream",
     "text": [
      "2022-02-28 08:38:21.913289: I tensorflow/stream_executor/cuda/cuda_blas.cc:1774] TensorFloat-32 will be used for the matrix multiplication. This will only be logged once.\n"
     ]
    },
    {
     "name": "stdout",
     "output_type": "stream",
     "text": [
      "782/782 [==============================] - 7s 7ms/step - loss: 0.6818 - accuracy: 0.5811 - val_loss: 0.6339 - val_accuracy: 0.7810\n",
      "Epoch 2/10\n",
      "782/782 [==============================] - 5s 7ms/step - loss: 0.5036 - accuracy: 0.8063 - val_loss: 0.4415 - val_accuracy: 0.8083\n",
      "Epoch 3/10\n",
      "782/782 [==============================] - 6s 7ms/step - loss: 0.3531 - accuracy: 0.8692 - val_loss: 0.3451 - val_accuracy: 0.8671\n",
      "Epoch 4/10\n",
      "782/782 [==============================] - 6s 7ms/step - loss: 0.2951 - accuracy: 0.8882 - val_loss: 0.3148 - val_accuracy: 0.8760\n",
      "Epoch 5/10\n",
      "782/782 [==============================] - 6s 7ms/step - loss: 0.2634 - accuracy: 0.9005 - val_loss: 0.3213 - val_accuracy: 0.8663\n",
      "Epoch 6/10\n",
      "782/782 [==============================] - 5s 7ms/step - loss: 0.2436 - accuracy: 0.9080 - val_loss: 0.3160 - val_accuracy: 0.8668\n",
      "Epoch 7/10\n",
      "782/782 [==============================] - 5s 7ms/step - loss: 0.2237 - accuracy: 0.9167 - val_loss: 0.2819 - val_accuracy: 0.8896\n",
      "Epoch 8/10\n",
      "782/782 [==============================] - 5s 7ms/step - loss: 0.2086 - accuracy: 0.9225 - val_loss: 0.2781 - val_accuracy: 0.8910\n",
      "Epoch 9/10\n",
      "782/782 [==============================] - 5s 7ms/step - loss: 0.1974 - accuracy: 0.9257 - val_loss: 0.2782 - val_accuracy: 0.8913\n",
      "Epoch 10/10\n",
      "782/782 [==============================] - 5s 7ms/step - loss: 0.1854 - accuracy: 0.9316 - val_loss: 0.3099 - val_accuracy: 0.8734\n"
     ]
    },
    {
     "data": {
      "text/plain": [
       "<keras.callbacks.History at 0x7f8bf81f7a50>"
      ]
     },
     "execution_count": 27,
     "metadata": {},
     "output_type": "execute_result"
    }
   ],
   "source": [
    "model.fit(training_padded, training_labels, epochs=10, validation_data=(test_padded, test_labels), verbose=1)"
   ]
  },
  {
   "cell_type": "code",
   "execution_count": 28,
   "metadata": {
    "colab": {
     "base_uri": "https://localhost:8080/"
    },
    "executionInfo": {
     "elapsed": 3,
     "status": "ok",
     "timestamp": 1645845448162,
     "user": {
      "displayName": "quanshan wen",
      "photoUrl": "https://lh3.googleusercontent.com/a/default-user=s64",
      "userId": "06343720122502781757"
     },
     "user_tz": -480
    },
    "id": "FJIZqwfu5KAt",
    "outputId": "7cd6915e-8178-4e49-88e8-ddf4241d6513"
   },
   "outputs": [
    {
     "data": {
      "text/plain": [
       "<tf.Tensor: shape=(5, 1), dtype=float32, numpy=\n",
       "array([[0.9997123 ],\n",
       "       [0.99969983],\n",
       "       [0.9995697 ],\n",
       "       [0.99956626],\n",
       "       [0.99944013]], dtype=float32)>"
      ]
     },
     "execution_count": 28,
     "metadata": {},
     "output_type": "execute_result"
    }
   ],
   "source": [
    "# training_sentences\n",
    "x = tf.random.normal([5, 2000])\n",
    "y = model(x)\n",
    "y"
   ]
  },
  {
   "cell_type": "code",
   "execution_count": 29,
   "metadata": {
    "colab": {
     "base_uri": "https://localhost:8080/"
    },
    "executionInfo": {
     "elapsed": 16,
     "status": "ok",
     "timestamp": 1645839658864,
     "user": {
      "displayName": "quanshan wen",
      "photoUrl": "https://lh3.googleusercontent.com/a/default-user=s64",
      "userId": "06343720122502781757"
     },
     "user_tz": -480
    },
    "id": "4tc9tWPj5KFL",
    "outputId": "6f46654d-bbe4-4436-d814-97a936d665b5"
   },
   "outputs": [
    {
     "data": {
      "text/plain": [
       "124252"
      ]
     },
     "execution_count": 29,
     "metadata": {},
     "output_type": "execute_result"
    }
   ],
   "source": [
    "len(word_index)"
   ]
  },
  {
   "cell_type": "code",
   "execution_count": 30,
   "metadata": {
    "colab": {
     "base_uri": "https://localhost:8080/"
    },
    "executionInfo": {
     "elapsed": 14,
     "status": "ok",
     "timestamp": 1645839658864,
     "user": {
      "displayName": "quanshan wen",
      "photoUrl": "https://lh3.googleusercontent.com/a/default-user=s64",
      "userId": "06343720122502781757"
     },
     "user_tz": -480
    },
    "id": "RnwtmRac5KIA",
    "outputId": "550268b9-bef7-4156-cf88-62a8456442ee"
   },
   "outputs": [
    {
     "data": {
      "text/plain": [
       "[(\"regurgitation's\", 124251), (\"hallowe'en\", 124252)]"
      ]
     },
     "execution_count": 30,
     "metadata": {},
     "output_type": "execute_result"
    }
   ],
   "source": [
    "list(islice(tokenizer.word_index.items(), 124250, 124255))"
   ]
  },
  {
   "cell_type": "markdown",
   "metadata": {
    "id": "0YzR1-6WrijS"
   },
   "source": [
    "### gru"
   ]
  },
  {
   "cell_type": "code",
   "execution_count": 3,
   "metadata": {
    "id": "LtbmpHI65KKZ"
   },
   "outputs": [],
   "source": [
    "# gru = tf.keras.layers.GRU(4)\n",
    "tf.keras.layers.GRU?"
   ]
  },
  {
   "cell_type": "code",
   "execution_count": 32,
   "metadata": {
    "id": "WLK7Wj5e5KM1"
   },
   "outputs": [],
   "source": [
    "inputs = tf.random.normal([32,10,8])"
   ]
  },
  {
   "cell_type": "code",
   "execution_count": 2,
   "metadata": {
    "colab": {
     "base_uri": "https://localhost:8080/"
    },
    "executionInfo": {
     "elapsed": 467,
     "status": "ok",
     "timestamp": 1645840579382,
     "user": {
      "displayName": "quanshan wen",
      "photoUrl": "https://lh3.googleusercontent.com/a/default-user=s64",
      "userId": "06343720122502781757"
     },
     "user_tz": -480
    },
    "id": "2KBuPHNKt1Dv",
    "outputId": "bd816789-f207-408a-be3b-606b5bb9bdb6"
   },
   "outputs": [
    {
     "name": "stderr",
     "output_type": "stream",
     "text": [
      "2022-03-05 07:55:55.378179: I tensorflow/core/platform/cpu_feature_guard.cc:151] This TensorFlow binary is optimized with oneAPI Deep Neural Network Library (oneDNN) to use the following CPU instructions in performance-critical operations:  AVX2 AVX512F FMA\n",
      "To enable them in other operations, rebuild TensorFlow with the appropriate compiler flags.\n",
      "2022-03-05 07:55:56.445750: I tensorflow/core/common_runtime/gpu/gpu_device.cc:1525] Created device /job:localhost/replica:0/task:0/device:GPU:0 with 46713 MB memory:  -> device: 0, name: NVIDIA RTX A6000, pci bus id: 0000:89:00.0, compute capability: 8.6\n",
      "2022-03-05 07:55:56.446708: I tensorflow/core/common_runtime/gpu/gpu_device.cc:1525] Created device /job:localhost/replica:0/task:0/device:GPU:1 with 46713 MB memory:  -> device: 1, name: NVIDIA RTX A6000, pci bus id: 0000:b1:00.0, compute capability: 8.6\n",
      "2022-03-05 07:55:58.196084: I tensorflow/stream_executor/cuda/cuda_dnn.cc:368] Loaded cuDNN version 8201\n"
     ]
    },
    {
     "data": {
      "text/plain": [
       "(TensorShape([32, 4]), TensorShape([32, 4]))"
      ]
     },
     "execution_count": 2,
     "metadata": {},
     "output_type": "execute_result"
    }
   ],
   "source": [
    "gru = tf.keras.layers.GRU(4,return_state=True)\n",
    "inputs = tf.random.normal([32,10,8])\n",
    "st, yt = gru(inputs)\n",
    "yt.shape, st.shape # yt, no st"
   ]
  },
  {
   "cell_type": "code",
   "execution_count": 4,
   "metadata": {
    "colab": {
     "base_uri": "https://localhost:8080/"
    },
    "executionInfo": {
     "elapsed": 364,
     "status": "ok",
     "timestamp": 1645841081827,
     "user": {
      "displayName": "quanshan wen",
      "photoUrl": "https://lh3.googleusercontent.com/a/default-user=s64",
      "userId": "06343720122502781757"
     },
     "user_tz": -480
    },
    "id": "6x0SgW8yvnnN",
    "outputId": "08f0a651-0b09-4b21-a270-79ae89fa080c"
   },
   "outputs": [
    {
     "data": {
      "text/plain": [
       "(TensorShape([32, 4]), TensorShape([32, 10, 4]))"
      ]
     },
     "execution_count": 4,
     "metadata": {},
     "output_type": "execute_result"
    }
   ],
   "source": [
    "gru = tf.keras.layers.GRU(4,return_state=True, return_sequences=True)\n",
    "inputs = tf.random.normal([32,10,8])\n",
    "st, yt = gru(inputs)\n",
    "yt.shape, st.shape # yt, no st"
   ]
  },
  {
   "cell_type": "code",
   "execution_count": null,
   "metadata": {
    "colab": {
     "base_uri": "https://localhost:8080/"
    },
    "executionInfo": {
     "elapsed": 763,
     "status": "ok",
     "timestamp": 1645841398897,
     "user": {
      "displayName": "quanshan wen",
      "photoUrl": "https://lh3.googleusercontent.com/a/default-user=s64",
      "userId": "06343720122502781757"
     },
     "user_tz": -480
    },
    "id": "_xS8eVI1ylPe",
    "outputId": "e40801bd-02c4-417d-c6fe-fda12bd4feab"
   },
   "outputs": [],
   "source": [
    "gru = tf.keras.layers.GRU(4,return_sequences=True)\n",
    "inputs = tf.random.normal([32,10,8])\n",
    "st = gru(inputs)\n",
    "st.shape # yt, no st"
   ]
  },
  {
   "cell_type": "code",
   "execution_count": 15,
   "metadata": {
    "colab": {
     "base_uri": "https://localhost:8080/"
    },
    "executionInfo": {
     "elapsed": 1141,
     "status": "ok",
     "timestamp": 1645852715841,
     "user": {
      "displayName": "quanshan wen",
      "photoUrl": "https://lh3.googleusercontent.com/a/default-user=s64",
      "userId": "06343720122502781757"
     },
     "user_tz": -480
    },
    "id": "_T4_OFpCt1Ga",
    "outputId": "2b0bd351-ac4e-4955-fd2d-c9d21daa49a8"
   },
   "outputs": [
    {
     "name": "stdout",
     "output_type": "stream",
     "text": [
      "Model: \"sequential_10\"\n",
      "_________________________________________________________________\n",
      " Layer (type)                Output Shape              Param #   \n",
      "=================================================================\n",
      " embedding_10 (Embedding)    (None, None, 16)          160016    \n",
      "                                                                 \n",
      " gru_10 (GRU)                (None, 8)                 624       \n",
      "                                                                 \n",
      " dense_14 (Dense)            (None, 24)                216       \n",
      "                                                                 \n",
      " dense_15 (Dense)            (None, 1)                 25        \n",
      "                                                                 \n",
      "=================================================================\n",
      "Total params: 160,881\n",
      "Trainable params: 160,881\n",
      "Non-trainable params: 0\n",
      "_________________________________________________________________\n"
     ]
    },
    {
     "data": {
      "text/plain": [
       "<tf.Tensor: shape=(3, 1), dtype=float32, numpy=\n",
       "array([[0.49876103],\n",
       "       [0.49799582],\n",
       "       [0.49867564]], dtype=float32)>"
      ]
     },
     "execution_count": 15,
     "metadata": {},
     "output_type": "execute_result"
    }
   ],
   "source": [
    "model2 = tf.keras.Sequential(\n",
    "    [\n",
    "      tf.keras.layers.Embedding(10001, 16),\n",
    "      tf.keras.layers.GRU(8),\n",
    "      tf.keras.layers.Dense(24, activation='relu'),\n",
    "      tf.keras.layers.Dense(1, activation='sigmoid')\n",
    "    ]\n",
    ")\n",
    "model2.compile(\n",
    "    loss='binary_crossentropy',\n",
    "    optimizer = 'adam', \n",
    "    metrics=['accuracy']\n",
    ")\n",
    "model2.summary()\n",
    "x = tf.random.normal([3,10])\n",
    "# x = tf.zeros([3,10])\n",
    "y = model2(x)\n",
    "y.shape\n",
    "y"
   ]
  },
  {
   "cell_type": "code",
   "execution_count": null,
   "metadata": {
    "id": "bnsojWdtt1JP"
   },
   "outputs": [],
   "source": [
    "model2.compile(\n",
    "    loss='binary_crossentropy',\n",
    "    optimizer = 'adam', \n",
    "    metrics=['accuracy']\n",
    ")"
   ]
  },
  {
   "cell_type": "code",
   "execution_count": null,
   "metadata": {
    "colab": {
     "base_uri": "https://localhost:8080/"
    },
    "executionInfo": {
     "elapsed": 4647,
     "status": "ok",
     "timestamp": 1645852728776,
     "user": {
      "displayName": "quanshan wen",
      "photoUrl": "https://lh3.googleusercontent.com/a/default-user=s64",
      "userId": "06343720122502781757"
     },
     "user_tz": -480
    },
    "id": "-OFT32wSt1OY",
    "outputId": "752263d6-dfe0-4c7f-c4b4-0395318d6f9a"
   },
   "outputs": [],
   "source": [
    "x = tf.random.normal([5, 2000])\n",
    "y = model2(x)\n",
    "y"
   ]
  },
  {
   "cell_type": "code",
   "execution_count": null,
   "metadata": {
    "colab": {
     "base_uri": "https://localhost:8080/"
    },
    "id": "Sic4DYYst1Lw",
    "outputId": "ca3d3baa-fc5b-4744-c345-9ed1c7ec59ef"
   },
   "outputs": [],
   "source": [
    "model2.fit(training_padded, training_labels, epochs=20, validation_data=(test_padded, test_labels), verbose=1)"
   ]
  },
  {
   "cell_type": "markdown",
   "metadata": {
    "id": "s40g5-AIDF6-"
   },
   "source": [
    "### gru2"
   ]
  },
  {
   "cell_type": "code",
   "execution_count": null,
   "metadata": {
    "colab": {
     "base_uri": "https://localhost:8080/"
    },
    "executionInfo": {
     "elapsed": 1288,
     "status": "ok",
     "timestamp": 1645846849025,
     "user": {
      "displayName": "quanshan wen",
      "photoUrl": "https://lh3.googleusercontent.com/a/default-user=s64",
      "userId": "06343720122502781757"
     },
     "user_tz": -480
    },
    "id": "YC13nxOQt1RR",
    "outputId": "5f425ed8-3e8c-495a-e9f0-21cbd5dd2c9e"
   },
   "outputs": [],
   "source": [
    "model3 = tf.keras.Sequential(\n",
    "    [\n",
    "      tf.keras.layers.Embedding(10001, 16),\n",
    "      tf.keras.layers.GRU(32, return_sequences=True),\n",
    "      # tf.keras.layers.GRU(32, return_sequences=True),\n",
    "      # tf.keras.layers.Flatten(),\n",
    "      tf.keras.layers.Dense(16, activation='relu'),\n",
    "      tf.keras.layers.Dense(1, activation='sigmoid')\n",
    "    ]\n",
    ")\n",
    "model3.summary()\n",
    "x = tf.random.normal([5, 2000])\n",
    "y = model3(x)\n",
    "y.shape"
   ]
  },
  {
   "cell_type": "code",
   "execution_count": null,
   "metadata": {
    "id": "F6awSCEfDIOw"
   },
   "outputs": [],
   "source": [
    "model3.compile(\n",
    "    loss='binary_crossentropy',\n",
    "    optimizer = 'adam', \n",
    "    metrics=['accuracy']\n",
    ")"
   ]
  },
  {
   "cell_type": "code",
   "execution_count": null,
   "metadata": {
    "colab": {
     "base_uri": "https://localhost:8080/"
    },
    "executionInfo": {
     "elapsed": 811,
     "status": "error",
     "timestamp": 1645846880772,
     "user": {
      "displayName": "quanshan wen",
      "photoUrl": "https://lh3.googleusercontent.com/a/default-user=s64",
      "userId": "06343720122502781757"
     },
     "user_tz": -480
    },
    "id": "fiOxgVsjDIRu",
    "outputId": "52fc15e1-b599-4588-bda8-88ca32160e34"
   },
   "outputs": [],
   "source": [
    "model3.fit(training_padded, training_labels, epochs=10)"
   ]
  },
  {
   "cell_type": "code",
   "execution_count": null,
   "metadata": {
    "id": "ZJTd5Yi6DIUe"
   },
   "outputs": [],
   "source": []
  },
  {
   "cell_type": "markdown",
   "metadata": {
    "id": "UTym7prJIPib"
   },
   "source": [
    "### bidirection gru"
   ]
  },
  {
   "cell_type": "code",
   "execution_count": null,
   "metadata": {
    "colab": {
     "base_uri": "https://localhost:8080/"
    },
    "executionInfo": {
     "elapsed": 611,
     "status": "ok",
     "timestamp": 1645847131537,
     "user": {
      "displayName": "quanshan wen",
      "photoUrl": "https://lh3.googleusercontent.com/a/default-user=s64",
      "userId": "06343720122502781757"
     },
     "user_tz": -480
    },
    "id": "sMCDgvTDDIWx",
    "outputId": "92670bca-de2b-40d7-9b3a-8a9bc2a97d61"
   },
   "outputs": [],
   "source": [
    "model4 = tf.keras.Sequential(\n",
    "    [\n",
    "      tf.keras.layers.Embedding(10001, 16),\n",
    "      tf.keras.layers.Bidirectional(tf.keras.layers.GRU(32, return_sequences=True)),\n",
    "      tf.keras.layers.Dense(16, activation='relu'),\n",
    "      tf.keras.layers.Dense(1, activation='sigmoid')\n",
    "    ]\n",
    ")\n",
    "model4.summary()\n",
    "x = tf.random.normal([5, 2000])\n",
    "y = model4(x)\n",
    "y.shape"
   ]
  },
  {
   "cell_type": "code",
   "execution_count": null,
   "metadata": {
    "id": "Asn-K94wIUvT"
   },
   "outputs": [],
   "source": []
  },
  {
   "cell_type": "code",
   "execution_count": null,
   "metadata": {
    "id": "igjGsxZtIU3F"
   },
   "outputs": [],
   "source": []
  },
  {
   "cell_type": "code",
   "execution_count": null,
   "metadata": {
    "id": "7H9Pe-XIIU6S"
   },
   "outputs": [],
   "source": []
  },
  {
   "cell_type": "code",
   "execution_count": null,
   "metadata": {
    "id": "2-FwebCRIU9w"
   },
   "outputs": [],
   "source": []
  }
 ],
 "metadata": {
  "accelerator": "GPU",
  "colab": {
   "authorship_tag": "ABX9TyPu+QCi+JEmdZT3ggSb8ydw",
   "collapsed_sections": [],
   "mount_file_id": "1B1fzWfoFgC-NZhS3VsuXhjTSeFv1u3IL",
   "name": "test11.ipynb",
   "provenance": []
  },
  "kernelspec": {
   "display_name": "Python 3 (ipykernel)",
   "language": "python",
   "name": "python3"
  },
  "language_info": {
   "codemirror_mode": {
    "name": "ipython",
    "version": 3
   },
   "file_extension": ".py",
   "mimetype": "text/x-python",
   "name": "python",
   "nbconvert_exporter": "python",
   "pygments_lexer": "ipython3",
   "version": "3.9.5"
  },
  "toc": {
   "base_numbering": 1,
   "nav_menu": {},
   "number_sections": true,
   "sideBar": true,
   "skip_h1_title": false,
   "title_cell": "Table of Contents",
   "title_sidebar": "Contents",
   "toc_cell": false,
   "toc_position": {
    "height": "calc(100% - 180px)",
    "left": "10px",
    "top": "150px",
    "width": "219.429px"
   },
   "toc_section_display": true,
   "toc_window_display": true
  },
  "varInspector": {
   "cols": {
    "lenName": 16,
    "lenType": 16,
    "lenVar": 40
   },
   "kernels_config": {
    "python": {
     "delete_cmd_postfix": "",
     "delete_cmd_prefix": "del ",
     "library": "var_list.py",
     "varRefreshCmd": "print(var_dic_list())"
    },
    "r": {
     "delete_cmd_postfix": ") ",
     "delete_cmd_prefix": "rm(",
     "library": "var_list.r",
     "varRefreshCmd": "cat(var_dic_list()) "
    }
   },
   "types_to_exclude": [
    "module",
    "function",
    "builtin_function_or_method",
    "instance",
    "_Feature"
   ],
   "window_display": false
  }
 },
 "nbformat": 4,
 "nbformat_minor": 1
}
