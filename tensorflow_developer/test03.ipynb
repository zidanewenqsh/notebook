{
 "cells": [
  {
   "cell_type": "code",
   "execution_count": 9,
   "metadata": {
    "ExecuteTime": {
     "end_time": "2021-12-13T03:59:18.079515Z",
     "start_time": "2021-12-13T03:59:18.075393Z"
    }
   },
   "outputs": [],
   "source": [
    "import tensorflow as tf\n",
    "import numpy as pd\n",
    "import matplotlib.pyplot as plt\n",
    "import matplotlib.image as mpimg\n",
    "import os\n",
    "from datetime import datetime\n",
    "from tensorflow.keras.preprocessing.image import ImageDataGenerator\n",
    "from pathlib import Path"
   ]
  },
  {
   "cell_type": "code",
   "execution_count": 4,
   "metadata": {
    "ExecuteTime": {
     "end_time": "2021-12-13T03:47:23.708156Z",
     "start_time": "2021-12-13T03:47:23.700783Z"
    }
   },
   "outputs": [],
   "source": [
    "%load_ext tensorboard"
   ]
  },
  {
   "cell_type": "code",
   "execution_count": 49,
   "metadata": {
    "ExecuteTime": {
     "end_time": "2021-12-13T05:13:12.041774Z",
     "start_time": "2021-12-13T05:12:59.980928Z"
    }
   },
   "outputs": [
    {
     "name": "stdout",
     "output_type": "stream",
     "text": [
      "Downloading data from http://aimaksen.bslience.cn/horse-or-human.zip\n",
      "149577728/149574867 [==============================] - 11s 0us/step\n",
      "149585920/149574867 [==============================] - 11s 0us/step\n"
     ]
    }
   ],
   "source": [
    "train_path_to_file = tf.keras.utils.get_file(\n",
    "    'horse-or-human.zip',\n",
    "    cache_subdir='horse-or-human',\n",
    "    origin='http://aimaksen.bslience.cn/horse-or-human.zip',\n",
    "    extract=True\n",
    ")"
   ]
  },
  {
   "cell_type": "code",
   "execution_count": 43,
   "metadata": {
    "ExecuteTime": {
     "end_time": "2021-12-13T05:10:35.025723Z",
     "start_time": "2021-12-13T05:10:34.461422Z"
    }
   },
   "outputs": [
    {
     "name": "stdout",
     "output_type": "stream",
     "text": [
      "Downloading data from http://aimaksen.bslience.cn/validation-horse-or-human.zip\n",
      "11485184/11480187 [==============================] - 0s 0us/step\n",
      "11493376/11480187 [==============================] - 0s 0us/step\n"
     ]
    }
   ],
   "source": [
    "val_path_to_file = tf.keras.utils.get_file(\n",
    "    'validation-horse-or-human.zip',\n",
    "    cache_subdir='validation-horse-or-human',\n",
    "    origin='http://aimaksen.bslience.cn/validation-horse-or-human.zip',\n",
    "    extract=True\n",
    ")"
   ]
  },
  {
   "cell_type": "code",
   "execution_count": 10,
   "metadata": {
    "ExecuteTime": {
     "end_time": "2021-12-13T03:59:22.225228Z",
     "start_time": "2021-12-13T03:59:22.221851Z"
    }
   },
   "outputs": [],
   "source": [
    "horse_dir = Path(train_path_to_file).parent / \"horses\"\n",
    "human_dir = Path(train_path_to_file).parent / \"humans\""
   ]
  },
  {
   "cell_type": "code",
   "execution_count": 44,
   "metadata": {
    "ExecuteTime": {
     "end_time": "2021-12-13T05:10:46.867663Z",
     "start_time": "2021-12-13T05:10:46.863276Z"
    }
   },
   "outputs": [
    {
     "data": {
      "text/plain": [
       "PosixPath('/home/stu_18510310195/.keras/horse-or-human/horses')"
      ]
     },
     "execution_count": 44,
     "metadata": {},
     "output_type": "execute_result"
    }
   ],
   "source": [
    "horse_dir"
   ]
  },
  {
   "cell_type": "code",
   "execution_count": 48,
   "metadata": {
    "ExecuteTime": {
     "end_time": "2021-12-13T05:12:53.024001Z",
     "start_time": "2021-12-13T05:12:53.018951Z"
    }
   },
   "outputs": [
    {
     "data": {
      "text/plain": [
       "['keras.json', 'datasets', 'validation-horse-or-human']"
      ]
     },
     "execution_count": 48,
     "metadata": {},
     "output_type": "execute_result"
    }
   ],
   "source": [
    "# os.listdir('/home/stu_18510310195/.keras')\n"
   ]
  },
  {
   "cell_type": "code",
   "execution_count": 47,
   "metadata": {
    "ExecuteTime": {
     "end_time": "2021-12-13T05:12:49.892587Z",
     "start_time": "2021-12-13T05:12:48.860683Z"
    }
   },
   "outputs": [],
   "source": [
    "# !rm -rf /home/stu_18510310195/.keras/horse-or-human"
   ]
  },
  {
   "cell_type": "code",
   "execution_count": 11,
   "metadata": {
    "ExecuteTime": {
     "end_time": "2021-12-13T04:00:20.379196Z",
     "start_time": "2021-12-13T04:00:20.363922Z"
    }
   },
   "outputs": [
    {
     "data": {
      "text/plain": [
       "['horse06-8.png',\n",
       " 'horse20-9.png',\n",
       " 'horse5-405.png',\n",
       " 'horse47-6.png',\n",
       " 'horse6-198.png',\n",
       " 'horse38-2.png',\n",
       " 'horse31-4.png',\n",
       " 'horse41-4.png',\n",
       " 'horse12-5.png',\n",
       " 'horse42-0.png',\n",
       " 'horse23-6.png',\n",
       " 'horse32-4.png',\n",
       " 'horse08-2.png',\n",
       " 'horse04-7.png',\n",
       " 'horse10-1.png',\n",
       " 'horse2-596.png',\n",
       " 'horse1-568.png',\n",
       " 'horse50-4.png',\n",
       " 'horse23-9.png',\n",
       " 'horse41-2.png',\n",
       " 'horse40-9.png',\n",
       " 'horse01-8.png',\n",
       " 'horse46-7.png',\n",
       " 'horse20-5.png',\n",
       " 'horse16-1.png',\n",
       " 'horse23-2.png',\n",
       " 'horse11-3.png',\n",
       " 'horse47-3.png',\n",
       " 'horse1-554.png',\n",
       " 'horse4-548.png',\n",
       " 'horse07-4.png',\n",
       " 'horse20-6.png',\n",
       " 'horse47-2.png',\n",
       " 'horse37-3.png',\n",
       " 'horse22-6.png',\n",
       " 'horse12-2.png',\n",
       " 'horse24-8.png',\n",
       " 'horse49-8.png',\n",
       " 'horse21-8.png',\n",
       " 'horse32-9.png',\n",
       " 'horse5-519.png',\n",
       " 'horse03-2.png',\n",
       " 'horse21-4.png',\n",
       " 'horse1-264.png',\n",
       " 'horse04-6.png',\n",
       " 'horse41-9.png',\n",
       " 'horse33-7.png',\n",
       " 'horse26-2.png',\n",
       " 'horse06-9.png',\n",
       " 'horse35-8.png',\n",
       " 'horse16-3.png',\n",
       " 'horse46-2.png',\n",
       " 'horse17-0.png',\n",
       " 'horse33-6.png',\n",
       " 'horse35-9.png',\n",
       " 'horse39-5.png',\n",
       " 'horse28-9.png',\n",
       " 'horse17-5.png',\n",
       " 'horse1-105.png',\n",
       " 'horse43-9.png',\n",
       " 'horse28-6.png',\n",
       " 'horse40-8.png',\n",
       " 'horse45-2.png',\n",
       " 'horse33-4.png',\n",
       " 'horse21-9.png',\n",
       " 'horse39-2.png',\n",
       " 'horse49-3.png',\n",
       " 'horse15-6.png',\n",
       " 'horse3-217.png',\n",
       " 'horse27-7.png',\n",
       " 'horse37-1.png',\n",
       " 'horse37-5.png',\n",
       " 'horse01-9.png',\n",
       " 'horse37-8.png',\n",
       " 'horse1-298.png',\n",
       " 'horse16-7.png',\n",
       " 'horse2-254.png',\n",
       " 'horse43-3.png',\n",
       " 'horse44-2.png',\n",
       " 'horse17-6.png',\n",
       " 'horse30-2.png',\n",
       " 'horse01-7.png',\n",
       " 'horse10-4.png',\n",
       " 'horse06-2.png',\n",
       " 'horse42-4.png',\n",
       " 'horse16-4.png',\n",
       " 'horse24-1.png',\n",
       " 'horse4-503.png',\n",
       " 'horse5-303.png',\n",
       " 'horse40-0.png',\n",
       " 'horse33-8.png',\n",
       " 'horse49-7.png',\n",
       " 'horse26-0.png',\n",
       " 'horse4-345.png',\n",
       " 'horse42-6.png',\n",
       " 'horse44-9.png',\n",
       " 'horse13-3.png',\n",
       " 'horse11-2.png',\n",
       " 'horse34-7.png',\n",
       " 'horse02-3.png',\n",
       " 'horse33-5.png',\n",
       " 'horse14-4.png',\n",
       " 'horse01-5.png',\n",
       " 'horse18-3.png',\n",
       " 'horse22-9.png',\n",
       " 'horse17-9.png',\n",
       " 'horse06-3.png',\n",
       " 'horse4-501.png',\n",
       " 'horse15-0.png',\n",
       " 'horse5-192.png',\n",
       " 'horse29-9.png',\n",
       " 'horse10-7.png',\n",
       " 'horse11-7.png',\n",
       " 'horse28-4.png',\n",
       " 'horse1-411.png',\n",
       " 'horse20-2.png',\n",
       " 'horse13-8.png',\n",
       " 'horse50-9.png',\n",
       " 'horse27-9.png',\n",
       " 'horse04-0.png',\n",
       " 'horse23-4.png',\n",
       " 'horse20-1.png',\n",
       " 'horse3-026.png',\n",
       " 'horse12-9.png',\n",
       " 'horse05-8.png',\n",
       " 'horse34-6.png',\n",
       " 'horse09-1.png',\n",
       " 'horse13-4.png',\n",
       " 'horse29-3.png',\n",
       " 'horse06-1.png',\n",
       " 'horse1-436.png',\n",
       " 'horse21-5.png',\n",
       " 'horse30-9.png',\n",
       " 'horse01-6.png',\n",
       " 'horse15-1.png',\n",
       " 'horse34-2.png',\n",
       " 'horse31-2.png',\n",
       " 'horse10-3.png',\n",
       " 'horse31-7.png',\n",
       " 'horse2-269.png',\n",
       " 'horse43-5.png',\n",
       " 'horse11-8.png',\n",
       " 'horse17-4.png',\n",
       " 'horse02-2.png',\n",
       " 'horse28-3.png',\n",
       " 'horse22-8.png',\n",
       " 'horse05-0.png',\n",
       " 'horse09-8.png',\n",
       " 'horse01-3.png',\n",
       " 'horse40-7.png',\n",
       " 'horse02-1.png',\n",
       " 'horse26-7.png',\n",
       " 'horse25-2.png',\n",
       " 'horse2-136.png',\n",
       " 'horse16-5.png',\n",
       " 'horse13-1.png',\n",
       " 'horse24-9.png',\n",
       " 'horse5-083.png',\n",
       " 'horse05-4.png',\n",
       " 'horse3-011.png',\n",
       " 'horse3-521.png',\n",
       " 'horse37-6.png',\n",
       " 'horse07-5.png',\n",
       " 'horse38-6.png',\n",
       " 'horse07-1.png',\n",
       " 'horse07-9.png',\n",
       " 'horse01-2.png',\n",
       " 'horse49-9.png',\n",
       " 'horse13-2.png',\n",
       " 'horse4-072.png',\n",
       " 'horse3-198.png',\n",
       " 'horse17-2.png',\n",
       " 'horse21-1.png',\n",
       " 'horse18-5.png',\n",
       " 'horse16-6.png',\n",
       " 'horse45-6.png',\n",
       " 'horse07-3.png',\n",
       " 'horse42-5.png',\n",
       " 'horse44-3.png',\n",
       " 'horse32-5.png',\n",
       " 'horse04-4.png',\n",
       " 'horse1-170.png',\n",
       " 'horse1-204.png',\n",
       " 'horse02-4.png',\n",
       " 'horse1-127.png',\n",
       " 'horse5-259.png',\n",
       " 'horse16-0.png',\n",
       " 'horse05-2.png',\n",
       " 'horse18-4.png',\n",
       " 'horse13-9.png',\n",
       " 'horse25-8.png',\n",
       " 'horse37-4.png',\n",
       " 'horse45-8.png',\n",
       " 'horse07-6.png',\n",
       " 'horse39-8.png',\n",
       " 'horse03-7.png',\n",
       " 'horse23-5.png',\n",
       " 'horse04-5.png',\n",
       " 'horse5-488.png',\n",
       " 'horse10-9.png',\n",
       " 'horse08-0.png',\n",
       " 'horse2-183.png',\n",
       " 'horse20-7.png',\n",
       " 'horse44-4.png',\n",
       " 'horse03-8.png',\n",
       " 'horse31-9.png',\n",
       " 'horse19-8.png',\n",
       " 'horse4-302.png',\n",
       " 'horse02-7.png',\n",
       " 'horse31-3.png',\n",
       " 'horse5-275.png',\n",
       " 'horse2-412.png',\n",
       " 'horse50-0.png',\n",
       " 'horse4-599.png',\n",
       " 'horse1-484.png',\n",
       " 'horse08-6.png',\n",
       " 'horse3-498.png',\n",
       " 'horse2-314.png',\n",
       " 'horse36-3.png',\n",
       " 'horse30-6.png',\n",
       " 'horse13-5.png',\n",
       " 'horse3-070.png',\n",
       " 'horse5-181.png',\n",
       " 'horse3-484.png',\n",
       " 'horse18-7.png',\n",
       " 'horse41-7.png',\n",
       " 'horse42-7.png',\n",
       " 'horse2-040.png',\n",
       " 'horse5-123.png',\n",
       " 'horse23-3.png',\n",
       " 'horse38-7.png',\n",
       " 'horse29-5.png',\n",
       " 'horse49-6.png',\n",
       " 'horse03-4.png',\n",
       " 'horse48-2.png',\n",
       " 'horse15-7.png',\n",
       " 'horse12-6.png',\n",
       " 'horse20-3.png',\n",
       " 'horse2-294.png',\n",
       " 'horse06-7.png',\n",
       " 'horse36-0.png',\n",
       " 'horse50-5.png',\n",
       " 'horse32-0.png',\n",
       " 'horse09-6.png',\n",
       " 'horse40-4.png',\n",
       " 'horse49-5.png',\n",
       " 'horse15-2.png',\n",
       " 'horse44-7.png',\n",
       " 'horse3-171.png',\n",
       " 'horse36-9.png',\n",
       " 'horse14-1.png',\n",
       " 'horse46-9.png',\n",
       " 'horse22-5.png',\n",
       " 'horse26-9.png',\n",
       " 'horse5-504.png',\n",
       " 'horse12-3.png',\n",
       " 'horse4-000.png',\n",
       " 'horse08-3.png',\n",
       " 'horse14-6.png',\n",
       " 'horse05-5.png',\n",
       " 'horse2-218.png',\n",
       " 'horse35-5.png',\n",
       " 'horse2-383.png',\n",
       " 'horse49-0.png',\n",
       " 'horse17-7.png',\n",
       " 'horse19-0.png',\n",
       " 'horse36-7.png',\n",
       " 'horse36-6.png',\n",
       " 'horse46-1.png',\n",
       " 'horse24-5.png',\n",
       " 'horse08-7.png',\n",
       " 'horse07-0.png',\n",
       " 'horse22-0.png',\n",
       " 'horse43-0.png',\n",
       " 'horse40-5.png',\n",
       " 'horse50-8.png',\n",
       " 'horse1-241.png',\n",
       " 'horse04-1.png',\n",
       " 'horse03-0.png',\n",
       " 'horse47-5.png',\n",
       " 'horse26-4.png',\n",
       " 'horse44-1.png',\n",
       " 'horse47-7.png',\n",
       " 'horse19-4.png',\n",
       " 'horse41-6.png',\n",
       " 'horse08-9.png',\n",
       " 'horse43-2.png',\n",
       " 'horse21-0.png',\n",
       " 'horse04-8.png',\n",
       " 'horse3-541.png',\n",
       " 'horse11-9.png',\n",
       " 'horse27-3.png',\n",
       " 'horse09-7.png',\n",
       " 'horse06-5.png',\n",
       " 'horse38-4.png',\n",
       " 'horse06-4.png',\n",
       " 'horse08-1.png',\n",
       " 'horse36-2.png',\n",
       " 'horse11-5.png',\n",
       " 'horse22-4.png',\n",
       " 'horse04-2.png',\n",
       " 'horse47-9.png',\n",
       " 'horse40-6.png',\n",
       " 'horse20-4.png',\n",
       " 'horse2-368.png',\n",
       " 'horse5-235.png',\n",
       " 'horse44-5.png',\n",
       " 'horse15-5.png',\n",
       " 'horse34-9.png',\n",
       " 'horse19-6.png',\n",
       " 'horse1-000.png',\n",
       " 'horse2-112.png',\n",
       " 'horse37-2.png',\n",
       " 'horse45-4.png',\n",
       " 'horse26-5.png',\n",
       " 'horse02-8.png',\n",
       " 'horse30-4.png',\n",
       " 'horse4-202.png',\n",
       " 'horse39-4.png',\n",
       " 'horse15-8.png',\n",
       " 'horse48-5.png',\n",
       " 'horse03-6.png',\n",
       " 'horse5-164.png',\n",
       " 'horse21-2.png',\n",
       " 'horse5-458.png',\n",
       " 'horse19-7.png',\n",
       " 'horse06-6.png',\n",
       " 'horse30-3.png',\n",
       " 'horse03-3.png',\n",
       " 'horse30-0.png',\n",
       " 'horse48-1.png',\n",
       " 'horse5-400.png',\n",
       " 'horse27-5.png',\n",
       " 'horse34-4.png',\n",
       " 'horse6-275.png',\n",
       " 'horse28-5.png',\n",
       " 'horse12-7.png',\n",
       " 'horse07-7.png',\n",
       " 'horse34-1.png',\n",
       " 'horse31-1.png',\n",
       " 'horse06-0.png',\n",
       " 'horse5-550.png',\n",
       " 'horse18-0.png',\n",
       " 'horse22-2.png',\n",
       " 'horse04-9.png',\n",
       " 'horse26-3.png',\n",
       " 'horse5-100.png',\n",
       " 'horse31-6.png',\n",
       " 'horse50-7.png',\n",
       " 'horse5-002.png',\n",
       " 'horse32-8.png',\n",
       " 'horse27-1.png',\n",
       " 'horse29-6.png',\n",
       " 'horse24-0.png',\n",
       " 'horse32-6.png',\n",
       " 'horse24-4.png',\n",
       " 'horse26-6.png',\n",
       " 'horse49-4.png',\n",
       " 'horse32-3.png',\n",
       " 'horse1-224.png',\n",
       " 'horse44-6.png',\n",
       " 'horse50-3.png',\n",
       " 'horse23-8.png',\n",
       " 'horse43-6.png',\n",
       " 'horse5-076.png',\n",
       " 'horse3-469.png',\n",
       " 'horse19-9.png',\n",
       " 'horse19-3.png',\n",
       " 'horse48-6.png',\n",
       " 'horse01-0.png',\n",
       " 'horse15-4.png',\n",
       " 'horse13-0.png',\n",
       " 'horse1-122.png',\n",
       " 'horse09-5.png',\n",
       " 'horse29-0.png',\n",
       " 'horse49-2.png',\n",
       " 'horse2-224.png',\n",
       " 'horse25-5.png',\n",
       " 'horse10-2.png',\n",
       " 'horse48-9.png',\n",
       " 'horse2-069.png',\n",
       " 'horse5-103.png',\n",
       " 'horse33-1.png',\n",
       " 'horse21-7.png',\n",
       " 'horse05-6.png',\n",
       " 'horse13-7.png',\n",
       " 'horse27-4.png',\n",
       " 'horse3-055.png',\n",
       " 'horse10-6.png',\n",
       " 'horse24-2.png',\n",
       " 'horse25-1.png',\n",
       " 'horse4-188.png',\n",
       " 'horse14-9.png',\n",
       " 'horse47-1.png',\n",
       " 'horse24-7.png',\n",
       " 'horse34-0.png',\n",
       " 'horse5-065.png',\n",
       " 'horse16-9.png',\n",
       " 'horse30-7.png',\n",
       " 'horse29-1.png',\n",
       " 'horse3-326.png',\n",
       " 'horse28-8.png',\n",
       " 'horse46-3.png',\n",
       " 'horse18-8.png',\n",
       " 'horse09-3.png',\n",
       " 'horse5-203.png',\n",
       " 'horse09-0.png',\n",
       " 'horse24-3.png',\n",
       " 'horse47-0.png',\n",
       " 'horse14-7.png',\n",
       " 'horse30-5.png',\n",
       " 'horse4-389.png',\n",
       " 'horse3-141.png',\n",
       " 'horse43-8.png',\n",
       " 'horse4-014.png',\n",
       " 'horse32-1.png',\n",
       " 'horse02-6.png',\n",
       " 'horse04-3.png',\n",
       " 'horse12-4.png',\n",
       " 'horse36-5.png',\n",
       " 'horse6-089.png',\n",
       " 'horse4-556.png',\n",
       " 'horse14-8.png',\n",
       " 'horse43-1.png',\n",
       " 'horse41-1.png',\n",
       " 'horse31-0.png',\n",
       " 'horse4-530.png',\n",
       " 'horse35-2.png',\n",
       " 'horse4-439.png',\n",
       " 'horse35-4.png',\n",
       " 'horse23-7.png',\n",
       " 'horse1-335.png',\n",
       " 'horse6-544.png',\n",
       " 'horse34-8.png',\n",
       " 'horse11-4.png',\n",
       " 'horse1-510.png',\n",
       " 'horse07-8.png',\n",
       " 'horse5-360.png',\n",
       " 'horse12-0.png',\n",
       " 'horse29-8.png',\n",
       " 'horse28-1.png',\n",
       " 'horse44-8.png',\n",
       " 'horse22-7.png',\n",
       " 'horse4-232.png',\n",
       " 'horse46-8.png',\n",
       " 'horse05-7.png',\n",
       " 'horse05-9.png',\n",
       " 'horse49-1.png',\n",
       " 'horse38-1.png',\n",
       " 'horse6-064.png',\n",
       " 'horse5-589.png',\n",
       " 'horse35-1.png',\n",
       " 'horse27-2.png',\n",
       " 'horse05-3.png',\n",
       " 'horse25-9.png',\n",
       " 'horse3-416.png',\n",
       " 'horse3-255.png',\n",
       " 'horse2-441.png',\n",
       " 'horse02-0.png',\n",
       " 'horse34-3.png',\n",
       " 'horse31-5.png',\n",
       " 'horse35-0.png',\n",
       " 'horse41-0.png',\n",
       " 'horse11-0.png',\n",
       " 'horse34-5.png',\n",
       " 'horse50-6.png',\n",
       " 'horse39-6.png',\n",
       " 'horse43-4.png',\n",
       " 'horse17-3.png',\n",
       " 'horse5-478.png',\n",
       " 'horse48-8.png',\n",
       " 'horse45-5.png',\n",
       " 'horse10-5.png',\n",
       " 'horse37-7.png',\n",
       " 'horse47-8.png',\n",
       " 'horse16-8.png',\n",
       " 'horse4-468.png',\n",
       " 'horse28-0.png',\n",
       " 'horse21-6.png',\n",
       " 'horse45-3.png',\n",
       " 'horse3-397.png',\n",
       " 'horse5-060.png',\n",
       " 'horse5-565.png',\n",
       " 'horse29-2.png',\n",
       " 'horse1-455.png',\n",
       " 'horse4-403.png',\n",
       " 'horse42-3.png',\n",
       " 'horse02-5.png',\n",
       " 'horse32-2.png',\n",
       " 'horse13-6.png',\n",
       " 'horse38-9.png',\n",
       " 'horse48-7.png',\n",
       " 'horse39-7.png',\n",
       " 'horse4-102.png',\n",
       " 'horse42-9.png',\n",
       " 'horse39-3.png',\n",
       " 'horse48-0.png',\n",
       " 'horse14-2.png',\n",
       " 'horse01-4.png',\n",
       " 'horse45-0.png',\n",
       " 'horse33-3.png',\n",
       " 'horse37-9.png',\n",
       " 'horse14-3.png',\n",
       " 'horse41-3.png',\n",
       " 'horse07-2.png',\n",
       " 'horse5-032.png',\n",
       " 'horse3-584.png',\n",
       " 'horse19-1.png',\n",
       " 'horse5-402.png',\n",
       " 'horse40-1.png',\n",
       " 'horse6-153.png',\n",
       " 'horse19-2.png',\n",
       " 'horse24-6.png',\n",
       " 'horse45-1.png',\n",
       " 'horse27-8.png',\n",
       " 'horse09-2.png',\n",
       " 'horse19-5.png',\n",
       " 'horse2-582.png',\n",
       " 'horse16-2.png',\n",
       " 'horse08-5.png',\n",
       " 'horse25-7.png',\n",
       " 'horse33-9.png',\n",
       " 'horse17-8.png',\n",
       " 'horse28-2.png',\n",
       " 'horse46-6.png',\n",
       " 'horse17-1.png',\n",
       " 'horse15-3.png',\n",
       " 'horse09-4.png',\n",
       " 'horse30-1.png',\n",
       " 'horse36-4.png',\n",
       " 'horse11-1.png',\n",
       " 'horse33-2.png',\n",
       " 'horse48-4.png',\n",
       " 'horse36-1.png',\n",
       " 'horse4-159.png',\n",
       " 'horse3-440.png',\n",
       " 'horse28-7.png',\n",
       " 'horse1-384.png',\n",
       " 'horse26-8.png',\n",
       " 'horse05-1.png',\n",
       " 'horse25-0.png',\n",
       " 'horse4-495.png',\n",
       " 'horse29-7.png',\n",
       " 'horse48-3.png',\n",
       " 'horse20-8.png',\n",
       " 'horse18-6.png',\n",
       " 'horse12-8.png',\n",
       " 'horse50-1.png',\n",
       " 'horse18-1.png',\n",
       " 'horse09-9.png',\n",
       " 'horse4-588.png',\n",
       " 'horse25-3.png',\n",
       " 'horse20-0.png',\n",
       " 'horse23-0.png',\n",
       " 'horse35-7.png',\n",
       " 'horse45-9.png',\n",
       " 'horse10-8.png',\n",
       " 'horse46-0.png',\n",
       " 'horse46-5.png',\n",
       " 'horse31-8.png',\n",
       " 'horse43-7.png',\n",
       " 'horse39-0.png',\n",
       " 'horse21-3.png',\n",
       " 'horse45-7.png',\n",
       " 'horse46-4.png',\n",
       " 'horse14-5.png',\n",
       " 'horse6-161.png',\n",
       " 'horse38-3.png',\n",
       " 'horse18-9.png',\n",
       " 'horse38-8.png',\n",
       " 'horse11-6.png',\n",
       " 'horse2-011.png',\n",
       " 'horse18-2.png',\n",
       " 'horse38-5.png',\n",
       " 'horse15-9.png',\n",
       " 'horse1-539.png',\n",
       " 'horse10-0.png',\n",
       " 'horse12-1.png',\n",
       " 'horse03-9.png',\n",
       " 'horse25-4.png',\n",
       " 'horse4-043.png',\n",
       " 'horse38-0.png',\n",
       " 'horse39-1.png',\n",
       " 'horse40-3.png',\n",
       " 'horse08-8.png',\n",
       " 'horse42-8.png',\n",
       " 'horse6-218.png',\n",
       " 'horse35-6.png',\n",
       " 'horse23-1.png',\n",
       " 'horse03-5.png',\n",
       " 'horse39-9.png',\n",
       " 'horse5-342.png',\n",
       " 'horse30-8.png',\n",
       " 'horse25-6.png',\n",
       " 'horse4-541.png',\n",
       " 'horse2-544.png',\n",
       " 'horse01-1.png',\n",
       " 'horse50-2.png',\n",
       " 'horse32-7.png',\n",
       " 'horse42-2.png',\n",
       " 'horse47-4.png',\n",
       " 'horse37-0.png',\n",
       " 'horse22-1.png',\n",
       " 'horse41-5.png',\n",
       " 'horse35-3.png',\n",
       " 'horse33-0.png',\n",
       " 'horse2-201.png',\n",
       " 'horse5-514.png',\n",
       " 'horse27-0.png',\n",
       " 'horse3-099.png',\n",
       " 'horse6-345.png',\n",
       " 'horse36-8.png',\n",
       " 'horse40-2.png',\n",
       " 'horse42-1.png',\n",
       " 'horse22-3.png',\n",
       " 'horse08-4.png',\n",
       " 'horse1-276.png',\n",
       " 'horse5-018.png',\n",
       " 'horse44-0.png',\n",
       " 'horse26-1.png',\n",
       " 'horse29-4.png',\n",
       " 'horse02-9.png',\n",
       " 'horse6-004.png',\n",
       " 'horse6-403.png',\n",
       " 'horse14-0.png',\n",
       " 'horse27-6.png',\n",
       " 'horse41-8.png',\n",
       " 'horse03-1.png']"
      ]
     },
     "execution_count": 11,
     "metadata": {},
     "output_type": "execute_result"
    }
   ],
   "source": [
    "horse_names = os.listdir(horse_dir)\n",
    "human_names = os.listdir(human_dir)\n",
    "horse_names"
   ]
  },
  {
   "cell_type": "code",
   "execution_count": 12,
   "metadata": {
    "ExecuteTime": {
     "end_time": "2021-12-13T04:01:20.749008Z",
     "start_time": "2021-12-13T04:01:20.743987Z"
    }
   },
   "outputs": [],
   "source": [
    "%matplotlib inline"
   ]
  },
  {
   "cell_type": "code",
   "execution_count": 19,
   "metadata": {
    "ExecuteTime": {
     "end_time": "2021-12-13T04:07:49.408051Z",
     "start_time": "2021-12-13T04:07:49.403869Z"
    }
   },
   "outputs": [],
   "source": [
    "horse_list = [os.path.join(horse_dir, name) for name in horse_names[0:8]]\n",
    "human_list = [os.path.join(human_dir, name) for name in human_names[0:8]]"
   ]
  },
  {
   "cell_type": "code",
   "execution_count": 31,
   "metadata": {
    "ExecuteTime": {
     "end_time": "2021-12-13T04:09:54.829293Z",
     "start_time": "2021-12-13T04:09:54.823556Z"
    }
   },
   "outputs": [
    {
     "data": {
      "text/plain": [
       "<Figure size 1152x1152 with 0 Axes>"
      ]
     },
     "metadata": {},
     "output_type": "display_data"
    }
   ],
   "source": [
    "nrow = 4\n",
    "ncow = 4\n",
    "fig = plt.gcf()\n",
    "fig.set_size_inches(nrow*4, ncow*4)"
   ]
  },
  {
   "cell_type": "code",
   "execution_count": 33,
   "metadata": {
    "ExecuteTime": {
     "end_time": "2021-12-13T04:10:18.567817Z",
     "start_time": "2021-12-13T04:10:18.086739Z"
    }
   },
   "outputs": [
    {
     "data": {
      "image/png": "[encoded data removed]",
      "text/plain": [
       "<Figure size 432x288 with 16 Axes>"
      ]
     },
     "metadata": {
      "needs_background": "light"
     },
     "output_type": "display_data"
    }
   ],
   "source": [
    "for i, imgpath in enumerate(horse_list + human_list):\n",
    "    sp = plt.subplot(4, 4, i+1)\n",
    "    sp.axis('Off')\n",
    "    img = mpimg.imread(imgpath)\n",
    "    plt.imshow(img)"
   ]
  },
  {
   "cell_type": "code",
   "execution_count": 36,
   "metadata": {
    "ExecuteTime": {
     "end_time": "2021-12-13T05:07:47.684493Z",
     "start_time": "2021-12-13T05:07:47.681110Z"
    }
   },
   "outputs": [],
   "source": [
    "data_gen = ImageDataGenerator(rescale=1/255)\n"
   ]
  },
  {
   "cell_type": "code",
   "execution_count": 50,
   "metadata": {
    "ExecuteTime": {
     "end_time": "2021-12-13T05:13:27.391231Z",
     "start_time": "2021-12-13T05:13:27.275783Z"
    },
    "scrolled": true
   },
   "outputs": [
    {
     "name": "stdout",
     "output_type": "stream",
     "text": [
      "Found 1027 images belonging to 2 classes.\n"
     ]
    }
   ],
   "source": [
    "train_generator = data_gen.flow_from_directory(\n",
    "    Path(train_path_to_file).parent,\n",
    "    target_size=(300,300),\n",
    "    batch_size=128,\n",
    "    class_mode='binary'\n",
    ")\n",
    "# data_gen.flow_from_directory?"
   ]
  },
  {
   "cell_type": "code",
   "execution_count": 51,
   "metadata": {
    "ExecuteTime": {
     "end_time": "2021-12-13T05:13:29.451583Z",
     "start_time": "2021-12-13T05:13:29.338827Z"
    },
    "scrolled": true
   },
   "outputs": [
    {
     "name": "stdout",
     "output_type": "stream",
     "text": [
      "Found 256 images belonging to 2 classes.\n"
     ]
    }
   ],
   "source": [
    "val_generator = data_gen.flow_from_directory(\n",
    "    Path(val_path_to_file).parent,\n",
    "    target_size=(300,300),\n",
    "    batch_size=16,\n",
    "    class_mode='binary'\n",
    ")\n",
    "# data_gen.flow_from_directory?"
   ]
  },
  {
   "cell_type": "code",
   "execution_count": 54,
   "metadata": {
    "ExecuteTime": {
     "end_time": "2021-12-13T05:16:17.052480Z",
     "start_time": "2021-12-13T05:16:17.048940Z"
    }
   },
   "outputs": [],
   "source": [
    "import tensorflow.keras.layers as layers\n",
    "from tensorflow.keras.layers import Conv2D, MaxPooling2D, Flatten, Dense"
   ]
  },
  {
   "cell_type": "code",
   "execution_count": 56,
   "metadata": {
    "ExecuteTime": {
     "end_time": "2021-12-13T05:19:18.451927Z",
     "start_time": "2021-12-13T05:19:18.319106Z"
    }
   },
   "outputs": [],
   "source": [
    "model = tf.keras.models.Sequential([\n",
    "    Conv2D(16, (3, 3), activation='relu',input_shape=(300,300,3)),\n",
    "    MaxPooling2D(2,2),\n",
    "    Conv2D(32, (3, 3), activation='relu'),\n",
    "    MaxPooling2D(2,2),\n",
    "    Conv2D(64, (3, 3), activation='relu'),\n",
    "    MaxPooling2D(2,2),\n",
    "    Conv2D(64, (3, 3), activation='relu'),\n",
    "    MaxPooling2D(2,2),\n",
    "    Flatten(),\n",
    "    Dense(512, activation='relu'),\n",
    "    Dense(1, activation='sigmoid')\n",
    "])"
   ]
  },
  {
   "cell_type": "code",
   "execution_count": 57,
   "metadata": {
    "ExecuteTime": {
     "end_time": "2021-12-13T05:21:12.136295Z",
     "start_time": "2021-12-13T05:21:12.121790Z"
    }
   },
   "outputs": [],
   "source": [
    "model.compile(\n",
    "    loss=tf.keras.losses.binary_crossentropy,\n",
    "    optimizer=tf.keras.optimizers.RMSprop(learning_rate=0.001),\n",
    "    metrics=['accuracy']\n",
    ")"
   ]
  },
  {
   "cell_type": "code",
   "execution_count": 60,
   "metadata": {
    "ExecuteTime": {
     "end_time": "2021-12-13T05:24:34.063238Z",
     "start_time": "2021-12-13T05:24:34.058756Z"
    }
   },
   "outputs": [
    {
     "data": {
      "text/plain": [
       "'logs/fit/20211213_052434'"
      ]
     },
     "execution_count": 60,
     "metadata": {},
     "output_type": "execute_result"
    }
   ],
   "source": [
    "logdir = f\"logs/fit/{datetime.now().strftime('%Y%m%d_%H%M%S')}\"\n",
    "logdir"
   ]
  },
  {
   "cell_type": "code",
   "execution_count": 61,
   "metadata": {
    "ExecuteTime": {
     "end_time": "2021-12-13T05:24:43.732513Z",
     "start_time": "2021-12-13T05:24:43.728811Z"
    }
   },
   "outputs": [],
   "source": [
    "tensorboard_callback = tf.keras.callbacks.TensorBoard(log_dir=logdir)"
   ]
  },
  {
   "cell_type": "code",
   "execution_count": 62,
   "metadata": {
    "ExecuteTime": {
     "end_time": "2021-12-13T05:28:29.824907Z",
     "start_time": "2021-12-13T05:28:29.820527Z"
    }
   },
   "outputs": [],
   "source": [
    "class MyCallBack(tf.keras.callbacks.Callback):\n",
    "    def on_epoch_end(self, epoch, logs={}):\n",
    "        if logs.get('val_accuracy') > 0.9:\n",
    "            print(\"val accuracy is greater than 0.9, stop training\")\n",
    "            self.model.stop_training = True"
   ]
  },
  {
   "cell_type": "code",
   "execution_count": 63,
   "metadata": {
    "ExecuteTime": {
     "end_time": "2021-12-13T05:29:19.239241Z",
     "start_time": "2021-12-13T05:29:19.236122Z"
    }
   },
   "outputs": [],
   "source": [
    "mycallback = MyCallBack()"
   ]
  },
  {
   "cell_type": "code",
   "execution_count": 65,
   "metadata": {
    "ExecuteTime": {
     "end_time": "2021-12-13T05:37:03.134869Z",
     "start_time": "2021-12-13T05:30:01.223829Z"
    }
   },
   "outputs": [
    {
     "name": "stdout",
     "output_type": "stream",
     "text": [
      "Epoch 1/20\n",
      "9/9 [==============================] - 23s 2s/step - loss: 0.8141 - accuracy: 0.5248 - val_loss: 0.6128 - val_accuracy: 0.5781\n",
      "Epoch 2/20\n",
      "9/9 [==============================] - 22s 2s/step - loss: 0.7709 - accuracy: 0.6553 - val_loss: 0.4856 - val_accuracy: 0.7812\n",
      "Epoch 3/20\n",
      "9/9 [==============================] - 20s 3s/step - loss: 0.7594 - accuracy: 0.7575 - val_loss: 0.6572 - val_accuracy: 0.7266\n",
      "Epoch 4/20\n",
      "9/9 [==============================] - 20s 2s/step - loss: 0.6721 - accuracy: 0.8247 - val_loss: 0.6925 - val_accuracy: 0.7812\n",
      "Epoch 5/20\n",
      "9/9 [==============================] - 21s 2s/step - loss: 0.1914 - accuracy: 0.9289 - val_loss: 1.8920 - val_accuracy: 0.7812\n",
      "Epoch 6/20\n",
      "9/9 [==============================] - 21s 2s/step - loss: 0.1264 - accuracy: 0.9552 - val_loss: 1.8473 - val_accuracy: 0.7773\n",
      "Epoch 7/20\n",
      "9/9 [==============================] - 20s 2s/step - loss: 0.0442 - accuracy: 0.9834 - val_loss: 1.9748 - val_accuracy: 0.7930\n",
      "Epoch 8/20\n",
      "9/9 [==============================] - 21s 2s/step - loss: 0.2076 - accuracy: 0.9309 - val_loss: 1.2792 - val_accuracy: 0.7812\n",
      "Epoch 9/20\n",
      "9/9 [==============================] - 21s 2s/step - loss: 0.3018 - accuracy: 0.9270 - val_loss: 2.0182 - val_accuracy: 0.7891\n",
      "Epoch 10/20\n",
      "9/9 [==============================] - 21s 2s/step - loss: 0.1110 - accuracy: 0.9611 - val_loss: 6.9632 - val_accuracy: 0.6289\n",
      "Epoch 11/20\n",
      "9/9 [==============================] - 21s 2s/step - loss: 0.0914 - accuracy: 0.9708 - val_loss: 2.4164 - val_accuracy: 0.8125\n",
      "Epoch 12/20\n",
      "9/9 [==============================] - 20s 2s/step - loss: 0.0551 - accuracy: 0.9873 - val_loss: 1.9751 - val_accuracy: 0.8320\n",
      "Epoch 13/20\n",
      "9/9 [==============================] - 21s 2s/step - loss: 0.0071 - accuracy: 0.9981 - val_loss: 2.4706 - val_accuracy: 0.8242\n",
      "Epoch 14/20\n",
      "9/9 [==============================] - 21s 2s/step - loss: 0.0048 - accuracy: 1.0000 - val_loss: 2.6614 - val_accuracy: 0.8164\n",
      "Epoch 15/20\n",
      "9/9 [==============================] - 21s 2s/step - loss: 0.0010 - accuracy: 1.0000 - val_loss: 2.8269 - val_accuracy: 0.8203\n",
      "Epoch 16/20\n",
      "9/9 [==============================] - 21s 2s/step - loss: 5.1736e-04 - accuracy: 1.0000 - val_loss: 2.8838 - val_accuracy: 0.8281\n",
      "Epoch 17/20\n",
      "9/9 [==============================] - 21s 2s/step - loss: 2.8666e-04 - accuracy: 1.0000 - val_loss: 3.0615 - val_accuracy: 0.8359\n",
      "Epoch 18/20\n",
      "9/9 [==============================] - 21s 2s/step - loss: 1.3103e-04 - accuracy: 1.0000 - val_loss: 3.2703 - val_accuracy: 0.8359\n",
      "Epoch 19/20\n",
      "9/9 [==============================] - 21s 2s/step - loss: 0.8067 - accuracy: 0.9367 - val_loss: 1.1172 - val_accuracy: 0.8320\n",
      "Epoch 20/20\n",
      "9/9 [==============================] - 21s 2s/step - loss: 0.0382 - accuracy: 0.9903 - val_loss: 1.4627 - val_accuracy: 0.8477\n"
     ]
    },
    {
     "data": {
      "text/plain": [
       "<keras.callbacks.History at 0x7f5584202810>"
      ]
     },
     "execution_count": 65,
     "metadata": {},
     "output_type": "execute_result"
    }
   ],
   "source": [
    "model.fit(train_generator, epochs=20, callbacks=[tensorboard_callback, mycallback], validation_data=val_generator)"
   ]
  },
  {
   "cell_type": "code",
   "execution_count": 66,
   "metadata": {
    "ExecuteTime": {
     "end_time": "2021-12-13T05:38:36.274322Z",
     "start_time": "2021-12-13T05:38:11.903500Z"
    },
    "scrolled": true
   },
   "outputs": [
    {
     "name": "stdout",
     "output_type": "stream",
     "text": [
      "2021-12-13 05:38:14.196939: W tensorflow/stream_executor/platform/default/dso_loader.cc:64] Could not load dynamic library 'libcudart.so.11.0'; dlerror: libcudart.so.11.0: cannot open shared object file: No such file or directory\n",
      "2021-12-13 05:38:14.196995: I tensorflow/stream_executor/cuda/cudart_stub.cc:29] Ignore above cudart dlerror if you do not have a GPU set up on your machine.\n",
      "2021-12-13 05:38:15.925135: W tensorflow/stream_executor/platform/default/dso_loader.cc:64] Could not load dynamic library 'libcuda.so.1'; dlerror: libcuda.so.1: cannot open shared object file: No such file or directory\n",
      "2021-12-13 05:38:15.925195: W tensorflow/stream_executor/cuda/cuda_driver.cc:269] failed call to cuInit: UNKNOWN ERROR (303)\n",
      "2021-12-13 05:38:15.925221: I tensorflow/stream_executor/cuda/cuda_diagnostics.cc:156] kernel driver does not appear to be running on this host (cd0542b8a560): /proc/driver/nvidia/version does not exist\n",
      "\n",
      "NOTE: Using experimental fast data loading logic. To disable, pass\n",
      "    \"--load_fast=false\" and report issues on GitHub. More details:\n",
      "    https://github.com/tensorflow/tensorboard/issues/4784\n",
      "\n",
      "TensorBoard 2.7.0 at http://cd0542b8a560:6307/ (Press CTRL+C to quit)\n",
      "^C\n"
     ]
    }
   ],
   "source": [
    "!tensorboard --logdir logs --port=6307 --bind_all"
   ]
  },
  {
   "cell_type": "code",
   "execution_count": 73,
   "metadata": {
    "ExecuteTime": {
     "end_time": "2021-12-13T05:43:09.930145Z",
     "start_time": "2021-12-13T05:43:09.926700Z"
    }
   },
   "outputs": [],
   "source": [
    "horse_test_path = Path(horse_dir)/horse_names[0]\n",
    "human_test_path = Path(human_dir)/human_names[0]"
   ]
  },
  {
   "cell_type": "code",
   "execution_count": 70,
   "metadata": {
    "ExecuteTime": {
     "end_time": "2021-12-13T05:42:13.208839Z",
     "start_time": "2021-12-13T05:42:13.205227Z"
    }
   },
   "outputs": [],
   "source": [
    "import tensorflow.keras.preprocessing.image as image"
   ]
  },
  {
   "cell_type": "code",
   "execution_count": 74,
   "metadata": {
    "ExecuteTime": {
     "end_time": "2021-12-13T05:43:11.682778Z",
     "start_time": "2021-12-13T05:43:11.664252Z"
    }
   },
   "outputs": [],
   "source": [
    "horse_img = image.load_img(horse_test_path)\n",
    "human_img = image.load_img(human_test_path)"
   ]
  },
  {
   "cell_type": "code",
   "execution_count": 83,
   "metadata": {
    "ExecuteTime": {
     "end_time": "2021-12-13T05:46:24.441593Z",
     "start_time": "2021-12-13T05:46:24.436860Z"
    }
   },
   "outputs": [],
   "source": [
    "horse_array = image.img_to_array(horse_img) / 255.0\n",
    "human_array = image.img_to_array(human_img) / 255.0"
   ]
  },
  {
   "cell_type": "code",
   "execution_count": 84,
   "metadata": {
    "ExecuteTime": {
     "end_time": "2021-12-13T05:46:26.774374Z",
     "start_time": "2021-12-13T05:46:26.770981Z"
    }
   },
   "outputs": [],
   "source": [
    "horse_array = np.expand_dims(horse_array, 0)\n",
    "human_array = np.expand_dims(human_array, 0)"
   ]
  },
  {
   "cell_type": "code",
   "execution_count": 85,
   "metadata": {
    "ExecuteTime": {
     "end_time": "2021-12-13T05:46:28.305276Z",
     "start_time": "2021-12-13T05:46:28.301008Z"
    }
   },
   "outputs": [
    {
     "data": {
      "text/plain": [
       "((1, 300, 300, 3), (1, 300, 300, 3))"
      ]
     },
     "execution_count": 85,
     "metadata": {},
     "output_type": "execute_result"
    }
   ],
   "source": [
    "horse_array.shape, human_array.shape"
   ]
  },
  {
   "cell_type": "code",
   "execution_count": 89,
   "metadata": {
    "ExecuteTime": {
     "end_time": "2021-12-13T05:47:01.558134Z",
     "start_time": "2021-12-13T05:47:01.490989Z"
    }
   },
   "outputs": [
    {
     "data": {
      "text/plain": [
       "array([[4.5632223e-06]], dtype=float32)"
      ]
     },
     "execution_count": 89,
     "metadata": {},
     "output_type": "execute_result"
    }
   ],
   "source": [
    "model.predict(horse_array)\n"
   ]
  },
  {
   "cell_type": "code",
   "execution_count": 90,
   "metadata": {
    "ExecuteTime": {
     "end_time": "2021-12-13T05:47:03.545663Z",
     "start_time": "2021-12-13T05:47:03.479251Z"
    }
   },
   "outputs": [
    {
     "data": {
      "text/plain": [
       "array([[0.9775314]], dtype=float32)"
      ]
     },
     "execution_count": 90,
     "metadata": {},
     "output_type": "execute_result"
    }
   ],
   "source": [
    "model.predict(human_array)"
   ]
  },
  {
   "cell_type": "code",
   "execution_count": null,
   "metadata": {},
   "outputs": [],
   "source": []
  },
  {
   "cell_type": "code",
   "execution_count": null,
   "metadata": {},
   "outputs": [],
   "source": []
  }
 ],
 "metadata": {
  "kernelspec": {
   "display_name": "Python 3 (ipykernel)",
   "language": "python",
   "name": "python3"
  },
  "language_info": {
   "codemirror_mode": {
    "name": "ipython",
    "version": 3
   },
   "file_extension": ".py",
   "mimetype": "text/x-python",
   "name": "python",
   "nbconvert_exporter": "python",
   "pygments_lexer": "ipython3",
   "version": "3.9.5"
  },
  "toc": {
   "base_numbering": 1,
   "nav_menu": {},
   "number_sections": true,
   "sideBar": true,
   "skip_h1_title": false,
   "title_cell": "Table of Contents",
   "title_sidebar": "Contents",
   "toc_cell": false,
   "toc_position": {},
   "toc_section_display": true,
   "toc_window_display": false
  },
  "varInspector": {
   "cols": {
    "lenName": 16,
    "lenType": 16,
    "lenVar": 40
   },
   "kernels_config": {
    "python": {
     "delete_cmd_postfix": "",
     "delete_cmd_prefix": "del ",
     "library": "var_list.py",
     "varRefreshCmd": "print(var_dic_list())"
    },
    "r": {
     "delete_cmd_postfix": ") ",
     "delete_cmd_prefix": "rm(",
     "library": "var_list.r",
     "varRefreshCmd": "cat(var_dic_list()) "
    }
   },
   "types_to_exclude": [
    "module",
    "function",
    "builtin_function_or_method",
    "instance",
    "_Feature"
   ],
   "window_display": false
  }
 },
 "nbformat": 4,
 "nbformat_minor": 4
}
