{
 "cells": [
  {
   "cell_type": "code",
   "execution_count": null,
   "metadata": {},
   "outputs": [],
   "source": []
  },
  {
   "cell_type": "code",
   "execution_count": 22,
   "metadata": {
    "ExecuteTime": {
     "end_time": "2021-12-08T02:15:31.131531Z",
     "start_time": "2021-12-08T02:15:31.127535Z"
    }
   },
   "outputs": [],
   "source": [
    "import tensorflow as tf\n",
    "import matplotlib.pyplot as plt\n",
    "import numpy as np\n",
    "import pandas as pd\n",
    "from datetime import datetime\n",
    "from IPython.core.interactiveshell import InteractiveShell\n",
    "InteractiveShell.ast_node_interactivity = \"all\""
   ]
  },
  {
   "cell_type": "code",
   "execution_count": 23,
   "metadata": {
    "ExecuteTime": {
     "end_time": "2021-12-08T02:15:44.053698Z",
     "start_time": "2021-12-08T02:15:44.047254Z"
    }
   },
   "outputs": [
    {
     "data": {
      "text/plain": [
       "'logs/fit/20211208-021544'"
      ]
     },
     "execution_count": 23,
     "metadata": {},
     "output_type": "execute_result"
    }
   ],
   "source": [
    "logdir = \"logs/fit/\" + datetime.now().strftime(\"%Y%m%d-%H%M%S\")\n",
    "logdir"
   ]
  },
  {
   "cell_type": "code",
   "execution_count": 21,
   "metadata": {
    "ExecuteTime": {
     "end_time": "2021-12-08T02:14:33.993213Z",
     "start_time": "2021-12-08T02:14:33.982207Z"
    }
   },
   "outputs": [],
   "source": [
    "%load_ext tensorboard"
   ]
  },
  {
   "cell_type": "code",
   "execution_count": 3,
   "metadata": {
    "ExecuteTime": {
     "end_time": "2021-12-08T01:17:27.584199Z",
     "start_time": "2021-12-08T01:17:27.064383Z"
    }
   },
   "outputs": [],
   "source": [
    "mnist = tf.keras.datasets.fashion_mnist\n",
    "(training_images, training_labels), (test_images, test_labels) = mnist.load_data()"
   ]
  },
  {
   "cell_type": "code",
   "execution_count": 4,
   "metadata": {
    "ExecuteTime": {
     "end_time": "2021-12-08T01:17:51.884974Z",
     "start_time": "2021-12-08T01:17:51.510005Z"
    }
   },
   "outputs": [],
   "source": [
    "training_images = training_images / 255.0\n",
    "test_images = test_images / 255.0"
   ]
  },
  {
   "cell_type": "code",
   "execution_count": 12,
   "metadata": {
    "ExecuteTime": {
     "end_time": "2021-12-08T02:10:20.195208Z",
     "start_time": "2021-12-08T02:10:20.188375Z"
    }
   },
   "outputs": [],
   "source": [
    "model = tf.keras.models.Sequential()\n"
   ]
  },
  {
   "cell_type": "code",
   "execution_count": 13,
   "metadata": {
    "ExecuteTime": {
     "end_time": "2021-12-08T02:10:21.746802Z",
     "start_time": "2021-12-08T02:10:21.727404Z"
    }
   },
   "outputs": [],
   "source": [
    "model.add(tf.keras.layers.Conv2D(32,(3,3),activation='relu',input_shape=(28,28,1)))"
   ]
  },
  {
   "cell_type": "code",
   "execution_count": 14,
   "metadata": {
    "ExecuteTime": {
     "end_time": "2021-12-08T02:10:23.200482Z",
     "start_time": "2021-12-08T02:10:23.191568Z"
    }
   },
   "outputs": [],
   "source": [
    "model.add(tf.keras.layers.MaxPooling2D(2,2))"
   ]
  },
  {
   "cell_type": "code",
   "execution_count": 15,
   "metadata": {
    "ExecuteTime": {
     "end_time": "2021-12-08T02:10:24.768208Z",
     "start_time": "2021-12-08T02:10:24.751952Z"
    }
   },
   "outputs": [],
   "source": [
    "model.add(tf.keras.layers.Conv2D(64,(3,3),activation='relu'))"
   ]
  },
  {
   "cell_type": "code",
   "execution_count": 16,
   "metadata": {
    "ExecuteTime": {
     "end_time": "2021-12-08T02:10:26.483440Z",
     "start_time": "2021-12-08T02:10:26.475113Z"
    }
   },
   "outputs": [],
   "source": [
    "model.add(tf.keras.layers.MaxPooling2D(2,2))"
   ]
  },
  {
   "cell_type": "code",
   "execution_count": 17,
   "metadata": {
    "ExecuteTime": {
     "end_time": "2021-12-08T02:10:28.049955Z",
     "start_time": "2021-12-08T02:10:28.039990Z"
    }
   },
   "outputs": [],
   "source": [
    "model.add(tf.keras.layers.Flatten())"
   ]
  },
  {
   "cell_type": "code",
   "execution_count": 18,
   "metadata": {
    "ExecuteTime": {
     "end_time": "2021-12-08T02:11:14.099921Z",
     "start_time": "2021-12-08T02:11:14.077469Z"
    }
   },
   "outputs": [],
   "source": [
    "model.add(tf.keras.layers.Dense(128,activation='relu'))\n",
    "model.add(tf.keras.layers.Dense(10,activation='softmax'))"
   ]
  },
  {
   "cell_type": "code",
   "execution_count": 19,
   "metadata": {
    "ExecuteTime": {
     "end_time": "2021-12-08T02:11:59.105341Z",
     "start_time": "2021-12-08T02:11:59.091874Z"
    }
   },
   "outputs": [],
   "source": [
    "model.compile(optimizer='adam',loss=tf.losses.sparse_categorical_crossentropy, metrics=['accuracy'])"
   ]
  },
  {
   "cell_type": "code",
   "execution_count": 20,
   "metadata": {
    "ExecuteTime": {
     "end_time": "2021-12-08T02:12:07.001751Z",
     "start_time": "2021-12-08T02:12:06.995474Z"
    }
   },
   "outputs": [
    {
     "name": "stdout",
     "output_type": "stream",
     "text": [
      "Model: \"sequential_3\"\n",
      "_________________________________________________________________\n",
      " Layer (type)                Output Shape              Param #   \n",
      "=================================================================\n",
      " conv2d_3 (Conv2D)           (None, 26, 26, 32)        320       \n",
      "                                                                 \n",
      " max_pooling2d_1 (MaxPooling  (None, 13, 13, 32)       0         \n",
      " 2D)                                                             \n",
      "                                                                 \n",
      " conv2d_4 (Conv2D)           (None, 11, 11, 64)        18496     \n",
      "                                                                 \n",
      " max_pooling2d_2 (MaxPooling  (None, 5, 5, 64)         0         \n",
      " 2D)                                                             \n",
      "                                                                 \n",
      " flatten_1 (Flatten)         (None, 1600)              0         \n",
      "                                                                 \n",
      " dense (Dense)               (None, 128)               204928    \n",
      "                                                                 \n",
      " dense_1 (Dense)             (None, 10)                1290      \n",
      "                                                                 \n",
      "=================================================================\n",
      "Total params: 225,034\n",
      "Trainable params: 225,034\n",
      "Non-trainable params: 0\n",
      "_________________________________________________________________\n"
     ]
    }
   ],
   "source": [
    "model.summary()"
   ]
  },
  {
   "cell_type": "code",
   "execution_count": 24,
   "metadata": {
    "ExecuteTime": {
     "end_time": "2021-12-08T02:16:47.369914Z",
     "start_time": "2021-12-08T02:16:47.365798Z"
    }
   },
   "outputs": [],
   "source": [
    "tensorboard_callback = tf.keras.callbacks.TensorBoard(log_dir=logdir)"
   ]
  },
  {
   "cell_type": "code",
   "execution_count": 26,
   "metadata": {
    "ExecuteTime": {
     "end_time": "2021-12-08T02:22:17.023585Z",
     "start_time": "2021-12-08T02:17:19.181948Z"
    }
   },
   "outputs": [
    {
     "name": "stdout",
     "output_type": "stream",
     "text": [
      "Epoch 1/20\n",
      "1875/1875 [==============================] - 16s 8ms/step - loss: 0.4487 - accuracy: 0.8375\n",
      "Epoch 2/20\n",
      "1875/1875 [==============================] - 15s 8ms/step - loss: 0.3016 - accuracy: 0.8892\n",
      "Epoch 3/20\n",
      "1875/1875 [==============================] - 15s 8ms/step - loss: 0.2548 - accuracy: 0.9061\n",
      "Epoch 4/20\n",
      "1875/1875 [==============================] - 15s 8ms/step - loss: 0.2224 - accuracy: 0.9172\n",
      "Epoch 5/20\n",
      "1875/1875 [==============================] - 15s 8ms/step - loss: 0.1965 - accuracy: 0.9271\n",
      "Epoch 6/20\n",
      "1875/1875 [==============================] - 14s 8ms/step - loss: 0.1736 - accuracy: 0.9347\n",
      "Epoch 7/20\n",
      "1875/1875 [==============================] - 15s 8ms/step - loss: 0.1535 - accuracy: 0.9419\n",
      "Epoch 8/20\n",
      "1875/1875 [==============================] - 15s 8ms/step - loss: 0.1355 - accuracy: 0.9496\n",
      "Epoch 9/20\n",
      "1875/1875 [==============================] - 14s 8ms/step - loss: 0.1205 - accuracy: 0.9540\n",
      "Epoch 10/20\n",
      "1875/1875 [==============================] - 15s 8ms/step - loss: 0.1053 - accuracy: 0.9598\n",
      "Epoch 11/20\n",
      "1875/1875 [==============================] - 15s 8ms/step - loss: 0.0948 - accuracy: 0.9643\n",
      "Epoch 12/20\n",
      "1875/1875 [==============================] - 15s 8ms/step - loss: 0.0829 - accuracy: 0.9688\n",
      "Epoch 13/20\n",
      "1875/1875 [==============================] - 15s 8ms/step - loss: 0.0737 - accuracy: 0.9718\n",
      "Epoch 14/20\n",
      "1875/1875 [==============================] - 15s 8ms/step - loss: 0.0660 - accuracy: 0.9746\n",
      "Epoch 15/20\n",
      "1875/1875 [==============================] - 15s 8ms/step - loss: 0.0601 - accuracy: 0.9772\n",
      "Epoch 16/20\n",
      "1875/1875 [==============================] - 15s 8ms/step - loss: 0.0509 - accuracy: 0.9807\n",
      "Epoch 17/20\n",
      "1875/1875 [==============================] - 15s 8ms/step - loss: 0.0484 - accuracy: 0.9814\n",
      "Epoch 18/20\n",
      "1875/1875 [==============================] - 15s 8ms/step - loss: 0.0457 - accuracy: 0.9824\n",
      "Epoch 19/20\n",
      "1875/1875 [==============================] - 15s 8ms/step - loss: 0.0428 - accuracy: 0.9842\n",
      "Epoch 20/20\n",
      "1875/1875 [==============================] - 15s 8ms/step - loss: 0.0392 - accuracy: 0.9857\n"
     ]
    },
    {
     "data": {
      "text/plain": [
       "<keras.callbacks.History at 0x7f51b0047d50>"
      ]
     },
     "execution_count": 26,
     "metadata": {},
     "output_type": "execute_result"
    }
   ],
   "source": [
    "model.fit(training_images, training_labels, epochs=20, callbacks=[tensorboard_callback])"
   ]
  },
  {
   "cell_type": "code",
   "execution_count": 27,
   "metadata": {
    "ExecuteTime": {
     "end_time": "2021-12-08T02:30:23.661745Z",
     "start_time": "2021-12-08T02:30:08.972990Z"
    }
   },
   "outputs": [
    {
     "data": {
      "text/html": [
       "\n",
       "      <iframe id=\"tensorboard-frame-ecfc670ecf44fcc6\" width=\"100%\" height=\"800\" frameborder=\"0\">\n",
       "      </iframe>\n",
       "      <script>\n",
       "        (function() {\n",
       "          const frame = document.getElementById(\"tensorboard-frame-ecfc670ecf44fcc6\");\n",
       "          const url = new URL(\"/\", window.location);\n",
       "          const port = 6123;\n",
       "          if (port) {\n",
       "            url.port = port;\n",
       "          }\n",
       "          frame.src = url;\n",
       "        })();\n",
       "      </script>\n",
       "    "
      ],
      "text/plain": [
       "<IPython.core.display.HTML object>"
      ]
     },
     "metadata": {},
     "output_type": "display_data"
    }
   ],
   "source": [
    "%tensorboard --logdir logs --port=6123 --bind_all"
   ]
  },
  {
   "cell_type": "code",
   "execution_count": 28,
   "metadata": {
    "ExecuteTime": {
     "end_time": "2021-12-08T02:47:16.326283Z",
     "start_time": "2021-12-08T02:47:16.169834Z"
    }
   },
   "outputs": [
    {
     "data": {
      "text/plain": [
       "[]"
      ]
     },
     "execution_count": 28,
     "metadata": {},
     "output_type": "execute_result"
    }
   ],
   "source": [
    "tf.config.list_physical_devices('GPU')"
   ]
  },
  {
   "cell_type": "code",
   "execution_count": 29,
   "metadata": {
    "ExecuteTime": {
     "end_time": "2021-12-09T01:11:05.928542Z",
     "start_time": "2021-12-09T01:11:05.915722Z"
    }
   },
   "outputs": [
    {
     "name": "stdout",
     "output_type": "stream",
     "text": [
      "[9 2 1 1 6 1 4 6 5 7 4 5 7 3 4 1 2 4 8 0 2 5 7 9 1 4 6 0 9 3 8 8 3 3 8 0 7\n",
      " 5 7 9 6 1 3 7 6 7 2 1 2 2 4 4 5 8 2 2 8 4 8 0 7 7 8 5 1 1 2 3 9 8 7 0 2 6\n",
      " 2 3 1 2 8 4 1 8 5 9 5 0 3 2 0 6 5 3 6 7 1 8 0 1 4 2]\n"
     ]
    }
   ],
   "source": [
    "print(test_labels[:100])"
   ]
  },
  {
   "cell_type": "code",
   "execution_count": null,
   "metadata": {
    "ExecuteTime": {
     "start_time": "2021-12-09T01:11:36.772Z"
    }
   },
   "outputs": [],
   "source": [
    "f,axarr = plt.subplots(3,4,figsize=(10,10))"
   ]
  },
  {
   "cell_type": "code",
   "execution_count": null,
   "metadata": {
    "ExecuteTime": {
     "start_time": "2021-12-09T01:11:58.087Z"
    }
   },
   "outputs": [],
   "source": [
    "FIRST_IMAGE = 0\n",
    "SECOND_IMAGE = 1\n",
    "THIRD_IMAGE = 2"
   ]
  },
  {
   "cell_type": "code",
   "execution_count": null,
   "metadata": {
    "ExecuteTime": {
     "start_time": "2021-12-09T01:12:38.252Z"
    }
   },
   "outputs": [],
   "source": [
    "from tensorflow.keras import modes"
   ]
  },
  {
   "cell_type": "code",
   "execution_count": null,
   "metadata": {},
   "outputs": [],
   "source": [
    "layer_output"
   ]
  },
  {
   "cell_type": "code",
   "execution_count": null,
   "metadata": {},
   "outputs": [],
   "source": []
  },
  {
   "cell_type": "code",
   "execution_count": null,
   "metadata": {},
   "outputs": [],
   "source": []
  },
  {
   "cell_type": "code",
   "execution_count": null,
   "metadata": {},
   "outputs": [],
   "source": []
  },
  {
   "cell_type": "code",
   "execution_count": null,
   "metadata": {},
   "outputs": [],
   "source": []
  },
  {
   "cell_type": "code",
   "execution_count": null,
   "metadata": {},
   "outputs": [],
   "source": []
  },
  {
   "cell_type": "code",
   "execution_count": null,
   "metadata": {},
   "outputs": [],
   "source": []
  },
  {
   "cell_type": "code",
   "execution_count": null,
   "metadata": {},
   "outputs": [],
   "source": []
  },
  {
   "cell_type": "code",
   "execution_count": null,
   "metadata": {},
   "outputs": [],
   "source": []
  },
  {
   "cell_type": "code",
   "execution_count": null,
   "metadata": {},
   "outputs": [],
   "source": []
  },
  {
   "cell_type": "code",
   "execution_count": null,
   "metadata": {},
   "outputs": [],
   "source": []
  }
 ],
 "metadata": {
  "kernelspec": {
   "display_name": "Python 3",
   "language": "python",
   "name": "python3"
  },
  "language_info": {
   "codemirror_mode": {
    "name": "ipython",
    "version": 3
   },
   "file_extension": ".py",
   "mimetype": "text/x-python",
   "name": "python",
   "nbconvert_exporter": "python",
   "pygments_lexer": "ipython3",
   "version": "3.7.6"
  },
  "toc": {
   "base_numbering": 1,
   "nav_menu": {},
   "number_sections": true,
   "sideBar": true,
   "skip_h1_title": false,
   "title_cell": "Table of Contents",
   "title_sidebar": "Contents",
   "toc_cell": false,
   "toc_position": {},
   "toc_section_display": true,
   "toc_window_display": false
  },
  "varInspector": {
   "cols": {
    "lenName": 16,
    "lenType": 16,
    "lenVar": 40
   },
   "kernels_config": {
    "python": {
     "delete_cmd_postfix": "",
     "delete_cmd_prefix": "del ",
     "library": "var_list.py",
     "varRefreshCmd": "print(var_dic_list())"
    },
    "r": {
     "delete_cmd_postfix": ") ",
     "delete_cmd_prefix": "rm(",
     "library": "var_list.r",
     "varRefreshCmd": "cat(var_dic_list()) "
    }
   },
   "types_to_exclude": [
    "module",
    "function",
    "builtin_function_or_method",
    "instance",
    "_Feature"
   ],
   "window_display": false
  }
 },
 "nbformat": 4,
 "nbformat_minor": 4
}
