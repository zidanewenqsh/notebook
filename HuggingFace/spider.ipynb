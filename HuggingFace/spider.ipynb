{
 "cells": [
  {
   "cell_type": "code",
   "execution_count": 9,
   "id": "f9316980",
   "metadata": {},
   "outputs": [
    {
     "name": "stdout",
     "output_type": "stream",
     "text": [
      "https://huggingface.co//decapoda-research/llama-13b-hf/blob/main/.gitattributes\n",
      "https://huggingface.co//decapoda-research/llama-13b-hf/blob/main/LICENSE\n",
      "https://huggingface.co//decapoda-research/llama-13b-hf/blob/main/README.md\n",
      "https://huggingface.co//decapoda-research/llama-13b-hf/blob/main/config.json\n",
      "https://huggingface.co//decapoda-research/llama-13b-hf/blob/main/generation_config.json\n",
      "https://huggingface.co//decapoda-research/llama-13b-hf/blob/main/pytorch_model-00000-of-00041.bin\n",
      "https://huggingface.co//decapoda-research/llama-13b-hf/blob/main/pytorch_model-00001-of-00041.bin\n",
      "https://huggingface.co//decapoda-research/llama-13b-hf/blob/main/pytorch_model-00002-of-00041.bin\n",
      "https://huggingface.co//decapoda-research/llama-13b-hf/blob/main/pytorch_model-00003-of-00041.bin\n",
      "https://huggingface.co//decapoda-research/llama-13b-hf/blob/main/pytorch_model-00004-of-00041.bin\n",
      "https://huggingface.co//decapoda-research/llama-13b-hf/blob/main/pytorch_model-00005-of-00041.bin\n",
      "https://huggingface.co//decapoda-research/llama-13b-hf/blob/main/pytorch_model-00006-of-00041.bin\n",
      "https://huggingface.co//decapoda-research/llama-13b-hf/blob/main/pytorch_model-00007-of-00041.bin\n",
      "https://huggingface.co//decapoda-research/llama-13b-hf/blob/main/pytorch_model-00008-of-00041.bin\n",
      "https://huggingface.co//decapoda-research/llama-13b-hf/blob/main/pytorch_model-00009-of-00041.bin\n",
      "https://huggingface.co//decapoda-research/llama-13b-hf/blob/main/pytorch_model-00010-of-00041.bin\n",
      "https://huggingface.co//decapoda-research/llama-13b-hf/blob/main/pytorch_model-00011-of-00041.bin\n",
      "https://huggingface.co//decapoda-research/llama-13b-hf/blob/main/pytorch_model-00012-of-00041.bin\n",
      "https://huggingface.co//decapoda-research/llama-13b-hf/blob/main/pytorch_model-00013-of-00041.bin\n",
      "https://huggingface.co//decapoda-research/llama-13b-hf/blob/main/pytorch_model-00014-of-00041.bin\n",
      "https://huggingface.co//decapoda-research/llama-13b-hf/blob/main/pytorch_model-00015-of-00041.bin\n",
      "https://huggingface.co//decapoda-research/llama-13b-hf/blob/main/pytorch_model-00016-of-00041.bin\n",
      "https://huggingface.co//decapoda-research/llama-13b-hf/blob/main/pytorch_model-00017-of-00041.bin\n",
      "https://huggingface.co//decapoda-research/llama-13b-hf/blob/main/pytorch_model-00018-of-00041.bin\n",
      "https://huggingface.co//decapoda-research/llama-13b-hf/blob/main/pytorch_model-00019-of-00041.bin\n",
      "https://huggingface.co//decapoda-research/llama-13b-hf/blob/main/pytorch_model-00020-of-00041.bin\n",
      "https://huggingface.co//decapoda-research/llama-13b-hf/blob/main/pytorch_model-00021-of-00041.bin\n",
      "https://huggingface.co//decapoda-research/llama-13b-hf/blob/main/pytorch_model-00022-of-00041.bin\n",
      "https://huggingface.co//decapoda-research/llama-13b-hf/blob/main/pytorch_model-00023-of-00041.bin\n",
      "https://huggingface.co//decapoda-research/llama-13b-hf/blob/main/pytorch_model-00024-of-00041.bin\n",
      "https://huggingface.co//decapoda-research/llama-13b-hf/blob/main/pytorch_model-00025-of-00041.bin\n",
      "https://huggingface.co//decapoda-research/llama-13b-hf/blob/main/pytorch_model-00026-of-00041.bin\n",
      "https://huggingface.co//decapoda-research/llama-13b-hf/blob/main/pytorch_model-00027-of-00041.bin\n",
      "https://huggingface.co//decapoda-research/llama-13b-hf/blob/main/pytorch_model-00028-of-00041.bin\n",
      "https://huggingface.co//decapoda-research/llama-13b-hf/blob/main/pytorch_model-00029-of-00041.bin\n",
      "https://huggingface.co//decapoda-research/llama-13b-hf/blob/main/pytorch_model-00030-of-00041.bin\n",
      "https://huggingface.co//decapoda-research/llama-13b-hf/blob/main/pytorch_model-00031-of-00041.bin\n",
      "https://huggingface.co//decapoda-research/llama-13b-hf/blob/main/pytorch_model-00032-of-00041.bin\n",
      "https://huggingface.co//decapoda-research/llama-13b-hf/blob/main/pytorch_model-00033-of-00041.bin\n",
      "https://huggingface.co//decapoda-research/llama-13b-hf/blob/main/pytorch_model-00034-of-00041.bin\n",
      "https://huggingface.co//decapoda-research/llama-13b-hf/blob/main/pytorch_model-00035-of-00041.bin\n",
      "https://huggingface.co//decapoda-research/llama-13b-hf/blob/main/pytorch_model-00036-of-00041.bin\n",
      "https://huggingface.co//decapoda-research/llama-13b-hf/blob/main/pytorch_model-00037-of-00041.bin\n",
      "https://huggingface.co//decapoda-research/llama-13b-hf/blob/main/pytorch_model-00038-of-00041.bin\n",
      "https://huggingface.co//decapoda-research/llama-13b-hf/blob/main/pytorch_model-00039-of-00041.bin\n",
      "https://huggingface.co//decapoda-research/llama-13b-hf/blob/main/pytorch_model-00040-of-00041.bin\n",
      "https://huggingface.co//decapoda-research/llama-13b-hf/blob/main/pytorch_model-00041-of-00041.bin\n",
      "https://huggingface.co//decapoda-research/llama-13b-hf/blob/main/pytorch_model.bin.index.json\n",
      "https://huggingface.co//decapoda-research/llama-13b-hf/blob/main/special_tokens_map.json\n",
      "https://huggingface.co//decapoda-research/llama-13b-hf/blob/main/tokenizer.model\n"
     ]
    }
   ],
   "source": [
    "import requests\n",
    "from lxml import etree\n",
    "\n",
    "url = 'https://huggingface.co/decapoda-research/llama-13b-hf/tree/main'\n",
    "response = requests.get(url)\n",
    "html = response.text\n",
    "\n",
    "# 转换成xpath对象\n",
    "selector = etree.HTML(html)\n",
    "\n",
    "# 使用xpath获取所有链接\n",
    "# links = selector.xpath('//li/div/a/span')\n",
    "links = selector.xpath('//li/div/a/@href')\n",
    "\n",
    "# print(links)\n",
    "for link in links:\n",
    "    print(f\"https://huggingface.co/{link}\")"
   ]
  }
 ],
 "metadata": {
  "kernelspec": {
   "display_name": "Python 3 (ipykernel)",
   "language": "python",
   "name": "python3"
  },
  "language_info": {
   "codemirror_mode": {
    "name": "ipython",
    "version": 3
   },
   "file_extension": ".py",
   "mimetype": "text/x-python",
   "name": "python",
   "nbconvert_exporter": "python",
   "pygments_lexer": "ipython3",
   "version": "3.9.12"
  },
  "toc": {
   "base_numbering": 1,
   "nav_menu": {},
   "number_sections": true,
   "sideBar": true,
   "skip_h1_title": false,
   "title_cell": "Table of Contents",
   "title_sidebar": "Contents",
   "toc_cell": false,
   "toc_position": {},
   "toc_section_display": true,
   "toc_window_display": false
  },
  "varInspector": {
   "cols": {
    "lenName": 16,
    "lenType": 16,
    "lenVar": 40
   },
   "kernels_config": {
    "python": {
     "delete_cmd_postfix": "",
     "delete_cmd_prefix": "del ",
     "library": "var_list.py",
     "varRefreshCmd": "print(var_dic_list())"
    },
    "r": {
     "delete_cmd_postfix": ") ",
     "delete_cmd_prefix": "rm(",
     "library": "var_list.r",
     "varRefreshCmd": "cat(var_dic_list()) "
    }
   },
   "types_to_exclude": [
    "module",
    "function",
    "builtin_function_or_method",
    "instance",
    "_Feature"
   ],
   "window_display": false
  }
 },
 "nbformat": 4,
 "nbformat_minor": 5
}
