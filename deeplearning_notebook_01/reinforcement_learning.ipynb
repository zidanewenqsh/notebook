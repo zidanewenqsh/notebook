{
 "cells": [
  {
   "cell_type": "code",
   "execution_count": 1,
   "metadata": {},
   "outputs": [],
   "source": [
    "from IPython.core.interactiveshell import InteractiveShell \n",
    "InteractiveShell.ast_node_interactivity = 'all' #默认为'last'\n",
    "\n",
    "import numpy as np\n",
    "import pandas as pd\n",
    "import os\n",
    "import sympy \n",
    "# import numpy.linalg as LA\n",
    "from sympy import *\n",
    "from matplotlib import pyplot as plt\n",
    "%matplotlib inline\n",
    "plt.rcParams['font.sans-serif']=['SimHei'] #指定默认字体 SimHei为黑体\n",
    "plt.rcParams['axes.unicode_minus']=False #用来正常显示负号\n",
    "sympy.init_printing(use_latex=True)\n",
    "# x, y, z = symbols('x y z',real=True)\n",
    "\n",
    "import torch\n",
    "import scipy.linalg as la\n",
    "import numpy.linalg as LA\n",
    "\n",
    "np.set_printoptions(precision=2,suppress=True)\n",
    "\n",
    "#Note that http urls will not be displayed. Only https are allowed inside the Iframe\n",
    "from IPython.display import IFrame"
   ]
  },
  {
   "cell_type": "markdown",
   "metadata": {},
   "source": [
    "# 强化学习\n",
    "\n",
    "## 分类  \n",
    "* 基于有模型\n",
    "* 基于无模型  \n",
    "\n",
    "## 因素\n",
    "* 环境environment\n",
    "* 观察observe\n",
    "* 状态state\n",
    "* 奖励reward\n",
    "* 代理agent\n",
    "\n",
    "## Q函数\n",
    "* V价值$\\pi(x)=argmax_a Q(s,a)$\n",
    "* Q价值$Q(s,a)=r+\\gamma max_{a\\prime} Q(s\\prime,a\\prime)$\n",
    "* 动作优势Q-V\n",
    "\n",
    "### 马尔可夫随机过程\n",
    "\n",
    "### 马尔可夫决策过程\n",
    "\n",
    "## Q网络（价值网络）\n",
    "\n",
    "### Q学习的问题\n",
    "\n",
    "* 不能解决状态无限的问题\n",
    "* 不能解决动作无限的问题\n",
    "\n",
    "## 策略梯度网络\n",
    "\n",
    "## AC模型\n",
    "\n",
    "## A3C模型\n"
   ]
  },
  {
   "cell_type": "markdown",
   "metadata": {},
   "source": [
    "## api\n"
   ]
  },
  {
   "cell_type": "code",
   "execution_count": null,
   "metadata": {},
   "outputs": [],
   "source": []
  },
  {
   "cell_type": "code",
   "execution_count": 7,
   "metadata": {},
   "outputs": [
    {
     "data": {
      "text/plain": [
       "array([[ 0,  1,  2,  3],\n",
       "       [ 4,  5,  6,  7],\n",
       "       [ 8,  9, 10, 11],\n",
       "       [12, 13, 14, 15]])"
      ]
     },
     "execution_count": 7,
     "metadata": {},
     "output_type": "execute_result"
    },
    {
     "data": {
      "text/plain": [
       "<zip at 0x28304576fc8>"
      ]
     },
     "execution_count": 7,
     "metadata": {},
     "output_type": "execute_result"
    },
    {
     "data": {
      "text/plain": [
       "(0, 4, 8, 12)"
      ]
     },
     "execution_count": 7,
     "metadata": {},
     "output_type": "execute_result"
    },
    {
     "data": {
      "text/plain": [
       "(1, 5, 9, 13)"
      ]
     },
     "execution_count": 7,
     "metadata": {},
     "output_type": "execute_result"
    },
    {
     "data": {
      "text/plain": [
       "(2, 6, 10, 14)"
      ]
     },
     "execution_count": 7,
     "metadata": {},
     "output_type": "execute_result"
    },
    {
     "data": {
      "text/plain": [
       "(3, 7, 11, 15)"
      ]
     },
     "execution_count": 7,
     "metadata": {},
     "output_type": "execute_result"
    }
   ],
   "source": [
    "a = np.arange(16).reshape(4, 4)\n",
    "a\n",
    "x = zip(*a)\n",
    "x\n",
    "for x1 in x:\n",
    "    x1"
   ]
  },
  {
   "cell_type": "code",
   "execution_count": 17,
   "metadata": {},
   "outputs": [
    {
     "data": {
      "text/plain": [
       "array([ 0.59,  0.25, -1.02, -0.49,  1.68])"
      ]
     },
     "execution_count": 17,
     "metadata": {},
     "output_type": "execute_result"
    }
   ],
   "source": [
    "np.random.randn(5)"
   ]
  },
  {
   "cell_type": "code",
   "execution_count": 19,
   "metadata": {},
   "outputs": [],
   "source": [
    "import torchvision"
   ]
  },
  {
   "cell_type": "code",
   "execution_count": 31,
   "metadata": {},
   "outputs": [
    {
     "data": {
      "text/plain": [
       "array([[1, 2],\n",
       "       [3, 4]])"
      ]
     },
     "execution_count": 31,
     "metadata": {},
     "output_type": "execute_result"
    },
    {
     "data": {
      "text/plain": [
       "array([[2, 4],\n",
       "       [1, 3]])"
      ]
     },
     "execution_count": 31,
     "metadata": {},
     "output_type": "execute_result"
    },
    {
     "data": {
      "text/plain": [
       "array([[4, 3],\n",
       "       [2, 1]])"
      ]
     },
     "execution_count": 31,
     "metadata": {},
     "output_type": "execute_result"
    },
    {
     "data": {
      "text/plain": [
       "array([[3, 1],\n",
       "       [4, 2]])"
      ]
     },
     "execution_count": 31,
     "metadata": {},
     "output_type": "execute_result"
    },
    {
     "data": {
      "text/plain": [
       "array([[[0, 1],\n",
       "        [2, 3]],\n",
       "\n",
       "       [[4, 5],\n",
       "        [6, 7]]])"
      ]
     },
     "execution_count": 31,
     "metadata": {},
     "output_type": "execute_result"
    },
    {
     "data": {
      "text/plain": [
       "array([[[1, 3],\n",
       "        [0, 2]],\n",
       "\n",
       "       [[5, 7],\n",
       "        [4, 6]]])"
      ]
     },
     "execution_count": 31,
     "metadata": {},
     "output_type": "execute_result"
    }
   ],
   "source": [
    "m = np.array([[1,2],[3,4]], int)\n",
    "m\n",
    "# array([[1, 2],\n",
    "#    [3, 4]])\n",
    "np.rot90(m)\n",
    "# array([[2, 4],\n",
    "#    [1, 3]])\n",
    "np.rot90(m, 2)\n",
    "# array([[4, 3],\n",
    "#    [2, 1]])\n",
    "np.rot90(m, -1)\n",
    "m = np.arange(8).reshape((2,2,2))\n",
    "m\n",
    "np.rot90(m, 1, (1,2))\n",
    "# array([[[1, 3],\n",
    "# [0, 2]],\n",
    "#    [[5, 7],\n",
    "# [4, 6]]])"
   ]
  },
  {
   "cell_type": "code",
   "execution_count": null,
   "metadata": {},
   "outputs": [],
   "source": []
  },
  {
   "cell_type": "code",
   "execution_count": null,
   "metadata": {},
   "outputs": [],
   "source": []
  },
  {
   "cell_type": "code",
   "execution_count": 30,
   "metadata": {},
   "outputs": [
    {
     "data": {
      "text/plain": [
       "array([[[0, 1],\n",
       "        [2, 3]],\n",
       "\n",
       "       [[4, 5],\n",
       "        [6, 7]]])"
      ]
     },
     "execution_count": 30,
     "metadata": {},
     "output_type": "execute_result"
    },
    {
     "data": {
      "text/plain": [
       "array([[[2, 3],\n",
       "        [6, 7]],\n",
       "\n",
       "       [[0, 1],\n",
       "        [4, 5]]])"
      ]
     },
     "execution_count": 30,
     "metadata": {},
     "output_type": "execute_result"
    },
    {
     "data": {
      "text/plain": [
       "array([[[1, 3],\n",
       "        [0, 2]],\n",
       "\n",
       "       [[5, 7],\n",
       "        [4, 6]]])"
      ]
     },
     "execution_count": 30,
     "metadata": {},
     "output_type": "execute_result"
    }
   ],
   "source": [
    "# Rotate an array by 90 degrees in the plane specified by axes.\n",
    "# Rotation direction is from the first towards the second axis.\n",
    "m\n",
    "np.rot90(m, 1, (0,1))\n",
    "np.rot90(m, 1, (1,2))"
   ]
  },
  {
   "cell_type": "code",
   "execution_count": 20,
   "metadata": {
    "scrolled": true
   },
   "outputs": [
    {
     "name": "stdout",
     "output_type": "stream",
     "text": [
      "Help on function rot90 in module numpy:\n",
      "\n",
      "rot90(m, k=1, axes=(0, 1))\n",
      "    Rotate an array by 90 degrees in the plane specified by axes.\n",
      "    \n",
      "    Rotation direction is from the first towards the second axis.\n",
      "    \n",
      "    Parameters\n",
      "    ----------\n",
      "    m : array_like\n",
      "        Array of two or more dimensions.\n",
      "    k : integer\n",
      "        Number of times the array is rotated by 90 degrees.\n",
      "    axes: (2,) array_like\n",
      "        The array is rotated in the plane defined by the axes.\n",
      "        Axes must be different.\n",
      "    \n",
      "        .. versionadded:: 1.12.0\n",
      "    \n",
      "    Returns\n",
      "    -------\n",
      "    y : ndarray\n",
      "        A rotated view of `m`.\n",
      "    \n",
      "    See Also\n",
      "    --------\n",
      "    flip : Reverse the order of elements in an array along the given axis.\n",
      "    fliplr : Flip an array horizontally.\n",
      "    flipud : Flip an array vertically.\n",
      "    \n",
      "    Notes\n",
      "    -----\n",
      "    rot90(m, k=1, axes=(1,0)) is the reverse of rot90(m, k=1, axes=(0,1))\n",
      "    rot90(m, k=1, axes=(1,0)) is equivalent to rot90(m, k=-1, axes=(0,1))\n",
      "    \n",
      "    Examples\n",
      "    --------\n",
      "    >>> m = np.array([[1,2],[3,4]], int)\n",
      "    >>> m\n",
      "    array([[1, 2],\n",
      "           [3, 4]])\n",
      "    >>> np.rot90(m)\n",
      "    array([[2, 4],\n",
      "           [1, 3]])\n",
      "    >>> np.rot90(m, 2)\n",
      "    array([[4, 3],\n",
      "           [2, 1]])\n",
      "    >>> m = np.arange(8).reshape((2,2,2))\n",
      "    >>> np.rot90(m, 1, (1,2))\n",
      "    array([[[1, 3],\n",
      "            [0, 2]],\n",
      "           [[5, 7],\n",
      "            [4, 6]]])\n",
      "\n"
     ]
    }
   ],
   "source": [
    "help(np.rot90)"
   ]
  },
  {
   "cell_type": "code",
   "execution_count": 43,
   "metadata": {},
   "outputs": [
    {
     "data": {
      "text/plain": [
       "array([[1, 2],\n",
       "       [3, 4]])"
      ]
     },
     "execution_count": 43,
     "metadata": {},
     "output_type": "execute_result"
    },
    {
     "data": {
      "text/plain": [
       "array([[2, 4],\n",
       "       [1, 3]])"
      ]
     },
     "execution_count": 43,
     "metadata": {},
     "output_type": "execute_result"
    },
    {
     "data": {
      "text/plain": [
       "array([[4, 2],\n",
       "       [3, 1]])"
      ]
     },
     "execution_count": 43,
     "metadata": {},
     "output_type": "execute_result"
    },
    {
     "data": {
      "text/plain": [
       "array([[4, 3],\n",
       "       [2, 1]])"
      ]
     },
     "execution_count": 43,
     "metadata": {},
     "output_type": "execute_result"
    },
    {
     "data": {
      "text/plain": [
       "array([[3, 4],\n",
       "       [1, 2]])"
      ]
     },
     "execution_count": 43,
     "metadata": {},
     "output_type": "execute_result"
    },
    {
     "data": {
      "text/plain": [
       "array([[3, 1],\n",
       "       [4, 2]])"
      ]
     },
     "execution_count": 43,
     "metadata": {},
     "output_type": "execute_result"
    },
    {
     "data": {
      "text/plain": [
       "array([[1, 3],\n",
       "       [2, 4]])"
      ]
     },
     "execution_count": 43,
     "metadata": {},
     "output_type": "execute_result"
    }
   ],
   "source": [
    "a = np.array([[1,2],[3,4]], int)\n",
    "a\n",
    "for i in range(1,4):\n",
    "    b = np.rot90(a,k=i)\n",
    "    b\n",
    "    c = np.fliplr(b)\n",
    "    c\n",
    "    "
   ]
  },
  {
   "cell_type": "code",
   "execution_count": 38,
   "metadata": {},
   "outputs": [
    {
     "name": "stdout",
     "output_type": "stream",
     "text": [
      "Help on function fliplr in module numpy:\n",
      "\n",
      "fliplr(m)\n",
      "    Flip array in the left/right direction.\n",
      "    \n",
      "    Flip the entries in each row in the left/right direction.\n",
      "    Columns are preserved, but appear in a different order than before.\n",
      "    \n",
      "    Parameters\n",
      "    ----------\n",
      "    m : array_like\n",
      "        Input array, must be at least 2-D.\n",
      "    \n",
      "    Returns\n",
      "    -------\n",
      "    f : ndarray\n",
      "        A view of `m` with the columns reversed.  Since a view\n",
      "        is returned, this operation is :math:`\\mathcal O(1)`.\n",
      "    \n",
      "    See Also\n",
      "    --------\n",
      "    flipud : Flip array in the up/down direction.\n",
      "    rot90 : Rotate array counterclockwise.\n",
      "    \n",
      "    Notes\n",
      "    -----\n",
      "    Equivalent to m[:,::-1]. Requires the array to be at least 2-D.\n",
      "    \n",
      "    Examples\n",
      "    --------\n",
      "    >>> A = np.diag([1.,2.,3.])\n",
      "    >>> A\n",
      "    array([[1.,  0.,  0.],\n",
      "           [0.,  2.,  0.],\n",
      "           [0.,  0.,  3.]])\n",
      "    >>> np.fliplr(A)\n",
      "    array([[0.,  0.,  1.],\n",
      "           [0.,  2.,  0.],\n",
      "           [3.,  0.,  0.]])\n",
      "    \n",
      "    >>> A = np.random.randn(2,3,5)\n",
      "    >>> np.all(np.fliplr(A) == A[:,::-1,...])\n",
      "    True\n",
      "\n"
     ]
    }
   ],
   "source": [
    "help(np.fliplr)"
   ]
  },
  {
   "cell_type": "code",
   "execution_count": 37,
   "metadata": {},
   "outputs": [
    {
     "data": {
      "text/plain": [
       "array([[0.0119, 0.0119, 0.0119, 0.0138, 0.0119, 0.    , 0.0138, 0.0119,\n",
       "        0.0119],\n",
       "       [0.0119, 0.0119, 0.0119, 0.0138, 0.0119, 0.0138, 0.0138, 0.0119,\n",
       "        0.0119],\n",
       "       [0.0119, 0.0119, 0.0138, 0.0138, 0.0119, 0.0119, 0.0119, 0.0138,\n",
       "        0.0119],\n",
       "       [0.0119, 0.0119, 0.0119, 0.0119, 0.0119, 0.0119, 0.0119, 0.0119,\n",
       "        0.0119],\n",
       "       [0.0119, 0.0119, 0.0119, 0.0119, 0.0138, 0.0138, 0.0119, 0.0138,\n",
       "        0.0119],\n",
       "       [0.0138, 0.0119, 0.0138, 0.0138, 0.0119, 0.0119, 0.0138, 0.0119,\n",
       "        0.0138],\n",
       "       [0.0138, 0.0138, 0.0119, 0.0138, 0.0119, 0.0119, 0.0119, 0.0119,\n",
       "        0.0138],\n",
       "       [0.0119, 0.0138, 0.0119, 0.0119, 0.0138, 0.0119, 0.0138, 0.0138,\n",
       "        0.0119],\n",
       "       [0.0119, 0.0138, 0.0119, 0.0119, 0.0119, 0.0138, 0.0119, 0.0119,\n",
       "        0.0119]])"
      ]
     },
     "execution_count": 37,
     "metadata": {},
     "output_type": "execute_result"
    }
   ],
   "source": [
    "np.set_printoptions(precision=4,suppress=True)\n",
    "a = np.array([\n",
    "    0.01185771, 0.01185771, 0.01185771, 0.01383399, 0.01185771, 0., 0.01383399,\n",
    "    0.01185771, 0.01185771, 0.01185771, 0.01185771, 0.01185771, 0.01383399,\n",
    "    0.01185771, 0.01383399, 0.01383399, 0.01185771, 0.01185771, 0.01185771,\n",
    "    0.01185771, 0.01383399, 0.01383399, 0.01185771, 0.01185771, 0.01185771,\n",
    "    0.01383399, 0.01185771, 0.01185771, 0.01185771, 0.01185771, 0.01185771,\n",
    "    0.01185771, 0.01185771, 0.01185771, 0.01185771, 0.01185771, 0.01185771,\n",
    "    0.01185771, 0.01185771, 0.01185771, 0.01383399, 0.01383399, 0.01185771,\n",
    "    0.01383399, 0.01185771, 0.01383399, 0.01185771, 0.01383399, 0.01383399,\n",
    "    0.01185771, 0.01185771, 0.01383399, 0.01185771, 0.01383399, 0.01383399,\n",
    "    0.01383399, 0.01185771, 0.01383399, 0.01185771, 0.01185771, 0.01185771,\n",
    "    0.01185771, 0.01383399, 0.01185771, 0.01383399, 0.01185771, 0.01185771,\n",
    "    0.01383399, 0.01185771, 0.01383399, 0.01383399, 0.01185771, 0.01185771,\n",
    "    0.01383399, 0.01185771, 0.01185771, 0.01185771, 0.01383399, 0.01185771,\n",
    "    0.01185771, 0.01185771\n",
    "]).reshape(9, 9)\n",
    "a"
   ]
  },
  {
   "cell_type": "code",
   "execution_count": 3,
   "metadata": {},
   "outputs": [],
   "source": [
    "import copy"
   ]
  },
  {
   "cell_type": "code",
   "execution_count": 4,
   "metadata": {
    "scrolled": true
   },
   "outputs": [
    {
     "name": "stdout",
     "output_type": "stream",
     "text": [
      "Help on function deepcopy in module copy:\n",
      "\n",
      "deepcopy(x, memo=None, _nil=[])\n",
      "    Deep copy operation on arbitrary Python objects.\n",
      "    \n",
      "    See the module's __doc__ string for more info.\n",
      "\n"
     ]
    }
   ],
   "source": [
    "help(copy.deepcopy)"
   ]
  },
  {
   "cell_type": "markdown",
   "metadata": {},
   "source": [
    "# end "
   ]
  }
 ],
 "metadata": {
  "kernelspec": {
   "display_name": "Python 3",
   "language": "python",
   "name": "python3"
  },
  "language_info": {
   "codemirror_mode": {
    "name": "ipython",
    "version": 3
   },
   "file_extension": ".py",
   "mimetype": "text/x-python",
   "name": "python",
   "nbconvert_exporter": "python",
   "pygments_lexer": "ipython3",
   "version": "3.7.6"
  },
  "toc": {
   "base_numbering": 1,
   "nav_menu": {},
   "number_sections": true,
   "sideBar": true,
   "skip_h1_title": false,
   "title_cell": "Table of Contents",
   "title_sidebar": "Contents",
   "toc_cell": false,
   "toc_position": {},
   "toc_section_display": true,
   "toc_window_display": true
  }
 },
 "nbformat": 4,
 "nbformat_minor": 4
}
