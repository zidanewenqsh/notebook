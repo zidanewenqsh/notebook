{
 "cells": [
  {
   "cell_type": "code",
   "execution_count": 1,
   "metadata": {},
   "outputs": [],
   "source": [
    "import numpy as np\n",
    "import os\n",
    "import sys\n",
    "import math\n",
    "import torch\n",
    "import time\n",
    "import re\n",
    "import random\n",
    "import cv2\n",
    "from matplotlib import pyplot as plt\n",
    "from torchvision import transforms\n",
    "from icecream import ic\n",
    "from IPython.core.interactiveshell import InteractiveShell\n",
    "InteractiveShell.ast_node_interactivity = \"all\""
   ]
  },
  {
   "cell_type": "markdown",
   "metadata": {},
   "source": [
    "# 1\n"
   ]
  },
  {
   "cell_type": "markdown",
   "metadata": {},
   "source": [
    "## 1"
   ]
  },
  {
   "cell_type": "code",
   "execution_count": 16,
   "metadata": {},
   "outputs": [],
   "source": [
    "from collections import defaultdict\n",
    "from functools import lru_cache"
   ]
  },
  {
   "cell_type": "code",
   "execution_count": 3,
   "metadata": {},
   "outputs": [
    {
     "data": {
      "text/plain": [
       "11"
      ]
     },
     "execution_count": 3,
     "metadata": {},
     "output_type": "execute_result"
    }
   ],
   "source": [
    "prices = [1, 5, 8, 9, 10, 17, 17, 20, 24, 30, 33]\n",
    "len(prices)"
   ]
  },
  {
   "cell_type": "code",
   "execution_count": 10,
   "metadata": {},
   "outputs": [
    {
     "data": {
      "text/plain": [
       "defaultdict(int,\n",
       "            {1: 1,\n",
       "             2: 5,\n",
       "             3: 8,\n",
       "             4: 9,\n",
       "             5: 10,\n",
       "             6: 17,\n",
       "             7: 17,\n",
       "             8: 20,\n",
       "             9: 24,\n",
       "             10: 30,\n",
       "             11: 33})"
      ]
     },
     "execution_count": 10,
     "metadata": {},
     "output_type": "execute_result"
    },
    {
     "data": {
      "text/plain": [
       "1"
      ]
     },
     "execution_count": 10,
     "metadata": {},
     "output_type": "execute_result"
    }
   ],
   "source": [
    "length2price = defaultdict(int)\n",
    "for i in range(len(prices)):\n",
    "    length2price[i+1] = prices[i]\n",
    "length2price\n",
    "length2price[1]"
   ]
  },
  {
   "cell_type": "code",
   "execution_count": 14,
   "metadata": {},
   "outputs": [],
   "source": [
    "def revenue(n):\n",
    "    candidate = [length2price[n]]\n",
    "    for s in range(1, n):\n",
    "        candidate.append(revenue(s) + revenue(n-s))\n",
    "    return max(candidate)\n",
    "        \n",
    "    "
   ]
  },
  {
   "cell_type": "code",
   "execution_count": 25,
   "metadata": {},
   "outputs": [],
   "source": [
    "def revenue1(n, cache={}):\n",
    "    if n in cache: return cache[n]\n",
    "    candidate = [length2price[n]]\n",
    "#     cache.append(length2price[n])\n",
    "    for s in range(1, n):\n",
    "        candidate.append(revenue1(s, cache) + revenue1(n-s, cache))\n",
    "#         cache.extend([revenue1(s, cache),revenue1(s, cache)])\n",
    "    optimal = max(candidate)\n",
    "    cache[n] = optimal\n",
    "    return optimal"
   ]
  },
  {
   "cell_type": "code",
   "execution_count": 27,
   "metadata": {},
   "outputs": [],
   "source": [
    "@lru_cache\n",
    "def revenue2(n):\n",
    "    candidate = [length2price[n]]\n",
    "    for s in range(1, n):\n",
    "        candidate.append(revenue(s) + revenue(n-s))\n",
    "    return max(candidate)    "
   ]
  },
  {
   "cell_type": "code",
   "execution_count": 87,
   "metadata": {},
   "outputs": [],
   "source": [
    "# @lru_cache # TypeError: unhashable type: 'dict'\n",
    "def revenue3(n, cache={}, solutions={}):\n",
    "    if n in cache: return cache[n], solutions[n]\n",
    "    candidate = [(length2price[n], (n, 0))]\n",
    "#     print(candidate)\n",
    "    for s in range(1, n):\n",
    "        candidate.append((revenue3(s, cache, solutions)[0] + revenue3(n-s, cache, solutions)[0], (s, n-s)))\n",
    "    optimal, optimal_split = max(candidate, key=lambda x:x[0])\n",
    "#     print(f\"{optimal_split=}\")\n",
    "    cache[n] = optimal\n",
    "    solutions[n] = optimal_split\n",
    "    return optimal, solutions    "
   ]
  },
  {
   "cell_type": "code",
   "execution_count": 65,
   "metadata": {},
   "outputs": [],
   "source": [
    "def parse_solution(n, solutions):\n",
    "    left, right = solutions[n]\n",
    "    if (left == 0 or right == 0): return [left, right]\n",
    "    else:\n",
    "        return parse_solution(left, solutions) + parse_solution(right, solutions)\n",
    "    "
   ]
  },
  {
   "cell_type": "code",
   "execution_count": 90,
   "metadata": {
    "scrolled": false
   },
   "outputs": [
    {
     "data": {
      "text/plain": [
       "354"
      ]
     },
     "execution_count": 90,
     "metadata": {},
     "output_type": "execute_result"
    },
    {
     "data": {
      "text/plain": [
       "{1: (1, 0),\n",
       " 2: (2, 0),\n",
       " 3: (3, 0),\n",
       " 4: (2, 2),\n",
       " 5: (2, 3),\n",
       " 6: (6, 0),\n",
       " 7: (1, 6),\n",
       " 8: (2, 6),\n",
       " 9: (3, 6),\n",
       " 10: (10, 0),\n",
       " 11: (11, 0),\n",
       " 12: (2, 10),\n",
       " 13: (2, 11),\n",
       " 14: (3, 11),\n",
       " 15: (2, 13),\n",
       " 16: (6, 10),\n",
       " 17: (6, 11),\n",
       " 18: (2, 16),\n",
       " 19: (2, 17),\n",
       " 20: (10, 10),\n",
       " 21: (10, 11),\n",
       " 22: (11, 11),\n",
       " 23: (2, 21),\n",
       " 24: (2, 22),\n",
       " 25: (3, 22),\n",
       " 26: (6, 20),\n",
       " 27: (6, 21),\n",
       " 28: (6, 22),\n",
       " 29: (2, 27),\n",
       " 30: (10, 20),\n",
       " 31: (10, 21),\n",
       " 32: (10, 22),\n",
       " 33: (11, 22),\n",
       " 34: (2, 32),\n",
       " 35: (2, 33),\n",
       " 36: (3, 33),\n",
       " 37: (6, 31),\n",
       " 38: (6, 32),\n",
       " 39: (6, 33),\n",
       " 40: (10, 30),\n",
       " 41: (10, 31),\n",
       " 42: (10, 32),\n",
       " 43: (10, 33),\n",
       " 44: (11, 33),\n",
       " 45: (2, 43),\n",
       " 46: (2, 44),\n",
       " 47: (3, 44),\n",
       " 48: (6, 42),\n",
       " 49: (6, 43),\n",
       " 50: (10, 40),\n",
       " 51: (10, 41),\n",
       " 52: (10, 42),\n",
       " 53: (10, 43),\n",
       " 54: (10, 44),\n",
       " 55: (11, 44),\n",
       " 56: (2, 54),\n",
       " 57: (2, 55),\n",
       " 58: (3, 55),\n",
       " 59: (6, 53),\n",
       " 60: (10, 50),\n",
       " 61: (10, 51),\n",
       " 62: (10, 52),\n",
       " 63: (10, 53),\n",
       " 64: (10, 54),\n",
       " 65: (10, 55),\n",
       " 66: (11, 55),\n",
       " 67: (2, 65),\n",
       " 68: (2, 66),\n",
       " 69: (3, 66),\n",
       " 70: (10, 60),\n",
       " 71: (10, 61),\n",
       " 72: (10, 62),\n",
       " 73: (10, 63),\n",
       " 74: (10, 64),\n",
       " 75: (10, 65),\n",
       " 76: (10, 66),\n",
       " 77: (11, 66),\n",
       " 78: (2, 76),\n",
       " 79: (2, 77),\n",
       " 80: (10, 70),\n",
       " 81: (10, 71),\n",
       " 82: (10, 72),\n",
       " 83: (10, 73),\n",
       " 84: (10, 74),\n",
       " 85: (10, 75),\n",
       " 86: (10, 76),\n",
       " 87: (10, 77),\n",
       " 88: (11, 77),\n",
       " 89: (2, 87),\n",
       " 90: (10, 80),\n",
       " 91: (10, 81),\n",
       " 92: (10, 82),\n",
       " 93: (10, 83),\n",
       " 94: (10, 84),\n",
       " 95: (10, 85),\n",
       " 96: (10, 86),\n",
       " 97: (10, 87),\n",
       " 98: (10, 88),\n",
       " 99: (11, 88),\n",
       " 100: (10, 90),\n",
       " 101: (10, 91),\n",
       " 102: (10, 92),\n",
       " 103: (10, 93),\n",
       " 104: (10, 94),\n",
       " 105: (10, 95),\n",
       " 106: (10, 96),\n",
       " 107: (10, 97),\n",
       " 108: (10, 98),\n",
       " 109: (10, 99),\n",
       " 110: (10, 100),\n",
       " 111: (10, 101),\n",
       " 112: (10, 102),\n",
       " 113: (10, 103),\n",
       " 114: (10, 104),\n",
       " 115: (10, 105),\n",
       " 116: (10, 106),\n",
       " 117: (10, 107),\n",
       " 118: (10, 108)}"
      ]
     },
     "execution_count": 90,
     "metadata": {},
     "output_type": "execute_result"
    }
   ],
   "source": [
    "r, s = revenue3(118)\n",
    "r\n",
    "s"
   ]
  },
  {
   "cell_type": "code",
   "execution_count": 91,
   "metadata": {},
   "outputs": [
    {
     "data": {
      "text/plain": [
       "[10, 0, 10, 0, 10, 0, 11, 0, 11, 0, 11, 0, 11, 0, 11, 0, 11, 0, 11, 0, 11, 0]"
      ]
     },
     "execution_count": 91,
     "metadata": {},
     "output_type": "execute_result"
    }
   ],
   "source": [
    "parse_solution(118, s)"
   ]
  },
  {
   "cell_type": "code",
   "execution_count": 19,
   "metadata": {},
   "outputs": [
    {
     "data": {
      "text/plain": [
       "55"
      ]
     },
     "execution_count": 19,
     "metadata": {},
     "output_type": "execute_result"
    }
   ],
   "source": [
    "revenue(19)"
   ]
  },
  {
   "cell_type": "code",
   "execution_count": 30,
   "metadata": {},
   "outputs": [
    {
     "data": {
      "text/plain": [
       "55"
      ]
     },
     "execution_count": 30,
     "metadata": {},
     "output_type": "execute_result"
    }
   ],
   "source": [
    "revenue1(19)"
   ]
  },
  {
   "cell_type": "code",
   "execution_count": 29,
   "metadata": {},
   "outputs": [
    {
     "data": {
      "text/plain": [
       "55"
      ]
     },
     "execution_count": 29,
     "metadata": {},
     "output_type": "execute_result"
    }
   ],
   "source": [
    "revenue2(19)"
   ]
  },
  {
   "cell_type": "code",
   "execution_count": 51,
   "metadata": {},
   "outputs": [],
   "source": [
    "prices = [1, 5, 8, 9, 10, 17, 17, 20, 24, 30, 33]\n",
    "length_to_price = defaultdict(int)\n",
    "\n",
    "for i, p in enumerate(prices): length_to_price[i+1] = p\n",
    "\n",
    "\n",
    "def revenue(n, cache={}, solution={}):\n",
    "    if n in cache: return cache[n], solution[n]\n",
    "\n",
    "    candidates = [ (length_to_price[n], (n, 0)) ]\n",
    "\n",
    "    for s in range(1, n):\n",
    "        split = ( revenue(s, cache, solution)[0] + revenue(n - s, cache, solution)[0], (s, n - s))\n",
    "        candidates.append(split)\n",
    "        # candidates.append(revenue(s, cache) + revenue(n - s, cache))\n",
    "\n",
    "    optimal, optimal_split = max(candidates, key=lambda x: x[0])\n",
    "    cache[n] = optimal\n",
    "\n",
    "    solution[n] = optimal_split\n",
    "\n",
    "    return optimal, solution\n"
   ]
  },
  {
   "cell_type": "code",
   "execution_count": null,
   "metadata": {},
   "outputs": [],
   "source": []
  },
  {
   "cell_type": "code",
   "execution_count": null,
   "metadata": {},
   "outputs": [],
   "source": []
  },
  {
   "cell_type": "code",
   "execution_count": null,
   "metadata": {},
   "outputs": [],
   "source": []
  },
  {
   "cell_type": "code",
   "execution_count": null,
   "metadata": {},
   "outputs": [],
   "source": []
  },
  {
   "cell_type": "code",
   "execution_count": null,
   "metadata": {},
   "outputs": [],
   "source": []
  },
  {
   "cell_type": "code",
   "execution_count": null,
   "metadata": {},
   "outputs": [],
   "source": []
  },
  {
   "cell_type": "code",
   "execution_count": null,
   "metadata": {},
   "outputs": [],
   "source": []
  },
  {
   "cell_type": "code",
   "execution_count": null,
   "metadata": {},
   "outputs": [],
   "source": []
  },
  {
   "cell_type": "code",
   "execution_count": null,
   "metadata": {},
   "outputs": [],
   "source": []
  },
  {
   "cell_type": "code",
   "execution_count": null,
   "metadata": {},
   "outputs": [],
   "source": []
  },
  {
   "cell_type": "code",
   "execution_count": null,
   "metadata": {},
   "outputs": [],
   "source": []
  },
  {
   "cell_type": "code",
   "execution_count": null,
   "metadata": {},
   "outputs": [],
   "source": []
  },
  {
   "cell_type": "code",
   "execution_count": null,
   "metadata": {},
   "outputs": [],
   "source": []
  },
  {
   "cell_type": "code",
   "execution_count": null,
   "metadata": {},
   "outputs": [],
   "source": []
  },
  {
   "cell_type": "code",
   "execution_count": null,
   "metadata": {},
   "outputs": [],
   "source": []
  },
  {
   "cell_type": "code",
   "execution_count": null,
   "metadata": {},
   "outputs": [],
   "source": []
  },
  {
   "cell_type": "code",
   "execution_count": null,
   "metadata": {},
   "outputs": [],
   "source": []
  },
  {
   "cell_type": "code",
   "execution_count": null,
   "metadata": {},
   "outputs": [],
   "source": []
  },
  {
   "cell_type": "code",
   "execution_count": null,
   "metadata": {},
   "outputs": [],
   "source": []
  }
 ],
 "metadata": {
  "kernelspec": {
   "display_name": "Python 3",
   "language": "python",
   "name": "python3"
  },
  "language_info": {
   "codemirror_mode": {
    "name": "ipython",
    "version": 3
   },
   "file_extension": ".py",
   "mimetype": "text/x-python",
   "name": "python",
   "nbconvert_exporter": "python",
   "pygments_lexer": "ipython3",
   "version": "3.8.5"
  },
  "toc": {
   "base_numbering": 1,
   "nav_menu": {},
   "number_sections": true,
   "sideBar": true,
   "skip_h1_title": false,
   "title_cell": "Table of Contents",
   "title_sidebar": "Contents",
   "toc_cell": false,
   "toc_position": {},
   "toc_section_display": true,
   "toc_window_display": true
  }
 },
 "nbformat": 4,
 "nbformat_minor": 4
}
