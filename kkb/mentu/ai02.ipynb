{
 "cells": [
  {
   "cell_type": "code",
   "execution_count": 1,
   "metadata": {},
   "outputs": [],
   "source": [
    "import numpy as np\n",
    "import os\n",
    "import sys\n",
    "import math\n",
    "import torch\n",
    "import time\n",
    "import re\n",
    "import random\n",
    "import cv2\n",
    "from matplotlib import pyplot as plt\n",
    "from torchvision import transforms\n",
    "from icecream import ic\n",
    "from IPython.core.interactiveshell import InteractiveShell\n",
    "InteractiveShell.ast_node_interactivity = \"all\""
   ]
  },
  {
   "cell_type": "code",
   "execution_count": 2,
   "metadata": {},
   "outputs": [],
   "source": [
    "from collections import defaultdict\n",
    "from functools import reduce"
   ]
  },
  {
   "cell_type": "markdown",
   "metadata": {},
   "source": [
    "# 1"
   ]
  },
  {
   "cell_type": "code",
   "execution_count": 3,
   "metadata": {},
   "outputs": [],
   "source": [
    "kown_links = [\n",
    "    ('A', 'S1'),\n",
    "    ('A', 'S2'),\n",
    "    ('A', 'S3'),\n",
    "    ('S1', 'S4'),\n",
    "    ('S2', 'S4'),\n",
    "    ('S3', 'S5'),\n",
    "    ('S4', 'S6'),\n",
    "    ('S5', 'S7'),\n",
    "    ('S6', 'S8'),\n",
    "    ('S6', 'S9'),\n",
    "    ('S7', 'S10'),\n",
    "    ('S9', 'S10'),\n",
    "    ('S8', 'S11'),\n",
    "    ('S10', 'P'),\n",
    "    ('S11', 'P'),\n",
    "]"
   ]
  },
  {
   "cell_type": "code",
   "execution_count": 19,
   "metadata": {},
   "outputs": [
    {
     "data": {
      "text/plain": [
       "defaultdict(list,\n",
       "            {'A': ['S1', 'S2', 'S3'],\n",
       "             'S1': ['S4'],\n",
       "             'S2': ['S4'],\n",
       "             'S3': ['S5'],\n",
       "             'S4': ['S6'],\n",
       "             'S5': ['S7'],\n",
       "             'S6': ['S8', 'S9'],\n",
       "             'S7': ['S10'],\n",
       "             'S9': ['S10'],\n",
       "             'S8': ['S11'],\n",
       "             'S10': ['P'],\n",
       "             'S11': ['P']})"
      ]
     },
     "execution_count": 19,
     "metadata": {},
     "output_type": "execute_result"
    }
   ],
   "source": [
    "precedure0 = defaultdict(list) # Graph\n",
    "for link in kown_links:\n",
    "    start, end = link   \n",
    "    precedure0[start].append(end)\n",
    "precedure0"
   ]
  },
  {
   "cell_type": "code",
   "execution_count": 23,
   "metadata": {},
   "outputs": [
    {
     "name": "stdout",
     "output_type": "stream",
     "text": [
      "node:A, only output, no input\n",
      "Get link: A-->S1\n",
      "Get link: A-->S2\n",
      "Get link: A-->S3\n"
     ]
    }
   ],
   "source": [
    "precedure = precedure0.copy()\n",
    "for node, links in precedure.items():\n",
    "        all_nodes_have_outputs = set(precedure.keys())\n",
    "        all_nodes_have_inputs = set(reduce(lambda x, y: x + y, precedure.values()))\n",
    "        if node not in all_nodes_have_inputs:\n",
    "            print(f\"node:{node}, only output, no input\")\n",
    "            for link in links:\n",
    "                print(f\"Get link: {node}-->{link}\")"
   ]
  },
  {
   "cell_type": "code",
   "execution_count": 30,
   "metadata": {},
   "outputs": [
    {
     "name": "stdout",
     "output_type": "stream",
     "text": [
      "node:A, only output, no input\n",
      "Get link: A-->S1\n",
      "Get link: A-->S2\n",
      "Get link: A-->S3\n",
      "node:S1, only output, no input\n",
      "Get link: S1-->S4\n",
      "node:S2, only output, no input\n",
      "Get link: S2-->S4\n",
      "node:S3, only output, no input\n",
      "Get link: S3-->S5\n",
      "node:S4, only output, no input\n",
      "Get link: S4-->S6\n",
      "node:S5, only output, no input\n",
      "Get link: S5-->S7\n",
      "node:S7, only output, no input\n",
      "Get link: S7-->S10\n",
      "node:S6, only output, no input\n",
      "Get link: S6-->S8\n",
      "Get link: S6-->S9\n",
      "node:S8, only output, no input\n",
      "Get link: S8-->S11\n",
      "node:S9, only output, no input\n",
      "Get link: S9-->S10\n",
      "node:S11, only output, no input\n",
      "Get link: S11-->P\n",
      "node:S10, only output, no input\n",
      "Get link: S10-->P\n"
     ]
    }
   ],
   "source": [
    "precedure = precedure0.copy()\n",
    "while precedure:\n",
    "#     for node, links in precedure.items():\n",
    "    all_nodes_have_outputs = set(precedure.keys())\n",
    "    all_nodes_have_inputs = set(reduce(lambda x, y: x + y, precedure.values()))\n",
    "    all_nodes_only_have_outputs = all_nodes_have_outputs - all_nodes_have_inputs\n",
    "    for node in all_nodes_only_have_outputs:\n",
    "        print(f\"node:{node}, only output, no input\")\n",
    "        for link in precedure[node]:\n",
    "            print(f\"Get link: {node}-->{link}\")\n",
    "#     break\n",
    "#         print(f\"{node=}\")\n",
    "        del precedure[node]"
   ]
  },
  {
   "cell_type": "code",
   "execution_count": 8,
   "metadata": {},
   "outputs": [
    {
     "name": "stderr",
     "output_type": "stream",
     "text": [
      "ic| precedure.values(): dict_values([['S1', 'S2', 'S3'], ['S4'], ['S4'], ['S5'], ['S6'], ['S7'], ['S8', 'S9'], ['S10'], ['S10'], ['S11'], ['P'], ['P']])\n"
     ]
    },
    {
     "data": {
      "text/plain": [
       "dict_values([['S1', 'S2', 'S3'], ['S4'], ['S4'], ['S5'], ['S6'], ['S7'], ['S8', 'S9'], ['S10'], ['S10'], ['S11'], ['P'], ['P']])"
      ]
     },
     "execution_count": 8,
     "metadata": {},
     "output_type": "execute_result"
    }
   ],
   "source": [
    "ic(precedure.values())"
   ]
  },
  {
   "cell_type": "code",
   "execution_count": 9,
   "metadata": {},
   "outputs": [
    {
     "data": {
      "text/plain": [
       "['S1',\n",
       " 'S2',\n",
       " 'S3',\n",
       " 'S4',\n",
       " 'S4',\n",
       " 'S5',\n",
       " 'S6',\n",
       " 'S7',\n",
       " 'S8',\n",
       " 'S9',\n",
       " 'S10',\n",
       " 'S10',\n",
       " 'S11',\n",
       " 'P',\n",
       " 'P']"
      ]
     },
     "execution_count": 9,
     "metadata": {},
     "output_type": "execute_result"
    }
   ],
   "source": [
    "reduce(lambda x, y:x+y , precedure.values())"
   ]
  },
  {
   "cell_type": "markdown",
   "metadata": {},
   "source": [
    "# 2"
   ]
  },
  {
   "cell_type": "code",
   "execution_count": 43,
   "metadata": {},
   "outputs": [],
   "source": [
    "class LandMark:\n",
    "    def __init__(self, name, position=None, monster=None, treasure=None):\n",
    "        self.name = name\n",
    "        self.position = position\n",
    "        self.monster = monster\n",
    "        self.treasure = treasure\n",
    "    def show(self):\n",
    "        print(f\"I am {self.name}, I locate in {self.position}, I have monster {self.monster}, I have treasure {self.treasure}\")\n",
    "    def __repr__(self):\n",
    "        return self.name"
   ]
  },
  {
   "cell_type": "code",
   "execution_count": 47,
   "metadata": {},
   "outputs": [
    {
     "name": "stdout",
     "output_type": "stream",
     "text": [
      "I am 神密谷底, I locate in (100, 20), I have monster Great, I have treasure 100\n"
     ]
    },
    {
     "data": {
      "text/plain": [
       "神密谷底"
      ]
     },
     "execution_count": 47,
     "metadata": {},
     "output_type": "execute_result"
    },
    {
     "name": "stderr",
     "output_type": "stream",
     "text": [
      "ic| land_a: 神密谷底\n"
     ]
    },
    {
     "data": {
      "text/plain": [
       "神密谷底"
      ]
     },
     "execution_count": 47,
     "metadata": {},
     "output_type": "execute_result"
    }
   ],
   "source": [
    "land_a = LandMark(\"神密谷底\",(100,20),'Great',100)\n",
    "land_a.show()\n",
    "land_a\n",
    "ic(land_a)"
   ]
  },
  {
   "cell_type": "code",
   "execution_count": 48,
   "metadata": {},
   "outputs": [],
   "source": [
    "initial = LandMark('初始祭坛', (0, 20), 'None', 500)\n",
    "valley = LandMark('神秘谷底', (100, 20), 'Great', 100)\n",
    "island = LandMark('金银岛', (150, 150), 'Normal', 1000)\n",
    "mountain = LandMark('高山', (300, 300), 'Normal', 50)\n",
    "river = LandMark('河流', (350, 20), 'Good', 200)\n",
    "canvey = LandMark('大峡谷', (400, 500), 'Great', 200)\n",
    "ending = LandMark('终结之底', (600, 20), 'Hugu', 2000)"
   ]
  },
  {
   "cell_type": "code",
   "execution_count": 58,
   "metadata": {},
   "outputs": [],
   "source": [
    "mapping0 = {\n",
    "    initial: [valley, island],\n",
    "    valley: [initial, mountain, river],\n",
    "    mountain: [river, valley, canvey],\n",
    "    island: [initial, mountain],\n",
    "    river: [canvey, island],\n",
    "    canvey: [ending]\n",
    "}"
   ]
  },
  {
   "cell_type": "code",
   "execution_count": 36,
   "metadata": {},
   "outputs": [],
   "source": [
    "import networkx as nx"
   ]
  },
  {
   "cell_type": "code",
   "execution_count": 50,
   "metadata": {
    "scrolled": false
   },
   "outputs": [
    {
     "name": "stderr",
     "output_type": "stream",
     "text": [
      "ic| mapping: {初始祭坛: [神秘谷底, 金银岛],\n",
      "              神秘谷底: [初始祭坛, 高山, 河流],\n",
      "              河流: [大峡谷, 金银岛],\n",
      "              大峡谷: [终结之底],\n",
      "              高山: [河流, 神秘谷底, 大峡谷],\n",
      "              金银岛: [初始祭坛, 高山]}\n"
     ]
    },
    {
     "data": {
      "text/plain": [
       "{初始祭坛: [神秘谷底, 金银岛],\n",
       " 神秘谷底: [初始祭坛, 高山, 河流],\n",
       " 高山: [河流, 神秘谷底, 大峡谷],\n",
       " 金银岛: [初始祭坛, 高山],\n",
       " 河流: [大峡谷, 金银岛],\n",
       " 大峡谷: [终结之底]}"
      ]
     },
     "execution_count": 50,
     "metadata": {},
     "output_type": "execute_result"
    }
   ],
   "source": [
    "ic(mapping)"
   ]
  },
  {
   "cell_type": "code",
   "execution_count": 37,
   "metadata": {},
   "outputs": [],
   "source": [
    "game_map = nx.Graph(mapping)"
   ]
  },
  {
   "cell_type": "code",
   "execution_count": 40,
   "metadata": {},
   "outputs": [
    {
     "data": {
      "image/png": "[encoded data removed]",
      "text/plain": [
       "<Figure size 432x288 with 1 Axes>"
      ]
     },
     "metadata": {},
     "output_type": "display_data"
    }
   ],
   "source": [
    "nx.draw(game_map)"
   ]
  },
  {
   "cell_type": "code",
   "execution_count": 72,
   "metadata": {},
   "outputs": [
    {
     "data": {
      "text/plain": [
       "{初始祭坛: [神秘谷底, 金银岛],\n",
       " 神秘谷底: [初始祭坛, 高山, 河流],\n",
       " 高山: [河流, 神秘谷底, 大峡谷],\n",
       " 金银岛: [初始祭坛, 高山],\n",
       " 河流: [大峡谷, 金银岛],\n",
       " 大峡谷: [终结之底]}"
      ]
     },
     "execution_count": 72,
     "metadata": {},
     "output_type": "execute_result"
    },
    {
     "name": "stdout",
     "output_type": "stream",
     "text": [
      "known=[初始祭坛]\n",
      "froniter=初始祭坛\n",
      "I find 神秘谷底\n",
      "I find 金银岛\n",
      "visited=[初始祭坛]\n",
      "known=[神秘谷底, 金银岛]\n",
      "froniter=神秘谷底\n",
      "I find 初始祭坛\n",
      "I find 高山\n",
      "I find 河流\n",
      "visited=[初始祭坛, 神秘谷底]\n",
      "known=[金银岛, 初始祭坛, 高山, 河流]\n",
      "froniter=金银岛\n",
      "I find 初始祭坛\n",
      "I find 高山\n",
      "visited=[初始祭坛, 神秘谷底, 金银岛]\n",
      "known=[初始祭坛, 高山, 河流, 初始祭坛, 高山]\n",
      "known=[高山, 河流, 初始祭坛, 高山]\n",
      "froniter=高山\n",
      "I find 河流\n",
      "I find 神秘谷底\n",
      "I find 大峡谷\n",
      "visited=[初始祭坛, 神秘谷底, 金银岛, 高山]\n",
      "known=[河流, 初始祭坛, 高山, 河流, 神秘谷底, 大峡谷]\n",
      "froniter=河流\n",
      "I find 大峡谷\n",
      "I find 金银岛\n",
      "visited=[初始祭坛, 神秘谷底, 金银岛, 高山, 河流]\n",
      "known=[初始祭坛, 高山, 河流, 神秘谷底, 大峡谷, 大峡谷, 金银岛]\n",
      "known=[高山, 河流, 神秘谷底, 大峡谷, 大峡谷, 金银岛]\n",
      "known=[河流, 神秘谷底, 大峡谷, 大峡谷, 金银岛]\n",
      "known=[神秘谷底, 大峡谷, 大峡谷, 金银岛]\n",
      "known=[大峡谷, 大峡谷, 金银岛]\n",
      "froniter=大峡谷\n",
      "I find 终结之底\n",
      "visited=[初始祭坛, 神秘谷底, 金银岛, 高山, 河流, 大峡谷]\n"
     ]
    }
   ],
   "source": [
    "mapping = mapping0.copy()\n",
    "mapping\n",
    "known = [initial]\n",
    "visited = []\n",
    "while mapping:\n",
    "    print(f\"{known=}\")\n",
    "    froniter = known.pop(0)\n",
    "    if froniter in visited: continue\n",
    "    print(f\"{froniter=}\")\n",
    "    links = mapping[froniter]\n",
    "    for link in links:\n",
    "        print(f\"I find {link}\")\n",
    "        known.append(link)\n",
    "    visited.append(froniter)\n",
    "    print(f\"{visited=}\")\n",
    "    del mapping[froniter]"
   ]
  },
  {
   "cell_type": "code",
   "execution_count": 75,
   "metadata": {},
   "outputs": [
    {
     "data": {
      "text/plain": [
       "{初始祭坛: [神秘谷底, 金银岛],\n",
       " 神秘谷底: [初始祭坛, 高山, 河流],\n",
       " 高山: [河流, 神秘谷底, 大峡谷],\n",
       " 金银岛: [初始祭坛, 高山],\n",
       " 河流: [大峡谷, 金银岛],\n",
       " 大峡谷: [终结之底]}"
      ]
     },
     "execution_count": 75,
     "metadata": {},
     "output_type": "execute_result"
    }
   ],
   "source": [
    "mapping = mapping0.copy()\n",
    "mapping\n",
    "\n",
    "def traverse(graph, start):\n",
    "    known = [initial]\n",
    "    visited = set()\n",
    "    while graph:\n",
    "#         print(f\"{known=}\")\n",
    "        froniter = known.pop(0)\n",
    "        if froniter in visited: continue\n",
    "#         print(f\"{froniter=}\")\n",
    "        links = graph[froniter]\n",
    "        for link in links:\n",
    "#             print(f\"I find {link}\")\n",
    "            known.append(link)\n",
    "        visited.add(froniter)\n",
    "#         print(f\"{visited=}\")\n",
    "        del graph[froniter]\n",
    "    return visited"
   ]
  },
  {
   "cell_type": "code",
   "execution_count": 77,
   "metadata": {},
   "outputs": [
    {
     "data": {
      "text/plain": [
       "{初始祭坛, 大峡谷, 河流, 神秘谷底, 金银岛, 高山}"
      ]
     },
     "execution_count": 77,
     "metadata": {},
     "output_type": "execute_result"
    }
   ],
   "source": [
    "mapping = mapping0.copy()\n",
    "all_nodes = traverse(mapping, initial)\n",
    "all_nodes"
   ]
  },
  {
   "cell_type": "code",
   "execution_count": null,
   "metadata": {},
   "outputs": [],
   "source": []
  },
  {
   "cell_type": "code",
   "execution_count": null,
   "metadata": {},
   "outputs": [],
   "source": []
  },
  {
   "cell_type": "code",
   "execution_count": null,
   "metadata": {},
   "outputs": [],
   "source": []
  },
  {
   "cell_type": "code",
   "execution_count": null,
   "metadata": {},
   "outputs": [],
   "source": []
  },
  {
   "cell_type": "code",
   "execution_count": null,
   "metadata": {},
   "outputs": [],
   "source": []
  },
  {
   "cell_type": "code",
   "execution_count": null,
   "metadata": {},
   "outputs": [],
   "source": []
  },
  {
   "cell_type": "code",
   "execution_count": null,
   "metadata": {},
   "outputs": [],
   "source": []
  },
  {
   "cell_type": "code",
   "execution_count": null,
   "metadata": {},
   "outputs": [],
   "source": []
  },
  {
   "cell_type": "code",
   "execution_count": null,
   "metadata": {},
   "outputs": [],
   "source": []
  },
  {
   "cell_type": "code",
   "execution_count": null,
   "metadata": {},
   "outputs": [],
   "source": []
  }
 ],
 "metadata": {
  "kernelspec": {
   "display_name": "Python 3",
   "language": "python",
   "name": "python3"
  },
  "language_info": {
   "codemirror_mode": {
    "name": "ipython",
    "version": 3
   },
   "file_extension": ".py",
   "mimetype": "text/x-python",
   "name": "python",
   "nbconvert_exporter": "python",
   "pygments_lexer": "ipython3",
   "version": "3.8.5"
  },
  "toc": {
   "base_numbering": 1,
   "nav_menu": {},
   "number_sections": true,
   "sideBar": true,
   "skip_h1_title": false,
   "title_cell": "Table of Contents",
   "title_sidebar": "Contents",
   "toc_cell": false,
   "toc_position": {},
   "toc_section_display": true,
   "toc_window_display": false
  }
 },
 "nbformat": 4,
 "nbformat_minor": 4
}
