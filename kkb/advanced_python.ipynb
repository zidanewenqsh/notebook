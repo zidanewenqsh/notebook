{
 "cells": [
  {
   "cell_type": "code",
   "execution_count": 1,
   "id": "780a9e7e",
   "metadata": {},
   "outputs": [],
   "source": [
    "import numpy as np\n",
    "import os\n",
    "import sys\n",
    "import math\n",
    "import torch\n",
    "import time\n",
    "import re\n",
    "import cv2\n",
    "from pathlib import Path\n",
    "from tqdm import tqdm\n",
    "from matplotlib import pyplot as plt\n",
    "from torchvision import transforms\n",
    "from icecream import ic\n",
    "from itertools import repeat\n",
    "# import sympy as sy\n",
    "from IPython.core.interactiveshell import InteractiveShell\n",
    "InteractiveShell.ast_node_interactivity = \"all\""
   ]
  },
  {
   "cell_type": "markdown",
   "id": "b789dd60",
   "metadata": {},
   "source": [
    "# learning functional programming"
   ]
  },
  {
   "cell_type": "code",
   "execution_count": 6,
   "id": "bb49f6d7",
   "metadata": {},
   "outputs": [],
   "source": [
    "def equal(list1, list2):\n",
    "    if (len(list1) != len(list2)): return False\n",
    "    if (len(list1) == len(list2) == 1):\n",
    "        if (type(list1[0]) != type(list2[0])): return False\n",
    "        else:\n",
    "            if isinstance(list1[0], number) and isinstance(list2[0], number):\n",
    "                return True\n",
    "            else:\n",
    "                return equal(list1[0], list2[0])\n",
    "    else:\n",
    "        return equal(list1[0], list2[0]) and equal(list1[1:], list2[1:])"
   ]
  },
  {
   "cell_type": "code",
   "execution_count": 7,
   "id": "5054b173",
   "metadata": {},
   "outputs": [],
   "source": [
    "def only_numbers(elements):\n",
    "    return list not in set([type(e) for e in elements])"
   ]
  },
  {
   "cell_type": "code",
   "execution_count": 9,
   "id": "e1c1673c",
   "metadata": {},
   "outputs": [
    {
     "data": {
      "text/plain": [
       "False"
      ]
     },
     "execution_count": 9,
     "metadata": {},
     "output_type": "execute_result"
    }
   ],
   "source": [
    "a = [1,2,3,[2]]\n",
    "only_numbers(a)"
   ]
  },
  {
   "cell_type": "code",
   "execution_count": null,
   "id": "355e44cf",
   "metadata": {},
   "outputs": [],
   "source": [
    "def equal(list1, list2):\n",
    "    if (len(list1) != len(list2)): return False\n",
    "    if (len(list1) == len(list2) == 1):\n",
    "        if (type(list1[0]) != type(list2[0])): return False\n",
    "        else:\n",
    "            if isinstance(list1[0], number) and isinstance(list2[0], number):\n",
    "                return True\n",
    "            else:\n",
    "                return equal(list1[0], list2[0])\n",
    "    else:\n",
    "        return equal(list1[0], list2[0]) and equal(list1[1:], list2[1:])"
   ]
  },
  {
   "cell_type": "code",
   "execution_count": 10,
   "id": "c8511a3e",
   "metadata": {},
   "outputs": [],
   "source": [
    "def sub(a, b):\n",
    "    return a - b"
   ]
  },
  {
   "cell_type": "markdown",
   "id": "623530c0",
   "metadata": {},
   "source": [
    "# partial function"
   ]
  },
  {
   "cell_type": "code",
   "execution_count": 13,
   "id": "ff77e010",
   "metadata": {},
   "outputs": [],
   "source": [
    "from functools import partial"
   ]
  },
  {
   "cell_type": "code",
   "execution_count": 16,
   "id": "28cee98d",
   "metadata": {},
   "outputs": [],
   "source": [
    "mysub = partial(sub, b=1)"
   ]
  },
  {
   "cell_type": "code",
   "execution_count": 17,
   "id": "0526a648",
   "metadata": {},
   "outputs": [
    {
     "data": {
      "text/plain": [
       "1"
      ]
     },
     "execution_count": 17,
     "metadata": {},
     "output_type": "execute_result"
    }
   ],
   "source": [
    "mysub(2)"
   ]
  },
  {
   "cell_type": "code",
   "execution_count": 18,
   "id": "75e34154",
   "metadata": {},
   "outputs": [
    {
     "data": {
      "text/plain": [
       "17"
      ]
     },
     "execution_count": 18,
     "metadata": {},
     "output_type": "execute_result"
    },
    {
     "data": {
      "text/plain": [
       "17"
      ]
     },
     "execution_count": 18,
     "metadata": {},
     "output_type": "execute_result"
    },
    {
     "data": {
      "text/plain": [
       "103"
      ]
     },
     "execution_count": 18,
     "metadata": {},
     "output_type": "execute_result"
    },
    {
     "data": {
      "text/plain": [
       "103"
      ]
     },
     "execution_count": 18,
     "metadata": {},
     "output_type": "execute_result"
    }
   ],
   "source": [
    "bin2dec = partial( int, base=2 )\n",
    "bin2dec( '0b10001' )  # 17\n",
    "bin2dec( '10001' )  # 17\n",
    " \n",
    "hex2dec = partial( int, base=16 )\n",
    "hex2dec( '0x67' )  # 103\n",
    "hex2dec( '67' )  # 103"
   ]
  },
  {
   "cell_type": "code",
   "execution_count": null,
   "id": "e9de7848",
   "metadata": {},
   "outputs": [],
   "source": []
  },
  {
   "cell_type": "markdown",
   "id": "5a7415af",
   "metadata": {},
   "source": [
    "# test"
   ]
  },
  {
   "cell_type": "code",
   "execution_count": 2,
   "id": "1132e487",
   "metadata": {},
   "outputs": [
    {
     "ename": "AttributeError",
     "evalue": "'Tensor' object has no attribute 'raw_data'",
     "output_type": "error",
     "traceback": [
      "\u001b[0;31m---------------------------------------------------------------------------\u001b[0m",
      "\u001b[0;31mAttributeError\u001b[0m                            Traceback (most recent call last)",
      "Input \u001b[0;32mIn [2]\u001b[0m, in \u001b[0;36m<module>\u001b[0;34m\u001b[0m\n\u001b[1;32m      1\u001b[0m a \u001b[38;5;241m=\u001b[39m torch\u001b[38;5;241m.\u001b[39mTensor([\u001b[38;5;241m1\u001b[39m,\u001b[38;5;241m2\u001b[39m,\u001b[38;5;241m3\u001b[39m])\n\u001b[0;32m----> 2\u001b[0m \u001b[43ma\u001b[49m\u001b[38;5;241;43m.\u001b[39;49m\u001b[43mraw_data\u001b[49m\n",
      "\u001b[0;31mAttributeError\u001b[0m: 'Tensor' object has no attribute 'raw_data'"
     ]
    }
   ],
   "source": [
    "a = torch.Tensor([1,2,3])\n",
    "a.raw_data"
   ]
  },
  {
   "cell_type": "code",
   "execution_count": null,
   "id": "d7a6dcea",
   "metadata": {},
   "outputs": [],
   "source": []
  },
  {
   "cell_type": "code",
   "execution_count": null,
   "id": "a99e7572",
   "metadata": {},
   "outputs": [],
   "source": []
  },
  {
   "cell_type": "code",
   "execution_count": null,
   "id": "e73e35a5",
   "metadata": {},
   "outputs": [],
   "source": []
  }
 ],
 "metadata": {
  "kernelspec": {
   "display_name": "Python 3 (ipykernel)",
   "language": "python",
   "name": "python3"
  },
  "language_info": {
   "codemirror_mode": {
    "name": "ipython",
    "version": 3
   },
   "file_extension": ".py",
   "mimetype": "text/x-python",
   "name": "python",
   "nbconvert_exporter": "python",
   "pygments_lexer": "ipython3",
   "version": "3.9.5"
  },
  "toc": {
   "base_numbering": 1,
   "nav_menu": {},
   "number_sections": true,
   "sideBar": true,
   "skip_h1_title": false,
   "title_cell": "Table of Contents",
   "title_sidebar": "Contents",
   "toc_cell": false,
   "toc_position": {},
   "toc_section_display": true,
   "toc_window_display": false
  },
  "varInspector": {
   "cols": {
    "lenName": 16,
    "lenType": 16,
    "lenVar": 40
   },
   "kernels_config": {
    "python": {
     "delete_cmd_postfix": "",
     "delete_cmd_prefix": "del ",
     "library": "var_list.py",
     "varRefreshCmd": "print(var_dic_list())"
    },
    "r": {
     "delete_cmd_postfix": ") ",
     "delete_cmd_prefix": "rm(",
     "library": "var_list.r",
     "varRefreshCmd": "cat(var_dic_list()) "
    }
   },
   "types_to_exclude": [
    "module",
    "function",
    "builtin_function_or_method",
    "instance",
    "_Feature"
   ],
   "window_display": false
  }
 },
 "nbformat": 4,
 "nbformat_minor": 5
}
