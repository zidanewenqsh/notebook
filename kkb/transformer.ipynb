{
 "cells": [
  {
   "cell_type": "code",
   "execution_count": 1,
   "id": "ee819c1a",
   "metadata": {},
   "outputs": [],
   "source": [
    "import numpy as np\n",
    "import os\n",
    "import sys\n",
    "import math\n",
    "import torch\n",
    "import time\n",
    "import re\n",
    "import cv2\n",
    "from pathlib import Path\n",
    "from tqdm import tqdm\n",
    "from matplotlib import pyplot as plt\n",
    "from torchvision import transforms\n",
    "from icecream import ic\n",
    "from itertools import repeat\n",
    "# import sympy as sy\n",
    "from IPython.core.interactiveshell import InteractiveShell\n",
    "InteractiveShell.ast_node_interactivity = \"all\""
   ]
  },
  {
   "cell_type": "markdown",
   "id": "5cca896b",
   "metadata": {},
   "source": [
    "# Transformer实现"
   ]
  },
  {
   "cell_type": "markdown",
   "id": "4535a0ad",
   "metadata": {},
   "source": [
    "## self-attention实现"
   ]
  },
  {
   "cell_type": "code",
   "execution_count": 2,
   "id": "4ac8a9d4",
   "metadata": {},
   "outputs": [],
   "source": [
    "import tensorflow as tf"
   ]
  },
  {
   "cell_type": "code",
   "execution_count": 4,
   "id": "fb1572a2",
   "metadata": {},
   "outputs": [
    {
     "name": "stderr",
     "output_type": "stream",
     "text": [
      "2022-04-12 07:43:00.998950: I tensorflow/core/platform/cpu_feature_guard.cc:151] This TensorFlow binary is optimized with oneAPI Deep Neural Network Library (oneDNN) to use the following CPU instructions in performance-critical operations:  AVX2 AVX512F FMA\n",
      "To enable them in other operations, rebuild TensorFlow with the appropriate compiler flags.\n",
      "2022-04-12 07:43:10.720747: I tensorflow/core/common_runtime/gpu/gpu_device.cc:1525] Created device /job:localhost/replica:0/task:0/device:GPU:0 with 41874 MB memory:  -> device: 0, name: NVIDIA RTX A6000, pci bus id: 0000:89:00.0, compute capability: 8.6\n",
      "2022-04-12 07:43:10.721664: I tensorflow/core/common_runtime/gpu/gpu_device.cc:1525] Created device /job:localhost/replica:0/task:0/device:GPU:1 with 44769 MB memory:  -> device: 1, name: NVIDIA RTX A6000, pci bus id: 0000:b1:00.0, compute capability: 8.6\n"
     ]
    },
    {
     "data": {
      "text/plain": [
       "<tf.Tensor: shape=(3, 4), dtype=float32, numpy=\n",
       "array([[1., 0., 1., 0.],\n",
       "       [0., 2., 0., 2.],\n",
       "       [1., 1., 1., 1.]], dtype=float32)>"
      ]
     },
     "execution_count": 4,
     "metadata": {},
     "output_type": "execute_result"
    }
   ],
   "source": [
    "x = [\n",
    "    [1,0,1,0],\n",
    "    [0,2,0,2],\n",
    "    [1,1,1,1]\n",
    "]\n",
    "x = tf.convert_to_tensor(x, dtype=tf.float32)\n",
    "x"
   ]
  },
  {
   "cell_type": "code",
   "execution_count": 9,
   "id": "a45ea8af",
   "metadata": {},
   "outputs": [
    {
     "data": {
      "text/plain": [
       "<tf.Tensor: shape=(4, 3), dtype=float32, numpy=\n",
       "array([[1., 0., 1.],\n",
       "       [1., 0., 0.],\n",
       "       [0., 0., 0.],\n",
       "       [0., 1., 0.]], dtype=float32)>"
      ]
     },
     "execution_count": 9,
     "metadata": {},
     "output_type": "execute_result"
    },
    {
     "data": {
      "text/plain": [
       "<tf.Tensor: shape=(4, 3), dtype=float32, numpy=\n",
       "array([[0., 0., 1.],\n",
       "       [1., 1., 0.],\n",
       "       [0., 1., 0.],\n",
       "       [1., 1., 0.]], dtype=float32)>"
      ]
     },
     "execution_count": 9,
     "metadata": {},
     "output_type": "execute_result"
    },
    {
     "data": {
      "text/plain": [
       "<tf.Tensor: shape=(4, 3), dtype=float32, numpy=\n",
       "array([[0., 2., 1.],\n",
       "       [1., 2., 0.],\n",
       "       [0., 1., 2.],\n",
       "       [1., 1., 4.]], dtype=float32)>"
      ]
     },
     "execution_count": 9,
     "metadata": {},
     "output_type": "execute_result"
    }
   ],
   "source": [
    "w_query = [\n",
    "    [1, 0, 1],\n",
    "    [1, 0, 0],\n",
    "    [0, 0, 0],\n",
    "    [0, 1, 0]\n",
    "]\n",
    "w_key = [\n",
    "    [0, 0, 1],\n",
    "    [1, 1, 0],\n",
    "    [0, 1, 0],\n",
    "    [1, 1, 0]\n",
    "]\n",
    "w_value = [\n",
    "    [0, 2, 1],\n",
    "    [1, 2, 0],\n",
    "    [0, 1, 2],\n",
    "    [1, 1, 4]\n",
    "]\n",
    "\n",
    "w_query = tf.convert_to_tensor(w_query, dtype=tf.float32)\n",
    "w_key = tf.convert_to_tensor(w_key, dtype=tf.float32)\n",
    "w_value = tf.convert_to_tensor(w_value, dtype=tf.float32)\n",
    "w_query\n",
    "w_key\n",
    "w_value"
   ]
  },
  {
   "cell_type": "code",
   "execution_count": 12,
   "id": "a2db502a",
   "metadata": {},
   "outputs": [
    {
     "data": {
      "text/plain": [
       "<tf.Tensor: shape=(3, 3), dtype=float32, numpy=\n",
       "array([[1., 0., 1.],\n",
       "       [2., 2., 0.],\n",
       "       [2., 1., 1.]], dtype=float32)>"
      ]
     },
     "execution_count": 12,
     "metadata": {},
     "output_type": "execute_result"
    },
    {
     "data": {
      "text/plain": [
       "<tf.Tensor: shape=(3, 3), dtype=float32, numpy=\n",
       "array([[0., 1., 1.],\n",
       "       [4., 4., 0.],\n",
       "       [2., 3., 1.]], dtype=float32)>"
      ]
     },
     "execution_count": 12,
     "metadata": {},
     "output_type": "execute_result"
    },
    {
     "data": {
      "text/plain": [
       "<tf.Tensor: shape=(3, 3), dtype=float32, numpy=\n",
       "array([[0., 3., 3.],\n",
       "       [4., 6., 8.],\n",
       "       [2., 6., 7.]], dtype=float32)>"
      ]
     },
     "execution_count": 12,
     "metadata": {},
     "output_type": "execute_result"
    }
   ],
   "source": [
    "query = tf.matmul(x, w_query)\n",
    "key = tf.matmul(x, w_key)\n",
    "value = tf.matmul(x, w_value)\n",
    "query\n",
    "key\n",
    "value\n"
   ]
  },
  {
   "cell_type": "code",
   "execution_count": 14,
   "id": "f41066b6",
   "metadata": {},
   "outputs": [
    {
     "data": {
      "text/plain": [
       "<tf.Tensor: shape=(3, 3), dtype=float32, numpy=\n",
       "array([[ 1.,  4.,  3.],\n",
       "       [ 2., 16., 10.],\n",
       "       [ 2., 12.,  8.]], dtype=float32)>"
      ]
     },
     "execution_count": 14,
     "metadata": {},
     "output_type": "execute_result"
    }
   ],
   "source": [
    "attn_score = tf.matmul(query, key, transpose_b=True)\n",
    "attn_score"
   ]
  },
  {
   "cell_type": "code",
   "execution_count": 17,
   "id": "1f204d02",
   "metadata": {},
   "outputs": [
    {
     "data": {
      "text/plain": [
       "<tf.Tensor: shape=(3, 3), dtype=float32, numpy=\n",
       "array([[3.5119023e-02, 7.0538449e-01, 2.5949648e-01],\n",
       "       [8.2947201e-07, 9.9752659e-01, 2.4726214e-03],\n",
       "       [4.4581368e-05, 9.8196995e-01, 1.7985407e-02]], dtype=float32)>"
      ]
     },
     "execution_count": 17,
     "metadata": {},
     "output_type": "execute_result"
    }
   ],
   "source": [
    "attn_score_softmax=tf.nn.softmax(attn_score, axis=1)\n",
    "attn_score_softmax"
   ]
  },
  {
   "cell_type": "code",
   "execution_count": 20,
   "id": "f0344b49",
   "metadata": {},
   "outputs": [
    {
     "data": {
      "text/plain": [
       "<tf.Tensor: shape=(3, 3), dtype=float32, numpy=\n",
       "array([[0.0000000e+00, 2.4884162e-06, 1.3374411e-04],\n",
       "       [2.8215380e+00, 5.9851594e+00, 7.8557596e+00],\n",
       "       [5.1899296e-01, 1.4835728e-02, 1.2589785e-01]], dtype=float32)>"
      ]
     },
     "execution_count": 20,
     "metadata": {},
     "output_type": "execute_result"
    }
   ],
   "source": [
    "weighted_value = value[:None] * tf.transpose(attn_score_softmax[:, :None])\n",
    "weighted_value"
   ]
  },
  {
   "cell_type": "code",
   "execution_count": 23,
   "id": "af41fd70",
   "metadata": {},
   "outputs": [
    {
     "data": {
      "text/plain": [
       "<tf.Tensor: shape=(3, 3), dtype=float32, numpy=\n",
       "array([[0.0000000e+00, 2.4884162e-06, 1.3374411e-04],\n",
       "       [2.8215380e+00, 5.9851594e+00, 7.8557596e+00],\n",
       "       [5.1899296e-01, 1.4835728e-02, 1.2589785e-01]], dtype=float32)>"
      ]
     },
     "execution_count": 23,
     "metadata": {},
     "output_type": "execute_result"
    }
   ],
   "source": [
    "weighted_value = value * tf.transpose(attn_score_softmax)\n",
    "weighted_value"
   ]
  },
  {
   "cell_type": "code",
   "execution_count": 24,
   "id": "b196ce03",
   "metadata": {},
   "outputs": [
    {
     "data": {
      "text/plain": [
       "<tf.Tensor: shape=(3, 3), dtype=float32, numpy=\n",
       "array([[0., 3., 3.],\n",
       "       [4., 6., 8.],\n",
       "       [2., 6., 7.]], dtype=float32)>"
      ]
     },
     "execution_count": 24,
     "metadata": {},
     "output_type": "execute_result"
    },
    {
     "data": {
      "text/plain": [
       "<tf.Tensor: shape=(3, 3), dtype=float32, numpy=\n",
       "array([[3.5119023e-02, 7.0538449e-01, 2.5949648e-01],\n",
       "       [8.2947201e-07, 9.9752659e-01, 2.4726214e-03],\n",
       "       [4.4581368e-05, 9.8196995e-01, 1.7985407e-02]], dtype=float32)>"
      ]
     },
     "execution_count": 24,
     "metadata": {},
     "output_type": "execute_result"
    }
   ],
   "source": [
    "value\n",
    "attn_score_softmax"
   ]
  },
  {
   "cell_type": "code",
   "execution_count": 26,
   "id": "e6cf1933",
   "metadata": {},
   "outputs": [
    {
     "data": {
      "text/plain": [
       "<tf.Tensor: shape=(3,), dtype=float32, numpy=array([3.3405309, 5.9999976, 7.981791 ], dtype=float32)>"
      ]
     },
     "execution_count": 26,
     "metadata": {},
     "output_type": "execute_result"
    }
   ],
   "source": [
    "output = tf.reduce_sum(weighted_value, axis=0)\n",
    "output"
   ]
  },
  {
   "cell_type": "code",
   "execution_count": null,
   "id": "ddf81c7a",
   "metadata": {},
   "outputs": [],
   "source": []
  },
  {
   "cell_type": "code",
   "execution_count": null,
   "id": "020031b3",
   "metadata": {},
   "outputs": [],
   "source": []
  },
  {
   "cell_type": "code",
   "execution_count": null,
   "id": "167c1091",
   "metadata": {},
   "outputs": [],
   "source": []
  },
  {
   "cell_type": "code",
   "execution_count": null,
   "id": "7768140f",
   "metadata": {},
   "outputs": [],
   "source": []
  },
  {
   "cell_type": "code",
   "execution_count": null,
   "id": "0bd1aba5",
   "metadata": {},
   "outputs": [],
   "source": []
  }
 ],
 "metadata": {
  "kernelspec": {
   "display_name": "Python 3 (ipykernel)",
   "language": "python",
   "name": "python3"
  },
  "language_info": {
   "codemirror_mode": {
    "name": "ipython",
    "version": 3
   },
   "file_extension": ".py",
   "mimetype": "text/x-python",
   "name": "python",
   "nbconvert_exporter": "python",
   "pygments_lexer": "ipython3",
   "version": "3.9.5"
  },
  "toc": {
   "base_numbering": 1,
   "nav_menu": {},
   "number_sections": true,
   "sideBar": true,
   "skip_h1_title": false,
   "title_cell": "Table of Contents",
   "title_sidebar": "Contents",
   "toc_cell": false,
   "toc_position": {},
   "toc_section_display": true,
   "toc_window_display": false
  },
  "varInspector": {
   "cols": {
    "lenName": 16,
    "lenType": 16,
    "lenVar": 40
   },
   "kernels_config": {
    "python": {
     "delete_cmd_postfix": "",
     "delete_cmd_prefix": "del ",
     "library": "var_list.py",
     "varRefreshCmd": "print(var_dic_list())"
    },
    "r": {
     "delete_cmd_postfix": ") ",
     "delete_cmd_prefix": "rm(",
     "library": "var_list.r",
     "varRefreshCmd": "cat(var_dic_list()) "
    }
   },
   "types_to_exclude": [
    "module",
    "function",
    "builtin_function_or_method",
    "instance",
    "_Feature"
   ],
   "window_display": false
  }
 },
 "nbformat": 4,
 "nbformat_minor": 5
}
