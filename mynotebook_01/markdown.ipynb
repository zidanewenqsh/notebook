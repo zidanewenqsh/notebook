{
 "cells": [
  {
   "cell_type": "markdown",
   "metadata": {},
   "source": [
    "# 基础语法"
   ]
  },
  {
   "cell_type": "markdown",
   "metadata": {},
   "source": [
    "## 标题\n",
    "<body>\n",
    "# h1<br>\n",
    "## h2<br>\n",
    "### h3<br>\n",
    "#### h4<br>\n",
    "##### h5<br>\n",
    "###### h6<br>\n",
    "</body>\n",
    "\n",
    "基础语法  \n",
    "标题  \n",
    "Markdown支持6种级别的标题，对应html标签 h1 ~ h6  \n",
    "\n",
    "*** \n",
    "<font color=red size=3 face=黑体>善用markdown语法，记住markdown语法是兼容html语言的，这很重要。</font>"
   ]
  },
  {
   "cell_type": "markdown",
   "metadata": {},
   "source": [
    "<div style=color:green>\n",
    "这是一级标题<br>\n",
    "===<br>\n",
    "这是二级标题<br>\n",
    "---<br>\n",
    "这是二级标题<br>\n",
    "---<br>\n",
    "</div>\n",
    "除此之外，Markdown还支持另外一种形式的标题展示形式，其类似于 Setext 标记语言的表现形式，使用下划线进行文本大小的控制 "
   ]
  },
  {
   "cell_type": "markdown",
   "metadata": {},
   "source": [
    "## 段落及区块引用\n",
    "需要记住的是，Markdown其实就是一种易于编写的普通文本，只不过加入了部分渲染文本的标签而已。其最终依然会转换为html标签，因此使用Markdown分段非常简单，前后至少保留一个空行即可。\n",
    "\n",
    "而另外一个比较常见的需求就是，我们可能希望对某段文字进行强调处理。Markdown提供了一个特殊符号>用于段首进行强调，被强调的文字部分将会高亮显示\n",
    "\n",
    "```\n",
    "> 这段文字将被高亮显示...\n",
    "```\n",
    "> 这段文字将被高亮显示...\n",
    "\n",
    "***\n",
    "\n",
    "> 引用\n",
    ">> 二层引用\n",
    "\n",
    "<font color=\"red\">换行可加两个以上空格</font>\n",
    "```\n",
    "半方大的空白 &ensp; 或 &#8194;\n",
    "全方大的空白 &emsp; 或 &#8195;\n",
    "不断行的空白格 &nbsp; 或 &#160;\n",
    "其中\n",
    "&nbsp; 表示半角空格（英文）\n",
    "&emsp; 表示全角空格（中文）\n",
    "```\n",
    "半方大的空白 &ensp; 或 &#8194;\n",
    "全方大的空白 &emsp; 或 &#8195;\n",
    "不断行的空白格 &nbsp; 或 &#160;\n",
    "其中\n",
    "&nbsp; 表示半角空格（英文）\n",
    "&emsp; 表示全角空格（中文）  \n",
    "`</br> `  \n",
    "</br>回车（去掉空格）"
   ]
  },
  {
   "cell_type": "markdown",
   "metadata": {},
   "source": []
  },
  {
   "cell_type": "markdown",
   "metadata": {},
   "source": [
    "## 插入链接或图片\n",
    "1. 方法一  \n",
    "```\n",
    "[点击跳转至百度](网址)\n",
    "![图片](图片地址)\n",
    "```\n",
    "1. 方法二\n",
    "```\n",
    "<img src=\"  \" /> \n",
    "修改width：\n",
    "    <img src=\"  \" width=\"200px\" />   \n",
    "或者修改height：\n",
    "    <img src=\"  \" style=\"height:200px\" />\n",
    "也可以直接按比例缩放：\n",
    "    <img src=\"  \" style=\"zoom:70%\" />\n",
    "对齐：\n",
    "    <img src=\"  \" div align=\"center\" />\n",
    "```\n",
    "注： 引用图片和链接的唯一区别就是在最前方添加一个感叹号。  \n",
    "***  \n",
    "\n",
    "__对齐__\n",
    "* 文档中的一个部分居中对齐：\n",
    "\n",
    "<div align=center>\n",
    " 参数可以不加引号<br>\n",
    "    第二行<br>\n",
    "    第三行数据<br>\n",
    "</div>\n",
    "\n",
    "***\n",
    "* 居中对齐\n",
    "<center>这一行需要居中</center>\n",
    "\n",
    "***\n",
    "\n",
    "<img src=\"https://timgsa.baidu.com/timg?image&quality=80&size=b9999_10000&sec=1581612406554&di=4ae629115a377a2c8176cecf54261b2c&imgtype=0&src=http%3A%2F%2Fpic4.zhimg.com%2Fv2-2a56e92cf72cd1268d299f47b8d2cf14_r.jpg\" style=\"zoom: 10%\" div align=\"center\"> \n",
    "\n",
    "\n",
    "\n",
    "值|描述\n",
    ":--:|:--\n",
    "left|左对齐内容。\n",
    "right|右对齐内容。\n",
    "center|居中对齐内容。\n",
    "justify|对行进行伸展，这样每行都可以有相等的长度（就像在报纸和杂志中）。"
   ]
  },
  {
   "cell_type": "markdown",
   "metadata": {},
   "source": [
    "<div align=\"left\">\n",
    "    \n",
    " 1|2|3\n",
    "---|---|---\n",
    "7|8|9\n",
    "\n",
    "</div>"
   ]
  },
  {
   "cell_type": "markdown",
   "metadata": {},
   "source": [
    "<span id=\"jump\">**4.在页面内跳转**</span>\n"
   ]
  },
  {
   "cell_type": "markdown",
   "metadata": {},
   "source": [
    "<span id=\"jump1\">**4.在页面内跳转**</span>\n"
   ]
  },
  {
   "cell_type": "markdown",
   "metadata": {},
   "source": [
    "<span id=\"jump\">**4.在页面内跳转**</span>\n"
   ]
  },
  {
   "cell_type": "markdown",
   "metadata": {},
   "source": [
    "## 列表\n",
    "* Markdown支持有序列表和无序列表两种形式：  \n",
    "    1. 无序列表使用*或+或-标识    \n",
    "    2. 有序列表使用数字加.标识，例如：1.  \n",
    "\n",
    "注：这里比较有趣的地方是，对于有序列表，Markdown将只关注你的第一个项目的数字编号。例如：如果第一个项目编号是3，以此类推，第二个项目应该是4，最终将显示为3、4、5。而如果你指定了第一个编号，后面的编号指定错误也没有关系，Markdown将只在乎你的第一个项目编号。\n",
    ">使用列表的一些注意事项  \n",
    "\n",
    "* 如果在单一列表项中包含了多个段落，为了保证渲染正常，*与段落首字母之间必须保留四个空格\n",
    "    > 另外，如果在列表中加入了区块引用，区域引用标记符也需要缩进4个空格\n"
   ]
  },
  {
   "cell_type": "markdown",
   "metadata": {},
   "source": [
    "## 分隔线\n",
    "```\n",
    "***\n",
    "---\n",
    "```\n",
    "***\n",
    "有时候，为了排版漂亮，可能会加入分隔线。Markdown加入分隔线非常简单，使用下面任意一种形式都可以\n",
    "\n",
    "---\n",
    "产生分隔线的语法要求比较松，符号之间添加空格也可以。"
   ]
  },
  {
   "cell_type": "markdown",
   "metadata": {},
   "source": [
    "## 强调\n",
    "有时候，我们希望对某一部分文字进行强调，使用*或_包裹即可。使用单一符号标记的效果是斜体，使用两个符号标记的效果是加粗\n",
    "```\n",
    "*这里是斜体*\n",
    "_这里是斜体_\n",
    "\n",
    "**这里是加粗**\n",
    "__这里是加粗__\n",
    "```\n",
    "*这里是斜体*\n",
    "_这里是斜体_\n",
    "\n",
    "**这里是加粗**\n",
    "__这里是加粗__\n"
   ]
  },
  {
   "cell_type": "markdown",
   "metadata": {},
   "source": [
    "# 高级语法"
   ]
  },
  {
   "cell_type": "markdown",
   "metadata": {},
   "source": [
    "## 插入代码块\n",
    "Markdown在IT圈子里面比较流行的一个重要原因是，它能够轻松漂亮地插入代码。  \n",
    "方法是，使用反引号\\`进行包裹即可。如果是行内代码引用，使用单个反引号进行包裹 \n",
    "\n",
    "如果插入一整段代码，需要至少使用两个以上反引号进行包裹"
   ]
  },
  {
   "cell_type": "markdown",
   "metadata": {},
   "source": [
    "插入代码块"
   ]
  },
  {
   "cell_type": "markdown",
   "metadata": {},
   "source": [
    "## 插入表格\n",
    "\n",
    "表头|条目一|条目二\n",
    ":---|:----:|-----:\n",
    "项目|项目一|项目二\n",
    "\n",
    "``\n",
    "表头|条目一|条目二\n",
    ":---:|:---:|:---:\n",
    "项目|项目一|项目二\n",
    "``\n",
    "注：三个短斜杠左右的冒号用于控制对齐方式，只放置左边冒号表示文字居左，只放置右边冒号表示文字居右，如果两边都放置冒号表示文字居中。  \n",
    "表头前要有空行\n",
    "***\n",
    "\n",
    "* 单元格内文字换行  \n",
    "`使用<br>`\n",
    "\n",
    "|姓名|爱好|\n",
    "|--|--|\n",
    "|张三|足球<br>篮球<br>...|\n",
    "|李四|羽毛球<br>乒乓球<br>...|\n",
    "\n",
    "***\n",
    "|标题一|标题二|标题三|标题四|\n",
    "|- |:---|---:|:---:|\n",
    "|居中|居左|居右|居中|\n",
    "|居中|居左|居右|居中|\n",
    "|单元格内换行<br>换行|单元格内换行<br>换行|单元格内换行<br>换行|单元格内换行<br>换行|"
   ]
  },
  {
   "cell_type": "markdown",
   "metadata": {},
   "source": [
    "## 特殊符号处理\n",
    "\n",
    "Markdown使用反斜杠\\插入语法中用到的特殊符号。在Markdown中，主要有以下几种特殊符号需要处理\n",
    "\n",
    "符号|名称\n",
    ":---:|:---:\n",
    "\\\\|反斜线\n",
    "\\`|反引号\n",
    "\\*|星号\n",
    "\\_|底线\n",
    "\\{\\}|花括号\n",
    "\\[\\]|方括号\n",
    "\\(\\)|括弧\n",
    "\\#|井字号\n",
    "\\+|加号\n",
    "\\-|减号\n",
    "\\.|英文句点\n",
    "\\!|惊叹号"
   ]
  },
  {
   "cell_type": "markdown",
   "metadata": {},
   "source": [
    "## 跳转\n",
    "\n",
    "* 显示：第一行写在目录，第二行写在文章的小标题里，每个对应的一篇文章中不能用同样的id,否则就只跳到识别的第一个ID。  \n",
    "\n",
    "```\n",
    "[4.在页面内跳转](#jump)\n",
    "<span id=\"jump\">**4.在页面内跳转**</span>\n",
    "```\n",
    "* 为了方便读者阅读时，还可以跳到其他页面看资料，但又不想关了本页面，就要用到这个操作了。  \n",
    "```\n",
    "<a href=\"http://blog.csdn.net/qq_39422642\" target=\"_blank\">跳到自己博客列表</a>\n",
    "跳到自己博客列表：<a href=\"http://blog.csdn.net/qq_39422642\" target=\"_blank\">http://blog.csdn.net/qq_39422642</a>\n",
    "```\n"
   ]
  },
  {
   "cell_type": "markdown",
   "metadata": {},
   "source": [
    "<a href=\"http://blog.csdn.net/qq_39422642\" target=\"_blank\">跳到自己博客列表</a>  \n",
    "\n",
    "跳到自己博客列表：<a href=\"http://blog.csdn.net/qq_39422642\" target=\"_blank\">http://blog.csdn.net/qq_39422642</a>\n"
   ]
  },
  {
   "cell_type": "markdown",
   "metadata": {},
   "source": [
    "## 设置"
   ]
  },
  {
   "cell_type": "markdown",
   "metadata": {},
   "source": [
    "### 设置不同的字体颜色\n",
    "\\begin{array}{|rc|}\n",
    "\\hline\n",
    "\\verb+\\color{black}{text}+ & \\color{black}{text} \\\\\n",
    "\\verb+\\color{gray}{text}+ & \\color{gray}{text} \\\\\n",
    "\\verb+\\color{silver}{text}+ & \\color{silver}{text} \\\\\n",
    "\\verb+\\color{white}{text}+ & \\color{white}{text} \\\\\n",
    "\\hline\n",
    "\\verb+\\color{maroon}{text}+ & \\color{maroon}{text} \\\\\n",
    "\\verb+\\color{red}{text}+ & \\color{red}{text} \\\\\n",
    "\\verb+\\color{yellow}{text}+ & \\color{yellow}{text} \\\\\n",
    "\\verb+\\color{lime}{text}+ & \\color{lime}{text} \\\\\n",
    "\\verb+\\color{olive}{text}+ & \\color{olive}{text} \\\\\n",
    "\\verb+\\color{green}{text}+ & \\color{green}{text} \\\\\n",
    "\\verb+\\color{teal}{text}+ & \\color{teal}{text} \\\\\n",
    "\\verb+\\color{aqua}{text}+ & \\color{aqua}{text} \\\\\n",
    "\\verb+\\color{blue}{text}+ & \\color{blue}{text} \\\\\n",
    "\\verb+\\color{navy}{text}+ & \\color{navy}{text} \\\\\n",
    "\\verb+\\color{purple}{text}+ & \\color{purple}{text} \\\\ \n",
    "\\verb+\\color{fuchsia}{text}+ & \\color{magenta}{text} \\\\\n",
    "\\hline\n",
    "\\end{array}\n"
   ]
  },
  {
   "cell_type": "markdown",
   "metadata": {},
   "source": [
    "\\begin{array}{|rc|}  \n",
    "\\hline\n",
    "\\color{green}{text} \\\\\n",
    "\\color{blue}{text}  \\\\\n",
    "\\color{blue}{text} + & \\color{blue}{text} \\\\\n",
    "\\hline\n",
    "\\end{array}\n"
   ]
  },
  {
   "cell_type": "markdown",
   "metadata": {},
   "source": [
    "### 设置不同类型的字体"
   ]
  },
  {
   "cell_type": "markdown",
   "metadata": {},
   "source": [
    "<font face=\"黑体\">我是黑体字</font>  \n",
    "<font face=\"微软雅黑\">我是微软雅黑</font>  \n",
    "<font face=\"STCAIYUN\">我是华文彩云</font>  \n",
    "<font color=#0099ff size=7 face=\"黑体\">color=#0099ff size=72 face=\"黑体\"</font>  \n",
    "<font color=#00ffff size=36>color=#00ffff</font>  \n",
    "<font color=gray size=36>color=gray</font>  \n"
   ]
  },
  {
   "cell_type": "markdown",
   "metadata": {},
   "source": [
    "<font color=green>我的文字</font>我的文字\n",
    "<font color=blue face=\"方正瘦金书简体\">我的文字</font>我的文字"
   ]
  },
  {
   "cell_type": "markdown",
   "metadata": {},
   "source": [
    "### 首行缩进\n",
    "<font color=\"blue\">\n",
    "&emsp;&emsp;第一种方法：\n",
    "在段首加入“&”+“ensp;\"来输入一个空格，输入“&”+“emsp;”来代替两个空格（一个汉字宽度）。<br>\n",
    "　　第二种方法，全角空格\n",
    "</font>\n"
   ]
  },
  {
   "cell_type": "markdown",
   "metadata": {},
   "source": [
    "### 添加背景色"
   ]
  },
  {
   "cell_type": "markdown",
   "metadata": {},
   "source": [
    "<table><tr><td bgcolor=red>背景色是：red</td></tr></table>"
   ]
  },
  {
   "cell_type": "markdown",
   "metadata": {},
   "source": [
    "### 矩阵"
   ]
  },
  {
   "cell_type": "markdown",
   "metadata": {},
   "source": [
    "$$\\begin{matrix}\n",
    "1&2 \\\\  3&4 \\\\ 5&6\n",
    "\\end{matrix}\n",
    "$$"
   ]
  },
  {
   "cell_type": "markdown",
   "metadata": {},
   "source": [
    "$$\\left\\{\n",
    "\\begin{matrix}\n",
    "1&2 \\\\  3&4 \\\\ 5&6\n",
    "\\end{matrix}\n",
    "\\right\\}\n",
    "$$"
   ]
  },
  {
   "cell_type": "markdown",
   "metadata": {},
   "source": [
    "$$\\left[\n",
    "\\begin{matrix}\n",
    "1&2 \\\\  3&4 \\\\ 5&6\n",
    "\\end{matrix}\n",
    "\\right]\n",
    "$$"
   ]
  },
  {
   "cell_type": "markdown",
   "metadata": {},
   "source": [
    "$$\n",
    "\\left[\n",
    "\\begin{matrix}\n",
    "1 & 1 & \\cdots & 1  \\\\ \n",
    "2 & 2 & \\cdots & 2\\\\\n",
    "\\vdots & \\vdots &\\ddots & \\vdots \\\\\n",
    "3 & 3 & \\cdots & 3\n",
    "\\end{matrix}\n",
    "\\right]\n",
    "$$\n"
   ]
  },
  {
   "cell_type": "markdown",
   "metadata": {},
   "source": [
    "$$ \n",
    "\\left[\n",
    "    \\begin{array}{c|c|c}  \n",
    "      1 & 2 & 3 \\\\      4 & 5 & 6 \\\\  7 & 8 & 9\n",
    "    \\end{array}\n",
    "\\right] \\tag{7}\n",
    "$$"
   ]
  },
  {
   "cell_type": "markdown",
   "metadata": {},
   "source": [
    "$$ \n",
    "\\left[\n",
    "    \\begin{array}{c|cc} \n",
    "      1 & 2 & 3 \\\\  \\hline    4 & 5 & 6\n",
    "      \\\\  \\hline 7 & 8 & 9\n",
    "    \\end{array}\n",
    "\\right] \\tag{7}\n",
    "$$"
   ]
  },
  {
   "cell_type": "markdown",
   "metadata": {},
   "source": [
    "# 公式  \n",
    "\n",
    "`在$$之间放置公式，使用$$$$可以使公式居中`  \n",
    "\n",
    "\n",
    "公式中有中文可以用\\text{}渲染从而可以插入空格，更美观。  \n",
    "公式中\\%起到注释作用\n",
    "\n",
    "[Markdown 公式符号](https://www.jianshu.com/p/6e5dff42a77e)  \n",
    "[markdown LaTex数学公式总结](https://blog.csdn.net/u010670117/article/details/89341279)  \n",
    "[markdown数学公式语法](https://www.jianshu.com/p/cf36c5af997a)  \n",
    "[Markdown数学公式语法](https://www.jianshu.com/p/e74eb43960a1)  \n",
    "[MarkDown数学公式](https://www.jianshu.com/p/7778b2e0f176)   \n",
    "[MarkDown 高级操作](https://blog.csdn.net/qq_39422642/article/details/78453376)  \n",
    "[markdown中公式编辑教程](https://www.jianshu.com/p/25f0139637b7)"
   ]
  },
  {
   "cell_type": "markdown",
   "metadata": {},
   "source": [
    "居中插入\n",
    "``\n",
    "$$a + b$$\n",
    "``\n",
    "$$a + b$$\n",
    "\n",
    "直接插入\n",
    "``\n",
    "$a+b$\n",
    "``  \n",
    "$a+b$"
   ]
  },
  {
   "cell_type": "markdown",
   "metadata": {},
   "source": [
    "$$ c(u)=\\begin{cases}a\\\\b\\\\c\\end{cases} $$\n",
    "\n",
    "\\begin{vmatrix} \n",
    "\\mathbf{i} & \\mathbf{j} & \\mathbf{k} \\\\\n",
    "\\frac{\\partial X}{\\partial u} &  \\frac{\\partial Y}{\\partial u} & 0 \\\\\n",
    "\\frac{\\partial X}{\\partial v} &  \\frac{\\partial Y}{\\partial v} & 0 \\\\\n",
    "\\end{vmatrix}\n",
    "\n",
    "$$\n",
    "\\mathbf{V}_1 \\times \\mathbf{V}_2 =  \\begin{vmatrix} \n",
    "\\mathbf{i} & \\mathbf{j} & \\mathbf{k} \\\\\n",
    "\\frac{\\partial X}{\\partial u} &  \\frac{\\partial Y}{\\partial u} & 0 \\\\\n",
    "\\frac{\\partial X}{\\partial v} &  \\frac{\\partial Y}{\\partial v} & 0 \\\\\n",
    "\\end{vmatrix}\n",
    "$$\n"
   ]
  },
  {
   "cell_type": "markdown",
   "metadata": {},
   "source": [
    "\n",
    "$$\n",
    "\\begin{array}\n",
    "    {l}{\\text { Recall the exponential family form of the Bernoulli distribution }(6.113 \\mathrm{d}),} \\\\\n",
    "    {\\qquad p(x | \\mu)=\\exp \\left[x \\log \\frac{\\mu}{1-\\mu}+\\log (1-\\mu)\\right]} \\\\ \n",
    "    {\\text { The canonical conjugate prior therefore has the same form }} \\\\ \n",
    "    {\\qquad p\\left(\\mu | \\gamma, n_{0}\\right)=\\exp \\left[n_{0} \\gamma \\log \\frac{\\mu}{1-\\mu}+n_{0} \\log (1-\\mu)-A_{c}\\left(\\gamma, n_{0}\\right)\\right]}\n",
    "\\end{array}\n",
    "$$\n"
   ]
  },
  {
   "cell_type": "markdown",
   "metadata": {},
   "source": [
    "$$ J_\\alpha(x) = \\sum_{m=0}^\\infty \\frac{(-1)^m}{m! \\Gamma (m + \\alpha + 1)} {\\left({ \\frac{x}{2} }\\right)}^{2m + \\alpha} \\text {，独立公式示例} $$"
   ]
  },
  {
   "cell_type": "markdown",
   "metadata": {},
   "source": [
    "公式|对应代码|对应渲染效果\n",
    ":---:|:---:|:---:\n",
    "分数|\\frac{a}{b}|$\\frac{a}{b}$\n",
    "根号|\\sqrt{2} \\sqrt[n]{3}|$\\sqrt{2} \\sqrt[n]{3}$\n",
    "下标|a_b,_c|$a_b,_c$\n",
    "上标|a^{b*c}|$a^{b*c}$\n",
    "上划线|\\overline{X}|$\\overline{X}$\n",
    "上划线|\\over{X}|$\\over{X}$\n",
    "^|\\hat{x}|$\\hat{x}$\n",
    "矢量|\\vec{a}|$\\vec{a}$\n",
    "上波浪线|\\tilde{a}|$\\tilde{a}$\n",
    "累和|\\sum_{i=1}^{n}|$\\sum_{i=1}^{n}$\n",
    "累积|\\prod|lim|\\lim_{n\\rightarrow+\\infty}|$\\prod|lim|\\lim_{n\\rightarrow+\\infty}$\n",
    "累除|\\coprod|$\\coprod$\n",
    "积分|\\int ^3_0|$\\int ^3_0$\n",
    "log|\\log_2 10|$\\log_2 10$\n",
    "向上取整|\\lceil \\rceil|$\\lceil \\rceil$\n",
    "向下取整|\\lfloor \\rfloor|$\\lfloor \\rfloor$\n",
    "max下面添符号|arg,\\max_{c_k}|$arg,\\max_{c_k}$\n",
    "下面添符号|arg,\\max_{c_k}|$arg,\\max_{c_k}$\n",
    "下括号|\\underbrace{aaa}_{b}|$\\underbrace{aaa}_{b}$\n",
    "上括号|\\overbrace{aaa}_{b}|$\\overbrace{aaa}_{b}$\n"
   ]
  },
  {
   "cell_type": "markdown",
   "metadata": {},
   "source": [
    "* 转义和换行  \n",
    "    * 转义字符前 输入\\\\  \n",
    "    * 换行字符： \\\\\\\\  \n",
    "\n",
    "* 上标和下标\n",
    "    * \\^后跟内容为上标 如 $x^2$  \n",
    "    * _后跟内容为上标 如 $D_1$   \n",
    "    * 上标和下标可以综合运用,{}里的内容可以作为一个整体：$\\log_2^{m+n}$ \n",
    "\n",
    "* 分数\n",
    "    * 分数有两种表示，一种是作为与行内容大小一样，$\\dfrac{1}{3}$ \n",
    "    * 另一种是与标注大小一样，$\\tfrac{1}{2}$ \n",
    "\n",
    "* 括号 & 省略号\n",
    "    （)、[]都代表自己，当{}代表的是一个整体，若要显示{}，可以用\\lbrace和\\rbrace,如 $\\lbrace \\rbrace$ $\\lbrace\\lbrace\\lbrace\\rbrace\\rbrace \\rbrace$\n",
    "\n",
    "* 省略号的表示同样有两种 \\cdots表示与文本底线对齐，\\ldots表示与文本中线对齐。 $x+y+\\cdots$ $a,b,c,\\ldots$\n",
    "\n",
    "* 根号 对数\n",
    "    根号用\\sqrt[]{} 例如$\\sqrt[3]{x}$\t\n",
    " \n",
    "* 对数用\\log 表示log \\loglog\n",
    "    \\ln 表示ln \\lnln,同样 \\lg 表示 lg \\lglg\n",
    "    完整的表示要与上下标结合 $\\log _2 ^ {\\tfrac{3}{7}}$\n",
    "\n",
    "* 关系运算符  \n",
    "    类似\\+ \\- \\* \\/ = 直接输入,特殊的一些用以下语法：  \n",
    "    四则运算： $\\pm \\times \\div \\mid \\ast$  \n",
    "    不等运算： $\\leq \\geq \\neq \\approx$   \n",
    "\n",
    "* 其它运算：$\\nmid \\cdot \\circ \\bigodot \\bigotimes \\bigoplus$   \n",
    "* 和、积、以及微积分运算符\n",
    "    求和$\\sum$ 、$\\sum_{k=1}^nkx$  \n",
    "    求积 $\\prod$ \n",
    "    累除 $\\coprod$\n",
    "\n",
    "* 微积分运算符：$\\prime \\int \\iint \\iiint \\oint \\lim \\infty \\nabla \\mathrm{d} \\to$ \n",
    "\n",
    "代码|符号|描述\n",
    ":---:|:---:|:---:\n",
    "\\infty|$\\infty$|无穷  \n",
    "\\int|$\\int$|定积分  \n",
    "\\iint|$\\iint$|双重积分  \n",
    "\\iiint|$\\iiint$|三重积分  \n",
    "\\oint|$\\oint$|曲线积分  \n",
    "y\\prime|$y\\prime$|求导  \n",
    "\\lim|$\\lim$|极限 \n",
    "\n",
    "***\n",
    "* 排版格式\n",
    "    上下限在上下侧  \n",
    "    加强制在上下限：$\\sum\\limits_{i=1}^{n}i^2x$    \n",
    "    上下限在右侧  \n",
    "    上下限在右侧普通写法：$\\sum_{i=1}^n i^2x$     \n",
    "    加强制：$\\sum\\nolimits_{i=1}^{n}i^2x$ ,加强制可以预防在行内公式的时候变形    \n",
    "\n",
    "* 上花括号  \n",
    "    \\overbrace表示上花括号 ， $\\overbrace{1+2+\\dots+n}^{n个}$  \n",
    "* 下花括号  \n",
    "    \\underbrace 代表下花括号 $\\underbrace{1+1+\\dots+n}_{n个}$ \n",
    "* 向量\n",
    "    \\vec 表示向量，$\\vec{x}$\n",
    "***\n",
    "* 三角函数公式  \n",
    "    $\\bot \\angle \\sin \\cos \\tan \\cot \\sec \\csc$   \n",
    "    $30^\\circ$\n",
    "\n",
    "代码|符号|描述\n",
    ":---:|:---:|:---:\n",
    "\\bot|$\\bot$|垂直\n",
    "\\angle|$\\angle$|角\n",
    "\\circ|$30^\\circ$|30度\n",
    "\\sin|$\\sin$|正弦\n",
    "\\cos|$\\cos$|余弦\n",
    "\\tan|$\\tan$|正切\n",
    "\\cot|$\\cot$|余切\n",
    "\\sec|$\\sec$|正割\n",
    "\\csc|$\\csc$|余割\n",
    "\n",
    "***\n",
    "* 集合公式  \n",
    "    $\\emptyset$ \n",
    "    $\\notin$ \n",
    "    $\\subset$\n",
    "    $\\supset$ \n",
    "    $\\subseteq$\n",
    "    $\\supseteq$\n",
    "    $\\bigcap$\n",
    "    $\\bigcup$\n",
    "    $\\bigvee$\n",
    "    $\\bigwedge$\n",
    "    $\\biguplus$ \n",
    "    $\\bigsqcup$\n",
    "    \n",
    "代码|符号|描述  \n",
    ":---:|:---:|:---:   \n",
    "\\emptyset|$\\emptyset$|空集\n",
    "\\in|$\\in$|属于\n",
    "\\notin|$\\notin$|不属于\n",
    "\\supset|$\\supset$|真包含\n",
    "\\supseteq|$\\supseteq$|包含\n",
    "\\bigcap|$\\bigcap$|交集\n",
    "\\bigcup|$\\bigcup$|并集\n",
    "\\bigvee|$\\bigvee$|逻辑或\n",
    "\\bigwedge|$\\bigwedge$|逻辑与\n",
    "\n",
    "* 上下左右箭头表示  \n",
    "    $\\leftarrow$\n",
    "    $\\rightarrow$\n",
    "    $\\leftrightarrow$\n",
    "    $\\Leftarrow$\n",
    "    $\\Rightarrow$\n",
    "    $\\longleftarrow$\n",
    "    $\\longleftarrow$\n",
    "    $\\longleftrightarrow$\n",
    "    $\\Longleftarrow$\n",
    "    $\\Longrightarrow$\n",
    "    $\\Longleftrightarrow$\n",
    "    $\\uparrow$ \n",
    "    $\\downarrow$ \n",
    "    $\\Downarrow$ \n",
    "    $\\Uparrow$  \n",
    "\n",
    "* 希腊字母  \n",
    "    $\\Alpha \\alpha \\Beta \\beta \\Gamma \\gamma \\Delta \\delta\n",
    "    \\Epsilon \\epsilon \\Zeta \\zeta \\Eta \\eta \\Theta \\theta \\Iota \\iota \\Kappa \\kappa \\Lambda \\lambda \\Mu \\mu \\Nu \\nu \\Xi \\xi \\Omicron \\omicron \\Pi \\pi \\Rho \\rho \\Sigma \\sigma \\Tau \\tau \\Upsilon \\upsilon \\Phi \\phi \\Chi \\chi \\Psi \\psi \\Omega \\omega$  \n",
    "\n",
    "对应符号|对应渲染效果|对应符号|对应渲染效果\n",
    ":---:|:---:|:---:|:---:\n",
    "\\alpha|$\\alpha$|\\Alpha|$A$\n",
    "\\beta|$\\beta$|\\Beta|$B$\n",
    "\\gamma|$\\gamma$|\\Gamma|$\\Gamma$\n",
    "\\delta|$\\delta$|\\Delta|$\\Delta$\n",
    "\\epsilon|$\\epsilon$|\\Epsilon|$E$\n",
    "\\zeta|$\\zeta$|\\Zeta|$Z$\n",
    "\\eta|$\\eta$|\\Eta|$H$\n",
    "\\theta|$\\theta$|\\Theta|$\\Theta$\n",
    "\\iota|$\\iota$|\\Iota|$I$\n",
    "\\kappa|$\\kappa$|\\Kappa|$K$\n",
    "\\lambda|$\\lambda$|\\Lambda|$\\Lambda$\n",
    "\\mu|$\\mu$|\\Mu|$M$\n",
    "\\nu|$\\nu$|\\Nu|$N$\n",
    "\\xi|$\\xi$|\\Xi|$\\Xi$\n",
    "\\omicron|$\\omicron$|\\Omicron|$O$\n",
    "\\pi|$\\pi$|\\Pi|$\\Pi$\n",
    "\\rho|$\\rho$|\\Rho|$P$\n",
    "\\sigma|$\\sigma$|\\Sigma|$\\Sigma$\n",
    "\\tau|$\\tau$|\\Tau|$T$\n",
    "\\upsilon|$\\upsilon$|\\Upsilon|$\\Upsilon$\n",
    "\\phi|$\\phi$|\\Phi|$\\Phi$\n",
    "\\chi|$\\chi$|\\Chi|$X$\n",
    "\\psi|$\\psi$|\\Psi|$\\Psi$\n",
    "\\omega|$\\omega$|\\Omega|$\\Omega$\n",
    "\\varphi|$\\varphi$|\\Varphi|$\\Varphi$\n",
    "\n",
    "***\n",
    "* 各种组合公式  \n",
    "    运用上面的公式可以组合成复杂的公式，但针对一些组合公式也存在固定语法\n",
    "    组合公式以begin 开头，end结尾\n",
    "\n",
    "* 矩阵  \n",
    "    $\\left(              \n",
    "    \\begin{array}{lcr}    \n",
    "    a & b & c \\\\           \n",
    "    d & e & f \n",
    "    \\end{array}         \n",
    "    \\right)$    \n",
    "\n",
    "    $\\begin{pmatrix} a & b & c\\\\ d & e & f \\\\ \\end{pmatrix} \\quad\n",
    "    \\begin{bmatrix} a & b & c\\\\ d & e & f \\\\ \\end{bmatrix}\\quad\n",
    "    \\begin{Bmatrix} a & b & c\\\\ d & e & f\\\\ \\end{Bmatrix}\\quad\n",
    "    \\begin{vmatrix} a & b & c\\\\ d & e & f \\\\ \\end{vmatrix}\\quad\n",
    "    \\begin{Vmatrix} a & b & c\\\\ d & e & f \\\\ \\end{Vmatrix}$\n",
    "\n",
    "* 公式组  \n",
    "    $\\begin{align}\n",
    "    a &=b+c+d \\\\\n",
    "    x &=y+z\n",
    "    \\end{align}$\n",
    "\n",
    "* 分支公式  \n",
    "    $P(x|Pa_x)=\\begin{cases} \n",
    "            1, & x=f(Pa_{x})\\\\ \n",
    "            0, & other\\ values \n",
    "        \\end{cases}$"
   ]
  },
  {
   "cell_type": "markdown",
   "metadata": {},
   "source": [
    "[Markdown数学公式语法](https://www.jianshu.com/p/e74eb43960a1)\n",
    "* 行内与独行  \n",
    "行内公式：将公式插入到本行内，符号：$公式内容$，如：$xyz$  \n",
    "独行公式：将公式插入到新的一行内，并且居中，符号：$$公式内容$$，如：$$xyz$$    \n",
    "***\n",
    "* 上标、下标与组合  \n",
    "上标符号，符号：^，如：$x^4$  \n",
    "下标符号，符号：_，如：$x_1$  \n",
    "组合符号，符号：{}，如：${16}_{8}O{2+}_{2}$  \n",
    "***\n",
    "* 汉字、字体与格式  \n",
    "汉字形式，符号：\\mbox{}，如：$V_{\\mbox{初始}}$  \n",
    "字体控制，符号：\\displaystyle，如：$\\displaystyle \\frac{x+y}{y+z}$  \n",
    "下划线符号，符号：\\underline，如：$\\underline{x+y}$  \n",
    "标签，符号\\tag{数字}，如：$\\tag{11}$  \n",
    "上大括号，符号：\\overbrace{算式}，如：$\\overbrace{a+b+c+d}^{2.0}$  \n",
    "下大括号，符号：\\underbrace{算式}，如：$a+\\underbrace{b+c}_{1.0}+d$  \n",
    "上位符号，符号：\\stacrel{上位符号}{基位符号}，如：$\\vec{x}\\stackrel{\\mathrm{def}}{=}{x_1,\\dots,x_n}$  \n",
    "***\n",
    "* 占位符  \n",
    "两个quad空格，符号：\\qquad，如：$x \\qquad y$  \n",
    "quad空格，符号：\\quad，如：$x \\quad y$  \n",
    "大空格，符号\\\\ ，如：$x \\ y$  \n",
    "中空格，符号\\\\:，如：$x \\: y$  \n",
    "小空格，符号\\\\,，如：$x \\, y$  \n",
    "紧贴，符号\\\\!，如：$x \\! y$  \n",
    "***\n",
    "* 定界符与组合  \n",
    "括号，符号：（）\\big(\\big) \\Big(\\Big) \\bigg(\\bigg) \\Bigg(\\Bigg)，如：$（）\\big(\\big) \\Big(\\Big) \\bigg(\\bigg) \\Bigg(\\Bigg)$  \n",
    "中括号，符号：[]，如：$[x+y]$  \n",
    "大括号，符号：\\{ \\}，如：${x+y}$  \n",
    "自适应括号，符号：\\left \\right，如：$\\left(x\\right)$，$\\left(x{yz}\\right)$  \n",
    "组合公式，符号：{上位公式 \\choose 下位公式}，如：${n+1 \\choose k}={n \\choose k}+{n \\choose k-1}$  \n",
    "组合公式，符号：{上位公式 \\atop 下位公式}，如：$\\sum_{k_0,k_1,\\ldots>0 \\atop k_0+k_1+\\cdots=n}A_{k_0}A_{k_1}\\cdots$  \n",
    "***\n",
    "* 四则运算  \n",
    "加法运算，符号：+，如：$x+y=z$  \n",
    "减法运算，符号：-，如：$x-y=z$    \n",
    "加减运算，符号：\\pm，如：$x \\pm y=z$  \n",
    "减甲运算，符号：\\mp，如：$x \\mp y=z$  \n",
    "乘法运算，符号：\\times，如：$x \\times y=z$  \n",
    "点乘运算，符号：\\cdot，如：$x \\cdot y=z$  \n",
    "星乘运算，符号：\\ast，如：$x \\ast y=z$  \n",
    "除法运算，符号：\\div，如：$x \\div y=z$  \n",
    "斜法运算，符号：/，如：$x/y=z$    \n",
    "分式表示，符号：\\frac{分子}{分母}，如：$\\frac{x+y}{y+z}$  \n",
    "分式表示，符号：{分子} \\over {分母}，如：${x+y} \\over {y+z}$  \n",
    "绝对值表示，符号：||，如：$|x+y|$  \n",
    "竖线，符号：\\mid，如：$x\\mid y$\n",
    "***\n",
    "* 高级运算  \n",
    "平均数运算，符号：\\overline{算式}，如：$\\overline{xyz}$  \n",
    "开二次方运算，符号：\\sqrt，如：$\\sqrt x$  \n",
    "开方运算，符号：\\sqrt[开方数]{被开方数}，如：$\\sqrt[3]{x+y}$  \n",
    "对数运算，符号：\\log，如：$\\log(x)$  \n",
    "极限运算，符号：\\lim，如：$\\lim^{x \\to \\infty}_{y \\to 0}{\\frac{x}{y}}$  \n",
    "极限运算，符号：\\displaystyle \\lim，如：$\\displaystyle \\lim^{x \\to \\infty}_{y \\to 0}{\\frac{x}{y}}$  \n",
    "求和运算，符号：\\sum，如：$\\sum^{x \\to \\infty}_{y \\to 0}{\\frac{x}{y}}$  \n",
    "求和运算，符号：\\displaystyle \\sum，如：$\\displaystyle \\sum^{x \\to \\infty}_{y \\to 0}{\\frac{x}{y}}$  \n",
    "积分运算，符号：\\int，如：$\\int^{\\infty}_{0}{xdx}$  \n",
    "积分运算，符号：\\displaystyle \\int，如：$\\displaystyle \\int^{\\infty}_{0}{xdx}$  \n",
    "微分运算，符号：\\partial，如：$\\frac{\\partial x}{\\partial y}$  \n",
    "矩阵表示，符号：\\begin{matrix} \\end{matrix}，如：$\\left[ \\begin{matrix} 1 &2 &\\cdots &4\\5 &6 &\\cdots &8\\\\vdots &\\vdots &\\ddots &\\vdots\\13 &14 &\\cdots &16\\end{matrix} \\right]$  \n",
    "***\n",
    "* 逻辑运算  \n",
    "等于运算，符号：=，如：$x+y=z$  \n",
    "大于运算，符号：>，如：$x+y>z$    \n",
    "小于运算，符号：<，如：$x+y<z$  \n",
    "大于等于运算，符号：\\geq，如：$x+y \\geq z$  \n",
    "小于等于运算，符号：\\leq，如：$x+y \\leq z$  \n",
    "不等于运算，符号：\\neq，如：$x+y \\neq z$  \n",
    "不大于等于运算，符号：\\ngeq，如：$x+y \\ngeq z$  \n",
    "不大于等于运算，符号：\\not\\geq，如：$x+y \\not\\geq z$  \n",
    "不小于等于运算，符号：\\nleq，如：$x+y \\nleq z$    \n",
    "不小于等于运算，符号：\\not\\leq，如：$x+y \\not\\leq z$  \n",
    "约等于运算，符号：\\approx，如：$x+y \\approx z$  \n",
    "恒定等于运算，符号：\\equiv，如：$x+y \\equiv z$  \n",
    "***\n",
    "* 集合运算  \n",
    "属于运算，符号：\\in，如：$x \\in y$  \n",
    "不属于运算，符号：\\notin，如：$x \\notin y$  \n",
    "不属于运算，符号：\\not\\in，如：$x \\not\\in y$  \n",
    "子集运算，符号：\\subset，如：$x \\subset y$  \n",
    "子集运算，符号：\\supset，如：$x \\supset y$  \n",
    "真子集运算，符号：\\subseteq，如：$x \\subseteq y$\n",
    "非真子集运算，符号：\\subsetneq，如：$x \\subsetneq y$  \n",
    "真子集运算，符号：\\supseteq，如：$x \\supseteq y$  \n",
    "非真子集运算，符号：\\supsetneq，如：$x \\supsetneq y$  \n",
    "非子集运算，符号：\\not\\subset，如：$x \\not\\subset y$  \n",
    "非子集运算，符号：\\not\\supset，如：$x \\not\\supset y$  \n",
    "并集运算，符号：\\cup，如：$x \\cup y$  \n",
    "交集运算，符号：\\cap，如：$x \\cap y$  \n",
    "差集运算，符号：\\setminus，如：$x \\setminus y$  \n",
    "同或运算，符号：\\bigodot，如：$x \\bigodot y$  \n",
    "同与运算，符号：\\bigotimes，如：$x \\bigotimes y$  \n",
    "实数集合，符号：\\mathbb{R}，如：\\mathbb{R}  \n",
    "自然数集合，符号：\\mathbb{Z}，如：\\mathbb{Z}  \n",
    "空集，符号：\\emptyset，如：$\\emptyset$  \n",
    "***\n",
    "* 数学符号  \n",
    "无穷，符号：\\infty，如：$\\infty$  \n",
    "虚数，符号：\\imath，如：$\\imath$  \n",
    "虚数，符号：\\jmath，如：$\\jmath$  \n",
    "数学符号，符号\\hat{a}，如：$\\hat{a}$  \n",
    "数学符号，符号\\check{a}，如：$\\check{a}$  \n",
    "数学符号，符号\\breve{a}，如：$\\breve{a}$  \n",
    "数学符号，符号\\tilde{a}，如：$\\tilde{a}$  \n",
    "数学符号，符号\\bar{a}，如：$\\bar{a}$  \n",
    "矢量符号，符号\\vec{a}，如：$\\vec{a}$  \n",
    "数学符号，符号\\acute{a}，如：$\\acute{a}$  \n",
    "数学符号，符号\\grave{a}，如：$\\grave{a}$  \n",
    "数学符号，符号\\mathring{a}，如：$\\mathring{a}$  \n",
    "一阶导数符号，符号\\dot{a}，如：$\\dot{a}$  \n",
    "二阶导数符号，符号\\ddot{a}，如：$\\ddot{a}$        \n",
    "上箭头，符号：\\uparrow，如：$\\uparrow$      \n",
    "上箭头，符号：\\Uparrow，如：$\\Uparrow$    \n",
    "下箭头，符号：\\downarrow，如：$\\downarrow$  \n",
    "下箭头，符号：\\Downarrow，如：$\\Downarrow$  \n",
    "左箭头，符号：\\leftarrow，如：$\\leftarrow$  \n",
    "左箭头，符号：\\Leftarrow，如：$\\Leftarrow$  \n",
    "右箭头，符号：\\rightarrow，如：$\\rightarrow$  \n",
    "右箭头，符号：\\Rightarrow，如：$\\Rightarrow$  \n",
    "底端对齐的省略号，符号：\\ldots，如：$1,2,\\ldots,n$  \n",
    "中线对齐的省略号，符号：\\cdots，如：$x_1^2 + x_2^2 + \\cdots + x_n^2$  \n",
    "竖直对齐的省略号，符号：\\vdots，如：$\\vdots$  \n",
    "斜对齐的省略号，符号：\\ddots，如：$\\ddots$    \n",
    "***\n"
   ]
  },
  {
   "cell_type": "markdown",
   "metadata": {},
   "source": [
    "## 希腊字母  \n",
    "对应符号|对应渲染效果|对应符号|对应渲染效果\n",
    ":---:|:---:|:---:|:---:\n",
    "\\alpha|$\\alpha$|\\Alpha|$\\Alpha A$\n",
    "\\beta|$\\beta$|\\Beta|$\\Beta B$\n",
    "\\gamma|$\\gamma$|\\Gamma|$\\Gamma$\n",
    "\\delta|$\\delta$|\\Delta|$\\Delta$\n",
    "\\epsilon|$\\epsilon$|\\Epsilon|$\\Epsilon E$\n",
    "\\zeta|$\\zeta$|\\Zeta|$\\Zeta Z$\n",
    "\\eta|$\\eta$|\\Eta|$\\Eta H$\n",
    "\\theta|$\\theta$|\\Theta|$\\Theta$\n",
    "\\iota|$\\iota$|\\Iota|$\\Iota I$\n",
    "\\kappa|$\\kappa$|\\Kappa|$\\Kappa K$\n",
    "\\lambda|$\\lambda$|\\Lambda|$\\Lambda$\n",
    "\\mu|$\\mu$|\\Mu|$\\Mu M$\n",
    "\\nu|$\\nu$|\\Nu|$\\Nu N$\n",
    "\\xi|$\\xi$|\\Xi|$\\Xi$\n",
    "\\omicron|$\\omicron$|\\Omicron|$\\Omicron O$\n",
    "\\pi|$\\pi$|\\Pi|$\\Pi$\n",
    "\\rho|$\\rho$|\\Rho|$\\Rho P$\n",
    "\\sigma|$\\sigma$|\\Sigma|$\\Sigma$\n",
    "\\tau|$\\tau$|\\Tau|$\\Tau T$\n",
    "\\upsilon|$\\upsilon$|\\Upsilon|$\\Upsilon$\n",
    "\\phi|$\\phi$|\\Phi|$\\Phi$\n",
    "\\chi|$\\chi$|\\Chi|$\\Chi X$\n",
    "\\psi|$\\psi$|\\Psi|$\\Psi$\n",
    "\\omega|$\\omega$|\\Omega|$\\Omega$\n",
    "\\varphi|$\\varphi$|\\Varphi|$\\Varphi$\n"
   ]
  },
  {
   "cell_type": "markdown",
   "metadata": {},
   "source": [
    "## 上标与下标"
   ]
  },
  {
   "cell_type": "markdown",
   "metadata": {},
   "source": [
    "上标和下标分别使用^ 与_ ，例如$x_i^2$。  \n",
    "默认情况下，上、下标符号仅仅对下一个组起作用。一个组即单个字符或者使用{..} 包裹起来的内容。"
   ]
  },
  {
   "cell_type": "markdown",
   "metadata": {},
   "source": [
    "## 括号"
   ]
  },
  {
   "cell_type": "markdown",
   "metadata": {},
   "source": [
    "### 小括号与方括号  \n",
    "使用原始的( ) ，[ ] 即可，如$(2+3)[4+4]$  \n",
    "  使用\\left(或\\right)使符号大小与邻近的公式相适应（该语句适用于所有括号类型），如$\\left(\\frac{x}{y}\\right)$ "
   ]
  },
  {
   "cell_type": "markdown",
   "metadata": {},
   "source": [
    "### 大括号  \n",
    "由于大括号{} 被用于分组，因此需要使用{和}表示大括号，也可以使用\\lbrace 和\\rbrace来表示。如$\\{a*b\\}:a∗b$ 或$\\lbrace a*b\\rbrace :a*b$"
   ]
  },
  {
   "cell_type": "markdown",
   "metadata": {},
   "source": [
    "### 尖括号  \n",
    "区分于小于号和大于号，使用\\langle 和\\rangle 表示左尖括号和右尖括号。如$\\langle x \\rangle$"
   ]
  },
  {
   "cell_type": "markdown",
   "metadata": {},
   "source": [
    "### 上取整  \n",
    "使用\\lceil 和 \\rceil 表示。 如，$\\lceil x \\rceil$"
   ]
  },
  {
   "cell_type": "markdown",
   "metadata": {},
   "source": [
    "### 下取整  \n",
    "使用\\lfloor 和 \\rfloor 表示。如，$\\lfloor x \\rfloor$"
   ]
  },
  {
   "cell_type": "markdown",
   "metadata": {},
   "source": [
    "## 求和与积分"
   ]
  },
  {
   "cell_type": "markdown",
   "metadata": {},
   "source": [
    "### 求和  \n",
    "\\sum 用来表示求和符号，其下标表示求和下限，上标表示上限。如:    \n",
    "$\\sum_{r=1}^n$   \n",
    "$\\displaystyle \\sum_{r=1}^n$  \n",
    "$$\\sum_{r=1}^n$$  \n",
    "$$\\displaystyle \\sum_{r=1}^n$$ "
   ]
  },
  {
   "cell_type": "markdown",
   "metadata": {},
   "source": [
    "### 积分   \n",
    "\\int 用来表示积分符号，同样地，其上下标表示积分的上下限。  \n",
    "$\\int_{r=1}^\\infty$  \n",
    "多重积分同样使用 int ，通过 i 的数量表示积分导数：  \n",
    "$\\iint$  \n",
    "$\\iiint$  \n",
    "$\\iiiint$  "
   ]
  },
  {
   "cell_type": "markdown",
   "metadata": {},
   "source": [
    "### 连乘  \n",
    "$\\prod {a+b}$  \n",
    "$\\prod_{i=1}^{K}$  \n",
    "$$\\prod_{i=1}^{K}$$  \n",
    "$\\displaystyle \\prod_{i=1}^{K}$ "
   ]
  },
  {
   "cell_type": "markdown",
   "metadata": {},
   "source": [
    "### 其它  \n",
    "$\\prod$  \n",
    "$\\bigcup$  \n",
    "$\\bigcap$  \n",
    "$arg\\,\\max_{c_k}$  \n",
    "$arg\\,\\min_{c_k}$  \n",
    "$\\mathop {argmin}_{c_k}$  \n",
    "$\\mathop {argmax}_{c_k}$  \n",
    "$\\max_{c_k}$  \n",
    "$\\min_{c_k}$  \n"
   ]
  },
  {
   "cell_type": "markdown",
   "metadata": {},
   "source": [
    "## 分式与根式  "
   ]
  },
  {
   "cell_type": "markdown",
   "metadata": {},
   "source": [
    "### 分式  \n",
    "第一种，使用\\frac ab，\\frac作用于其后的两个组a ，b ，结果为。如果你的分子或分母不是单个字符，请使用{..}来分组，比如$\\frac {a+c+1}{b+c+2}$表示。  \n",
    "第二种，使用\\over来分隔一个组的前后两部分，如${a+1\\over b+1}$  "
   ]
  },
  {
   "cell_type": "markdown",
   "metadata": {},
   "source": [
    "### 连分数  \n",
    "书写连分数表达式时，请使用\\cfrac代替\\frac或者\\over两者效果对比如下  \n",
    "\\frac 表示如下：$$x=a_0 + \\frac {1^2}{a_1 + \\frac {2^2}{a_2 + \\frac {3^2}{a_3 + \\frac {4^2}{a_4 + ...}}}}$$  \n",
    "\\cfrac 表示如下$$x=a_0 + \\cfrac {1^2}{a_1 + \\cfrac {2^2}{a_2 + \\cfrac {3^2}{a_3 + \\cfrac {4^2}{a_4 + ...}}}}$$"
   ]
  },
  {
   "cell_type": "markdown",
   "metadata": {},
   "source": [
    "### 根式  \n",
    "根式使用\\sqrt 来表示。  \n",
    "如开4次方：$\\sqrt[4]{\\frac xy}$  \n",
    "开平方：$\\sqrt {a+b}$  "
   ]
  },
  {
   "cell_type": "markdown",
   "metadata": {},
   "source": [
    "## 多行表达式"
   ]
  },
  {
   "cell_type": "markdown",
   "metadata": {},
   "source": [
    "### 分类表达式  \n",
    "定义函数的时候经常需要分情况给出表达式，使用\\\\begin \\{cases\\} …  \\end \\{cases\\} 。其中：  \n",
    "使用\\\\ 来分类， \n",
    "使用& 指示需要对齐的位置，  \n",
    "使用\\ +空格表示空格。  \n",
    "$$\n",
    "f(n)\n",
    "\\begin{cases}\n",
    "\\cfrac n2, &if\\ n\\ is\\ even\\\\\n",
    "3n + 1, &if\\  n\\ is\\ odd\n",
    "\\end{cases}\n",
    "$$  \n",
    "$$\n",
    "L(Y,f(X)) =\n",
    "\\begin{cases}\n",
    "0, & \\text{Y = f(X)}  \\\\\n",
    "1, & \\text{Y $\\neq$ f(X)}\n",
    "\\end{cases}\n",
    "$$  \n",
    "如果想分类之间的垂直间隔变大，可以使用\\\\\\\\[2ex\\] 代替\\\\ 来分隔不同的情况。(3ex,4ex 也可以用，1ex 相当于原始距离）。如下所示  \n",
    "\n",
    "$$\n",
    "L(Y,f(X)) =\n",
    "\\begin{cases}\n",
    "0, & \\text{Y = f(X)} \\\\[5ex]\n",
    "1, & \\text{Y $\\neq$ f(X)}\n",
    "\\end{cases}\n",
    "$$"
   ]
  },
  {
   "cell_type": "markdown",
   "metadata": {},
   "source": [
    "### 多行表达式  \n",
    "有时候需要将一行公式分多行进行显示  \n",
    "$$\n",
    "\\begin{equation}\\begin{split} \n",
    "a&=b+c-d \\\\ \n",
    "&\\quad +e-f\\\\ \n",
    "&=g+h\\\\ \n",
    "& =i \n",
    "\\end{split}\\end{equation}\n",
    "$$  \n",
    "其中begin{equation} 表示开始方程，end{equation} 表示方程结束；begin{split} 表示开始多行公式，end{split} 表示结束；公式中用\\\\ 表示回车到下一行，& 表示对齐的位置。\n"
   ]
  },
  {
   "cell_type": "markdown",
   "metadata": {},
   "source": [
    "## 方程组  \n",
    "使用\\\\begin \\{array\\}...\\\\end\\{array\\} 与\\left \\{ 与\\right. 配合表示方程组  \n",
    "$$\n",
    "\\left \\{ \n",
    "\\begin{array}{c}\n",
    "a_1x+b_1y+c_1z=d_1 \\\\ \n",
    "a_2x+b_2y+c_2z=d_2 \\\\ \n",
    "a_3x+b_3y+c_3z=d_3\n",
    "\\end{array}\n",
    "\\right.\n",
    "$$  \n",
    "注意：通常MathJax通过内部策略自己管理公式内部的空间，因此a b会显示为ab 。可以通过在ab 间加入\\\\ ,增加些许间隙，\\\\; 增加较宽的间隙，\\quad 与\\qquad 会增加更大的间隙。$a\\; b$\n"
   ]
  },
  {
   "cell_type": "markdown",
   "metadata": {},
   "source": [
    "## 特殊函数与符号"
   ]
  },
  {
   "cell_type": "markdown",
   "metadata": {},
   "source": [
    "### 三角函数  \n",
    "$\\sin (x)$　$\\arctan (x)$ : "
   ]
  },
  {
   "cell_type": "markdown",
   "metadata": {},
   "source": [
    "### 比较运算符  \n",
    "小于(\\lt)：$\\lt$  \n",
    "大于(\\gt)：$\\gt$  \n",
    "小于等于(\\le)：$\\le$  \n",
    "大于等于(\\ge)：$\\ge$  \n",
    "不等于(\\ne) : $\\ne$  \n",
    "可以在这些运算符前面加上\\not，如\\not\\lt: $\\not\\lt$  "
   ]
  },
  {
   "cell_type": "markdown",
   "metadata": {},
   "source": [
    "### 集合关系与运算  \n",
    "并集(\\cup):$\\cup$  \n",
    "交集(\\cap):$\\cap$  \n",
    "差集(\\setminus):$\\setminus$  \n",
    "子集(\\subset):$\\subset$  \n",
    "子集(\\subseteq):$\\subseteq$  \n",
    "非子集(\\subsetneq):$\\subsetneq$  \n",
    "父集(\\supset):$\\supset$  \n",
    "属于(\\in):$\\in$  \n",
    "不属于(\\notin):$\\notin$  \n",
    "空集(\\emptyset):$\\emptyset$  \n",
    "空(\\varnothing):$\\varnothing$  \n"
   ]
  },
  {
   "cell_type": "markdown",
   "metadata": {},
   "source": [
    "### 排列  \n",
    "\\binom{n+1}{2k}:$\\binom{n+1}{2k}$   \n",
    "{n+1 \\choose 2k}: ${n+1 \\choose 2k}$  "
   ]
  },
  {
   "cell_type": "markdown",
   "metadata": {},
   "source": [
    "### 箭头  \n",
    "(\\to):$\\to$  \n",
    "(\\rightarrow):$\\rightarrow$  \n",
    "(\\Rightarrow):$\\Rightarrow$  \n",
    "(\\leftarrow):$\\leftarrow$  \n",
    "(\\Leftarrow):$\\Leftarrow$  \n",
    "(\\uparrow):$\\uparrow$  \n",
    "(\\Uparrow):$\\Uparrow$  \n",
    "(\\downarrow):$\\downarrow$  \n",
    "(\\Downarrow):$\\Downarrow$  \n",
    "(\\leftrightarrow):$\\leftrightarrow$  \n",
    "(\\Leftrightarrow):$\\Leftrightarrow$  \n",
    "(\\updownarrow):$\\updownarrow$  \n",
    "(\\Updownarrow):$\\Updownarrow$  \n",
    "(\\mapsto):$\\mapsto$  \n"
   ]
  },
  {
   "cell_type": "markdown",
   "metadata": {},
   "source": [
    "### 逻辑运算符  \n",
    "(\\land):$\\land$  \n",
    "(\\lor):$\\lor$  \n",
    "(\\lnot):$\\lnot$  \n",
    "(\\forall):$\\forall$  \n",
    "(\\exists):$\\exists$  \n",
    "(\\top):$\\top$  \n",
    "(\\bot):$\\bot$  \n",
    "(\\vdash):$\\vdash$  \n",
    "(\\vDash):$\\vDash$ "
   ]
  },
  {
   "cell_type": "markdown",
   "metadata": {},
   "source": [
    "### 操作符  \n",
    "(\\star):$\\star$  \n",
    "(\\ast):$\\ast$  \n",
    "(\\oplus):$\\oplus$  \n",
    "(\\circ):$\\circ$  \n",
    "(\\bullet):$\\bullet$ "
   ]
  },
  {
   "cell_type": "markdown",
   "metadata": {},
   "source": [
    "### 等于  \n",
    "(\\approx):$\\approx$  \n",
    "(\\sim):$\\sim$(服从分布)  \n",
    "(\\equiv):$\\equiv$  \n",
    "(\\prec):$\\prec$ "
   ]
  },
  {
   "cell_type": "markdown",
   "metadata": {},
   "source": [
    "### 范围  \n",
    "(\\infty):$\\infty$  \n",
    "(\\aleph_o):$\\aleph_o$  \n",
    "(\\nabla):$\\nabla$  \n",
    "(\\Im):$\\Im$  \n",
    "(\\Re):$\\Re$ "
   ]
  },
  {
   "cell_type": "markdown",
   "metadata": {},
   "source": [
    "### 模运算  \n",
    "(\\pmod ｂ):$\\pmod b$   \n",
    "如a \\equiv b \\pmod n:　$a \\equiv b \\pmod n$"
   ]
  },
  {
   "cell_type": "markdown",
   "metadata": {},
   "source": [
    "### 点  \n",
    "(\\ldots):$\\ldots$  \n",
    "(\\cdots):$\\cdots$  \n",
    "(\\cdot):$\\cdot$  "
   ]
  },
  {
   "cell_type": "markdown",
   "metadata": {},
   "source": [
    "### 顶部符号  \n",
    "对于单字符，\\hat x:$\\hat x$     \n",
    "多字符可以使用\\widehat{xy}:$$    \n",
    "类似的还有:(\\overline x):$\\overline x$    \n",
    "矢量(\\vec):$\\vec x$      \n",
    "向量(\\overrightarrow {xy}):$\\overrightarrow {xy}$    \n",
    "(\\dot x):$\\dot x$    \n",
    "(\\ddot x):$\\ddot x$    \n",
    "(\\dot {\\dot x}):$\\dot {\\dot x}$  \n",
    "\n",
    "$\\dot$\n"
   ]
  },
  {
   "cell_type": "markdown",
   "metadata": {},
   "source": [
    "### 表格  \n",
    "$$\n",
    "\\begin{array}{c|lcr}\n",
    "n & \\text{Left} & \\text{Center} & \\text{Right} \\\\\n",
    "\\hline\n",
    "1 & 0.24 & 1 & 125 \\\\\n",
    "2 & -1 & 189 & -8 \\\\\n",
    "3 & -20 & 2000 & 1+10i \\\\\n",
    "\\end{array}\n",
    "$$  \n",
    "```\n",
    "$$\n",
    "\\begin{array}{c|lcr}\n",
    "n & \\text{Left} & \\text{Center} & \\text{Right} \\\\\n",
    "\\hline\n",
    "1 & 0.24 & 1 & 125 \\\\\n",
    "2 & -1 & 189 & -8 \\\\\n",
    "3 & -20 & 2000 & 1+10i \\\\\n",
    "\\end{array}\n",
    "$$\n",
    "```"
   ]
  },
  {
   "cell_type": "markdown",
   "metadata": {},
   "source": [
    "### 矩阵  \n",
    "$$\n",
    "\\begin{matrix}\n",
    "1 & x & x^2 \\\\\n",
    "1 & y & y^2 \\\\\n",
    "1 & z & z^2 \\\\\n",
    "\\end{matrix}\n",
    "$$"
   ]
  },
  {
   "cell_type": "markdown",
   "metadata": {},
   "source": [
    "#### 括号  \n",
    "    如果要对矩阵加括号，可以像上文中提到的一样，使用\\left 与\\right 配合表示括号符号。也可以使用特殊的matrix 。即替换\\\\begin{matrix}…\\\\end{matrix} 中matrix 为pmatrix ，bmatrix ，Bmatrix ，vmatrix , Vmatrix 。\n",
    "\n",
    "pmatrix$$\\begin{pmatrix}1 & 2 \\\\ 3 & 4\\\\ \\end{pmatrix}$$    \n",
    "bmatrix$$\\begin{bmatrix}1 & 2 \\\\ 3 & 4\\\\ \\end{bmatrix}$$    \n",
    "Bmatrix$$\\begin{Bmatrix}1 & 2 \\\\ 3 & 4\\\\ \\end{Bmatrix}$$   \n",
    "vmatrix$$\\begin{vmatrix}1 & 2 \\\\ 3 & 4\\\\ \\end{vmatrix}$$    \n",
    "Vmatrix$$\\begin{Vmatrix}1 & 2 \\\\ 3 & 4\\\\ \\end{Vmatrix}$$   \n"
   ]
  },
  {
   "cell_type": "markdown",
   "metadata": {},
   "source": [
    "#### 元素省略   \n",
    "可以使用\\cdots ：⋯，\\ddots：⋱ ，\\vdots：⋮ 来省略矩阵中的元素，如：  \n",
    "$$\n",
    "\\begin{pmatrix}\n",
    "1&a_1&a_1^2&\\cdots&a_1^n\\\\\n",
    "1&a_2&a_2^2&\\cdots&a_2^n\\\\\n",
    "\\vdots&\\vdots&\\vdots&\\ddots&\\vdots\\\\\n",
    "1&a_m&a_m^2&\\cdots&a_m^n\\\\\n",
    "\\end{pmatrix}\n",
    "$$\n"
   ]
  },
  {
   "cell_type": "markdown",
   "metadata": {},
   "source": [
    "#### 增广矩阵   \n",
    "增广矩阵需要使用\\\\begin {array}\\...\\\\end {array}来实现。\n",
    "```\n",
    "增广矩阵需要使用\\begin{array}...\\end{array}来实现。\n",
    "```\n",
    "$$\n",
    "\\left[  \\begin{array}  {c c | c} %这里的c表示数组中元素对其方式：c居中、r右对齐、l左对齐，竖线表示2、3列间插入竖线\n",
    "1 & 2 & 3 \\\\\n",
    "\\hline %插入横线，如果去掉\\hline就是增广矩阵\n",
    "4 & 5 & 6\n",
    "\\end{array}  \\right]\n",
    "$$"
   ]
  },
  {
   "cell_type": "markdown",
   "metadata": {},
   "source": [
    "## 公式标记与引用   \n",
    "使用\\tag{yourtag} 来标记公式，如果想在之后引用该公式，则还需要加上\\label{yourlabel} 在\\tag 之后，如$$a = x^2 - y^3 \\tag{1}\\label{1}$$  \n",
    "如果不需要被引用，只使用\\tag{yourtag} ，$$x+y=z\\tag{1.1}$$  \n",
    "\\tab{yourtab} 中的内容用于显示公式后面的标记。公式之间通过\\label{} 设置的内容来引用。为了引用公式，可以使用\\\\eqref {yourlabel} ，如$$a + y^3 \\stackrel{\\eqref{1}}= x^2$$  \n",
    "或者使用\\ref {yourlabel} 不带括号引用，如$$a + y^3 \\stackrel{\\ref{1}}= x^2$$ "
   ]
  },
  {
   "cell_type": "markdown",
   "metadata": {},
   "source": [
    "## 未分类  \n",
    "竖线`\\mid`,$\\mid$  \n",
    "$A|B$  \n",
    "$A\\mid B$"
   ]
  },
  {
   "cell_type": "markdown",
   "metadata": {},
   "source": [
    "上标：^  \n",
    "下标：_  \n",
    "整体内容：{}  \n",
    "加粗字母：\\pmb $\\pmb{\\pi}$  $a\\pmb{a}$   \n",
    "加粗倾斜\\boldsymbol $a\\boldsymbol{a}$  \n",
    "适合内容大小的括号（各种类型括号都可以应用）：\\left(···\\right)  \n",
    "在某物上面写东西：\\overset{上面的东西}{某物自身}  \n",
    "在某物下面写东西：\\underset{下面的东西}{某物自身} $$\n",
    "{\\underset {x\\in S\\subseteq X}{\\operatorname {arg\\,max} }}\\,f(x):=\\{x\\mid x\\in S\\wedge \\forall y\\in S:f(y)\\leq f(x)\\}.\n",
    "$$\n",
    " \n",
    "花体字母：一般花：\\mathcal{}；极度花：\\mathscr{}$$\n",
    "\\mathcal{G} = \\mathop{\\text{max}}\\limits_{\\mathcal{G}} \\ \\mathcal{U}(\\mathcal{G(s)}) \\ \\text{subject to} \\ \\text{l}_{r}(\\mathcal{G(s)}) = 1, \\ \\forall s \\in S. \\tag{1}\n",
    "$$\n",
    "  \n",
    "空心大写字母：\\mathbb{capital}；数学粗体字(boldface)：\\mathbf{} \n",
    "空一格：\\+“空格键”  \n",
    "子集：\\sbuseteq  \n",
    "长等于号及上下文字的书写格式：\\xlongequal[sub-script]{super-script}  \n"
   ]
  },
  {
   "cell_type": "markdown",
   "metadata": {},
   "source": [
    "$\\boldsymbol{\\hat y} = \\boldsymbol{W} \\boldsymbol{x}$  \n",
    "对于一些特殊的数学符号可以使用 \\operatorname{} 或者 \\text{} 来进行转换，如：$\\text{cov}$ 和 $\\operatorname{s.t.}$ 便显示为：cov 和 s.t.  \n",
    "$A \\xrightarrow{f} B \\; a \\; \\bot b \\; \\overset{def}{=}$   \n",
    "operatorname:  \n",
    "$$\n",
    " \\underset{x\\in S\\subseteq X}{\\operatorname{arg\\,max}}\\, f(x) := \\{x \\mid x\\in S \\wedge \\forall y \\in S : f(y) \\le f(x)\\}.   \n",
    "$$  \n",
    "$$\n",
    "\\operatorname*{\\arg\\max}_{x\\in S\\subseteq X}\\, f(x) := \\{x \\mid x\\in S \\wedge \\forall y \\in S : f(y) \\le f(x)\\}.   \n",
    "$$"
   ]
  },
  {
   "cell_type": "markdown",
   "metadata": {},
   "source": [
    "- \\big [ //比较大的左中括号\n",
    "- \\bigg [ //再大一点\n",
    "- \\Big [ //比big大一点\n",
    "- \\Bigg [ //比bigg大一点\n",
    "\n",
    "$\\big[$"
   ]
  },
  {
   "cell_type": "markdown",
   "metadata": {},
   "source": [
    "## 字体"
   ]
  },
  {
   "cell_type": "markdown",
   "metadata": {},
   "source": [
    "* 黑板粗体字  \n",
    "此字体经常用来表示代表实数、整数、有理数、复数的大写字母  \n",
    "    * mathbb  \n",
    "$\\mathbb {ABCDEF}$  \n",
    "$\\mathbb {ABCDEF}$  \n",
    "* 黑体字  \n",
    "    * mathbf  \n",
    "$\\mathbf {ABCDEFGHIJKLMNOPQRSTUVWXYZ}$  \n",
    "$\\mathbf {abcdefghijklmnopqrstuvwxyz}$  \n",
    "* 打印机字体  \n",
    "    * mathtt  \n",
    "$\\mathtt {ABCDEFGHIJKLMNOPQRSTUVWXYZ}$  \n",
    "$\\mathtt {abcdefghijklmnopqrstuvwxyz}$  \n",
    "* 其它  \n",
    "    * mathcal  \n",
    "$\\mathcal {ABCDEFGHIJKLMNOPQRSTUVWXYZ}$  \n",
    "$\\mathcal {abcdefghijklmnopqrstuvwxyz}$  \n",
    "    * mathscr  \n",
    "$\\mathscr {ABCDEFGHIJKLMNOPQRSTUVWXYZ}$  \n",
    "$\\mathscr {abcdefghijklmnopqrstuvwxyz}$  "
   ]
  }
 ],
 "metadata": {
  "kernelspec": {
   "display_name": "Python 3",
   "language": "python",
   "name": "python3"
  },
  "language_info": {
   "codemirror_mode": {
    "name": "ipython",
    "version": 3
   },
   "file_extension": ".py",
   "mimetype": "text/x-python",
   "name": "python",
   "nbconvert_exporter": "python",
   "pygments_lexer": "ipython3",
   "version": "3.8.5"
  },
  "toc": {
   "base_numbering": 1,
   "nav_menu": {},
   "number_sections": true,
   "sideBar": true,
   "skip_h1_title": false,
   "title_cell": "Table of Contents",
   "title_sidebar": "Contents",
   "toc_cell": false,
   "toc_position": {
    "height": "calc(100% - 180px)",
    "left": "10px",
    "top": "150px",
    "width": "219.402px"
   },
   "toc_section_display": true,
   "toc_window_display": true
  },
  "varInspector": {
   "cols": {
    "lenName": 16,
    "lenType": 16,
    "lenVar": 40
   },
   "kernels_config": {
    "python": {
     "delete_cmd_postfix": "",
     "delete_cmd_prefix": "del ",
     "library": "var_list.py",
     "varRefreshCmd": "print(var_dic_list())"
    },
    "r": {
     "delete_cmd_postfix": ") ",
     "delete_cmd_prefix": "rm(",
     "library": "var_list.r",
     "varRefreshCmd": "cat(var_dic_list()) "
    }
   },
   "types_to_exclude": [
    "module",
    "function",
    "builtin_function_or_method",
    "instance",
    "_Feature"
   ],
   "window_display": false
  }
 },
 "nbformat": 4,
 "nbformat_minor": 2
}
