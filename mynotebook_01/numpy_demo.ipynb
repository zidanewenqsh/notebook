{
 "cells": [
  {
   "cell_type": "markdown",
   "metadata": {},
   "source": [
    "[菜鸟教程-numpy](https://www.runoob.com/numpy/numpy-tutorial.html)"
   ]
  },
  {
   "cell_type": "markdown",
   "metadata": {},
   "source": [
    "## 导包"
   ]
  },
  {
   "cell_type": "code",
   "execution_count": 1,
   "metadata": {},
   "outputs": [],
   "source": [
    "from IPython.core.interactiveshell import InteractiveShell\n",
    "InteractiveShell.ast_node_interactivity = 'all'  #默认为'last'\n",
    "%matplotlib inline\n",
    "import numpy as np\n",
    "import matplotlib.pyplot as plt\n",
    "import pandas as pd\n",
    "from sympy import *\n",
    "import time\n",
    "import os\n",
    "import sys\n",
    "import random\n",
    "from numpy import linalg\n",
    "np.set_printoptions(threshold=np.inf, precision=2, suppress=True)"
   ]
  },
  {
   "cell_type": "code",
   "execution_count": null,
   "metadata": {},
   "outputs": [],
   "source": []
  },
  {
   "cell_type": "markdown",
   "metadata": {},
   "source": [
    "# 基本"
   ]
  },
  {
   "cell_type": "code",
   "execution_count": null,
   "metadata": {},
   "outputs": [],
   "source": []
  },
  {
   "cell_type": "markdown",
   "metadata": {},
   "source": [
    "# 线性代数"
   ]
  },
  {
   "cell_type": "markdown",
   "metadata": {},
   "source": [
    "##### 创建矩阵"
   ]
  },
  {
   "cell_type": "code",
   "execution_count": null,
   "metadata": {},
   "outputs": [],
   "source": []
  },
  {
   "cell_type": "code",
   "execution_count": 2,
   "metadata": {},
   "outputs": [
    {
     "data": {
      "text/plain": [
       "array([[0, 8, 3],\n",
       "       [6, 3, 3],\n",
       "       [7, 8, 0]])"
      ]
     },
     "execution_count": 2,
     "metadata": {},
     "output_type": "execute_result"
    }
   ],
   "source": [
    "# a = np.array([])\n",
    "np.random.seed(2020)\n",
    "A = np.random.randint(0, 10, size=(3, 3))\n",
    "A"
   ]
  },
  {
   "cell_type": "markdown",
   "metadata": {},
   "source": [
    "## 行列式\n",
    "* det()"
   ]
  },
  {
   "cell_type": "code",
   "execution_count": 83,
   "metadata": {},
   "outputs": [
    {
     "data": {
      "text/plain": [
       "6.999999999999999"
      ]
     },
     "execution_count": 83,
     "metadata": {},
     "output_type": "execute_result"
    }
   ],
   "source": [
    "A = np.array([3,-2,2,1]).reshape(2,2)\n",
    "linalg.det(A)"
   ]
  },
  {
   "cell_type": "markdown",
   "metadata": {},
   "source": [
    "## 逆矩阵  \n",
    "* inv()"
   ]
  },
  {
   "cell_type": "code",
   "execution_count": 3,
   "metadata": {},
   "outputs": [
    {
     "data": {
      "text/plain": [
       "array([[-0.1 ,  0.1 ,  0.06],\n",
       "       [ 0.08, -0.08,  0.07],\n",
       "       [ 0.11,  0.22, -0.19]])"
      ]
     },
     "execution_count": 3,
     "metadata": {},
     "output_type": "execute_result"
    },
    {
     "data": {
      "text/plain": [
       "array([[ 1.,  0.,  0.],\n",
       "       [ 0.,  1., -0.],\n",
       "       [ 0.,  0.,  1.]])"
      ]
     },
     "execution_count": 3,
     "metadata": {},
     "output_type": "execute_result"
    },
    {
     "data": {
      "text/plain": [
       "array([[ 1.,  0.,  0.],\n",
       "       [ 0.,  1., -0.],\n",
       "       [ 0.,  0.,  1.]])"
      ]
     },
     "execution_count": 3,
     "metadata": {},
     "output_type": "execute_result"
    }
   ],
   "source": [
    "A_1 = linalg.inv(A)\n",
    "A_1\n",
    "A@A_1\n",
    "A_1@A"
   ]
  },
  {
   "cell_type": "markdown",
   "metadata": {},
   "source": [
    "## 广义逆矩阵\n",
    "* pinv()"
   ]
  },
  {
   "cell_type": "code",
   "execution_count": 82,
   "metadata": {},
   "outputs": [
    {
     "data": {
      "text/plain": [
       "matrix([[-0.01,  0.07],\n",
       "        [ 0.02,  0.04],\n",
       "        [ 0.06, -0.06]])"
      ]
     },
     "execution_count": 82,
     "metadata": {},
     "output_type": "execute_result"
    },
    {
     "data": {
      "text/plain": [
       "(2, 3)"
      ]
     },
     "execution_count": 82,
     "metadata": {},
     "output_type": "execute_result"
    },
    {
     "data": {
      "text/plain": [
       "(3, 2)"
      ]
     },
     "execution_count": 82,
     "metadata": {},
     "output_type": "execute_result"
    },
    {
     "data": {
      "text/plain": [
       "matrix([[1., 0.],\n",
       "        [0., 1.]])"
      ]
     },
     "execution_count": 82,
     "metadata": {},
     "output_type": "execute_result"
    },
    {
     "data": {
      "text/plain": [
       "matrix([[ 0.56,  0.44, -0.22],\n",
       "        [ 0.44,  0.56,  0.22],\n",
       "        [-0.22,  0.22,  0.89]])"
      ]
     },
     "execution_count": 82,
     "metadata": {},
     "output_type": "execute_result"
    }
   ],
   "source": [
    "A = np.mat(\"4 11 14;8 7 -2\")\n",
    "# 使用pinv函数计算广义逆矩阵\n",
    "pseudoinv = linalg.pinv(A)\n",
    "pseudoinv\n",
    "A.shape\n",
    "pseudoinv.shape\n",
    "A@pseudoinv\n",
    "pseudoinv@A"
   ]
  },
  {
   "cell_type": "code",
   "execution_count": 74,
   "metadata": {},
   "outputs": [
    {
     "name": "stdout",
     "output_type": "stream",
     "text": [
      "Help on function pinv in module numpy.linalg:\n",
      "\n",
      "pinv(a, rcond=1e-15)\n",
      "    Compute the (Moore-Penrose) pseudo-inverse of a matrix.\n",
      "    \n",
      "    Calculate the generalized inverse of a matrix using its\n",
      "    singular-value decomposition (SVD) and including all\n",
      "    *large* singular values.\n",
      "    \n",
      "    .. versionchanged:: 1.14\n",
      "       Can now operate on stacks of matrices\n",
      "    \n",
      "    Parameters\n",
      "    ----------\n",
      "    a : (..., M, N) array_like\n",
      "        Matrix or stack of matrices to be pseudo-inverted.\n",
      "    rcond : (...) array_like of float\n",
      "        Cutoff for small singular values.\n",
      "        Singular values smaller (in modulus) than\n",
      "        `rcond` * largest_singular_value (again, in modulus)\n",
      "        are set to zero. Broadcasts against the stack of matrices\n",
      "    \n",
      "    Returns\n",
      "    -------\n",
      "    B : (..., N, M) ndarray\n",
      "        The pseudo-inverse of `a`. If `a` is a `matrix` instance, then so\n",
      "        is `B`.\n",
      "    \n",
      "    Raises\n",
      "    ------\n",
      "    LinAlgError\n",
      "        If the SVD computation does not converge.\n",
      "    \n",
      "    Notes\n",
      "    -----\n",
      "    The pseudo-inverse of a matrix A, denoted :math:`A^+`, is\n",
      "    defined as: \"the matrix that 'solves' [the least-squares problem]\n",
      "    :math:`Ax = b`,\" i.e., if :math:`\\bar{x}` is said solution, then\n",
      "    :math:`A^+` is that matrix such that :math:`\\bar{x} = A^+b`.\n",
      "    \n",
      "    It can be shown that if :math:`Q_1 \\Sigma Q_2^T = A` is the singular\n",
      "    value decomposition of A, then\n",
      "    :math:`A^+ = Q_2 \\Sigma^+ Q_1^T`, where :math:`Q_{1,2}` are\n",
      "    orthogonal matrices, :math:`\\Sigma` is a diagonal matrix consisting\n",
      "    of A's so-called singular values, (followed, typically, by\n",
      "    zeros), and then :math:`\\Sigma^+` is simply the diagonal matrix\n",
      "    consisting of the reciprocals of A's singular values\n",
      "    (again, followed by zeros). [1]_\n",
      "    \n",
      "    References\n",
      "    ----------\n",
      "    .. [1] G. Strang, *Linear Algebra and Its Applications*, 2nd Ed., Orlando,\n",
      "           FL, Academic Press, Inc., 1980, pp. 139-142.\n",
      "    \n",
      "    Examples\n",
      "    --------\n",
      "    The following example checks that ``a * a+ * a == a`` and\n",
      "    ``a+ * a * a+ == a+``:\n",
      "    \n",
      "    >>> a = np.random.randn(9, 6)\n",
      "    >>> B = np.linalg.pinv(a)\n",
      "    >>> np.allclose(a, np.dot(a, np.dot(B, a)))\n",
      "    True\n",
      "    >>> np.allclose(B, np.dot(B, np.dot(a, B)))\n",
      "    True\n",
      "\n"
     ]
    }
   ],
   "source": [
    "help(linalg.pinv)"
   ]
  },
  {
   "cell_type": "markdown",
   "metadata": {},
   "source": [
    "## 解线性方程\n",
    "\n",
    "* solve()"
   ]
  },
  {
   "cell_type": "code",
   "execution_count": 8,
   "metadata": {},
   "outputs": [
    {
     "data": {
      "text/plain": [
       "array([29., 16.,  3.])"
      ]
     },
     "execution_count": 8,
     "metadata": {},
     "output_type": "execute_result"
    }
   ],
   "source": [
    "B = np.array([1, -2, 1, 0, 2, -8, -4, 5, 9]).reshape(3, 3)\n",
    "b = np.array([0, 8, -9])\n",
    "# 调用solve函数求解线性方程\n",
    "C = np.linalg.solve(B, b)\n",
    "C"
   ]
  },
  {
   "cell_type": "markdown",
   "metadata": {},
   "source": [
    "## 特征值和特征向量\n",
    "* eigvals() &nbsp;只返回特征值\n",
    "* eig() &nbsp; 返回特征值和特征向量"
   ]
  },
  {
   "cell_type": "code",
   "execution_count": 35,
   "metadata": {},
   "outputs": [
    {
     "data": {
      "text/plain": [
       "array([[-1,  1,  0],\n",
       "       [-4,  3,  0],\n",
       "       [ 1,  0,  2]])"
      ]
     },
     "execution_count": 35,
     "metadata": {},
     "output_type": "execute_result"
    },
    {
     "data": {
      "text/plain": [
       "array([2., 1., 1.])"
      ]
     },
     "execution_count": 35,
     "metadata": {},
     "output_type": "execute_result"
    },
    {
     "data": {
      "text/plain": [
       "array([2., 1., 1.])"
      ]
     },
     "execution_count": 35,
     "metadata": {},
     "output_type": "execute_result"
    },
    {
     "data": {
      "text/plain": [
       "array([[2., 0., 0.],\n",
       "       [0., 1., 0.],\n",
       "       [0., 0., 1.]])"
      ]
     },
     "execution_count": 35,
     "metadata": {},
     "output_type": "execute_result"
    },
    {
     "data": {
      "text/plain": [
       "array([[ 0.  ,  0.41,  0.41],\n",
       "       [ 0.  ,  0.82,  0.82],\n",
       "       [ 1.  , -0.41, -0.41]])"
      ]
     },
     "execution_count": 35,
     "metadata": {},
     "output_type": "execute_result"
    },
    {
     "data": {
      "text/plain": [
       "'***'"
      ]
     },
     "execution_count": 35,
     "metadata": {},
     "output_type": "execute_result"
    },
    {
     "data": {
      "text/plain": [
       "array([[ 0.  ,  0.41,  0.41],\n",
       "       [ 0.  ,  0.82,  0.82],\n",
       "       [ 2.  , -0.41, -0.41]])"
      ]
     },
     "execution_count": 35,
     "metadata": {},
     "output_type": "execute_result"
    },
    {
     "data": {
      "text/plain": [
       "array([[ 0.  ,  0.41,  0.41],\n",
       "       [ 0.  ,  0.82,  0.82],\n",
       "       [ 2.  , -0.41, -0.41]])"
      ]
     },
     "execution_count": 35,
     "metadata": {},
     "output_type": "execute_result"
    }
   ],
   "source": [
    "# A = np.array([3, -1, -1, 3]).reshape(2, 2)\n",
    "# A = np.array([3, -2, 1, 0]).reshape(2, 2)\n",
    "A = np.array([-1,1,0,-4,3,0,1,0,2]).reshape(3, 3)\n",
    "A\n",
    "eigenvalues_ = linalg.eigvals(A)\n",
    "eigenvalues, eigenvectors = linalg.eig(A)\n",
    "eigenvalues_\n",
    "eigenvalues\n",
    "eigenvalues = np.diag(eigenvalues) # 化对角阵\n",
    "eigenvalues\n",
    "eigenvectors # 列向量\n",
    "\"***\"\n",
    "# 验证，注意顺序\n",
    "A@eigenvectors\n",
    "eigenvectors@eigenvalues\n",
    "# for i in eigenvalues_:\n",
    "#     i*eigenvectors.T"
   ]
  },
  {
   "cell_type": "markdown",
   "metadata": {},
   "source": [
    "## 奇异值分解\n",
    "\n",
    "* 函数：np.linalg.svd(a,full_matrices=1,compute_uv=1)。  \n",
    "* 参数：a是一个形如(M,N)矩阵full_matrices的取值是为0或者1，默认值为1，这时u的大小为(M,M)，v的大小为(N,N) 。否则u的大小为(M,K)，v的大小为(K,N) ，K=min(M,N)。compute_uv的取值是为0或者1，默认值为1，表示计算u,s,v。为0的时候只计算s。  \n",
    "* 返回值：总共有三个返回值u,s,v  \n",
    "    u大小为(M,M)，s大小为(M,N)，v大小为(N,N)。\n",
    "\n",
    "<font color=blue>\n",
    "关于奇异值的解释： <br> \n",
    "　　对于方阵而言$A=Q\\sum Q^{-1}$  <br>\n",
    "&emsp;&emsp;其中的$\\sum$就是特征向量。但是对于不是方阵的矩阵而言就没有特征向量。 <br>  \n",
    "&emsp;&emsp;非方阵的矩阵可以用奇异值分解来描述这个矩阵。A=$U\\sum V^T$。其中U叫做左奇异值，$\\sum$叫做奇异值，V叫做右奇异值。因为只有对角线的数不为0，并且数值是从大到小排列，所以一般只取r个，r的值越接近A的列数，那么三个矩阵的乘法得到的矩阵越接近A。   <br>\n",
    "&emsp;&emsp;因为三个矩阵的面积之和远远小于原矩阵A，所以当我们向压缩空间表达A的时候，可以使用这三个矩阵。 <br>  \n",
    "&emsp;&emsp;当A不是矩阵的时候，把A转置变为$A^T$。并且$A^T v=\\lambda v$。其中的$v$就是右奇异值。$\\partial = \\sqrt{\\lambda}$，这里的$\\partial$就是上面的奇异值。$u=\\frac{Av}{\\partial}$，这里的u就是上面的左奇异值。 <br>\n",
    "</font>"
   ]
  },
  {
   "cell_type": "code",
   "execution_count": 71,
   "metadata": {},
   "outputs": [
    {
     "data": {
      "text/plain": [
       "array([[ 4, 11, 14],\n",
       "       [ 8,  7, -2]])"
      ]
     },
     "execution_count": 71,
     "metadata": {},
     "output_type": "execute_result"
    },
    {
     "data": {
      "text/plain": [
       "array([[-0.95, -0.32],\n",
       "       [-0.32,  0.95]])"
      ]
     },
     "execution_count": 71,
     "metadata": {},
     "output_type": "execute_result"
    },
    {
     "data": {
      "text/plain": [
       "array([[18.97,  0.  ],\n",
       "       [ 0.  ,  9.49]])"
      ]
     },
     "execution_count": 71,
     "metadata": {},
     "output_type": "execute_result"
    },
    {
     "data": {
      "text/plain": [
       "array([[-0.33, -0.67, -0.67],\n",
       "       [ 0.67,  0.33, -0.67],\n",
       "       [-0.67,  0.67, -0.33]])"
      ]
     },
     "execution_count": 71,
     "metadata": {},
     "output_type": "execute_result"
    },
    {
     "data": {
      "text/plain": [
       "'***'"
      ]
     },
     "execution_count": 71,
     "metadata": {},
     "output_type": "execute_result"
    },
    {
     "data": {
      "text/plain": [
       "array([1., 1.])"
      ]
     },
     "execution_count": 71,
     "metadata": {},
     "output_type": "execute_result"
    },
    {
     "data": {
      "text/plain": [
       "array([1., 1.])"
      ]
     },
     "execution_count": 71,
     "metadata": {},
     "output_type": "execute_result"
    },
    {
     "data": {
      "text/plain": [
       "array([1., 1., 1.])"
      ]
     },
     "execution_count": 71,
     "metadata": {},
     "output_type": "execute_result"
    },
    {
     "data": {
      "text/plain": [
       "array([[ 1., -0., -0.],\n",
       "       [-0.,  1., -0.],\n",
       "       [-0., -0.,  1.]])"
      ]
     },
     "execution_count": 71,
     "metadata": {},
     "output_type": "execute_result"
    }
   ],
   "source": [
    "A = np.array([4, 11, 14, 8, 7, -2]).reshape(2,-1)\n",
    "U,Sigma,V = np.linalg.svd(A,full_matrices=1)\n",
    "A\n",
    "U\n",
    "Sigma = np.diag(Sigma)\n",
    "Sigma\n",
    "V\n",
    "\"***\"\n",
    "\n",
    "# U@Sigma\n",
    "# U@Sigma@V\n",
    "U[:,0]**2+U[:,1]**2\n",
    "U[0,:]**2+U[1,:]**2\n",
    "V[:,0]**2+V[:,1]**2+V[:,2]**2\n",
    "\n",
    "# V[0,:]**2+V[1,:]**2+V[2,:]**2\n",
    "# V[0,:]**2+V[1,:]**2\n",
    "V@V.T"
   ]
  },
  {
   "cell_type": "code",
   "execution_count": 72,
   "metadata": {},
   "outputs": [
    {
     "data": {
      "text/plain": [
       "matrix([[-0.39, -0.92],\n",
       "        [-0.92,  0.39]])"
      ]
     },
     "execution_count": 72,
     "metadata": {},
     "output_type": "execute_result"
    },
    {
     "data": {
      "text/plain": [
       "array([9.51, 0.77])"
      ]
     },
     "execution_count": 72,
     "metadata": {},
     "output_type": "execute_result"
    },
    {
     "data": {
      "text/plain": [
       "matrix([[-0.43, -0.57, -0.7 ],\n",
       "        [ 0.81,  0.11, -0.58],\n",
       "        [ 0.41, -0.82,  0.41]])"
      ]
     },
     "execution_count": 72,
     "metadata": {},
     "output_type": "execute_result"
    }
   ],
   "source": [
    "data = np.mat([[1,2,3],[4,5,6]])\n",
    "U,sigma,VT = np.linalg.svd(data)\n",
    "U #[[-0.3863177  -0.92236578] [-0.92236578  0.3863177 ]]\n",
    "sigma#[9.508032   0.77286964]\n",
    "VT#[[-0.42866713 -0.56630692 -0.7039467 ] [ 0.80596391  0.11238241 -0.58119908] [ 0.40824829 -0.81649658  0.40824829]]\n"
   ]
  },
  {
   "cell_type": "markdown",
   "metadata": {},
   "source": [
    "### main"
   ]
  },
  {
   "cell_type": "code",
   "execution_count": 301,
   "metadata": {},
   "outputs": [
    {
     "name": "stdout",
     "output_type": "stream",
     "text": [
      "原始矩阵 A:\n",
      " [[1 2 3]\n",
      " [4 5 6]]\n",
      "酉矩阵 U:\n",
      " [[-0.92 -0.39]\n",
      " [ 0.39 -0.92]]\n",
      "奇异值矩阵Σ:\n",
      " [[0 0 0]\n",
      " [0 9 0]]\n",
      "酉矩阵 V^T:\n",
      " [[-0.43 -0.57 -0.7 ]\n",
      " [-0.81 -0.11  0.58]\n",
      " [ 0.41 -0.82  0.41]]\n",
      "重构的矩阵 A:\n",
      " [[ 2.8   0.39 -2.02]\n",
      " [ 6.69  0.93 -4.82]]\n"
     ]
    }
   ],
   "source": [
    "import numpy as np\n",
    "\n",
    "# 定义一个示例矩阵 A\n",
    "A = np.array([[1, 2, 3],\n",
    "              [4, 5, 6]])\n",
    "\n",
    "# Step 1: 计算 A 和 A 的转置 A^T 的乘积\n",
    "AAT = np.dot(A, A.T)\n",
    "\n",
    "# Step 2: 计算 A 的转置 A^T 和 A 的乘积\n",
    "ATA = np.dot(A.T, A)\n",
    "\n",
    "# Step 3: 对 AAT 和 ATA 进行特征值分解\n",
    "eigenvalues_U, eigenvectors_U = np.linalg.eig(AAT)\n",
    "eigenvalues_V, eigenvectors_V = np.linalg.eig(ATA)\n",
    "\n",
    "# Step 4: 构造酉矩阵 U 和 V\n",
    "U = eigenvectors_U\n",
    "V = eigenvectors_V\n",
    "\n",
    "# Step 5: 计算奇异值\n",
    "singular_values = np.sqrt(eigenvalues_U)\n",
    "\n",
    "# 构造对角矩阵Σ\n",
    "Sigma = np.zeros_like(A)\n",
    "Sigma[:A.shape[0], :A.shape[0]] = np.diag(singular_values)\n",
    "\n",
    "# Step 6: 得到 SVD 分解结果\n",
    "U, Sigma, VT = U, Sigma, V.T\n",
    "\n",
    "# 输出结果\n",
    "print(\"原始矩阵 A:\\n\", A)\n",
    "print(\"酉矩阵 U:\\n\", U)\n",
    "print(\"奇异值矩阵Σ:\\n\", Sigma)\n",
    "print(\"酉矩阵 V^T:\\n\", VT)\n",
    "\n",
    "# 验证 SVD 分解结果\n",
    "reconstructed_A = np.dot(U, np.dot(Sigma, VT))\n",
    "print(\"重构的矩阵 A:\\n\", reconstructed_A)\n"
   ]
  },
  {
   "cell_type": "code",
   "execution_count": 304,
   "metadata": {},
   "outputs": [
    {
     "name": "stdout",
     "output_type": "stream",
     "text": [
      "原始矩阵 A:\n",
      " [[1 2 3]\n",
      " [4 5 6]]\n",
      "酉矩阵 U:\n",
      " [[-0.92 -0.39]\n",
      " [ 0.39 -0.92]]\n",
      "奇异值矩阵Σ:\n",
      " [[0 0 0]\n",
      " [0 9 0]]\n",
      "酉矩阵 V^T:\n",
      " [[-0.43 -0.57 -0.7 ]\n",
      " [-0.81 -0.11  0.58]\n",
      " [ 0.41 -0.82  0.41]]\n",
      "(2, 2)\n",
      "(2, 3)\n",
      "重构的矩阵 A:\n",
      " [[ 2.8   0.39 -2.02]\n",
      " [ 6.69  0.93 -4.82]]\n"
     ]
    }
   ],
   "source": [
    "import numpy as np\n",
    "\n",
    "# 定义一个示例矩阵 A\n",
    "A = np.array([[1, 2, 3],\n",
    "              [4, 5, 6]])\n",
    "\n",
    "# Step 1: 计算 A 和 A 的转置 A^T 的乘积\n",
    "AAT = np.dot(A, A.T)\n",
    "\n",
    "# Step 2: 计算 A 的转置 A^T 和 A 的乘积\n",
    "ATA = np.dot(A.T, A)\n",
    "\n",
    "# Step 3: 对 AAT 和 ATA 进行特征值分解\n",
    "eigenvalues_U, eigenvectors_U = np.linalg.eig(AAT)\n",
    "eigenvalues_V, eigenvectors_V = np.linalg.eig(ATA)\n",
    "\n",
    "# Step 4: 构造酉矩阵 U 和 V\n",
    "U = eigenvectors_U\n",
    "V = eigenvectors_V\n",
    "\n",
    "# Step 5: 计算奇异值\n",
    "singular_values = np.sqrt(eigenvalues_U)\n",
    "\n",
    "# 构造对角矩阵Σ\n",
    "Sigma = np.zeros_like(A)\n",
    "Sigma[:A.shape[0], :A.shape[0]] = np.diag(singular_values)\n",
    "\n",
    "# Step 6: 得到 SVD 分解结果\n",
    "U, Sigma, VT = U, Sigma, V.T\n",
    "\n",
    "# 输出结果\n",
    "print(\"原始矩阵 A:\\n\", A)\n",
    "print(\"酉矩阵 U:\\n\", U)\n",
    "print(\"奇异值矩阵Σ:\\n\", Sigma)\n",
    "print(\"酉矩阵 V^T:\\n\", VT)\n",
    "\n",
    "# 调整奇异值矩阵Σ的维度，变为与原始矩阵 A 相同的维度\n",
    "Sigma_adjusted = np.zeros_like(A)\n",
    "print(np.diag(singular_values).shape)\n",
    "print(Sigma_adjusted[:A.shape[0], :A.shape[1]].shape)\n",
    "# Sigma_adjusted[:A.shape[0], :A.shape[1]] = np.diag(singular_values)\n",
    "for i in range(len(singular_values)):\n",
    "    Sigma_adjusted[i][i] = singular_values[i]\n",
    "\n",
    "# 重构矩阵 A\n",
    "reconstructed_A = np.dot(U, np.dot(Sigma_adjusted, VT))\n",
    "\n",
    "\n",
    "# 验证 SVD 分解结果\n",
    "# reconstructed_A = np.dot(U, np.dot(Sigma, VT))\n",
    "print(\"重构的矩阵 A:\\n\", reconstructed_A)\n"
   ]
  },
  {
   "cell_type": "code",
   "execution_count": null,
   "metadata": {},
   "outputs": [],
   "source": []
  },
  {
   "cell_type": "code",
   "execution_count": 181,
   "metadata": {},
   "outputs": [
    {
     "ename": "ValueError",
     "evalue": "shapes (2,30) and (2,2) not aligned: 30 (dim 1) != 2 (dim 0)",
     "output_type": "error",
     "traceback": [
      "\u001b[0;31m---------------------------------------------------------------------------\u001b[0m",
      "\u001b[0;31mValueError\u001b[0m                                Traceback (most recent call last)",
      "Input \u001b[0;32mIn [181]\u001b[0m, in \u001b[0;36m<cell line: 27>\u001b[0;34m()\u001b[0m\n\u001b[1;32m     24\u001b[0m data \u001b[38;5;241m=\u001b[39m np\u001b[38;5;241m.\u001b[39mrandom\u001b[38;5;241m.\u001b[39mrand(\u001b[38;5;241m30\u001b[39m, \u001b[38;5;241m2\u001b[39m) \u001b[38;5;241m*\u001b[39m \u001b[38;5;241m10\u001b[39m\n\u001b[1;32m     26\u001b[0m \u001b[38;5;66;03m# Perform manual SVD\u001b[39;00m\n\u001b[0;32m---> 27\u001b[0m U_manual, S_manual, Vt_manual \u001b[38;5;241m=\u001b[39m \u001b[43mmanual_svd\u001b[49m\u001b[43m(\u001b[49m\u001b[43mdata\u001b[49m\u001b[43m)\u001b[49m\n\u001b[1;32m     29\u001b[0m \u001b[38;5;66;03m# Perform SVD using np.linalg.svd\u001b[39;00m\n\u001b[1;32m     30\u001b[0m U_np, S_np, Vt_np \u001b[38;5;241m=\u001b[39m np\u001b[38;5;241m.\u001b[39mlinalg\u001b[38;5;241m.\u001b[39msvd(data)\n",
      "Input \u001b[0;32mIn [181]\u001b[0m, in \u001b[0;36mmanual_svd\u001b[0;34m(X)\u001b[0m\n\u001b[1;32m     15\u001b[0m \u001b[38;5;66;03m# Step 4: Compute the singular values and singular vectors\u001b[39;00m\n\u001b[1;32m     16\u001b[0m singular_values \u001b[38;5;241m=\u001b[39m np\u001b[38;5;241m.\u001b[39msqrt(eigenvalues)\n\u001b[0;32m---> 17\u001b[0m singular_vectors \u001b[38;5;241m=\u001b[39m \u001b[43mnp\u001b[49m\u001b[38;5;241;43m.\u001b[39;49m\u001b[43mdot\u001b[49m\u001b[43m(\u001b[49m\u001b[43mX\u001b[49m\u001b[38;5;241;43m.\u001b[39;49m\u001b[43mT\u001b[49m\u001b[43m,\u001b[49m\u001b[43m \u001b[49m\u001b[43meigenvectors\u001b[49m\u001b[43m)\u001b[49m\n\u001b[1;32m     18\u001b[0m singular_vectors \u001b[38;5;241m/\u001b[39m\u001b[38;5;241m=\u001b[39m np\u001b[38;5;241m.\u001b[39mlinalg\u001b[38;5;241m.\u001b[39mnorm(singular_vectors, axis\u001b[38;5;241m=\u001b[39m\u001b[38;5;241m0\u001b[39m)\n\u001b[1;32m     20\u001b[0m \u001b[38;5;28;01mreturn\u001b[39;00m singular_vectors, singular_values, eigenvectors\u001b[38;5;241m.\u001b[39mT\n",
      "File \u001b[0;32m<__array_function__ internals>:180\u001b[0m, in \u001b[0;36mdot\u001b[0;34m(*args, **kwargs)\u001b[0m\n",
      "\u001b[0;31mValueError\u001b[0m: shapes (2,30) and (2,2) not aligned: 30 (dim 1) != 2 (dim 0)"
     ]
    }
   ],
   "source": [
    "import numpy as np\n",
    "\n",
    "def manual_svd(X):\n",
    "    # Step 1: Calculate the covariance matrix\n",
    "    cov_matrix = np.cov(X.T)\n",
    "    \n",
    "    # Step 2: Compute the eigenvectors and eigenvalues\n",
    "    eigenvalues, eigenvectors = np.linalg.eig(cov_matrix)\n",
    "    \n",
    "    # Step 3: Sort the eigenvectors and eigenvalues in descending order\n",
    "    idx = np.argsort(eigenvalues)[::-1]\n",
    "    eigenvalues = eigenvalues[idx]\n",
    "    eigenvectors = eigenvectors[:, idx]\n",
    "    \n",
    "    # Step 4: Compute the singular values and singular vectors\n",
    "    singular_values = np.sqrt(eigenvalues)\n",
    "    singular_vectors = np.dot(X.T, eigenvectors)\n",
    "    singular_vectors /= np.linalg.norm(singular_vectors, axis=0)\n",
    "    \n",
    "    return singular_vectors, singular_values, eigenvectors.T\n",
    "\n",
    "# Create example 2D data\n",
    "np.random.seed(0)\n",
    "data = np.random.rand(30, 2) * 10\n",
    "\n",
    "# Perform manual SVD\n",
    "U_manual, S_manual, Vt_manual = manual_svd(data)\n",
    "\n",
    "# Perform SVD using np.linalg.svd\n",
    "U_np, S_np, Vt_np = np.linalg.svd(data)\n",
    "\n",
    "# Compare results\n",
    "print(\"U (manual):\")\n",
    "print(U_manual)\n",
    "print(\"U (NumPy):\")\n",
    "print(U_np)\n",
    "print(\"S (manual):\")\n",
    "print(S_manual)\n",
    "print(\"S (NumPy):\")\n",
    "print(S_np)\n",
    "print(\"Vt (manual):\")\n",
    "print(Vt_manual)\n",
    "print(\"Vt (NumPy):\")\n",
    "print(Vt_np)\n"
   ]
  },
  {
   "cell_type": "code",
   "execution_count": 272,
   "metadata": {
    "scrolled": true
   },
   "outputs": [
    {
     "name": "stdout",
     "output_type": "stream",
     "text": [
      "[[ 1.23 -0.48  0.52 -0.32]\n",
      " [-0.48  0.64 -0.18  0.92]\n",
      " [ 0.52 -0.18  0.22 -0.09]\n",
      " [-0.32  0.92 -0.09  1.49]]\n",
      "(4,) (4, 4)\n",
      "[ 2.41  1.17 -0.    0.  ]\n",
      "U (manual):\n",
      "[[ 0.33 -0.86  0.58  0.58]\n",
      " [-0.76 -0.46  0.58  0.58]\n",
      " [ 0.56 -0.23  0.58  0.58]]\n"
     ]
    },
    {
     "name": "stderr",
     "output_type": "stream",
     "text": [
      "/tmp/ipykernel_39170/2426494733.py:18: RuntimeWarning: invalid value encountered in sqrt\n",
      "  singular_values = np.sqrt(eigenvalues)\n"
     ]
    }
   ],
   "source": [
    "import numpy as np\n",
    "\n",
    "def manual_svd(X):\n",
    "    # Step 1: Calculate the covariance matrix\n",
    "    cov_matrix = np.cov(X.T)\n",
    "    print(cov_matrix)\n",
    "    # Step 2: Compute the eigenvectors and eigenvalues\n",
    "    eigenvalues, eigenvectors = np.linalg.eig(cov_matrix)\n",
    "    print(eigenvalues.shape, eigenvectors.shape)\n",
    "    print(eigenvalues)\n",
    "#     eigenvalues[eigenvalues < 0] = 0\n",
    "    # Step 3: Sort the eigenvectors and eigenvalues in descending order\n",
    "    idx = np.argsort(eigenvalues)[::-1]\n",
    "    eigenvalues = eigenvalues[idx]\n",
    "    eigenvectors = eigenvectors[:, idx]\n",
    "    \n",
    "    # Step 4: Compute the singular values and singular vectors\n",
    "    singular_values = np.sqrt(eigenvalues)\n",
    "    singular_vectors = np.dot(X, eigenvectors)\n",
    "    singular_vectors /= np.linalg.norm(singular_vectors, axis=0)\n",
    "    \n",
    "    return singular_vectors, singular_values, eigenvectors.T\n",
    "\n",
    "# Create example 2D data\n",
    "np.random.seed(0)\n",
    "data = np.random.randn(3, 4) * 1\n",
    "\n",
    "# Perform manual SVD\n",
    "U_manual, S_manual, Vt_manual = manual_svd(data)\n",
    "\n",
    "# Perform SVD using np.linalg.svd\n",
    "U_np, S_np, Vt_np = np.linalg.svd(data)\n",
    "\n",
    "# Compare results\n",
    "print(\"U (manual):\")\n",
    "print(U_manual)\n",
    "# print(\"U (NumPy):\")\n",
    "# print(U_np)\n",
    "# print(\"S (manual):\")\n",
    "# print(S_manual)\n",
    "# print(\"S (NumPy):\")\n",
    "# print(S_np)\n",
    "# print(\"Vt (manual):\")\n",
    "# print(Vt_manual)\n",
    "# print(\"Vt (NumPy):\")\n",
    "# print(Vt_np)\n"
   ]
  },
  {
   "cell_type": "code",
   "execution_count": 274,
   "metadata": {},
   "outputs": [
    {
     "data": {
      "text/plain": [
       "(array([[ 0.86, -0.23,  0.45],\n",
       "        [ 0.43,  0.81, -0.4 ],\n",
       "        [ 0.27, -0.53, -0.8 ]]),\n",
       " array([3.47, 2.19, 0.3 ]),\n",
       " array([[ 0.66,  0.01,  0.37,  0.65],\n",
       "        [ 0.53, -0.5 ,  0.21, -0.65],\n",
       "        [ 0.43,  0.81, -0.19, -0.34],\n",
       "        [ 0.31, -0.29, -0.88,  0.19]]))"
      ]
     },
     "execution_count": 274,
     "metadata": {},
     "output_type": "execute_result"
    }
   ],
   "source": [
    "np.linalg.svd(data)"
   ]
  },
  {
   "cell_type": "code",
   "execution_count": 273,
   "metadata": {},
   "outputs": [
    {
     "data": {
      "text/plain": [
       "array([[ 1.23, -0.48,  0.52, -0.32],\n",
       "       [-0.48,  0.64, -0.18,  0.92],\n",
       "       [ 0.52, -0.18,  0.22, -0.09],\n",
       "       [-0.32,  0.92, -0.09,  1.49]])"
      ]
     },
     "execution_count": 273,
     "metadata": {},
     "output_type": "execute_result"
    },
    {
     "data": {
      "text/plain": [
       "array([ 2.41,  1.17, -0.  ,  0.  ])"
      ]
     },
     "execution_count": 273,
     "metadata": {},
     "output_type": "execute_result"
    }
   ],
   "source": [
    "np.cov(data.T)\n",
    "eva, evu = np.linalg.eig(np.cov(data.T))\n",
    "eva"
   ]
  },
  {
   "cell_type": "code",
   "execution_count": 255,
   "metadata": {},
   "outputs": [
    {
     "name": "stdout",
     "output_type": "stream",
     "text": [
      "U (manual):\n",
      "(30, 2)\n",
      "U (NumPy):\n",
      "(30, 30)\n",
      "S (manual):\n",
      "[2.87 2.69]\n",
      "S (NumPy):\n",
      "[42.65 15.25]\n",
      "Vt (manual):\n",
      "[[ 0.97 -0.24]\n",
      " [ 0.24  0.97]]\n",
      "Vt (NumPy):\n",
      "[[-0.68 -0.73]\n",
      " [ 0.73 -0.68]]\n"
     ]
    }
   ],
   "source": [
    "import numpy as np\n",
    "\n",
    "def manual_svd(X):\n",
    "    # Step 1: Calculate the covariance matrix\n",
    "    cov_matrix = np.cov(X.T)\n",
    "    \n",
    "    # Step 2: Compute the eigenvectors and eigenvalues\n",
    "    eigenvalues, eigenvectors = np.linalg.eig(cov_matrix)\n",
    "    \n",
    "    # Step 3: Sort the eigenvectors and eigenvalues in descending order\n",
    "    idx = np.argsort(eigenvalues)[::-1]\n",
    "    eigenvalues = eigenvalues[idx]\n",
    "    eigenvectors = eigenvectors[:, idx]\n",
    "    \n",
    "    # Step 4: Compute the singular values and singular vectors\n",
    "    singular_values = np.sqrt(eigenvalues)\n",
    "    singular_vectors = np.dot(X, eigenvectors)\n",
    "    singular_vectors /= np.linalg.norm(singular_vectors, axis=0)\n",
    "    \n",
    "    return singular_vectors, singular_values, eigenvectors.T\n",
    "\n",
    "# Create example 2D data\n",
    "np.random.seed(0)\n",
    "data = np.random.rand(30, 2) * 10\n",
    "\n",
    "# Perform manual SVD\n",
    "U_manual, S_manual, Vt_manual = manual_svd(data)\n",
    "\n",
    "# Perform SVD using np.linalg.svd\n",
    "U_np, S_np, Vt_np = np.linalg.svd(data)\n",
    "\n",
    "# Compare results\n",
    "print(\"U (manual):\")\n",
    "print(U_manual.shape)\n",
    "print(\"U (NumPy):\")\n",
    "print(U_np.shape)\n",
    "print(\"S (manual):\")\n",
    "print(S_manual)\n",
    "print(\"S (NumPy):\")\n",
    "print(S_np)\n",
    "print(\"Vt (manual):\")\n",
    "print(Vt_manual)\n",
    "print(\"Vt (NumPy):\")\n",
    "print(Vt_np)\n"
   ]
  },
  {
   "cell_type": "markdown",
   "metadata": {},
   "source": [
    "### test"
   ]
  },
  {
   "cell_type": "code",
   "execution_count": 222,
   "metadata": {},
   "outputs": [],
   "source": [
    "def get_diag(s, a):\n",
    "    ss = np.zeros_like(a)\n",
    "    for i in range(len(s)):\n",
    "        ss[i, i] = s[i]\n",
    "    return ss"
   ]
  },
  {
   "cell_type": "code",
   "execution_count": 189,
   "metadata": {},
   "outputs": [
    {
     "data": {
      "text/plain": [
       "array([[ 0.76,  0.12,  0.44,  0.33],\n",
       "       [ 1.49, -0.21,  0.31, -0.85],\n",
       "       [-2.55,  0.65,  0.86, -0.74]])"
      ]
     },
     "execution_count": 189,
     "metadata": {},
     "output_type": "execute_result"
    },
    {
     "data": {
      "text/plain": [
       "array([[-0.21,  0.11,  0.97],\n",
       "       [-0.42,  0.89, -0.19],\n",
       "       [ 0.89,  0.44,  0.14]])"
      ]
     },
     "execution_count": 189,
     "metadata": {},
     "output_type": "execute_result"
    },
    {
     "data": {
      "text/plain": [
       "array([3.18, 1.31, 0.68])"
      ]
     },
     "execution_count": 189,
     "metadata": {},
     "output_type": "execute_result"
    },
    {
     "data": {
      "text/plain": [
       "array([[-0.96,  0.2 ,  0.17, -0.12],\n",
       "       [ 0.22,  0.09,  0.55, -0.8 ],\n",
       "       [ 0.14,  0.37,  0.72,  0.57],\n",
       "       [-0.14, -0.9 ,  0.39,  0.12]])"
      ]
     },
     "execution_count": 189,
     "metadata": {},
     "output_type": "execute_result"
    },
    {
     "data": {
      "text/plain": [
       "array([[-0.96,  0.22,  0.14, -0.14],\n",
       "       [ 0.2 ,  0.09,  0.37, -0.9 ],\n",
       "       [ 0.17,  0.55,  0.72,  0.39],\n",
       "       [-0.12, -0.8 ,  0.57,  0.12]])"
      ]
     },
     "execution_count": 189,
     "metadata": {},
     "output_type": "execute_result"
    }
   ],
   "source": [
    "a = np.random.randn(3, 4)\n",
    "u,s,vt = np.linalg.svd(a)\n",
    "a\n",
    "u\n",
    "s\n",
    "vt\n",
    "v = vt.T\n",
    "v"
   ]
  },
  {
   "cell_type": "code",
   "execution_count": 289,
   "metadata": {},
   "outputs": [
    {
     "data": {
      "text/plain": [
       "array([[ 1., -0., -0.],\n",
       "       [-0.,  1.,  0.],\n",
       "       [-0.,  0.,  1.]])"
      ]
     },
     "execution_count": 289,
     "metadata": {},
     "output_type": "execute_result"
    }
   ],
   "source": [
    "u@u.T"
   ]
  },
  {
   "cell_type": "code",
   "execution_count": 190,
   "metadata": {},
   "outputs": [
    {
     "data": {
      "text/plain": [
       "array([[3.18, 0.  , 0.  , 0.  ],\n",
       "       [0.  , 1.31, 0.  , 0.  ],\n",
       "       [0.  , 0.  , 0.68, 0.  ]])"
      ]
     },
     "execution_count": 190,
     "metadata": {},
     "output_type": "execute_result"
    }
   ],
   "source": [
    "ss = np.zeros_like(a)\n",
    "for i in range(len(s)):\n",
    "    ss[i, i] = s[i]\n",
    "ss"
   ]
  },
  {
   "cell_type": "code",
   "execution_count": 191,
   "metadata": {},
   "outputs": [
    {
     "data": {
      "text/plain": [
       "array([[ 0.76,  0.12,  0.44,  0.33],\n",
       "       [ 1.49, -0.21,  0.31, -0.85],\n",
       "       [-2.55,  0.65,  0.86, -0.74]])"
      ]
     },
     "execution_count": 191,
     "metadata": {},
     "output_type": "execute_result"
    }
   ],
   "source": [
    "# 验证奇异值分解结果\n",
    "u @ ss @ vt"
   ]
  },
  {
   "cell_type": "code",
   "execution_count": 194,
   "metadata": {},
   "outputs": [
    {
     "data": {
      "text/plain": [
       "array([[ 0.9 ,  0.97, -1.73],\n",
       "       [ 0.97,  3.1 , -3.04],\n",
       "       [-1.73, -3.04,  8.24]])"
      ]
     },
     "execution_count": 194,
     "metadata": {},
     "output_type": "execute_result"
    },
    {
     "data": {
      "text/plain": [
       "array([[ 9.33, -1.88, -1.4 ,  0.87],\n",
       "       [-1.88,  0.48,  0.55, -0.27],\n",
       "       [-1.4 ,  0.55,  1.04, -0.76],\n",
       "       [ 0.87, -0.27, -0.76,  1.39]])"
      ]
     },
     "execution_count": 194,
     "metadata": {},
     "output_type": "execute_result"
    }
   ],
   "source": [
    "at = a.T\n",
    "aat = a @ at\n",
    "ata = at @ a\n",
    "aat\n",
    "ata"
   ]
  },
  {
   "cell_type": "code",
   "execution_count": 305,
   "metadata": {},
   "outputs": [
    {
     "data": {
      "text/plain": [
       "array([[ 0.21,  0.97,  0.11],\n",
       "       [ 0.42, -0.19,  0.89],\n",
       "       [-0.89,  0.14,  0.44]])"
      ]
     },
     "execution_count": 305,
     "metadata": {},
     "output_type": "execute_result"
    },
    {
     "data": {
      "text/plain": [
       "array([[ 0.96, -0.22, -0.14, -0.14],\n",
       "       [-0.2 , -0.09, -0.37, -0.9 ],\n",
       "       [-0.17, -0.55, -0.72,  0.39],\n",
       "       [ 0.12,  0.8 , -0.57,  0.12]])"
      ]
     },
     "execution_count": 305,
     "metadata": {},
     "output_type": "execute_result"
    },
    {
     "name": "stdout",
     "output_type": "stream",
     "text": [
      "------------\n"
     ]
    },
    {
     "data": {
      "text/plain": [
       "array([10.08,  1.71,  0.46])"
      ]
     },
     "execution_count": 305,
     "metadata": {},
     "output_type": "execute_result"
    },
    {
     "data": {
      "text/plain": [
       "array([10.08,  1.71,  0.46,  0.  ])"
      ]
     },
     "execution_count": 305,
     "metadata": {},
     "output_type": "execute_result"
    },
    {
     "data": {
      "text/plain": [
       "array([[ 9.65, -0.37, -0.06, -0.  ],\n",
       "       [-2.03, -0.16, -0.17,  0.  ],\n",
       "       [-1.72, -0.93, -0.33,  0.  ],\n",
       "       [ 1.18,  1.37, -0.26, -0.  ]])"
      ]
     },
     "execution_count": 305,
     "metadata": {},
     "output_type": "execute_result"
    },
    {
     "data": {
      "text/plain": [
       "array([[ 9.65, -0.37, -0.06, -0.  ],\n",
       "       [-2.03, -0.16, -0.17, -0.  ],\n",
       "       [-1.72, -0.93, -0.33,  0.  ],\n",
       "       [ 1.18,  1.37, -0.26,  0.  ]])"
      ]
     },
     "execution_count": 305,
     "metadata": {},
     "output_type": "execute_result"
    },
    {
     "data": {
      "text/plain": [
       "array([[3.18, 0.  , 0.  , 0.  ],\n",
       "       [0.  , 1.31, 0.  , 0.  ],\n",
       "       [0.  , 0.  , 0.68, 0.  ]])"
      ]
     },
     "execution_count": 305,
     "metadata": {},
     "output_type": "execute_result"
    },
    {
     "data": {
      "text/plain": [
       "array([[3.18, 0.  , 0.  , 0.  ],\n",
       "       [0.  , 1.31, 0.  , 0.  ],\n",
       "       [0.  , 0.  , 0.68, 0.  ]])"
      ]
     },
     "execution_count": 305,
     "metadata": {},
     "output_type": "execute_result"
    },
    {
     "data": {
      "text/plain": [
       "array([[ 0.52, -0.39, -0.67, -0.18],\n",
       "       [ 1.03, -0.32, -0.76,  1.16],\n",
       "       [-2.83,  0.48,  0.09,  0.08]])"
      ]
     },
     "execution_count": 305,
     "metadata": {},
     "output_type": "execute_result"
    },
    {
     "data": {
      "text/plain": [
       "array([[ 0.76,  0.12,  0.44,  0.33],\n",
       "       [ 1.49, -0.21,  0.31, -0.85],\n",
       "       [-2.55,  0.65,  0.86, -0.74]])"
      ]
     },
     "execution_count": 305,
     "metadata": {},
     "output_type": "execute_result"
    }
   ],
   "source": [
    "va1, ve1 = np.linalg.eig(aat)\n",
    "va2, ve2 = np.linalg.eig(ata)\n",
    "ve1\n",
    "ve2\n",
    "print(\"------------\")\n",
    "idx1 = np.argsort(va1)[::-1]\n",
    "idx2 = np.argsort(va2)[::-1]\n",
    "va1 = va1[idx1]\n",
    "va2 = va2[idx2]\n",
    "ve1 = ve1[:, idx1]\n",
    "ve2 = ve2[:, idx2]\n",
    "va1\n",
    "# ve1 # u\n",
    "# u\n",
    "va2\n",
    "# ve2 # v\n",
    "# vt.T\n",
    "ata @ ve2\n",
    "ve2 @ np.diag(va2)\n",
    "ss1 = np.sqrt(get_diag(va1, a))\n",
    "ss\n",
    "ss1\n",
    "ve1 @ ss1 @ ve2.T\n",
    "a"
   ]
  },
  {
   "cell_type": "code",
   "execution_count": 306,
   "metadata": {},
   "outputs": [
    {
     "data": {
      "text/plain": [
       "(array([[ 0.21,  0.11,  0.97],\n",
       "        [ 0.42,  0.89, -0.19],\n",
       "        [-0.89,  0.44,  0.14]]),\n",
       " array([[ 0.96, -0.22, -0.14, -0.14],\n",
       "        [-0.2 , -0.09, -0.37, -0.9 ],\n",
       "        [-0.17, -0.55, -0.72,  0.39],\n",
       "        [ 0.12,  0.8 , -0.57,  0.12]]))"
      ]
     },
     "execution_count": 306,
     "metadata": {},
     "output_type": "execute_result"
    }
   ],
   "source": [
    "ve1, ve2\n",
    "\n",
    "# for i in range(ve1.shape[0]):\n",
    "    "
   ]
  },
  {
   "cell_type": "code",
   "execution_count": 308,
   "metadata": {},
   "outputs": [
    {
     "name": "stdout",
     "output_type": "stream",
     "text": [
      "[]\n"
     ]
    }
   ],
   "source": [
    "import itertools\n",
    "\n",
    "# 示例列表\n",
    "my_list = [1, 2, 3, 4]\n",
    "\n",
    "# 计算列表的所有组合，长度为2\n",
    "combinations = list(itertools.combinations(my_list, 2))\n",
    "\n",
    "# 输出结果\n",
    "print(combinations)\n"
   ]
  },
  {
   "cell_type": "code",
   "execution_count": 309,
   "metadata": {},
   "outputs": [
    {
     "name": "stdout",
     "output_type": "stream",
     "text": [
      "[(1, 1, 1), (1, 1, -1), (1, -1, 1), (1, -1, -1), (-1, 1, 1), (-1, 1, -1), (-1, -1, 1), (-1, -1, -1)]\n"
     ]
    }
   ],
   "source": [
    "import itertools\n",
    "\n",
    "# 给定的元素集合\n",
    "elements = [1, -1]\n",
    "\n",
    "# 计算由1和-1组成的三个数的所有可能组合\n",
    "combinations = list(itertools.product(elements, repeat=3))\n",
    "\n",
    "# 输出结果\n",
    "print(combinations)\n"
   ]
  },
  {
   "cell_type": "code",
   "execution_count": 310,
   "metadata": {},
   "outputs": [
    {
     "name": "stdout",
     "output_type": "stream",
     "text": [
      "[(1, 1, 1), (1, 1, -1), (1, -1, 1), (1, -1, -1), (-1, 1, 1), (-1, 1, -1), (-1, -1, 1), (-1, -1, -1)]\n",
      "[(1, 1, 1, 1), (1, 1, 1, -1), (1, 1, -1, 1), (1, 1, -1, -1), (1, -1, 1, 1), (1, -1, 1, -1), (1, -1, -1, 1), (1, -1, -1, -1), (-1, 1, 1, 1), (-1, 1, 1, -1), (-1, 1, -1, 1), (-1, 1, -1, -1), (-1, -1, 1, 1), (-1, -1, 1, -1), (-1, -1, -1, 1), (-1, -1, -1, -1)]\n"
     ]
    }
   ],
   "source": [
    "import itertools\n",
    "# ve1, ve2\n",
    "# 给定的元素集合\n",
    "elements = [1, -1]\n",
    "\n",
    "# 计算由1和-1组成的三个数的所有可能组合\n",
    "combinations1 = list(itertools.product(elements, repeat=ve1.shape[0]))\n",
    "\n",
    "# 输出结果\n",
    "print(combinations1)\n",
    "# 计算由1和-1组成的三个数的所有可能组合\n",
    "combinations2 = list(itertools.product(elements, repeat=ve2.shape[0]))\n",
    "\n",
    "# 输出结果\n",
    "print(combinations2)"
   ]
  },
  {
   "cell_type": "code",
   "execution_count": 331,
   "metadata": {
    "scrolled": true
   },
   "outputs": [
    {
     "name": "stdout",
     "output_type": "stream",
     "text": [
      "----\n",
      "[[ 0.21  0.11  0.97]\n",
      " [ 0.42  0.89 -0.19]\n",
      " [-0.89  0.44  0.14]]\n",
      "[[ 0.96  0.22  0.14 -0.14]\n",
      " [-0.2   0.09  0.37 -0.9 ]\n",
      " [-0.17  0.55  0.72  0.39]\n",
      " [ 0.12 -0.8   0.57  0.12]]\n"
     ]
    },
    {
     "data": {
      "text/plain": [
       "(array([[-0.21,  0.11,  0.97],\n",
       "        [-0.42,  0.89, -0.19],\n",
       "        [ 0.89,  0.44,  0.14]]),\n",
       " array([[-0.96,  0.22,  0.14, -0.14],\n",
       "        [ 0.2 ,  0.09,  0.37, -0.9 ],\n",
       "        [ 0.17,  0.55,  0.72,  0.39],\n",
       "        [-0.12, -0.8 ,  0.57,  0.12]]))"
      ]
     },
     "execution_count": 331,
     "metadata": {},
     "output_type": "execute_result"
    }
   ],
   "source": [
    "v1, v2 = ve1.copy(), ve2.copy()\n",
    "for m1, m2 in list(itertools.product(combinations1, combinations2)):\n",
    "    d1,d2 = np.diag(m1),np.diag(m2)\n",
    "    u_ = v1 @ d1\n",
    "    v_ = v2 @ d2\n",
    "    a_ = u_ @ ss @ v_.T\n",
    "#     ss_ = u_.T @ a_ @ v_\n",
    "#     print(np.diagonal(ss_))\n",
    "#     a_\n",
    "    if (np.allclose(a_, a)):\n",
    "        print(\"----\")\n",
    "        print(u_)\n",
    "        print(v_)\n",
    "        break\n",
    "#     break\n",
    "u, v"
   ]
  },
  {
   "cell_type": "markdown",
   "metadata": {},
   "source": [
    "(array([[-0.21,  0.11,  0.97],\n",
    "        [-0.42,  0.89, -0.19],\n",
    "        [ 0.89,  0.44,  0.14]]),\n",
    " array([[-0.96,  0.22,  0.14, -0.14],\n",
    "        [ 0.2 ,  0.09,  0.37, -0.9 ],\n",
    "        [ 0.17,  0.55,  0.72,  0.39],\n",
    "        [-0.12, -0.8 ,  0.57,  0.12]]))"
   ]
  },
  {
   "cell_type": "code",
   "execution_count": 316,
   "metadata": {},
   "outputs": [
    {
     "data": {
      "text/plain": [
       "True"
      ]
     },
     "execution_count": 316,
     "metadata": {},
     "output_type": "execute_result"
    }
   ],
   "source": [
    "np.allclose(a, a)"
   ]
  },
  {
   "cell_type": "code",
   "execution_count": 332,
   "metadata": {},
   "outputs": [
    {
     "data": {
      "text/plain": [
       "array([[ 0.76,  0.12,  0.44,  0.33],\n",
       "       [ 1.49, -0.21,  0.31, -0.85],\n",
       "       [-2.55,  0.65,  0.86, -0.74]])"
      ]
     },
     "execution_count": 332,
     "metadata": {},
     "output_type": "execute_result"
    },
    {
     "data": {
      "text/plain": [
       "array([[3.18, 0.  , 0.  , 0.  ],\n",
       "       [0.  , 1.31, 0.  , 0.  ],\n",
       "       [0.  , 0.  , 0.68, 0.  ]])"
      ]
     },
     "execution_count": 332,
     "metadata": {},
     "output_type": "execute_result"
    },
    {
     "data": {
      "text/plain": [
       "array([[ 0.76,  0.12,  0.44,  0.33],\n",
       "       [ 1.49, -0.21,  0.31, -0.85],\n",
       "       [-2.55,  0.65,  0.86, -0.74]])"
      ]
     },
     "execution_count": 332,
     "metadata": {},
     "output_type": "execute_result"
    },
    {
     "data": {
      "text/plain": [
       "array([[ 0.76,  0.12,  0.44,  0.33],\n",
       "       [ 1.49, -0.21,  0.31, -0.85],\n",
       "       [-2.55,  0.65,  0.86, -0.74]])"
      ]
     },
     "execution_count": 332,
     "metadata": {},
     "output_type": "execute_result"
    }
   ],
   "source": [
    "a\n",
    "ss\n",
    "u @ ss @vt\n",
    "u_ @ ss @ v_.T"
   ]
  },
  {
   "cell_type": "code",
   "execution_count": null,
   "metadata": {},
   "outputs": [],
   "source": []
  },
  {
   "cell_type": "code",
   "execution_count": null,
   "metadata": {},
   "outputs": [],
   "source": []
  },
  {
   "cell_type": "code",
   "execution_count": null,
   "metadata": {},
   "outputs": [],
   "source": []
  },
  {
   "cell_type": "code",
   "execution_count": null,
   "metadata": {},
   "outputs": [],
   "source": []
  },
  {
   "cell_type": "code",
   "execution_count": null,
   "metadata": {},
   "outputs": [],
   "source": []
  },
  {
   "cell_type": "code",
   "execution_count": null,
   "metadata": {},
   "outputs": [],
   "source": []
  },
  {
   "cell_type": "code",
   "execution_count": 197,
   "metadata": {},
   "outputs": [
    {
     "data": {
      "text/plain": [
       "1.4571550031529077e-16"
      ]
     },
     "execution_count": 197,
     "metadata": {},
     "output_type": "execute_result"
    },
    {
     "data": {
      "text/plain": [
       "7.921782231695909"
      ]
     },
     "execution_count": 197,
     "metadata": {},
     "output_type": "execute_result"
    }
   ],
   "source": [
    "np.linalg.det(ata)\n",
    "np.linalg.det(aat)"
   ]
  },
  {
   "cell_type": "code",
   "execution_count": 207,
   "metadata": {},
   "outputs": [
    {
     "data": {
      "text/plain": [
       "array([[ 2.12,  0.19,  0.45],\n",
       "       [ 4.19,  1.52, -0.09],\n",
       "       [-8.92,  0.76,  0.06]])"
      ]
     },
     "execution_count": 207,
     "metadata": {},
     "output_type": "execute_result"
    },
    {
     "data": {
      "text/plain": [
       "array([[ 2.12,  1.15,  9.79],\n",
       "       [ 0.71,  1.52, -0.33],\n",
       "       [-0.41,  0.2 ,  0.06]])"
      ]
     },
     "execution_count": 207,
     "metadata": {},
     "output_type": "execute_result"
    },
    {
     "data": {
      "text/plain": [
       "array([[-2.12, -0.19, -0.45],\n",
       "       [-4.19, -1.52,  0.09],\n",
       "       [ 8.92, -0.76, -0.06]])"
      ]
     },
     "execution_count": 207,
     "metadata": {},
     "output_type": "execute_result"
    },
    {
     "data": {
      "text/plain": [
       "array([[-2.12, -1.15, -9.79],\n",
       "       [-0.71, -1.52,  0.33],\n",
       "       [ 0.41, -0.2 , -0.06]])"
      ]
     },
     "execution_count": 207,
     "metadata": {},
     "output_type": "execute_result"
    },
    {
     "data": {
      "text/plain": [
       "array([[ 9.65, -0.37, -0.06, -0.  ],\n",
       "       [-2.03, -0.16, -0.17,  0.  ],\n",
       "       [-1.72, -0.93, -0.33,  0.  ],\n",
       "       [ 1.18,  1.37, -0.26, -0.  ]])"
      ]
     },
     "execution_count": 207,
     "metadata": {},
     "output_type": "execute_result"
    },
    {
     "data": {
      "text/plain": [
       "array([[ 9.65, -2.17, -1.37, -1.37],\n",
       "       [-0.34, -0.16, -0.63, -1.54],\n",
       "       [-0.08, -0.25, -0.33,  0.18],\n",
       "       [ 0.  ,  0.  , -0.  ,  0.  ]])"
      ]
     },
     "execution_count": 207,
     "metadata": {},
     "output_type": "execute_result"
    },
    {
     "data": {
      "text/plain": [
       "array([[ 9.65, -0.37, -0.06, -0.  ],\n",
       "       [-2.03, -0.16, -0.17, -0.  ],\n",
       "       [-1.72, -0.93, -0.33,  0.  ],\n",
       "       [ 1.18,  1.37, -0.26,  0.  ]])"
      ]
     },
     "execution_count": 207,
     "metadata": {},
     "output_type": "execute_result"
    },
    {
     "data": {
      "text/plain": [
       "array([[-9.65,  0.37,  0.06,  0.  ],\n",
       "       [ 2.03,  0.16,  0.17, -0.  ],\n",
       "       [ 1.72,  0.93,  0.33, -0.  ],\n",
       "       [-1.18, -1.37,  0.26,  0.  ]])"
      ]
     },
     "execution_count": 207,
     "metadata": {},
     "output_type": "execute_result"
    },
    {
     "data": {
      "text/plain": [
       "array([[-9.65,  0.37,  0.06,  0.  ],\n",
       "       [ 2.03,  0.16,  0.17,  0.  ],\n",
       "       [ 1.72,  0.93,  0.33, -0.  ],\n",
       "       [-1.18, -1.37,  0.26, -0.  ]])"
      ]
     },
     "execution_count": 207,
     "metadata": {},
     "output_type": "execute_result"
    }
   ],
   "source": [
    "aat @ ve1\n",
    "np.diag(va1) @ ve1\n",
    "aat @ -ve1\n",
    "np.diag(va1) @ -ve1\n",
    "ata @ ve2\n",
    "np.diag(va2) @ ve2\n",
    "ve2 @ np.diag(va2)\n",
    "ata @ -ve2\n",
    "-ve2 @ np.diag(va2)\n",
    "# np.diag(va2) @ -ve2"
   ]
  },
  {
   "cell_type": "code",
   "execution_count": 212,
   "metadata": {},
   "outputs": [
    {
     "data": {
      "text/plain": [
       "array([3.18, 1.31, 0.68])"
      ]
     },
     "execution_count": 212,
     "metadata": {},
     "output_type": "execute_result"
    }
   ],
   "source": [
    "np.sqrt(va1)# 特征值"
   ]
  },
  {
   "cell_type": "code",
   "execution_count": 286,
   "metadata": {},
   "outputs": [
    {
     "data": {
      "text/plain": [
       "array([[-0.21,  0.11,  0.97],\n",
       "       [-0.42,  0.89, -0.19],\n",
       "       [ 0.89,  0.44,  0.14]])"
      ]
     },
     "execution_count": 286,
     "metadata": {},
     "output_type": "execute_result"
    },
    {
     "data": {
      "text/plain": [
       "array([[ 0.21,  0.11,  0.97],\n",
       "       [ 0.42,  0.89, -0.19],\n",
       "       [-0.89,  0.44,  0.14]])"
      ]
     },
     "execution_count": 286,
     "metadata": {},
     "output_type": "execute_result"
    },
    {
     "data": {
      "text/plain": [
       "array([[ 3.18, -0.  ,  0.  , -0.  ],\n",
       "       [ 0.  , -1.31,  0.  ,  0.  ],\n",
       "       [-0.  ,  0.  , -0.68,  0.  ]])"
      ]
     },
     "execution_count": 286,
     "metadata": {},
     "output_type": "execute_result"
    },
    {
     "data": {
      "text/plain": [
       "array([[ 3.18, -0.  , -0.  , -0.  ],\n",
       "       [ 0.  ,  1.31, -0.  , -0.  ],\n",
       "       [-0.  ,  0.  ,  0.68, -0.  ]])"
      ]
     },
     "execution_count": 286,
     "metadata": {},
     "output_type": "execute_result"
    },
    {
     "data": {
      "text/plain": [
       "array([[-0.96,  0.22,  0.14, -0.14],\n",
       "       [ 0.2 ,  0.09,  0.37, -0.9 ],\n",
       "       [ 0.17,  0.55,  0.72,  0.39],\n",
       "       [-0.12, -0.8 ,  0.57,  0.12]])"
      ]
     },
     "execution_count": 286,
     "metadata": {},
     "output_type": "execute_result"
    },
    {
     "data": {
      "text/plain": [
       "array([[-0.96,  0.22,  0.14,  0.14],\n",
       "       [ 0.2 ,  0.09,  0.37,  0.9 ],\n",
       "       [ 0.17,  0.55,  0.72, -0.39],\n",
       "       [-0.12, -0.8 ,  0.57, -0.12]])"
      ]
     },
     "execution_count": 286,
     "metadata": {},
     "output_type": "execute_result"
    }
   ],
   "source": [
    "ve1_1, ve2_1 = ve1.copy(), ve2.copy() \n",
    "u\n",
    "ve1_1\n",
    "ve1_1.T @ a @ ve2_1\n",
    "u.T @ a @ -ve2_1\n",
    "# ve1 @ ve1.T @ a @ ve2 @ ve2.T\n",
    "v\n",
    "-ve2_1"
   ]
  },
  {
   "cell_type": "code",
   "execution_count": 279,
   "metadata": {},
   "outputs": [
    {
     "data": {
      "text/plain": [
       "array([[ 0.21,  0.11,  0.97],\n",
       "       [ 0.42,  0.89, -0.19],\n",
       "       [-0.89,  0.44,  0.14]])"
      ]
     },
     "execution_count": 279,
     "metadata": {},
     "output_type": "execute_result"
    },
    {
     "data": {
      "text/plain": [
       "array([[-0.21,  0.11,  0.97],\n",
       "       [-0.42,  0.89, -0.19],\n",
       "       [ 0.89,  0.44,  0.14]])"
      ]
     },
     "execution_count": 279,
     "metadata": {},
     "output_type": "execute_result"
    },
    {
     "data": {
      "text/plain": [
       "array([[ 0.96, -0.22, -0.14, -0.14],\n",
       "       [-0.2 , -0.09, -0.37, -0.9 ],\n",
       "       [-0.17, -0.55, -0.72,  0.39],\n",
       "       [ 0.12,  0.8 , -0.57,  0.12]])"
      ]
     },
     "execution_count": 279,
     "metadata": {},
     "output_type": "execute_result"
    },
    {
     "data": {
      "text/plain": [
       "array([[-0.96,  0.22,  0.14, -0.14],\n",
       "       [ 0.2 ,  0.09,  0.37, -0.9 ],\n",
       "       [ 0.17,  0.55,  0.72,  0.39],\n",
       "       [-0.12, -0.8 ,  0.57,  0.12]])"
      ]
     },
     "execution_count": 279,
     "metadata": {},
     "output_type": "execute_result"
    }
   ],
   "source": [
    "ve1\n",
    "u\n",
    "ve2\n",
    "vt.T"
   ]
  },
  {
   "cell_type": "code",
   "execution_count": 137,
   "metadata": {},
   "outputs": [
    {
     "data": {
      "text/plain": [
       "array([[ 1.82, -0.  , -0.  ,  0.  ],\n",
       "       [-0.  ,  0.73, -0.  , -0.  ],\n",
       "       [-0.  ,  0.  ,  0.4 , -0.  ]])"
      ]
     },
     "execution_count": 137,
     "metadata": {},
     "output_type": "execute_result"
    }
   ],
   "source": [
    "u.T @ a @ vt.T"
   ]
  },
  {
   "cell_type": "code",
   "execution_count": 138,
   "metadata": {},
   "outputs": [
    {
     "data": {
      "text/plain": [
       "array([[ 0.87, -0.47, -0.15],\n",
       "       [-0.1 , -0.47,  0.88],\n",
       "       [ 0.49,  0.74,  0.46]])"
      ]
     },
     "execution_count": 138,
     "metadata": {},
     "output_type": "execute_result"
    },
    {
     "data": {
      "text/plain": [
       "array([[ 0.87, -0.47, -0.15],\n",
       "       [-0.1 , -0.47,  0.88],\n",
       "       [ 0.49,  0.74,  0.46]])"
      ]
     },
     "execution_count": 138,
     "metadata": {},
     "output_type": "execute_result"
    }
   ],
   "source": [
    "u\n",
    "ve1"
   ]
  },
  {
   "cell_type": "code",
   "execution_count": 140,
   "metadata": {},
   "outputs": [
    {
     "data": {
      "text/plain": [
       "array([[-0.6 , -0.04, -0.44, -0.67],\n",
       "       [ 0.06, -0.89,  0.37, -0.24],\n",
       "       [-0.43, -0.39, -0.43,  0.69],\n",
       "       [-0.68,  0.21,  0.7 ,  0.13]])"
      ]
     },
     "execution_count": 140,
     "metadata": {},
     "output_type": "execute_result"
    },
    {
     "data": {
      "text/plain": [
       "array([[ 0.6 ,  0.04, -0.44, -0.67],\n",
       "       [-0.06,  0.89,  0.37, -0.24],\n",
       "       [ 0.43,  0.39, -0.43,  0.69],\n",
       "       [ 0.68, -0.21,  0.7 ,  0.13]])"
      ]
     },
     "execution_count": 140,
     "metadata": {},
     "output_type": "execute_result"
    }
   ],
   "source": [
    "v = vt.T\n",
    "v\n",
    "ve2\n"
   ]
  },
  {
   "cell_type": "code",
   "execution_count": 219,
   "metadata": {},
   "outputs": [
    {
     "data": {
      "text/plain": [
       "array([[ 3.18,  0.  ,  0.  ,  0.  ],\n",
       "       [ 0.  , -1.31, -0.  , -0.  ],\n",
       "       [-0.  ,  0.  , -0.68, -0.  ]])"
      ]
     },
     "execution_count": 219,
     "metadata": {},
     "output_type": "execute_result"
    },
    {
     "data": {
      "text/plain": [
       "array([[-3.18,  0.  , -0.  ,  0.  ],\n",
       "       [-0.  ,  1.31, -0.  , -0.  ],\n",
       "       [ 0.  , -0.  ,  0.68, -0.  ]])"
      ]
     },
     "execution_count": 219,
     "metadata": {},
     "output_type": "execute_result"
    },
    {
     "data": {
      "text/plain": [
       "array([[-0.96,  0.22,  0.14, -0.14],\n",
       "       [ 0.2 ,  0.09,  0.37, -0.9 ],\n",
       "       [ 0.17,  0.55,  0.72,  0.39],\n",
       "       [-0.12, -0.8 ,  0.57,  0.12]])"
      ]
     },
     "execution_count": 219,
     "metadata": {},
     "output_type": "execute_result"
    },
    {
     "data": {
      "text/plain": [
       "array([[ 0.96, -0.22, -0.14, -0.14],\n",
       "       [-0.2 , -0.09, -0.37, -0.9 ],\n",
       "       [-0.17, -0.55, -0.72,  0.39],\n",
       "       [ 0.12,  0.8 , -0.57,  0.12]])"
      ]
     },
     "execution_count": 219,
     "metadata": {},
     "output_type": "execute_result"
    }
   ],
   "source": [
    "-ve1.T @ a @ v\n",
    "ve1.T @ a @ -ve2\n",
    "v\n",
    "ve2"
   ]
  },
  {
   "cell_type": "code",
   "execution_count": 225,
   "metadata": {},
   "outputs": [
    {
     "data": {
      "text/plain": [
       "array([3.18, 1.31, 0.68])"
      ]
     },
     "execution_count": 225,
     "metadata": {},
     "output_type": "execute_result"
    },
    {
     "data": {
      "text/plain": [
       "array([10.08,  1.71,  0.46])"
      ]
     },
     "execution_count": 225,
     "metadata": {},
     "output_type": "execute_result"
    },
    {
     "data": {
      "text/plain": [
       "array([[ 0.21,  0.11,  0.97],\n",
       "       [ 0.42,  0.89, -0.19],\n",
       "       [-0.89,  0.44,  0.14]])"
      ]
     },
     "execution_count": 225,
     "metadata": {},
     "output_type": "execute_result"
    },
    {
     "data": {
      "text/plain": [
       "array([[-0.21,  0.11,  0.97],\n",
       "       [-0.42,  0.89, -0.19],\n",
       "       [ 0.89,  0.44,  0.14]])"
      ]
     },
     "execution_count": 225,
     "metadata": {},
     "output_type": "execute_result"
    },
    {
     "data": {
      "text/plain": [
       "array([10.08,  1.71,  0.46,  0.  ])"
      ]
     },
     "execution_count": 225,
     "metadata": {},
     "output_type": "execute_result"
    },
    {
     "data": {
      "text/plain": [
       "array([[ 0.96, -0.22, -0.14, -0.14],\n",
       "       [-0.2 , -0.09, -0.37, -0.9 ],\n",
       "       [-0.17, -0.55, -0.72,  0.39],\n",
       "       [ 0.12,  0.8 , -0.57,  0.12]])"
      ]
     },
     "execution_count": 225,
     "metadata": {},
     "output_type": "execute_result"
    },
    {
     "data": {
      "text/plain": [
       "array([[-0.96,  0.22,  0.14, -0.14],\n",
       "       [ 0.2 ,  0.09,  0.37, -0.9 ],\n",
       "       [ 0.17,  0.55,  0.72,  0.39],\n",
       "       [-0.12, -0.8 ,  0.57,  0.12]])"
      ]
     },
     "execution_count": 225,
     "metadata": {},
     "output_type": "execute_result"
    },
    {
     "data": {
      "text/plain": [
       "array([[-0.96,  0.2 ,  0.17, -0.12],\n",
       "       [ 0.22,  0.09,  0.55, -0.8 ],\n",
       "       [ 0.14,  0.37,  0.72,  0.57],\n",
       "       [-0.14, -0.9 ,  0.39,  0.12]])"
      ]
     },
     "execution_count": 225,
     "metadata": {},
     "output_type": "execute_result"
    }
   ],
   "source": [
    "s\n",
    "va1\n",
    "ve1\n",
    "u\n",
    "va2\n",
    "ve2\n",
    "v\n",
    "vt"
   ]
  },
  {
   "cell_type": "code",
   "execution_count": 230,
   "metadata": {},
   "outputs": [
    {
     "data": {
      "text/plain": [
       "array([[ 0.76,  0.12,  0.44,  0.33],\n",
       "       [ 1.49, -0.21,  0.31, -0.85],\n",
       "       [-2.55,  0.65,  0.86, -0.74]])"
      ]
     },
     "execution_count": 230,
     "metadata": {},
     "output_type": "execute_result"
    },
    {
     "data": {
      "text/plain": [
       "array([[ 0.52, -0.39, -0.67, -0.18],\n",
       "       [ 1.03, -0.32, -0.76,  1.16],\n",
       "       [-2.83,  0.48,  0.09,  0.08]])"
      ]
     },
     "execution_count": 230,
     "metadata": {},
     "output_type": "execute_result"
    },
    {
     "data": {
      "text/plain": [
       "array([[ 0.76,  0.12,  0.44,  0.33],\n",
       "       [ 1.49, -0.21,  0.31, -0.85],\n",
       "       [-2.55,  0.65,  0.86, -0.74]])"
      ]
     },
     "execution_count": 230,
     "metadata": {},
     "output_type": "execute_result"
    }
   ],
   "source": [
    "a\n",
    "ve1 @ np.sqrt(get_diag(va1, a)) @ ve2.T\n",
    "u @ ss @ vt"
   ]
  },
  {
   "cell_type": "code",
   "execution_count": 234,
   "metadata": {},
   "outputs": [
    {
     "data": {
      "text/plain": [
       "array([[10.08,  0.  ,  0.  ,  0.  ],\n",
       "       [ 0.  ,  1.71,  0.  ,  0.  ],\n",
       "       [ 0.  ,  0.  ,  0.46,  0.  ]])"
      ]
     },
     "execution_count": 234,
     "metadata": {},
     "output_type": "execute_result"
    },
    {
     "data": {
      "text/plain": [
       "array([[3.18, 0.  , 0.  , 0.  ],\n",
       "       [0.  , 1.31, 0.  , 0.  ],\n",
       "       [0.  , 0.  , 0.68, 0.  ]])"
      ]
     },
     "execution_count": 234,
     "metadata": {},
     "output_type": "execute_result"
    },
    {
     "data": {
      "text/plain": [
       "array([[ 0.76,  0.12,  0.44,  0.33],\n",
       "       [ 1.49, -0.21,  0.31, -0.85],\n",
       "       [-2.55,  0.65,  0.86, -0.74]])"
      ]
     },
     "execution_count": 234,
     "metadata": {},
     "output_type": "execute_result"
    }
   ],
   "source": [
    "get_diag(va1, a)\n",
    "ss2 = np.sqrt(get_diag(va1, a))\n",
    "ss\n",
    "u @ ss2 @ vt"
   ]
  },
  {
   "cell_type": "code",
   "execution_count": 243,
   "metadata": {},
   "outputs": [
    {
     "data": {
      "text/plain": [
       "array([[-0.96,  0.22,  0.14, -0.14],\n",
       "       [ 0.2 ,  0.09,  0.37, -0.9 ],\n",
       "       [ 0.17,  0.55,  0.72,  0.39],\n",
       "       [-0.12, -0.8 ,  0.57,  0.12]])"
      ]
     },
     "execution_count": 243,
     "metadata": {},
     "output_type": "execute_result"
    },
    {
     "data": {
      "text/plain": [
       "array([[ 0.96, -0.22, -0.14, -0.14],\n",
       "       [-0.2 , -0.09, -0.37, -0.9 ],\n",
       "       [-0.17, -0.55, -0.72,  0.39],\n",
       "       [ 0.12,  0.8 , -0.57,  0.12]])"
      ]
     },
     "execution_count": 243,
     "metadata": {},
     "output_type": "execute_result"
    },
    {
     "data": {
      "text/plain": [
       "4.163336342344337e-17"
      ]
     },
     "execution_count": 243,
     "metadata": {},
     "output_type": "execute_result"
    },
    {
     "data": {
      "text/plain": [
       "-2.7755575615628914e-16"
      ]
     },
     "execution_count": 243,
     "metadata": {},
     "output_type": "execute_result"
    },
    {
     "data": {
      "text/plain": [
       "array([[1.]])"
      ]
     },
     "execution_count": 243,
     "metadata": {},
     "output_type": "execute_result"
    }
   ],
   "source": [
    "v\n",
    "ve2\n",
    "np.dot(v[:,0],v[:,1])\n",
    "np.dot(ve2[:,1],ve2[:,3])\n",
    "np.dot(ve2[:,1:2].T,ve2[:,1:2])"
   ]
  },
  {
   "cell_type": "code",
   "execution_count": null,
   "metadata": {},
   "outputs": [],
   "source": []
  },
  {
   "cell_type": "code",
   "execution_count": null,
   "metadata": {},
   "outputs": [],
   "source": []
  },
  {
   "cell_type": "code",
   "execution_count": null,
   "metadata": {},
   "outputs": [],
   "source": []
  },
  {
   "cell_type": "markdown",
   "metadata": {},
   "source": [
    "### test2"
   ]
  },
  {
   "cell_type": "code",
   "execution_count": 288,
   "metadata": {},
   "outputs": [
    {
     "data": {
      "text/plain": [
       "array([[ 3, -2],\n",
       "       [ 3,  2]])"
      ]
     },
     "execution_count": 288,
     "metadata": {},
     "output_type": "execute_result"
    }
   ],
   "source": [
    "sig = np.array([[3, 0],\n",
    "                [0, 2]])\n",
    "um = np.array([[1,-1],\n",
    "              [1,1]])\n",
    "um@sig"
   ]
  },
  {
   "cell_type": "code",
   "execution_count": 350,
   "metadata": {},
   "outputs": [],
   "source": [
    "def get_diag(s, a):\n",
    "    ss = np.zeros_like(a)\n",
    "#     print(ss.shape)\n",
    "    for i in range(len(s)):\n",
    "        if (i == ss.shape[1]):break\n",
    "        ss[i, i] = s[i]\n",
    "    return ss"
   ]
  },
  {
   "cell_type": "code",
   "execution_count": 383,
   "metadata": {},
   "outputs": [
    {
     "data": {
      "text/plain": [
       "array([[ 0.01,  1.79,  0.13],\n",
       "       [ 0.4 ,  1.88, -1.35],\n",
       "       [-1.27,  0.97, -1.17],\n",
       "       [ 1.94, -0.41, -0.75]])"
      ]
     },
     "execution_count": 383,
     "metadata": {},
     "output_type": "execute_result"
    },
    {
     "data": {
      "text/plain": [
       "array([[ 0.48, -0.03,  0.73, -0.48],\n",
       "       [ 0.69, -0.39, -0.07,  0.6 ],\n",
       "       [ 0.52,  0.31, -0.64, -0.47],\n",
       "       [-0.14, -0.86, -0.22, -0.43]])"
      ]
     },
     "execution_count": 383,
     "metadata": {},
     "output_type": "execute_result"
    },
    {
     "data": {
      "text/plain": [
       "array([3.12, 2.38, 1.33])"
      ]
     },
     "execution_count": 383,
     "metadata": {},
     "output_type": "execute_result"
    },
    {
     "data": {
      "text/plain": [
       "array([[-0.21,  0.87, -0.44],\n",
       "       [-0.94, -0.05,  0.34],\n",
       "       [ 0.27,  0.49,  0.83]])"
      ]
     },
     "execution_count": 383,
     "metadata": {},
     "output_type": "execute_result"
    },
    {
     "data": {
      "text/plain": [
       "array([[-0.21, -0.94,  0.27],\n",
       "       [ 0.87, -0.05,  0.49],\n",
       "       [-0.44,  0.34,  0.83]])"
      ]
     },
     "execution_count": 383,
     "metadata": {},
     "output_type": "execute_result"
    },
    {
     "data": {
      "text/plain": [
       "array([[3.12, 0.  , 0.  ],\n",
       "       [0.  , 2.38, 0.  ],\n",
       "       [0.  , 0.  , 1.33],\n",
       "       [0.  , 0.  , 0.  ]])"
      ]
     },
     "execution_count": 383,
     "metadata": {},
     "output_type": "execute_result"
    }
   ],
   "source": [
    "a = np.random.randn(4, 3)\n",
    "u,s,vt = np.linalg.svd(a)\n",
    "a\n",
    "u\n",
    "s\n",
    "vt\n",
    "v = vt.T\n",
    "v\n",
    "ss = np.zeros_like(a)\n",
    "for i in range(len(s)):\n",
    "    ss[i, i] = s[i]\n",
    "ss"
   ]
  },
  {
   "cell_type": "code",
   "execution_count": 338,
   "metadata": {},
   "outputs": [
    {
     "data": {
      "text/plain": [
       "array([[ 2.27, -1.45,  0.05],\n",
       "       [-0.19,  1.53,  1.47],\n",
       "       [ 0.15,  0.38, -0.89],\n",
       "       [-1.98, -0.35,  0.16]])"
      ]
     },
     "execution_count": 338,
     "metadata": {},
     "output_type": "execute_result"
    },
    {
     "data": {
      "text/plain": [
       "array([[ 2.27, -1.45,  0.05],\n",
       "       [-0.19,  1.53,  1.47],\n",
       "       [ 0.15,  0.38, -0.89],\n",
       "       [-1.98, -0.35,  0.16]])"
      ]
     },
     "execution_count": 338,
     "metadata": {},
     "output_type": "execute_result"
    }
   ],
   "source": [
    "# 验证奇异值分解结果\n",
    "u @ ss @ vt\n",
    "a"
   ]
  },
  {
   "cell_type": "code",
   "execution_count": 396,
   "metadata": {
    "scrolled": false
   },
   "outputs": [
    {
     "data": {
      "text/plain": [
       "array([[-0.92,  0.17,  0.31,  0.18],\n",
       "       [ 0.2 ,  0.58,  0.57, -0.55],\n",
       "       [-0.33, -0.35, -0.31, -0.82],\n",
       "       [ 0.1 , -0.71,  0.69,  0.  ]])"
      ]
     },
     "execution_count": 396,
     "metadata": {},
     "output_type": "execute_result"
    },
    {
     "data": {
      "text/plain": [
       "array([[ 0.32, -0.83, -0.46],\n",
       "       [-0.91, -0.13, -0.4 ],\n",
       "       [-0.27, -0.54,  0.79]])"
      ]
     },
     "execution_count": 396,
     "metadata": {},
     "output_type": "execute_result"
    },
    {
     "name": "stdout",
     "output_type": "stream",
     "text": [
      "------------\n"
     ]
    },
    {
     "data": {
      "text/plain": [
       "array([4.42, 3.84, 1.22, 0.  ])"
      ]
     },
     "execution_count": 396,
     "metadata": {},
     "output_type": "execute_result"
    },
    {
     "data": {
      "text/plain": [
       "array([4.42, 3.84, 1.22])"
      ]
     },
     "execution_count": 396,
     "metadata": {},
     "output_type": "execute_result"
    },
    {
     "name": "stdout",
     "output_type": "stream",
     "text": [
      "[[2.1  0.   0.  ]\n",
      " [0.   1.96 0.  ]\n",
      " [0.   0.   1.1 ]\n",
      " [0.   0.   0.  ]]\n"
     ]
    },
    {
     "data": {
      "text/plain": [
       "array([[2.1 , 0.  , 0.  ],\n",
       "       [0.  , 1.96, 0.  ],\n",
       "       [0.  , 0.  , 1.1 ],\n",
       "       [0.  , 0.  , 0.  ]])"
      ]
     },
     "execution_count": 396,
     "metadata": {},
     "output_type": "execute_result"
    }
   ],
   "source": [
    "a = np.random.randn(4, 3)\n",
    "u,s,vt = np.linalg.svd(a)\n",
    "# a\n",
    "# u\n",
    "# s\n",
    "# vt\n",
    "v = vt.T\n",
    "# v\n",
    "ss = np.zeros_like(a)\n",
    "for i in range(len(s)):\n",
    "    ss[i, i] = s[i]\n",
    "# ss\n",
    "at = a.T\n",
    "aat = a @ at\n",
    "ata = at @ a\n",
    "# aat\n",
    "# ata\n",
    "va1, ve1 = np.linalg.eig(aat)\n",
    "va2, ve2 = np.linalg.eig(ata)\n",
    "ve1\n",
    "ve2\n",
    "print(\"------------\")\n",
    "idx1 = np.argsort(va1)[::-1]\n",
    "idx2 = np.argsort(va2)[::-1]\n",
    "va1 = va1[idx1]\n",
    "va2 = va2[idx2]\n",
    "ve1 = ve1[:, idx1]\n",
    "ve2 = ve2[:, idx2]\n",
    "va1\n",
    "# va1.shape, va2.shape\n",
    "# ve1 # u\n",
    "# u\n",
    "va2\n",
    "# va = va1 if len(va1) < len(va2) else va2\n",
    "ss_ = np.sqrt(get_diag(va1, a))\n",
    "print(ss_)\n",
    "# ss\n",
    "# ve2 # v\n",
    "# vt.T\n",
    "# ata @ ve2\n",
    "# ve2 @ np.diag(va2)\n",
    "# ss1 = np.sqrt(get_diag(va1, a))\n",
    "# ss\n",
    "# ss1\n",
    "# ve1 @ ss1 @ ve2.T\n",
    "# a"
   ]
  },
  {
   "cell_type": "code",
   "execution_count": 398,
   "metadata": {},
   "outputs": [
    {
     "name": "stdout",
     "output_type": "stream",
     "text": [
      "[(1, 1, 1, 1), (1, 1, 1, -1), (1, 1, -1, 1), (1, 1, -1, -1), (1, -1, 1, 1), (1, -1, 1, -1), (1, -1, -1, 1), (1, -1, -1, -1), (-1, 1, 1, 1), (-1, 1, 1, -1), (-1, 1, -1, 1), (-1, 1, -1, -1), (-1, -1, 1, 1), (-1, -1, 1, -1), (-1, -1, -1, 1), (-1, -1, -1, -1)]\n",
      "[(1, 1, 1), (1, 1, -1), (1, -1, 1), (1, -1, -1), (-1, 1, 1), (-1, 1, -1), (-1, -1, 1), (-1, -1, -1)]\n",
      "----\n",
      "[[ 0.31  0.18  0.17 -0.92]\n",
      " [ 0.57 -0.55  0.58  0.2 ]\n",
      " [-0.31 -0.82 -0.35 -0.33]\n",
      " [ 0.69  0.   -0.71  0.1 ]]\n",
      "[[-0.83 -0.46  0.32]\n",
      " [-0.13 -0.4  -0.91]\n",
      " [-0.54  0.79 -0.27]]\n"
     ]
    },
    {
     "data": {
      "text/plain": [
       "(array([[-0.31,  0.18,  0.17, -0.92],\n",
       "        [-0.57, -0.55,  0.58,  0.2 ],\n",
       "        [ 0.31, -0.82, -0.35, -0.33],\n",
       "        [-0.69,  0.  , -0.71,  0.1 ]]),\n",
       " array([[ 0.83, -0.46,  0.32],\n",
       "        [ 0.13, -0.4 , -0.91],\n",
       "        [ 0.54,  0.79, -0.27]]))"
      ]
     },
     "execution_count": 398,
     "metadata": {},
     "output_type": "execute_result"
    },
    {
     "data": {
      "text/plain": [
       "array([[-0.64, -0.4 , -0.13],\n",
       "       [-0.3 , -0.31, -1.68],\n",
       "       [ 1.15,  1.08, -0.81],\n",
       "       [-1.47,  0.52, -0.58]])"
      ]
     },
     "execution_count": 398,
     "metadata": {},
     "output_type": "execute_result"
    },
    {
     "data": {
      "text/plain": [
       "array([[-0.64, -0.4 , -0.13],\n",
       "       [-0.3 , -0.31, -1.68],\n",
       "       [ 1.15,  1.08, -0.81],\n",
       "       [-1.47,  0.52, -0.58]])"
      ]
     },
     "execution_count": 398,
     "metadata": {},
     "output_type": "execute_result"
    }
   ],
   "source": [
    "import itertools\n",
    "# ve1, ve2\n",
    "# 给定的元素集合\n",
    "elements = [1, -1]\n",
    "\n",
    "# 计算由1和-1组成的三个数的所有可能组合\n",
    "combinations1 = list(itertools.product(elements, repeat=ve1.shape[0]))\n",
    "\n",
    "# 输出结果\n",
    "print(combinations1)\n",
    "# 计算由1和-1组成的三个数的所有可能组合\n",
    "combinations2 = list(itertools.product(elements, repeat=ve2.shape[0]))\n",
    "\n",
    "# 输出结果\n",
    "print(combinations2)\n",
    "v1, v2 = ve1.copy(), ve2.copy()\n",
    "for m1, m2 in list(itertools.product(combinations1, combinations2)):\n",
    "    d1,d2 = np.diag(m1),np.diag(m2)\n",
    "    u_ = v1 @ d1\n",
    "    v_ = v2 @ d2\n",
    "    a_ = u_ @ ss_ @ v_.T\n",
    "#     ss_ = u_.T @ a_ @ v_\n",
    "#     print(np.diagonal(ss_))\n",
    "#     a_\n",
    "    if (np.allclose(a_, a)):\n",
    "        print(\"----\")\n",
    "        print(u_)\n",
    "        print(v_)\n",
    "        break\n",
    "#     break\n",
    "u, v\n",
    "u_ @ ss @ v_.T\n",
    "a"
   ]
  },
  {
   "cell_type": "code",
   "execution_count": 359,
   "metadata": {
    "scrolled": true
   },
   "outputs": [
    {
     "data": {
      "text/plain": [
       "array([[ 1.23,  1.2 , -0.39],\n",
       "       [-0.3 , -1.05, -1.42],\n",
       "       [-1.71,  1.95, -0.51],\n",
       "       [-0.44, -1.25,  0.78]])"
      ]
     },
     "execution_count": 359,
     "metadata": {},
     "output_type": "execute_result"
    }
   ],
   "source": [
    "a"
   ]
  },
  {
   "cell_type": "code",
   "execution_count": 403,
   "metadata": {},
   "outputs": [
    {
     "data": {
      "text/plain": [
       "array([[-0.31,  0.18,  0.17, -0.92],\n",
       "       [-0.57, -0.55,  0.58,  0.2 ],\n",
       "       [ 0.31, -0.82, -0.35, -0.33],\n",
       "       [-0.69,  0.  , -0.71,  0.1 ]])"
      ]
     },
     "execution_count": 403,
     "metadata": {},
     "output_type": "execute_result"
    },
    {
     "data": {
      "text/plain": [
       "array([[ 1.,  0., -0.,  0.],\n",
       "       [ 0.,  1.,  0.,  0.],\n",
       "       [-0.,  0.,  1., -0.],\n",
       "       [ 0.,  0., -0.,  1.]])"
      ]
     },
     "execution_count": 403,
     "metadata": {},
     "output_type": "execute_result"
    },
    {
     "data": {
      "text/plain": [
       "array([[ 1., -0.,  0.,  0.],\n",
       "       [-0.,  1.,  0.,  0.],\n",
       "       [ 0.,  0.,  1.,  0.],\n",
       "       [ 0.,  0.,  0.,  1.]])"
      ]
     },
     "execution_count": 403,
     "metadata": {},
     "output_type": "execute_result"
    }
   ],
   "source": [
    "u\n",
    "u @ u.T\n",
    "u.T @ u"
   ]
  },
  {
   "cell_type": "code",
   "execution_count": 407,
   "metadata": {},
   "outputs": [
    {
     "data": {
      "text/plain": [
       "3.469446951953614e-16"
      ]
     },
     "execution_count": 407,
     "metadata": {},
     "output_type": "execute_result"
    }
   ],
   "source": [
    "np.dot(u[1], u[3])"
   ]
  },
  {
   "cell_type": "code",
   "execution_count": null,
   "metadata": {},
   "outputs": [],
   "source": []
  },
  {
   "cell_type": "markdown",
   "metadata": {},
   "source": [
    "### test3"
   ]
  },
  {
   "cell_type": "code",
   "execution_count": 421,
   "metadata": {},
   "outputs": [
    {
     "data": {
      "text/plain": [
       "(array([[-0.11,  0.28,  0.37, -0.48,  0.38,  0.36, -0.06, -0.06,  0.41,\n",
       "          0.31],\n",
       "        [-0.57, -0.37,  0.2 ,  0.05,  0.08,  0.11, -0.56,  0.08,  0.03,\n",
       "         -0.39],\n",
       "        [ 0.37, -0.18,  0.87,  0.14, -0.12, -0.12,  0.07,  0.01, -0.13,\n",
       "         -0.06],\n",
       "        [-0.23,  0.43,  0.12,  0.82,  0.13,  0.12,  0.02, -0.03,  0.15,\n",
       "          0.15],\n",
       "        [ 0.28, -0.26, -0.11,  0.14,  0.89, -0.11,  0.02,  0.02, -0.12,\n",
       "         -0.09],\n",
       "        [ 0.29, -0.23, -0.11,  0.14, -0.11,  0.89,  0.03,  0.01, -0.12,\n",
       "         -0.08],\n",
       "        [-0.47, -0.3 ,  0.1 , -0.02,  0.06,  0.07,  0.81,  0.02,  0.05,\n",
       "         -0.1 ],\n",
       "        [ 0.03,  0.1 ,  0.  , -0.02,  0.01,  0.01,  0.03,  0.99,  0.02,\n",
       "          0.03],\n",
       "        [ 0.26, -0.32, -0.11,  0.16, -0.12, -0.11,  0.01,  0.02,  0.87,\n",
       "         -0.11],\n",
       "        [-0.13, -0.5 , -0.02,  0.12, -0.06, -0.05, -0.14,  0.03, -0.08,\n",
       "          0.83]]),\n",
       " array([2.25, 2.06]),\n",
       " array([[ 0.75,  0.66],\n",
       "        [-0.66,  0.75]]))"
      ]
     },
     "execution_count": 421,
     "metadata": {},
     "output_type": "execute_result"
    },
    {
     "data": {
      "text/plain": [
       "array([[2.25, 0.  ],\n",
       "       [0.  , 2.06],\n",
       "       [0.  , 0.  ],\n",
       "       [0.  , 0.  ],\n",
       "       [0.  , 0.  ],\n",
       "       [0.  , 0.  ],\n",
       "       [0.  , 0.  ],\n",
       "       [0.  , 0.  ],\n",
       "       [0.  , 0.  ],\n",
       "       [0.  , 0.  ]])"
      ]
     },
     "execution_count": 421,
     "metadata": {},
     "output_type": "execute_result"
    },
    {
     "data": {
      "text/plain": [
       "array([[-0.25,  0.58],\n",
       "       [-1.29, -0.76],\n",
       "       [ 0.84, -0.36],\n",
       "       [-0.52,  0.88],\n",
       "       [ 0.62, -0.54],\n",
       "       [ 0.65, -0.47],\n",
       "       [-1.06, -0.61],\n",
       "       [ 0.06,  0.2 ],\n",
       "       [ 0.58, -0.66],\n",
       "       [-0.29, -1.03]])"
      ]
     },
     "execution_count": 421,
     "metadata": {},
     "output_type": "execute_result"
    },
    {
     "data": {
      "text/plain": [
       "array([[-0.25,  0.58],\n",
       "       [-1.29, -0.76],\n",
       "       [ 0.84, -0.36],\n",
       "       [-0.52,  0.88],\n",
       "       [ 0.62, -0.54],\n",
       "       [ 0.65, -0.47],\n",
       "       [-1.06, -0.61],\n",
       "       [ 0.06,  0.2 ],\n",
       "       [ 0.58, -0.66],\n",
       "       [-0.29, -1.03]])"
      ]
     },
     "execution_count": 421,
     "metadata": {},
     "output_type": "execute_result"
    },
    {
     "data": {
      "text/plain": [
       "array([[-0.57,  0.27],\n",
       "       [-0.47, -1.42],\n",
       "       [ 0.87,  0.28],\n",
       "       [-0.97,  0.31],\n",
       "       [ 0.82,  0.01],\n",
       "       [ 0.8 ,  0.08],\n",
       "       [-0.4 , -1.16],\n",
       "       [-0.09,  0.19],\n",
       "       [ 0.88, -0.12],\n",
       "       [ 0.46, -0.96]])"
      ]
     },
     "execution_count": 421,
     "metadata": {},
     "output_type": "execute_result"
    }
   ],
   "source": [
    "a = np.random.randn(10, 2)\n",
    "u,s,vt = np.linalg.svd(a)\n",
    "u,s,vt\n",
    "ss = get_diag(s, a)\n",
    "ss\n",
    "v = vt.T\n",
    "a @ v\n",
    "u @ ss\n",
    "a"
   ]
  },
  {
   "cell_type": "code",
   "execution_count": null,
   "metadata": {},
   "outputs": [],
   "source": []
  },
  {
   "cell_type": "markdown",
   "metadata": {},
   "source": [
    "### 协方差矩阵和奇异值分解的关系"
   ]
  },
  {
   "cell_type": "code",
   "execution_count": 360,
   "metadata": {},
   "outputs": [
    {
     "data": {
      "text/plain": [
       "(array([[-0.94,  0.34,  0.07,  0.06],\n",
       "        [-0.33, -0.79, -0.48, -0.2 ],\n",
       "        [ 0.07,  0.18, -0.65,  0.74],\n",
       "        [-0.09, -0.48,  0.59,  0.64]]),\n",
       " array([1.91, 1.47, 0.5 ]),\n",
       " array([[ 0.71,  0.24,  0.66],\n",
       "        [-0.68,  0.48,  0.55],\n",
       "        [-0.19, -0.84,  0.5 ]]))"
      ]
     },
     "execution_count": 360,
     "metadata": {},
     "output_type": "execute_result"
    }
   ],
   "source": [
    "a = np.random.randn(4, 3)\n",
    "u, s, vt = np.linalg.svd(a)\n",
    "u,s,vt"
   ]
  },
  {
   "cell_type": "code",
   "execution_count": 362,
   "metadata": {},
   "outputs": [
    {
     "data": {
      "text/plain": [
       "array([[ 0.87, -0.09,  0.1 ],\n",
       "       [-0.09,  0.23,  0.17],\n",
       "       [ 0.1 ,  0.17,  0.31]])"
      ]
     },
     "execution_count": 362,
     "metadata": {},
     "output_type": "execute_result"
    },
    {
     "data": {
      "text/plain": [
       "(array([0.9 , 0.07, 0.44]),\n",
       " array([[ 0.98, -0.17, -0.05],\n",
       "        [-0.1 , -0.77,  0.63],\n",
       "        [ 0.15,  0.62,  0.77]]))"
      ]
     },
     "execution_count": 362,
     "metadata": {},
     "output_type": "execute_result"
    }
   ],
   "source": [
    "c = np.cov(a.T)\n",
    "c\n",
    "e, v = np.linalg.eig(c)\n",
    "e, v"
   ]
  },
  {
   "cell_type": "code",
   "execution_count": 369,
   "metadata": {},
   "outputs": [
    {
     "data": {
      "text/plain": [
       "array([[1.22],\n",
       "       [0.63],\n",
       "       [1.42]])"
      ]
     },
     "execution_count": 369,
     "metadata": {},
     "output_type": "execute_result"
    },
    {
     "data": {
      "text/plain": [
       "array([[ 1.62, -1.28, -0.34],\n",
       "       [-0.69,  0.26,  0.42],\n",
       "       [-0.54, -0.37,  0.91]])"
      ]
     },
     "execution_count": 369,
     "metadata": {},
     "output_type": "execute_result"
    },
    {
     "data": {
      "text/plain": [
       "(array([ 2.25, -0.  ,  0.55]),\n",
       " array([[-0.89,  0.58,  0.47],\n",
       "        [ 0.36,  0.58,  0.16],\n",
       "        [ 0.26,  0.58,  0.87]]))"
      ]
     },
     "execution_count": 369,
     "metadata": {},
     "output_type": "execute_result"
    }
   ],
   "source": [
    "ata = np.dot(a.T, a)\n",
    "m = ata.mean(axis=1, keepdims=True)\n",
    "m\n",
    "ata -= m\n",
    "ata\n",
    "np.linalg.eig(ata)"
   ]
  },
  {
   "cell_type": "code",
   "execution_count": 365,
   "metadata": {},
   "outputs": [
    {
     "data": {
      "text/plain": [
       "array([3.6 , 0.28, 1.76])"
      ]
     },
     "execution_count": 365,
     "metadata": {},
     "output_type": "execute_result"
    }
   ],
   "source": []
  },
  {
   "cell_type": "code",
   "execution_count": null,
   "metadata": {},
   "outputs": [],
   "source": []
  },
  {
   "cell_type": "code",
   "execution_count": null,
   "metadata": {},
   "outputs": [],
   "source": []
  },
  {
   "cell_type": "markdown",
   "metadata": {},
   "source": [
    "## 协方差矩阵"
   ]
  },
  {
   "cell_type": "code",
   "execution_count": 3,
   "metadata": {},
   "outputs": [
    {
     "data": {
      "text/plain": [
       "array([[-0.07,  0.93,  1.61,  0.71],\n",
       "       [ 0.39, -0.08,  0.26, -0.53],\n",
       "       [-0.55,  0.99,  0.42,  0.02]])"
      ]
     },
     "execution_count": 3,
     "metadata": {},
     "output_type": "execute_result"
    }
   ],
   "source": [
    "a = np.random.randn(3,4)\n",
    "a"
   ]
  },
  {
   "cell_type": "code",
   "execution_count": 6,
   "metadata": {},
   "outputs": [
    {
     "data": {
      "text/plain": [
       "array([[ 0.48, -0.03,  0.32],\n",
       "       [-0.03,  0.17, -0.07],\n",
       "       [ 0.32, -0.07,  0.42]])"
      ]
     },
     "execution_count": 6,
     "metadata": {},
     "output_type": "execute_result"
    },
    {
     "data": {
      "text/plain": [
       "array([[ 0.22, -0.25, -0.03, -0.13],\n",
       "       [-0.25,  0.36,  0.24,  0.3 ],\n",
       "       [-0.03,  0.24,  0.54,  0.43],\n",
       "       [-0.13,  0.3 ,  0.43,  0.39]])"
      ]
     },
     "execution_count": 6,
     "metadata": {},
     "output_type": "execute_result"
    }
   ],
   "source": [
    "np.cov(a, rowvar=True)\n",
    "np.cov(a, rowvar=False)"
   ]
  },
  {
   "cell_type": "code",
   "execution_count": 20,
   "metadata": {},
   "outputs": [
    {
     "data": {
      "text/plain": [
       "array([-0.07,  0.62,  0.76,  0.07])"
      ]
     },
     "execution_count": 20,
     "metadata": {},
     "output_type": "execute_result"
    },
    {
     "data": {
      "text/plain": [
       "array([[ 0.22, -0.25, -0.03, -0.13],\n",
       "       [-0.25,  0.36,  0.24,  0.3 ],\n",
       "       [-0.03,  0.24,  0.54,  0.43],\n",
       "       [-0.13,  0.3 ,  0.43,  0.39]])"
      ]
     },
     "execution_count": 20,
     "metadata": {},
     "output_type": "execute_result"
    }
   ],
   "source": [
    "m0 = a.mean(axis=0)\n",
    "m0\n",
    "((a - m0).T @ (a - m0))/ (a.shape[0]-1)"
   ]
  },
  {
   "cell_type": "code",
   "execution_count": 21,
   "metadata": {},
   "outputs": [],
   "source": [
    "# m0 = a.mean(axis=0, keepdims=True)\n",
    "# m0\n",
    "# (a - m0).T @ (a - m0)/ (a.shape[1]-1)\n",
    "# (a - m0) @ (a - m0).T/ (a.shape[1]-1)"
   ]
  },
  {
   "cell_type": "code",
   "execution_count": 22,
   "metadata": {},
   "outputs": [
    {
     "data": {
      "text/plain": [
       "array([[0.8 ],\n",
       "       [0.01],\n",
       "       [0.22]])"
      ]
     },
     "execution_count": 22,
     "metadata": {},
     "output_type": "execute_result"
    },
    {
     "data": {
      "text/plain": [
       "array([[ 0.48, -0.03,  0.32],\n",
       "       [-0.03,  0.17, -0.07],\n",
       "       [ 0.32, -0.07,  0.42]])"
      ]
     },
     "execution_count": 22,
     "metadata": {},
     "output_type": "execute_result"
    }
   ],
   "source": [
    "m1 = a.mean(axis=1, keepdims=True)\n",
    "m1\n",
    "# (a - m1).T @ (a - m1)\n",
    "(a - m1) @ (a - m1).T/ (a.shape[1]-1)"
   ]
  },
  {
   "cell_type": "code",
   "execution_count": null,
   "metadata": {},
   "outputs": [],
   "source": [
    "# cov_matrix = np.dot(centered_data, centered_data.T) / (data.shape[1] - 1)\n"
   ]
  },
  {
   "cell_type": "code",
   "execution_count": 18,
   "metadata": {},
   "outputs": [
    {
     "name": "stdout",
     "output_type": "stream",
     "text": [
      "手动计算的协方差矩阵：\n",
      "[[ 1.26  1.65 -0.19]\n",
      " [ 1.65  2.2  -0.17]\n",
      " [-0.19 -0.17  0.15]]\n",
      "np.cov计算的协方差矩阵：\n",
      "[[ 1.26  1.65 -0.19]\n",
      " [ 1.65  2.2  -0.17]\n",
      " [-0.19 -0.17  0.15]]\n",
      "两个结果是否相等： True\n"
     ]
    }
   ],
   "source": [
    "import numpy as np\n",
    "\n",
    "# 输入数据\n",
    "data = np.random.randn(3, 4)\n",
    "\n",
    "# 计算均值\n",
    "mean = np.mean(data, axis=1, keepdims=True)\n",
    "\n",
    "# 计算中心化数据\n",
    "centered_data = data - mean\n",
    "\n",
    "# 计算协方差矩阵\n",
    "cov_matrix = np.dot(centered_data, centered_data.T) / (data.shape[1] - 1)\n",
    "\n",
    "# 打印结果\n",
    "print(\"手动计算的协方差矩阵：\")\n",
    "print(cov_matrix)\n",
    "\n",
    "# 使用np.cov计算协方差矩阵\n",
    "cov_matrix_np = np.cov(data)\n",
    "\n",
    "# 打印结果\n",
    "print(\"np.cov计算的协方差矩阵：\")\n",
    "print(cov_matrix_np)\n",
    "\n",
    "# 比较结果\n",
    "print(\"两个结果是否相等：\", np.allclose(cov_matrix, cov_matrix_np))\n"
   ]
  },
  {
   "cell_type": "markdown",
   "metadata": {},
   "source": [
    "## 主成分分析"
   ]
  },
  {
   "cell_type": "markdown",
   "metadata": {},
   "source": [
    "### main"
   ]
  },
  {
   "cell_type": "code",
   "execution_count": 121,
   "metadata": {},
   "outputs": [
    {
     "data": {
      "text/plain": [
       "<matplotlib.collections.PathCollection at 0x7f89b3f8dd60>"
      ]
     },
     "execution_count": 121,
     "metadata": {},
     "output_type": "execute_result"
    },
    {
     "data": {
      "text/plain": [
       "<matplotlib.collections.PathCollection at 0x7f89b3c2ec10>"
      ]
     },
     "execution_count": 121,
     "metadata": {},
     "output_type": "execute_result"
    },
    {
     "data": {
      "text/plain": [
       "<matplotlib.collections.PathCollection at 0x7f89b3edde20>"
      ]
     },
     "execution_count": 121,
     "metadata": {},
     "output_type": "execute_result"
    },
    {
     "data": {
      "text/plain": [
       "array([[ 0.09],\n",
       "       [ 1.02],\n",
       "       [-0.96],\n",
       "       [-1.41],\n",
       "       [ 4.92],\n",
       "       [ 2.9 ],\n",
       "       [-0.23],\n",
       "       [-3.04],\n",
       "       [-5.32],\n",
       "       [ 1.95]])"
      ]
     },
     "execution_count": 121,
     "metadata": {},
     "output_type": "execute_result"
    },
    {
     "data": {
      "text/plain": [
       "array([[ 0.09],\n",
       "       [ 1.02],\n",
       "       [-0.96],\n",
       "       [-1.41],\n",
       "       [ 4.92],\n",
       "       [ 2.9 ],\n",
       "       [-0.23],\n",
       "       [-3.04],\n",
       "       [-5.32],\n",
       "       [ 1.95]])"
      ]
     },
     "execution_count": 121,
     "metadata": {},
     "output_type": "execute_result"
    },
    {
     "data": {
      "text/plain": [
       "Text(0.5, 0, 'Feature 1')"
      ]
     },
     "execution_count": 121,
     "metadata": {},
     "output_type": "execute_result"
    },
    {
     "data": {
      "text/plain": [
       "<matplotlib.legend.Legend at 0x7f89b3eddf40>"
      ]
     },
     "execution_count": 121,
     "metadata": {},
     "output_type": "execute_result"
    },
    {
     "data": {
      "image/png": "[encoded data removed]",
      "text/plain": [
       "<Figure size 432x288 with 1 Axes>"
      ]
     },
     "metadata": {
      "needs_background": "light"
     },
     "output_type": "display_data"
    }
   ],
   "source": [
    "import numpy as np\n",
    "import matplotlib.pyplot as plt\n",
    "from sklearn.decomposition import PCA\n",
    "\n",
    "# Create example 2D data\n",
    "np.random.seed(0)\n",
    "data = np.random.rand(30, 2) * 10\n",
    "\n",
    "# Step 1: Center the data\n",
    "mean = np.mean(data, axis=0)\n",
    "data_centered = data - mean\n",
    "\n",
    "# Step 2: Calculate the covariance matrix\n",
    "cov_matrix = np.cov(data_centered.T)\n",
    "\n",
    "# Step 3: Compute the eigenvectors and eigenvalues\n",
    "eigenvalues, eigenvectors = np.linalg.eig(cov_matrix)\n",
    "\n",
    "# Sort eigenvectors and eigenvalues in descending order\n",
    "idx = np.argsort(eigenvalues)[::-1]\n",
    "eigenvalues = eigenvalues[idx]\n",
    "eigenvectors = eigenvectors[:, idx]\n",
    "\n",
    "# Step 4: Select the top k eigenvectors for dimensionality reduction\n",
    "k = 1\n",
    "selected_eigenvectors = eigenvectors[:, :k]\n",
    "\n",
    "# Reduce the data to one dimension\n",
    "data_reduced = np.dot(data_centered, selected_eigenvectors)\n",
    "\n",
    "# Plot original data\n",
    "plt.scatter(data[:, 0], data[:, 1], label='Original Data')\n",
    "\n",
    "# Plot reduced data\n",
    "plt.scatter(data_reduced, np.zeros_like(data_reduced), label='Reduced Data (NumPy)')\n",
    "\n",
    "# Apply sklearn's PCA for comparison\n",
    "sklearn_pca = PCA(n_components=k)\n",
    "data_reduced_sklearn = sklearn_pca.fit_transform(data)\n",
    "plt.scatter(data_reduced_sklearn, np.ones_like(data_reduced_sklearn), label='Reduced Data (sklearn)')\n",
    "data_reduced[:10]\n",
    "data_reduced_sklearn[:10]\n",
    "plt.xlabel('Feature 1')\n",
    "plt.legend()\n",
    "plt.show()\n"
   ]
  },
  {
   "cell_type": "markdown",
   "metadata": {},
   "source": [
    "### test"
   ]
  },
  {
   "cell_type": "code",
   "execution_count": 59,
   "metadata": {},
   "outputs": [
    {
     "name": "stdout",
     "output_type": "stream",
     "text": [
      "(4, 4)\n",
      "(4, 4) (4,)\n",
      "(100, 4) (4, 2)\n",
      "降维后的数据：\n",
      "(100, 2)\n"
     ]
    }
   ],
   "source": [
    "X = np.random.randn(100, 4)  # 100个样本，每个样本4个特征\n",
    "\n",
    "# 数据标准化\n",
    "X -= np.mean(X, axis=0)\n",
    "X /= np.std(X, axis=0)\n",
    "\n",
    "# 计算协方差矩阵\n",
    "cov_matrix = np.cov(X.T)\n",
    "print(cov_matrix.shape)\n",
    "# 特征值分解\n",
    "eigenvalues, eigenvectors = np.linalg.eig(cov_matrix)\n",
    "# print(eigenvalues)\n",
    "# print(eigenvectors)\n",
    "# 对特征值进行排序\n",
    "eigen_indices = np.argsort(eigenvalues)[::-1]\n",
    "eigenvalues = eigenvalues[eigen_indices]\n",
    "eigenvectors = eigenvectors[:, eigen_indices]\n",
    "print(eigenvectors.shape, eigenvalues.shape)\n",
    "# 选择主成分\n",
    "num_components = 2  # 选择保留的主成分个数\n",
    "principal_components = eigenvectors[:, :num_components]\n",
    "print(X.shape, principal_components.shape)\n",
    "# 数据投影\n",
    "projected_data = np.dot(X, principal_components)\n",
    "\n",
    "# 打印降维后的数据\n",
    "print(\"降维后的数据：\")\n",
    "print(projected_data.shape)\n"
   ]
  },
  {
   "cell_type": "code",
   "execution_count": null,
   "metadata": {},
   "outputs": [],
   "source": []
  },
  {
   "cell_type": "code",
   "execution_count": null,
   "metadata": {},
   "outputs": [],
   "source": []
  },
  {
   "cell_type": "code",
   "execution_count": 104,
   "metadata": {},
   "outputs": [
    {
     "data": {
      "text/plain": [
       "<matplotlib.collections.PathCollection at 0x7f89b3d20280>"
      ]
     },
     "execution_count": 104,
     "metadata": {},
     "output_type": "execute_result"
    },
    {
     "data": {
      "image/png": "[encoded data removed]",
      "text/plain": [
       "<Figure size 432x288 with 1 Axes>"
      ]
     },
     "metadata": {
      "needs_background": "light"
     },
     "output_type": "display_data"
    }
   ],
   "source": [
    "n = 100\n",
    "k = 3\n",
    "b = 2\n",
    "s = 20\n",
    "x = np.random.randint(0, 100, (n,))\n",
    "y = k * x + b + np.random.randint(-s, s, (n,))\n",
    "plt.scatter(x, y)\n",
    "plt.show()"
   ]
  },
  {
   "cell_type": "code",
   "execution_count": 105,
   "metadata": {},
   "outputs": [
    {
     "data": {
      "text/plain": [
       "(100, 2)"
      ]
     },
     "execution_count": 105,
     "metadata": {},
     "output_type": "execute_result"
    }
   ],
   "source": [
    "data = np.stack([x,y], axis=1)\n",
    "data.shape"
   ]
  },
  {
   "cell_type": "code",
   "execution_count": 115,
   "metadata": {},
   "outputs": [
    {
     "data": {
      "text/plain": [
       "<matplotlib.collections.PathCollection at 0x7f89b3eda0a0>"
      ]
     },
     "execution_count": 115,
     "metadata": {},
     "output_type": "execute_result"
    },
    {
     "data": {
      "image/png": "[encoded data removed]",
      "text/plain": [
       "<Figure size 432x288 with 1 Axes>"
      ]
     },
     "metadata": {
      "needs_background": "light"
     },
     "output_type": "display_data"
    }
   ],
   "source": [
    "x_ = x - x.mean()\n",
    "y_ = y - y.mean()\n",
    "plt.scatter(x_, y_)\n",
    "plt.show()"
   ]
  },
  {
   "cell_type": "code",
   "execution_count": 116,
   "metadata": {},
   "outputs": [
    {
     "data": {
      "text/plain": [
       "(100, 2)"
      ]
     },
     "execution_count": 116,
     "metadata": {},
     "output_type": "execute_result"
    },
    {
     "data": {
      "text/plain": [
       "(100, 2)"
      ]
     },
     "execution_count": 116,
     "metadata": {},
     "output_type": "execute_result"
    },
    {
     "data": {
      "text/plain": [
       "array([[ 853.3 , 2493.35],\n",
       "       [2493.35, 7422.52]])"
      ]
     },
     "execution_count": 116,
     "metadata": {},
     "output_type": "execute_result"
    }
   ],
   "source": [
    "data_ = np.stack([x_,y_], axis=1)\n",
    "# np.cov(data.T), np.cov(data_.T)\n",
    "data.shape\n",
    "data_.shape\n",
    "c = np.cov(data.T)\n",
    "c"
   ]
  },
  {
   "cell_type": "code",
   "execution_count": 117,
   "metadata": {},
   "outputs": [
    {
     "data": {
      "text/plain": [
       "(array([  14.15, 8261.67]),\n",
       " array([[-0.95, -0.32],\n",
       "        [ 0.32, -0.95]]))"
      ]
     },
     "execution_count": 117,
     "metadata": {},
     "output_type": "execute_result"
    }
   ],
   "source": [
    "va,ve = np.linalg.eig(c)\n",
    "va, ve"
   ]
  },
  {
   "cell_type": "code",
   "execution_count": 118,
   "metadata": {},
   "outputs": [
    {
     "data": {
      "text/plain": [
       "(array([8261.67,   14.15]),\n",
       " array([[-0.32],\n",
       "        [-0.95]]))"
      ]
     },
     "execution_count": 118,
     "metadata": {},
     "output_type": "execute_result"
    }
   ],
   "source": [
    "idx = np.argsort(va)[::-1]\n",
    "\n",
    "va_=va[idx]\n",
    "ve_ = ve[:, idx][:, :1]\n",
    "va_, ve_"
   ]
  },
  {
   "cell_type": "code",
   "execution_count": 110,
   "metadata": {},
   "outputs": [
    {
     "data": {
      "text/plain": [
       "array([[-0.32],\n",
       "       [-0.95]])"
      ]
     },
     "execution_count": 110,
     "metadata": {},
     "output_type": "execute_result"
    }
   ],
   "source": [
    "# ve1 = ve[:,np.argsort(va)[::-1]][:, 0:1]\n",
    "# ve1"
   ]
  },
  {
   "cell_type": "code",
   "execution_count": 77,
   "metadata": {},
   "outputs": [
    {
     "data": {
      "text/plain": [
       "((100, 2), (2, 1))"
      ]
     },
     "execution_count": 77,
     "metadata": {},
     "output_type": "execute_result"
    }
   ],
   "source": [
    "data_.shape, ve1.shape"
   ]
  },
  {
   "cell_type": "code",
   "execution_count": 119,
   "metadata": {},
   "outputs": [
    {
     "data": {
      "text/plain": [
       "(100, 1)"
      ]
     },
     "execution_count": 119,
     "metadata": {},
     "output_type": "execute_result"
    },
    {
     "data": {
      "text/plain": [
       "array([[  82.55],\n",
       "       [-107.81],\n",
       "       [ 101.85],\n",
       "       [-129.62],\n",
       "       [  15.81],\n",
       "       [  -1.57],\n",
       "       [ -74.29],\n",
       "       [  31.31],\n",
       "       [  55.98],\n",
       "       [ -51.84]])"
      ]
     },
     "execution_count": 119,
     "metadata": {},
     "output_type": "execute_result"
    }
   ],
   "source": [
    "data_1 = np.dot(data_, ve1)\n",
    "data_1.shape\n",
    "data_1[:10]"
   ]
  },
  {
   "cell_type": "code",
   "execution_count": 120,
   "metadata": {},
   "outputs": [
    {
     "data": {
      "text/plain": [
       "array([[  82.55],\n",
       "       [-107.81],\n",
       "       [ 101.85],\n",
       "       [-129.62],\n",
       "       [  15.81],\n",
       "       [  -1.57],\n",
       "       [ -74.29],\n",
       "       [  31.31],\n",
       "       [  55.98],\n",
       "       [ -51.84]])"
      ]
     },
     "execution_count": 120,
     "metadata": {},
     "output_type": "execute_result"
    },
    {
     "data": {
      "text/plain": [
       "array([[  82.55],\n",
       "       [-107.81],\n",
       "       [ 101.85],\n",
       "       [-129.62],\n",
       "       [  15.81],\n",
       "       [  -1.57],\n",
       "       [ -74.29],\n",
       "       [  31.31],\n",
       "       [  55.98],\n",
       "       [ -51.84]])"
      ]
     },
     "execution_count": 120,
     "metadata": {},
     "output_type": "execute_result"
    }
   ],
   "source": [
    "pca = PCA(n_components=1)\n",
    "data_1[:10]\n",
    "# Fit and transform the data\n",
    "data_reduced = pca.fit_transform(data)\n",
    "data_reduced[:10]\n"
   ]
  },
  {
   "cell_type": "code",
   "execution_count": 94,
   "metadata": {},
   "outputs": [
    {
     "data": {
      "text/plain": [
       "array([-120.45,   86.37,  -46.44,   74.99, -107.8 ,  106.61,  -61.63,\n",
       "         63.28,  -80.29,  -50.55])"
      ]
     },
     "execution_count": 94,
     "metadata": {},
     "output_type": "execute_result"
    },
    {
     "data": {
      "text/plain": [
       "<matplotlib.collections.PathCollection at 0x7f89b3f7e6d0>"
      ]
     },
     "execution_count": 94,
     "metadata": {},
     "output_type": "execute_result"
    },
    {
     "data": {
      "image/png": "[encoded data removed]",
      "text/plain": [
       "<Figure size 432x288 with 1 Axes>"
      ]
     },
     "metadata": {
      "needs_background": "light"
     },
     "output_type": "display_data"
    }
   ],
   "source": [
    "y1 = np.squeeze(data_1)\n",
    "y1[:10]\n",
    "# plt.scatter(y1, np.zeros_like(y1))\n",
    "plt.scatter(y1, y1)\n",
    "plt.show()"
   ]
  },
  {
   "cell_type": "code",
   "execution_count": null,
   "metadata": {},
   "outputs": [],
   "source": []
  },
  {
   "cell_type": "code",
   "execution_count": 83,
   "metadata": {},
   "outputs": [],
   "source": [
    "import numpy as np\n",
    "import matplotlib.pyplot as plt\n",
    "from sklearn.decomposition import PCA\n"
   ]
  },
  {
   "cell_type": "code",
   "execution_count": 84,
   "metadata": {},
   "outputs": [
    {
     "data": {
      "text/plain": [
       "<matplotlib.collections.PathCollection at 0x7f89b6515430>"
      ]
     },
     "execution_count": 84,
     "metadata": {},
     "output_type": "execute_result"
    },
    {
     "data": {
      "text/plain": [
       "<matplotlib.collections.PathCollection at 0x7f89b66b81f0>"
      ]
     },
     "execution_count": 84,
     "metadata": {},
     "output_type": "execute_result"
    },
    {
     "data": {
      "text/plain": [
       "Text(0.5, 0, 'Feature 1')"
      ]
     },
     "execution_count": 84,
     "metadata": {},
     "output_type": "execute_result"
    },
    {
     "data": {
      "text/plain": [
       "Text(0, 0.5, 'Feature 2')"
      ]
     },
     "execution_count": 84,
     "metadata": {},
     "output_type": "execute_result"
    },
    {
     "data": {
      "text/plain": [
       "<matplotlib.legend.Legend at 0x7f8a21744730>"
      ]
     },
     "execution_count": 84,
     "metadata": {},
     "output_type": "execute_result"
    },
    {
     "data": {
      "image/png": "[encoded data removed]",
      "text/plain": [
       "<Figure size 432x288 with 1 Axes>"
      ]
     },
     "metadata": {
      "needs_background": "light"
     },
     "output_type": "display_data"
    }
   ],
   "source": [
    "# Create example 2D data\n",
    "np.random.seed(0)\n",
    "data = np.random.rand(30, 2) * 10\n",
    "# Create PCA object\n",
    "pca = PCA(n_components=1)\n",
    "\n",
    "# Fit and transform the data\n",
    "data_reduced = pca.fit_transform(data)\n",
    "# Plot original data\n",
    "plt.scatter(data[:, 0], data[:, 1], label='Original Data')\n",
    "\n",
    "# Plot reduced data\n",
    "plt.scatter(data_reduced[:, 0], np.zeros_like(data_reduced), label='Reduced Data')\n",
    "\n",
    "plt.xlabel('Feature 1')\n",
    "plt.ylabel('Feature 2')\n",
    "plt.legend()\n",
    "plt.show()\n"
   ]
  },
  {
   "cell_type": "code",
   "execution_count": null,
   "metadata": {},
   "outputs": [],
   "source": []
  },
  {
   "cell_type": "code",
   "execution_count": 103,
   "metadata": {},
   "outputs": [
    {
     "data": {
      "text/plain": [
       "<matplotlib.collections.PathCollection at 0x7f89b3f7dc70>"
      ]
     },
     "execution_count": 103,
     "metadata": {},
     "output_type": "execute_result"
    },
    {
     "data": {
      "text/plain": [
       "<matplotlib.collections.PathCollection at 0x7f89b4241af0>"
      ]
     },
     "execution_count": 103,
     "metadata": {},
     "output_type": "execute_result"
    },
    {
     "data": {
      "text/plain": [
       "<matplotlib.collections.PathCollection at 0x7f89b3f245e0>"
      ]
     },
     "execution_count": 103,
     "metadata": {},
     "output_type": "execute_result"
    },
    {
     "data": {
      "text/plain": [
       "array([[ 0.09],\n",
       "       [ 1.02],\n",
       "       [-0.96],\n",
       "       [-1.41],\n",
       "       [ 4.92],\n",
       "       [ 2.9 ],\n",
       "       [-0.23],\n",
       "       [-3.04],\n",
       "       [-5.32],\n",
       "       [ 1.95]])"
      ]
     },
     "execution_count": 103,
     "metadata": {},
     "output_type": "execute_result"
    },
    {
     "data": {
      "text/plain": [
       "array([[ 0.09],\n",
       "       [ 1.02],\n",
       "       [-0.96],\n",
       "       [-1.41],\n",
       "       [ 4.92],\n",
       "       [ 2.9 ],\n",
       "       [-0.23],\n",
       "       [-3.04],\n",
       "       [-5.32],\n",
       "       [ 1.95]])"
      ]
     },
     "execution_count": 103,
     "metadata": {},
     "output_type": "execute_result"
    },
    {
     "data": {
      "text/plain": [
       "Text(0.5, 0, 'Feature 1')"
      ]
     },
     "execution_count": 103,
     "metadata": {},
     "output_type": "execute_result"
    },
    {
     "data": {
      "text/plain": [
       "<matplotlib.legend.Legend at 0x7f89b3f7da60>"
      ]
     },
     "execution_count": 103,
     "metadata": {},
     "output_type": "execute_result"
    },
    {
     "data": {
      "image/png": "[encoded data removed]",
      "text/plain": [
       "<Figure size 432x288 with 1 Axes>"
      ]
     },
     "metadata": {
      "needs_background": "light"
     },
     "output_type": "display_data"
    }
   ],
   "source": []
  },
  {
   "cell_type": "code",
   "execution_count": null,
   "metadata": {},
   "outputs": [],
   "source": []
  },
  {
   "cell_type": "code",
   "execution_count": null,
   "metadata": {},
   "outputs": [],
   "source": []
  },
  {
   "cell_type": "markdown",
   "metadata": {},
   "source": [
    "# API"
   ]
  },
  {
   "cell_type": "markdown",
   "metadata": {},
   "source": [
    "## 属性  \n",
    "1. nbytes(字节大小)"
   ]
  },
  {
   "cell_type": "markdown",
   "metadata": {},
   "source": [
    "### nbytes"
   ]
  },
  {
   "cell_type": "code",
   "execution_count": 22,
   "metadata": {},
   "outputs": [
    {
     "data": {
      "text/plain": [
       "400"
      ]
     },
     "execution_count": 22,
     "metadata": {},
     "output_type": "execute_result"
    }
   ],
   "source": [
    "a = np.arange(100)\n",
    "a.nbytes"
   ]
  },
  {
   "cell_type": "markdown",
   "metadata": {},
   "source": [
    "## 方法"
   ]
  },
  {
   "cell_type": "code",
   "execution_count": null,
   "metadata": {},
   "outputs": [],
   "source": []
  },
  {
   "cell_type": "markdown",
   "metadata": {},
   "source": [
    "### np.random"
   ]
  },
  {
   "cell_type": "markdown",
   "metadata": {},
   "source": [
    "#### np.random.choice"
   ]
  },
  {
   "cell_type": "code",
   "execution_count": 51,
   "metadata": {},
   "outputs": [
    {
     "data": {
      "text/plain": [
       "array([4, 3, 1])"
      ]
     },
     "execution_count": 51,
     "metadata": {},
     "output_type": "execute_result"
    }
   ],
   "source": [
    "np.random.choice([1,2,3,4,5], 3, replace=False, p=[0.1, 0, 0.3, 0.6, 0])"
   ]
  },
  {
   "cell_type": "code",
   "execution_count": 86,
   "metadata": {
    "scrolled": true
   },
   "outputs": [
    {
     "data": {
      "text/plain": [
       "0"
      ]
     },
     "execution_count": 86,
     "metadata": {},
     "output_type": "execute_result"
    }
   ],
   "source": [
    "np.random.randint(0, 1)"
   ]
  },
  {
   "cell_type": "code",
   "execution_count": 87,
   "metadata": {},
   "outputs": [
    {
     "data": {
      "text/plain": [
       "1"
      ]
     },
     "execution_count": 87,
     "metadata": {},
     "output_type": "execute_result"
    }
   ],
   "source": [
    "random.randint(0, 1)"
   ]
  },
  {
   "cell_type": "code",
   "execution_count": 99,
   "metadata": {},
   "outputs": [
    {
     "data": {
      "text/plain": [
       "0.8576706591475731"
      ]
     },
     "execution_count": 99,
     "metadata": {},
     "output_type": "execute_result"
    }
   ],
   "source": [
    "random.random()"
   ]
  },
  {
   "cell_type": "code",
   "execution_count": 108,
   "metadata": {},
   "outputs": [
    {
     "data": {
      "text/plain": [
       "[55, 13, 11, 28, 3]"
      ]
     },
     "execution_count": 108,
     "metadata": {},
     "output_type": "execute_result"
    }
   ],
   "source": [
    "random.sample(range(100),5)"
   ]
  },
  {
   "cell_type": "code",
   "execution_count": 100,
   "metadata": {},
   "outputs": [
    {
     "name": "stdout",
     "output_type": "stream",
     "text": [
      "Help on method sample in module random:\n",
      "\n",
      "sample(population, k) method of random.Random instance\n",
      "    Chooses k unique random elements from a population sequence or set.\n",
      "    \n",
      "    Returns a new list containing elements from the population while\n",
      "    leaving the original population unchanged.  The resulting list is\n",
      "    in selection order so that all sub-slices will also be valid random\n",
      "    samples.  This allows raffle winners (the sample) to be partitioned\n",
      "    into grand prize and second place winners (the subslices).\n",
      "    \n",
      "    Members of the population need not be hashable or unique.  If the\n",
      "    population contains repeats, then each occurrence is a possible\n",
      "    selection in the sample.\n",
      "    \n",
      "    To choose a sample in a range of integers, use range as an argument.\n",
      "    This is especially fast and space efficient for sampling from a\n",
      "    large population:   sample(range(10000000), 60)\n",
      "\n"
     ]
    }
   ],
   "source": [
    "help(random.sample)"
   ]
  },
  {
   "cell_type": "markdown",
   "metadata": {},
   "source": [
    "### genfromtxt"
   ]
  },
  {
   "cell_type": "code",
   "execution_count": 19,
   "metadata": {},
   "outputs": [
    {
     "data": {
      "text/plain": [
       "array('1,2,3,4,5', dtype='<U9')"
      ]
     },
     "execution_count": 19,
     "metadata": {},
     "output_type": "execute_result"
    }
   ],
   "source": [
    "data = np.genfromtxt('./datas/genfromtxt_01.txt',encoding='utf-8',dtype=np.dtype(str))\n",
    "data"
   ]
  },
  {
   "cell_type": "code",
   "execution_count": 21,
   "metadata": {},
   "outputs": [
    {
     "data": {
      "text/plain": [
       "array([1., 2., 3., 4., 5.])"
      ]
     },
     "execution_count": 21,
     "metadata": {},
     "output_type": "execute_result"
    },
    {
     "data": {
      "text/plain": [
       "40"
      ]
     },
     "execution_count": 21,
     "metadata": {},
     "output_type": "execute_result"
    }
   ],
   "source": [
    "data = np.genfromtxt('./datas/genfromtxt_01.txt',\n",
    "                     delimiter=',',\n",
    "                     encoding='utf-8',\n",
    "                     dtype=np.dtype(float),\n",
    "                     replace_space='')\n",
    "data\n",
    "data.nbytes # 字节大小"
   ]
  },
  {
   "cell_type": "code",
   "execution_count": 5,
   "metadata": {},
   "outputs": [
    {
     "name": "stdout",
     "output_type": "stream",
     "text": [
      "Help on function genfromtxt in module numpy:\n",
      "\n",
      "genfromtxt(fname, dtype=<class 'float'>, comments='#', delimiter=None, skip_header=0, skip_footer=0, converters=None, missing_values=None, filling_values=None, usecols=None, names=None, excludelist=None, deletechars=\" !#$%&'()*+,-./:;<=>?@[\\\\]^{|}~\", replace_space='_', autostrip=False, case_sensitive=True, defaultfmt='f%i', unpack=None, usemask=False, loose=True, invalid_raise=True, max_rows=None, encoding='bytes')\n",
      "    Load data from a text file, with missing values handled as specified.\n",
      "    \n",
      "    Each line past the first `skip_header` lines is split at the `delimiter`\n",
      "    character, and characters following the `comments` character are discarded.\n",
      "    \n",
      "    Parameters\n",
      "    ----------\n",
      "    fname : file, str, pathlib.Path, list of str, generator\n",
      "        File, filename, list, or generator to read.  If the filename\n",
      "        extension is `.gz` or `.bz2`, the file is first decompressed. Note\n",
      "        that generators must return byte strings. The strings\n",
      "        in a list or produced by a generator are treated as lines.\n",
      "    dtype : dtype, optional\n",
      "        Data type of the resulting array.\n",
      "        If None, the dtypes will be determined by the contents of each\n",
      "        column, individually.\n",
      "    comments : str, optional\n",
      "        The character used to indicate the start of a comment.\n",
      "        All the characters occurring on a line after a comment are discarded\n",
      "    delimiter : str, int, or sequence, optional\n",
      "        The string used to separate values.  By default, any consecutive\n",
      "        whitespaces act as delimiter.  An integer or sequence of integers\n",
      "        can also be provided as width(s) of each field.\n",
      "    skiprows : int, optional\n",
      "        `skiprows` was removed in numpy 1.10. Please use `skip_header` instead.\n",
      "    skip_header : int, optional\n",
      "        The number of lines to skip at the beginning of the file.\n",
      "    skip_footer : int, optional\n",
      "        The number of lines to skip at the end of the file.\n",
      "    converters : variable, optional\n",
      "        The set of functions that convert the data of a column to a value.\n",
      "        The converters can also be used to provide a default value\n",
      "        for missing data: ``converters = {3: lambda s: float(s or 0)}``.\n",
      "    missing : variable, optional\n",
      "        `missing` was removed in numpy 1.10. Please use `missing_values`\n",
      "        instead.\n",
      "    missing_values : variable, optional\n",
      "        The set of strings corresponding to missing data.\n",
      "    filling_values : variable, optional\n",
      "        The set of values to be used as default when the data are missing.\n",
      "    usecols : sequence, optional\n",
      "        Which columns to read, with 0 being the first.  For example,\n",
      "        ``usecols = (1, 4, 5)`` will extract the 2nd, 5th and 6th columns.\n",
      "    names : {None, True, str, sequence}, optional\n",
      "        If `names` is True, the field names are read from the first line after\n",
      "        the first `skip_header` lines.  This line can optionally be proceeded\n",
      "        by a comment delimiter. If `names` is a sequence or a single-string of\n",
      "        comma-separated names, the names will be used to define the field names\n",
      "        in a structured dtype. If `names` is None, the names of the dtype\n",
      "        fields will be used, if any.\n",
      "    excludelist : sequence, optional\n",
      "        A list of names to exclude. This list is appended to the default list\n",
      "        ['return','file','print']. Excluded names are appended an underscore:\n",
      "        for example, `file` would become `file_`.\n",
      "    deletechars : str, optional\n",
      "        A string combining invalid characters that must be deleted from the\n",
      "        names.\n",
      "    defaultfmt : str, optional\n",
      "        A format used to define default field names, such as \"f%i\" or \"f_%02i\".\n",
      "    autostrip : bool, optional\n",
      "        Whether to automatically strip white spaces from the variables.\n",
      "    replace_space : char, optional\n",
      "        Character(s) used in replacement of white spaces in the variables\n",
      "        names. By default, use a '_'.\n",
      "    case_sensitive : {True, False, 'upper', 'lower'}, optional\n",
      "        If True, field names are case sensitive.\n",
      "        If False or 'upper', field names are converted to upper case.\n",
      "        If 'lower', field names are converted to lower case.\n",
      "    unpack : bool, optional\n",
      "        If True, the returned array is transposed, so that arguments may be\n",
      "        unpacked using ``x, y, z = loadtxt(...)``\n",
      "    usemask : bool, optional\n",
      "        If True, return a masked array.\n",
      "        If False, return a regular array.\n",
      "    loose : bool, optional\n",
      "        If True, do not raise errors for invalid values.\n",
      "    invalid_raise : bool, optional\n",
      "        If True, an exception is raised if an inconsistency is detected in the\n",
      "        number of columns.\n",
      "        If False, a warning is emitted and the offending lines are skipped.\n",
      "    max_rows : int,  optional\n",
      "        The maximum number of rows to read. Must not be used with skip_footer\n",
      "        at the same time.  If given, the value must be at least 1. Default is\n",
      "        to read the entire file.\n",
      "    \n",
      "        .. versionadded:: 1.10.0\n",
      "    encoding : str, optional\n",
      "        Encoding used to decode the inputfile. Does not apply when `fname` is\n",
      "        a file object.  The special value 'bytes' enables backward compatibility\n",
      "        workarounds that ensure that you receive byte arrays when possible\n",
      "        and passes latin1 encoded strings to converters. Override this value to\n",
      "        receive unicode arrays and pass strings as input to converters.  If set\n",
      "        to None the system default is used. The default value is 'bytes'.\n",
      "    \n",
      "        .. versionadded:: 1.14.0\n",
      "    \n",
      "    Returns\n",
      "    -------\n",
      "    out : ndarray\n",
      "        Data read from the text file. If `usemask` is True, this is a\n",
      "        masked array.\n",
      "    \n",
      "    See Also\n",
      "    --------\n",
      "    numpy.loadtxt : equivalent function when no data is missing.\n",
      "    \n",
      "    Notes\n",
      "    -----\n",
      "    * When spaces are used as delimiters, or when no delimiter has been given\n",
      "      as input, there should not be any missing data between two fields.\n",
      "    * When the variables are named (either by a flexible dtype or with `names`,\n",
      "      there must not be any header in the file (else a ValueError\n",
      "      exception is raised).\n",
      "    * Individual values are not stripped of spaces by default.\n",
      "      When using a custom converter, make sure the function does remove spaces.\n",
      "    \n",
      "    References\n",
      "    ----------\n",
      "    .. [1] NumPy User Guide, section `I/O with NumPy\n",
      "           <https://docs.scipy.org/doc/numpy/user/basics.io.genfromtxt.html>`_.\n",
      "    \n",
      "    Examples\n",
      "    ---------\n",
      "    >>> from io import StringIO\n",
      "    >>> import numpy as np\n",
      "    \n",
      "    Comma delimited file with mixed dtype\n",
      "    \n",
      "    >>> s = StringIO(u\"1,1.3,abcde\")\n",
      "    >>> data = np.genfromtxt(s, dtype=[('myint','i8'),('myfloat','f8'),\n",
      "    ... ('mystring','S5')], delimiter=\",\")\n",
      "    >>> data\n",
      "    array((1, 1.3, b'abcde'),\n",
      "          dtype=[('myint', '<i8'), ('myfloat', '<f8'), ('mystring', 'S5')])\n",
      "    \n",
      "    Using dtype = None\n",
      "    \n",
      "    >>> _ = s.seek(0) # needed for StringIO example only\n",
      "    >>> data = np.genfromtxt(s, dtype=None,\n",
      "    ... names = ['myint','myfloat','mystring'], delimiter=\",\")\n",
      "    >>> data\n",
      "    array((1, 1.3, b'abcde'),\n",
      "          dtype=[('myint', '<i8'), ('myfloat', '<f8'), ('mystring', 'S5')])\n",
      "    \n",
      "    Specifying dtype and names\n",
      "    \n",
      "    >>> _ = s.seek(0)\n",
      "    >>> data = np.genfromtxt(s, dtype=\"i8,f8,S5\",\n",
      "    ... names=['myint','myfloat','mystring'], delimiter=\",\")\n",
      "    >>> data\n",
      "    array((1, 1.3, b'abcde'),\n",
      "          dtype=[('myint', '<i8'), ('myfloat', '<f8'), ('mystring', 'S5')])\n",
      "    \n",
      "    An example with fixed-width columns\n",
      "    \n",
      "    >>> s = StringIO(u\"11.3abcde\")\n",
      "    >>> data = np.genfromtxt(s, dtype=None, names=['intvar','fltvar','strvar'],\n",
      "    ...     delimiter=[1,3,5])\n",
      "    >>> data\n",
      "    array((1, 1.3, b'abcde'),\n",
      "          dtype=[('intvar', '<i8'), ('fltvar', '<f8'), ('strvar', 'S5')])\n",
      "    \n",
      "    An example to show comments\n",
      "    \n",
      "    >>> f = StringIO('''\n",
      "    ... text,# of chars\n",
      "    ... hello world,11\n",
      "    ... numpy,5''')\n",
      "    >>> np.genfromtxt(f, dtype='S12,S12', delimiter=',')\n",
      "    array([(b'text', b''), (b'hello world', b'11'), (b'numpy', b'5')],\n",
      "      dtype=[('f0', 'S12'), ('f1', 'S12')])\n",
      "\n"
     ]
    }
   ],
   "source": [
    "help(np.genfromtxt)"
   ]
  },
  {
   "cell_type": "code",
   "execution_count": null,
   "metadata": {},
   "outputs": [],
   "source": []
  },
  {
   "cell_type": "code",
   "execution_count": null,
   "metadata": {},
   "outputs": [],
   "source": []
  },
  {
   "cell_type": "markdown",
   "metadata": {},
   "source": [
    "[[Python图像处理] 二十二.Python图像傅里叶变换原理及实现](https://blog.csdn.net/Eastmount/article/details/89474405)"
   ]
  },
  {
   "cell_type": "markdown",
   "metadata": {},
   "source": [
    "### eimsum"
   ]
  },
  {
   "cell_type": "markdown",
   "metadata": {},
   "source": [
    "[NumPy中einsum的基本介绍](https://cloud.tencent.com/developer/article/1369762)  \n",
    "[einsum满足你一切需要：深度学习中的爱因斯坦求和约定](https://zhuanlan.zhihu.com/p/44954540)  "
   ]
  },
  {
   "cell_type": "markdown",
   "metadata": {},
   "source": [
    "\n",
    "* 一维数组  \n",
    "\n",
    "Call signature|Numpy equivalent|Description\n",
    ":---:|:---:|:---:\n",
    "('i',A)|A|返回数组A\n",
    "('i->',A)|sum(A)|返回数组A的值的总和\n",
    "('i,i->i',A,B)|A*B|数组A和数组B的元素依次相乘\n",
    "('i,i',A,B)|inner(A,B)|A和B的点积(内积)\n",
    "('i,j->ij',A,B)|outer(A,B)|A和B的叉积(外积)  \n",
    "\n",
    "* 二维数组  \n",
    "\n",
    "Call signature|Numpy equivalent|Description\n",
    ":---:|:---:|:---:\n",
    "('ij',A)|A|数组A\n",
    "('ji',A)|A.T|数组A的转置\n",
    "('ii->i',A)|diag(A)|数组A的主对角线\n",
    "('ii',A)|trace(A)|数组A的主对角线的和\n",
    "('ij->',A)|sum(A)|数组A的值相加\n",
    "('ij->j',A)|sum(A)|数组A的列求和\n",
    "('ij->i',A)|sum(A)|数组A的行求和\n",
    "('ij,ij->ij',A,B)|A*B|数组A和B逐元素相乘\n",
    "('ij,ji->ij',A,B)|A*B.T|数组A和B的转置逐元素相乘\n",
    "('ij,jk',A,B)|dot(A,B)|数组A的与B的矩阵乘法\n",
    "('ij,kj->ik',A,B)|inner(A,B)|数组A的与B的矩阵乘法\n",
    "('ij,kj->ikj',A,B)|A\\[:,None\\]*B|数组A的每一行乘以B\n",
    "('ij,kl->ijkl',A,B)|A\\[:,:,None,None\\]*B|数组A的每个值乘以B\n"
   ]
  },
  {
   "cell_type": "markdown",
   "metadata": {},
   "source": [
    "#### 一维数组"
   ]
  },
  {
   "cell_type": "code",
   "execution_count": 20,
   "metadata": {},
   "outputs": [
    {
     "data": {
      "text/plain": [
       "3"
      ]
     },
     "execution_count": 20,
     "metadata": {},
     "output_type": "execute_result"
    },
    {
     "data": {
      "text/plain": [
       "array([0, 2, 6])"
      ]
     },
     "execution_count": 20,
     "metadata": {},
     "output_type": "execute_result"
    },
    {
     "data": {
      "text/plain": [
       "8"
      ]
     },
     "execution_count": 20,
     "metadata": {},
     "output_type": "execute_result"
    },
    {
     "data": {
      "text/plain": [
       "array([[0, 0, 0],\n",
       "       [1, 2, 3],\n",
       "       [2, 4, 6]])"
      ]
     },
     "execution_count": 20,
     "metadata": {},
     "output_type": "execute_result"
    }
   ],
   "source": [
    "a = np.array([0,1,2])\n",
    "b = np.array([1,2,3])\n",
    "c = np.arange(9).reshape(3,3)\n",
    "np.einsum('i->',a)\n",
    "np.einsum('i,i->i',a,b)\n",
    "np.einsum('i,i',a,b)\n",
    "np.einsum('i,j->ij',a,b)\n",
    "# np.einsum('i,jk->ijk',a,b)"
   ]
  },
  {
   "cell_type": "markdown",
   "metadata": {},
   "source": [
    "#### 二维数组"
   ]
  },
  {
   "cell_type": "code",
   "execution_count": 5,
   "metadata": {},
   "outputs": [
    {
     "data": {
      "text/plain": [
       "array([[0., 1., 2.],\n",
       "       [3., 4., 5.],\n",
       "       [6., 7., 8.]])"
      ]
     },
     "execution_count": 5,
     "metadata": {},
     "output_type": "execute_result"
    },
    {
     "data": {
      "text/plain": [
       "array([[1., 2., 3.],\n",
       "       [4., 5., 6.],\n",
       "       [7., 8., 9.]])"
      ]
     },
     "execution_count": 5,
     "metadata": {},
     "output_type": "execute_result"
    },
    {
     "data": {
      "text/plain": [
       "36.0"
      ]
     },
     "execution_count": 5,
     "metadata": {},
     "output_type": "execute_result"
    },
    {
     "data": {
      "text/plain": [
       "array([ 9., 12., 15.])"
      ]
     },
     "execution_count": 5,
     "metadata": {},
     "output_type": "execute_result"
    },
    {
     "data": {
      "text/plain": [
       "array([ 3., 12., 21.])"
      ]
     },
     "execution_count": 5,
     "metadata": {},
     "output_type": "execute_result"
    }
   ],
   "source": [
    "a = np.arange(9.).reshape(3,3)\n",
    "b = np.arange(1,10.).reshape(3,3)\n",
    "a\n",
    "b\n",
    "np.einsum('ij->',a)\n",
    "np.einsum('ij->j',a)\n",
    "np.einsum('ij->i',a)"
   ]
  },
  {
   "cell_type": "code",
   "execution_count": 9,
   "metadata": {
    "scrolled": false
   },
   "outputs": [
    {
     "data": {
      "text/plain": [
       "array([[ 18.,  21.,  24.],\n",
       "       [ 54.,  66.,  78.],\n",
       "       [ 90., 111., 132.]])"
      ]
     },
     "execution_count": 9,
     "metadata": {},
     "output_type": "execute_result"
    },
    {
     "data": {
      "text/plain": [
       "array([[ 18.,  21.,  24.],\n",
       "       [ 54.,  66.,  78.],\n",
       "       [ 90., 111., 132.]])"
      ]
     },
     "execution_count": 9,
     "metadata": {},
     "output_type": "execute_result"
    },
    {
     "data": {
      "text/plain": [
       "array([[ 18.,  21.,  24.],\n",
       "       [ 54.,  66.,  78.],\n",
       "       [ 90., 111., 132.]])"
      ]
     },
     "execution_count": 9,
     "metadata": {},
     "output_type": "execute_result"
    },
    {
     "data": {
      "text/plain": [
       "240.0"
      ]
     },
     "execution_count": 9,
     "metadata": {},
     "output_type": "execute_result"
    },
    {
     "data": {
      "text/plain": [
       "array([[ 0.,  2.,  6.],\n",
       "       [12., 20., 30.],\n",
       "       [42., 56., 72.]])"
      ]
     },
     "execution_count": 9,
     "metadata": {},
     "output_type": "execute_result"
    },
    {
     "data": {
      "text/plain": [
       "array([[  8.,  17.,  26.],\n",
       "       [ 26.,  62.,  98.],\n",
       "       [ 44., 107., 170.]])"
      ]
     },
     "execution_count": 9,
     "metadata": {},
     "output_type": "execute_result"
    },
    {
     "data": {
      "text/plain": [
       "array([[  8.,  17.,  26.],\n",
       "       [ 26.,  62.,  98.],\n",
       "       [ 44., 107., 170.]])"
      ]
     },
     "execution_count": 9,
     "metadata": {},
     "output_type": "execute_result"
    }
   ],
   "source": [
    "np.einsum('ij,jk',a,b)\n",
    "np.einsum('ij,jk->ik',a,b)\n",
    "np.dot(a,b)\n",
    "np.einsum('ij,ij',a,b)\n",
    "np.einsum('ij,ij->ij',a,b)\n",
    "np.inner(a,b)\n",
    "np.dot(a,b.T)"
   ]
  },
  {
   "cell_type": "code",
   "execution_count": 52,
   "metadata": {},
   "outputs": [
    {
     "data": {
      "text/plain": [
       "array([[0., 1., 2.],\n",
       "       [3., 4., 5.],\n",
       "       [6., 7., 8.]])"
      ]
     },
     "execution_count": 52,
     "metadata": {},
     "output_type": "execute_result"
    },
    {
     "data": {
      "text/plain": [
       "array([[[ 0.,  1.,  4.],\n",
       "        [ 0.,  4., 10.],\n",
       "        [ 0.,  7., 16.]],\n",
       "\n",
       "       [[ 0.,  4., 10.],\n",
       "        [ 9., 16., 25.],\n",
       "        [18., 28., 40.]],\n",
       "\n",
       "       [[ 0.,  7., 16.],\n",
       "        [18., 28., 40.],\n",
       "        [36., 49., 64.]]])"
      ]
     },
     "execution_count": 52,
     "metadata": {},
     "output_type": "execute_result"
    },
    {
     "data": {
      "text/plain": [
       "(3, 1, 3)"
      ]
     },
     "execution_count": 52,
     "metadata": {},
     "output_type": "execute_result"
    },
    {
     "data": {
      "text/plain": [
       "array([[[ 0.,  1.,  4.],\n",
       "        [ 0.,  4., 10.],\n",
       "        [ 0.,  7., 16.]],\n",
       "\n",
       "       [[ 0.,  4., 10.],\n",
       "        [ 9., 16., 25.],\n",
       "        [18., 28., 40.]],\n",
       "\n",
       "       [[ 0.,  7., 16.],\n",
       "        [18., 28., 40.],\n",
       "        [36., 49., 64.]]])"
      ]
     },
     "execution_count": 52,
     "metadata": {},
     "output_type": "execute_result"
    }
   ],
   "source": [
    "a\n",
    "# b\n",
    "np.einsum('ij,kj->ikj',a,b)\n",
    "a[:,None].shape\n",
    "a[:,None]*b\n"
   ]
  },
  {
   "cell_type": "code",
   "execution_count": 60,
   "metadata": {},
   "outputs": [
    {
     "data": {
      "text/plain": [
       "(3, 3, 3, 3)"
      ]
     },
     "execution_count": 60,
     "metadata": {},
     "output_type": "execute_result"
    }
   ],
   "source": [
    "# a[:,:,None,None]\n",
    "# a[:,:,None,None]*b\n",
    "np.einsum('ij,kl->ijkl',a,b).shape"
   ]
  },
  {
   "cell_type": "code",
   "execution_count": 58,
   "metadata": {},
   "outputs": [
    {
     "data": {
      "text/plain": [
       "array([[ 0.,  4.,  8.],\n",
       "       [ 1.,  5.,  9.],\n",
       "       [ 2.,  6., 10.],\n",
       "       [ 3.,  7., 11.]])"
      ]
     },
     "execution_count": 58,
     "metadata": {},
     "output_type": "execute_result"
    },
    {
     "data": {
      "text/plain": [
       "array([[0., 1., 2.],\n",
       "       [3., 4., 5.],\n",
       "       [6., 7., 8.]])"
      ]
     },
     "execution_count": 58,
     "metadata": {},
     "output_type": "execute_result"
    },
    {
     "data": {
      "text/plain": [
       "array([[[ 0.,  0.,  0.],\n",
       "        [ 0.,  1.,  2.],\n",
       "        [ 0.,  2.,  4.],\n",
       "        [ 0.,  3.,  6.]],\n",
       "\n",
       "       [[12., 16., 20.],\n",
       "        [15., 20., 25.],\n",
       "        [18., 24., 30.],\n",
       "        [21., 28., 35.]],\n",
       "\n",
       "       [[48., 56., 64.],\n",
       "        [54., 63., 72.],\n",
       "        [60., 70., 80.],\n",
       "        [66., 77., 88.]]])"
      ]
     },
     "execution_count": 58,
     "metadata": {},
     "output_type": "execute_result"
    }
   ],
   "source": [
    "A = np.arange(12.).reshape(3,4)\n",
    "B = np.arange(9.).reshape(3,3)\n",
    "A.T\n",
    "B\n",
    "np.einsum('ij,ik->ijk',A,B)\n",
    "# np.einsum('ij,kl->ijkl',a,b)"
   ]
  },
  {
   "cell_type": "markdown",
   "metadata": {},
   "source": [
    "## np.poly1d\n"
   ]
  },
  {
   "cell_type": "code",
   "execution_count": 21,
   "metadata": {},
   "outputs": [
    {
     "data": {
      "text/plain": [
       "array([ 6, 11, 18])"
      ]
     },
     "execution_count": 21,
     "metadata": {},
     "output_type": "execute_result"
    },
    {
     "data": {
      "text/plain": [
       "array([ 6, 17, 34])"
      ]
     },
     "execution_count": 21,
     "metadata": {},
     "output_type": "execute_result"
    },
    {
     "data": {
      "text/plain": [
       "array([ 6, 11, 18])"
      ]
     },
     "execution_count": 21,
     "metadata": {},
     "output_type": "execute_result"
    },
    {
     "data": {
      "text/plain": [
       "array([1, 2, 3])"
      ]
     },
     "execution_count": 21,
     "metadata": {},
     "output_type": "execute_result"
    },
    {
     "data": {
      "text/plain": [
       "2"
      ]
     },
     "execution_count": 21,
     "metadata": {},
     "output_type": "execute_result"
    },
    {
     "data": {
      "text/plain": [
       "array([-1.+1.41j, -1.-1.41j])"
      ]
     },
     "execution_count": 21,
     "metadata": {},
     "output_type": "execute_result"
    },
    {
     "data": {
      "text/plain": [
       "poly1d([ 1,  4, 10, 12,  9])"
      ]
     },
     "execution_count": 21,
     "metadata": {},
     "output_type": "execute_result"
    }
   ],
   "source": [
    "p = np.poly1d([1, 2, 3])\n",
    "a = np.array([1,2,3])\n",
    "p(a)\n",
    "1+2*a+3*a**2\n",
    "3+2*a+a**2 # 结果\n",
    "p.c # array([1, 2, 3])\n",
    "p.order # 2\n",
    "p.r # array([-1.+1.41j, -1.-1.41j])\n",
    "p**2"
   ]
  },
  {
   "cell_type": "code",
   "execution_count": null,
   "metadata": {},
   "outputs": [],
   "source": []
  },
  {
   "cell_type": "code",
   "execution_count": 3,
   "metadata": {},
   "outputs": [
    {
     "data": {
      "text/plain": [
       "array([0.63])"
      ]
     },
     "execution_count": 3,
     "metadata": {},
     "output_type": "execute_result"
    }
   ],
   "source": [
    "np.random.rand(1)"
   ]
  },
  {
   "cell_type": "code",
   "execution_count": 19,
   "metadata": {},
   "outputs": [
    {
     "name": "stdout",
     "output_type": "stream",
     "text": [
      "Help on class poly1d in module numpy:\n",
      "\n",
      "class poly1d(builtins.object)\n",
      " |  poly1d(c_or_r, r=False, variable=None)\n",
      " |  \n",
      " |  A one-dimensional polynomial class.\n",
      " |  \n",
      " |  A convenience class, used to encapsulate \"natural\" operations on\n",
      " |  polynomials so that said operations may take on their customary\n",
      " |  form in code (see Examples).\n",
      " |  \n",
      " |  Parameters\n",
      " |  ----------\n",
      " |  c_or_r : array_like\n",
      " |      The polynomial's coefficients, in decreasing powers, or if\n",
      " |      the value of the second parameter is True, the polynomial's\n",
      " |      roots (values where the polynomial evaluates to 0).  For example,\n",
      " |      ``poly1d([1, 2, 3])`` returns an object that represents\n",
      " |      :math:`x^2 + 2x + 3`, whereas ``poly1d([1, 2, 3], True)`` returns\n",
      " |      one that represents :math:`(x-1)(x-2)(x-3) = x^3 - 6x^2 + 11x -6`.\n",
      " |  r : bool, optional\n",
      " |      If True, `c_or_r` specifies the polynomial's roots; the default\n",
      " |      is False.\n",
      " |  variable : str, optional\n",
      " |      Changes the variable used when printing `p` from `x` to `variable`\n",
      " |      (see Examples).\n",
      " |  \n",
      " |  Examples\n",
      " |  --------\n",
      " |  Construct the polynomial :math:`x^2 + 2x + 3`:\n",
      " |  \n",
      " |  >>> p = np.poly1d([1, 2, 3])\n",
      " |  >>> print(np.poly1d(p))\n",
      " |     2\n",
      " |  1 x + 2 x + 3\n",
      " |  \n",
      " |  Evaluate the polynomial at :math:`x = 0.5`:\n",
      " |  \n",
      " |  >>> p(0.5)\n",
      " |  4.25\n",
      " |  \n",
      " |  Find the roots:\n",
      " |  \n",
      " |  >>> p.r\n",
      " |  array([-1.+1.41421356j, -1.-1.41421356j])\n",
      " |  >>> p(p.r)\n",
      " |  array([ -4.44089210e-16+0.j,  -4.44089210e-16+0.j]) # may vary\n",
      " |  \n",
      " |  These numbers in the previous line represent (0, 0) to machine precision\n",
      " |  \n",
      " |  Show the coefficients:\n",
      " |  \n",
      " |  >>> p.c\n",
      " |  array([1, 2, 3])\n",
      " |  \n",
      " |  Display the order (the leading zero-coefficients are removed):\n",
      " |  \n",
      " |  >>> p.order\n",
      " |  2\n",
      " |  \n",
      " |  Show the coefficient of the k-th power in the polynomial\n",
      " |  (which is equivalent to ``p.c[-(i+1)]``):\n",
      " |  \n",
      " |  >>> p[1]\n",
      " |  2\n",
      " |  \n",
      " |  Polynomials can be added, subtracted, multiplied, and divided\n",
      " |  (returns quotient and remainder):\n",
      " |  \n",
      " |  >>> p * p\n",
      " |  poly1d([ 1,  4, 10, 12,  9])\n",
      " |  \n",
      " |  >>> (p**3 + 4) / p\n",
      " |  (poly1d([ 1.,  4., 10., 12.,  9.]), poly1d([4.]))\n",
      " |  \n",
      " |  ``asarray(p)`` gives the coefficient array, so polynomials can be\n",
      " |  used in all functions that accept arrays:\n",
      " |  \n",
      " |  >>> p**2 # square of polynomial\n",
      " |  poly1d([ 1,  4, 10, 12,  9])\n",
      " |  \n",
      " |  >>> np.square(p) # square of individual coefficients\n",
      " |  array([1, 4, 9])\n",
      " |  \n",
      " |  The variable used in the string representation of `p` can be modified,\n",
      " |  using the `variable` parameter:\n",
      " |  \n",
      " |  >>> p = np.poly1d([1,2,3], variable='z')\n",
      " |  >>> print(p)\n",
      " |     2\n",
      " |  1 z + 2 z + 3\n",
      " |  \n",
      " |  Construct a polynomial from its roots:\n",
      " |  \n",
      " |  >>> np.poly1d([1, 2], True)\n",
      " |  poly1d([ 1., -3.,  2.])\n",
      " |  \n",
      " |  This is the same polynomial as obtained by:\n",
      " |  \n",
      " |  >>> np.poly1d([1, -1]) * np.poly1d([1, -2])\n",
      " |  poly1d([ 1, -3,  2])\n",
      " |  \n",
      " |  Methods defined here:\n",
      " |  \n",
      " |  __add__(self, other)\n",
      " |  \n",
      " |  __array__(self, t=None)\n",
      " |  \n",
      " |  __call__(self, val)\n",
      " |      Call self as a function.\n",
      " |  \n",
      " |  __div__(self, other)\n",
      " |  \n",
      " |  __eq__(self, other)\n",
      " |      Return self==value.\n",
      " |  \n",
      " |  __getitem__(self, val)\n",
      " |  \n",
      " |  __init__(self, c_or_r, r=False, variable=None)\n",
      " |      Initialize self.  See help(type(self)) for accurate signature.\n",
      " |  \n",
      " |  __iter__(self)\n",
      " |  \n",
      " |  __len__(self)\n",
      " |  \n",
      " |  __mul__(self, other)\n",
      " |  \n",
      " |  __ne__(self, other)\n",
      " |      Return self!=value.\n",
      " |  \n",
      " |  __neg__(self)\n",
      " |  \n",
      " |  __pos__(self)\n",
      " |  \n",
      " |  __pow__(self, val)\n",
      " |  \n",
      " |  __radd__(self, other)\n",
      " |  \n",
      " |  __rdiv__(self, other)\n",
      " |  \n",
      " |  __repr__(self)\n",
      " |      Return repr(self).\n",
      " |  \n",
      " |  __rmul__(self, other)\n",
      " |  \n",
      " |  __rsub__(self, other)\n",
      " |  \n",
      " |  __rtruediv__ = __rdiv__(self, other)\n",
      " |  \n",
      " |  __setitem__(self, key, val)\n",
      " |  \n",
      " |  __str__(self)\n",
      " |      Return str(self).\n",
      " |  \n",
      " |  __sub__(self, other)\n",
      " |  \n",
      " |  __truediv__ = __div__(self, other)\n",
      " |  \n",
      " |  deriv(self, m=1)\n",
      " |      Return a derivative of this polynomial.\n",
      " |      \n",
      " |      Refer to `polyder` for full documentation.\n",
      " |      \n",
      " |      See Also\n",
      " |      --------\n",
      " |      polyder : equivalent function\n",
      " |  \n",
      " |  integ(self, m=1, k=0)\n",
      " |      Return an antiderivative (indefinite integral) of this polynomial.\n",
      " |      \n",
      " |      Refer to `polyint` for full documentation.\n",
      " |      \n",
      " |      See Also\n",
      " |      --------\n",
      " |      polyint : equivalent function\n",
      " |  \n",
      " |  ----------------------------------------------------------------------\n",
      " |  Data descriptors defined here:\n",
      " |  \n",
      " |  __dict__\n",
      " |      dictionary for instance variables (if defined)\n",
      " |  \n",
      " |  __weakref__\n",
      " |      list of weak references to the object (if defined)\n",
      " |  \n",
      " |  c\n",
      " |      The polynomial coefficients\n",
      " |  \n",
      " |  coef\n",
      " |      The polynomial coefficients\n",
      " |  \n",
      " |  coefficients\n",
      " |      The polynomial coefficients\n",
      " |  \n",
      " |  coeffs\n",
      " |      The polynomial coefficients\n",
      " |  \n",
      " |  o\n",
      " |      The order or degree of the polynomial\n",
      " |  \n",
      " |  order\n",
      " |      The order or degree of the polynomial\n",
      " |  \n",
      " |  r\n",
      " |      The roots of the polynomial, where self(x) == 0\n",
      " |  \n",
      " |  roots\n",
      " |      The roots of the polynomial, where self(x) == 0\n",
      " |  \n",
      " |  variable\n",
      " |      The name of the polynomial variable\n",
      " |  \n",
      " |  ----------------------------------------------------------------------\n",
      " |  Data and other attributes defined here:\n",
      " |  \n",
      " |  __hash__ = None\n",
      "\n"
     ]
    }
   ],
   "source": [
    "help(np.poly1d)"
   ]
  },
  {
   "cell_type": "code",
   "execution_count": null,
   "metadata": {},
   "outputs": [],
   "source": []
  },
  {
   "cell_type": "markdown",
   "metadata": {},
   "source": [
    "# 傅里叶变换  "
   ]
  },
  {
   "cell_type": "markdown",
   "metadata": {},
   "source": [
    "[python做傅里叶变换](https://www.cnblogs.com/LXP-Never/p/11558302.html)"
   ]
  },
  {
   "cell_type": "code",
   "execution_count": 2,
   "metadata": {},
   "outputs": [
    {
     "data": {
      "text/plain": [
       "(1000,)"
      ]
     },
     "execution_count": 2,
     "metadata": {},
     "output_type": "execute_result"
    },
    {
     "name": "stdout",
     "output_type": "stream",
     "text": [
      "(1000,)\n",
      "complex128\n",
      "(-2.1458390619955026e-12+0j)\n"
     ]
    },
    {
     "data": {
      "text/plain": [
       "<matplotlib.axes._subplots.AxesSubplot at 0x24f968a47c8>"
      ]
     },
     "execution_count": 2,
     "metadata": {},
     "output_type": "execute_result"
    },
    {
     "data": {
      "text/plain": [
       "[<matplotlib.lines.Line2D at 0x24f9693ae88>]"
      ]
     },
     "execution_count": 2,
     "metadata": {},
     "output_type": "execute_result"
    },
    {
     "data": {
      "text/plain": [
       "<matplotlib.axes._subplots.AxesSubplot at 0x24f94d54d08>"
      ]
     },
     "execution_count": 2,
     "metadata": {},
     "output_type": "execute_result"
    },
    {
     "name": "stderr",
     "output_type": "stream",
     "text": [
      "D:\\MySoft\\Anaconda3\\lib\\site-packages\\numpy\\core\\_asarray.py:85: ComplexWarning: Casting complex values to real discards the imaginary part\n",
      "  return array(a, dtype, copy=False, order=order)\n"
     ]
    },
    {
     "data": {
      "text/plain": [
       "[<matplotlib.lines.Line2D at 0x24f97037ec8>]"
      ]
     },
     "execution_count": 2,
     "metadata": {},
     "output_type": "execute_result"
    },
    {
     "data": {
      "text/plain": [
       "<matplotlib.axes._subplots.AxesSubplot at 0x24f9805b108>"
      ]
     },
     "execution_count": 2,
     "metadata": {},
     "output_type": "execute_result"
    },
    {
     "data": {
      "text/plain": [
       "Text(0.5, 1.0, 'Frequency Domain')"
      ]
     },
     "execution_count": 2,
     "metadata": {},
     "output_type": "execute_result"
    },
    {
     "data": {
      "text/plain": [
       "Text(0.5, 0, 'Frequency')"
      ]
     },
     "execution_count": 2,
     "metadata": {},
     "output_type": "execute_result"
    },
    {
     "data": {
      "text/plain": [
       "Text(0, 0.5, 'Power')"
      ]
     },
     "execution_count": 2,
     "metadata": {},
     "output_type": "execute_result"
    },
    {
     "data": {
      "text/plain": [
       "[<matplotlib.lines.Line2D at 0x24f97078fc8>]"
      ]
     },
     "execution_count": 2,
     "metadata": {},
     "output_type": "execute_result"
    },
    {
     "data": {
      "text/plain": [
       "<matplotlib.legend.Legend at 0x24f980a0fc8>"
      ]
     },
     "execution_count": 2,
     "metadata": {},
     "output_type": "execute_result"
    },
    {
     "data": {
      "image/png": "[encoded data removed]",
      "text/plain": [
       "<Figure size 432x288 with 3 Axes>"
      ]
     },
     "metadata": {
      "needs_background": "light"
     },
     "output_type": "display_data"
    }
   ],
   "source": [
    "import numpy.fft as fft\n",
    "\n",
    "x = np.linspace(-2 * np.pi, 2 * np.pi, 1000)\n",
    "\n",
    "n = 1000\n",
    "y = np.zeros(x.size)\n",
    "y.shape\n",
    "for i in range(1, n + 1):\n",
    "    y += 4 * np.pi / (2 * i - 1) * np.sin((2 * i - 1) * x)\n",
    "# y\n",
    "complex_array = fft.fft(y)\n",
    "# complex_array\n",
    "print(complex_array.shape)  # (1000,) \n",
    "print(complex_array.dtype)  # complex128 \n",
    "print(complex_array[0])  # (-2.1458390619955026e-12+0j)\n",
    "y_new = fft.ifft(complex_array)\n",
    "# y - y_new\n",
    "plt.subplot(311)\n",
    "plt.grid(linestyle=':')\n",
    "plt.plot(x, y, label='y')  # y是1000个相加后的正弦序列\n",
    "plt.subplot(312)\n",
    "plt.plot(x, y_new, label='y_new', color='orangered')  # y是ifft变换后的序列\n",
    "\n",
    "# 得到分解波的频率序列\n",
    "freqs = fft.fftfreq(x.size, x[1] - x[0])\n",
    "# freqs\n",
    "# 复数的模为信号的振幅（能量大小）\n",
    "complex_array = fft.fft(y)\n",
    "pows = np.abs(complex_array)\n",
    "\n",
    "plt.subplot(313)\n",
    "plt.title('Frequency Domain', fontsize=16)\n",
    "plt.xlabel('Frequency', fontsize=12)\n",
    "plt.ylabel('Power', fontsize=12)\n",
    "plt.tick_params(labelsize=10)\n",
    "plt.grid(linestyle=':')\n",
    "plt.plot(freqs[freqs > 0], pows[freqs > 0], c='orangered', label='Frequency')\n",
    "plt.legend()\n",
    "plt.tight_layout()\n",
    "plt.show()\n"
   ]
  },
  {
   "cell_type": "markdown",
   "metadata": {},
   "source": [
    "## 频域信号处理"
   ]
  },
  {
   "cell_type": "code",
   "execution_count": 7,
   "metadata": {},
   "outputs": [
    {
     "data": {
      "text/plain": [
       "array([0.92, 0.57, 0.92, 0.8 , 0.29, 0.47, 0.17, 0.57])"
      ]
     },
     "execution_count": 7,
     "metadata": {},
     "output_type": "execute_result"
    },
    {
     "data": {
      "text/plain": [
       "array([ 4.71+0.j  ,  0.54-0.98j,  0.12+0.33j,  0.72+0.53j, -0.1 +0.j  ,\n",
       "        0.72-0.53j,  0.12-0.33j,  0.54+0.98j])"
      ]
     },
     "execution_count": 7,
     "metadata": {},
     "output_type": "execute_result"
    },
    {
     "data": {
      "text/plain": [
       "array([0.92, 0.57, 0.92, 0.8 , 0.29, 0.47, 0.17, 0.57])"
      ]
     },
     "execution_count": 7,
     "metadata": {},
     "output_type": "execute_result"
    }
   ],
   "source": [
    "x = np.random.rand(8)\n",
    "xf = np.fft.fft(x)\n",
    "x\n",
    "xf\n",
    "np.real(np.fft.ifft(xf))"
   ]
  },
  {
   "cell_type": "code",
   "execution_count": null,
   "metadata": {},
   "outputs": [],
   "source": [
    "x = np.ones(8)\n",
    "# x = np.arange(8)\n",
    "xf = np.fft.fft(x)\n",
    "x\n",
    "xf"
   ]
  },
  {
   "cell_type": "code",
   "execution_count": 12,
   "metadata": {
    "scrolled": true
   },
   "outputs": [
    {
     "data": {
      "text/plain": [
       "array([ 0.  ,  0.71,  1.  ,  0.71,  0.  , -0.71, -1.  , -0.71])"
      ]
     },
     "execution_count": 12,
     "metadata": {},
     "output_type": "execute_result"
    },
    {
     "data": {
      "text/plain": [
       "array([ 0.+0.j, -0.-4.j,  0.-0.j,  0.+0.j,  0.+0.j,  0.+0.j,  0.+0.j,\n",
       "       -0.+4.j])"
      ]
     },
     "execution_count": 12,
     "metadata": {},
     "output_type": "execute_result"
    },
    {
     "data": {
      "text/plain": [
       "array([ 0.+0.j , -0.-0.5j,  0.-0.j ,  0.+0.j ,  0.+0.j ,  0.+0.j ,\n",
       "        0.+0.j , -0.+0.5j])"
      ]
     },
     "execution_count": 12,
     "metadata": {},
     "output_type": "execute_result"
    }
   ],
   "source": [
    "x0 = np.arange(0,2*np.pi,2*np.pi/8)\n",
    "x = np.sin(x0)\n",
    "xf = np.fft.fft(x)\n",
    "x\n",
    "xf\n",
    "xf/len(x)"
   ]
  },
  {
   "cell_type": "code",
   "execution_count": 13,
   "metadata": {},
   "outputs": [
    {
     "data": {
      "text/plain": [
       "array([ 1.  ,  0.71,  0.  , -0.71, -1.  , -0.71, -0.  ,  0.71])"
      ]
     },
     "execution_count": 13,
     "metadata": {},
     "output_type": "execute_result"
    },
    {
     "data": {
      "text/plain": [
       "array([-0.+0.j,  4.-0.j,  0.+0.j,  0.+0.j,  0.+0.j,  0.-0.j,  0.+0.j,\n",
       "        4.+0.j])"
      ]
     },
     "execution_count": 13,
     "metadata": {},
     "output_type": "execute_result"
    },
    {
     "data": {
      "text/plain": [
       "array([-0. +0.j,  0.5-0.j,  0. +0.j,  0. +0.j,  0. +0.j,  0. -0.j,\n",
       "        0. +0.j,  0.5+0.j])"
      ]
     },
     "execution_count": 13,
     "metadata": {},
     "output_type": "execute_result"
    }
   ],
   "source": [
    "x0 = np.arange(0,2*np.pi,2*np.pi/8)\n",
    "x = np.cos(x0)\n",
    "xf = np.fft.fft(x)\n",
    "x\n",
    "xf\n",
    "xf/len(x)"
   ]
  },
  {
   "cell_type": "code",
   "execution_count": 22,
   "metadata": {},
   "outputs": [
    {
     "data": {
      "text/plain": [
       "'[ 0.+0.j  0.+0.j -0.-1.j  0.-0.j  0.+0.j  0.+0.j -0.+1.j  0.-0.j]'"
      ]
     },
     "execution_count": 22,
     "metadata": {},
     "output_type": "execute_result"
    },
    {
     "data": {
      "text/plain": [
       "'[-0.+0.j  0.-0.j  0.+0.j -0.-1.j  0.+0.j -0.+1.j  0.-0.j  0.+0.j]'"
      ]
     },
     "execution_count": 22,
     "metadata": {},
     "output_type": "execute_result"
    },
    {
     "data": {
      "text/plain": [
       "'[-0. +0.j   0.5-0.5j  0. -0.j   0. -0.j   0. +0.j   0. +0.j   0. +0.j\\n  0.5+0.5j]'"
      ]
     },
     "execution_count": 22,
     "metadata": {},
     "output_type": "execute_result"
    },
    {
     "data": {
      "text/plain": [
       "'[ 55.99 +0.j    13.59+38.25j -11.5 +25.22j -19.12+11.63j -20.92 +0.j\\n -19.12-11.63j -11.5 -25.22j  13.59-38.25j]'"
      ]
     },
     "execution_count": 22,
     "metadata": {},
     "output_type": "execute_result"
    }
   ],
   "source": [
    "x = np.arange(0,2*np.pi,2*np.pi/8)\n",
    "tmp = np.fft.fft(2*np.sin(2*x))/len(x)\n",
    "np.array_str(tmp,suppress_small=True)\n",
    "\n",
    "tmp = np.fft.fft(2*np.sin(3*x))/len(x)\n",
    "np.array_str(tmp,suppress_small=True)\n",
    "\n",
    "tmp = np.fft.fft(np.sin(1*x)+np.cos(x))/len(x)\n",
    "np.array_str(tmp,suppress_small=True)\n",
    "\n",
    "tmp = np.fft.fft(np.exp(x))/len(x)\n",
    "np.array_str(tmp,suppress_small=True)"
   ]
  },
  {
   "cell_type": "code",
   "execution_count": 21,
   "metadata": {},
   "outputs": [
    {
     "data": {
      "text/plain": [
       "[<matplotlib.lines.Line2D at 0x24fad151488>]"
      ]
     },
     "execution_count": 21,
     "metadata": {},
     "output_type": "execute_result"
    },
    {
     "data": {
      "text/plain": [
       "1.4138130495871821"
      ]
     },
     "execution_count": 21,
     "metadata": {},
     "output_type": "execute_result"
    },
    {
     "data": {
      "image/png": "[encoded data removed]",
      "text/plain": [
       "<Figure size 432x288 with 1 Axes>"
      ]
     },
     "metadata": {
      "needs_background": "light"
     },
     "output_type": "display_data"
    }
   ],
   "source": [
    "x = np.linspace(0,2*np.pi,100)\n",
    "y = np.sin(x)+np.cos(x)\n",
    "plt.plot(x,y)\n",
    "np.max(y)"
   ]
  },
  {
   "cell_type": "code",
   "execution_count": 46,
   "metadata": {},
   "outputs": [
    {
     "data": {
      "text/plain": [
       "'[ 0.  +0.j    0.15-0.j    0.18+0.18j  0.2 -0.35j  0.  -0.j    0.  +0.j\\n  0.  +0.j   -0.  +0.j  ]'"
      ]
     },
     "execution_count": 46,
     "metadata": {},
     "output_type": "execute_result"
    },
    {
     "data": {
      "text/plain": [
       "(0.17677669529663692+0.17677669529663698j)"
      ]
     },
     "execution_count": 46,
     "metadata": {},
     "output_type": "execute_result"
    },
    {
     "data": {
      "text/plain": [
       "0.2500000000000001"
      ]
     },
     "execution_count": 46,
     "metadata": {},
     "output_type": "execute_result"
    },
    {
     "data": {
      "text/plain": [
       "0.7853981633974485"
      ]
     },
     "execution_count": 46,
     "metadata": {},
     "output_type": "execute_result"
    },
    {
     "data": {
      "text/plain": [
       "45.000000000000014"
      ]
     },
     "execution_count": 46,
     "metadata": {},
     "output_type": "execute_result"
    }
   ],
   "source": [
    "x = np.arange(0,2*np.pi,2*np.pi/128)\n",
    "y = 0.3*np.cos(x)+0.5*np.cos(2*x+np.pi/4)+0.8*np.cos(3*x-np.pi/3)\n",
    "yf = np.fft.fft(y)/len(y)\n",
    "np.array_str(yf[:8],suppress_small=True)\n",
    "i = 2\n",
    "yf[i]\n",
    "np.abs(yf[i]) # 模\n",
    "np.angle(yf[i]) # 弧度\n",
    "np.rad2deg(np.angle(yf[i])) # 角度"
   ]
  },
  {
   "cell_type": "code",
   "execution_count": 29,
   "metadata": {},
   "outputs": [
    {
     "name": "stdout",
     "output_type": "stream",
     "text": [
      "Help on function angle in module numpy:\n",
      "\n",
      "angle(z, deg=False)\n",
      "    Return the angle of the complex argument.\n",
      "    \n",
      "    Parameters\n",
      "    ----------\n",
      "    z : array_like\n",
      "        A complex number or sequence of complex numbers.\n",
      "    deg : bool, optional\n",
      "        Return angle in degrees if True, radians if False (default).\n",
      "    \n",
      "    Returns\n",
      "    -------\n",
      "    angle : ndarray or scalar\n",
      "        The counterclockwise angle from the positive real axis on the complex\n",
      "        plane in the range ``(-pi, pi]``, with dtype as numpy.float64.\n",
      "    \n",
      "        ..versionchanged:: 1.16.0\n",
      "            This function works on subclasses of ndarray like `ma.array`.\n",
      "    \n",
      "    See Also\n",
      "    --------\n",
      "    arctan2\n",
      "    absolute\n",
      "    \n",
      "    Examples\n",
      "    --------\n",
      "    >>> np.angle([1.0, 1.0j, 1+1j])               # in radians\n",
      "    array([ 0.        ,  1.57079633,  0.78539816]) # may vary\n",
      "    >>> np.angle(1+1j, deg=True)                  # in degrees\n",
      "    45.0\n",
      "\n"
     ]
    }
   ],
   "source": [
    "help(np.angle)"
   ]
  },
  {
   "cell_type": "markdown",
   "metadata": {},
   "source": [
    "### 合成时域信号"
   ]
  },
  {
   "cell_type": "code",
   "execution_count": 80,
   "metadata": {},
   "outputs": [
    {
     "name": "stderr",
     "output_type": "stream",
     "text": [
      "D:\\MySoft\\Anaconda3\\lib\\site-packages\\ipykernel_launcher.py:33: RuntimeWarning: divide by zero encountered in log10\n"
     ]
    },
    {
     "data": {
      "text/plain": [
       "[<matplotlib.lines.Line2D at 0x24fb4f36ac8>]"
      ]
     },
     "execution_count": 80,
     "metadata": {},
     "output_type": "execute_result"
    },
    {
     "data": {
      "text/plain": [
       "Text(0.5, 0, 'frequency bin')"
      ]
     },
     "execution_count": 80,
     "metadata": {},
     "output_type": "execute_result"
    },
    {
     "data": {
      "text/plain": [
       "Text(0, 0.5, 'dB')"
      ]
     },
     "execution_count": 80,
     "metadata": {},
     "output_type": "execute_result"
    },
    {
     "data": {
      "text/plain": [
       "[<matplotlib.lines.Line2D at 0x24fb4efe348>]"
      ]
     },
     "execution_count": 80,
     "metadata": {},
     "output_type": "execute_result"
    },
    {
     "data": {
      "text/plain": [
       "[<matplotlib.lines.Line2D at 0x24fb4ef96c8>]"
      ]
     },
     "execution_count": 80,
     "metadata": {},
     "output_type": "execute_result"
    },
    {
     "data": {
      "text/plain": [
       "[<matplotlib.lines.Line2D at 0x24fb4ef9188>]"
      ]
     },
     "execution_count": 80,
     "metadata": {},
     "output_type": "execute_result"
    },
    {
     "data": {
      "text/plain": [
       "[<matplotlib.lines.Line2D at 0x24fb4decd48>]"
      ]
     },
     "execution_count": 80,
     "metadata": {},
     "output_type": "execute_result"
    },
    {
     "data": {
      "text/plain": [
       "[<matplotlib.lines.Line2D at 0x24fb4e0b308>]"
      ]
     },
     "execution_count": 80,
     "metadata": {},
     "output_type": "execute_result"
    },
    {
     "data": {
      "text/plain": [
       "[<matplotlib.lines.Line2D at 0x24fb4ef9948>]"
      ]
     },
     "execution_count": 80,
     "metadata": {},
     "output_type": "execute_result"
    },
    {
     "data": {
      "text/plain": [
       "[<matplotlib.lines.Line2D at 0x24fb4d48a08>]"
      ]
     },
     "execution_count": 80,
     "metadata": {},
     "output_type": "execute_result"
    },
    {
     "data": {
      "text/plain": [
       "<matplotlib.legend.Legend at 0x24fb4ef9248>"
      ]
     },
     "execution_count": 80,
     "metadata": {},
     "output_type": "execute_result"
    },
    {
     "data": {
      "image/png": "[encoded data removed]",
      "text/plain": [
       "<Figure size 576x432 with 2 Axes>"
      ]
     },
     "metadata": {
      "needs_background": "light"
     },
     "output_type": "display_data"
    }
   ],
   "source": [
    "def triangle_wave(size):\n",
    "    x = np.arange(0, 1, 1.0 / size)\n",
    "    y = np.where(x < 0.5, x, 0)\n",
    "    #     print(\"y1\",y)\n",
    "    y = np.where(x >= 0.5, 1 - x, y)\n",
    "    #     print(\"y2\",y)\n",
    "    return x, y\n",
    "\n",
    "\n",
    "def fft_combine(bins, n, loops=1):\n",
    "    length = len(bins) * loops\n",
    "    #     print(\"length\",length)\n",
    "    data = np.zeros(length)\n",
    "\n",
    "#     index = loops * np.arange(0, length, 1.0) / length * (2 * np.pi)\n",
    "    index = np.arange(0, length, 1.0) / len(bins) * (2 * np.pi)\n",
    "#     index = np.linspace(0,2*np.pi,length)\n",
    "#     print(\"index\", index)\n",
    "    for k, p in enumerate(bins[:n]):\n",
    "        if k != 0:\n",
    "            p *= 2\n",
    "        data += np.real(p) * np.cos(k * index)\n",
    "        data -= np.imag(p) * np.sin(k * index)\n",
    "    return index, data\n",
    "\n",
    "\n",
    "fft_size = 256\n",
    "x, y = triangle_wave(fft_size)\n",
    "fy = np.fft.fft(y) / fft_size\n",
    "# print(fy*20)\n",
    "# print(\"fy\", len(fy), fy.shape)\n",
    "fig, axes = plt.subplots(2, 1, figsize=(8, 6))\n",
    "axes[0].plot(np.clip(20 * np.log10(np.abs(fy[:20])), -120, 120), 'o')\n",
    "axes[0].set_xlabel(u\"frequency bin\")\n",
    "axes[0].set_ylabel(u\"dB\")\n",
    "\n",
    "axes[1].plot(y, label=u\"origin triagel_wave\", linewidth=2)\n",
    "for i in [0, 1, 3, 5, 7, 9]:\n",
    "    index, data = fft_combine(fy, i + 1, 2)\n",
    "    axes[1].plot(data, label=\"N=%s\" % i, alpha=0.6)\n",
    "axes[1].legend(loc=\"best\")"
   ]
  },
  {
   "cell_type": "code",
   "execution_count": 82,
   "metadata": {},
   "outputs": [
    {
     "name": "stderr",
     "output_type": "stream",
     "text": [
      "D:\\MySoft\\Anaconda3\\lib\\site-packages\\ipykernel_launcher.py:33: RuntimeWarning: divide by zero encountered in log10\n"
     ]
    },
    {
     "data": {
      "text/plain": [
       "[<matplotlib.lines.Line2D at 0x24fb2983788>]"
      ]
     },
     "execution_count": 82,
     "metadata": {},
     "output_type": "execute_result"
    },
    {
     "data": {
      "text/plain": [
       "Text(0.5, 0, 'frequency bin')"
      ]
     },
     "execution_count": 82,
     "metadata": {},
     "output_type": "execute_result"
    },
    {
     "data": {
      "text/plain": [
       "Text(0, 0.5, 'dB')"
      ]
     },
     "execution_count": 82,
     "metadata": {},
     "output_type": "execute_result"
    },
    {
     "data": {
      "text/plain": [
       "[<matplotlib.lines.Line2D at 0x24fafce0788>]"
      ]
     },
     "execution_count": 82,
     "metadata": {},
     "output_type": "execute_result"
    },
    {
     "data": {
      "text/plain": [
       "[<matplotlib.lines.Line2D at 0x24fb29aa2c8>]"
      ]
     },
     "execution_count": 82,
     "metadata": {},
     "output_type": "execute_result"
    },
    {
     "data": {
      "text/plain": [
       "[<matplotlib.lines.Line2D at 0x24fb29aa848>]"
      ]
     },
     "execution_count": 82,
     "metadata": {},
     "output_type": "execute_result"
    },
    {
     "data": {
      "text/plain": [
       "[<matplotlib.lines.Line2D at 0x24fafcca848>]"
      ]
     },
     "execution_count": 82,
     "metadata": {},
     "output_type": "execute_result"
    },
    {
     "data": {
      "text/plain": [
       "[<matplotlib.lines.Line2D at 0x24fb29a7a08>]"
      ]
     },
     "execution_count": 82,
     "metadata": {},
     "output_type": "execute_result"
    },
    {
     "data": {
      "text/plain": [
       "[<matplotlib.lines.Line2D at 0x24fb230eac8>]"
      ]
     },
     "execution_count": 82,
     "metadata": {},
     "output_type": "execute_result"
    },
    {
     "data": {
      "text/plain": [
       "[<matplotlib.lines.Line2D at 0x24fb2808808>]"
      ]
     },
     "execution_count": 82,
     "metadata": {},
     "output_type": "execute_result"
    },
    {
     "data": {
      "text/plain": [
       "<matplotlib.legend.Legend at 0x24fb29aa908>"
      ]
     },
     "execution_count": 82,
     "metadata": {},
     "output_type": "execute_result"
    },
    {
     "data": {
      "image/png": "[encoded data removed]",
      "text/plain": [
       "<Figure size 576x432 with 2 Axes>"
      ]
     },
     "metadata": {
      "needs_background": "light"
     },
     "output_type": "display_data"
    }
   ],
   "source": [
    "def triangle_wave(size):\n",
    "    x = np.arange(0, 1, 1.0 / size)\n",
    "    y = np.where(x < 0.5, 1.0, -1.0)\n",
    "    #     print(\"y1\",y)\n",
    "#     y = np.where(x >= 0.5, 1 - x, y)\n",
    "    #     print(\"y2\",y)\n",
    "    return x, y\n",
    "\n",
    "\n",
    "def fft_combine(bins, n, loops=1):\n",
    "    length = len(bins) * loops\n",
    "    #     print(\"length\",length)\n",
    "    data = np.zeros(length)\n",
    "\n",
    "#     index = loops * np.arange(0, length, 1.0) / length * (2 * np.pi)\n",
    "    index = np.arange(0, length, 1.0) / len(bins) * (2 * np.pi)\n",
    "#     index = np.linspace(0,2*np.pi,length)\n",
    "#     print(\"index\", index)\n",
    "    for k, p in enumerate(bins[:n]):\n",
    "        if k != 0:\n",
    "            p *= 2\n",
    "        data += np.real(p) * np.cos(k * index)\n",
    "        data -= np.imag(p) * np.sin(k * index)\n",
    "    return index, data\n",
    "\n",
    "\n",
    "fft_size = 256\n",
    "x, y = triangle_wave(fft_size)\n",
    "fy = np.fft.fft(y) / fft_size\n",
    "# print(fy*20)\n",
    "# print(\"fy\", len(fy), fy.shape)\n",
    "fig, axes = plt.subplots(2, 1, figsize=(8, 6))\n",
    "axes[0].plot(np.clip(20 * np.log10(np.abs(fy[:20])), -120, 120), 'o')\n",
    "axes[0].set_xlabel(u\"frequency bin\")\n",
    "axes[0].set_ylabel(u\"dB\")\n",
    "\n",
    "axes[1].plot(y, label=u\"origin triagel_wave\", linewidth=2)\n",
    "for i in [0, 1, 3, 5, 7, 9]:\n",
    "    index, data = fft_combine(fy, i + 1, 2)\n",
    "    axes[1].plot(data, label=\"N=%s\" % i, alpha=0.6)\n",
    "axes[1].legend(loc=\"best\")"
   ]
  },
  {
   "cell_type": "markdown",
   "metadata": {},
   "source": [
    "### 观察信号的频谱"
   ]
  },
  {
   "cell_type": "code",
   "execution_count": 116,
   "metadata": {},
   "outputs": [
    {
     "name": "stdout",
     "output_type": "stream",
     "text": [
      "freqs (257,)\n",
      "index (array([10, 15], dtype=int64),)\n",
      "[-6.02 -0.  ]\n"
     ]
    },
    {
     "data": {
      "image/png": "[encoded data removed]",
      "text/plain": [
       "<Figure size 576x288 with 2 Axes>"
      ]
     },
     "metadata": {
      "needs_background": "light"
     },
     "output_type": "display_data"
    }
   ],
   "source": [
    "sampling_rate, fft_size = 8000, 512\n",
    "t = np.arange(0, 1.0, 1.0 / sampling_rate)\n",
    "x = np.sin(2 * np.pi * 156.25 * t) + 2 * np.sin(2 * np.pi * 234.375 * t)\n",
    "\n",
    "\n",
    "def show_fft(x):\n",
    "    xs = x[:fft_size]\n",
    "    xf = np.fft.rfft(xs) / fft_size\n",
    "#     xf = np.fft.fft(xs) / fft_size\n",
    "#     print(\"xf\",xf.shape,xf1.shape)\n",
    "#     print(sampling_rate // 2, fft_size // 2 + 1)\n",
    "    \n",
    "    freqs = np.linspace(0, sampling_rate / 2, int(fft_size / 2 + 1))\n",
    "    print(\"freqs\",freqs.shape)\n",
    "#     print(\"np.abs(xf)\",20*np.abs(xf))\n",
    "    xf_abs = np.abs(xf)\n",
    "#     print(xf_abs)\n",
    "    idx = np.nonzero(np.abs(xf)>0.01)\n",
    "    print(\"index\",idx)# 大于阈值的索引\n",
    "    \n",
    "    xfp = 20 * np.log10(np.clip(np.abs(xf),1e-20,1e100))\n",
    "    \n",
    "    print(xfp[idx])\n",
    "#     print(\"xft\",xf.shape,xfp.shape,xfp)\n",
    "    plt.figure(figsize=(8, 4))\n",
    "    plt.subplot(211)\n",
    "    plt.plot(t[:fft_size], xs)\n",
    "    plt.xlabel(u\"time\")\n",
    "    plt.subplot(212)\n",
    "    plt.plot(freqs, xfp)\n",
    "    plt.xlabel(u\"freqs(Hz)\")\n",
    "    plt.subplots_adjust(hspace=0.4)\n",
    "#     plt.show()\n",
    "\n",
    "\n",
    "show_fft(x)\n"
   ]
  },
  {
   "cell_type": "code",
   "execution_count": 92,
   "metadata": {},
   "outputs": [
    {
     "data": {
      "text/plain": [
       "array([ 1.92+0.j  , -0.03-0.25j, -2.45-1.1j , -1.52+1.18j, -3.05+0.j  ,\n",
       "       -1.52-1.18j, -2.45+1.1j , -0.03+0.25j])"
      ]
     },
     "execution_count": 92,
     "metadata": {},
     "output_type": "execute_result"
    },
    {
     "data": {
      "text/plain": [
       "array([ 1.92+0.j  , -0.03-0.25j, -2.45-1.1j , -1.52+1.18j, -3.05+0.j  ])"
      ]
     },
     "execution_count": 92,
     "metadata": {},
     "output_type": "execute_result"
    }
   ],
   "source": [
    "x = np.random.randn(8)\n",
    "np.fft.fft(x)\n",
    "np.fft.rfft(x)"
   ]
  },
  {
   "cell_type": "code",
   "execution_count": 93,
   "metadata": {},
   "outputs": [
    {
     "name": "stdout",
     "output_type": "stream",
     "text": [
      "Help on function rfft in module numpy.fft:\n",
      "\n",
      "rfft(a, n=None, axis=-1, norm=None)\n",
      "    Compute the one-dimensional discrete Fourier Transform for real input.\n",
      "    \n",
      "    This function computes the one-dimensional *n*-point discrete Fourier\n",
      "    Transform (DFT) of a real-valued array by means of an efficient algorithm\n",
      "    called the Fast Fourier Transform (FFT).\n",
      "    \n",
      "    Parameters\n",
      "    ----------\n",
      "    a : array_like\n",
      "        Input array\n",
      "    n : int, optional\n",
      "        Number of points along transformation axis in the input to use.\n",
      "        If `n` is smaller than the length of the input, the input is cropped.\n",
      "        If it is larger, the input is padded with zeros. If `n` is not given,\n",
      "        the length of the input along the axis specified by `axis` is used.\n",
      "    axis : int, optional\n",
      "        Axis over which to compute the FFT. If not given, the last axis is\n",
      "        used.\n",
      "    norm : {None, \"ortho\"}, optional\n",
      "        .. versionadded:: 1.10.0\n",
      "    \n",
      "        Normalization mode (see `numpy.fft`). Default is None.\n",
      "    \n",
      "    Returns\n",
      "    -------\n",
      "    out : complex ndarray\n",
      "        The truncated or zero-padded input, transformed along the axis\n",
      "        indicated by `axis`, or the last one if `axis` is not specified.\n",
      "        If `n` is even, the length of the transformed axis is ``(n/2)+1``.\n",
      "        If `n` is odd, the length is ``(n+1)/2``.\n",
      "    \n",
      "    Raises\n",
      "    ------\n",
      "    IndexError\n",
      "        If `axis` is larger than the last axis of `a`.\n",
      "    \n",
      "    See Also\n",
      "    --------\n",
      "    numpy.fft : For definition of the DFT and conventions used.\n",
      "    irfft : The inverse of `rfft`.\n",
      "    fft : The one-dimensional FFT of general (complex) input.\n",
      "    fftn : The *n*-dimensional FFT.\n",
      "    rfftn : The *n*-dimensional FFT of real input.\n",
      "    \n",
      "    Notes\n",
      "    -----\n",
      "    When the DFT is computed for purely real input, the output is\n",
      "    Hermitian-symmetric, i.e. the negative frequency terms are just the complex\n",
      "    conjugates of the corresponding positive-frequency terms, and the\n",
      "    negative-frequency terms are therefore redundant.  This function does not\n",
      "    compute the negative frequency terms, and the length of the transformed\n",
      "    axis of the output is therefore ``n//2 + 1``.\n",
      "    \n",
      "    When ``A = rfft(a)`` and fs is the sampling frequency, ``A[0]`` contains\n",
      "    the zero-frequency term 0*fs, which is real due to Hermitian symmetry.\n",
      "    \n",
      "    If `n` is even, ``A[-1]`` contains the term representing both positive\n",
      "    and negative Nyquist frequency (+fs/2 and -fs/2), and must also be purely\n",
      "    real. If `n` is odd, there is no term at fs/2; ``A[-1]`` contains\n",
      "    the largest positive frequency (fs/2*(n-1)/n), and is complex in the\n",
      "    general case.\n",
      "    \n",
      "    If the input `a` contains an imaginary part, it is silently discarded.\n",
      "    \n",
      "    Examples\n",
      "    --------\n",
      "    >>> np.fft.fft([0, 1, 0, 0])\n",
      "    array([ 1.+0.j,  0.-1.j, -1.+0.j,  0.+1.j]) # may vary\n",
      "    >>> np.fft.rfft([0, 1, 0, 0])\n",
      "    array([ 1.+0.j,  0.-1.j, -1.+0.j]) # may vary\n",
      "    \n",
      "    Notice how the final element of the `fft` output is the complex conjugate\n",
      "    of the second element, for real input. For `rfft`, this symmetry is\n",
      "    exploited to compute only the non-negative frequency terms.\n",
      "\n"
     ]
    }
   ],
   "source": [
    "help(np.fft.rfft)"
   ]
  },
  {
   "cell_type": "code",
   "execution_count": null,
   "metadata": {},
   "outputs": [],
   "source": []
  },
  {
   "cell_type": "code",
   "execution_count": null,
   "metadata": {},
   "outputs": [],
   "source": []
  },
  {
   "cell_type": "code",
   "execution_count": null,
   "metadata": {},
   "outputs": [],
   "source": []
  },
  {
   "cell_type": "code",
   "execution_count": null,
   "metadata": {},
   "outputs": [],
   "source": []
  },
  {
   "cell_type": "markdown",
   "metadata": {},
   "source": [
    "# End"
   ]
  },
  {
   "cell_type": "code",
   "execution_count": 3,
   "metadata": {},
   "outputs": [
    {
     "data": {
      "text/plain": [
       "0.999999327347282"
      ]
     },
     "execution_count": 3,
     "metadata": {},
     "output_type": "execute_result"
    },
    {
     "data": {
      "text/plain": [
       "1.0"
      ]
     },
     "execution_count": 3,
     "metadata": {},
     "output_type": "execute_result"
    },
    {
     "data": {
      "text/plain": [
       "1.0"
      ]
     },
     "execution_count": 3,
     "metadata": {},
     "output_type": "execute_result"
    }
   ],
   "source": [
    "np.log(2.71828)\n",
    "np.log2(2)\n",
    "np.log10(10)\n"
   ]
  },
  {
   "cell_type": "code",
   "execution_count": 7,
   "metadata": {},
   "outputs": [
    {
     "data": {
      "text/plain": [
       "1.4649735207179269"
      ]
     },
     "execution_count": 7,
     "metadata": {},
     "output_type": "execute_result"
    },
    {
     "data": {
      "text/plain": [
       "1.464973520717927"
      ]
     },
     "execution_count": 7,
     "metadata": {},
     "output_type": "execute_result"
    }
   ],
   "source": [
    "np.log(5)/np.log(3)\n",
    "np.log2(5)/np.log2(3)"
   ]
  },
  {
   "cell_type": "code",
   "execution_count": 8,
   "metadata": {},
   "outputs": [
    {
     "data": {
      "text/plain": [
       "array([[ 0,  1,  2,  3],\n",
       "       [ 4,  5,  6,  7],\n",
       "       [ 8,  9, 10, 11],\n",
       "       [12, 13, 14, 15]])"
      ]
     },
     "execution_count": 8,
     "metadata": {},
     "output_type": "execute_result"
    },
    {
     "data": {
      "text/plain": [
       "array([[ 5,  6,  7],\n",
       "       [ 9, 10, 11]])"
      ]
     },
     "execution_count": 8,
     "metadata": {},
     "output_type": "execute_result"
    },
    {
     "data": {
      "text/plain": [
       "array([[6, 7, 5],\n",
       "       [2, 3, 1]])"
      ]
     },
     "execution_count": 8,
     "metadata": {},
     "output_type": "execute_result"
    },
    {
     "data": {
      "text/plain": [
       "array([5, 2])"
      ]
     },
     "execution_count": 8,
     "metadata": {},
     "output_type": "execute_result"
    }
   ],
   "source": [
    "# 花式索引\n",
    "a = np.arange(16).reshape(4,4)\n",
    "a\n",
    "a[np.ix_([1,2],[1,2,3])]\n",
    "a[np.ix_([1,0],[2,3,1])]\n",
    "a[[1,0],[1,2]]\n",
    "# a[[[1,0],[1,2]]"
   ]
  },
  {
   "cell_type": "code",
   "execution_count": 19,
   "metadata": {},
   "outputs": [
    {
     "data": {
      "text/plain": [
       "(100,)"
      ]
     },
     "execution_count": 19,
     "metadata": {},
     "output_type": "execute_result"
    },
    {
     "data": {
      "text/plain": [
       "(101,)"
      ]
     },
     "execution_count": 19,
     "metadata": {},
     "output_type": "execute_result"
    },
    {
     "data": {
      "text/plain": [
       "[<matplotlib.lines.Line2D at 0x1d671474be0>]"
      ]
     },
     "execution_count": 19,
     "metadata": {},
     "output_type": "execute_result"
    },
    {
     "data": {
      "image/png": "[encoded data removed]",
      "text/plain": [
       "<Figure size 432x288 with 1 Axes>"
      ]
     },
     "metadata": {
      "needs_background": "light"
     },
     "output_type": "display_data"
    }
   ],
   "source": [
    "a = np.random.randn(1000000)\n",
    "hist, bin_edges = np.histogram(a, bins=100, density=True)\n",
    "hist.shape\n",
    "bin_edges.shape\n",
    "m = (bin_edges[:-1]+bin_edges[1:])/2\n",
    "\n",
    "plt.plot(m, hist)"
   ]
  },
  {
   "cell_type": "code",
   "execution_count": 60,
   "metadata": {
    "scrolled": false
   },
   "outputs": [
    {
     "data": {
      "text/plain": [
       "(100,)"
      ]
     },
     "execution_count": 60,
     "metadata": {},
     "output_type": "execute_result"
    },
    {
     "data": {
      "text/plain": [
       "(101,)"
      ]
     },
     "execution_count": 60,
     "metadata": {},
     "output_type": "execute_result"
    },
    {
     "data": {
      "text/plain": [
       "True"
      ]
     },
     "execution_count": 60,
     "metadata": {},
     "output_type": "execute_result"
    },
    {
     "data": {
      "text/plain": [
       "<matplotlib.collections.PathCollection at 0x1d6721f61f0>"
      ]
     },
     "execution_count": 60,
     "metadata": {},
     "output_type": "execute_result"
    },
    {
     "data": {
      "text/plain": [
       "[<matplotlib.lines.Line2D at 0x1d6721f6670>]"
      ]
     },
     "execution_count": 60,
     "metadata": {},
     "output_type": "execute_result"
    },
    {
     "data": {
      "text/plain": [
       "0.9999849998340277"
      ]
     },
     "execution_count": 60,
     "metadata": {},
     "output_type": "execute_result"
    },
    {
     "data": {
      "text/plain": [
       "0.9999849999999998"
      ]
     },
     "execution_count": 60,
     "metadata": {},
     "output_type": "execute_result"
    },
    {
     "data": {
      "image/png": "[encoded data removed]",
      "text/plain": [
       "<Figure size 432x288 with 1 Axes>"
      ]
     },
     "metadata": {
      "needs_background": "light"
     },
     "output_type": "display_data"
    }
   ],
   "source": [
    "a = np.random.randn(100000)\n",
    "hist, bin_edges = np.histogram(a, bins=100, density=True)\n",
    "hist.shape\n",
    "bin_edges.shape\n",
    "m = (bin_edges[:-1]+bin_edges[1:])/2\n",
    "x = np.linspace(min(m), max(m), 100000)\n",
    "np.all(np.diff(x) > 0)\n",
    "y = np.interp(x, m, hist)\n",
    "\n",
    "# plt.plot(m, hist)\n",
    "plt.scatter(m, hist)\n",
    "plt.plot(x, y)\n",
    "area = np.trapz(y, x, dx=0.1)\n",
    "area\n",
    "np.trapz(hist, m, dx=0.1)"
   ]
  },
  {
   "cell_type": "code",
   "execution_count": 66,
   "metadata": {
    "scrolled": false
   },
   "outputs": [
    {
     "data": {
      "text/plain": [
       "True"
      ]
     },
     "execution_count": 66,
     "metadata": {},
     "output_type": "execute_result"
    },
    {
     "data": {
      "text/plain": [
       "[<matplotlib.lines.Line2D at 0x1d60073b8e0>]"
      ]
     },
     "execution_count": 66,
     "metadata": {},
     "output_type": "execute_result"
    },
    {
     "data": {
      "text/plain": [
       "[<matplotlib.lines.Line2D at 0x1d60073b3a0>]"
      ]
     },
     "execution_count": 66,
     "metadata": {},
     "output_type": "execute_result"
    },
    {
     "data": {
      "text/plain": [
       "(0.0, 1.0)"
      ]
     },
     "execution_count": 66,
     "metadata": {},
     "output_type": "execute_result"
    },
    {
     "data": {
      "text/plain": [
       "(700.5999999300882, 800.1999999201286)"
      ]
     },
     "execution_count": 66,
     "metadata": {},
     "output_type": "execute_result"
    },
    {
     "data": {
      "text/plain": [
       "699.9894999999999"
      ]
     },
     "execution_count": 66,
     "metadata": {},
     "output_type": "execute_result"
    },
    {
     "data": {
      "text/plain": [
       "799.9879999999999"
      ]
     },
     "execution_count": 66,
     "metadata": {},
     "output_type": "execute_result"
    },
    {
     "data": {
      "text/plain": [
       "50000"
      ]
     },
     "execution_count": 66,
     "metadata": {},
     "output_type": "execute_result"
    },
    {
     "data": {
      "text/plain": [
       "96.12292554657363"
      ]
     },
     "execution_count": 66,
     "metadata": {},
     "output_type": "execute_result"
    },
    {
     "data": {
      "text/plain": [
       "22.635325652528053"
      ]
     },
     "execution_count": 66,
     "metadata": {},
     "output_type": "execute_result"
    },
    {
     "data": {
      "image/png": "[encoded data removed]",
      "text/plain": [
       "<Figure size 432x288 with 1 Axes>"
      ]
     },
     "metadata": {
      "needs_background": "light"
     },
     "output_type": "display_data"
    }
   ],
   "source": [
    "a0 = np.random.randn(100000)\n",
    "a = 0.7*(a0-np.min(a0))/(np.max(a0)-np.min(a0))\n",
    "b = 0.8*(a0-np.min(a0))/(np.max(a0)-np.min(a0))+0.2\n",
    "hist1, bin_edges1 = np.histogram(a, bins=100, density=False)\n",
    "hist2, bin_edges2 = np.histogram(b, bins=100, density=False)\n",
    "\n",
    "m1 = (bin_edges1[:-1]+bin_edges1[1:])/2\n",
    "m2 = (bin_edges2[:-1]+bin_edges2[1:])/2\n",
    "# x = np.linspace(min(m), max(m), 100000)\n",
    "x = np.linspace(0, 1, 100000)\n",
    "np.all(np.diff(x) > 0)\n",
    "y1 = np.interp(x, m1, hist1)\n",
    "y2 = np.interp(x, m2, hist2)\n",
    "# plt.plot(m, hist)\n",
    "# plt.scatter(m, hist)\n",
    "plt.plot(x, y1)\n",
    "plt.plot(x, y2)\n",
    "plt.xlim(0,1)\n",
    "tn = np.trapz(y1, x, dx=0.1)\n",
    "tp = np.trapz(y2, x, dx=0.1)\n",
    "tn, tp\n",
    "np.trapz(hist1, m1, dx=0.1)\n",
    "np.trapz(hist2, m2, dx=0.1)\n",
    "ma1 = x<0.5\n",
    "ma2 = x>0.5\n",
    "ma1.sum()\n",
    "fp = np.trapz(y2[ma1], x[ma1], dx=0.1)\n",
    "fp\n",
    "fn = np.trapz(y1[ma2], x[ma2], dx=0.1)\n",
    "fn\n",
    "r = tp/(tp+fn)\n",
    "p = tp/(tp+fp)"
   ]
  },
  {
   "cell_type": "code",
   "execution_count": 117,
   "metadata": {},
   "outputs": [],
   "source": [
    "def get_r_p(cls0, cls1):\n",
    "    \n",
    "    hist1, bin_edges1 = np.histogram(cls0, bins=100, density=False)\n",
    "    hist2, bin_edges2 = np.histogram(cls1, bins=100, density=False)\n",
    "\n",
    "#     m1 = (bin_edges1[:-1]+bin_edges1[1:])/2\n",
    "#     m2 = (bin_edges2[:-1]+bin_edges2[1:])/2\n",
    "    # x = np.linspace(min(m), max(m), 100000)\n",
    "#     m1 = np.concatenate\n",
    "    m1 = bin_edges1\n",
    "    m2 = bin_edges2\n",
    "    h1 = np.concatenate([np.zeros(1), hist1])\n",
    "    h2 = np.concatenate([hist2, np.zeros(1)])\n",
    "    x = np.linspace(0, 1, 100000)\n",
    "#     np.all(np.diff(x) > 0)\n",
    "    y1 = np.interp(x, m1, h1)\n",
    "    y2 = np.interp(x, m2, h2)\n",
    "    # plt.plot(m, hist)\n",
    "    # plt.scatter(m, hist)\n",
    "    plt.plot(x, y1)\n",
    "    plt.plot(x, y2)\n",
    "    plt.xlim(0,1)\n",
    "    tn = np.trapz(y1, x, dx=0.1)\n",
    "    tp = np.trapz(y2, x, dx=0.1)\n",
    "#     tn, tp\n",
    "    np.trapz(h1, m1, dx=0.1)\n",
    "    np.trapz(h2, m2, dx=0.1)\n",
    "    ma1 = x<0.5\n",
    "    ma2 = x>0.5\n",
    "#     ma1.sum()\n",
    "    fp = np.trapz(y2[ma1], x[ma1], dx=0.1)\n",
    "#     fp\n",
    "    fn = np.trapz(y1[ma2], x[ma2], dx=0.1)\n",
    "#     fn\n",
    "    r = tp/(tp+fn)\n",
    "    p = tp/(tp+fp)\n",
    "    return r, p"
   ]
  },
  {
   "cell_type": "code",
   "execution_count": 80,
   "metadata": {
    "scrolled": false
   },
   "outputs": [
    {
     "data": {
      "text/plain": [
       "(0.6994890364874564, 0.7030632609379999)"
      ]
     },
     "execution_count": 80,
     "metadata": {},
     "output_type": "execute_result"
    },
    {
     "data": {
      "text/plain": [
       "(0.7981339258402357, 0.7563490279297768)"
      ]
     },
     "execution_count": 80,
     "metadata": {},
     "output_type": "execute_result"
    },
    {
     "data": {
      "text/plain": [
       "(0.8375953154896448, 0.7867150032512883)"
      ]
     },
     "execution_count": 80,
     "metadata": {},
     "output_type": "execute_result"
    },
    {
     "data": {
      "text/plain": [
       "(0.8611727077053197, 0.8106107988100939)"
      ]
     },
     "execution_count": 80,
     "metadata": {},
     "output_type": "execute_result"
    },
    {
     "data": {
      "text/plain": [
       "(0.8806658400257802, 0.825949115773462)"
      ]
     },
     "execution_count": 80,
     "metadata": {},
     "output_type": "execute_result"
    },
    {
     "data": {
      "text/plain": [
       "(0.8900287364091597, 0.8289700929416058)"
      ]
     },
     "execution_count": 80,
     "metadata": {},
     "output_type": "execute_result"
    },
    {
     "data": {
      "text/plain": [
       "(0.8989782880112612, 0.8423788070001411)"
      ]
     },
     "execution_count": 80,
     "metadata": {},
     "output_type": "execute_result"
    },
    {
     "data": {
      "text/plain": [
       "(0.9143082954892547, 0.8525846280062842)"
      ]
     },
     "execution_count": 80,
     "metadata": {},
     "output_type": "execute_result"
    },
    {
     "data": {
      "text/plain": [
       "(0.9182105676666895, 0.8594690910540376)"
      ]
     },
     "execution_count": 80,
     "metadata": {},
     "output_type": "execute_result"
    },
    {
     "data": {
      "image/png": "[encoded data removed]",
      "text/plain": [
       "<Figure size 432x288 with 1 Axes>"
      ]
     },
     "metadata": {
      "needs_background": "light"
     },
     "output_type": "display_data"
    }
   ],
   "source": [
    "a0 = np.random.randn(100000)\n",
    "c0 = []\n",
    "c1 = []\n",
    "for i in range(1000):\n",
    "    a1 = np.random.randn()\n",
    "    b1 = np.random.randn()\n",
    "    a = 0.7*(a1-np.min(a0))/(np.max(a0)-np.min(a0))\n",
    "    b = 0.8*(b1-np.min(a0))/(np.max(a0)-np.min(a0))+0.2\n",
    "    c0.append(a)\n",
    "    c1.append(b)\n",
    "    if i>1 and i%100==0:\n",
    "        r,p = get_r_p(c0, c1)\n",
    "        r, p"
   ]
  },
  {
   "cell_type": "code",
   "execution_count": 122,
   "metadata": {
    "scrolled": false
   },
   "outputs": [
    {
     "data": {
      "text/plain": [
       "(1,)"
      ]
     },
     "execution_count": 122,
     "metadata": {},
     "output_type": "execute_result"
    },
    {
     "data": {
      "text/plain": [
       "(100,)"
      ]
     },
     "execution_count": 122,
     "metadata": {},
     "output_type": "execute_result"
    },
    {
     "data": {
      "text/plain": [
       "(0.6486326678319818, 0.6486326678319818)"
      ]
     },
     "execution_count": 122,
     "metadata": {},
     "output_type": "execute_result"
    },
    {
     "data": {
      "text/plain": [
       "(0.6479996316748655, 0.6479996316748655)"
      ]
     },
     "execution_count": 122,
     "metadata": {},
     "output_type": "execute_result"
    },
    {
     "data": {
      "image/png": "[encoded data removed]",
      "text/plain": [
       "<Figure size 432x288 with 1 Axes>"
      ]
     },
     "metadata": {
      "needs_background": "light"
     },
     "output_type": "display_data"
    }
   ],
   "source": [
    "num = 100\n",
    "a0 = np.random.randn(num)\n",
    "b0 = np.random.randn(num)\n",
    "a = 0.7*(a0-np.min(a0))/(np.max(a0)-np.min(a0))+0.01\n",
    "b = 0.8*(b0-np.min(b0))/(np.max(b0)-np.min(b0))+0.19\n",
    "a = np.sort(a)\n",
    "b = -np.sort(-b)\n",
    "np.zeros(1).shape\n",
    "a.shape\n",
    "# a = np.concatenate([np.zeros(1), a, np.ones(1)])\n",
    "# b = np.concatenate([np.ones(1), b, np.zeros(0)])\n",
    "# a\n",
    "# b\n",
    "for i in range(4):\n",
    "    if i>1 and i%1==0:\n",
    "#         c0 = np.concatenate([np.zeros(1), a[:i], np.zeros(1)])\n",
    "#         c1 = np.concatenate([np.ones(1), b[:i], np.zeros(0)])\n",
    "        c0 = a[:i]\n",
    "        c1 = b[:i]\n",
    "        r,p = get_r_p(c0, c1)\n",
    "        r, p"
   ]
  },
  {
   "cell_type": "code",
   "execution_count": 123,
   "metadata": {
    "scrolled": false
   },
   "outputs": [
    {
     "data": {
      "text/plain": [
       "[1.0,\n",
       " 1.0,\n",
       " 1.0,\n",
       " 1.0,\n",
       " 1.0,\n",
       " 1.0,\n",
       " 1.0,\n",
       " 1.0,\n",
       " 1.0,\n",
       " 1.0,\n",
       " 1.0,\n",
       " 1.0,\n",
       " 1.0,\n",
       " 1.0,\n",
       " 1.0,\n",
       " 1.0,\n",
       " 1.0,\n",
       " 1.0,\n",
       " 1.0,\n",
       " 1.0,\n",
       " 1.0,\n",
       " 1.0,\n",
       " 1.0,\n",
       " 1.0,\n",
       " 1.0,\n",
       " 1.0,\n",
       " 1.0,\n",
       " 1.0,\n",
       " 1.0,\n",
       " 1.0,\n",
       " 1.0,\n",
       " 1.0,\n",
       " 1.0,\n",
       " 1.0,\n",
       " 1.0,\n",
       " 1.0,\n",
       " 1.0,\n",
       " 1.0,\n",
       " 1.0,\n",
       " 1.0,\n",
       " 1.0,\n",
       " 1.0,\n",
       " 1.0,\n",
       " 1.0,\n",
       " 1.0,\n",
       " 1.0,\n",
       " 1.0,\n",
       " 1.0,\n",
       " 1.0,\n",
       " 1.0,\n",
       " 1.0,\n",
       " 1.0,\n",
       " 1.0,\n",
       " 1.0,\n",
       " 1.0,\n",
       " 1.0,\n",
       " 1.0,\n",
       " 1.0,\n",
       " 1.0,\n",
       " 1.0,\n",
       " 1.0,\n",
       " 1.0,\n",
       " 1.0,\n",
       " 1.0,\n",
       " 1.0,\n",
       " 1.0,\n",
       " 1.0,\n",
       " 1.0,\n",
       " 1.0,\n",
       " 1.0,\n",
       " 1.0,\n",
       " 1.0,\n",
       " 1.0,\n",
       " 1.0,\n",
       " 1.0,\n",
       " 1.0,\n",
       " 1.0,\n",
       " 1.0,\n",
       " 1.0,\n",
       " 1.0,\n",
       " 1.0,\n",
       " 1.0,\n",
       " 1.0,\n",
       " 1.0,\n",
       " 1.0,\n",
       " 1.0,\n",
       " 0.9827586206896551,\n",
       " 0.9661016949152542,\n",
       " 0.95,\n",
       " 0.9344262295081968,\n",
       " 0.9193548387096774,\n",
       " 0.9047619047619048,\n",
       " 0.890625,\n",
       " 0.8769230769230769,\n",
       " 0.8636363636363636,\n",
       " 0.8507462686567164,\n",
       " 0.8382352941176471,\n",
       " 0.8260869565217391,\n",
       " 0.8142857142857143,\n",
       " 0.8028169014084507]"
      ]
     },
     "execution_count": 123,
     "metadata": {},
     "output_type": "execute_result"
    },
    {
     "data": {
      "text/plain": [
       "[1.0,\n",
       " 1.0,\n",
       " 1.0,\n",
       " 1.0,\n",
       " 1.0,\n",
       " 1.0,\n",
       " 1.0,\n",
       " 1.0,\n",
       " 1.0,\n",
       " 1.0,\n",
       " 1.0,\n",
       " 1.0,\n",
       " 1.0,\n",
       " 1.0,\n",
       " 1.0,\n",
       " 1.0,\n",
       " 1.0,\n",
       " 1.0,\n",
       " 1.0,\n",
       " 1.0,\n",
       " 1.0,\n",
       " 1.0,\n",
       " 1.0,\n",
       " 1.0,\n",
       " 1.0,\n",
       " 1.0,\n",
       " 1.0,\n",
       " 1.0,\n",
       " 1.0,\n",
       " 1.0,\n",
       " 1.0,\n",
       " 1.0,\n",
       " 1.0,\n",
       " 1.0,\n",
       " 1.0,\n",
       " 1.0,\n",
       " 1.0,\n",
       " 1.0,\n",
       " 1.0,\n",
       " 1.0,\n",
       " 1.0,\n",
       " 1.0,\n",
       " 1.0,\n",
       " 1.0,\n",
       " 1.0,\n",
       " 1.0,\n",
       " 1.0,\n",
       " 1.0,\n",
       " 1.0,\n",
       " 1.0,\n",
       " 1.0,\n",
       " 1.0,\n",
       " 1.0,\n",
       " 1.0,\n",
       " 1.0,\n",
       " 1.0,\n",
       " 1.0,\n",
       " 0.9827586206896551,\n",
       " 0.9661016949152542,\n",
       " 0.95,\n",
       " 0.9344262295081968,\n",
       " 0.9193548387096774,\n",
       " 0.9047619047619048,\n",
       " 0.890625,\n",
       " 0.8769230769230769,\n",
       " 0.8636363636363636,\n",
       " 0.8507462686567164,\n",
       " 0.8382352941176471,\n",
       " 0.8260869565217391,\n",
       " 0.8142857142857143,\n",
       " 0.8028169014084507,\n",
       " 0.7916666666666666,\n",
       " 0.7808219178082192,\n",
       " 0.7702702702702703,\n",
       " 0.76,\n",
       " 0.75,\n",
       " 0.7402597402597403,\n",
       " 0.7307692307692307,\n",
       " 0.7215189873417721,\n",
       " 0.7125,\n",
       " 0.7037037037037037,\n",
       " 0.6951219512195121,\n",
       " 0.6867469879518072,\n",
       " 0.6785714285714286,\n",
       " 0.6705882352941176,\n",
       " 0.6627906976744186,\n",
       " 0.6551724137931034,\n",
       " 0.6477272727272727,\n",
       " 0.6404494382022472,\n",
       " 0.6333333333333333,\n",
       " 0.6263736263736264,\n",
       " 0.6195652173913043,\n",
       " 0.6129032258064516,\n",
       " 0.6063829787234043,\n",
       " 0.6,\n",
       " 0.59375,\n",
       " 0.5876288659793815,\n",
       " 0.5816326530612245,\n",
       " 0.5757575757575758,\n",
       " 0.57]"
      ]
     },
     "execution_count": 123,
     "metadata": {},
     "output_type": "execute_result"
    }
   ],
   "source": [
    "num = 100\n",
    "a0 = np.random.randn(num)\n",
    "b0 = np.random.randn(num)\n",
    "a = 0.7*(a0-np.min(a0))/(np.max(a0)-np.min(a0))+0.01\n",
    "b = 0.8*(b0-np.min(b0))/(np.max(b0)-np.min(b0))+0.19\n",
    "a = np.sort(a)\n",
    "b = -np.sort(-b)\n",
    "tp,fp,tn,fn = 0,0,0,0\n",
    "r, p = [],[]\n",
    "for i in range(num):\n",
    "    if a[i]<0.5:\n",
    "        tn += 1\n",
    "    else:\n",
    "        fn += 1\n",
    "    if b[i]>0.5:\n",
    "        tp += 1\n",
    "    else:\n",
    "        fp += 1\n",
    "    r.append(tp/(tp+fn))\n",
    "    p.append(tp/(tp+fp))\n",
    "r\n",
    "p"
   ]
  },
  {
   "cell_type": "code",
   "execution_count": 75,
   "metadata": {},
   "outputs": [
    {
     "name": "stdout",
     "output_type": "stream",
     "text": [
      "Help on function sort in module numpy:\n",
      "\n",
      "sort(a, axis=-1, kind=None, order=None)\n",
      "    Return a sorted copy of an array.\n",
      "    \n",
      "    Parameters\n",
      "    ----------\n",
      "    a : array_like\n",
      "        Array to be sorted.\n",
      "    axis : int or None, optional\n",
      "        Axis along which to sort. If None, the array is flattened before\n",
      "        sorting. The default is -1, which sorts along the last axis.\n",
      "    kind : {'quicksort', 'mergesort', 'heapsort', 'stable'}, optional\n",
      "        Sorting algorithm. The default is 'quicksort'. Note that both 'stable'\n",
      "        and 'mergesort' use timsort or radix sort under the covers and, in general,\n",
      "        the actual implementation will vary with data type. The 'mergesort' option\n",
      "        is retained for backwards compatibility.\n",
      "    \n",
      "        .. versionchanged:: 1.15.0.\n",
      "           The 'stable' option was added.\n",
      "    \n",
      "    order : str or list of str, optional\n",
      "        When `a` is an array with fields defined, this argument specifies\n",
      "        which fields to compare first, second, etc.  A single field can\n",
      "        be specified as a string, and not all fields need be specified,\n",
      "        but unspecified fields will still be used, in the order in which\n",
      "        they come up in the dtype, to break ties.\n",
      "    \n",
      "    Returns\n",
      "    -------\n",
      "    sorted_array : ndarray\n",
      "        Array of the same type and shape as `a`.\n",
      "    \n",
      "    See Also\n",
      "    --------\n",
      "    ndarray.sort : Method to sort an array in-place.\n",
      "    argsort : Indirect sort.\n",
      "    lexsort : Indirect stable sort on multiple keys.\n",
      "    searchsorted : Find elements in a sorted array.\n",
      "    partition : Partial sort.\n",
      "    \n",
      "    Notes\n",
      "    -----\n",
      "    The various sorting algorithms are characterized by their average speed,\n",
      "    worst case performance, work space size, and whether they are stable. A\n",
      "    stable sort keeps items with the same key in the same relative\n",
      "    order. The four algorithms implemented in NumPy have the following\n",
      "    properties:\n",
      "    \n",
      "    =========== ======= ============= ============ ========\n",
      "       kind      speed   worst case    work space   stable\n",
      "    =========== ======= ============= ============ ========\n",
      "    'quicksort'    1     O(n^2)            0          no\n",
      "    'heapsort'     3     O(n*log(n))       0          no\n",
      "    'mergesort'    2     O(n*log(n))      ~n/2        yes\n",
      "    'timsort'      2     O(n*log(n))      ~n/2        yes\n",
      "    =========== ======= ============= ============ ========\n",
      "    \n",
      "    .. note:: The datatype determines which of 'mergesort' or 'timsort'\n",
      "       is actually used, even if 'mergesort' is specified. User selection\n",
      "       at a finer scale is not currently available.\n",
      "    \n",
      "    All the sort algorithms make temporary copies of the data when\n",
      "    sorting along any but the last axis.  Consequently, sorting along\n",
      "    the last axis is faster and uses less space than sorting along\n",
      "    any other axis.\n",
      "    \n",
      "    The sort order for complex numbers is lexicographic. If both the real\n",
      "    and imaginary parts are non-nan then the order is determined by the\n",
      "    real parts except when they are equal, in which case the order is\n",
      "    determined by the imaginary parts.\n",
      "    \n",
      "    Previous to numpy 1.4.0 sorting real and complex arrays containing nan\n",
      "    values led to undefined behaviour. In numpy versions >= 1.4.0 nan\n",
      "    values are sorted to the end. The extended sort order is:\n",
      "    \n",
      "      * Real: [R, nan]\n",
      "      * Complex: [R + Rj, R + nanj, nan + Rj, nan + nanj]\n",
      "    \n",
      "    where R is a non-nan real value. Complex values with the same nan\n",
      "    placements are sorted according to the non-nan part if it exists.\n",
      "    Non-nan values are sorted as before.\n",
      "    \n",
      "    .. versionadded:: 1.12.0\n",
      "    \n",
      "    quicksort has been changed to `introsort <https://en.wikipedia.org/wiki/Introsort>`_.\n",
      "    When sorting does not make enough progress it switches to\n",
      "    `heapsort <https://en.wikipedia.org/wiki/Heapsort>`_.\n",
      "    This implementation makes quicksort O(n*log(n)) in the worst case.\n",
      "    \n",
      "    'stable' automatically chooses the best stable sorting algorithm\n",
      "    for the data type being sorted.\n",
      "    It, along with 'mergesort' is currently mapped to\n",
      "    `timsort <https://en.wikipedia.org/wiki/Timsort>`_\n",
      "    or `radix sort <https://en.wikipedia.org/wiki/Radix_sort>`_\n",
      "    depending on the data type.\n",
      "    API forward compatibility currently limits the\n",
      "    ability to select the implementation and it is hardwired for the different\n",
      "    data types.\n",
      "    \n",
      "    .. versionadded:: 1.17.0\n",
      "    \n",
      "    Timsort is added for better performance on already or nearly\n",
      "    sorted data. On random data timsort is almost identical to\n",
      "    mergesort. It is now used for stable sort while quicksort is still the\n",
      "    default sort if none is chosen. For timsort details, refer to\n",
      "    `CPython listsort.txt <https://github.com/python/cpython/blob/3.7/Objects/listsort.txt>`_.\n",
      "    'mergesort' and 'stable' are mapped to radix sort for integer data types. Radix sort is an\n",
      "    O(n) sort instead of O(n log n).\n",
      "    \n",
      "    .. versionchanged:: 1.18.0\n",
      "    \n",
      "    NaT now sorts to the end of arrays for consistency with NaN.\n",
      "    \n",
      "    Examples\n",
      "    --------\n",
      "    >>> a = np.array([[1,4],[3,1]])\n",
      "    >>> np.sort(a)                # sort along the last axis\n",
      "    array([[1, 4],\n",
      "           [1, 3]])\n",
      "    >>> np.sort(a, axis=None)     # sort the flattened array\n",
      "    array([1, 1, 3, 4])\n",
      "    >>> np.sort(a, axis=0)        # sort along the first axis\n",
      "    array([[1, 1],\n",
      "           [3, 4]])\n",
      "    \n",
      "    Use the `order` keyword to specify a field to use when sorting a\n",
      "    structured array:\n",
      "    \n",
      "    >>> dtype = [('name', 'S10'), ('height', float), ('age', int)]\n",
      "    >>> values = [('Arthur', 1.8, 41), ('Lancelot', 1.9, 38),\n",
      "    ...           ('Galahad', 1.7, 38)]\n",
      "    >>> a = np.array(values, dtype=dtype)       # create a structured array\n",
      "    >>> np.sort(a, order='height')                        # doctest: +SKIP\n",
      "    array([('Galahad', 1.7, 38), ('Arthur', 1.8, 41),\n",
      "           ('Lancelot', 1.8999999999999999, 38)],\n",
      "          dtype=[('name', '|S10'), ('height', '<f8'), ('age', '<i4')])\n",
      "    \n",
      "    Sort by age, then height if ages are equal:\n",
      "    \n",
      "    >>> np.sort(a, order=['age', 'height'])               # doctest: +SKIP\n",
      "    array([('Galahad', 1.7, 38), ('Lancelot', 1.8999999999999999, 38),\n",
      "           ('Arthur', 1.8, 41)],\n",
      "          dtype=[('name', '|S10'), ('height', '<f8'), ('age', '<i4')])\n",
      "\n"
     ]
    }
   ],
   "source": [
    "help(np.sort)"
   ]
  },
  {
   "cell_type": "code",
   "execution_count": null,
   "metadata": {},
   "outputs": [],
   "source": []
  },
  {
   "cell_type": "code",
   "execution_count": 9,
   "metadata": {},
   "outputs": [
    {
     "name": "stdout",
     "output_type": "stream",
     "text": [
      "Help on function histogram in module numpy:\n",
      "\n",
      "histogram(a, bins=10, range=None, normed=None, weights=None, density=None)\n",
      "    Compute the histogram of a set of data.\n",
      "    \n",
      "    Parameters\n",
      "    ----------\n",
      "    a : array_like\n",
      "        Input data. The histogram is computed over the flattened array.\n",
      "    bins : int or sequence of scalars or str, optional\n",
      "        If `bins` is an int, it defines the number of equal-width\n",
      "        bins in the given range (10, by default). If `bins` is a\n",
      "        sequence, it defines a monotonically increasing array of bin edges,\n",
      "        including the rightmost edge, allowing for non-uniform bin widths.\n",
      "    \n",
      "        .. versionadded:: 1.11.0\n",
      "    \n",
      "        If `bins` is a string, it defines the method used to calculate the\n",
      "        optimal bin width, as defined by `histogram_bin_edges`.\n",
      "    \n",
      "    range : (float, float), optional\n",
      "        The lower and upper range of the bins.  If not provided, range\n",
      "        is simply ``(a.min(), a.max())``.  Values outside the range are\n",
      "        ignored. The first element of the range must be less than or\n",
      "        equal to the second. `range` affects the automatic bin\n",
      "        computation as well. While bin width is computed to be optimal\n",
      "        based on the actual data within `range`, the bin count will fill\n",
      "        the entire range including portions containing no data.\n",
      "    normed : bool, optional\n",
      "    \n",
      "        .. deprecated:: 1.6.0\n",
      "    \n",
      "        This is equivalent to the `density` argument, but produces incorrect\n",
      "        results for unequal bin widths. It should not be used.\n",
      "    \n",
      "        .. versionchanged:: 1.15.0\n",
      "            DeprecationWarnings are actually emitted.\n",
      "    \n",
      "    weights : array_like, optional\n",
      "        An array of weights, of the same shape as `a`.  Each value in\n",
      "        `a` only contributes its associated weight towards the bin count\n",
      "        (instead of 1). If `density` is True, the weights are\n",
      "        normalized, so that the integral of the density over the range\n",
      "        remains 1.\n",
      "    density : bool, optional\n",
      "        If ``False``, the result will contain the number of samples in\n",
      "        each bin. If ``True``, the result is the value of the\n",
      "        probability *density* function at the bin, normalized such that\n",
      "        the *integral* over the range is 1. Note that the sum of the\n",
      "        histogram values will not be equal to 1 unless bins of unity\n",
      "        width are chosen; it is not a probability *mass* function.\n",
      "    \n",
      "        Overrides the ``normed`` keyword if given.\n",
      "    \n",
      "    Returns\n",
      "    -------\n",
      "    hist : array\n",
      "        The values of the histogram. See `density` and `weights` for a\n",
      "        description of the possible semantics.\n",
      "    bin_edges : array of dtype float\n",
      "        Return the bin edges ``(length(hist)+1)``.\n",
      "    \n",
      "    \n",
      "    See Also\n",
      "    --------\n",
      "    histogramdd, bincount, searchsorted, digitize, histogram_bin_edges\n",
      "    \n",
      "    Notes\n",
      "    -----\n",
      "    All but the last (righthand-most) bin is half-open.  In other words,\n",
      "    if `bins` is::\n",
      "    \n",
      "      [1, 2, 3, 4]\n",
      "    \n",
      "    then the first bin is ``[1, 2)`` (including 1, but excluding 2) and\n",
      "    the second ``[2, 3)``.  The last bin, however, is ``[3, 4]``, which\n",
      "    *includes* 4.\n",
      "    \n",
      "    \n",
      "    Examples\n",
      "    --------\n",
      "    >>> np.histogram([1, 2, 1], bins=[0, 1, 2, 3])\n",
      "    (array([0, 2, 1]), array([0, 1, 2, 3]))\n",
      "    >>> np.histogram(np.arange(4), bins=np.arange(5), density=True)\n",
      "    (array([0.25, 0.25, 0.25, 0.25]), array([0, 1, 2, 3, 4]))\n",
      "    >>> np.histogram([[1, 2, 1], [1, 0, 1]], bins=[0,1,2,3])\n",
      "    (array([1, 4, 1]), array([0, 1, 2, 3]))\n",
      "    \n",
      "    >>> a = np.arange(5)\n",
      "    >>> hist, bin_edges = np.histogram(a, density=True)\n",
      "    >>> hist\n",
      "    array([0.5, 0. , 0.5, 0. , 0. , 0.5, 0. , 0.5, 0. , 0.5])\n",
      "    >>> hist.sum()\n",
      "    2.4999999999999996\n",
      "    >>> np.sum(hist * np.diff(bin_edges))\n",
      "    1.0\n",
      "    \n",
      "    .. versionadded:: 1.11.0\n",
      "    \n",
      "    Automated Bin Selection Methods example, using 2 peak random data\n",
      "    with 2000 points:\n",
      "    \n",
      "    >>> import matplotlib.pyplot as plt\n",
      "    >>> rng = np.random.RandomState(10)  # deterministic random data\n",
      "    >>> a = np.hstack((rng.normal(size=1000),\n",
      "    ...                rng.normal(loc=5, scale=2, size=1000)))\n",
      "    >>> _ = plt.hist(a, bins='auto')  # arguments are passed to np.histogram\n",
      "    >>> plt.title(\"Histogram with 'auto' bins\")\n",
      "    Text(0.5, 1.0, \"Histogram with 'auto' bins\")\n",
      "    >>> plt.show()\n",
      "\n"
     ]
    }
   ],
   "source": [
    "help(np.histogram)"
   ]
  },
  {
   "cell_type": "code",
   "execution_count": null,
   "metadata": {},
   "outputs": [],
   "source": []
  },
  {
   "cell_type": "code",
   "execution_count": null,
   "metadata": {},
   "outputs": [],
   "source": []
  },
  {
   "cell_type": "code",
   "execution_count": null,
   "metadata": {},
   "outputs": [],
   "source": []
  },
  {
   "cell_type": "code",
   "execution_count": null,
   "metadata": {},
   "outputs": [],
   "source": []
  },
  {
   "cell_type": "code",
   "execution_count": null,
   "metadata": {},
   "outputs": [],
   "source": []
  }
 ],
 "metadata": {
  "kernelspec": {
   "display_name": "Python 3 (ipykernel)",
   "language": "python",
   "name": "python3"
  },
  "language_info": {
   "codemirror_mode": {
    "name": "ipython",
    "version": 3
   },
   "file_extension": ".py",
   "mimetype": "text/x-python",
   "name": "python",
   "nbconvert_exporter": "python",
   "pygments_lexer": "ipython3",
   "version": "3.9.12"
  },
  "toc": {
   "base_numbering": 1,
   "nav_menu": {},
   "number_sections": true,
   "sideBar": true,
   "skip_h1_title": false,
   "title_cell": "Table of Contents",
   "title_sidebar": "Contents",
   "toc_cell": false,
   "toc_position": {
    "height": "calc(100% - 180px)",
    "left": "10px",
    "top": "150px",
    "width": "219.432px"
   },
   "toc_section_display": true,
   "toc_window_display": true
  },
  "varInspector": {
   "cols": {
    "lenName": 16,
    "lenType": 16,
    "lenVar": 40
   },
   "kernels_config": {
    "python": {
     "delete_cmd_postfix": "",
     "delete_cmd_prefix": "del ",
     "library": "var_list.py",
     "varRefreshCmd": "print(var_dic_list())"
    },
    "r": {
     "delete_cmd_postfix": ") ",
     "delete_cmd_prefix": "rm(",
     "library": "var_list.r",
     "varRefreshCmd": "cat(var_dic_list()) "
    }
   },
   "types_to_exclude": [
    "module",
    "function",
    "builtin_function_or_method",
    "instance",
    "_Feature"
   ],
   "window_display": false
  }
 },
 "nbformat": 4,
 "nbformat_minor": 2
}
