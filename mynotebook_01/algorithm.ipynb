{
 "cells": [
  {
   "cell_type": "code",
   "execution_count": 1,
   "metadata": {},
   "outputs": [],
   "source": [
    "from IPython.core.interactiveshell import InteractiveShell\n",
    "InteractiveShell.ast_node_interactivity = 'all'  #默认为'last'\n",
    "%matplotlib inline\n",
    "import torch\n",
    "import os\n",
    "import re\n",
    "import sys\n",
    "import numpy as np\n",
    "# from urllib import request\n",
    "import urllib\n",
    "import json"
   ]
  },
  {
   "cell_type": "code",
   "execution_count": 69,
   "metadata": {},
   "outputs": [],
   "source": [
    "def quickSearch(arr,left,right):\n",
    "\n",
    "    # mid = arr[left]\n",
    "    if left>=right:\n",
    "        return\n",
    "    i = left+1\n",
    "    j = right\n",
    "\n",
    "    while(i<j):\n",
    "        while(arr[left]<arr[j] and i<j):\n",
    "            j-=1\n",
    "            # print('a',arr[left],arr[i],arr[j],i,j)\n",
    "        while(arr[left]>arr[i] and i<j):\n",
    "            i+=1\n",
    "            # print(\"b\",arr[left],arr[i],arr[j],i,j)\n",
    "        # print(\"ai:{},j:{}\".format(i,j))\n",
    "        if(i<j):\n",
    "            # print(\"bi:{},j:{}\".format(i,j))\n",
    "            arr[i],arr[j] = arr[j],arr[i]\n",
    "            i+=1\n",
    "            # j-=1\n",
    "\n",
    "\n",
    "    if arr[left]>arr[j]:\n",
    "        arr[left],arr[j] = arr[j], arr[left]\n",
    "    print(arr)\n",
    "    # print(\"left\",left,i-1)\n",
    "    # print(\"right\",j+1,right)\n",
    "    quickSearch(arr, left, i-1)\n",
    "    quickSearch(arr, i+1,right)\n"
   ]
  },
  {
   "cell_type": "code",
   "execution_count": 70,
   "metadata": {
    "scrolled": true
   },
   "outputs": [
    {
     "name": "stdout",
     "output_type": "stream",
     "text": [
      "[3, 4, 5, 7, 9]\n",
      "[3, 4, 5, 7, 9]\n",
      "[3, 4, 5, 7, 9]\n"
     ]
    },
    {
     "data": {
      "text/plain": [
       "[3, 4, 5, 7, 9]"
      ]
     },
     "execution_count": 70,
     "metadata": {},
     "output_type": "execute_result"
    }
   ],
   "source": [
    "arr = [5,7,3,4,9]\n",
    "# arr = [8,7,3,4,9]\n",
    "quickSearch(arr, 0, len(arr)-1)\n",
    "arr"
   ]
  },
  {
   "cell_type": "code",
   "execution_count": null,
   "metadata": {},
   "outputs": [],
   "source": []
  }
 ],
 "metadata": {
  "kernelspec": {
   "display_name": "Python 3",
   "language": "python",
   "name": "python3"
  },
  "language_info": {
   "codemirror_mode": {
    "name": "ipython",
    "version": 3
   },
   "file_extension": ".py",
   "mimetype": "text/x-python",
   "name": "python",
   "nbconvert_exporter": "python",
   "pygments_lexer": "ipython3",
   "version": "3.7.6"
  },
  "toc": {
   "base_numbering": 1,
   "nav_menu": {},
   "number_sections": true,
   "sideBar": true,
   "skip_h1_title": false,
   "title_cell": "Table of Contents",
   "title_sidebar": "Contents",
   "toc_cell": false,
   "toc_position": {},
   "toc_section_display": true,
   "toc_window_display": false
  }
 },
 "nbformat": 4,
 "nbformat_minor": 4
}
