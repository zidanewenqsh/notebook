{
 "cells": [
  {
   "cell_type": "code",
   "execution_count": 1,
   "metadata": {},
   "outputs": [],
   "source": [
    "#Note that http urls will not be displayed. Only https are allowed inside the Iframe\n",
    "from IPython.display import IFrame"
   ]
  },
  {
   "cell_type": "markdown",
   "metadata": {},
   "source": [
    "# linux"
   ]
  },
  {
   "cell_type": "code",
   "execution_count": null,
   "metadata": {},
   "outputs": [],
   "source": []
  },
  {
   "cell_type": "code",
   "execution_count": null,
   "metadata": {},
   "outputs": [],
   "source": []
  },
  {
   "cell_type": "code",
   "execution_count": null,
   "metadata": {},
   "outputs": [],
   "source": []
  },
  {
   "cell_type": "markdown",
   "metadata": {},
   "source": [
    "# cmake"
   ]
  },
  {
   "cell_type": "markdown",
   "metadata": {},
   "source": [
    "## web  \n",
    "\n",
    "* https://zhuanlan.zhihu.com/p/102955723\n",
    "\n"
   ]
  },
  {
   "cell_type": "markdown",
   "metadata": {},
   "source": [
    "### a demo\n",
    "\n",
    "```C\n",
    "#ifndef MYMATH_H\n",
    "#define MYMATH_H\n",
    "\n",
    "int add(int, int);\n",
    "double add(double, double);\n",
    "#endif\n",
    "```  \n",
    "\n",
    "```C\n",
    "#include \"mymath.h\"\n",
    "\n",
    "int add(int a, int b){\n",
    "    return a+b;\n",
    "}\n",
    "\n",
    "double add(double a, double b){\n",
    "    return a+b;\n",
    "}\n",
    "```  \n",
    "\n",
    "```C\n",
    "#include <iostream>\n",
    "#include \"mymath.h\"\n",
    "\n",
    "using namespace std;\n",
    "\n",
    "int main(int argc, char const *argv[])\n",
    "{\n",
    "    double a = add(1.1, 1.1);\n",
    "    int b = add(1, 1);\n",
    "    cout << \"1.1加1.1等于\" << a <<endl;\n",
    "    cout << \"1加1等于\" << b <<endl;\n",
    "    return 0;\n",
    "}\n",
    "```  \n",
    "\n",
    "```CMake\n",
    "cmake_minimum_required(VERSION 3.0)\n",
    "project(Installation VERSION 1.0)\n",
    "\n",
    "# 如果想生成静态库，使用下面的语句\n",
    "# add_library(mymath mymath.cc)\n",
    "# target_include_directories(mymath PUBLIC ${CMAKE_SOURCE_DIR}/include)\n",
    "\n",
    "# 如果想生成动态库，使用下面的语句\n",
    "add_library(mymath SHARED mymath.cc)\n",
    "target_include_directories(mymath PRIVATE  ${CMAKE_SOURCE_DIR}/include)\n",
    "set_target_properties(mymath PROPERTIES PUBLIC_HEADER ${CMAKE_SOURCE_DIR}/include/mymath.h)\n",
    "\n",
    "# 生成可执行文件\n",
    "add_executable(mymathapp mymathApp.cc)\n",
    "target_link_libraries(mymathapp mymath)\n",
    "target_include_directories(mymathapp PRIVATE ${CMAKE_SOURCE_DIR}/include)\n",
    "\n",
    "# 将库文件，可执行文件，头文件安装到指定目录\n",
    "install(TARGETS mymath mymathapp\n",
    "        EXPORT MyMathTargets\n",
    "        LIBRARY DESTINATION lib\n",
    "        ARCHIVE DESTINATION lib\n",
    "        RUNTIME DESTINATION bin\n",
    "        PUBLIC_HEADER DESTINATION include\n",
    "        )\n",
    "```"
   ]
  },
  {
   "cell_type": "markdown",
   "metadata": {},
   "source": [
    "##"
   ]
  },
  {
   "cell_type": "markdown",
   "metadata": {},
   "source": []
  },
  {
   "cell_type": "markdown",
   "metadata": {},
   "source": []
  }
 ],
 "metadata": {
  "kernelspec": {
   "display_name": "PyCharm (chemutils_01)",
   "language": "python",
   "name": "pycharm-75753333"
  },
  "language_info": {
   "codemirror_mode": {
    "name": "ipython",
    "version": 3
   },
   "file_extension": ".py",
   "mimetype": "text/x-python",
   "name": "python",
   "nbconvert_exporter": "python",
   "pygments_lexer": "ipython3",
   "version": "3.7.6"
  },
  "toc": {
   "base_numbering": 1,
   "nav_menu": {},
   "number_sections": true,
   "sideBar": true,
   "skip_h1_title": false,
   "title_cell": "Table of Contents",
   "title_sidebar": "Contents",
   "toc_cell": false,
   "toc_position": {},
   "toc_section_display": true,
   "toc_window_display": false
  }
 },
 "nbformat": 4,
 "nbformat_minor": 4
}
