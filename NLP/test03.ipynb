{
 "cells": [
  {
   "cell_type": "code",
   "execution_count": 1,
   "id": "3e7dd0d2",
   "metadata": {},
   "outputs": [],
   "source": [
    "import numpy as np\n",
    "import os\n",
    "import sys\n",
    "import math\n",
    "import torch\n",
    "import time\n",
    "import re\n",
    "import cv2\n",
    "from pathlib import Path\n",
    "from tqdm import tqdm\n",
    "from matplotlib import pyplot as plt\n",
    "from torchvision import transforms\n",
    "from icecream import ic\n",
    "from itertools import repeat\n",
    "# import sympy as sy\n",
    "from IPython.core.interactiveshell import InteractiveShell\n",
    "InteractiveShell.ast_node_interactivity = \"all\""
   ]
  },
  {
   "cell_type": "code",
   "execution_count": 2,
   "id": "c47b24ae",
   "metadata": {},
   "outputs": [
    {
     "name": "stdout",
     "output_type": "stream",
     "text": [
      "\u001b[33mWARNING: The directory '/root/.cache/pip' or its parent directory is not owned or is not writable by the current user. The cache has been disabled. Check the permissions and owner of that directory. If executing pip with sudo, you should use sudo's -H flag.\u001b[0m\u001b[33m\n",
      "\u001b[0mLooking in indexes: http://pypi.douban.com/simple\n",
      "Collecting ltp\n",
      "  Downloading http://pypi.doubanio.com/packages/8b/a5/7947225f0b99768686fff58c26b0b598864397b476dbef4f4491763eae04/ltp-4.1.5.post2-py3-none-any.whl (94 kB)\n",
      "\u001b[2K     \u001b[90m━━━━━━━━━━━━━━━━━━━━━━━━━━━━━━━━━━━━━━━━\u001b[0m \u001b[32m94.4/94.4 KB\u001b[0m \u001b[31m1.0 MB/s\u001b[0m eta \u001b[36m0:00:00\u001b[0mta \u001b[36m0:00:01\u001b[0m\n",
      "\u001b[?25hRequirement already satisfied: torch>=1.2.0 in /opt/conda/lib/python3.9/site-packages (from ltp) (1.10.1+cu113)\n",
      "Collecting transformers<=4.7.0,>=4.0.0\n",
      "  Downloading http://pypi.doubanio.com/packages/00/92/6153f4912b84ee1ab53ab45663d23e7cf3704161cb5ef18b0c07e207cef2/transformers-4.7.0-py3-none-any.whl (2.5 MB)\n",
      "\u001b[2K     \u001b[90m━━━━━━━━━━━━━━━━━━━━━━━━━━━━━━━━━━━━━━━━\u001b[0m \u001b[32m2.5/2.5 MB\u001b[0m \u001b[31m3.1 MB/s\u001b[0m eta \u001b[36m0:00:00\u001b[0ma \u001b[36m0:00:01\u001b[0mm\n",
      "\u001b[?25hRequirement already satisfied: packaging>=20.0 in /opt/conda/lib/python3.9/site-packages (from ltp) (21.3)\n",
      "Collecting pygtrie<2.5,>=2.3.0\n",
      "  Downloading http://pypi.doubanio.com/packages/a5/8b/90d0f21a27a354e808a73eb0ffb94db990ab11ad1d8b3db3e5196c882cad/pygtrie-2.4.2.tar.gz (35 kB)\n",
      "  Preparing metadata (setup.py) ... \u001b[?25ldone\n",
      "\u001b[?25hRequirement already satisfied: pyparsing!=3.0.5,>=2.0.2 in /opt/conda/lib/python3.9/site-packages (from packaging>=20.0->ltp) (3.0.7)\n",
      "Requirement already satisfied: typing-extensions in /opt/conda/lib/python3.9/site-packages (from torch>=1.2.0->ltp) (4.1.1)\n",
      "Requirement already satisfied: regex!=2019.12.17 in /opt/conda/lib/python3.9/site-packages (from transformers<=4.7.0,>=4.0.0->ltp) (2022.1.18)\n",
      "Requirement already satisfied: requests in /opt/conda/lib/python3.9/site-packages (from transformers<=4.7.0,>=4.0.0->ltp) (2.25.1)\n",
      "Requirement already satisfied: tqdm>=4.27 in /opt/conda/lib/python3.9/site-packages (from transformers<=4.7.0,>=4.0.0->ltp) (4.61.2)\n",
      "Collecting sacremoses\n",
      "  Downloading http://pypi.doubanio.com/packages/db/8b/37b90a3848ff71c0d05ebac5ee6d83f1f81e5f57f26b99a83ebff033303b/sacremoses-0.0.49-py3-none-any.whl (895 kB)\n",
      "\u001b[2K     \u001b[90m━━━━━━━━━━━━━━━━━━━━━━━━━━━━━━━━━━━━━━━\u001b[0m \u001b[32m895.2/895.2 KB\u001b[0m \u001b[31m4.9 MB/s\u001b[0m eta \u001b[36m0:00:00\u001b[0ma \u001b[36m0:00:01\u001b[0m\n",
      "\u001b[?25hCollecting huggingface-hub==0.0.8\n",
      "  Downloading http://pypi.doubanio.com/packages/a1/88/7b1e45720ecf59c6c6737ff332f41c955963090a18e72acbcbeac6b25e86/huggingface_hub-0.0.8-py3-none-any.whl (34 kB)\n",
      "Requirement already satisfied: pyyaml in /opt/conda/lib/python3.9/site-packages (from transformers<=4.7.0,>=4.0.0->ltp) (6.0)\n",
      "Requirement already satisfied: numpy>=1.17 in /opt/conda/lib/python3.9/site-packages (from transformers<=4.7.0,>=4.0.0->ltp) (1.22.2)\n",
      "Collecting tokenizers<0.11,>=0.10.1\n",
      "  Downloading http://pypi.doubanio.com/packages/a8/4f/ca8bc50358c3aaf50f298860a5ce1822e0c0ff97543e32265d1353760555/tokenizers-0.10.3-cp39-cp39-manylinux_2_5_x86_64.manylinux1_x86_64.manylinux_2_12_x86_64.manylinux2010_x86_64.whl (3.3 MB)\n",
      "\u001b[2K     \u001b[90m━━━━━━━━━━━━━━━━━━━━━━━━━━━━━━━━━━━━━━━━\u001b[0m \u001b[32m3.3/3.3 MB\u001b[0m \u001b[31m4.9 MB/s\u001b[0m eta \u001b[36m0:00:00\u001b[0m00:01\u001b[0m00:01\u001b[0mm\n",
      "\u001b[?25hCollecting filelock\n",
      "  Downloading http://pypi.doubanio.com/packages/cd/f1/ba7dee3de0e9d3b8634d6fbaa5d0d407a7da64620305d147298b683e5c36/filelock-3.6.0-py3-none-any.whl (10.0 kB)\n",
      "Requirement already satisfied: idna<3,>=2.5 in /opt/conda/lib/python3.9/site-packages (from requests->transformers<=4.7.0,>=4.0.0->ltp) (2.10)\n",
      "Requirement already satisfied: urllib3<1.27,>=1.21.1 in /opt/conda/lib/python3.9/site-packages (from requests->transformers<=4.7.0,>=4.0.0->ltp) (1.26.6)\n",
      "Requirement already satisfied: chardet<5,>=3.0.2 in /opt/conda/lib/python3.9/site-packages (from requests->transformers<=4.7.0,>=4.0.0->ltp) (4.0.0)\n",
      "Requirement already satisfied: certifi>=2017.4.17 in /opt/conda/lib/python3.9/site-packages (from requests->transformers<=4.7.0,>=4.0.0->ltp) (2021.5.30)\n",
      "Requirement already satisfied: joblib in /opt/conda/lib/python3.9/site-packages (from sacremoses->transformers<=4.7.0,>=4.0.0->ltp) (1.1.0)\n",
      "Requirement already satisfied: click in /opt/conda/lib/python3.9/site-packages (from sacremoses->transformers<=4.7.0,>=4.0.0->ltp) (8.0.3)\n",
      "Requirement already satisfied: six in /opt/conda/lib/python3.9/site-packages (from sacremoses->transformers<=4.7.0,>=4.0.0->ltp) (1.16.0)\n",
      "Building wheels for collected packages: pygtrie\n",
      "  Building wheel for pygtrie (setup.py) ... \u001b[?25ldone\n",
      "\u001b[?25h  Created wheel for pygtrie: filename=pygtrie-2.4.2-py3-none-any.whl size=19061 sha256=4b1bbaf5f54baf66953eb819bca43b105448b838c5a2137d0851009d5ff59490\n",
      "  Stored in directory: /tmp/pip-ephem-wheel-cache-8ol4gbzt/wheels/d0/e2/8e/561af4bd7114c6360467aee01347d73eb5fe2f28de9694fce8\n",
      "Successfully built pygtrie\n",
      "Installing collected packages: tokenizers, pygtrie, sacremoses, filelock, huggingface-hub, transformers, ltp\n",
      "Successfully installed filelock-3.6.0 huggingface-hub-0.0.8 ltp-4.1.5.post2 pygtrie-2.4.2 sacremoses-0.0.49 tokenizers-0.10.3 transformers-4.7.0\n",
      "\u001b[33mWARNING: Running pip as the 'root' user can result in broken permissions and conflicting behaviour with the system package manager. It is recommended to use a virtual environment instead: https://pip.pypa.io/warnings/venv\u001b[0m\u001b[33m\n",
      "\u001b[0m\u001b[33mWARNING: You are using pip version 22.0.3; however, version 22.0.4 is available.\n",
      "You should consider upgrading via the '/opt/conda/bin/python -m pip install --upgrade pip' command.\u001b[0m\u001b[33m\n",
      "\u001b[0m"
     ]
    }
   ],
   "source": [
    "!pip install ltp"
   ]
  },
  {
   "cell_type": "markdown",
   "id": "cdf73e4d",
   "metadata": {},
   "source": [
    "# ltp"
   ]
  },
  {
   "cell_type": "code",
   "execution_count": 3,
   "id": "2f263b46",
   "metadata": {},
   "outputs": [],
   "source": [
    "from ltp import LTP"
   ]
  },
  {
   "cell_type": "code",
   "execution_count": 5,
   "id": "1e7744de",
   "metadata": {},
   "outputs": [],
   "source": [
    "ltp = LTP()"
   ]
  },
  {
   "cell_type": "code",
   "execution_count": 7,
   "id": "084e3e2f",
   "metadata": {},
   "outputs": [
    {
     "data": {
      "text/plain": [
       "['我是中国人，死是中国魂。', '让我学英语，那是不可能。', '语义不及格，突出我性格。', '数学不及格，展现我风格。', '英语不及格，那是我爱国']"
      ]
     },
     "execution_count": 7,
     "metadata": {},
     "output_type": "execute_result"
    }
   ],
   "source": [
    "sents = ltp.sent_split([\"我是中国人，死是中国魂。让我学英语，那是不可能。\",\"语义不及格，突出我性格。数学不及格，展现我风格。英语不及格，那是我爱国\"])\n",
    "sents"
   ]
  },
  {
   "cell_type": "code",
   "execution_count": 11,
   "id": "0b094fd6",
   "metadata": {},
   "outputs": [
    {
     "data": {
      "text/plain": [
       "[['拜登', '拿下', '了', '内华达州', '，', '意味着', '他', '赢得', '了', '总统', '大选']]"
      ]
     },
     "execution_count": 11,
     "metadata": {},
     "output_type": "execute_result"
    },
    {
     "data": {
      "text/plain": [
       "[['ns', 'v', 'u', 'ns', 'wp', 'v', 'r', 'v', 'u', 'n', 'v']]"
      ]
     },
     "execution_count": 11,
     "metadata": {},
     "output_type": "execute_result"
    }
   ],
   "source": [
    "segment, hidden = ltp.seg([\"拜登拿下了内华达州，意味着他赢得了总统大选\"])\n",
    "segment\n",
    "# hidden\n",
    "ltp.pos(hidden)"
   ]
  },
  {
   "cell_type": "markdown",
   "id": "c4a782ce",
   "metadata": {},
   "source": [
    "## 词性识别"
   ]
  },
  {
   "cell_type": "code",
   "execution_count": 13,
   "id": "54d61ac3",
   "metadata": {},
   "outputs": [
    {
     "data": {
      "text/plain": [
       "[['特朗普', '昨天', '在', '推特', '上', '攻击', '拜登', '。']]"
      ]
     },
     "execution_count": 13,
     "metadata": {},
     "output_type": "execute_result"
    },
    {
     "data": {
      "text/plain": [
       "[['nh', 'nt', 'p', 'n', 'nd', 'v', 'nh', 'wp']]"
      ]
     },
     "execution_count": 13,
     "metadata": {},
     "output_type": "execute_result"
    }
   ],
   "source": [
    "segment, hidden = ltp.seg([\"特朗普昨天在推特上攻击拜登。\"])\n",
    "segment\n",
    "# hidden\n",
    "ltp.pos(hidden)"
   ]
  },
  {
   "cell_type": "markdown",
   "id": "f8670cc1",
   "metadata": {},
   "source": [
    "## 命名实体识别"
   ]
  },
  {
   "cell_type": "code",
   "execution_count": 14,
   "id": "fccfa37b",
   "metadata": {},
   "outputs": [
    {
     "data": {
      "text/plain": [
       "[['特朗普', '昨天', '在', '推特', '上', '攻击', '拜登', '。']]"
      ]
     },
     "execution_count": 14,
     "metadata": {},
     "output_type": "execute_result"
    },
    {
     "data": {
      "text/plain": [
       "[['nh', 'nt', 'p', 'n', 'nd', 'v', 'nh', 'wp']]"
      ]
     },
     "execution_count": 14,
     "metadata": {},
     "output_type": "execute_result"
    },
    {
     "data": {
      "text/plain": [
       "[[('Nh', 0, 0), ('Nh', 6, 6)]]"
      ]
     },
     "execution_count": 14,
     "metadata": {},
     "output_type": "execute_result"
    }
   ],
   "source": [
    "segment, hidden = ltp.seg([\"特朗普昨天在推特上攻击拜登。\"])\n",
    "segment\n",
    "# hidden\n",
    "ltp.pos(hidden)\n",
    "ner = ltp.ner(hidden)\n",
    "ner"
   ]
  },
  {
   "cell_type": "markdown",
   "id": "c437ba94",
   "metadata": {},
   "source": [
    "## 依存句法分析"
   ]
  },
  {
   "cell_type": "code",
   "execution_count": 16,
   "id": "1993ee4a",
   "metadata": {},
   "outputs": [
    {
     "data": {
      "text/plain": [
       "[['特朗普', '昨天', '在', '推特', '上', '攻击', '拜登', '。']]"
      ]
     },
     "execution_count": 16,
     "metadata": {},
     "output_type": "execute_result"
    },
    {
     "data": {
      "text/plain": [
       "[[(1, 6, 'SBV'),\n",
       "  (2, 6, 'ADV'),\n",
       "  (3, 6, 'ADV'),\n",
       "  (4, 5, 'ATT'),\n",
       "  (5, 3, 'POB'),\n",
       "  (6, 0, 'HED'),\n",
       "  (7, 6, 'VOB'),\n",
       "  (8, 6, 'WP')]]"
      ]
     },
     "execution_count": 16,
     "metadata": {},
     "output_type": "execute_result"
    }
   ],
   "source": [
    "segment, hidden = ltp.seg([\"特朗普昨天在推特上攻击拜登。\"])\n",
    "segment\n",
    "dep = ltp.dep(hidden)\n",
    "dep"
   ]
  },
  {
   "cell_type": "markdown",
   "id": "ea892646",
   "metadata": {},
   "source": [
    "# 条件随机场"
   ]
  },
  {
   "cell_type": "code",
   "execution_count": null,
   "id": "1f2eb0f9",
   "metadata": {},
   "outputs": [],
   "source": []
  },
  {
   "cell_type": "markdown",
   "id": "962682d8",
   "metadata": {},
   "source": [
    "# 主题模型"
   ]
  },
  {
   "cell_type": "markdown",
   "id": "64dd7557",
   "metadata": {},
   "source": [
    "## LSA"
   ]
  },
  {
   "cell_type": "code",
   "execution_count": null,
   "id": "67749b4c",
   "metadata": {},
   "outputs": [],
   "source": []
  },
  {
   "cell_type": "markdown",
   "id": "b87e2818",
   "metadata": {},
   "source": [
    "## PLSA"
   ]
  },
  {
   "cell_type": "code",
   "execution_count": null,
   "id": "0bfbff80",
   "metadata": {},
   "outputs": [],
   "source": []
  },
  {
   "cell_type": "markdown",
   "id": "de623342",
   "metadata": {},
   "source": [
    "## LDA"
   ]
  },
  {
   "cell_type": "code",
   "execution_count": null,
   "id": "27530e73",
   "metadata": {},
   "outputs": [],
   "source": []
  },
  {
   "cell_type": "code",
   "execution_count": null,
   "id": "9d8a924f",
   "metadata": {},
   "outputs": [],
   "source": []
  }
 ],
 "metadata": {
  "kernelspec": {
   "display_name": "Python 3 (ipykernel)",
   "language": "python",
   "name": "python3"
  },
  "language_info": {
   "codemirror_mode": {
    "name": "ipython",
    "version": 3
   },
   "file_extension": ".py",
   "mimetype": "text/x-python",
   "name": "python",
   "nbconvert_exporter": "python",
   "pygments_lexer": "ipython3",
   "version": "3.9.5"
  }
 },
 "nbformat": 4,
 "nbformat_minor": 5
}
