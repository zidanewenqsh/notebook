{
 "cells": [
  {
   "cell_type": "markdown",
   "metadata": {},
   "source": [
    "## 第四章 随机变量的数字特征练习"
   ]
  },
  {
   "cell_type": "code",
   "execution_count": 1,
   "metadata": {
    "pycharm": {
     "name": "#%%\n"
    }
   },
   "outputs": [],
   "source": [
    "from IPython.core.interactiveshell import InteractiveShell \n",
    "InteractiveShell.ast_node_interactivity = 'all' #默认为'last'\n",
    "\n",
    "import numpy as np\n",
    "import pandas as pd\n",
    "import os\n",
    "import sympy \n",
    "from sympy import *\n",
    "# from sympy.abc import *\n",
    "# from sympy import gamma\n",
    "from matplotlib import pyplot as plt\n",
    "%matplotlib inline\n",
    "plt.rcParams['font.sans-serif']=['SimHei'] #指定默认字体 SimHei为黑体\n",
    "plt.rcParams['axes.unicode_minus']=False #用来正常显示负号\n",
    "sympy.init_printing(use_latex=True)\n",
    "x, y, z = symbols('x y z',real=True)"
   ]
  },
  {
   "cell_type": "markdown",
   "metadata": {},
   "source": [
    "## 正态分布代码  \n",
    "```\n",
    "mu,sigma = symbols('mu sigma')\n",
    "fx = (1/(sigma*sqrt(2*pi)))*exp(-(x-mu)**2/(2*sigma**2))\n",
    "```"
   ]
  },
  {
   "cell_type": "markdown",
   "metadata": {},
   "source": [
    "随机变量的数字特征"
   ]
  },
  {
   "cell_type": "markdown",
   "metadata": {},
   "source": [
    "# 数学期望"
   ]
  },
  {
   "cell_type": "markdown",
   "metadata": {},
   "source": [
    "## 随机变量的数学期望"
   ]
  },
  {
   "cell_type": "markdown",
   "metadata": {},
   "source": [
    "### 0-1分布的数学期望"
   ]
  },
  {
   "cell_type": "code",
   "execution_count": 2,
   "metadata": {
    "pycharm": {
     "name": "#%%\n"
    }
   },
   "outputs": [
    {
     "data": {
      "image/png": "[encoded data removed]",
      "text/latex": [
       "$\\displaystyle p$"
      ],
      "text/plain": [
       "p"
      ]
     },
     "execution_count": 2,
     "metadata": {},
     "output_type": "execute_result"
    }
   ],
   "source": [
    "x, y, z = symbols('x y z')\n",
    "p = symbols('p', positive=True)\n",
    "n, k = symbols('n k', integer=True, positive=True)\n",
    "# 0-1分布的数学期望\n",
    "ex1 = 0*(1-p)+1*p\n",
    "ex1 # 结果\n"
   ]
  },
  {
   "cell_type": "markdown",
   "metadata": {},
   "source": [
    "### 二项分布的数学期望  \n",
    "$C_n^m={n\\over m}C_{n-1}^{m-1}$"
   ]
  },
  {
   "cell_type": "code",
   "execution_count": 3,
   "metadata": {
    "pycharm": {
     "name": "#%%\n"
    }
   },
   "outputs": [
    {
     "data": {
      "image/png": "[encoded data removed]",
      "text/latex": [
       "$\\displaystyle p^{k} \\left(1 - p\\right)^{- k + n} {\\binom{n}{k}}$"
      ],
      "text/plain": [
       " k        -k + n ⎛n⎞\n",
       "p ⋅(1 - p)      ⋅⎜ ⎟\n",
       "                 ⎝k⎠"
      ]
     },
     "execution_count": 3,
     "metadata": {},
     "output_type": "execute_result"
    },
    {
     "data": {
      "image/png": "[encoded data removed]",
      "text/latex": [
       "$\\displaystyle 1$"
      ],
      "text/plain": [
       "1"
      ]
     },
     "execution_count": 3,
     "metadata": {},
     "output_type": "execute_result"
    },
    {
     "data": {
      "image/png": "[encoded data removed]",
      "text/latex": [
       "$\\displaystyle n p$"
      ],
      "text/plain": [
       "n⋅p"
      ]
     },
     "execution_count": 3,
     "metadata": {},
     "output_type": "execute_result"
    }
   ],
   "source": [
    "n, k = symbols('n k', integer=True, positive=True) # n设为正整数很重要\n",
    "p = symbols('p', positive=True)\n",
    "\n",
    "# 二项分布的概率\n",
    "px = binomial(n, k) * p**(k) * (1 - p)**(n - k)\n",
    "px\n",
    "# 二项分布的全概率\n",
    "summation(px, (k, 0, n)).simplify().args[0][0]\n",
    "# 二项分布的数学期望\n",
    "ex1 = summation(k*px, (k, 0, n)).simplify().args[0][0]\n",
    "ex1 # 结果"
   ]
  },
  {
   "cell_type": "markdown",
   "metadata": {},
   "source": [
    "### 泊松分布的数学期望"
   ]
  },
  {
   "cell_type": "code",
   "execution_count": 4,
   "metadata": {
    "pycharm": {
     "name": "#%%\n"
    }
   },
   "outputs": [
    {
     "data": {
      "image/png": "[encoded data removed]",
      "text/latex": [
       "$\\displaystyle \\frac{\\lambda^{k} e^{- \\lambda}}{k!}$"
      ],
      "text/plain": [
       " k  -λ\n",
       "λ ⋅ℯ  \n",
       "──────\n",
       "  k!  "
      ]
     },
     "execution_count": 4,
     "metadata": {},
     "output_type": "execute_result"
    },
    {
     "data": {
      "image/png": "[encoded data removed]",
      "text/latex": [
       "$\\displaystyle 1$"
      ],
      "text/plain": [
       "1"
      ]
     },
     "execution_count": 4,
     "metadata": {},
     "output_type": "execute_result"
    },
    {
     "data": {
      "image/png": "[encoded data removed]",
      "text/latex": [
       "$\\displaystyle \\lambda$"
      ],
      "text/plain": [
       "λ"
      ]
     },
     "execution_count": 4,
     "metadata": {},
     "output_type": "execute_result"
    }
   ],
   "source": [
    "lamda = symbols('lamda')\n",
    "# 泊松分布的概率\n",
    "px = exp(-lamda)*lamda**k/factorial(k)\n",
    "px\n",
    "# 泊松分布的全概率\n",
    "summation(px, (k, 0, oo))\n",
    "# 泊松分布的数学期望\n",
    "ex1 = summation(k*px, (k, 0, oo))\n",
    "ex1 # 结果\n"
   ]
  },
  {
   "cell_type": "markdown",
   "metadata": {},
   "source": [
    "### 几何分布的数学期望  \n"
   ]
  },
  {
   "cell_type": "code",
   "execution_count": 5,
   "metadata": {
    "pycharm": {
     "name": "#%%\n"
    }
   },
   "outputs": [
    {
     "data": {
      "image/png": "[encoded data removed]",
      "text/latex": [
       "$\\displaystyle p \\left(1 - p\\right)^{k - 1}$"
      ],
      "text/plain": [
       "         k - 1\n",
       "p⋅(1 - p)     "
      ]
     },
     "execution_count": 5,
     "metadata": {},
     "output_type": "execute_result"
    },
    {
     "data": {
      "image/png": "[encoded data removed]",
      "text/latex": [
       "$\\displaystyle 1$"
      ],
      "text/plain": [
       "1"
      ]
     },
     "execution_count": 5,
     "metadata": {},
     "output_type": "execute_result"
    },
    {
     "data": {
      "image/png": "[encoded data removed]",
      "text/latex": [
       "$\\displaystyle \\frac{1}{p}$"
      ],
      "text/plain": [
       "1\n",
       "─\n",
       "p"
      ]
     },
     "execution_count": 5,
     "metadata": {},
     "output_type": "execute_result"
    }
   ],
   "source": [
    "n, k = symbols('n k', integer=True, positive=True)\n",
    "p = symbols('p', positive=True)\n",
    "# 几何分布的概率\n",
    "px = p * (1 - p)**(k-1)\n",
    "# px = Piecewise((p * (1 - p)**(k-1), (p>0)&(p<1)),(0, True)) # 概率用分段函数表示\n",
    "px\n",
    "# 几何分布的全概率\n",
    "summation(px, (k, 1, oo)).simplify().args[0][0]\n",
    "# 几何分布的期望\n",
    "ex1 = summation(k*px, (k, 1, oo)).simplify().args[0][0] \n",
    "ex1 # 结果"
   ]
  },
  {
   "cell_type": "markdown",
   "metadata": {},
   "source": [
    "### 超几何分布的数学期望   \n",
    "$X\\sim H(N,M,n)$   \n",
    "$p\\{x=k\\}=\\frac{C_M^k C_{N-M}^{n-k}}{C_N^n}$"
   ]
  },
  {
   "cell_type": "code",
   "execution_count": 6,
   "metadata": {
    "pycharm": {
     "name": "#%%\n"
    }
   },
   "outputs": [
    {
     "data": {
      "image/png": "[encoded data removed]",
      "text/latex": [
       "$\\displaystyle \\frac{{\\binom{M}{k}} {\\binom{- M + N}{- k + n}}}{{\\binom{N}{n}}}$"
      ],
      "text/plain": [
       "⎛M⎞ ⎛-M + N⎞\n",
       "⎜ ⎟⋅⎜      ⎟\n",
       "⎝k⎠ ⎝-k + n⎠\n",
       "────────────\n",
       "    ⎛N⎞     \n",
       "    ⎜ ⎟     \n",
       "    ⎝n⎠     "
      ]
     },
     "execution_count": 6,
     "metadata": {},
     "output_type": "execute_result"
    },
    {
     "data": {
      "image/png": "[encoded data removed]",
      "text/latex": [
       "$\\displaystyle 1$"
      ],
      "text/plain": [
       "1"
      ]
     },
     "execution_count": 6,
     "metadata": {},
     "output_type": "execute_result"
    },
    {
     "data": {
      "image/png": "[encoded data removed]",
      "text/latex": [
       "$\\displaystyle \\frac{M n}{N}$"
      ],
      "text/plain": [
       "M⋅n\n",
       "───\n",
       " N "
      ]
     },
     "execution_count": 6,
     "metadata": {},
     "output_type": "execute_result"
    }
   ],
   "source": [
    "n, k, N, M = symbols('n k N M', integer=True, positive=True)\n",
    "p = symbols('p', positive=True)\n",
    "# 超几何分布的概率\n",
    "px = binomial(M, k) * binomial(N - M, n - k) / binomial(N, n)\n",
    "px\n",
    "# 超几何分布的全概率\n",
    "summation(px, (k, 0, n)).simplify()\n",
    "# 超几何分布的期望\n",
    "ex1 = summation(k * px, (k, 0, n)).simplify()\n",
    "ex1 # 结果"
   ]
  },
  {
   "cell_type": "markdown",
   "metadata": {},
   "source": [
    "### 均匀分布的数学期望"
   ]
  },
  {
   "cell_type": "code",
   "execution_count": 7,
   "metadata": {
    "pycharm": {
     "name": "#%%\n"
    }
   },
   "outputs": [
    {
     "data": {
      "text/latex": [
       "$\\displaystyle \\begin{cases} \\frac{1}{c} & \\text{for}\\: a \\leq x \\wedge x \\leq a + c \\\\0 & \\text{otherwise} \\end{cases}$"
      ],
      "text/plain": [
       "⎧1                       \n",
       "⎪─  for a ≤ x ∧ x ≤ a + c\n",
       "⎨c                       \n",
       "⎪                        \n",
       "⎩0        otherwise      "
      ]
     },
     "execution_count": 7,
     "metadata": {},
     "output_type": "execute_result"
    },
    {
     "data": {
      "image/png": "[encoded data removed]",
      "text/latex": [
       "$\\displaystyle 1$"
      ],
      "text/plain": [
       "1"
      ]
     },
     "execution_count": 7,
     "metadata": {},
     "output_type": "execute_result"
    },
    {
     "data": {
      "image/png": "[encoded data removed]",
      "text/latex": [
       "$\\displaystyle a + \\frac{c}{2}$"
      ],
      "text/plain": [
       "    c\n",
       "a + ─\n",
       "    2"
      ]
     },
     "execution_count": 7,
     "metadata": {},
     "output_type": "execute_result"
    },
    {
     "data": {
      "image/png": "[encoded data removed]",
      "text/latex": [
       "$\\displaystyle \\frac{a}{2} + \\frac{b}{2}$"
      ],
      "text/plain": [
       "a   b\n",
       "─ + ─\n",
       "2   2"
      ]
     },
     "execution_count": 7,
     "metadata": {},
     "output_type": "execute_result"
    }
   ],
   "source": [
    "a, b = symbols('a b', real=True)\n",
    "# a = symbols('a', real=True)\n",
    "c = symbols('c', positive=True)\n",
    "fx = Piecewise((1 / c, (x >= a) & (x <= a + c)), (0, True))\n",
    "fx\n",
    "# 均匀分布的全概率\n",
    "p1 = Integral(fx, (x, a, a + c)).doit().simplify()\n",
    "p1\n",
    "# 均匀分布的数学期望\n",
    "ex1 = Integral(x * fx, (x, a, a + c)).doit().simplify()\n",
    "ex1\n",
    "# 符号替换\n",
    "# b = symbols('b', real=True) # b用符号替换回来\n",
    "ex1.subs(c, (b - a)).simplify() # 结果"
   ]
  },
  {
   "cell_type": "markdown",
   "metadata": {},
   "source": [
    "### 指数分布的数学期望  \n",
    "$f(x)=\\lambda e^{-\\lambda x}$"
   ]
  },
  {
   "cell_type": "code",
   "execution_count": 8,
   "metadata": {
    "pycharm": {
     "name": "#%%\n"
    }
   },
   "outputs": [
    {
     "data": {
      "text/latex": [
       "$\\displaystyle \\begin{cases} \\lambda e^{- \\lambda x} & \\text{for}\\: x > 0 \\\\0 & \\text{otherwise} \\end{cases}$"
      ],
      "text/plain": [
       "⎧   -λ⋅x           \n",
       "⎪λ⋅ℯ      for x > 0\n",
       "⎨                  \n",
       "⎪   0     otherwise\n",
       "⎩                  "
      ]
     },
     "execution_count": 8,
     "metadata": {},
     "output_type": "execute_result"
    },
    {
     "data": {
      "image/png": "[encoded data removed]",
      "text/latex": [
       "$\\displaystyle 1$"
      ],
      "text/plain": [
       "1"
      ]
     },
     "execution_count": 8,
     "metadata": {},
     "output_type": "execute_result"
    },
    {
     "data": {
      "image/png": "[encoded data removed]",
      "text/latex": [
       "$\\displaystyle \\frac{1}{\\lambda}$"
      ],
      "text/plain": [
       "1\n",
       "─\n",
       "λ"
      ]
     },
     "execution_count": 8,
     "metadata": {},
     "output_type": "execute_result"
    }
   ],
   "source": [
    "# 数学arg表示复数的辐角\n",
    "x = symbols('x')\n",
    "lamda = symbols('lamda', real=True)\n",
    "fx = lamda * exp(-lamda * x)\n",
    "fx_ = Piecewise((lamda * exp(-lamda * x),x>0),(0, True))\n",
    "# 指数分布的概率密度\n",
    "fx_\n",
    "# 指数分布的全概率\n",
    "Integral(fx, (x, 0, oo)).doit().args[0][0] # 如果按分段函数积不出来，所以只积0到正无穷\n",
    "# 指数分布的数学期望\n",
    "ex1 = Integral(x*fx, (x, 0, oo)).doit().args[0][0]\n",
    "ex1 # 结果"
   ]
  },
  {
   "cell_type": "markdown",
   "metadata": {},
   "source": [
    "### 正态分布的数学期望"
   ]
  },
  {
   "cell_type": "code",
   "execution_count": 9,
   "metadata": {
    "pycharm": {
     "name": "#%%\n"
    }
   },
   "outputs": [
    {
     "data": {
      "image/png": "[encoded data removed]",
      "text/latex": [
       "$\\displaystyle \\frac{\\sqrt{2} e^{- \\frac{\\left(- \\mu + x\\right)^{2}}{2 \\sigma^{2}}}}{2 \\sqrt{\\pi} \\sigma}$"
      ],
      "text/plain": [
       "             2 \n",
       "    -(-μ + x)  \n",
       "    ───────────\n",
       "           2   \n",
       "        2⋅σ    \n",
       "√2⋅ℯ           \n",
       "───────────────\n",
       "     2⋅√π⋅σ    "
      ]
     },
     "execution_count": 9,
     "metadata": {},
     "output_type": "execute_result"
    },
    {
     "data": {
      "image/png": "[encoded data removed]",
      "text/latex": [
       "$\\displaystyle 1$"
      ],
      "text/plain": [
       "1"
      ]
     },
     "execution_count": 9,
     "metadata": {},
     "output_type": "execute_result"
    },
    {
     "data": {
      "image/png": "[encoded data removed]",
      "text/latex": [
       "$\\displaystyle \\mu$"
      ],
      "text/plain": [
       "μ"
      ]
     },
     "execution_count": 9,
     "metadata": {},
     "output_type": "execute_result"
    }
   ],
   "source": [
    "mu,sigma = symbols('mu sigma',real=True) # real设为True很重要\n",
    "fx = (1/(sigma*sqrt(2*pi)))*exp(-(x-mu)**2/(2*sigma**2))\n",
    "fx\n",
    "# 正态分布的全概率\n",
    "Integral(fx, (x, -oo, oo)).doit().args[0][0] \n",
    "# 正态分布的数学期望\n",
    "ex1 = Integral(x*fx, (x, -oo, oo)).doit().args[0][0]\n",
    "ex1 # 结果"
   ]
  },
  {
   "cell_type": "markdown",
   "metadata": {},
   "source": [
    "## 随机变量的函数的数学期望"
   ]
  },
  {
   "cell_type": "code",
   "execution_count": 10,
   "metadata": {
    "pycharm": {
     "name": "#%%\n"
    }
   },
   "outputs": [],
   "source": [
    "x, y, z = symbols('x y z')\n",
    "p, t  = symbols('p t', positive=True)\n",
    "n, k = symbols('n k', integer=True, positive=True)\n",
    "lamda = symbols('lamda')"
   ]
  },
  {
   "cell_type": "markdown",
   "metadata": {},
   "source": [
    "#### 定理1  \n",
    "$设X是离散型随机变量，其分布律为 \\\\ \n",
    "P\\{X=k\\}=p_k \\ (k=1,2,...) \\\\ \n",
    "设Y是随机变量X的函数：Y=g(X)，\\\\\n",
    "则E(Y)=E(g(x)) = \\sum_{k=1}^{\\infty}{g(x)p_k}，要求绝对收敛\n",
    "$"
   ]
  },
  {
   "cell_type": "markdown",
   "metadata": {},
   "source": [
    "### 例12   \n",
    "$设X\\sim \\pi(\\lambda)，求E(1/(X+1))$"
   ]
  },
  {
   "cell_type": "code",
   "execution_count": 11,
   "metadata": {
    "pycharm": {
     "name": "#%%\n"
    }
   },
   "outputs": [
    {
     "data": {
      "image/png": "[encoded data removed]",
      "text/latex": [
       "$\\displaystyle \\frac{\\left(e^{\\lambda} - 1\\right) e^{- \\lambda}}{\\lambda}$"
      ],
      "text/plain": [
       "⎛ λ    ⎞  -λ\n",
       "⎝ℯ  - 1⎠⋅ℯ  \n",
       "────────────\n",
       "     λ      "
      ]
     },
     "execution_count": 11,
     "metadata": {},
     "output_type": "execute_result"
    }
   ],
   "source": [
    "lamda = symbols('lamda')\n",
    "px = exp(-lamda)*lamda**k/factorial(k)\n",
    "# 𝐸(1/(𝑋+1))\n",
    "ex1 = summation((1/(k+1))*px, (k, 0, oo)).simplify()\n",
    "ex1 # 结果"
   ]
  },
  {
   "cell_type": "markdown",
   "metadata": {},
   "source": [
    "#### 定理2  \n",
    "$设X是连续型随机变量,其概率密度为f(x)，设Y是随机变量X的函数：Y=g(X)，其中g(x)是连续函数 \\\\ \n",
    "则E(Y)=E(g(x)) = \\int_{-\\infty}^{+\\infty}g(x)f(x)dx，要求绝对收敛\n",
    "$"
   ]
  },
  {
   "cell_type": "markdown",
   "metadata": {},
   "source": [
    "### 例14\n",
    "$设随机变量X\\sim E(1)，求Y=2X和Z=e^{-2X}的数学期望\n",
    "$"
   ]
  },
  {
   "cell_type": "code",
   "execution_count": 12,
   "metadata": {
    "pycharm": {
     "name": "#%%\n"
    }
   },
   "outputs": [
    {
     "data": {
      "text/latex": [
       "$\\displaystyle \\begin{cases} e^{- x} & \\text{for}\\: x > 0 \\\\0 & \\text{otherwise} \\end{cases}$"
      ],
      "text/plain": [
       "⎧ -x           \n",
       "⎪ℯ    for x > 0\n",
       "⎨              \n",
       "⎪ 0   otherwise\n",
       "⎩              "
      ]
     },
     "execution_count": 12,
     "metadata": {},
     "output_type": "execute_result"
    },
    {
     "data": {
      "image/png": "[encoded data removed]",
      "text/latex": [
       "$\\displaystyle 1$"
      ],
      "text/plain": [
       "1"
      ]
     },
     "execution_count": 12,
     "metadata": {},
     "output_type": "execute_result"
    },
    {
     "data": {
      "image/png": "[encoded data removed]",
      "text/latex": [
       "$\\displaystyle 2$"
      ],
      "text/plain": [
       "2"
      ]
     },
     "execution_count": 12,
     "metadata": {},
     "output_type": "execute_result"
    },
    {
     "data": {
      "image/png": "[encoded data removed]",
      "text/latex": [
       "$\\displaystyle \\frac{1}{3}$"
      ],
      "text/plain": [
       "1/3"
      ]
     },
     "execution_count": 12,
     "metadata": {},
     "output_type": "execute_result"
    }
   ],
   "source": [
    "fx = Piecewise((exp(-x), x>0),(0,True))\n",
    "fx\n",
    "Integral(x*fx,(x,0,oo)).doit()\n",
    "# Y=2X\n",
    "Integral(2*x*fx,(x,0,oo)).doit() # 2\n",
    "Integral(exp(-2*x)*fx,(x,0,oo)).doit()"
   ]
  },
  {
   "cell_type": "markdown",
   "metadata": {},
   "source": [
    "## 二维随机变量函数的数学期望"
   ]
  },
  {
   "cell_type": "markdown",
   "metadata": {},
   "source": [
    "#### 命题1\n",
    "$设二维离散型随机变量(X,Y)分布律为 \\\\ \n",
    "P\\{X=x_i,Y=y_j\\}=p_{ij} \\ (i,j=1,2,...) \\\\ \n",
    "则函数Z=g(X,Y)的数学期望 \\\\\n",
    "E(X)=E(g(X,Y)) = \\sum_{j=1}^{\\infty}\\sum_{i=1}^{\\infty}{g(x_i,y_j)p_{ij}}，要求绝对收敛\n",
    "$"
   ]
  },
  {
   "cell_type": "markdown",
   "metadata": {},
   "source": [
    "#### 命题2\n",
    "$设二维连续型随机变量(X,Y)概率密度为地f(x,y) \\\\ \n",
    "则函数Z=g(X,Y)的数学期望 \\\\\n",
    "E(X)=E(g(X,Y)) = \\int_{-\\infty}^{+\\infty}\\int_{-\\infty}^{+\\infty}{g(x,y)f(x,y)dxdy}，要求绝对收敛\n",
    "$"
   ]
  },
  {
   "cell_type": "markdown",
   "metadata": {},
   "source": [
    "### 例15\n",
    "$设随机变量(X,Y)的概率密度为\\\\\n",
    "f(x,y)=\\begin{cases} \\frac{3}{2 x^{3} y^{2}} & \\text{for}\\: x > 1, \\frac{1}{x}<y<x \\\\ \n",
    "0 & \\text{otherwise} \\end{cases}\\\\\n",
    "求数学期望E(Y),E(1/XY)\n",
    "$\n"
   ]
  },
  {
   "cell_type": "code",
   "execution_count": 13,
   "metadata": {
    "pycharm": {
     "name": "#%%\n"
    }
   },
   "outputs": [
    {
     "data": {
      "text/latex": [
       "$\\displaystyle \\begin{cases} \\frac{3}{2 x^{3} y^{2}} & \\text{for}\\: x > 1 \\wedge x > y \\wedge y > \\frac{1}{x} \\\\0 & \\text{otherwise} \\end{cases}$"
      ],
      "text/plain": [
       "⎧   3                             1\n",
       "⎪───────  for x > 1 ∧ x > y ∧ y > ─\n",
       "⎪   3  2                          x\n",
       "⎨2⋅x ⋅y                            \n",
       "⎪                                  \n",
       "⎪   0             otherwise        \n",
       "⎩                                  "
      ]
     },
     "execution_count": 13,
     "metadata": {},
     "output_type": "execute_result"
    },
    {
     "name": "stdout",
     "output_type": "stream",
     "text": [
      "\\begin{cases} \\frac{3}{2 x^{3} y^{2}} & \\text{for}\\: x > 1 \\wedge x > y \\wedge y > \\frac{1}{x} \\\\0 & \\text{otherwise} \\end{cases}\n"
     ]
    },
    {
     "data": {
      "text/latex": [
       "$\\displaystyle \\begin{cases} \\frac{3}{2 x^{3} \\min\\left(\\frac{1}{x}, x\\right)} - \\frac{3}{2 x^{4}} & \\text{for}\\: x > 1 \\wedge x < \\infty \\\\0 & \\text{otherwise} \\end{cases}$"
      ],
      "text/plain": [
       "⎧       3            3                     \n",
       "⎪──────────────── - ────  for x > 1 ∧ x < ∞\n",
       "⎪   3                  4                   \n",
       "⎨2⋅x ⋅Min(1/x, x)   2⋅x                    \n",
       "⎪                                          \n",
       "⎪           0                 otherwise    \n",
       "⎩                                          "
      ]
     },
     "execution_count": 13,
     "metadata": {},
     "output_type": "execute_result"
    },
    {
     "data": {
      "text/latex": [
       "$\\displaystyle \\begin{cases} \\frac{1.5}{x^{2}} - \\frac{1.5}{x^{4}} & \\text{for}\\: x > 1 \\\\0 & \\text{otherwise} \\end{cases}$"
      ],
      "text/plain": [
       "⎧1.5   1.5           \n",
       "⎪─── - ───  for x > 1\n",
       "⎪  2     4           \n",
       "⎨ x     x            \n",
       "⎪                    \n",
       "⎪    0      otherwise\n",
       "⎩                    "
      ]
     },
     "execution_count": 13,
     "metadata": {},
     "output_type": "execute_result"
    },
    {
     "data": {
      "image/png": "[encoded data removed]",
      "text/latex": [
       "$\\displaystyle 1.0$"
      ],
      "text/plain": [
       "1.00000000000000"
      ]
     },
     "execution_count": 13,
     "metadata": {},
     "output_type": "execute_result"
    }
   ],
   "source": [
    "# x1 = symbols('x',positive=True)\n",
    "fxy = Piecewise((3/(2*x**3*y**2),(x>1)&(y<x)&(y>(1/x))),(0,True))\n",
    "fxy\n",
    "print_latex(fxy)\n",
    "# 整体不好求积分，分开求积分\n",
    "Integral(fxy,(y,1/x,x)).doit()\n",
    "i1 = Piecewise(((3/2)*(1/x**2-1/x**4),(x>1)),(0, True))\n",
    "i1\n",
    "Integral(i1,(x,1,oo)).doit()"
   ]
  },
  {
   "cell_type": "code",
   "execution_count": 14,
   "metadata": {
    "pycharm": {
     "name": "#%%\n"
    }
   },
   "outputs": [
    {
     "data": {
      "image/png": "[encoded data removed]",
      "text/plain": [
       "<Figure size 432x288 with 1 Axes>"
      ]
     },
     "metadata": {
      "needs_background": "light"
     },
     "output_type": "display_data"
    },
    {
     "data": {
      "text/plain": [
       "<sympy.plotting.plot.Plot at 0x22d3382d388>"
      ]
     },
     "execution_count": 14,
     "metadata": {},
     "output_type": "execute_result"
    }
   ],
   "source": [
    "plot(1/x,x,xlim=(0,5),ylim=(0,5))"
   ]
  },
  {
   "cell_type": "code",
   "execution_count": 15,
   "metadata": {
    "pycharm": {
     "name": "#%%\n"
    }
   },
   "outputs": [
    {
     "data": {
      "text/latex": [
       "$\\displaystyle \\begin{cases} \\frac{3 \\log{\\left(x \\right)}}{2 x^{3}} - \\frac{3 \\log{\\left(\\min\\left(\\frac{1}{x}, x\\right) \\right)}}{2 x^{3}} & \\text{for}\\: x > 1 \\wedge x < \\infty \\\\0 & \\text{otherwise} \\end{cases}$"
      ],
      "text/plain": [
       "⎧3⋅log(x)   3⋅log(Min(1/x, x))                   \n",
       "⎪──────── - ──────────────────  for x > 1 ∧ x < ∞\n",
       "⎪     3               3                          \n",
       "⎨  2⋅x             2⋅x                           \n",
       "⎪                                                \n",
       "⎪              0                    otherwise    \n",
       "⎩                                                "
      ]
     },
     "execution_count": 15,
     "metadata": {},
     "output_type": "execute_result"
    },
    {
     "data": {
      "text/latex": [
       "$\\displaystyle \\begin{cases} \\frac{3 \\log{\\left(x \\right)}}{x^{3}} & \\text{for}\\: x > 1 \\\\0 & \\text{otherwise} \\end{cases}$"
      ],
      "text/plain": [
       "⎧3⋅log(x)           \n",
       "⎪────────  for x > 1\n",
       "⎪    3              \n",
       "⎨   x               \n",
       "⎪                   \n",
       "⎪   0      otherwise\n",
       "⎩                   "
      ]
     },
     "execution_count": 15,
     "metadata": {},
     "output_type": "execute_result"
    },
    {
     "data": {
      "image/png": "[encoded data removed]",
      "text/latex": [
       "$\\displaystyle \\frac{3}{4}$"
      ],
      "text/plain": [
       "3/4"
      ]
     },
     "execution_count": 15,
     "metadata": {},
     "output_type": "execute_result"
    }
   ],
   "source": [
    "# E(Y)的数学期望\n",
    "Integral(y*fxy,(y,1/x,x)).doit()\n",
    "i1 = Piecewise((3*log(x)/x**3,(x>1)),(0, True))\n",
    "i1\n",
    "Integral(i1,(x,1,oo)).doit() # 结果3/4"
   ]
  },
  {
   "cell_type": "code",
   "execution_count": 16,
   "metadata": {
    "pycharm": {
     "name": "#%%\n"
    }
   },
   "outputs": [
    {
     "data": {
      "text/latex": [
       "$\\displaystyle \\begin{cases} \\frac{3}{4 x^{4} \\min\\left(\\frac{1}{x}, x\\right)^{2}} - \\frac{3}{4 x^{6}} & \\text{for}\\: x > 1 \\wedge x < \\infty \\\\0 & \\text{otherwise} \\end{cases}$"
      ],
      "text/plain": [
       "⎧        3            3                     \n",
       "⎪───────────────── - ────  for x > 1 ∧ x < ∞\n",
       "⎪   4            2      6                   \n",
       "⎨4⋅x ⋅Min(1/x, x)    4⋅x                    \n",
       "⎪                                           \n",
       "⎪           0                  otherwise    \n",
       "⎩                                           "
      ]
     },
     "execution_count": 16,
     "metadata": {},
     "output_type": "execute_result"
    },
    {
     "data": {
      "text/latex": [
       "$\\displaystyle \\begin{cases} \\frac{0.75}{x^{2}} - \\frac{0.75}{x^{6}} & \\text{for}\\: x > 1 \\\\0 & \\text{otherwise} \\end{cases}$"
      ],
      "text/plain": [
       "⎧0.75   0.75           \n",
       "⎪──── - ────  for x > 1\n",
       "⎪  2      6            \n",
       "⎨ x      x             \n",
       "⎪                      \n",
       "⎪     0       otherwise\n",
       "⎩                      "
      ]
     },
     "execution_count": 16,
     "metadata": {},
     "output_type": "execute_result"
    },
    {
     "data": {
      "image/png": "[encoded data removed]",
      "text/latex": [
       "$\\displaystyle 0.6$"
      ],
      "text/plain": [
       "0.600000000000000"
      ]
     },
     "execution_count": 16,
     "metadata": {},
     "output_type": "execute_result"
    }
   ],
   "source": [
    "# E(1/XY)的数学期望  \n",
    "Integral(fxy/(x*y),(y,1/x,x)).doit()\n",
    "i1 = Piecewise(((3/4)*(1/x**2-1/x**6),(x>1)),(0, True))\n",
    "i1\n",
    "Integral(i1,(x,1,oo)).doit() # 结果0.6"
   ]
  },
  {
   "cell_type": "markdown",
   "metadata": {},
   "source": [
    "### 例16  \n",
    "$飞机空投物资设目标为原点O(0,0)，物资着陆点为(X,Y)，X与Y相互独立，且都服从正态分布N(0,\\sigma^2)，\\\\ 求物资着陆点(X,Y)到原点的距离的数学期望$"
   ]
  },
  {
   "cell_type": "code",
   "execution_count": 17,
   "metadata": {
    "pycharm": {
     "name": "#%%\n"
    }
   },
   "outputs": [
    {
     "data": {
      "image/png": "[encoded data removed]",
      "text/latex": [
       "$\\displaystyle \\frac{\\sqrt{2} e^{- \\frac{x^{2}}{2 \\sigma^{2}}}}{2 \\sqrt{\\pi} \\sigma}$"
      ],
      "text/plain": [
       "      2 \n",
       "    -x  \n",
       "    ────\n",
       "       2\n",
       "    2⋅σ \n",
       "√2⋅ℯ    \n",
       "────────\n",
       " 2⋅√π⋅σ "
      ]
     },
     "execution_count": 17,
     "metadata": {},
     "output_type": "execute_result"
    },
    {
     "data": {
      "image/png": "[encoded data removed]",
      "text/latex": [
       "$\\displaystyle \\frac{\\sqrt{2} e^{- \\frac{y^{2}}{2 \\sigma^{2}}}}{2 \\sqrt{\\pi} \\sigma}$"
      ],
      "text/plain": [
       "      2 \n",
       "    -y  \n",
       "    ────\n",
       "       2\n",
       "    2⋅σ \n",
       "√2⋅ℯ    \n",
       "────────\n",
       " 2⋅√π⋅σ "
      ]
     },
     "execution_count": 17,
     "metadata": {},
     "output_type": "execute_result"
    },
    {
     "data": {
      "image/png": "[encoded data removed]",
      "text/latex": [
       "$\\displaystyle \\frac{e^{\\frac{- x^{2} - y^{2}}{2 \\sigma^{2}}}}{2 \\pi \\sigma^{2}}$"
      ],
      "text/plain": [
       "    2    2\n",
       " - x  - y \n",
       " ─────────\n",
       "       2  \n",
       "    2⋅σ   \n",
       "ℯ         \n",
       "──────────\n",
       "       2  \n",
       "  2⋅π⋅σ   "
      ]
     },
     "execution_count": 17,
     "metadata": {},
     "output_type": "execute_result"
    }
   ],
   "source": [
    "mu,sigma = symbols('mu sigma',real=True)\n",
    "fx = (1/(sigma*sqrt(2*pi)))*exp(-(x-mu)**2/(2*sigma**2)).subs(mu,0)\n",
    "fy = fx.subs(x, y)\n",
    "fx\n",
    "fy\n",
    "fxy = (fx*fy).simplify()\n",
    "fxy"
   ]
  },
  {
   "cell_type": "code",
   "execution_count": 18,
   "metadata": {
    "pycharm": {
     "name": "#%%\n"
    }
   },
   "outputs": [
    {
     "data": {
      "image/png": "[encoded data removed]",
      "text/latex": [
       "$\\displaystyle \\int\\limits_{-\\infty}^{\\infty}\\int\\limits_{-\\infty}^{\\infty} \\frac{\\sqrt{x^{2} + y^{2}} e^{\\frac{- x^{2} - y^{2}}{2 \\sigma^{2}}}}{2 \\pi \\sigma^{2}}\\, dx\\, dy$"
      ],
      "text/plain": [
       "∞  ∞                               \n",
       "⌠  ⌠                               \n",
       "⎮  ⎮                   2    2      \n",
       "⎮  ⎮                - x  - y       \n",
       "⎮  ⎮                ─────────      \n",
       "⎮  ⎮     _________        2        \n",
       "⎮  ⎮    ╱  2    2      2⋅σ         \n",
       "⎮  ⎮  ╲╱  x  + y  ⋅ℯ               \n",
       "⎮  ⎮  ─────────────────────── dx dy\n",
       "⎮  ⎮                2              \n",
       "⎮  ⎮           2⋅π⋅σ               \n",
       "⌡  ⌡                               \n",
       "-∞ -∞                              "
      ]
     },
     "execution_count": 18,
     "metadata": {},
     "output_type": "execute_result"
    },
    {
     "data": {
      "image/png": "[encoded data removed]",
      "text/latex": [
       "$\\displaystyle \\int\\limits_{0}^{\\infty} \\frac{r \\sqrt{r^{2}} e^{- \\frac{r^{2}}{2 \\sigma^{2}}}}{2 \\pi \\sigma^{2}}\\, dr$"
      ],
      "text/plain": [
       "∞                   \n",
       "⌠                   \n",
       "⎮              2    \n",
       "⎮            -r     \n",
       "⎮            ────   \n",
       "⎮      ____     2   \n",
       "⎮     ╱  2   2⋅σ    \n",
       "⎮ r⋅╲╱  r  ⋅ℯ       \n",
       "⎮ ─────────────── dr\n",
       "⎮           2       \n",
       "⎮      2⋅π⋅σ        \n",
       "⌡                   \n",
       "0                   "
      ]
     },
     "execution_count": 18,
     "metadata": {},
     "output_type": "execute_result"
    },
    {
     "data": {
      "image/png": "[encoded data removed]",
      "text/latex": [
       "$\\displaystyle \\frac{\\sqrt{2} \\sqrt{\\pi} \\sigma}{2}$"
      ],
      "text/plain": [
       "√2⋅√π⋅σ\n",
       "───────\n",
       "   2   "
      ]
     },
     "execution_count": 18,
     "metadata": {},
     "output_type": "execute_result"
    }
   ],
   "source": [
    "# Z=sqrt(X**2+Y**2)\n",
    "z1 = sqrt(x**2+y**2)\n",
    "i1 = Integral(z1*fxy,(x,-oo,oo),(y,-oo,oo)) # 不好积\n",
    "# rho = symbols('rho',positive=True)\n",
    "r = symbols('r')\n",
    "theta = symbols('theta')\n",
    "i1\n",
    "# 改为极坐标\n",
    "# rho\n",
    "f1 = z1*fxy*r\n",
    "# f1.replace((x**2+y**2), r**2).replace((-x**2-y**2), -r**2) # 可以，但麻烦\n",
    "f2 = f1.replace(x**2,r**2-y**2) # 最好\n",
    "# i2 = Integral(f2,(r,0,oo),(theta,0,2*pi))\n",
    "# i2.doit()\n",
    "# 带符号变量的分开积\n",
    "i2 = Integral(f2,(r,0,oo))\n",
    "i2\n",
    "(i2.doit().args[0][0]*2*pi).simplify()\n"
   ]
  },
  {
   "cell_type": "markdown",
   "metadata": {},
   "source": [
    "### 考研题1   \n",
    "$设随机变量的概率分布为 \\\\\n",
    "P\\{X=k\\}=\\frac{C}{k!}, \\ k=0,1,2,... \\\\\n",
    "求E(X^2)\n",
    "$"
   ]
  },
  {
   "cell_type": "code",
   "execution_count": 19,
   "metadata": {
    "pycharm": {
     "name": "#%%\n"
    }
   },
   "outputs": [],
   "source": [
    "C = symbols('C')\n",
    "k = symbols('k',integer=True,nonnegative=True)\n"
   ]
  },
  {
   "cell_type": "code",
   "execution_count": 20,
   "metadata": {
    "pycharm": {
     "name": "#%%\n"
    }
   },
   "outputs": [
    {
     "data": {
      "image/png": "[encoded data removed]",
      "text/latex": [
       "$\\displaystyle \\frac{C}{k!}$"
      ],
      "text/plain": [
       "C \n",
       "──\n",
       "k!"
      ]
     },
     "execution_count": 20,
     "metadata": {},
     "output_type": "execute_result"
    },
    {
     "data": {
      "image/png": "[encoded data removed]",
      "text/latex": [
       "$\\displaystyle 2$"
      ],
      "text/plain": [
       "2"
      ]
     },
     "execution_count": 20,
     "metadata": {},
     "output_type": "execute_result"
    }
   ],
   "source": [
    "px=C/factorial(k)\n",
    "px\n",
    "# summation(px,(k,0,oo)) # 𝑒𝐶\n",
    "s1 = solve(summation(px,(k,0,oo))-1,C)[0]\n",
    "px = px.subs(C,s1)\n",
    "summation(k**2*px,(k,0,oo)) # 结果 2"
   ]
  },
  {
   "cell_type": "markdown",
   "metadata": {},
   "source": [
    "### 考研题2  \n",
    "$随机变量服从标准正态分布N(0,1),求E(Xe^{2X})$"
   ]
  },
  {
   "cell_type": "code",
   "execution_count": 21,
   "metadata": {
    "pycharm": {
     "name": "#%%\n"
    }
   },
   "outputs": [
    {
     "data": {
      "image/png": "[encoded data removed]",
      "text/latex": [
       "$\\displaystyle \\frac{\\sqrt{2} e^{- \\frac{\\left(- \\mu + x\\right)^{2}}{2 \\sigma^{2}}}}{2 \\sqrt{\\pi} \\sigma}$"
      ],
      "text/plain": [
       "             2 \n",
       "    -(-μ + x)  \n",
       "    ───────────\n",
       "           2   \n",
       "        2⋅σ    \n",
       "√2⋅ℯ           \n",
       "───────────────\n",
       "     2⋅√π⋅σ    "
      ]
     },
     "execution_count": 21,
     "metadata": {},
     "output_type": "execute_result"
    },
    {
     "data": {
      "image/png": "[encoded data removed]",
      "text/latex": [
       "$\\displaystyle \\frac{\\sqrt{2} e^{- \\frac{x^{2}}{2}}}{2 \\sqrt{\\pi}}$"
      ],
      "text/plain": [
       "      2 \n",
       "    -x  \n",
       "    ────\n",
       "     2  \n",
       "√2⋅ℯ    \n",
       "────────\n",
       "  2⋅√π  "
      ]
     },
     "execution_count": 21,
     "metadata": {},
     "output_type": "execute_result"
    }
   ],
   "source": [
    "mu,sigma = symbols('mu sigma')\n",
    "fx = (1/(sigma*sqrt(2*pi)))*exp(-(x-mu)**2/(2*sigma**2)) # 连着作用subs有问题\n",
    "fx\n",
    "fx = fx.subs({mu:0,sigma:1})\n",
    "fx"
   ]
  },
  {
   "cell_type": "code",
   "execution_count": 22,
   "metadata": {
    "pycharm": {
     "name": "#%%\n"
    }
   },
   "outputs": [
    {
     "data": {
      "image/png": "[encoded data removed]",
      "text/latex": [
       "$\\displaystyle \\int\\limits_{-\\infty}^{\\infty} \\frac{\\sqrt{2} x e^{2 x} e^{- \\frac{x^{2}}{2}}}{2 \\sqrt{\\pi}}\\, dx$"
      ],
      "text/plain": [
       "∞                    \n",
       "⌠                    \n",
       "⎮               2    \n",
       "⎮             -x     \n",
       "⎮             ────   \n",
       "⎮        2⋅x   2     \n",
       "⎮  √2⋅x⋅ℯ   ⋅ℯ       \n",
       "⎮  ─────────────── dx\n",
       "⎮        2⋅√π        \n",
       "⌡                    \n",
       "-∞                   "
      ]
     },
     "execution_count": 22,
     "metadata": {},
     "output_type": "execute_result"
    },
    {
     "data": {
      "image/png": "[encoded data removed]",
      "text/latex": [
       "$\\displaystyle 2 e^{2}$"
      ],
      "text/plain": [
       "   2\n",
       "2⋅ℯ "
      ]
     },
     "execution_count": 22,
     "metadata": {},
     "output_type": "execute_result"
    }
   ],
   "source": [
    "i1 = Integral(x*exp(2*x)*fx,(x,-oo,oo))\n",
    "i1\n",
    "# i1.doit()\n",
    "i1.doit().simplify() #　结果"
   ]
  },
  {
   "cell_type": "markdown",
   "metadata": {},
   "source": [
    "## 数学期望的性质  \n",
    "$性质1：常数C的数学期望就是该常数本身,即E(C)=C \\\\ \n",
    " 性质2：设X是随机变量C是常数，则E(CX)=CE(X) \\\\\n",
    " 性质3：设X,Y是随机变量，则E(X+Y)=E(X)+E(Y) \\\\\n",
    " 推广：数学期望的线性性质 \\\\\n",
    " 性质4：设X,Y是相互独立的随机变量，则E(XY)=E(X)E(Y) \\\\\n",
    " 推广：n个相互独立的随机变量 \\\\\n",
    " 注意：若X与Y不相互独立，则有E(XY)=E(X)E(Y)-E[E(X-E(X))E(Y-E(Y))] \\\\\n",
    "$\n"
   ]
  },
  {
   "cell_type": "markdown",
   "metadata": {},
   "source": [
    "### 例17    \n",
    "$设X和Y有分布律$\n",
    "$\\begin{array}{c|ccc} \n",
    "X & 9 & 10 & 11 \\\\\n",
    "\\hline\n",
    "p & 0.3 & 0.5 & 0.2 \\\\\n",
    "\\end{array}$\n",
    "$\\begin{array}{c|cc} \n",
    "Y & 6 & 7 \\\\\n",
    "\\hline\n",
    "p & 0.4 & 0.6 \\\\\n",
    "\\end{array}$  \n",
    "$若X,Y相互独立,验证E(X+Y)=E(X)+E(Y),E(XY)=E(X)E(Y)$"
   ]
  },
  {
   "cell_type": "code",
   "execution_count": 23,
   "metadata": {
    "pycharm": {
     "name": "#%%\n"
    }
   },
   "outputs": [
    {
     "data": {
      "image/png": "[encoded data removed]",
      "text/latex": [
       "$\\displaystyle 9.899999999999999$"
      ],
      "text/plain": [
       "9.899999999999999"
      ]
     },
     "execution_count": 23,
     "metadata": {},
     "output_type": "execute_result"
    },
    {
     "data": {
      "image/png": "[encoded data removed]",
      "text/latex": [
       "$\\displaystyle 6.6000000000000005$"
      ],
      "text/plain": [
       "6.6000000000000005"
      ]
     },
     "execution_count": 23,
     "metadata": {},
     "output_type": "execute_result"
    }
   ],
   "source": [
    "X=np.array([9,10,11],dtype='i4')\n",
    "Y=np.array([6,7],dtype='i4')\n",
    "px=np.array([0.3,0.5,0.2])\n",
    "py=np.array([0.4,0.6])\n",
    "# x的期望\n",
    "ex = np.sum(X*px)\n",
    "ex\n",
    "# y的期望\n",
    "ey = np.sum(Y*py)\n",
    "ey"
   ]
  },
  {
   "cell_type": "code",
   "execution_count": 24,
   "metadata": {
    "pycharm": {
     "name": "#%%\n"
    }
   },
   "outputs": [
    {
     "data": {
      "text/html": [
       "<div>\n",
       "<style scoped>\n",
       "    .dataframe tbody tr th:only-of-type {\n",
       "        vertical-align: middle;\n",
       "    }\n",
       "\n",
       "    .dataframe tbody tr th {\n",
       "        vertical-align: top;\n",
       "    }\n",
       "\n",
       "    .dataframe thead th {\n",
       "        text-align: right;\n",
       "    }\n",
       "</style>\n",
       "<table border=\"1\" class=\"dataframe\">\n",
       "  <thead>\n",
       "    <tr style=\"text-align: right;\">\n",
       "      <th></th>\n",
       "      <th>6</th>\n",
       "      <th>7</th>\n",
       "    </tr>\n",
       "  </thead>\n",
       "  <tbody>\n",
       "    <tr>\n",
       "      <td>9</td>\n",
       "      <td>0.12</td>\n",
       "      <td>0.18</td>\n",
       "    </tr>\n",
       "    <tr>\n",
       "      <td>10</td>\n",
       "      <td>0.20</td>\n",
       "      <td>0.30</td>\n",
       "    </tr>\n",
       "    <tr>\n",
       "      <td>11</td>\n",
       "      <td>0.08</td>\n",
       "      <td>0.12</td>\n",
       "    </tr>\n",
       "  </tbody>\n",
       "</table>\n",
       "</div>"
      ],
      "text/plain": [
       "       6     7\n",
       "9   0.12  0.18\n",
       "10  0.20  0.30\n",
       "11  0.08  0.12"
      ]
     },
     "execution_count": 24,
     "metadata": {},
     "output_type": "execute_result"
    },
    {
     "data": {
      "text/plain": [
       "9     0.3\n",
       "10    0.5\n",
       "11    0.2\n",
       "dtype: float64"
      ]
     },
     "execution_count": 24,
     "metadata": {},
     "output_type": "execute_result"
    },
    {
     "data": {
      "text/plain": [
       "6    0.4\n",
       "7    0.6\n",
       "dtype: float64"
      ]
     },
     "execution_count": 24,
     "metadata": {},
     "output_type": "execute_result"
    }
   ],
   "source": [
    "# 显示联合分布律和条件概率\n",
    "dfx = pd.DataFrame(data=np.stack((X,px),axis=1),columns=['X','p'])\n",
    "dfy = pd.DataFrame(data=np.stack((Y,py),axis=1),columns=['Y','p'])\n",
    "# dfx\n",
    "# dfy\n",
    "\n",
    "# 联合分布律\n",
    "pxy=np.dot(px[:,None],py[None,:])\n",
    "dfxy=pd.DataFrame(data=pxy,index=X, columns=Y)\n",
    "dfxy\n",
    "# 条件概率\n",
    "dfxy_y = dfxy.sum() # dfxy.sum(axis=0)\n",
    "dfxy_x = dfxy.T.sum() # dfxy.sum(axis=1)\n",
    "dfxy_x\n",
    "dfxy_y\n"
   ]
  },
  {
   "cell_type": "code",
   "execution_count": 25,
   "metadata": {
    "pycharm": {
     "name": "#%%\n"
    }
   },
   "outputs": [
    {
     "data": {
      "text/plain": [
       "array([54, 63, 60, 70, 66, 77])"
      ]
     },
     "execution_count": 25,
     "metadata": {},
     "output_type": "execute_result"
    },
    {
     "data": {
      "text/plain": [
       "array([0.12, 0.18, 0.2 , 0.3 , 0.08, 0.12])"
      ]
     },
     "execution_count": 25,
     "metadata": {},
     "output_type": "execute_result"
    },
    {
     "data": {
      "image/png": "[encoded data removed]",
      "text/latex": [
       "$\\displaystyle 65.34$"
      ],
      "text/plain": [
       "65.34"
      ]
     },
     "execution_count": 25,
     "metadata": {},
     "output_type": "execute_result"
    },
    {
     "data": {
      "image/png": "[encoded data removed]",
      "text/latex": [
       "$\\displaystyle 65.33999999999999$"
      ],
      "text/plain": [
       "65.33999999999999"
      ]
     },
     "execution_count": 25,
     "metadata": {},
     "output_type": "execute_result"
    }
   ],
   "source": [
    "v_xy = np.dot(X[:,None],Y[None,:]).reshape(-1)\n",
    "p_xy = pxy.reshape(-1)\n",
    "# p_xy\n",
    "v_xy\n",
    "p_xy\n",
    "e_xy = np.sum(v_xy*p_xy)\n",
    "# 说明E(XY)=E(X)+E(Y)\n",
    "e_xy\n",
    "ex*ey"
   ]
  },
  {
   "cell_type": "code",
   "execution_count": 26,
   "metadata": {
    "pycharm": {
     "name": "#%%\n"
    }
   },
   "outputs": [
    {
     "data": {
      "text/plain": [
       "array([15, 16, 16, 17, 17, 18])"
      ]
     },
     "execution_count": 26,
     "metadata": {},
     "output_type": "execute_result"
    },
    {
     "data": {
      "image/png": "[encoded data removed]",
      "text/latex": [
       "$\\displaystyle 16.5$"
      ],
      "text/plain": [
       "16.5"
      ]
     },
     "execution_count": 26,
     "metadata": {},
     "output_type": "execute_result"
    },
    {
     "data": {
      "image/png": "[encoded data removed]",
      "text/latex": [
       "$\\displaystyle 16.5$"
      ],
      "text/plain": [
       "16.5"
      ]
     },
     "execution_count": 26,
     "metadata": {},
     "output_type": "execute_result"
    }
   ],
   "source": [
    "# 计算E(X+Y)\n",
    "# 二维随机变量通过广播处理,概率分布与XY相同\n",
    "v_x = X[:, None].repeat(Y.shape[0], axis=1)\n",
    "v_y = Y[None, :].repeat(X.shape[0], axis=0)\n",
    "# v_x\n",
    "# v_y\n",
    "v_x_y = (v_x + v_y).reshape(-1)\n",
    "v_x_y\n",
    "e_x_y = np.sum(v_x_y*p_xy) # 计算期望不需要去除重复值\n",
    "# 验证E(X+Y)=E(X)+E(Y)\n",
    "e_x_y\n",
    "ex+ey"
   ]
  },
  {
   "cell_type": "markdown",
   "metadata": {},
   "source": [
    "### 例18 \n",
    "$设(X,Y)的联合分布律为$   \n",
    "$\\begin{array}{c|ccc}\n",
    "X,Y & 0 & 1 & 2 \\\\\n",
    "\\hline\n",
    "0 & 0 & \\frac{2}{15} & \\frac{3}{15} \\\\\n",
    "1 & \\frac{1}{15} & \\frac{6}{15} & \\frac{3}{15} \\\\\n",
    "\\end{array}$  \n",
    "$求E(3X-2Y)和E(XY)\n",
    "$\n"
   ]
  },
  {
   "cell_type": "code",
   "execution_count": 27,
   "metadata": {
    "pycharm": {
     "name": "#%%\n"
    }
   },
   "outputs": [
    {
     "data": {
      "text/html": [
       "<div>\n",
       "<style scoped>\n",
       "    .dataframe tbody tr th:only-of-type {\n",
       "        vertical-align: middle;\n",
       "    }\n",
       "\n",
       "    .dataframe tbody tr th {\n",
       "        vertical-align: top;\n",
       "    }\n",
       "\n",
       "    .dataframe thead th {\n",
       "        text-align: right;\n",
       "    }\n",
       "</style>\n",
       "<table border=\"1\" class=\"dataframe\">\n",
       "  <thead>\n",
       "    <tr style=\"text-align: right;\">\n",
       "      <th></th>\n",
       "      <th>0</th>\n",
       "      <th>1</th>\n",
       "      <th>2</th>\n",
       "    </tr>\n",
       "  </thead>\n",
       "  <tbody>\n",
       "    <tr>\n",
       "      <td>0</td>\n",
       "      <td>0.000000</td>\n",
       "      <td>0.133333</td>\n",
       "      <td>0.2</td>\n",
       "    </tr>\n",
       "    <tr>\n",
       "      <td>1</td>\n",
       "      <td>0.066667</td>\n",
       "      <td>0.400000</td>\n",
       "      <td>0.2</td>\n",
       "    </tr>\n",
       "  </tbody>\n",
       "</table>\n",
       "</div>"
      ],
      "text/plain": [
       "          0         1    2\n",
       "0  0.000000  0.133333  0.2\n",
       "1  0.066667  0.400000  0.2"
      ]
     },
     "execution_count": 27,
     "metadata": {},
     "output_type": "execute_result"
    },
    {
     "data": {
      "text/plain": [
       "array([0.33333333, 0.66666667])"
      ]
     },
     "execution_count": 27,
     "metadata": {},
     "output_type": "execute_result"
    },
    {
     "data": {
      "text/plain": [
       "array([0.06666667, 0.53333333, 0.4       ])"
      ]
     },
     "execution_count": 27,
     "metadata": {},
     "output_type": "execute_result"
    },
    {
     "data": {
      "image/png": "[encoded data removed]",
      "text/latex": [
       "$\\displaystyle 0.6666666666666667$"
      ],
      "text/plain": [
       "0.6666666666666667"
      ]
     },
     "execution_count": 27,
     "metadata": {},
     "output_type": "execute_result"
    },
    {
     "data": {
      "image/png": "[encoded data removed]",
      "text/latex": [
       "$\\displaystyle 1.3333333333333335$"
      ],
      "text/plain": [
       "1.3333333333333335"
      ]
     },
     "execution_count": 27,
     "metadata": {},
     "output_type": "execute_result"
    },
    {
     "data": {
      "image/png": "[encoded data removed]",
      "text/latex": [
       "$\\displaystyle -0.666666666666667$"
      ],
      "text/plain": [
       "-0.666666666666667"
      ]
     },
     "execution_count": 27,
     "metadata": {},
     "output_type": "execute_result"
    }
   ],
   "source": [
    "X = np.array([0, 1])\n",
    "Y = np.array([0, 1, 2])\n",
    "pxy = np.array([[0, 2 / 15, 3 / 15], [1 / 15, 6 / 15, 3 / 15]])\n",
    "df_xy = pd.DataFrame(data=pxy, index=X, columns=Y)\n",
    "df_xy\n",
    "py = np.sum(pxy, axis=0)\n",
    "px = np.sum(pxy, axis=1)\n",
    "px\n",
    "py\n",
    "ex = np.sum(X*px)\n",
    "ex\n",
    "ey = np.sum(Y*py)\n",
    "ey\n",
    "# 3X-2Y\n",
    "e1 = 3*ex-2*ey\n",
    "e1 # 结果"
   ]
  },
  {
   "cell_type": "code",
   "execution_count": 28,
   "metadata": {
    "pycharm": {
     "name": "#%%\n"
    }
   },
   "outputs": [
    {
     "data": {
      "text/plain": [
       "array([[0, 0, 0],\n",
       "       [0, 1, 2]])"
      ]
     },
     "execution_count": 28,
     "metadata": {},
     "output_type": "execute_result"
    },
    {
     "data": {
      "image/png": "[encoded data removed]",
      "text/latex": [
       "$\\displaystyle 0.8$"
      ],
      "text/plain": [
       "0.8"
      ]
     },
     "execution_count": 28,
     "metadata": {},
     "output_type": "execute_result"
    }
   ],
   "source": [
    "# XY\n",
    "v_xy = np.dot(X[:,None],Y[None,:])\n",
    "v_xy\n",
    "\n",
    "e_xy = np.sum(v_xy*pxy)\n",
    "e_xy # 结果"
   ]
  },
  {
   "cell_type": "markdown",
   "metadata": {},
   "source": [
    "### 例19  \n",
    "$设随机变量X和Y服从参数为2的指数分布,即它们的概率密度分别为 \\\\\n",
    "f_X(x)=\\begin{cases} 2e^{- 2 x} & x > 0 \\\\0 & x\\le 0 \\end{cases} \\\\\n",
    "f_Y(y)=\\begin{cases} 4e^{- 4 y} & y > 0 \\\\0 & y\\le 0 \\end{cases} \\\\\n",
    "(1) E(X+Y)和E(2X-3Y^2) \\\\\n",
    "(2) 设X,Y相互独立,求E(XY) \\\\\n",
    "$"
   ]
  },
  {
   "cell_type": "code",
   "execution_count": 29,
   "metadata": {
    "pycharm": {
     "name": "#%%\n"
    }
   },
   "outputs": [
    {
     "data": {
      "image/png": "[encoded data removed]",
      "text/latex": [
       "$\\displaystyle 0.75$"
      ],
      "text/plain": [
       "0.75"
      ]
     },
     "execution_count": 29,
     "metadata": {},
     "output_type": "execute_result"
    },
    {
     "data": {
      "image/png": "[encoded data removed]",
      "text/latex": [
       "$\\displaystyle \\frac{1}{8}$"
      ],
      "text/plain": [
       "1/8"
      ]
     },
     "execution_count": 29,
     "metadata": {},
     "output_type": "execute_result"
    },
    {
     "data": {
      "image/png": "[encoded data removed]",
      "text/latex": [
       "$\\displaystyle 0.625$"
      ],
      "text/plain": [
       "0.625000000000000"
      ]
     },
     "execution_count": 29,
     "metadata": {},
     "output_type": "execute_result"
    },
    {
     "data": {
      "image/png": "[encoded data removed]",
      "text/latex": [
       "$\\displaystyle 0.125$"
      ],
      "text/plain": [
       "0.125"
      ]
     },
     "execution_count": 29,
     "metadata": {},
     "output_type": "execute_result"
    }
   ],
   "source": [
    "ex = 1/2\n",
    "ey = 1/4\n",
    "# X+Y\n",
    "e_x_y = ex+ey\n",
    "e_x_y\n",
    "# 𝑌2\n",
    "e_y2 = Integral(4*y**2*exp(-4*y),(y,0,oo)).doit()\n",
    "e_y2\n",
    "# 2𝑋−3𝑌2\n",
    "e_2x_3y2 = 2*ex-3*e_y2\n",
    "e_2x_3y2\n",
    "# XY\n",
    "e_xy=ex*ey\n",
    "e_xy"
   ]
  },
  {
   "cell_type": "code",
   "execution_count": null,
   "metadata": {
    "pycharm": {
     "name": "#%%\n"
    }
   },
   "outputs": [],
   "source": []
  },
  {
   "cell_type": "code",
   "execution_count": null,
   "metadata": {
    "pycharm": {
     "name": "#%%\n"
    }
   },
   "outputs": [],
   "source": []
  },
  {
   "cell_type": "code",
   "execution_count": null,
   "metadata": {
    "pycharm": {
     "name": "#%%\n"
    }
   },
   "outputs": [],
   "source": []
  },
  {
   "cell_type": "code",
   "execution_count": null,
   "metadata": {
    "pycharm": {
     "name": "#%%\n"
    }
   },
   "outputs": [],
   "source": []
  },
  {
   "cell_type": "markdown",
   "metadata": {},
   "source": [
    "# 方差"
   ]
  },
  {
   "cell_type": "markdown",
   "metadata": {},
   "source": [
    "## 随机变量的方差"
   ]
  },
  {
   "cell_type": "markdown",
   "metadata": {},
   "source": [
    "### 0-1分布的方差"
   ]
  },
  {
   "cell_type": "code",
   "execution_count": 30,
   "metadata": {
    "pycharm": {
     "name": "#%%\n"
    }
   },
   "outputs": [
    {
     "data": {
      "image/png": "[encoded data removed]",
      "text/latex": [
       "$\\displaystyle p \\left(1 - p\\right)$"
      ],
      "text/plain": [
       "p⋅(1 - p)"
      ]
     },
     "execution_count": 30,
     "metadata": {},
     "output_type": "execute_result"
    },
    {
     "data": {
      "image/png": "[encoded data removed]",
      "text/latex": [
       "$\\displaystyle p \\left(1 - p\\right)$"
      ],
      "text/plain": [
       "p⋅(1 - p)"
      ]
     },
     "execution_count": 30,
     "metadata": {},
     "output_type": "execute_result"
    }
   ],
   "source": [
    "x, y, z = symbols('x y z')\n",
    "p = symbols('p', positive=True)\n",
    "n, k = symbols('n k', integer=True, positive=True)\n",
    "\n",
    "ex1 = 0 * (1 - p) + 1 * p\n",
    "# 0-1分布的方差\n",
    "# 定义法\n",
    "dx1 = ((0 - ex1)**2 * (1 - p) + (1 - ex1)**2 * p).simplify()\n",
    "dx1 \n",
    "# 公式法\n",
    "dx2 = (0**2 * (1 - p) + 1**2 * p - ex1**2).simplify()\n",
    "dx2"
   ]
  },
  {
   "cell_type": "markdown",
   "metadata": {},
   "source": [
    "### 二项分布的方差\n",
    "$C_n^m={n\\over m}C_{n-1}^{m-1}$"
   ]
  },
  {
   "cell_type": "code",
   "execution_count": 31,
   "metadata": {
    "pycharm": {
     "name": "#%%\n"
    }
   },
   "outputs": [
    {
     "data": {
      "image/png": "[encoded data removed]",
      "text/latex": [
       "$\\displaystyle p^{k} \\left(1 - p\\right)^{- k + n} {\\binom{n}{k}}$"
      ],
      "text/plain": [
       " k        -k + n ⎛n⎞\n",
       "p ⋅(1 - p)      ⋅⎜ ⎟\n",
       "                 ⎝k⎠"
      ]
     },
     "execution_count": 31,
     "metadata": {},
     "output_type": "execute_result"
    },
    {
     "data": {
      "image/png": "[encoded data removed]",
      "text/latex": [
       "$\\displaystyle 1$"
      ],
      "text/plain": [
       "1"
      ]
     },
     "execution_count": 31,
     "metadata": {},
     "output_type": "execute_result"
    },
    {
     "data": {
      "image/png": "[encoded data removed]",
      "text/latex": [
       "$\\displaystyle n p$"
      ],
      "text/plain": [
       "n⋅p"
      ]
     },
     "execution_count": 31,
     "metadata": {},
     "output_type": "execute_result"
    },
    {
     "data": {
      "text/plain": [
       "'***'"
      ]
     },
     "execution_count": 31,
     "metadata": {},
     "output_type": "execute_result"
    },
    {
     "data": {
      "image/png": "[encoded data removed]",
      "text/latex": [
       "$\\displaystyle - n p \\left(p - 1\\right)$"
      ],
      "text/plain": [
       "-n⋅p⋅(p - 1)"
      ]
     },
     "execution_count": 31,
     "metadata": {},
     "output_type": "execute_result"
    },
    {
     "data": {
      "image/png": "[encoded data removed]",
      "text/latex": [
       "$\\displaystyle n p \\left(1 - p\\right)$"
      ],
      "text/plain": [
       "n⋅p⋅(1 - p)"
      ]
     },
     "execution_count": 31,
     "metadata": {},
     "output_type": "execute_result"
    },
    {
     "data": {
      "image/png": "[encoded data removed]",
      "text/latex": [
       "$\\displaystyle n p q$"
      ],
      "text/plain": [
       "n⋅p⋅q"
      ]
     },
     "execution_count": 31,
     "metadata": {},
     "output_type": "execute_result"
    }
   ],
   "source": [
    "n, k = symbols('n k', integer=True, positive=True) # n设为正整数很重要\n",
    "p,q= symbols('p q', positive=True)\n",
    "# q = 1 - p\n",
    "# 二项分布的概率\n",
    "px = binomial(n, k) * p**(k) * (1 - p)**(n - k)\n",
    "# px = binomial(n, k) * p**(k) * q**(n - k)\n",
    "px\n",
    "# 二项分布的全概率\n",
    "summation(px, (k, 0, n)).simplify().args[0][0]\n",
    "# 二项分布的数学期望\n",
    "ex1 = summation(k*px, (k, 0, n)).simplify().args[0][0]\n",
    "ex1\n",
    "# 二项分布的方差\n",
    "# 定义法: 太复杂，不好化简\n",
    "# dx1 = summation((k-ex1)**2*px, (k, 0, n)).simplify()\n",
    "# simplify(dacotx1) \n",
    "\"***\"\n",
    "# 公式法\n",
    "dx2 = summation(k**2*px, (k, 0, n)).args[0][0]-ex1**2\n",
    "dx2 = simplify(dx2) \n",
    "dx2 # npq\n",
    "\n",
    "simplify(dx2.replace((1-p),q)) # 去掉负号\n",
    "dx2.replace((p-1),-q) # 结果\n"
   ]
  },
  {
   "cell_type": "markdown",
   "metadata": {},
   "source": [
    "### 泊松分布的方差"
   ]
  },
  {
   "cell_type": "code",
   "execution_count": 32,
   "metadata": {
    "pycharm": {
     "name": "#%%\n"
    }
   },
   "outputs": [
    {
     "data": {
      "image/png": "[encoded data removed]",
      "text/latex": [
       "$\\displaystyle \\frac{\\lambda^{k} e^{- \\lambda}}{k!}$"
      ],
      "text/plain": [
       " k  -λ\n",
       "λ ⋅ℯ  \n",
       "──────\n",
       "  k!  "
      ]
     },
     "execution_count": 32,
     "metadata": {},
     "output_type": "execute_result"
    },
    {
     "data": {
      "image/png": "[encoded data removed]",
      "text/latex": [
       "$\\displaystyle 1$"
      ],
      "text/plain": [
       "1"
      ]
     },
     "execution_count": 32,
     "metadata": {},
     "output_type": "execute_result"
    },
    {
     "data": {
      "image/png": "[encoded data removed]",
      "text/latex": [
       "$\\displaystyle \\lambda$"
      ],
      "text/plain": [
       "λ"
      ]
     },
     "execution_count": 32,
     "metadata": {},
     "output_type": "execute_result"
    },
    {
     "data": {
      "text/plain": [
       "'***'"
      ]
     },
     "execution_count": 32,
     "metadata": {},
     "output_type": "execute_result"
    },
    {
     "data": {
      "image/png": "[encoded data removed]",
      "text/latex": [
       "$\\displaystyle \\lambda$"
      ],
      "text/plain": [
       "λ"
      ]
     },
     "execution_count": 32,
     "metadata": {},
     "output_type": "execute_result"
    }
   ],
   "source": [
    "lamda = symbols('lamda')\n",
    "# 泊松分布的概率\n",
    "px = exp(-lamda)*lamda**k/factorial(k)\n",
    "px\n",
    "# 泊松分布的全概率\n",
    "summation(px, (k, 0, oo))\n",
    "# 泊松分布的数学期望\n",
    "ex1 = summation(k*px, (k, 0, oo))\n",
    "# 二项分布的方差\n",
    "# 定义法: \n",
    "dx1 = summation((k-ex1)**2*px, (k, 0, oo)).simplify()\n",
    "dx1 \n",
    "\"***\"\n",
    "# 公式法\n",
    "dx2 = (summation(k**2*px, (k, 0, oo))-ex1**2).simplify()\n",
    "dx2 "
   ]
  },
  {
   "cell_type": "markdown",
   "metadata": {},
   "source": [
    "### 几何分布的方差"
   ]
  },
  {
   "cell_type": "code",
   "execution_count": 33,
   "metadata": {
    "pycharm": {
     "name": "#%%\n"
    }
   },
   "outputs": [
    {
     "data": {
      "image/png": "[encoded data removed]",
      "text/latex": [
       "$\\displaystyle p \\left(1 - p\\right)^{k - 1}$"
      ],
      "text/plain": [
       "         k - 1\n",
       "p⋅(1 - p)     "
      ]
     },
     "execution_count": 33,
     "metadata": {},
     "output_type": "execute_result"
    },
    {
     "data": {
      "image/png": "[encoded data removed]",
      "text/latex": [
       "$\\displaystyle 1$"
      ],
      "text/plain": [
       "1"
      ]
     },
     "execution_count": 33,
     "metadata": {},
     "output_type": "execute_result"
    },
    {
     "data": {
      "image/png": "[encoded data removed]",
      "text/latex": [
       "$\\displaystyle \\frac{1}{p}$"
      ],
      "text/plain": [
       "1\n",
       "─\n",
       "p"
      ]
     },
     "execution_count": 33,
     "metadata": {},
     "output_type": "execute_result"
    },
    {
     "data": {
      "image/png": "[encoded data removed]",
      "text/latex": [
       "$\\displaystyle \\frac{1 - p}{p^{2}}$"
      ],
      "text/plain": [
       "1 - p\n",
       "─────\n",
       "   2 \n",
       "  p  "
      ]
     },
     "execution_count": 33,
     "metadata": {},
     "output_type": "execute_result"
    },
    {
     "data": {
      "text/plain": [
       "'***'"
      ]
     },
     "execution_count": 33,
     "metadata": {},
     "output_type": "execute_result"
    },
    {
     "data": {
      "image/png": "[encoded data removed]",
      "text/latex": [
       "$\\displaystyle \\frac{1 - p}{p^{2}}$"
      ],
      "text/plain": [
       "1 - p\n",
       "─────\n",
       "   2 \n",
       "  p  "
      ]
     },
     "execution_count": 33,
     "metadata": {},
     "output_type": "execute_result"
    }
   ],
   "source": [
    "# 特别注意var和symbols的区别\n",
    "n, k = symbols('n k', integer=True, positive=True)\n",
    "p = symbols('p', positive=True)\n",
    "# 几何分布的概率\n",
    "px = p * (1 - p)**(k-1)\n",
    "# px = Piecewise((p * (1 - p)**(k-1), (p>0)&(p<1)),(0, True)) # 概率用分段函数表示\n",
    "px\n",
    "# 几何分布的全概率\n",
    "summation(px, (k, 1, oo)).simplify().args[0][0]\n",
    "# 几何分布的期望\n",
    "ex1 = summation(k*px, (k, 1, oo)).simplify().args[0][0] \n",
    "ex1\n",
    "# 几何分布的方差\n",
    "# 定义法: \n",
    "dx1 = summation((k-ex1)**2*px, (k, 1, oo)).simplify().simplify().args[0][0] # k要从1开始\n",
    "dx1 \n",
    "\"***\"\n",
    "# 公式法\n",
    "dx2 = (summation(k**2*px, (k, 1, oo))-ex1**2).simplify().args[0][0].simplify()\n",
    "dx2 # 结果"
   ]
  },
  {
   "cell_type": "markdown",
   "metadata": {},
   "source": [
    "### 超几何分布的方差  \n",
    "$X\\sim H(N,M,n)$  \n",
    "$p\\{x=k\\}=\\frac{C_M^k C_{N-M}^{n-k}}{C_N^n}$"
   ]
  },
  {
   "cell_type": "code",
   "execution_count": 34,
   "metadata": {
    "pycharm": {
     "name": "#%%\n"
    }
   },
   "outputs": [
    {
     "data": {
      "image/png": "[encoded data removed]",
      "text/latex": [
       "$\\displaystyle \\frac{{\\binom{M}{k}} {\\binom{- M + N}{- k + n}}}{{\\binom{N}{n}}}$"
      ],
      "text/plain": [
       "⎛M⎞ ⎛-M + N⎞\n",
       "⎜ ⎟⋅⎜      ⎟\n",
       "⎝k⎠ ⎝-k + n⎠\n",
       "────────────\n",
       "    ⎛N⎞     \n",
       "    ⎜ ⎟     \n",
       "    ⎝n⎠     "
      ]
     },
     "execution_count": 34,
     "metadata": {},
     "output_type": "execute_result"
    },
    {
     "data": {
      "image/png": "[encoded data removed]",
      "text/latex": [
       "$\\displaystyle 1$"
      ],
      "text/plain": [
       "1"
      ]
     },
     "execution_count": 34,
     "metadata": {},
     "output_type": "execute_result"
    },
    {
     "data": {
      "text/plain": [
       "'*****'"
      ]
     },
     "execution_count": 34,
     "metadata": {},
     "output_type": "execute_result"
    },
    {
     "data": {
      "image/png": "[encoded data removed]",
      "text/latex": [
       "$\\displaystyle - \\frac{M^{2} N n}{N^{3} - N^{2}} + \\frac{M^{2} n^{2}}{N^{3} - N^{2}} + \\frac{M N^{2} n}{N^{3} - N^{2}} - \\frac{M N n^{2}}{N^{3} - N^{2}}$"
      ],
      "text/plain": [
       "    2         2  2        2           2\n",
       "   M ⋅N⋅n    M ⋅n      M⋅N ⋅n    M⋅N⋅n \n",
       "- ─────── + ─────── + ─────── - ───────\n",
       "   3    2    3    2    3    2    3    2\n",
       "  N  - N    N  - N    N  - N    N  - N "
      ]
     },
     "execution_count": 34,
     "metadata": {},
     "output_type": "execute_result"
    },
    {
     "data": {
      "text/plain": [
       "'***'"
      ]
     },
     "execution_count": 34,
     "metadata": {},
     "output_type": "execute_result"
    },
    {
     "data": {
      "image/png": "[encoded data removed]",
      "text/latex": [
       "$\\displaystyle \\frac{M n \\left(- M N + M n + N^{2} - N n\\right)}{N^{2} \\left(N - 1\\right)}$"
      ],
      "text/plain": [
       "    ⎛              2      ⎞\n",
       "M⋅n⋅⎝-M⋅N + M⋅n + N  - N⋅n⎠\n",
       "───────────────────────────\n",
       "          2                \n",
       "         N ⋅(N - 1)        "
      ]
     },
     "execution_count": 34,
     "metadata": {},
     "output_type": "execute_result"
    },
    {
     "data": {
      "text/plain": [
       "'*****'"
      ]
     },
     "execution_count": 34,
     "metadata": {},
     "output_type": "execute_result"
    },
    {
     "data": {
      "image/png": "[encoded data removed]",
      "text/latex": [
       "$\\displaystyle \\frac{M n \\left(- M N + M n + N^{2} - N n\\right)}{N^{2} \\left(N - 1\\right)}$"
      ],
      "text/plain": [
       "    ⎛              2      ⎞\n",
       "M⋅n⋅⎝-M⋅N + M⋅n + N  - N⋅n⎠\n",
       "───────────────────────────\n",
       "          2                \n",
       "         N ⋅(N - 1)        "
      ]
     },
     "execution_count": 34,
     "metadata": {},
     "output_type": "execute_result"
    }
   ],
   "source": [
    "n, k, N, M = symbols('n k N M', integer=True, positive=True)\n",
    "p = symbols('p', positive=True)\n",
    "# 超几何分布的概率\n",
    "px = binomial(M, k) * binomial(N-M, n-k)/binomial(N, n) \n",
    "px\n",
    "# 超几何分布的全概率\n",
    "summation(px, (k, 0, n)).simplify() \n",
    "# 超几何分布的期望\n",
    "ex1 = summation(k*px, (k, 0, n)).simplify() \n",
    "\"*****\"\n",
    "# 超何分布的方差\n",
    "# 定义法: \n",
    "dx1 = summation((k-ex1)**2*px, (k, 0, oo)).simplify().args[0][0].expand()\n",
    "dx1 \n",
    "\"***\"\n",
    "# 公式法\n",
    "dx2 = (summation(k**2*px, (k, 0, oo))-ex1**2).simplify().args[0][0]\n",
    "dx2 # 结果\n",
    "\"*****\"\n",
    "# 验证\n",
    "dx_ = n*M/N - (n*M/N)**2 + n*(n-1)*M*(M-1)/(N*(N-1)) # 正确结果\n",
    "# dx_\n",
    "dx_.simplify()"
   ]
  },
  {
   "cell_type": "markdown",
   "metadata": {},
   "source": [
    "### 均匀分布的方差"
   ]
  },
  {
   "cell_type": "code",
   "execution_count": 35,
   "metadata": {
    "pycharm": {
     "name": "#%%\n"
    }
   },
   "outputs": [
    {
     "data": {
      "text/latex": [
       "$\\displaystyle \\begin{cases} \\frac{1}{c} & \\text{for}\\: a \\leq x \\wedge x \\leq a + c \\\\0 & \\text{otherwise} \\end{cases}$"
      ],
      "text/plain": [
       "⎧1                       \n",
       "⎪─  for a ≤ x ∧ x ≤ a + c\n",
       "⎨c                       \n",
       "⎪                        \n",
       "⎩0        otherwise      "
      ]
     },
     "execution_count": 35,
     "metadata": {},
     "output_type": "execute_result"
    },
    {
     "data": {
      "image/png": "[encoded data removed]",
      "text/latex": [
       "$\\displaystyle 1$"
      ],
      "text/plain": [
       "1"
      ]
     },
     "execution_count": 35,
     "metadata": {},
     "output_type": "execute_result"
    },
    {
     "data": {
      "image/png": "[encoded data removed]",
      "text/latex": [
       "$\\displaystyle a + \\frac{c}{2}$"
      ],
      "text/plain": [
       "    c\n",
       "a + ─\n",
       "    2"
      ]
     },
     "execution_count": 35,
     "metadata": {},
     "output_type": "execute_result"
    },
    {
     "data": {
      "text/plain": [
       "'*****'"
      ]
     },
     "execution_count": 35,
     "metadata": {},
     "output_type": "execute_result"
    },
    {
     "data": {
      "image/png": "[encoded data removed]",
      "text/latex": [
       "$\\displaystyle \\frac{c^{2}}{12}$"
      ],
      "text/plain": [
       " 2\n",
       "c \n",
       "──\n",
       "12"
      ]
     },
     "execution_count": 35,
     "metadata": {},
     "output_type": "execute_result"
    },
    {
     "data": {
      "text/plain": [
       "'***'"
      ]
     },
     "execution_count": 35,
     "metadata": {},
     "output_type": "execute_result"
    },
    {
     "data": {
      "image/png": "[encoded data removed]",
      "text/latex": [
       "$\\displaystyle \\frac{c^{2}}{12}$"
      ],
      "text/plain": [
       " 2\n",
       "c \n",
       "──\n",
       "12"
      ]
     },
     "execution_count": 35,
     "metadata": {},
     "output_type": "execute_result"
    },
    {
     "data": {
      "image/png": "[encoded data removed]",
      "text/latex": [
       "$\\displaystyle \\frac{\\left(a - b\\right)^{2}}{12}$"
      ],
      "text/plain": [
       "       2\n",
       "(a - b) \n",
       "────────\n",
       "   12   "
      ]
     },
     "execution_count": 35,
     "metadata": {},
     "output_type": "execute_result"
    }
   ],
   "source": [
    "a,b=symbols('a b',real=True)\n",
    "# a = symbols('a', real=True)\n",
    "c = symbols('c', positive=True)\n",
    "# b = a + c\n",
    "fx = Piecewise((1 / c, (x >= a) & (x <= a + c)), (0, True))\n",
    "fx\n",
    "# 均匀分布的全概率\n",
    "p1 = Integral(fx, (x, a, a + c)).doit().simplify()\n",
    "p1\n",
    "# 均匀分布的数学期望\n",
    "ex1 = Integral(x * fx, (x, a, a + c)).doit().simplify()\n",
    "ex1\n",
    "\"*****\"\n",
    "# 均匀分布的方差\n",
    "# 定义法: \n",
    "dx1 = Integral((x-ex1)**2 * fx, (x, a, a + c)).doit().simplify()\n",
    "dx1 \n",
    "\"***\"\n",
    "# 公式法\n",
    "dx2 = (Integral(x**2 * fx, (x, a, a + c)).doit()-ex1**2).simplify()\n",
    "dx2\n",
    "# 符号替换\n",
    "# b = symbols('b', real=True) # b用符号替换回来\n",
    "# ex1.subs(c,(b-a)).simplify()\n",
    "dx1.subs(c,(b-a)).simplify() # 结果"
   ]
  },
  {
   "cell_type": "markdown",
   "metadata": {},
   "source": [
    "### 指数分布的方差  \n",
    "$f(x)=\\lambda e^{-\\lambda x}$"
   ]
  },
  {
   "cell_type": "code",
   "execution_count": 36,
   "metadata": {
    "pycharm": {
     "name": "#%%\n"
    }
   },
   "outputs": [
    {
     "data": {
      "text/latex": [
       "$\\displaystyle \\begin{cases} \\lambda e^{- \\lambda x} & \\text{for}\\: x > 0 \\\\0 & \\text{otherwise} \\end{cases}$"
      ],
      "text/plain": [
       "⎧   -λ⋅x           \n",
       "⎪λ⋅ℯ      for x > 0\n",
       "⎨                  \n",
       "⎪   0     otherwise\n",
       "⎩                  "
      ]
     },
     "execution_count": 36,
     "metadata": {},
     "output_type": "execute_result"
    },
    {
     "data": {
      "image/png": "[encoded data removed]",
      "text/latex": [
       "$\\displaystyle 1$"
      ],
      "text/plain": [
       "1"
      ]
     },
     "execution_count": 36,
     "metadata": {},
     "output_type": "execute_result"
    },
    {
     "data": {
      "image/png": "[encoded data removed]",
      "text/latex": [
       "$\\displaystyle \\frac{1}{\\lambda^{2}}$"
      ],
      "text/plain": [
       "1 \n",
       "──\n",
       " 2\n",
       "λ "
      ]
     },
     "execution_count": 36,
     "metadata": {},
     "output_type": "execute_result"
    },
    {
     "data": {
      "text/plain": [
       "'***'"
      ]
     },
     "execution_count": 36,
     "metadata": {},
     "output_type": "execute_result"
    },
    {
     "data": {
      "image/png": "[encoded data removed]",
      "text/latex": [
       "$\\displaystyle \\frac{1}{\\lambda^{2}}$"
      ],
      "text/plain": [
       "1 \n",
       "──\n",
       " 2\n",
       "λ "
      ]
     },
     "execution_count": 36,
     "metadata": {},
     "output_type": "execute_result"
    }
   ],
   "source": [
    "# 数学arg表示复数的辐角\n",
    "x = symbols('x')\n",
    "lamda = symbols('lamda', real=True)\n",
    "fx = lamda * exp(-lamda * x)\n",
    "fx_ = Piecewise((lamda * exp(-lamda * x),x>0),(0, True))\n",
    "# 指数分布的概率密度\n",
    "fx_\n",
    "# 指数分布的全概率\n",
    "Integral(fx, (x, 0, oo)).doit().args[0][0] # 如果按分段函数积不出来，所以只积0到正无穷\n",
    "# 指数分布的数学期望\n",
    "ex1 = Integral(x*fx, (x, 0, oo)).doit().args[0][0]\n",
    "\n",
    "# 指数分布的方差\n",
    "# 定义法: \n",
    "dx1 = Integral((x-ex1)**2 * fx, (x, 0, oo)).doit().simplify().args[0][0]\n",
    "dx1 \n",
    "\"***\"\n",
    "# 公式法\n",
    "dx2 = (Integral(x**2 * fx, (x, 0, oo)).doit()-ex1**2).simplify().args[0][0]\n",
    "dx2 # 结果"
   ]
  },
  {
   "cell_type": "markdown",
   "metadata": {},
   "source": [
    "### 正态分布的方差"
   ]
  },
  {
   "cell_type": "code",
   "execution_count": 37,
   "metadata": {
    "pycharm": {
     "name": "#%%\n"
    }
   },
   "outputs": [
    {
     "data": {
      "image/png": "[encoded data removed]",
      "text/latex": [
       "$\\displaystyle \\frac{\\sqrt{2} e^{- \\frac{\\left(- \\mu + x\\right)^{2}}{2 \\sigma^{2}}}}{2 \\sqrt{\\pi} \\sigma}$"
      ],
      "text/plain": [
       "             2 \n",
       "    -(-μ + x)  \n",
       "    ───────────\n",
       "           2   \n",
       "        2⋅σ    \n",
       "√2⋅ℯ           \n",
       "───────────────\n",
       "     2⋅√π⋅σ    "
      ]
     },
     "execution_count": 37,
     "metadata": {},
     "output_type": "execute_result"
    },
    {
     "data": {
      "image/png": "[encoded data removed]",
      "text/latex": [
       "$\\displaystyle 1$"
      ],
      "text/plain": [
       "1"
      ]
     },
     "execution_count": 37,
     "metadata": {},
     "output_type": "execute_result"
    },
    {
     "data": {
      "text/plain": [
       "'*****'"
      ]
     },
     "execution_count": 37,
     "metadata": {},
     "output_type": "execute_result"
    },
    {
     "data": {
      "image/png": "[encoded data removed]",
      "text/latex": [
       "$\\displaystyle \\sigma^{2}$"
      ],
      "text/plain": [
       " 2\n",
       "σ "
      ]
     },
     "execution_count": 37,
     "metadata": {},
     "output_type": "execute_result"
    },
    {
     "data": {
      "text/plain": [
       "'***'"
      ]
     },
     "execution_count": 37,
     "metadata": {},
     "output_type": "execute_result"
    },
    {
     "data": {
      "image/png": "[encoded data removed]",
      "text/latex": [
       "$\\displaystyle \\sigma^{2}$"
      ],
      "text/plain": [
       " 2\n",
       "σ "
      ]
     },
     "execution_count": 37,
     "metadata": {},
     "output_type": "execute_result"
    }
   ],
   "source": [
    "mu,sigma = symbols('mu sigma',real=True) # real设为True很重要\n",
    "fx = (1/(sigma*sqrt(2*pi)))*exp(-(x-mu)**2/(2*sigma**2))\n",
    "fx\n",
    "# 指数分布的全概率\n",
    "Integral(fx, (x, -oo, oo)).doit().args[0][0] \n",
    "# 指数分布的数学期望\n",
    "ex1 = Integral(x*fx, (x, -oo, oo)).doit().args[0][0]\n",
    "\"*****\"\n",
    "# 正态分布的方差\n",
    "# 定义法: \n",
    "dx1 = Integral((x-ex1)**2 * fx, (x, -oo, oo)).doit().simplify().args[0][0]\n",
    "dx1 \n",
    "\"***\"\n",
    "# 公式法\n",
    "dx2 = (Integral(x**2 * fx, (x, -oo, oo)).doit()-ex1**2).simplify().args[0][0]\n",
    "dx2 # 结果"
   ]
  },
  {
   "cell_type": "markdown",
   "metadata": {
    "pycharm": {
     "name": "#%%\n"
    }
   },
   "source": [
    "## 方差的性质"
   ]
  },
  {
   "cell_type": "markdown",
   "metadata": {},
   "source": [
    "### 例10  \n",
    "$设随机变量X的概率密度为 \\\\\n",
    "f(x)=\\frac{1}{4} x^{2} e^{- \\left|{x}\\right|}\\ (-\\infty<x<+\\infty)\\\\\n",
    "求E(2X-3)和D(2X-3)\n",
    "$"
   ]
  },
  {
   "cell_type": "code",
   "execution_count": 42,
   "metadata": {},
   "outputs": [
    {
     "data": {
      "image/png": "[encoded data removed]",
      "text/latex": [
       "$\\displaystyle 0.25 x^{2} e^{- \\left|{x}\\right|}$"
      ],
      "text/plain": [
       "      2  -│x│\n",
       "0.25⋅x ⋅ℯ    "
      ]
     },
     "execution_count": 42,
     "metadata": {},
     "output_type": "execute_result"
    },
    {
     "name": "stdout",
     "output_type": "stream",
     "text": [
      "0.25 x^{2} e^{- \\left|{x}\\right|}\n"
     ]
    }
   ],
   "source": [
    "fx = (1/4)*x**2*exp(-Abs(x))\n",
    "fx\n",
    "print_latex(fx)"
   ]
  },
  {
   "cell_type": "code",
   "execution_count": 48,
   "metadata": {},
   "outputs": [
    {
     "data": {
      "image/png": "[encoded data removed]",
      "text/latex": [
       "$\\displaystyle 1.0$"
      ],
      "text/plain": [
       "1.00000000000000"
      ]
     },
     "execution_count": 48,
     "metadata": {},
     "output_type": "execute_result"
    },
    {
     "data": {
      "image/png": "[encoded data removed]",
      "text/latex": [
       "$\\displaystyle -3.0$"
      ],
      "text/plain": [
       "-3.00000000000000"
      ]
     },
     "execution_count": 48,
     "metadata": {},
     "output_type": "execute_result"
    },
    {
     "data": {
      "image/png": "[encoded data removed]",
      "text/latex": [
       "$\\displaystyle 12.0$"
      ],
      "text/plain": [
       "12.0000000000000"
      ]
     },
     "execution_count": 48,
     "metadata": {},
     "output_type": "execute_result"
    },
    {
     "data": {
      "image/png": "[encoded data removed]",
      "text/latex": [
       "$\\displaystyle 48.0$"
      ],
      "text/plain": [
       "48.0000000000000"
      ]
     },
     "execution_count": 48,
     "metadata": {},
     "output_type": "execute_result"
    }
   ],
   "source": [
    "Integral(fx,(x,-oo,oo)).doit() # 1\n",
    "ex1 = Integral(x*fx,(x,-oo,oo)).doit() # 0\n",
    "#E(2X-3)\n",
    "ex2 = Integral((2*x-3)*fx,(x,-oo,oo)).doit() # -3\n",
    "ex2 # 结果\n",
    "#D(2X-3)\n",
    "dx1 = Integral(x**2*fx,(x,-oo,oo)).doit()-ex1**2\n",
    "dx1\n",
    "dx2 = 4*dx1\n",
    "dx2 # 结果"
   ]
  },
  {
   "cell_type": "markdown",
   "metadata": {},
   "source": [
    "#### 考研题1998年数学一第13题  \n",
    "$ 设随机变量𝑋,𝑌相互独立，且都服从均值为0方差为1/2的正态分布，求随机变量|X-Y|的方差$ "
   ]
  },
  {
   "cell_type": "code",
   "execution_count": 18,
   "metadata": {},
   "outputs": [
    {
     "data": {
      "image/png": "[encoded data removed]",
      "text/latex": [
       "$\\displaystyle 0$"
      ],
      "text/plain": [
       "0"
      ]
     },
     "execution_count": 18,
     "metadata": {},
     "output_type": "execute_result"
    },
    {
     "data": {
      "image/png": "[encoded data removed]",
      "text/latex": [
       "$\\displaystyle 1.0$"
      ],
      "text/plain": [
       "1.0"
      ]
     },
     "execution_count": 18,
     "metadata": {},
     "output_type": "execute_result"
    },
    {
     "data": {
      "image/png": "[encoded data removed]",
      "text/latex": [
       "$\\displaystyle \\frac{\\sqrt{2} e^{- \\frac{z^{2}}{2}}}{2 \\sqrt{\\pi}}$"
      ],
      "text/plain": [
       "      2 \n",
       "    -z  \n",
       "    ────\n",
       "     2  \n",
       "√2⋅ℯ    \n",
       "────────\n",
       "  2⋅√π  "
      ]
     },
     "execution_count": 18,
     "metadata": {},
     "output_type": "execute_result"
    },
    {
     "data": {
      "image/png": "[encoded data removed]",
      "text/latex": [
       "$\\displaystyle \\frac{\\sqrt{2}}{\\sqrt{\\pi}}$"
      ],
      "text/plain": [
       "√2\n",
       "──\n",
       "√π"
      ]
     },
     "execution_count": 18,
     "metadata": {},
     "output_type": "execute_result"
    },
    {
     "data": {
      "image/png": "[encoded data removed]",
      "text/latex": [
       "$\\displaystyle 1.0$"
      ],
      "text/plain": [
       "1.0"
      ]
     },
     "execution_count": 18,
     "metadata": {},
     "output_type": "execute_result"
    },
    {
     "data": {
      "image/png": "[encoded data removed]",
      "text/latex": [
       "$\\displaystyle 1.0 - \\frac{2}{\\pi}$"
      ],
      "text/plain": [
       "      2\n",
       "1.0 - ─\n",
       "      π"
      ]
     },
     "execution_count": 18,
     "metadata": {},
     "output_type": "execute_result"
    },
    {
     "data": {
      "image/png": "[encoded data removed]",
      "text/latex": [
       "$\\displaystyle 1 - \\frac{2}{\\pi}$"
      ],
      "text/plain": [
       "    2\n",
       "1 - ─\n",
       "    π"
      ]
     },
     "execution_count": 18,
     "metadata": {},
     "output_type": "execute_result"
    }
   ],
   "source": [
    "# Z=X-Y\n",
    "mu_1 = 0\n",
    "sigma_1 = 0.5\n",
    "mu_2 = 0\n",
    "sigma_2 = 0.5\n",
    "\n",
    "e_z = mu_1 - mu_2\n",
    "d_z = 1**2*sigma_1 + 1**2*sigma_2\n",
    "e_z\n",
    "d_z # Z服从均值为0方差为1的正态分布\n",
    "\n",
    "mu,sigma = symbols('mu sigma')\n",
    "f_z = (1/(sigma*sqrt(2*pi)))*exp(-(z-mu)**2/(2*sigma**2))\n",
    "f_z = f_z.subs({mu:0,sigma:1})\n",
    "f_z\n",
    "# |Z|=|X-Y|\n",
    "# Integral(Abs(z)*fz, (z,-oo,oo)).doit()\n",
    "e_z_abs=2*Integral(z*f_z, (z,0,oo)).doit() # 偶函数，去绝对值\n",
    "e_z_abs\n",
    "\n",
    "# 法一: 知道Z的方差和期望,先求Z**2的期望,再根据公式求|Z|的方差\n",
    "# E(|Z|**2) = D(Z)+(E(Z))**2\n",
    "e_z_abs2 = d_z + e_z**2\n",
    "\n",
    "e_z_abs2\n",
    "# Integral(z**2*f_z, (z,-oo,oo)).doit()-e_z_abs**2\n",
    "# D(|Z|) = E(|Z|**2) - E(|Z|)**2\n",
    "d_z_abs = e_z_abs2 - e_z_abs**2\n",
    "d_z_abs # 结果\n",
    "\n",
    "# 法二:直接根据公式计算\n",
    "Integral(z**2*f_z, (z,-oo,oo)).doit()-e_z_abs**2 # 结果"
   ]
  },
  {
   "cell_type": "markdown",
   "metadata": {},
   "source": [
    "#### 考研题2001年数学4第12题  \n",
    "$设两个随机变量X和Y的联合分布在(0,1),(1,0),(1,1)为顶点的三角形区域上服从均匀分布，试求随机变量Z=X+Y的方差$  \n",
    "$提示：由于G关于y=x对称\\\\\n",
    "\\iint_G ydxdy=\\iint_G xdxdy \\\\\n",
    "\\iint_G y^2 dxdy=\\iint_G x^2 dxdy$"
   ]
  },
  {
   "cell_type": "code",
   "execution_count": 24,
   "metadata": {},
   "outputs": [
    {
     "data": {
      "image/png": "[encoded data removed]",
      "text/plain": [
       "<Figure size 432x288 with 1 Axes>"
      ]
     },
     "metadata": {
      "needs_background": "light"
     },
     "output_type": "display_data"
    },
    {
     "data": {
      "text/plain": [
       "<sympy.plotting.plot.Plot at 0x2a0021a49c8>"
      ]
     },
     "execution_count": 24,
     "metadata": {},
     "output_type": "execute_result"
    }
   ],
   "source": [
    "# G区域绘图\n",
    "plot(1,1-x,-1000*(x-1),xlim=(0,1.01),ylim=(0,1.01))"
   ]
  },
  {
   "cell_type": "code",
   "execution_count": 25,
   "metadata": {},
   "outputs": [
    {
     "data": {
      "text/latex": [
       "$\\displaystyle \\begin{cases} 2 & \\text{for}\\: x > 0 \\wedge y > 0 \\wedge y > 1 - x \\wedge x < 1 \\wedge y < 1 \\\\0 & \\text{otherwise} \\end{cases}$"
      ],
      "text/plain": [
       "⎧2  for x > 0 ∧ y > 0 ∧ y > 1 - x ∧ x < 1 ∧ y < 1\n",
       "⎨                                                \n",
       "⎩0                    otherwise                  "
      ]
     },
     "execution_count": 25,
     "metadata": {},
     "output_type": "execute_result"
    }
   ],
   "source": [
    "# 概率密度,区域为G\n",
    "f_xy = Piecewise((2,(x>0)&(x<1)&(y>0)&(y<1)&(y>1-x)),(0,True))\n",
    "f_xy"
   ]
  },
  {
   "cell_type": "code",
   "execution_count": 33,
   "metadata": {},
   "outputs": [
    {
     "data": {
      "image/png": "[encoded data removed]",
      "text/latex": [
       "$\\displaystyle \\frac{11}{6}$"
      ],
      "text/plain": [
       "11/6"
      ]
     },
     "execution_count": 33,
     "metadata": {},
     "output_type": "execute_result"
    },
    {
     "data": {
      "image/png": "[encoded data removed]",
      "text/latex": [
       "$\\displaystyle \\frac{4}{3}$"
      ],
      "text/plain": [
       "4/3"
      ]
     },
     "execution_count": 33,
     "metadata": {},
     "output_type": "execute_result"
    },
    {
     "data": {
      "image/png": "[encoded data removed]",
      "text/latex": [
       "$\\displaystyle \\frac{1}{18}$"
      ],
      "text/plain": [
       "1/18"
      ]
     },
     "execution_count": 33,
     "metadata": {},
     "output_type": "execute_result"
    }
   ],
   "source": [
    "# 不知道是否独立,所以直接计算Z=X+Y的方差\n",
    "# E(Z)**2\n",
    "e_z2 = Integral((x+y)**2*f_xy,(y,1-x,1),(x,0,1)).doit()\n",
    "e_z2\n",
    "\n",
    "# E(Z)\n",
    "e_z = Integral((x+y)*f_xy,(y,1-x,1),(x,0,1)).doit()\n",
    "# e_z = 2*Integral((x)*f_xy,(y,1-x,1),(x,0,1)).doit() # 由于G关于y=x对称，也可以这样算\n",
    "e_z\n",
    "# D(Z)\n",
    "d_z = e_z2 - e_z**2\n",
    "\n",
    "d_z # 结果"
   ]
  },
  {
   "cell_type": "code",
   "execution_count": null,
   "metadata": {},
   "outputs": [],
   "source": []
  },
  {
   "cell_type": "code",
   "execution_count": null,
   "metadata": {},
   "outputs": [],
   "source": []
  },
  {
   "cell_type": "code",
   "execution_count": null,
   "metadata": {},
   "outputs": [],
   "source": []
  },
  {
   "cell_type": "markdown",
   "metadata": {},
   "source": [
    "# 协方差及相关系数\n"
   ]
  },
  {
   "cell_type": "markdown",
   "metadata": {
    "pycharm": {
     "name": "#%%\n"
    }
   },
   "source": [
    "## 协方差的定义"
   ]
  },
  {
   "cell_type": "markdown",
   "metadata": {},
   "source": [
    "## 协方差的计算公式"
   ]
  },
  {
   "cell_type": "markdown",
   "metadata": {},
   "source": [
    "### 例1  \n",
    "$\n",
    "设随机变量X,Y具有概率密度\\\\\n",
    "\\begin{cases} \\frac{x+y}{8} & 0 \\le x \\le2, 0 \\le y \\le 2 \\\\0 & \\text{otherwise} \\end{cases}\\\\\n",
    "求E(X),E(Y),Cov(X,Y),\\rho_{XY},D(X+Y)\n",
    "$"
   ]
  },
  {
   "cell_type": "code",
   "execution_count": 35,
   "metadata": {},
   "outputs": [
    {
     "data": {
      "text/latex": [
       "$\\displaystyle \\begin{cases} \\frac{x}{8} + \\frac{y}{8} & \\text{for}\\: x \\geq 0 \\wedge y \\geq 0 \\wedge x \\leq 2 \\wedge y \\leq 2 \\\\0 & \\text{otherwise} \\end{cases}$"
      ],
      "text/plain": [
       "⎧x   y                                   \n",
       "⎪─ + ─  for x ≥ 0 ∧ y ≥ 0 ∧ x ≤ 2 ∧ y ≤ 2\n",
       "⎨8   8                                   \n",
       "⎪                                        \n",
       "⎩  0                otherwise            "
      ]
     },
     "execution_count": 35,
     "metadata": {},
     "output_type": "execute_result"
    },
    {
     "name": "stdout",
     "output_type": "stream",
     "text": [
      "\\begin{cases} \\frac{x}{8} + \\frac{y}{8} & \\text{for}\\: x \\geq 0 \\wedge y \\geq 0 \\wedge x \\leq 2 \\wedge y \\leq 2 \\\\0 & \\text{otherwise} \\end{cases}\n"
     ]
    }
   ],
   "source": [
    "f_xy = Piecewise(((x+y)/8,(x>=0)&(x<=2)&(y>=0)&(y<=2)),(0,True))\n",
    "f_xy\n",
    "print_latex(f_xy)"
   ]
  },
  {
   "cell_type": "code",
   "execution_count": 44,
   "metadata": {},
   "outputs": [
    {
     "data": {
      "image/png": "[encoded data removed]",
      "text/latex": [
       "$\\displaystyle \\frac{7}{6}$"
      ],
      "text/plain": [
       "7/6"
      ]
     },
     "execution_count": 44,
     "metadata": {},
     "output_type": "execute_result"
    },
    {
     "data": {
      "image/png": "[encoded data removed]",
      "text/latex": [
       "$\\displaystyle - \\frac{1}{36}$"
      ],
      "text/plain": [
       "-1/36"
      ]
     },
     "execution_count": 44,
     "metadata": {},
     "output_type": "execute_result"
    },
    {
     "data": {
      "image/png": "[encoded data removed]",
      "text/latex": [
       "$\\displaystyle - \\frac{1}{11}$"
      ],
      "text/plain": [
       "-1/11"
      ]
     },
     "execution_count": 44,
     "metadata": {},
     "output_type": "execute_result"
    },
    {
     "data": {
      "image/png": "[encoded data removed]",
      "text/latex": [
       "$\\displaystyle \\frac{2}{3}$"
      ],
      "text/plain": [
       "2/3"
      ]
     },
     "execution_count": 44,
     "metadata": {},
     "output_type": "execute_result"
    }
   ],
   "source": [
    "# E(X),E(Y)\n",
    "e_x = Integral(x*f_xy, (y,0,2), (x,0,2)).doit()\n",
    "e_x # 结果\n",
    "# e_y = Integral(y*f_xy, (x,0,2), (y,0,2)).doit()\n",
    "e_y = e_x # 利用对称性\n",
    "# e_y\n",
    "\n",
    "# Cov(X,Y)\n",
    "# 定义法\n",
    "# cov_xy = Integral((x-e_x)*(y-e_y)*f_xy, (y,0,2), (x,0,2)).doit()\n",
    "# 公式法\n",
    "cov_xy = Integral(x*y*f_xy, (y,0,2), (x,0,2)).doit() - e_x*e_y\n",
    "cov_xy # 结果\n",
    "\n",
    "# rho(X,Y)\n",
    "d_x = Integral(x**2*f_xy, (y,0,2), (x,0,2)).doit() - e_x**2\n",
    "d_y=d_x\n",
    "# d_x \n",
    "rho_xy = cov_xy/(sqrt(d_x)*sqrt(d_y))\n",
    "rho_xy # 结果\n",
    "\n",
    "# D(X+Y)\n",
    "d_xpy = d_x + d_y - 2*cov_xy\n",
    "d_xpy"
   ]
  },
  {
   "cell_type": "markdown",
   "metadata": {},
   "source": [
    "## 协方差的性质"
   ]
  },
  {
   "cell_type": "markdown",
   "metadata": {},
   "source": [
    "### 例2  \n",
    "$设二维随机变量(X,Y)的概率密度 \\\\\n",
    "f(x,y)=\\begin{cases} \\frac{1}{\\pi}, & \\ x^{2} + y^{2} \\leq 1 \\\\0, & \\text{otherwise} \\end{cases} \\\\\n",
    "试讨论X与Y的相关性和独立性\n",
    "$"
   ]
  },
  {
   "cell_type": "code",
   "execution_count": 7,
   "metadata": {},
   "outputs": [
    {
     "data": {
      "text/latex": [
       "$\\displaystyle \\begin{cases} \\frac{1}{\\pi} & \\text{for}\\: x^{2} + y^{2} \\leq 1 \\\\0 & \\text{otherwise} \\end{cases}$"
      ],
      "text/plain": [
       "⎧1       2    2    \n",
       "⎪─  for x  + y  ≤ 1\n",
       "⎨π                 \n",
       "⎪                  \n",
       "⎩0     otherwise   "
      ]
     },
     "execution_count": 7,
     "metadata": {},
     "output_type": "execute_result"
    },
    {
     "name": "stdout",
     "output_type": "stream",
     "text": [
      "\\begin{cases} \\frac{1}{\\pi} & \\text{for}\\: x^{2} + y^{2} \\leq 1 \\\\0 & \\text{otherwise} \\end{cases}\n"
     ]
    }
   ],
   "source": [
    "f_xy = Piecewise((1/pi,x**2+y**2<=1),(0,True))\n",
    "f_xy\n",
    "# f_xy.subs({x:0,y:1})\n",
    "print_latex(f_xy)"
   ]
  },
  {
   "cell_type": "code",
   "execution_count": 33,
   "metadata": {},
   "outputs": [
    {
     "data": {
      "image/png": "[encoded data removed]",
      "text/latex": [
       "$\\displaystyle \\frac{2 \\sqrt{1 - x^{2}}}{\\pi}$"
      ],
      "text/plain": [
       "     ________\n",
       "    ╱      2 \n",
       "2⋅╲╱  1 - x  \n",
       "─────────────\n",
       "      π      "
      ]
     },
     "execution_count": 33,
     "metadata": {},
     "output_type": "execute_result"
    },
    {
     "data": {
      "image/png": "[encoded data removed]",
      "text/latex": [
       "$\\displaystyle \\frac{2 \\sqrt{1 - y^{2}}}{\\pi}$"
      ],
      "text/plain": [
       "     ________\n",
       "    ╱      2 \n",
       "2⋅╲╱  1 - y  \n",
       "─────────────\n",
       "      π      "
      ]
     },
     "execution_count": 33,
     "metadata": {},
     "output_type": "execute_result"
    },
    {
     "data": {
      "image/png": "[encoded data removed]",
      "text/latex": [
       "$\\displaystyle \\frac{4 \\sqrt{1 - x^{2}} \\sqrt{1 - y^{2}}}{\\pi^{2}}$"
      ],
      "text/plain": [
       "     ________    ________\n",
       "    ╱      2    ╱      2 \n",
       "4⋅╲╱  1 - x  ⋅╲╱  1 - y  \n",
       "─────────────────────────\n",
       "             2           \n",
       "            π            "
      ]
     },
     "execution_count": 33,
     "metadata": {},
     "output_type": "execute_result"
    }
   ],
   "source": [
    "# 独立性\n",
    "# r,theta = symbols('r,theta',positive=True)\n",
    "f_x = (Integral(f_xy,(y,sqrt(1-x**2)))-Integral(f_xy,(y,-sqrt(1-x**2)))).doit()# 牛顿-莱布尼茨公式\n",
    "f_x\n",
    "f_y = f_x.subs(x,y)\n",
    "f_y\n",
    "(f_x*f_y).simplify()"
   ]
  },
  {
   "cell_type": "code",
   "execution_count": 22,
   "metadata": {},
   "outputs": [
    {
     "data": {
      "text/latex": [
       "$\\displaystyle \\int\\limits_{-\\infty}^{\\infty} \\begin{cases} \\infty & \\text{for}\\: x^{2} + y^{2} \\leq 1 \\\\0 & \\text{otherwise} \\end{cases}\\, dx$"
      ],
      "text/plain": [
       "∞                        \n",
       "⌠                        \n",
       "⎮  ⎧        2    2       \n",
       "⎮  ⎪∞  for x  + y  ≤ 1   \n",
       "⎮  ⎨                   dx\n",
       "⎮  ⎪0     otherwise      \n",
       "⎮  ⎩                     \n",
       "⌡                        \n",
       "-∞                       "
      ]
     },
     "execution_count": 22,
     "metadata": {},
     "output_type": "execute_result"
    }
   ],
   "source": [
    "# 相关性\n",
    "e_x = Integral(f_xy, (y,-oo,oo),(x,-oo,oo)).doit()\n",
    "e_x"
   ]
  },
  {
   "cell_type": "code",
   "execution_count": null,
   "metadata": {},
   "outputs": [],
   "source": []
  },
  {
   "cell_type": "code",
   "execution_count": null,
   "metadata": {},
   "outputs": [],
   "source": []
  },
  {
   "cell_type": "markdown",
   "metadata": {},
   "source": [
    "# 矩、协方差矩阵"
   ]
  },
  {
   "cell_type": "code",
   "execution_count": null,
   "metadata": {
    "pycharm": {
     "name": "#%%\n"
    }
   },
   "outputs": [],
   "source": []
  },
  {
   "cell_type": "code",
   "execution_count": 38,
   "metadata": {
    "pycharm": {
     "name": "#%%\n"
    }
   },
   "outputs": [
    {
     "data": {
      "image/png": "[encoded data removed]",
      "text/latex": [
       "$\\displaystyle \\frac{\\pi}{2}$"
      ],
      "text/plain": [
       "π\n",
       "─\n",
       "2"
      ]
     },
     "execution_count": 38,
     "metadata": {},
     "output_type": "execute_result"
    }
   ],
   "source": [
    "Integral(sin(x)/x,(x,0,oo)).doit()"
   ]
  }
 ],
 "metadata": {
  "kernelspec": {
   "display_name": "Python 3",
   "language": "python",
   "name": "python3"
  },
  "language_info": {
   "codemirror_mode": {
    "name": "ipython",
    "version": 3
   },
   "file_extension": ".py",
   "mimetype": "text/x-python",
   "name": "python",
   "nbconvert_exporter": "python",
   "pygments_lexer": "ipython3",
   "version": "3.7.6"
  },
  "pycharm": {
   "stem_cell": {
    "cell_type": "raw",
    "metadata": {
     "collapsed": false
    },
    "source": []
   }
  },
  "toc": {
   "base_numbering": 1,
   "nav_menu": {},
   "number_sections": true,
   "sideBar": true,
   "skip_h1_title": false,
   "title_cell": "Table of Contents",
   "title_sidebar": "Contents",
   "toc_cell": false,
   "toc_position": {
    "height": "calc(100% - 180px)",
    "left": "10px",
    "top": "150px",
    "width": "219.573px"
   },
   "toc_section_display": true,
   "toc_window_display": true
  }
 },
 "nbformat": 4,
 "nbformat_minor": 2
}
