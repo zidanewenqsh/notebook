{
 "cells": [
  {
   "cell_type": "markdown",
   "metadata": {},
   "source": [
    "## 第二章 随机变量有其分布练习"
   ]
  },
  {
   "cell_type": "code",
   "execution_count": 1,
   "metadata": {
    "pycharm": {
     "name": "#%%\n"
    }
   },
   "outputs": [],
   "source": [
    "from IPython.core.interactiveshell import InteractiveShell \n",
    "InteractiveShell.ast_node_interactivity = 'all' #默认为'last'\n",
    "\n",
    "import numpy as np\n",
    "import pandas as pd\n",
    "import os\n",
    "import sympy \n",
    "from sympy import *\n",
    "# from sympy.abc import *\n",
    "# from sympy import gamma\n",
    "from matplotlib import pyplot as plt\n",
    "%matplotlib inline\n",
    "plt.rcParams['font.sans-serif']=['SimHei'] #指定默认字体 SimHei为黑体\n",
    "plt.rcParams['axes.unicode_minus']=False #用来正常显示负号\n",
    "sympy.init_printing(use_latex=True)\n",
    "x, y, z = symbols('x y z',real=True)"
   ]
  },
  {
   "cell_type": "markdown",
   "metadata": {},
   "source": [
    "## 正态分布代码  \n",
    "```\n",
    "mu,sigma = symbols('mu sigma')\n",
    "fx = (1/(sigma*sqrt(2*pi)))*exp(-(x-mu)**2/(2*sigma**2))\n",
    "```"
   ]
  },
  {
   "cell_type": "markdown",
   "metadata": {},
   "source": [
    "随机变量及其分布"
   ]
  },
  {
   "cell_type": "markdown",
   "metadata": {},
   "source": [
    "# 随机变量"
   ]
  },
  {
   "cell_type": "markdown",
   "metadata": {},
   "source": [
    "# 离散型随机变量及其分布律"
   ]
  },
  {
   "cell_type": "markdown",
   "metadata": {},
   "source": [
    "## 0-1分布  \n",
    "$\\begin{array}{c|cc} \n",
    "X & 0 & 1 \\\\\n",
    "\\hline\n",
    "p_k & 1-p & p \\\\\n",
    "\\end{array}$"
   ]
  },
  {
   "cell_type": "markdown",
   "metadata": {},
   "source": [
    "## 二项分布 (伯努利分布)  \n",
    "$X\\sim b(n,p) \\\\ \n",
    "P\\{X=k\\}=C_n^kp^k(1-p)^{n-k} \\ (k=0,1,...,n)$"
   ]
  },
  {
   "cell_type": "markdown",
   "metadata": {},
   "source": [
    "## 泊松分布  \n",
    "$X\\sim \\pi(\\lambda) \\\\ \n",
    "P(x=k)=\\frac{\\lambda^k}{k!}e^{-\\lambda} \\ (k=0,1,2,...)$  \n",
    "```\n",
    "lamda = symbols('lamda')\n",
    "px = exp(-lamda)*lamda**k/factorial(k)\n",
    "```"
   ]
  },
  {
   "cell_type": "markdown",
   "metadata": {},
   "source": [
    "## 几何分布\n",
    "$X\\sim G(p) \\\\\n",
    "P(x=k)=p(1-p)^{k-1} \\ (k=1,2,...)$  \n",
    "$"
   ]
  },
  {
   "cell_type": "markdown",
   "metadata": {},
   "source": [
    "## 超几何分布  \n",
    "$X\\sim H(N,M,n)$  \n",
    "$p\\{x=k\\}=\\frac{C_M^k C_{N-M}^{n-k}}{C_N^n}$"
   ]
  },
  {
   "cell_type": "markdown",
   "metadata": {},
   "source": [
    "# 随机变量的分布函数"
   ]
  },
  {
   "cell_type": "markdown",
   "metadata": {},
   "source": [
    "# 连续型随机变量及其概率密度"
   ]
  },
  {
   "cell_type": "markdown",
   "metadata": {},
   "source": [
    "## 均匀分布  \n",
    "$X\\sim U(a,b)$  "
   ]
  },
  {
   "cell_type": "markdown",
   "metadata": {},
   "source": [
    "## 指数分布  \n",
    "$X\\sim E(\\lambda)$  \n",
    "$f(x)=\\begin{cases} \\lambda e^{- \\lambda x} & x > 0 \\\\0 & x\\le 0 \\end{cases}$  \n",
    "`$f(x)=\\begin{cases} \\lambda e^{- \\lambda x} & x > 0 \\\\0 & x\\le 0 \\end{cases}$`"
   ]
  },
  {
   "cell_type": "code",
   "execution_count": 2,
   "metadata": {
    "pycharm": {
     "name": "#%%\n"
    }
   },
   "outputs": [
    {
     "data": {
      "text/latex": [
       "$\\displaystyle \\begin{cases} \\lambda e^{- \\lambda t} & \\text{for}\\: t > 0 \\\\0 & \\text{otherwise} \\end{cases}$"
      ],
      "text/plain": [
       "⎧   -λ⋅t           \n",
       "⎪λ⋅ℯ      for t > 0\n",
       "⎨                  \n",
       "⎪   0     otherwise\n",
       "⎩                  "
      ]
     },
     "execution_count": 2,
     "metadata": {},
     "output_type": "execute_result"
    },
    {
     "name": "stdout",
     "output_type": "stream",
     "text": [
      "\\begin{cases} \\lambda e^{- \\lambda t} & \\text{for}\\: t > 0 \\\\0 & \\text{otherwise} \\end{cases}\n"
     ]
    }
   ],
   "source": [
    "t1 = symbols('t')\n",
    "t = symbols('t', positive=True)\n",
    "lamda = symbols('lamda', real=True)\n",
    "ft = lamda * exp(-lamda * t)\n",
    "ft_ = Piecewise((lamda * exp(-lamda * t1),t1>0),(0, True))\n",
    "ft_\n",
    "print_latex(ft_)"
   ]
  },
  {
   "cell_type": "markdown",
   "metadata": {},
   "source": [
    "## 正态分布  \n",
    "$X\\sim N(\\mu, \\sigma^2) \\\\ \n",
    "f(x)=\\frac{1}{\\sqrt{2\\pi}\\sigma}e^{- \\frac{\\left(x - \\mu \\right)^{2}}{2 \\sigma^{2}}}$  \n",
    "```\n",
    "mu,sigma = symbols('mu sigma')\n",
    "fx = (1/(sigma*sqrt(2*pi)))*exp(-(x-mu)**2/(2*sigma**2))\n",
    "```"
   ]
  },
  {
   "cell_type": "code",
   "execution_count": 3,
   "metadata": {
    "pycharm": {
     "name": "#%%\n"
    }
   },
   "outputs": [
    {
     "name": "stdout",
     "output_type": "stream",
     "text": [
      "\\frac{\\sqrt{2} e^{- \\frac{\\left(- \\mu + x\\right)^{2}}{2 \\sigma^{2}}}}{2 \\sqrt{\\pi} \\sigma}\n"
     ]
    }
   ],
   "source": [
    "mu,sigma = symbols('mu sigma')\n",
    "fx = (1/(sigma*sqrt(2*pi)))*exp(-(x-mu)**2/(2*sigma**2))\n",
    "print_latex(fx)"
   ]
  },
  {
   "cell_type": "markdown",
   "metadata": {},
   "source": [
    "# 随机变量的函数的分布  \n",
    "$$f_Y(y)=f_X(g^{-1}(y))|(g^{-1})\\prime(y))|$$"
   ]
  },
  {
   "cell_type": "markdown",
   "metadata": {},
   "source": [
    "### 例1  \n",
    "$离散型随机变量X具有以下分布律 \\\\\n",
    "$\\begin{array}{c|cccc} \n",
    "X & -1 & 0 & 1 & 2\\\\\n",
    "\\hline\n",
    "p & 0.2 & 0.3 & 0.1 & 0.4 \\\\\n",
    "\\end{array}$\n",
    "试求Y=3X+2和Z=(X-1)^2的分布律\n",
    "$"
   ]
  },
  {
   "cell_type": "code",
   "execution_count": 4,
   "metadata": {
    "pycharm": {
     "name": "#%%\n"
    }
   },
   "outputs": [
    {
     "data": {
      "text/plain": [
       "array([-1,  2,  5,  8])"
      ]
     },
     "execution_count": 4,
     "metadata": {},
     "output_type": "execute_result"
    },
    {
     "data": {
      "text/plain": [
       "array([4, 1, 0, 1], dtype=int32)"
      ]
     },
     "execution_count": 4,
     "metadata": {},
     "output_type": "execute_result"
    }
   ],
   "source": [
    "X=np.array([-1,0,1,2])\n",
    "p=np.array([0.2,0.3,0.1,0.4])\n",
    "Y=3*X+2\n",
    "Z=(X-1)**2\n",
    "Y\n",
    "Z"
   ]
  },
  {
   "cell_type": "code",
   "execution_count": 5,
   "metadata": {
    "pycharm": {
     "name": "#%%\n"
    }
   },
   "outputs": [
    {
     "data": {
      "text/html": [
       "<div>\n",
       "<style scoped>\n",
       "    .dataframe tbody tr th:only-of-type {\n",
       "        vertical-align: middle;\n",
       "    }\n",
       "\n",
       "    .dataframe tbody tr th {\n",
       "        vertical-align: top;\n",
       "    }\n",
       "\n",
       "    .dataframe thead th {\n",
       "        text-align: right;\n",
       "    }\n",
       "</style>\n",
       "<table border=\"1\" class=\"dataframe\">\n",
       "  <thead>\n",
       "    <tr style=\"text-align: right;\">\n",
       "      <th></th>\n",
       "      <th>Z</th>\n",
       "      <th>p</th>\n",
       "    </tr>\n",
       "  </thead>\n",
       "  <tbody>\n",
       "    <tr>\n",
       "      <td>0</td>\n",
       "      <td>4.0</td>\n",
       "      <td>0.2</td>\n",
       "    </tr>\n",
       "    <tr>\n",
       "      <td>1</td>\n",
       "      <td>1.0</td>\n",
       "      <td>0.3</td>\n",
       "    </tr>\n",
       "    <tr>\n",
       "      <td>2</td>\n",
       "      <td>0.0</td>\n",
       "      <td>0.1</td>\n",
       "    </tr>\n",
       "    <tr>\n",
       "      <td>3</td>\n",
       "      <td>1.0</td>\n",
       "      <td>0.4</td>\n",
       "    </tr>\n",
       "  </tbody>\n",
       "</table>\n",
       "</div>"
      ],
      "text/plain": [
       "     Z    p\n",
       "0  4.0  0.2\n",
       "1  1.0  0.3\n",
       "2  0.0  0.1\n",
       "3  1.0  0.4"
      ]
     },
     "execution_count": 5,
     "metadata": {},
     "output_type": "execute_result"
    },
    {
     "data": {
      "text/html": [
       "<div>\n",
       "<style scoped>\n",
       "    .dataframe tbody tr th:only-of-type {\n",
       "        vertical-align: middle;\n",
       "    }\n",
       "\n",
       "    .dataframe tbody tr th {\n",
       "        vertical-align: top;\n",
       "    }\n",
       "\n",
       "    .dataframe thead th {\n",
       "        text-align: right;\n",
       "    }\n",
       "</style>\n",
       "<table border=\"1\" class=\"dataframe\">\n",
       "  <thead>\n",
       "    <tr style=\"text-align: right;\">\n",
       "      <th></th>\n",
       "      <th>p</th>\n",
       "    </tr>\n",
       "    <tr>\n",
       "      <th>Z</th>\n",
       "      <th></th>\n",
       "    </tr>\n",
       "  </thead>\n",
       "  <tbody>\n",
       "    <tr>\n",
       "      <td>0.0</td>\n",
       "      <td>0.1</td>\n",
       "    </tr>\n",
       "    <tr>\n",
       "      <td>1.0</td>\n",
       "      <td>0.7</td>\n",
       "    </tr>\n",
       "    <tr>\n",
       "      <td>4.0</td>\n",
       "      <td>0.2</td>\n",
       "    </tr>\n",
       "  </tbody>\n",
       "</table>\n",
       "</div>"
      ],
      "text/plain": [
       "       p\n",
       "Z       \n",
       "0.0  0.1\n",
       "1.0  0.7\n",
       "4.0  0.2"
      ]
     },
     "execution_count": 5,
     "metadata": {},
     "output_type": "execute_result"
    }
   ],
   "source": [
    "df1 = pd.DataFrame(data=np.stack((Z,p),axis=1),columns=['Z','p'])\n",
    "df1\n",
    "dfg1 = df1.groupby(\"Z\")\n",
    "dfg1.sum()\n"
   ]
  },
  {
   "cell_type": "code",
   "execution_count": 6,
   "metadata": {
    "pycharm": {
     "name": "#%%\n"
    }
   },
   "outputs": [
    {
     "data": {
      "text/html": [
       "<div>\n",
       "<style scoped>\n",
       "    .dataframe tbody tr th:only-of-type {\n",
       "        vertical-align: middle;\n",
       "    }\n",
       "\n",
       "    .dataframe tbody tr th {\n",
       "        vertical-align: top;\n",
       "    }\n",
       "\n",
       "    .dataframe thead th {\n",
       "        text-align: right;\n",
       "    }\n",
       "</style>\n",
       "<table border=\"1\" class=\"dataframe\">\n",
       "  <thead>\n",
       "    <tr style=\"text-align: right;\">\n",
       "      <th></th>\n",
       "      <th>p</th>\n",
       "    </tr>\n",
       "    <tr>\n",
       "      <th>X</th>\n",
       "      <th></th>\n",
       "    </tr>\n",
       "  </thead>\n",
       "  <tbody>\n",
       "    <tr>\n",
       "      <td>-1.0</td>\n",
       "      <td>0.2</td>\n",
       "    </tr>\n",
       "    <tr>\n",
       "      <td>0.0</td>\n",
       "      <td>0.3</td>\n",
       "    </tr>\n",
       "    <tr>\n",
       "      <td>1.0</td>\n",
       "      <td>0.1</td>\n",
       "    </tr>\n",
       "    <tr>\n",
       "      <td>2.0</td>\n",
       "      <td>0.4</td>\n",
       "    </tr>\n",
       "  </tbody>\n",
       "</table>\n",
       "</div>"
      ],
      "text/plain": [
       "        p\n",
       "X        \n",
       "-1.0  0.2\n",
       " 0.0  0.3\n",
       " 1.0  0.1\n",
       " 2.0  0.4"
      ]
     },
     "execution_count": 6,
     "metadata": {},
     "output_type": "execute_result"
    },
    {
     "data": {
      "text/html": [
       "<div>\n",
       "<style scoped>\n",
       "    .dataframe tbody tr th:only-of-type {\n",
       "        vertical-align: middle;\n",
       "    }\n",
       "\n",
       "    .dataframe tbody tr th {\n",
       "        vertical-align: top;\n",
       "    }\n",
       "\n",
       "    .dataframe thead th {\n",
       "        text-align: right;\n",
       "    }\n",
       "</style>\n",
       "<table border=\"1\" class=\"dataframe\">\n",
       "  <thead>\n",
       "    <tr style=\"text-align: right;\">\n",
       "      <th></th>\n",
       "      <th>p</th>\n",
       "    </tr>\n",
       "    <tr>\n",
       "      <th>X</th>\n",
       "      <th></th>\n",
       "    </tr>\n",
       "  </thead>\n",
       "  <tbody>\n",
       "    <tr>\n",
       "      <td>-1.0</td>\n",
       "      <td>0.2</td>\n",
       "    </tr>\n",
       "    <tr>\n",
       "      <td>2.0</td>\n",
       "      <td>0.3</td>\n",
       "    </tr>\n",
       "    <tr>\n",
       "      <td>5.0</td>\n",
       "      <td>0.1</td>\n",
       "    </tr>\n",
       "    <tr>\n",
       "      <td>8.0</td>\n",
       "      <td>0.4</td>\n",
       "    </tr>\n",
       "  </tbody>\n",
       "</table>\n",
       "</div>"
      ],
      "text/plain": [
       "        p\n",
       "X        \n",
       "-1.0  0.2\n",
       " 2.0  0.3\n",
       " 5.0  0.1\n",
       " 8.0  0.4"
      ]
     },
     "execution_count": 6,
     "metadata": {},
     "output_type": "execute_result"
    },
    {
     "data": {
      "text/html": [
       "<div>\n",
       "<style scoped>\n",
       "    .dataframe tbody tr th:only-of-type {\n",
       "        vertical-align: middle;\n",
       "    }\n",
       "\n",
       "    .dataframe tbody tr th {\n",
       "        vertical-align: top;\n",
       "    }\n",
       "\n",
       "    .dataframe thead th {\n",
       "        text-align: right;\n",
       "    }\n",
       "</style>\n",
       "<table border=\"1\" class=\"dataframe\">\n",
       "  <thead>\n",
       "    <tr style=\"text-align: right;\">\n",
       "      <th></th>\n",
       "      <th>p</th>\n",
       "    </tr>\n",
       "    <tr>\n",
       "      <th>X</th>\n",
       "      <th></th>\n",
       "    </tr>\n",
       "  </thead>\n",
       "  <tbody>\n",
       "    <tr>\n",
       "      <td>0.0</td>\n",
       "      <td>0.1</td>\n",
       "    </tr>\n",
       "    <tr>\n",
       "      <td>1.0</td>\n",
       "      <td>0.7</td>\n",
       "    </tr>\n",
       "    <tr>\n",
       "      <td>4.0</td>\n",
       "      <td>0.2</td>\n",
       "    </tr>\n",
       "  </tbody>\n",
       "</table>\n",
       "</div>"
      ],
      "text/plain": [
       "       p\n",
       "X       \n",
       "0.0  0.1\n",
       "1.0  0.7\n",
       "4.0  0.2"
      ]
     },
     "execution_count": 6,
     "metadata": {},
     "output_type": "execute_result"
    }
   ],
   "source": [
    "# Discrete probability distribution\n",
    "# 离散型随机变量函数的分布\n",
    "def DPD(X, p):\n",
    "    '''\n",
    "    离散型随机变量函数的分布\n",
    "    :param X: 离散型随机变量的取值\n",
    "    :param p: 离散型随机变量的概率\n",
    "    :return: 离散型随机变量函数的分布\n",
    "    '''\n",
    "    return pd.DataFrame(data=np.stack((X, p), axis=1),\n",
    "                        columns=['X', 'p']).groupby('X').sum()# 去重\n",
    "DPD(X,p)\n",
    "DPD(Y,p)\n",
    "DPD(Z,p)"
   ]
  },
  {
   "cell_type": "markdown",
   "metadata": {},
   "source": [
    "### 例3  \n",
    "设随机变量X的概率密度函数为  \n",
    "$f_X(x)=\\frac{1}{\\pi(1+x^2)}$  \n",
    "求随机变量$Y=1-\\sqrt[3]{X}$的概率密度"
   ]
  },
  {
   "cell_type": "code",
   "execution_count": 7,
   "metadata": {
    "pycharm": {
     "name": "#%%\n"
    }
   },
   "outputs": [],
   "source": [
    "from sympy import symbols, integrate, pi, oo, diff, solve, Symbol, Abs"
   ]
  },
  {
   "cell_type": "code",
   "execution_count": 8,
   "metadata": {
    "pycharm": {
     "name": "#%%\n"
    }
   },
   "outputs": [
    {
     "data": {
      "image/png": "[encoded data removed]",
      "text/latex": [
       "$\\displaystyle \\frac{3 \\left|{\\left(y - 1.0\\right)^{2}}\\right|}{\\pi \\left(\\left(y - 1.0\\right)^{6} + 1\\right)}$"
      ],
      "text/plain": [
       "    │         2│  \n",
       "  3⋅│(y - 1.0) │  \n",
       "──────────────────\n",
       "  ⎛         6    ⎞\n",
       "π⋅⎝(y - 1.0)  + 1⎠"
      ]
     },
     "execution_count": 8,
     "metadata": {},
     "output_type": "execute_result"
    },
    {
     "data": {
      "image/png": "[encoded data removed]",
      "text/latex": [
       "$\\displaystyle 1$"
      ],
      "text/plain": [
       "1"
      ]
     },
     "execution_count": 8,
     "metadata": {},
     "output_type": "execute_result"
    },
    {
     "data": {
      "image/png": "[encoded data removed]",
      "text/latex": [
       "$\\displaystyle 1$"
      ],
      "text/plain": [
       "1"
      ]
     },
     "execution_count": 8,
     "metadata": {},
     "output_type": "execute_result"
    }
   ],
   "source": [
    "# 连续型随机变量函数的分布\n",
    "\n",
    "x,y = symbols('x y')\n",
    "f = 1- x**(1/3)-y\n",
    "x1 = solve(f,x)[0] # solve得到列表, 值为f的反函数\n",
    "fx=1/(pi*(1+x**2)) # X的概率密度函数\n",
    "# fy = -fx.subs({x:x1})*diff(x1,y)\n",
    "fy = fx.subs({x:x1})*Abs(diff(x1,y)) # 导数的绝对值\n",
    "fy\n",
    "integrate(fx, (x,-oo,oo))\n",
    "integrate(fy, (y,-oo,oo))"
   ]
  },
  {
   "cell_type": "markdown",
   "metadata": {},
   "source": [
    "### 例4 \n",
    "设随机变量 $X\\sim N(\\mu, \\sigma^2)$   \n",
    "试证明随机变量$Y=aX+b$也服从正态分布  \n",
    "$$X \\sim \\mathcal{N}(\\mu, \\sigma^2)$$  "
   ]
  },
  {
   "cell_type": "code",
   "execution_count": 9,
   "metadata": {
    "pycharm": {
     "name": "#%%\n"
    }
   },
   "outputs": [],
   "source": [
    "from sympy import sqrt, exp, simplify"
   ]
  },
  {
   "cell_type": "code",
   "execution_count": 10,
   "metadata": {
    "pycharm": {
     "name": "#%%\n"
    }
   },
   "outputs": [
    {
     "data": {
      "image/png": "[encoded data removed]",
      "text/latex": [
       "$\\displaystyle \\frac{\\sqrt{2} e^{- \\frac{\\left(- \\mu + x\\right)^{2}}{2 \\sigma^{2}}}}{2 \\sqrt{\\pi} \\sigma}$"
      ],
      "text/plain": [
       "             2 \n",
       "    -(-μ + x)  \n",
       "    ───────────\n",
       "           2   \n",
       "        2⋅σ    \n",
       "√2⋅ℯ           \n",
       "───────────────\n",
       "     2⋅√π⋅σ    "
      ]
     },
     "execution_count": 10,
     "metadata": {},
     "output_type": "execute_result"
    },
    {
     "data": {
      "image/png": "[encoded data removed]",
      "text/latex": [
       "$\\displaystyle 1$"
      ],
      "text/plain": [
       "1"
      ]
     },
     "execution_count": 10,
     "metadata": {},
     "output_type": "execute_result"
    },
    {
     "data": {
      "image/png": "[encoded data removed]",
      "text/latex": [
       "$\\displaystyle 4$"
      ],
      "text/plain": [
       "4"
      ]
     },
     "execution_count": 10,
     "metadata": {},
     "output_type": "execute_result"
    },
    {
     "data": {
      "image/png": "[encoded data removed]",
      "text/latex": [
       "$\\displaystyle \\left( 3, \\  2\\right)$"
      ],
      "text/plain": [
       "(3, 2)"
      ]
     },
     "execution_count": 10,
     "metadata": {},
     "output_type": "execute_result"
    }
   ],
   "source": [
    "mu,sigma = symbols('mu sigma')\n",
    "fx = (1/(sigma*sqrt(2*pi)))*exp(-(x-mu)**2/(2*sigma**2))\n",
    "fx\n",
    "mu,sigma = 3, 2\n",
    "fx = (1/(sigma*sqrt(2*pi)))*exp(-(x-mu)**2/(2*sigma**2))\n",
    "integrate(fx, (x, -oo, oo))\n",
    "mu_ = integrate(x*fx, (x, -oo, oo)) # 期望\n",
    "sigma_ = sqrt(integrate(x**2*fx, (x, -oo, oo)) - mu_**2) # 标准差\n",
    "integrate((x-mu_)**2*fx, (x, -oo, oo)) # 方差\n",
    "mu_,sigma_"
   ]
  },
  {
   "cell_type": "code",
   "execution_count": 11,
   "metadata": {
    "pycharm": {
     "name": "#%%\n"
    }
   },
   "outputs": [
    {
     "data": {
      "image/png": "[encoded data removed]",
      "text/latex": [
       "$\\displaystyle \\frac{- b + y}{a}$"
      ],
      "text/plain": [
       "-b + y\n",
       "──────\n",
       "  a   "
      ]
     },
     "execution_count": 11,
     "metadata": {},
     "output_type": "execute_result"
    },
    {
     "data": {
      "image/png": "[encoded data removed]",
      "text/latex": [
       "$\\displaystyle \\frac{\\sqrt{2} e^{- \\frac{\\left(-3 + \\frac{- b + y}{a}\\right)^{2}}{8}} \\left|{\\frac{1}{a}}\\right|}{4 \\sqrt{\\pi}}$"
      ],
      "text/plain": [
       "                  2     \n",
       "     ⎛     -b + y⎞      \n",
       "    -⎜-3 + ──────⎟      \n",
       "     ⎝       a   ⎠      \n",
       "    ────────────────    \n",
       "           8         │1│\n",
       "√2⋅ℯ                ⋅│─│\n",
       "                     │a│\n",
       "────────────────────────\n",
       "          4⋅√π          "
      ]
     },
     "execution_count": 11,
     "metadata": {},
     "output_type": "execute_result"
    },
    {
     "data": {
      "image/png": "[encoded data removed]",
      "text/latex": [
       "$\\displaystyle \\frac{\\sqrt{2} e^{- \\frac{\\left(3 a + b - y\\right)^{2}}{8 a^{2}}} \\left|{\\frac{1}{a}}\\right|}{4 \\sqrt{\\pi}}$"
      ],
      "text/plain": [
       "                  2     \n",
       "    -(3⋅a + b - y)      \n",
       "    ────────────────    \n",
       "             2          \n",
       "          8⋅a        │1│\n",
       "√2⋅ℯ                ⋅│─│\n",
       "                     │a│\n",
       "────────────────────────\n",
       "          4⋅√π          "
      ]
     },
     "execution_count": 11,
     "metadata": {},
     "output_type": "execute_result"
    }
   ],
   "source": [
    "a, b, x, y = symbols('a b x y')\n",
    "f = a*x+b-y\n",
    "x1 = solve(f,x)[0]\n",
    "x1\n",
    "fy = fx.subs({x:x1})*Abs(diff(x1,y)) # 导数的绝对值\n",
    "fy\n",
    "# integrate(fx, (x,-oo,oo))\n",
    "# integrate(fy, (y,-oo,oo))\n",
    "simplify(fy)"
   ]
  },
  {
   "cell_type": "code",
   "execution_count": 12,
   "metadata": {
    "pycharm": {
     "name": "#%%\n"
    }
   },
   "outputs": [
    {
     "data": {
      "image/png": "[encoded data removed]",
      "text/latex": [
       "$\\displaystyle - \\left(y - 1.0\\right)^{3}$"
      ],
      "text/plain": [
       "          3\n",
       "-(y - 1.0) "
      ]
     },
     "execution_count": 12,
     "metadata": {},
     "output_type": "execute_result"
    },
    {
     "data": {
      "text/plain": [
       "sympy.core.symbol.Symbol"
      ]
     },
     "execution_count": 12,
     "metadata": {},
     "output_type": "execute_result"
    },
    {
     "data": {
      "text/plain": [
       "sympy.core.add.Add"
      ]
     },
     "execution_count": 12,
     "metadata": {},
     "output_type": "execute_result"
    }
   ],
   "source": [
    "# 反函数inverse function\n",
    "x,y = symbols('x y')\n",
    "f = 1- x**(1/3)-y\n",
    "def inv_func(func,x):\n",
    "    '''\n",
    "    计算反函数\n",
    "    :param func: 原函数 \n",
    "    :param x: 自变量\n",
    "    :return: \n",
    "    '''\n",
    "    return solve(func,x)[0]\n",
    "inv_func(f,x)\n",
    "type(x)\n",
    "type(f)\n",
    "# 计算函数的分布\n",
    "a, b, x, y = symbols('a b x y')\n",
    "f = a*x+b-y\n",
    "def func_density(fx, func, x, y):\n",
    "    '''\n",
    "    已知原分布概率密度求函数的概率密度\n",
    "    :param fx: 自变量的分布\n",
    "    :param func: 原函数\n",
    "    :param x: 原分布的自变量\n",
    "    :param y: 因变量，新分布的自变量\n",
    "    :return: \n",
    "    '''\n",
    "    x1 = solve(func,x)[0]\n",
    "    fy = fx.subs({x:x1})*Abs(diff(x1,y)) # 导数的绝对值\n",
    "    return fy\n",
    "\n",
    "# def func_dist(Fx, Func, x, y):\n",
    "#     '''\n",
    "#     已知原分布分布函数求函数的分布函数\n",
    "#     :param Fx: 自变量的分布\n",
    "#     :param Func: 原函数\n",
    "#     :param x: 原分布的自变量\n",
    "#     :param y: 因变量，新分布的自变量\n",
    "#     :return: \n",
    "#     '''\n",
    "#     x1 = solve(Func,x)[0]\n",
    "#     fy = Fx.subs({x:x1})*Abs(diff(x1,y)) # 导数的绝对值\n",
    "#     return fy\n",
    "# func_dist(fx,f,x,y)"
   ]
  },
  {
   "cell_type": "markdown",
   "metadata": {},
   "source": [
    "### 例5\n",
    "设随机变量X服从区间\\[-1,9\\]上的均匀分布求随机变量$Y=g(X)$的概率分布\n",
    "$$g(x)=\\begin{cases}-1 & x<1 \\\\ 1 & x=1 \\\\ 2 & 1<x\\le 6 & \\\\ 3 & x>6\\end{cases}$$"
   ]
  },
  {
   "cell_type": "code",
   "execution_count": 13,
   "metadata": {
    "pycharm": {
     "name": "#%%\n"
    }
   },
   "outputs": [
    {
     "data": {
      "text/latex": [
       "$\\displaystyle \\begin{cases} -1 & \\text{for}\\: x < 1 \\\\1 & \\text{for}\\: x = 1 \\\\2 & \\text{for}\\: x \\leq 6 \\wedge x > 1 \\\\3 & \\text{for}\\: x > 6 \\end{cases}$"
      ],
      "text/plain": [
       "⎧-1      for x < 1    \n",
       "⎪                     \n",
       "⎪1       for x = 1    \n",
       "⎨                     \n",
       "⎪2   for x ≤ 6 ∧ x > 1\n",
       "⎪                     \n",
       "⎩3       for x > 6    "
      ]
     },
     "execution_count": 13,
     "metadata": {},
     "output_type": "execute_result"
    }
   ],
   "source": [
    "x,y = symbols('x y')\n",
    "g = Piecewise((-1,x<1),(1,(x>=1)&(x<=1)),(2, (x>1) & (x<=6)),(3, x>6)) \n",
    "g\n",
    "# plot(g)"
   ]
  },
  {
   "cell_type": "code",
   "execution_count": 14,
   "metadata": {
    "pycharm": {
     "name": "#%%\n"
    }
   },
   "outputs": [
    {
     "data": {
      "image/png": "[encoded data removed]",
      "text/plain": [
       "<Figure size 432x288 with 1 Axes>"
      ]
     },
     "metadata": {
      "needs_background": "light"
     },
     "output_type": "display_data"
    },
    {
     "data": {
      "text/plain": [
       "<sympy.plotting.plot.Plot at 0x28fb9486c88>"
      ]
     },
     "execution_count": 14,
     "metadata": {},
     "output_type": "execute_result"
    },
    {
     "data": {
      "image/png": "[encoded data removed]",
      "text/latex": [
       "$\\displaystyle 1.0$"
      ],
      "text/plain": [
       "1.00000000000000"
      ]
     },
     "execution_count": 14,
     "metadata": {},
     "output_type": "execute_result"
    }
   ],
   "source": [
    "fx = Piecewise((0.1,(x>=-1) & (x<9)),(0, True))\n",
    "plot(fx)\n",
    "integrate(fx,(x,-oo,oo))\n"
   ]
  },
  {
   "cell_type": "code",
   "execution_count": 17,
   "metadata": {
    "pycharm": {
     "name": "#%%\n"
    }
   },
   "outputs": [
    {
     "data": {
      "text/latex": [
       "$\\displaystyle \\begin{cases} -1 & \\text{for}\\: x < 1 \\\\1 & \\text{for}\\: x = 1 \\\\2 & \\text{for}\\: x \\leq 6 \\wedge x > 1 \\\\3 & \\text{for}\\: x > 6 \\end{cases}$"
      ],
      "text/plain": [
       "⎧-1      for x < 1    \n",
       "⎪                     \n",
       "⎪1       for x = 1    \n",
       "⎨                     \n",
       "⎪2   for x ≤ 6 ∧ x > 1\n",
       "⎪                     \n",
       "⎩3       for x > 6    "
      ]
     },
     "execution_count": 17,
     "metadata": {},
     "output_type": "execute_result"
    },
    {
     "data": {
      "image/png": "[encoded data removed]",
      "text/latex": [
       "$\\displaystyle 1$"
      ],
      "text/plain": [
       "1"
      ]
     },
     "execution_count": 17,
     "metadata": {},
     "output_type": "execute_result"
    },
    {
     "data": {
      "image/png": "[encoded data removed]",
      "text/latex": [
       "$\\displaystyle 1$"
      ],
      "text/plain": [
       "1"
      ]
     },
     "execution_count": 17,
     "metadata": {},
     "output_type": "execute_result"
    },
    {
     "data": {
      "image/png": "[encoded data removed]",
      "text/latex": [
       "$\\displaystyle \\left[ 1, \\  2, \\  2, \\  2\\right]$"
      ],
      "text/plain": [
       "[1, 2, 2, 2]"
      ]
     },
     "execution_count": 17,
     "metadata": {},
     "output_type": "execute_result"
    },
    {
     "data": {
      "image/png": "[encoded data removed]",
      "text/latex": [
       "$\\displaystyle \\left[ 0.2, \\  0.5, \\  0.3\\right]$"
      ],
      "text/plain": [
       "[0.2, 0.5, 0.3]"
      ]
     },
     "execution_count": 17,
     "metadata": {},
     "output_type": "execute_result"
    },
    {
     "data": {
      "text/html": [
       "<div>\n",
       "<style scoped>\n",
       "    .dataframe tbody tr th:only-of-type {\n",
       "        vertical-align: middle;\n",
       "    }\n",
       "\n",
       "    .dataframe tbody tr th {\n",
       "        vertical-align: top;\n",
       "    }\n",
       "\n",
       "    .dataframe thead th {\n",
       "        text-align: right;\n",
       "    }\n",
       "</style>\n",
       "<table border=\"1\" class=\"dataframe\">\n",
       "  <thead>\n",
       "    <tr style=\"text-align: right;\">\n",
       "      <th></th>\n",
       "      <th>Y</th>\n",
       "      <th>p</th>\n",
       "    </tr>\n",
       "  </thead>\n",
       "  <tbody>\n",
       "    <tr>\n",
       "      <td>0</td>\n",
       "      <td>-1</td>\n",
       "      <td>0.20</td>\n",
       "    </tr>\n",
       "    <tr>\n",
       "      <td>1</td>\n",
       "      <td>2</td>\n",
       "      <td>0.50</td>\n",
       "    </tr>\n",
       "    <tr>\n",
       "      <td>2</td>\n",
       "      <td>3</td>\n",
       "      <td>0.30</td>\n",
       "    </tr>\n",
       "  </tbody>\n",
       "</table>\n",
       "</div>"
      ],
      "text/plain": [
       "    Y     p\n",
       "0  -1  0.20\n",
       "1   2  0.50\n",
       "2   3  0.30"
      ]
     },
     "execution_count": 17,
     "metadata": {},
     "output_type": "execute_result"
    }
   ],
   "source": [
    "g\n",
    "g.subs(x,1)\n",
    "g.subs({x:1})\n",
    "[g.subs(x,i) for i in [1,2,3,4]]\n",
    "ranges = [-oo,1,6,+oo]\n",
    "p_list = []\n",
    "for i in range(len(ranges)-1):\n",
    "    p_list.append(integrate(fx,(x, ranges[i], ranges[i+1])).evalf(2))\n",
    "#     g.subs(x,integrate(fx,(x, ran[i], ran[i+1])))\n",
    "p_list\n",
    "pd.DataFrame(data=np.stack(([-1,2,3],p_list),axis=1),columns=['Y','p'])"
   ]
  },
  {
   "cell_type": "markdown",
   "metadata": {},
   "source": [
    "### 2003年数学三第11题  \n",
    "设随机变量X的概率密度为$$f(x)=\\begin{cases} \\frac{1}{3\\sqrt[3]{x^2}} & x \\in [1,8]\\\\0 & other\\end{cases}$$\n",
    "F(X)是X的分布函数，求随机变量Y=F(X)的分布函数  \n"
   ]
  },
  {
   "cell_type": "code",
   "execution_count": 18,
   "metadata": {
    "pycharm": {
     "name": "#%%\n"
    }
   },
   "outputs": [],
   "source": [
    "from fractions import Fraction"
   ]
  },
  {
   "cell_type": "code",
   "execution_count": 19,
   "metadata": {
    "pycharm": {
     "name": "#%%\n"
    }
   },
   "outputs": [
    {
     "data": {
      "text/latex": [
       "$\\displaystyle \\begin{cases} \\frac{1}{3 x^{\\frac{2}{3}}} & \\text{for}\\: x \\geq 1 \\wedge x \\leq 8 \\\\0 & \\text{otherwise} \\end{cases}$"
      ],
      "text/plain": [
       "⎧  1                      \n",
       "⎪──────  for x ≥ 1 ∧ x ≤ 8\n",
       "⎪   2/3                   \n",
       "⎨3⋅x                      \n",
       "⎪                         \n",
       "⎪  0         otherwise    \n",
       "⎩                         "
      ]
     },
     "execution_count": 19,
     "metadata": {},
     "output_type": "execute_result"
    },
    {
     "data": {
      "image/png": "[encoded data removed]",
      "text/latex": [
       "$\\displaystyle \\frac{\\sqrt[3]{2}}{6}$"
      ],
      "text/plain": [
       "3 ___\n",
       "╲╱ 2 \n",
       "─────\n",
       "  6  "
      ]
     },
     "execution_count": 19,
     "metadata": {},
     "output_type": "execute_result"
    },
    {
     "data": {
      "image/png": "[encoded data removed]",
      "text/latex": [
       "$\\displaystyle 1$"
      ],
      "text/plain": [
       "1"
      ]
     },
     "execution_count": 19,
     "metadata": {},
     "output_type": "execute_result"
    },
    {
     "name": "stderr",
     "output_type": "stream",
     "text": [
      "<string>:1: RuntimeWarning: invalid value encountered in double_scalars\n"
     ]
    },
    {
     "data": {
      "image/png": "[encoded data removed]",
      "text/plain": [
       "<Figure size 432x288 with 1 Axes>"
      ]
     },
     "metadata": {
      "needs_background": "light"
     },
     "output_type": "display_data"
    },
    {
     "data": {
      "text/plain": [
       "<sympy.plotting.plot.Plot at 0x28fb9ca4c48>"
      ]
     },
     "execution_count": 19,
     "metadata": {},
     "output_type": "execute_result"
    },
    {
     "data": {
      "text/latex": [
       "$\\displaystyle \\begin{cases} \\begin{cases} 0 & \\text{for}\\: x < 1 \\\\\\sqrt[3]{\\min\\left(8, x\\right)} - 1 & \\text{otherwise} \\end{cases} & \\text{for}\\: x \\geq 1 \\wedge x \\leq 8 \\\\0 & \\text{for}\\: x < 1 \\\\1 & \\text{for}\\: x > 1 \\end{cases}$"
      ],
      "text/plain": [
       "⎧⎧        0          for x < 1                   \n",
       "⎪⎪                                               \n",
       "⎪⎨3 ___________                 for x ≥ 1 ∧ x ≤ 8\n",
       "⎪⎪╲╱ Min(8, x)  - 1  otherwise                   \n",
       "⎨⎩                                               \n",
       "⎪                                                \n",
       "⎪              0                    for x < 1    \n",
       "⎪                                                \n",
       "⎩              1                    for x > 1    "
      ]
     },
     "execution_count": 19,
     "metadata": {},
     "output_type": "execute_result"
    },
    {
     "name": "stderr",
     "output_type": "stream",
     "text": [
      "<string>:1: RuntimeWarning: invalid value encountered in double_scalars\n"
     ]
    },
    {
     "data": {
      "image/png": "[encoded data removed]",
      "text/plain": [
       "<Figure size 432x288 with 1 Axes>"
      ]
     },
     "metadata": {
      "needs_background": "light"
     },
     "output_type": "display_data"
    },
    {
     "data": {
      "text/plain": [
       "<sympy.plotting.plot.Plot at 0x28fb9d43608>"
      ]
     },
     "execution_count": 19,
     "metadata": {},
     "output_type": "execute_result"
    },
    {
     "data": {
      "image/png": "[encoded data removed]",
      "text/latex": [
       "$\\displaystyle -1 + \\sqrt[3]{3}$"
      ],
      "text/plain": [
       "     3 ___\n",
       "-1 + ╲╱ 3 "
      ]
     },
     "execution_count": 19,
     "metadata": {},
     "output_type": "execute_result"
    }
   ],
   "source": [
    "t = symbols('t')\n",
    "fx = Piecewise((1/(3*x**(Fraction(2,3))),(x>=1)&(x<=8)),(0,True)) # 概率密度\n",
    "fx\n",
    "fx.subs(x,2)\n",
    "integrate(fx,(x,-oo,oo))\n",
    "# solve(fx,x)\n",
    "plot(fx)\n",
    "\n",
    "# 分布函数同时也是Y的方程\n",
    "Fx = Piecewise((integrate(fx,(x,1,x)),(x>=1)&(x<=8)),(0,x<1),(1,x>1)) \n",
    "Fx\n",
    "plot(Fx)\n",
    "Fx.subs(x,3)"
   ]
  },
  {
   "cell_type": "code",
   "execution_count": 20,
   "metadata": {
    "pycharm": {
     "name": "#%%\n"
    }
   },
   "outputs": [
    {
     "data": {
      "text/latex": [
       "$\\displaystyle \\begin{cases} \\begin{cases} 0 & \\text{for}\\: \\left(y + 1.0\\right)^{3} < 1 \\\\\\sqrt[3]{\\min\\left(8, \\left(y + 1.0\\right)^{3}\\right)} - 1 & \\text{otherwise} \\end{cases} & \\text{for}\\: y \\geq 0 \\wedge y \\leq 1.0 \\\\0 & \\text{for}\\: \\left(y + 1.0\\right)^{3} < 1 \\\\1 & \\text{for}\\: \\left(y + 1.0\\right)^{3} > 1 \\end{cases}$"
      ],
      "text/plain": [
       "⎧⎧                                           3                         \n",
       "⎪⎪             0                for (y + 1.0)  < 1                     \n",
       "⎪⎨                                                  for y ≥ 0 ∧ y ≤ 1.0\n",
       "⎪⎪3 ______________________                                             \n",
       "⎪⎩╲╱ Min(8, (y + 1.0)**3)  - 1      otherwise                          \n",
       "⎨                                                                      \n",
       "⎪                                                                3     \n",
       "⎪                        0                          for (y + 1.0)  < 1 \n",
       "⎪                                                                      \n",
       "⎪                                                                3     \n",
       "⎩                        1                          for (y + 1.0)  > 1 "
      ]
     },
     "execution_count": 20,
     "metadata": {},
     "output_type": "execute_result"
    },
    {
     "data": {
      "text/latex": [
       "$\\displaystyle \\begin{cases} 0 & \\text{for}\\: y < 0 \\\\y & \\text{for}\\: y \\leq 1 \\\\1 & \\text{otherwise} \\end{cases}$"
      ],
      "text/plain": [
       "⎧0  for y < 0\n",
       "⎪            \n",
       "⎨y  for y ≤ 1\n",
       "⎪            \n",
       "⎩1  otherwise"
      ]
     },
     "execution_count": 20,
     "metadata": {},
     "output_type": "execute_result"
    },
    {
     "data": {
      "image/png": "[encoded data removed]",
      "text/plain": [
       "<Figure size 432x288 with 1 Axes>"
      ]
     },
     "metadata": {
      "needs_background": "light"
     },
     "output_type": "display_data"
    },
    {
     "data": {
      "text/plain": [
       "<sympy.plotting.plot.Plot at 0x28fb9d96188>"
      ]
     },
     "execution_count": 20,
     "metadata": {},
     "output_type": "execute_result"
    },
    {
     "data": {
      "text/latex": [
       "$\\displaystyle \\begin{cases} 0 & \\text{for}\\: y < 0 \\\\1 & \\text{for}\\: y \\leq 1 \\\\0 & \\text{otherwise} \\end{cases}$"
      ],
      "text/plain": [
       "⎧0  for y < 0\n",
       "⎪            \n",
       "⎨1  for y ≤ 1\n",
       "⎪            \n",
       "⎩0  otherwise"
      ]
     },
     "execution_count": 20,
     "metadata": {},
     "output_type": "execute_result"
    },
    {
     "data": {
      "image/png": "[encoded data removed]",
      "text/plain": [
       "<Figure size 432x288 with 1 Axes>"
      ]
     },
     "metadata": {
      "needs_background": "light"
     },
     "output_type": "display_data"
    },
    {
     "data": {
      "text/plain": [
       "<sympy.plotting.plot.Plot at 0x28fb9de5f08>"
      ]
     },
     "execution_count": 20,
     "metadata": {},
     "output_type": "execute_result"
    }
   ],
   "source": [
    "Fx_ = x**(1/3)-1-y\n",
    "# fx_\n",
    "# inv_func(f,x)\n",
    "x1 = inv_func(Fx_,x)\n",
    "Fx.subs(x,x1) #等待化简的结果\n",
    "\n",
    "# Y的分布函数\n",
    "Fy = Piecewise((0,y<0),(y,(y>=0) & (y<=1)),(1,y>1))\n",
    "Fy\n",
    "plot(Fy)\n",
    "fy = diff(Fy,y)\n",
    "fy\n",
    "plot(fy)"
   ]
  },
  {
   "cell_type": "code",
   "execution_count": null,
   "metadata": {
    "pycharm": {
     "name": "#%%\n"
    }
   },
   "outputs": [],
   "source": [
    "\n"
   ]
  }
 ],
 "metadata": {
  "kernelspec": {
   "display_name": "Python 3",
   "language": "python",
   "name": "python3"
  },
  "language_info": {
   "codemirror_mode": {
    "name": "ipython",
    "version": 3
   },
   "file_extension": ".py",
   "mimetype": "text/x-python",
   "name": "python",
   "nbconvert_exporter": "python",
   "pygments_lexer": "ipython3",
   "version": "3.8.5"
  },
  "pycharm": {
   "stem_cell": {
    "cell_type": "raw",
    "metadata": {
     "collapsed": false
    },
    "source": []
   }
  },
  "toc": {
   "base_numbering": 1,
   "nav_menu": {},
   "number_sections": true,
   "sideBar": true,
   "skip_h1_title": false,
   "title_cell": "Table of Contents",
   "title_sidebar": "Contents",
   "toc_cell": false,
   "toc_position": {
    "height": "calc(100% - 180px)",
    "left": "10px",
    "top": "150px",
    "width": "219.575px"
   },
   "toc_section_display": true,
   "toc_window_display": true
  }
 },
 "nbformat": 4,
 "nbformat_minor": 2
}
