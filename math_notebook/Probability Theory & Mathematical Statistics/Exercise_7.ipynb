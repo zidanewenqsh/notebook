{
 "cells": [
  {
   "cell_type": "markdown",
   "metadata": {},
   "source": [
    "## 第七章 参数估计"
   ]
  },
  {
   "cell_type": "code",
   "execution_count": 1,
   "metadata": {},
   "outputs": [],
   "source": [
    "from IPython.core.interactiveshell import InteractiveShell \n",
    "InteractiveShell.ast_node_interactivity = 'all' #默认为'last'\n",
    "\n",
    "import numpy as np\n",
    "import pandas as pd\n",
    "import os\n",
    "import sympy \n",
    "from sympy import *\n",
    "from scipy.stats import norm\n",
    "from scipy.stats import t as td\n",
    "from scipy.stats import chi2 as c2d\n",
    "from scipy.stats import f as fd\n",
    "# from sympy.abc import *\n",
    "# from sympy import gamma\n",
    "from matplotlib import pyplot as plt\n",
    "%matplotlib inline\n",
    "plt.rcParams['font.sans-serif']=['SimHei'] #指定默认字体 SimHei为黑体\n",
    "plt.rcParams['axes.unicode_minus']=False #用来正常显示负号\n",
    "sympy.init_printing(use_latex=True)\n",
    "x, y, z = symbols('x y z',real=True)"
   ]
  },
  {
   "cell_type": "markdown",
   "metadata": {},
   "source": [
    "## 正态分布代码  \n",
    "```\n",
    "mu,sigma = symbols('mu sigma')\n",
    "fx = (1/(sigma*sqrt(2*pi)))*exp(-(x-mu)**2/(2*sigma**2))\n",
    "```"
   ]
  },
  {
   "cell_type": "markdown",
   "metadata": {},
   "source": [
    "# 点估计"
   ]
  },
  {
   "cell_type": "markdown",
   "metadata": {},
   "source": [
    "## 矩估计法"
   ]
  },
  {
   "cell_type": "markdown",
   "metadata": {},
   "source": [
    "### 例1  \n",
    "$已知总体X有概率密度\\\\\n",
    "f(x; \\theta)= \\begin{cases}\\frac{6x(\\theta-x)}{\\theta^3},& 0<x<\\theta\\\\ \n",
    "0, & 其它\\end{cases}\\\\\n",
    "其中\\theta为未知参数，X_1,X_2,...,X_n是来自总体X的样本。\\\\\n",
    "(1)求\\theta的矩估计量\\hat\\theta;\\\\\n",
    "(2)求\\hat\\theta的方差D(\\hat\\theta);\\\\\n",
    "(3)若3.5,4.4,5.3,4.6,4.8,3.7,5.8,3.9为一组样本观察值，求\\theta的矩估计$\n"
   ]
  },
  {
   "cell_type": "code",
   "execution_count": 34,
   "metadata": {},
   "outputs": [
    {
     "data": {
      "text/latex": [
       "$\\displaystyle \\begin{cases} \\frac{6 x \\left(\\theta - x\\right)}{\\theta^{3}} & \\text{for}\\: \\theta > x \\\\0 & \\text{otherwise} \\end{cases}$"
      ],
      "text/plain": [
       "⎧6⋅x⋅(θ - x)           \n",
       "⎪───────────  for θ > x\n",
       "⎪      3               \n",
       "⎨     θ                \n",
       "⎪                      \n",
       "⎪     0       otherwise\n",
       "⎩                      "
      ]
     },
     "execution_count": 34,
     "metadata": {},
     "output_type": "execute_result"
    },
    {
     "data": {
      "image/png": "[encoded data removed]",
      "text/latex": [
       "$\\displaystyle \\overline{X}$"
      ],
      "text/plain": [
       "\\overline{X}"
      ]
     },
     "execution_count": 34,
     "metadata": {},
     "output_type": "execute_result"
    }
   ],
   "source": [
    "x,theta = symbols('x,theta',positive=True)\n",
    "n = symbols('n',positive=True,integer=True)\n",
    "mu_1,A_1,X_ = symbols('mu_1, A_1, \\overline{X}')\n",
    "fx = Piecewise((6*x*(theta-x)/theta**3,(x>0)&(x<theta)),(0,True))\n",
    "fx\n",
    "X_"
   ]
  },
  {
   "cell_type": "code",
   "execution_count": 36,
   "metadata": {},
   "outputs": [
    {
     "data": {
      "image/png": "[encoded data removed]",
      "text/latex": [
       "$\\displaystyle 1$"
      ],
      "text/plain": [
       "1"
      ]
     },
     "execution_count": 36,
     "metadata": {},
     "output_type": "execute_result"
    },
    {
     "data": {
      "image/png": "[encoded data removed]",
      "text/latex": [
       "$\\displaystyle \\frac{\\theta}{2}$"
      ],
      "text/plain": [
       "θ\n",
       "─\n",
       "2"
      ]
     },
     "execution_count": 36,
     "metadata": {},
     "output_type": "execute_result"
    },
    {
     "data": {
      "image/png": "[encoded data removed]",
      "text/latex": [
       "$\\displaystyle \\mu_{1} - \\frac{\\theta}{2}$"
      ],
      "text/plain": [
       "     θ\n",
       "μ₁ - ─\n",
       "     2"
      ]
     },
     "execution_count": 36,
     "metadata": {},
     "output_type": "execute_result"
    },
    {
     "data": {
      "image/png": "[encoded data removed]",
      "text/latex": [
       "$\\displaystyle 2 \\mu_{1}$"
      ],
      "text/plain": [
       "2⋅μ₁"
      ]
     },
     "execution_count": 36,
     "metadata": {},
     "output_type": "execute_result"
    },
    {
     "data": {
      "image/png": "[encoded data removed]",
      "text/latex": [
       "$\\displaystyle 2 \\overline{X}$"
      ],
      "text/plain": [
       "2⋅\\overline{X}"
      ]
     },
     "execution_count": 36,
     "metadata": {},
     "output_type": "execute_result"
    }
   ],
   "source": [
    "Integral(fx, (x, 0, theta)).doit()\n",
    "Ex1 = Integral(x*fx, (x, 0, theta)).doit()\n",
    "Ex1\n",
    "mu_1-mu1\n",
    "theta_ = solve(mu_1-Ex1,theta)[0]\n",
    "theta_\n",
    "theta_.subs({mu_1:X_})"
   ]
  },
  {
   "cell_type": "code",
   "execution_count": 40,
   "metadata": {},
   "outputs": [
    {
     "data": {
      "image/png": "[encoded data removed]",
      "text/latex": [
       "$\\displaystyle \\frac{3 \\theta^{2}}{10}$"
      ],
      "text/plain": [
       "   2\n",
       "3⋅θ \n",
       "────\n",
       " 10 "
      ]
     },
     "execution_count": 40,
     "metadata": {},
     "output_type": "execute_result"
    },
    {
     "data": {
      "image/png": "[encoded data removed]",
      "text/latex": [
       "$\\displaystyle \\frac{\\theta^{2}}{20}$"
      ],
      "text/plain": [
       " 2\n",
       "θ \n",
       "──\n",
       "20"
      ]
     },
     "execution_count": 40,
     "metadata": {},
     "output_type": "execute_result"
    },
    {
     "data": {
      "image/png": "[encoded data removed]",
      "text/latex": [
       "$\\displaystyle \\frac{\\theta^{2}}{5 n}$"
      ],
      "text/plain": [
       "  2\n",
       " θ \n",
       "───\n",
       "5⋅n"
      ]
     },
     "execution_count": 40,
     "metadata": {},
     "output_type": "execute_result"
    }
   ],
   "source": [
    "Ex2 = Integral(x**2*fx, (x, 0, theta)).doit()\n",
    "Ex2\n",
    "Dx = Ex2-Ex1**2\n",
    "Dx\n",
    "DX_ = Dx/n\n",
    "D_theta = 2**2*DX_\n",
    "D_theta"
   ]
  },
  {
   "cell_type": "markdown",
   "metadata": {},
   "source": [
    "# 区间估计"
   ]
  }
 ],
 "metadata": {
  "kernelspec": {
   "display_name": "Python 3",
   "language": "python",
   "name": "python3"
  },
  "language_info": {
   "codemirror_mode": {
    "name": "ipython",
    "version": 3
   },
   "file_extension": ".py",
   "mimetype": "text/x-python",
   "name": "python",
   "nbconvert_exporter": "python",
   "pygments_lexer": "ipython3",
   "version": "3.8.5"
  },
  "toc": {
   "base_numbering": 1,
   "nav_menu": {},
   "number_sections": true,
   "sideBar": true,
   "skip_h1_title": false,
   "title_cell": "Table of Contents",
   "title_sidebar": "Contents",
   "toc_cell": false,
   "toc_position": {
    "height": "calc(100% - 180px)",
    "left": "10px",
    "top": "150px",
    "width": "253.723px"
   },
   "toc_section_display": true,
   "toc_window_display": true
  }
 },
 "nbformat": 4,
 "nbformat_minor": 4
}
