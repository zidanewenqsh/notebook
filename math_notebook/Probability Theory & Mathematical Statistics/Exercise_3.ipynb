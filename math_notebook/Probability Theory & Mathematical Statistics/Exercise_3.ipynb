{
 "cells": [
  {
   "cell_type": "markdown",
   "metadata": {},
   "source": [
    "## 导包"
   ]
  },
  {
   "cell_type": "code",
   "execution_count": 1,
   "metadata": {
    "pycharm": {
     "name": "#%%\n"
    }
   },
   "outputs": [],
   "source": [
    "from IPython.core.interactiveshell import InteractiveShell \n",
    "InteractiveShell.ast_node_interactivity = 'all' #默认为'last'\n",
    "\n",
    "import numpy as np\n",
    "import pandas as pd\n",
    "import os\n",
    "import sympy \n",
    "from sympy import *\n",
    "# from sympy.abc import *\n",
    "# from sympy import gamma\n",
    "from matplotlib import pyplot as plt\n",
    "%matplotlib inline\n",
    "plt.rcParams['font.sans-serif']=['SimHei'] #指定默认字体 SimHei为黑体\n",
    "plt.rcParams['axes.unicode_minus']=False #用来正常显示负号\n",
    "sympy.init_printing(use_latex=True)\n",
    "x, y, z = symbols('x y z',real=True)"
   ]
  },
  {
   "cell_type": "markdown",
   "metadata": {},
   "source": [
    "## 正态分布代码  \n",
    "```\n",
    "mu,sigma = symbols('mu sigma')\n",
    "fx = (1/(sigma*sqrt(2*pi)))*exp(-(x-mu)**2/(2*sigma**2))\n",
    "```"
   ]
  },
  {
   "cell_type": "markdown",
   "metadata": {},
   "source": [
    "多维随机变量及其分布"
   ]
  },
  {
   "cell_type": "markdown",
   "metadata": {},
   "source": [
    "# 二维随机变量"
   ]
  },
  {
   "cell_type": "code",
   "execution_count": null,
   "metadata": {
    "pycharm": {
     "name": "#%%\n"
    }
   },
   "outputs": [],
   "source": []
  },
  {
   "cell_type": "markdown",
   "metadata": {},
   "source": [
    "# 边缘分布"
   ]
  },
  {
   "cell_type": "code",
   "execution_count": null,
   "metadata": {
    "pycharm": {
     "name": "#%%\n"
    }
   },
   "outputs": [],
   "source": []
  },
  {
   "cell_type": "markdown",
   "metadata": {},
   "source": [
    "# 条件分布"
   ]
  },
  {
   "cell_type": "code",
   "execution_count": null,
   "metadata": {
    "pycharm": {
     "name": "#%%\n"
    }
   },
   "outputs": [],
   "source": []
  },
  {
   "cell_type": "markdown",
   "metadata": {},
   "source": [
    "# 相互独立的随机变量"
   ]
  },
  {
   "cell_type": "code",
   "execution_count": null,
   "metadata": {
    "pycharm": {
     "name": "#%%\n"
    }
   },
   "outputs": [],
   "source": []
  },
  {
   "cell_type": "markdown",
   "metadata": {},
   "source": [
    "# 两个随机变量的函数的分布"
   ]
  },
  {
   "cell_type": "markdown",
   "metadata": {},
   "source": [
    "## 连续性随机变量的函数的分布"
   ]
  },
  {
   "cell_type": "markdown",
   "metadata": {},
   "source": [
    "### 例1  \n",
    "大炮打靶时，炮弹弹着点(X,Y)(设靶心为原点)服从二维正态分布$N(0,0,\\sigma^2,\\sigma^2,0)$，求带着点到靶心距离Z的概率密度"
   ]
  },
  {
   "cell_type": "markdown",
   "metadata": {},
   "source": [
    "解：  \n",
    "Z的分布函数\n",
    "$$F_Z(z)=P(Z<z)=\\iint_{\\sqrt{x^2+y^2}\\le z}\\frac{1}{2\\pi\\sigma^2}e^{-\\frac{x^2+y^2}{2\\sigma^2}}dxdy$$"
   ]
  },
  {
   "cell_type": "code",
   "execution_count": null,
   "metadata": {
    "pycharm": {
     "name": "#%%\n"
    }
   },
   "outputs": [],
   "source": [
    "x,y,z = symbols('x y z')\n",
    "mu,sigma = symbols('mu sigma')\n",
    "mu=0\n",
    "fx = (1/(sigma*sqrt(2*pi)))*exp(-(x-mu)**2/(2*sigma**2))\n",
    "fx\n",
    "fy = (1/(sigma*sqrt(2*pi)))*exp(-(y-mu)**2/(2*sigma**2))\n",
    "fxy=fx*fy\n",
    "fxy\n",
    "fxy = simplify(fxy)\n",
    "fxy"
   ]
  },
  {
   "cell_type": "code",
   "execution_count": null,
   "metadata": {
    "pycharm": {
     "name": "#%%\n"
    }
   },
   "outputs": [],
   "source": [
    "# 化为极坐标积分\n",
    "rho,theta = symbols('rho theta')\n",
    "fxy_ = fxy.subs({x: rho*cos(theta),y:rho*sin(theta)})\n",
    "fxy_ = simplify(fxy_)\n",
    "fxy_\n",
    "Fz_=Integral(rho*fxy_,(rho, 0, z),(theta, 0, 2*pi))\n",
    "# 结果\n",
    "simplify(Fz.doit())\n",
    "Fz = Piecewise((simplify(Fz.doit()),z>=0),(0,z<0))\n",
    "Fz"
   ]
  },
  {
   "cell_type": "markdown",
   "metadata": {},
   "source": [
    "瑞利分布"
   ]
  },
  {
   "cell_type": "code",
   "execution_count": null,
   "metadata": {
    "pycharm": {
     "name": "#%%\n"
    }
   },
   "outputs": [],
   "source": [
    "# 概率密度\n",
    "# 瑞利分布\n",
    "fz = diff(Fz,z)\n",
    "fz"
   ]
  },
  {
   "cell_type": "code",
   "execution_count": null,
   "metadata": {
    "pycharm": {
     "name": "#%%\n"
    }
   },
   "outputs": [],
   "source": [
    "fz_list=[]\n",
    "for i in [0.5,1,2,3,4]:\n",
    "    fz_list.append(fz.subs(sigma,i))\n",
    "\n",
    "p = plot(*fz_list,show=False,xlim=(-0.1,10),ylim=(-0.1,1.5))\n",
    "p[0].line_color='b'\n",
    "p[1].line_color='g'\n",
    "p[2].line_color='r'\n",
    "p[3].line_color='y'\n",
    "p[4].line_color='c'\n",
    "\n",
    "p.show()"
   ]
  },
  {
   "cell_type": "code",
   "execution_count": null,
   "metadata": {
    "pycharm": {
     "name": "#%%\n"
    }
   },
   "outputs": [],
   "source": [
    "Fz_list=[]\n",
    "for i in [0.5,1,2,3,4]:\n",
    "    Fz_list.append(Fz.subs(sigma,i))\n",
    "\n",
    "p = plot(*Fz_list,show=False,xlim=(-0.1,10),ylim=(-0.1,1.2))\n",
    "p[0].line_color='b'\n",
    "p[1].line_color='g'\n",
    "p[2].line_color='r'\n",
    "p[3].line_color='y'\n",
    "p[4].line_color='c'\n",
    "\n",
    "p.show()"
   ]
  },
  {
   "cell_type": "markdown",
   "metadata": {},
   "source": [
    "### 例2  2001年数学三第12题\n",
    "设随机变量$X$和$Y$的联合分布是正方形$$G=\\{(x,y)|1\\le x \\le 3,1\\le y \\le 3\\}$$上的均匀分布，试求随机变量$U=|X-Y|$的概率密度$p(u)$"
   ]
  },
  {
   "cell_type": "code",
   "execution_count": null,
   "metadata": {
    "pycharm": {
     "name": "#%%\n"
    }
   },
   "outputs": [],
   "source": [
    "x, y, u = symbols('x y u')\n",
    "# X,Y的联合概率密度\n",
    "fxy = Piecewise((1 / 4, (x >= 1) & (x <= 3) & (y >= 1) & (y <= 3)), (0, True))\n",
    "fxy\n",
    "fxy.subs({x: 1, y: 0})\n",
    "# 设四个点的坐标(1,y1)(x1,3) (x2,1)(3,y2)\n",
    "f1 = x + u - y\n",
    "f2 = x - u - y\n",
    "y1 = solve(f1.subs(x,1),y)\n",
    "y2 = solve(f2.subs(x,3),y)\n",
    "x1 = solve(f1.subs(y,3),x)\n",
    "x2 = solve(f2.subs(y,1),x)\n",
    "(1,y1)\n",
    "(x1,3)\n",
    "(x2,1)\n",
    "(3,y2)\n",
    "# U的分布函数\n",
    "Fu=Piecewise(((4-(3-(u+1))**2)/4,(u>0)&(u<2)),(1,u>=2),(0,u<=0))\n",
    "Fu\n",
    "# U的概率密度\n",
    "fu = diff(Fu,u)\n",
    "fu"
   ]
  },
  {
   "cell_type": "code",
   "execution_count": null,
   "metadata": {
    "pycharm": {
     "name": "#%%\n"
    }
   },
   "outputs": [],
   "source": [
    "u_=1.5\n",
    "p = plot(1,3,x-u_,x+u_,10000*(x-1),10000*(x-3),xlim=(0,5),ylim=(0,5),show=False)\n",
    "p.show()"
   ]
  },
  {
   "cell_type": "markdown",
   "metadata": {},
   "source": [
    "### 二维离散型随机变量  \n",
    "方法类似于一维离散型随机变量"
   ]
  },
  {
   "cell_type": "markdown",
   "metadata": {},
   "source": [
    "假设随机变量$X1,X2,X3,X4$相互独立且同分布,  \n",
    "$P\\{X_i=0\\}=0.6, \\ P\\{X_i=1\\}=0.4 \\ (i=1,2,3,4)$  \n",
    "求行列式$X = \\begin{vmatrix}X_1 & X_2 \\\\ X_3 & X_4\\\\ \\end{vmatrix}$的概率分布"
   ]
  },
  {
   "cell_type": "markdown",
   "metadata": {},
   "source": [
    "## Z=X+Y的概率分布  \n",
    "$f_Z(z)=\\int_{-\\infty}^{\\infty}f(z-y,y)dy$  \n",
    "$f_Z(z)=\\int_{-\\infty}^{\\infty}f(x,z-x)dx$  \n",
    "***\n",
    "如果$X$和$Y$相互独立  \n",
    "卷积公式  \n",
    "$f_X*f_Y=\\int_{-\\infty}^{\\infty}f_X(z-y)f_Y(y)dy=\\int_{-\\infty}^{\\infty}f_X(x)f_Y(z-x)dx$  \n",
    "***\n",
    "$Z=aX+bY$  \n",
    "$f_X*f_Y=\\int_{-\\infty}^{\\infty}\\frac{1}{|a|}f_X(\\frac{z-by}{a})f_Y(y)dy=\\int_{-\\infty}^{\\infty}\\frac{1}{|b|}f_X(x)f_Y(\\frac{z-ax}{b})dx$  \n"
   ]
  },
  {
   "cell_type": "markdown",
   "metadata": {},
   "source": [
    "### 例5   \n",
    "设$X$和$Y$是两个相互独立的随机变量，它们都服从标准正态分布$N(0,1)$，求$Z=X+Y$的概率密度"
   ]
  },
  {
   "cell_type": "code",
   "execution_count": null,
   "metadata": {
    "pycharm": {
     "name": "#%%\n"
    }
   },
   "outputs": [],
   "source": [
    "x,y,z = symbols('x y z')\n",
    "mu,sigma = symbols('mu sigma')\n",
    "f = (1/(sigma*sqrt(2*pi)))*exp(-(x-mu)**2/(2*sigma**2))\n",
    "fx = f.subs({mu:0,sigma:1})\n",
    "fy = f.subs({x:y,mu:0,sigma:1})\n",
    "fx\n",
    "fy\n",
    "fxyz = Integral(fx*fy.subs(y,z-x),(x,-oo,+oo))\n",
    "fxyz_ = simplify(fxyz.doit())\n",
    "fxyz\n",
    "fxyz_"
   ]
  },
  {
   "cell_type": "markdown",
   "metadata": {},
   "source": [
    "正态分布的可加性  \n",
    "\n",
    "$若X\\sim N(0,1),Y\\sim N(0,1)且X和Y相互独立 \\\\ \n",
    "则X+Y\\sim N(0,2)$  \n",
    "$若X\\sim N(\\mu_1,\\sigma_1^2),Y\\sim N((\\mu_2,\\sigma_2^2)且X和Y相互独立 \\\\ \n",
    "则X+Y\\sim N(\\mu_1+\\mu_2,\\sigma_1^2+\\sigma_2^2)\\\\\n",
    "则aX+bY\\sim N(a\\mu_1+b\\mu_2,a^2\\sigma_1^2+b^2\\sigma_2^2)$  \n",
    "\n",
    "以上结果还可以推广n个正态分布的随机变量  \n",
    "***\n",
    "二项分布和泊松分布也具有可加性  \n",
    "\n",
    "$X\\sim b(n,p),y\\sim b(m,p)且X和Y相互独立\\Rightarrow X+Y\\sim b(n+m,p)$  \n",
    "即：$P\\{X=k\\}=C_n^kp^k(1-p)^{n-k},(k=0,1,...,n)\\\\\n",
    "P\\{Y=k\\}=C_m^kp^k(1-p)^{m-k},(k=0,1,...,m)\\\\\n",
    "P\\{X+Y=k\\}=C_{m+n}^kp^k(1-p)^{n+m-k},(k=0,1,...,n)$  \n",
    "***  \n",
    "$X\\sim \\pi(\\lambda_1),y\\sim \\pi(\\lambda_2)且X和Y相互独立\\Rightarrow X+Y\\sim \\pi(\\lambda_1+\\lambda_2)$  \n",
    "即：$P\\{X=k\\}=\\frac{\\lambda_1^k}{k!}e^{-\\lambda_1}\\\\\n",
    "P\\{Y=k\\}=\\frac{\\lambda_2^k}{k!}e^{-\\lambda_2}\\\\\n",
    "P\\{X+Y=k\\}=\\frac{(\\lambda_1+\\lambda_2)^k}{k!}e^{-(\\lambda_1+\\lambda_2)}$"
   ]
  },
  {
   "cell_type": "markdown",
   "metadata": {},
   "source": [
    "例7  \n",
    "$对于简单电路中，两电阻的R_1和R_2串联连接,设R_1和R_2相互独立,它们的概率密度均为\\\\\n",
    "f(x)=\\begin{cases}\\frac{10-x}{50} & 0\\le x\\le 10\\\\ 0 & 其它\\end{cases}\\\\\n",
    "求总电阻R=R_1+R_2的概率密度$"
   ]
  },
  {
   "cell_type": "code",
   "execution_count": 2,
   "metadata": {
    "pycharm": {
     "name": "#%%\n"
    }
   },
   "outputs": [
    {
     "data": {
      "image/png": "[encoded data removed]",
      "text/latex": [
       "$\\displaystyle 1$"
      ],
      "text/plain": [
       "1"
      ]
     },
     "execution_count": 2,
     "metadata": {},
     "output_type": "execute_result"
    }
   ],
   "source": [
    "x,y,z = symbols('x y z')\n",
    "f=Piecewise(((10-x)/50,(x>=0)&(x<=10)),(0,True))\n",
    "integrate(f,(x,-oo,oo))"
   ]
  },
  {
   "cell_type": "code",
   "execution_count": 3,
   "metadata": {
    "pycharm": {
     "name": "#%%\n"
    }
   },
   "outputs": [
    {
     "data": {
      "text/latex": [
       "$\\displaystyle \\begin{cases} \\begin{cases} \\frac{\\left(10 - x\\right) \\left(x - z + 10\\right)}{2500} & \\text{for}\\: x \\geq 0 \\wedge x - z \\geq -10 \\wedge x \\leq 10 \\wedge x - z \\leq 0 \\\\0 & \\text{otherwise} \\end{cases} & \\text{for}\\: x \\geq 0 \\wedge x \\geq z - 10 \\wedge x \\leq 10 \\wedge x \\leq z \\end{cases}$"
      ],
      "text/plain": [
       "⎧⎧(10 - x)⋅(x - z + 10)                                                       \n",
       "⎪⎪─────────────────────  for x ≥ 0 ∧ x - z ≥ -10 ∧ x ≤ 10 ∧ x - z ≤ 0         \n",
       "⎨⎨         2500                                                        for x ≥\n",
       "⎪⎪                                                                            \n",
       "⎩⎩          0                             otherwise                           \n",
       "\n",
       "                                \n",
       "                                \n",
       " 0 ∧ x ≥ z - 10 ∧ x ≤ 10 ∧ x ≤ z\n",
       "                                \n",
       "                                "
      ]
     },
     "execution_count": 3,
     "metadata": {},
     "output_type": "execute_result"
    },
    {
     "data": {
      "text/latex": [
       "$\\displaystyle \\int\\limits_{-\\infty}^{\\infty} \\begin{cases} \\left(\\frac{1}{5} - \\frac{x}{50}\\right) \\left(\\frac{x}{50} - \\frac{z}{50} + \\frac{1}{5}\\right) & \\text{for}\\: x \\geq 0 \\wedge x - z \\geq -10 \\wedge x \\leq 10 \\wedge x - z \\leq 0 \\\\0 & \\text{otherwise} \\end{cases}\\, dx$"
      ],
      "text/plain": [
       "∞                                                                          \n",
       "⌠                                                                          \n",
       "⎮  ⎧⎛1   x ⎞ ⎛x    z    1⎞                                                 \n",
       "⎮  ⎪⎜─ - ──⎟⋅⎜── - ── + ─⎟  for x ≥ 0 ∧ x - z ≥ -10 ∧ x ≤ 10 ∧ x - z ≤ 0   \n",
       "⎮  ⎨⎝5   50⎠ ⎝50   50   5⎠                                               dx\n",
       "⎮  ⎪                                                                       \n",
       "⎮  ⎩          0                              otherwise                     \n",
       "⌡                                                                          \n",
       "-∞                                                                         "
      ]
     },
     "execution_count": 3,
     "metadata": {},
     "output_type": "execute_result"
    },
    {
     "data": {
      "text/latex": [
       "$\\displaystyle \\begin{cases} - \\frac{z \\max\\left(0, z - 10\\right)^{2}}{5000} + \\frac{z \\max\\left(0, z - 10, \\min\\left(10, z\\right)\\right)^{2}}{5000} + \\frac{\\left(z - 10\\right) \\max\\left(0, z - 10\\right)}{250} - \\frac{\\left(z - 10\\right) \\max\\left(0, z - 10, \\min\\left(10, z\\right)\\right)}{250} + \\frac{\\max\\left(0, z - 10\\right)^{3}}{7500} - \\frac{\\max\\left(0, z - 10, \\min\\left(10, z\\right)\\right)^{3}}{7500} & \\text{for}\\: z \\geq 10 \\wedge z < 20 \\end{cases}$"
      ],
      "text/plain": [
       "⎧                  2                               2                          \n",
       "⎪  z⋅Max(0, z - 10)    z⋅Max(0, z - 10, Min(10, z))    (z - 10)⋅Max(0, z - 10)\n",
       "⎨- ───────────────── + ───────────────────────────── + ───────────────────────\n",
       "⎪         5000                      5000                         250          \n",
       "⎩                                                                             \n",
       "\n",
       "                                                       3                      \n",
       "   (z - 10)⋅Max(0, z - 10, Min(10, z))   Max(0, z - 10)    Max(0, z - 10, Min(\n",
       " - ─────────────────────────────────── + ─────────────── - ───────────────────\n",
       "                   250                         7500                    7500   \n",
       "                                                                              \n",
       "\n",
       "       3                     \n",
       "10, z))                      \n",
       "────────  for z ≥ 10 ∧ z < 20\n",
       "                             \n",
       "                             "
      ]
     },
     "execution_count": 3,
     "metadata": {},
     "output_type": "execute_result"
    },
    {
     "data": {
      "image/png": "[encoded data removed]",
      "text/latex": [
       "$\\displaystyle \\frac{1}{15}$"
      ],
      "text/plain": [
       "1/15"
      ]
     },
     "execution_count": 3,
     "metadata": {},
     "output_type": "execute_result"
    }
   ],
   "source": [
    "fx = f.subs(x,x)\n",
    "fy = f.subs(x,z-x)\n",
    "fxy = Piecewise((fx*fy, (x>=0)&(x<=10)&(x>=z-10)&(x<=z)))\n",
    "# fxy = Piecewise((fx*fy, (x>=0)&(x<=10)&(x>=z-10)&(x<=z)&(z>=10)&(z<20)))\n",
    "simplify(fxy)\n",
    "fz = Integral(fx*fy,(x,-oo,oo))\n",
    "fz\n",
    "simplify(Piecewise((fz.doit(),(z>=10)&(z<20))))\n",
    "simplify(fz.subs(z,10).doit())"
   ]
  },
  {
   "cell_type": "code",
   "execution_count": 5,
   "metadata": {
    "pycharm": {
     "name": "#%%\n"
    }
   },
   "outputs": [
    {
     "data": {
      "image/png": "[encoded data removed]",
      "text/latex": [
       "$\\displaystyle 20$"
      ],
      "text/plain": [
       "20"
      ]
     },
     "execution_count": 5,
     "metadata": {},
     "output_type": "execute_result"
    },
    {
     "data": {
      "image/png": "[encoded data removed]",
      "text/latex": [
       "$\\displaystyle - \\frac{z \\max\\left(0, z - 10\\right)^{2}}{5000} + \\frac{z \\max\\left(0, z - 10, \\min\\left(10, z\\right)\\right)^{2}}{5000} - \\left(\\frac{1}{25} - \\frac{z}{250}\\right) \\max\\left(0, z - 10\\right) + \\left(\\frac{1}{25} - \\frac{z}{250}\\right) \\max\\left(0, z - 10, \\min\\left(10, z\\right)\\right) + \\frac{\\max\\left(0, z - 10\\right)^{3}}{7500} - \\frac{\\max\\left(0, z - 10, \\min\\left(10, z\\right)\\right)^{3}}{7500}$"
      ],
      "text/plain": [
       "                  2                               2                           \n",
       "  z⋅Max(0, z - 10)    z⋅Max(0, z - 10, Min(10, z))    ⎛1     z ⎞              \n",
       "- ───────────────── + ───────────────────────────── - ⎜── - ───⎟⋅Max(0, z - 10\n",
       "         5000                      5000               ⎝25   250⎠              \n",
       "\n",
       "                                                          3                   \n",
       "    ⎛1     z ⎞                              Max(0, z - 10)    Max(0, z - 10, M\n",
       ") + ⎜── - ───⎟⋅Max(0, z - 10, Min(10, z)) + ─────────────── - ────────────────\n",
       "    ⎝25   250⎠                                    7500                    7500\n",
       "\n",
       "          3\n",
       "in(10, z)) \n",
       "───────────\n",
       "           "
      ]
     },
     "execution_count": 5,
     "metadata": {},
     "output_type": "execute_result"
    },
    {
     "data": {
      "image/png": "[encoded data removed]",
      "text/latex": [
       "$\\displaystyle \\frac{z^{3}}{7500} - \\frac{z^{2} \\left(z + 10\\right)}{5000} + \\frac{z^{2}}{250} - \\frac{z \\max\\left(10, z\\right)}{250} + \\frac{\\left(z + 10\\right) \\max\\left(10, z\\right)^{2}}{5000} - \\frac{\\max\\left(10, z\\right)^{3}}{7500}$"
      ],
      "text/plain": [
       "  3     2              2                                     2             3\n",
       " z     z ⋅(z + 10)    z    z⋅Max(10, z)   (z + 10)⋅Max(10, z)    Max(10, z) \n",
       "──── - ─────────── + ─── - ──────────── + ──────────────────── - ───────────\n",
       "7500       5000      250       250                5000               7500   "
      ]
     },
     "execution_count": 5,
     "metadata": {},
     "output_type": "execute_result"
    },
    {
     "data": {
      "image/png": "[encoded data removed]",
      "text/latex": [
       "$\\displaystyle - \\frac{z \\left(z - 10\\right)^{2}}{5000} + \\frac{z \\max\\left(10, z - 10\\right)^{2}}{5000} + \\frac{\\left(z - 10\\right)^{3}}{7500} + \\frac{\\left(z - 10\\right)^{2}}{250} - \\frac{\\left(z - 10\\right) \\max\\left(10, z - 10\\right)}{250} - \\frac{\\max\\left(10, z - 10\\right)^{3}}{7500}$"
      ],
      "text/plain": [
       "            2                    2           3           2                    \n",
       "  z⋅(z - 10)    z⋅Max(10, z - 10)    (z - 10)    (z - 10)    (z - 10)⋅Max(10, \n",
       "- ─────────── + ────────────────── + ───────── + ───────── - ─────────────────\n",
       "      5000             5000             7500        250                250    \n",
       "\n",
       "                         3\n",
       "z - 10)   Max(10, z - 10) \n",
       "─────── - ────────────────\n",
       "                7500      "
      ]
     },
     "execution_count": 5,
     "metadata": {},
     "output_type": "execute_result"
    },
    {
     "data": {
      "image/png": "[encoded data removed]",
      "text/latex": [
       "$\\displaystyle - \\frac{z}{50} + \\frac{\\left(z + 10\\right)^{3}}{7500} - \\frac{\\left(z + 10\\right)^{2} \\left(z + 20\\right)}{5000} + \\frac{\\left(z + 10\\right)^{2}}{250} - \\frac{2}{15}$"
      ],
      "text/plain": [
       "               3           2                    2     \n",
       "  z    (z + 10)    (z + 10) ⋅(z + 20)   (z + 10)    2 \n",
       "- ── + ───────── - ────────────────── + ───────── - ──\n",
       "  50      7500            5000             250      15"
      ]
     },
     "execution_count": 5,
     "metadata": {},
     "output_type": "execute_result"
    },
    {
     "data": {
      "image/png": "[encoded data removed]",
      "text/latex": [
       "$\\displaystyle - \\frac{z^{3}}{15000} + \\frac{z^{2}}{250} - \\frac{2 z}{25} + \\frac{8}{15}$"
      ],
      "text/plain": [
       "     3      2           \n",
       "    z      z    2⋅z   8 \n",
       "- ───── + ─── - ─── + ──\n",
       "  15000   250    25   15"
      ]
     },
     "execution_count": 5,
     "metadata": {},
     "output_type": "execute_result"
    },
    {
     "data": {
      "image/png": "[encoded data removed]",
      "text/latex": [
       "$\\displaystyle \\frac{1}{15}$"
      ],
      "text/plain": [
       "1/15"
      ]
     },
     "execution_count": 5,
     "metadata": {},
     "output_type": "execute_result"
    },
    {
     "data": {
      "image/png": "[encoded data removed]",
      "text/latex": [
       "$\\displaystyle - z^{3} + 60 z^{2} - 1200 z + 8000$"
      ],
      "text/plain": [
       "   3       2                \n",
       "- z  + 60⋅z  - 1200⋅z + 8000"
      ]
     },
     "execution_count": 5,
     "metadata": {},
     "output_type": "execute_result"
    }
   ],
   "source": [
    "# 计算当10<=z<=20时的概率密度\n",
    "# 通过正负值的变换来控制Max和Min函数的取值\n",
    "z1 = symbols('z', positive=True)\n",
    "z2 = symbols('z', negative=True)\n",
    "Max((z2+20),20)\n",
    "fz_ = fz.doit()\n",
    "fz_\n",
    "fz_2 = fz_.subs(z,(z1+10))\n",
    "fz_2\n",
    "fz_2 = fz_2.subs(z1,(z-10))\n",
    "fz_2\n",
    "fz_2 = fz_2.subs(z,(z2+20))\n",
    "fz_2\n",
    "fz_2 = fz_2.subs(z2,(z-20))\n",
    "fz_2 = simplify(fz_2)\n",
    "fz_2\n",
    "fz_2.subs(z,10)\n",
    "simplify(fz_2*15000) # 结果\n",
    "# fz_.subs(z,(z2+20))\n"
   ]
  },
  {
   "cell_type": "code",
   "execution_count": 6,
   "metadata": {
    "pycharm": {
     "name": "#%%\n"
    }
   },
   "outputs": [
    {
     "data": {
      "image/png": "[encoded data removed]",
      "text/latex": [
       "$\\displaystyle \\frac{z \\left(z^{2} - 60 z + 600\\right)}{15000}$"
      ],
      "text/plain": [
       "  ⎛ 2             ⎞\n",
       "z⋅⎝z  - 60⋅z + 600⎠\n",
       "───────────────────\n",
       "       15000       "
      ]
     },
     "execution_count": 6,
     "metadata": {},
     "output_type": "execute_result"
    }
   ],
   "source": [
    "# 计算当0<=z<=10时的概率密度\n",
    "z1 = symbols('z', positive=True)\n",
    "z2 = symbols('z', negative=True)\n",
    "fz_ = fz.doit()\n",
    "fz_1 = fz_.subs(z, z1).subs(z1, z2 + 10).subs(z2, z - 10)\n",
    "fz_1 = simplify(fz_1)  # 结果\n",
    "fz_1"
   ]
  },
  {
   "cell_type": "code",
   "execution_count": 7,
   "metadata": {
    "pycharm": {
     "name": "#%%\n"
    }
   },
   "outputs": [
    {
     "data": {
      "image/png": "[encoded data removed]",
      "text/latex": [
       "$\\displaystyle \\frac{z \\left(z^{2} - 60 z + 600\\right)}{15000}$"
      ],
      "text/plain": [
       "  ⎛ 2             ⎞\n",
       "z⋅⎝z  - 60⋅z + 600⎠\n",
       "───────────────────\n",
       "       15000       "
      ]
     },
     "execution_count": 7,
     "metadata": {},
     "output_type": "execute_result"
    },
    {
     "data": {
      "image/png": "[encoded data removed]",
      "text/latex": [
       "$\\displaystyle - \\frac{z^{3}}{15000} + \\frac{z^{2}}{250} - \\frac{2 z}{25} + \\frac{8}{15}$"
      ],
      "text/plain": [
       "     3      2           \n",
       "    z      z    2⋅z   8 \n",
       "- ───── + ─── - ─── + ──\n",
       "  15000   250    25   15"
      ]
     },
     "execution_count": 7,
     "metadata": {},
     "output_type": "execute_result"
    },
    {
     "data": {
      "text/latex": [
       "$\\displaystyle \\begin{cases} \\frac{z \\left(z^{2} - 60 z + 600\\right)}{15000} & \\text{for}\\: z \\geq 0 \\wedge z < 10 \\\\- \\frac{z^{3}}{15000} + \\frac{z^{2}}{250} - \\frac{2 z}{25} + \\frac{8}{15} & \\text{for}\\: z \\geq 10 \\wedge z < 20 \\\\0 & \\text{otherwise} \\end{cases}$"
      ],
      "text/plain": [
       "⎧    ⎛ 2             ⎞                        \n",
       "⎪  z⋅⎝z  - 60⋅z + 600⎠                        \n",
       "⎪  ───────────────────     for z ≥ 0 ∧ z < 10 \n",
       "⎪         15000                               \n",
       "⎪                                             \n",
       "⎨     3      2                                \n",
       "⎪    z      z    2⋅z   8                      \n",
       "⎪- ───── + ─── - ─── + ──  for z ≥ 10 ∧ z < 20\n",
       "⎪  15000   250    25   15                     \n",
       "⎪                                             \n",
       "⎩           0                   otherwise     "
      ]
     },
     "execution_count": 7,
     "metadata": {},
     "output_type": "execute_result"
    },
    {
     "data": {
      "image/png": "[encoded data removed]",
      "text/plain": [
       "<Figure size 432x288 with 1 Axes>"
      ]
     },
     "metadata": {
      "needs_background": "light"
     },
     "output_type": "display_data"
    },
    {
     "data": {
      "text/plain": [
       "<sympy.plotting.plot.Plot at 0x19385bd5d08>"
      ]
     },
     "execution_count": 7,
     "metadata": {},
     "output_type": "execute_result"
    }
   ],
   "source": [
    "# 最终结果\n",
    "fz_1\n",
    "fz_2\n",
    "fz_f = Piecewise((fz_1,(z>=0)&(z<10)),(fz_2,(z>=10)&(z<20)),(0,True))\n",
    "fz_f\n",
    "plot(fz_f,xlim=(-10,30)) # sympy 中的plot只能绘制(-10,10)之间的图像\n"
   ]
  },
  {
   "cell_type": "code",
   "execution_count": 10,
   "metadata": {
    "pycharm": {
     "name": "#%%\n"
    }
   },
   "outputs": [
    {
     "data": {
      "text/latex": [
       "$\\displaystyle \\begin{cases} \\frac{z \\left(z^{2} - 60 z + 600\\right)}{15000} & \\text{for}\\: z \\geq 0 \\wedge z < 10 \\\\- \\frac{z^{3}}{15000} + \\frac{z^{2}}{250} - \\frac{2 z}{25} + \\frac{8}{15} & \\text{for}\\: z \\geq 10 \\wedge z < 20 \\\\0 & \\text{otherwise} \\end{cases}$"
      ],
      "text/plain": [
       "⎧    ⎛ 2             ⎞                        \n",
       "⎪  z⋅⎝z  - 60⋅z + 600⎠                        \n",
       "⎪  ───────────────────     for z ≥ 0 ∧ z < 10 \n",
       "⎪         15000                               \n",
       "⎪                                             \n",
       "⎨     3      2                                \n",
       "⎪    z      z    2⋅z   8                      \n",
       "⎪- ───── + ─── - ─── + ──  for z ≥ 10 ∧ z < 20\n",
       "⎪  15000   250    25   15                     \n",
       "⎪                                             \n",
       "⎩           0                   otherwise     "
      ]
     },
     "execution_count": 10,
     "metadata": {},
     "output_type": "execute_result"
    },
    {
     "data": {
      "text/plain": [
       "[<matplotlib.lines.Line2D at 0x19387c40588>]"
      ]
     },
     "execution_count": 10,
     "metadata": {},
     "output_type": "execute_result"
    },
    {
     "data": {
      "image/png": "[encoded data removed]",
      "text/plain": [
       "<Figure size 432x288 with 1 Axes>"
      ]
     },
     "metadata": {
      "needs_background": "light"
     },
     "output_type": "display_data"
    }
   ],
   "source": [
    "# 替换方案\n",
    "x1 = np.linspace(-10,30,100)\n",
    "# y1 = fz_f.subs(z,x1) # 这样不行\n",
    "# y1\n",
    "# x1\n",
    "y1 = []\n",
    "for x1_ in x1:\n",
    "    y1.append(fz_f.subs(z,x1_))\n",
    "# y1\n",
    "plt.plot(x1,y1)"
   ]
  },
  {
   "cell_type": "markdown",
   "metadata": {},
   "source": [
    "### 2007年数学三第23题    \n",
    "$设二维随机变量(X,Y)的概率密度为\\\\\n",
    "f(x,y)=\\begin{cases}2-x-y & 0<x<1,0<y<1\\\\0 & 其它 \\end{cases} \\\\\n",
    "求(I)P\\{X>2Y\\};(II)求Z=X+Y的概率密度f_Z(z)\n",
    "$"
   ]
  },
  {
   "cell_type": "code",
   "execution_count": null,
   "metadata": {
    "pycharm": {
     "name": "#%%\n"
    }
   },
   "outputs": [],
   "source": [
    "x,y,z = symbols('x y z')\n",
    "fxy = Piecewise((2-x-y,(x>0)&(x<1)&(y>0)&(y<1)),(0,True))\n",
    "fxy\n",
    "Integral(fxy,(x,0,1),(y,0,1)).doit() # 说明是概率密度\n",
    "# X>2Y概率最终结果\n",
    "Integral(fxy,(y,0,x/2),(x,0,1)).doit()"
   ]
  },
  {
   "cell_type": "code",
   "execution_count": null,
   "metadata": {
    "pycharm": {
     "name": "#%%\n"
    }
   },
   "outputs": [],
   "source": [
    "# 区域绘图\n",
    "z_=1\n",
    "p = plot(0,1,x/2,z_-x,10000*(x-0),10000*(x-1),xlim=(-1,2),ylim=(-1,2),show=False)\n",
    "p.show()"
   ]
  },
  {
   "cell_type": "code",
   "execution_count": null,
   "metadata": {
    "pycharm": {
     "name": "#%%\n"
    }
   },
   "outputs": [],
   "source": [
    "fz = Integral(fxy.subs(y,(z-x)),(x,-oo,oo))\n",
    "fz\n",
    "fz_ = fz.doit()\n",
    "fz_"
   ]
  },
  {
   "cell_type": "code",
   "execution_count": null,
   "metadata": {
    "pycharm": {
     "name": "#%%\n"
    }
   },
   "outputs": [],
   "source": [
    "z1 = symbols('z', positive=True)\n",
    "z2 = symbols('z', negative=True)\n",
    "# 计算区间(0,1)\n",
    "fz_1 = fz_.subs(z,z1).subs(z1,(z2+1)).subs(z2,(z-1))\n",
    "simplify(fz_1)\n",
    "# 计算区间(1,2)\n",
    "fz_2 = fz_.subs(z,(z1+1)).subs(z1,(z-1)).subs(z,(z2+2)).subs(z2,(z-2))\n",
    "fz_2 = simplify(fz_2)\n",
    "fz_2"
   ]
  },
  {
   "cell_type": "code",
   "execution_count": null,
   "metadata": {
    "pycharm": {
     "name": "#%%\n"
    }
   },
   "outputs": [],
   "source": [
    "# Z=X+Y最终结果\n",
    "fz_f = Piecewise((fz_1,(z>0)&(z<1)),(fz_2,(z>1)&(z<2)),(0,True))\n",
    "fz_f\n",
    "plot(fz_f,xlim=(-2,4))"
   ]
  },
  {
   "cell_type": "markdown",
   "metadata": {},
   "source": [
    "### 考研题  \n",
    "$设随机变量X与Y独立，X服从正态分布N(\\mu,\\sigma^2),Y服从[-\\pi,\\pi]上的均匀分布。\\\\\n",
    "试求Z=X+Y的概率密度，分布计算结果用标准正态分布函数\\Phi(x)表示\\\\\n",
    "其中:\\Phi(x)=\\frac{1}{\\sqrt{2\\pi}}\\int_{-\\infty}^x e^{-\\frac{t^2}{2}}dt$"
   ]
  },
  {
   "cell_type": "code",
   "execution_count": null,
   "metadata": {
    "pycharm": {
     "name": "#%%\n"
    }
   },
   "outputs": [],
   "source": [
    "x,y,z = symbols('x y z')\n",
    "mu,sigma = symbols('mu sigma')\n",
    "fx = (1/(sigma*sqrt(2*pi)))*exp(-(x-mu)**2/(2*sigma**2))\n",
    "fy = Piecewise((1/(2*pi),(y>=-pi)&(y<=pi)),(0,True))\n",
    "fx\n",
    "fy"
   ]
  },
  {
   "cell_type": "code",
   "execution_count": null,
   "metadata": {
    "pycharm": {
     "name": "#%%\n"
    }
   },
   "outputs": [],
   "source": [
    "# 利用卷积公式\n",
    "fz = Integral(fx*fy.subs(y,(z-x)),(x,-oo,oo))\n",
    "fz\n",
    "fz = fz.doit()\n",
    "fz\n",
    "simplify(fz)\n",
    "plot(fz.subs({mu:0,sigma:1}))"
   ]
  },
  {
   "cell_type": "code",
   "execution_count": null,
   "metadata": {
    "pycharm": {
     "name": "#%%\n"
    }
   },
   "outputs": [],
   "source": [
    "expand(erf(x))\n",
    "plot(erf(x))"
   ]
  },
  {
   "cell_type": "code",
   "execution_count": null,
   "metadata": {
    "pycharm": {
     "name": "#%%\n"
    }
   },
   "outputs": [],
   "source": [
    "x, t = symbols('x t')\n",
    "ef = (2/sqrt(pi))*integrate(exp(-t**2),(t,-oo,x))\n",
    "ef\n",
    "simplify(ef)\n",
    "# 高斯分布与误差函数的关系\n",
    "Integral(fx.subs({mu:0,sigma:1}),(x,-oo,x)).doit()\n",
    "Integral(fx.subs({x:sqrt(2)*x,mu:0,sigma:1}),(x,-oo,x)).doit()\n",
    "Integral(fx.subs({x:2*x,mu:0,sigma:1}),(x,-oo,x)).doit()\n",
    "Integral(fx.subs({x:3*x,mu:0,sigma:1}),(x,-oo,x)).doit()"
   ]
  },
  {
   "cell_type": "markdown",
   "metadata": {},
   "source": [
    "$标准正态分布与误差函数的关系\\\\\n",
    "erf(\\frac{x}{\\sqrt{2}})=2\\Phi(x)-1\\\\\n",
    "erf(x)=2\\sqrt{2} \\Phi(\\sqrt{2}x)-1\\\\\n",
    "erf(ax)=2\\sqrt{2}a \\Phi(\\sqrt{2}ax)-1\\\\\n",
    "\\Phi(x)=\\frac{erf(\\frac{x}{\\sqrt{2}})+1}{2}\\\\\n",
    "\\Phi(\\sqrt{2} x)=\\frac{erf(x)+1}{2\\sqrt2}\\\\\n",
    "\\Phi(ax)=\\frac{erf(a\\frac{x}{\\sqrt{2}})+1}{2a}$"
   ]
  },
  {
   "cell_type": "markdown",
   "metadata": {},
   "source": [
    "## 积Z=XY与商Z=X/Y的分布\n",
    "\n",
    "$设X,Y是二维连续型随机变量，其概率密度为f(x,y)\\\\\n",
    "则随机变量Z=Y/X的概率密度为\\\\\n",
    "f_{Y/X}(z)=\\int_{-\\infty}^{\\infty}|x|f(x,xz)dx\\\\\n",
    "随机变量Z=XY的概率密度为\\\\\n",
    "f_{XY}(z)=\\int_{-\\infty}^{\\infty}{1\\over|x|}f(x,{z\\over x})dx$"
   ]
  },
  {
   "cell_type": "markdown",
   "metadata": {},
   "source": [
    "###  例8  \n",
    "$设随机变量X,Y相互独立他们的概率密度均为\\\\\n",
    "p(x)=\\begin{cases}e^{-x}&x>0\\\\0&x\\le 0\\end{cases}\\\\\n",
    "求Z=Y/X概率密度$"
   ]
  },
  {
   "cell_type": "code",
   "execution_count": null,
   "metadata": {
    "pycharm": {
     "name": "#%%\n"
    }
   },
   "outputs": [],
   "source": [
    "x,y,z = symbols('x y z')\n",
    "fx = Piecewise((exp(-x),x>0),(0,True))\n",
    "fx\n",
    "integrate(fx,(x,-oo,oo)) # 概率为1，说明是概率密度\n",
    "fy = fx.subs(x,y)\n",
    "fy\n",
    "fxy = fx*fy\n",
    "simplify(fxy)"
   ]
  },
  {
   "cell_type": "code",
   "execution_count": null,
   "metadata": {
    "pycharm": {
     "name": "#%%\n"
    }
   },
   "outputs": [],
   "source": [
    "x1 = symbols('x',positive=True)\n",
    "z1 = symbols('z',positive=True)\n",
    "x2 = symbols('x',negative=True)\n",
    "z2 = symbols('z',negative=True)\n",
    "fz_ = Integral(fxy.subs({x:x1,y:(z*x)}).subs(z,z1)*Abs(x),(x,-oo,oo)) # 带绝对值的不好求\n",
    "simplify(fz)\n",
    "# x>0,z>0\n",
    "fz1 = Integral(fxy.subs({y:(z*x)}).subs(z,z1)*x,(x,0,oo)) # z用正值替换很重要\n",
    "simplify(fz1)\n",
    "\n",
    "fz = Piecewise((fz1.doit().subs(z1,z),z>0),(0,True)) # 最后结果\n",
    "fz\n",
    "plot(fz)"
   ]
  },
  {
   "cell_type": "markdown",
   "metadata": {},
   "source": [
    "### 例9  \n",
    "$某保险公司提供一个险种，保险费Y和保险赔付X的概率密度分别为\\\\\n",
    "h(y)=\\begin{cases}{y\\over 25}e^{-{y\\over 5}}&y>0\\\\0&y\\le 0\\end{cases}\\ g(x)=\\begin{cases}{1\\over 5}e^{-{x\\over 5}}&x>0\\\\0&x\\le 0\\end{cases}\\\\\n",
    "设X与Y相互独立,求Z=Y/X的概率密度$"
   ]
  },
  {
   "cell_type": "code",
   "execution_count": null,
   "metadata": {
    "pycharm": {
     "name": "#%%\n"
    }
   },
   "outputs": [],
   "source": [
    "x,y,z = symbols('x y z')\n",
    "hy = Piecewise(((y/25)*exp(-(y/5)),y>0),(0,True)) \n",
    "gx = Piecewise(((1/5)*exp(-(x/5)),x>0),(0,True)) \n",
    "hy\n",
    "gx\n",
    "integrate(hy,(y,-oo,oo))\n",
    "integrate(gx,(x,-oo,oo))\n",
    "fxy = simplify(gx*hy)\n",
    "fxy"
   ]
  },
  {
   "cell_type": "code",
   "execution_count": null,
   "metadata": {
    "pycharm": {
     "name": "#%%\n"
    }
   },
   "outputs": [],
   "source": [
    "z1 = symbols('z',positive=True)\n",
    "fz_ = Integral(fxy.subs({y:(x*z),z:z1})*x,(x,0,oo))\n",
    "fz_\n",
    "fz_ = fz_.doit()\n",
    "fz_\n",
    "# fz = Piecewise((factor(fz_),z1>0),(0,True)) # 这么写不行，要换回z\n",
    "fz = Piecewise((factor(fz_.subs(z1,z)),z>0),(0,True)) # 最后结果\n",
    "fz\n",
    "plot(fz)"
   ]
  },
  {
   "cell_type": "markdown",
   "metadata": {},
   "source": [
    "### 例10  \n",
    "$设随机变量的概率密度为\\\\\n",
    "f(x,y)=\\begin{cases}x+y&0<x<1,0<y<1\\\\0&其它\\end{cases}\\\\\n",
    "求Z=XY的概率密度$"
   ]
  },
  {
   "cell_type": "code",
   "execution_count": null,
   "metadata": {
    "pycharm": {
     "name": "#%%\n"
    }
   },
   "outputs": [],
   "source": [
    "x,y,z = symbols('x y z')\n",
    "z1 = symbols('z',positive=True)\n",
    "z2 = symbols('z',negative=True)\n",
    "fxy = Piecewise((x+y,(x>0)&(x<1)&(y>0)&(y<1)),(0,True))\n",
    "# fxy = Piecewise((x+y,(x>0)&(x<1)&(y>0)&(y<1)&(z>0)&(z<x)),(0,True))\n",
    "fxy\n",
    "integrate(fxy,(x,-oo,oo),(y,-oo,oo))"
   ]
  },
  {
   "cell_type": "code",
   "execution_count": null,
   "metadata": {
    "pycharm": {
     "name": "#%%\n"
    }
   },
   "outputs": [],
   "source": [
    "# 条件太多，得不到正确的结果，重写\n",
    "# fxy.subs({y:(z/x),z:z1})\n",
    "# fz_ = Integral(fxy.subs({y:(z/x),z:z1})/x,(x,z1,1))\n",
    "# fz_ = Integral(fxy.subs({y:(z/x)}).subs(z,z1).subs(z1,z2+1).subs(z2,z-1)/x,(x,z,1))\n",
    "# fz_ = Integral(fxy.subs({y:(z/x)})/x,(x,z,1))\n",
    "# fz_ = Integral(fxy.subs({y:(z/x)}).subs(z,0.5)/x,(x,0.5,1))\n",
    "fz_ = Integral(fxy.subs({y:(z/x)}),(x,z,1))\n",
    "fz_\n",
    "fz_2 = fz_.doit()\n",
    "fz_2\n",
    "fz_2.subs(z,(z2+1)).subs(z2,z-1)\n",
    "\n",
    "# fz_\n",
    "# fz_ = simplify(fz_.doit())\n",
    "# fz_"
   ]
  },
  {
   "cell_type": "code",
   "execution_count": null,
   "metadata": {
    "pycharm": {
     "name": "#%%\n"
    }
   },
   "outputs": [],
   "source": [
    "# 重写\n",
    "fz_1 = Piecewise((1+z/x**2,(x>z)&(z>0)&(z<1)),(0,True))\n",
    "fz_1\n",
    "fz = Integral(fz_1,(x,z,1)).doit().subs(z,1+z2).subs(z2,z-1)# 最终结果\n",
    "fz\n",
    "fz.args[0]\n",
    "# 重写\n",
    "fz_2 = Piecewise((fz.args[0][0],(z>0)&(z<1)),(0,True)) # 最终结果\n",
    "fz_2\n",
    "# dir(fz)\n",
    "plot(fz_2,xlim=(-0.5,2),ylim=(-0.5,3))"
   ]
  },
  {
   "cell_type": "markdown",
   "metadata": {},
   "source": [
    "##### fz.args 重要属性\n",
    "fz.args\n"
   ]
  },
  {
   "cell_type": "markdown",
   "metadata": {},
   "source": [
    "### 1999年数学四第11题\n",
    "$设二维随机变量(X,Y)在矩形上服从均匀分布\\\\\n",
    "G=\\{(x,y)|0\\le x\\le 2,0\\le y\\le 1\\}\\\\\n",
    "试求边长为x和y的矩形面积S的概率密度f(s)$"
   ]
  },
  {
   "cell_type": "code",
   "execution_count": null,
   "metadata": {
    "pycharm": {
     "name": "#%%\n"
    }
   },
   "outputs": [],
   "source": [
    "# Z=XY\n",
    "x,y,z = symbols('x y z')\n",
    "z1 = symbols('z',positive=True)\n",
    "z2 = symbols('z',negative=True)\n",
    "fxy = Piecewise((1/2,(x>0)&(x<=2)&(y>=0)&(y<=1)),(0,True))\n",
    "fxy"
   ]
  },
  {
   "cell_type": "code",
   "execution_count": null,
   "metadata": {
    "pycharm": {
     "name": "#%%\n"
    }
   },
   "outputs": [],
   "source": [
    "fxz = Piecewise((1/2,(x>0)&(x<=2)&(z>0)&(z<x)&(z<2)),(0,True))\n",
    "fxz\n",
    "fz1 = Integral(fxz/x,(x,z,2))\n",
    "fz2 = fz1.doit().subs(z,z1).subs(z1,z2+2).subs(z2,z-2) \n",
    "# 重写\n",
    "fz2 = Piecewise((fz2, (z>0)&(z<2)),(0,True)) # 最终结果\n",
    "fz2\n",
    "# plot(fz2) # log打印不出来\n",
    "# 改用matplotlib打印\n",
    "x_1 = np.linspace(-1,5,100)\n",
    "z_1=[]\n",
    "for x1 in x_1:\n",
    "    z_1.append(fz2.subs(z,x1).evalf())\n",
    "#     if isinstance(fz2.subs(z,x1).evalf(), Add):\n",
    "#         z_1.append(0)\n",
    "#     else:\n",
    "#         z_1.append(fz2.subs(z,x1).evalf())\n",
    "# z_1\n",
    "plt.plot(x_1,z_1)\n",
    "integrate(fz2,(z,0,oo)).evalf()"
   ]
  },
  {
   "cell_type": "markdown",
   "metadata": {},
   "source": [
    "## Z=max{X,Y}与Z=min{X,Y}的分布  \n",
    "$F_{max}(z)=P\\{max\\{X,Y\\}\\le z\\}=P\\{X\\le z,Y\\le z\\}=P\\{X\\le z\\}P\\{Y\\le z\\}=F_X(z)F_Y(z)\\\\\n",
    "F_{min}(z)=P\\{min\\{X,Y\\}\\le z\\}=1-P\\{min\\{X,Y\\}>z\\}=1-P\\{X>z,y>z\\}=\\ 1-P\\{X>z\\}P\\{y>z\\}=\\ 1-[1-P\\{X\\le z\\}][1-P\\{Y\\le z\\}]=1-[1-F_X(z)][1-F_Y(z)]\n",
    "$  \n",
    "以上情况可以推广到n个相互独立的随机变量"
   ]
  },
  {
   "cell_type": "markdown",
   "metadata": {},
   "source": [
    "### 例11  \n",
    "$设随机变量X,Y的概率密度为\\\\\n",
    "f(x,y)=\\begin{cases}{e\\over e-1}e^{-(x+y)}&0<x<1,y>0\\\\0&其它\\end{cases}\\\\\n",
    "验证X与Y相互独立并求函数U=max\\{X,Y\\}的分布函数应该对应的概率密度$"
   ]
  },
  {
   "cell_type": "code",
   "execution_count": null,
   "metadata": {
    "pycharm": {
     "name": "#%%\n"
    }
   },
   "outputs": [],
   "source": [
    "x,y,z,u = symbols('x y z u')\n",
    "# z1 = symbols('z',positive=True)\n",
    "# z2 = symbols('z',negative=True)\n",
    "fxy = Piecewise(((E/(E-1))*exp(-x-y),(x>0)&(x<1)&(y>0)),(0,True))\n",
    "fxy\n",
    "integrate(fxy,(x,-oo,oo),(y,-oo,oo))"
   ]
  },
  {
   "cell_type": "code",
   "execution_count": null,
   "metadata": {
    "pycharm": {
     "name": "#%%\n"
    }
   },
   "outputs": [],
   "source": [
    "fx = Integral(fxy,(y,0,oo)).doit()\n",
    "fy = Integral(fxy,(x,0,1)).doit()\n",
    "fx\n",
    "fy\n",
    "simplify(fx)\n",
    "simplify(fy)\n",
    "# 说明独立性\n",
    "simplify(fx*fy) # 说明相互独立\n"
   ]
  },
  {
   "cell_type": "code",
   "execution_count": null,
   "metadata": {
    "pycharm": {
     "name": "#%%\n"
    }
   },
   "outputs": [],
   "source": [
    "x1 = symbols('x', negative=True)\n",
    "# Integral(fx, (x, 0, x)).doit()\n",
    "Fx = Integral(fx, (x, 0, x)).doit().subs(x, 1 + x1).subs(x1, x - 1)  # x有范围,要处理\n",
    "Fy = Integral(fy, (y, 0, y)).doit()\n",
    "simplify(Fx)\n",
    "Fy\n",
    "Fu = simplify(Fx.subs(x, z) * Fy.subs(y, z))\n",
    "Fu\n",
    "\n",
    "\"***\"\n",
    "# 在积分过后可能要做一下简单的重写处理\n",
    "# 重写Fx,Fy\n",
    "Fx_ = Piecewise((Fx.args[1][0], (x > 0) & (x < 1)), (1, x >= 1),\n",
    "                (0, x <= 0)).subs(x, z)\n",
    "Fy_ = Piecewise((Fy.args[1][0], (y > 0)), (0, y <= 0)).subs(y, z)\n",
    "simplify(Fx_)\n",
    "Fy_\n",
    "\n",
    "Fu_ = simplify(Fx_ * Fy_)  # 最终结果\n",
    "Fu_\n",
    "fu_ = simplify(diff(Fu_, z))  # 最终结果\n",
    "fu_\n",
    "plot(Fu_)\n",
    "plot(fu_)"
   ]
  },
  {
   "cell_type": "markdown",
   "metadata": {},
   "source": [
    "### 例12  \n",
    "$设二维随机变量(X,Y)的分布律为 \\\\\n",
    "\\begin{array}{c|cccccc}\n",
    "YX & 0 & 1 & 2 & 3 & 4 & 5\\\\\n",
    "\\hline\n",
    "0 & 0.00 & 0.01 & 0.03 & 0.05 & 0.07 & 0.09 \\\\\n",
    "1 & 0.01 & 0.02 & 0.04 & 0.05 & 0.06 & 0.08\\\\\n",
    "2 & 0.01 & 0.03 & 0.05 & 0.05 & 0.05 & 0.06\\\\\n",
    "3 & 0.01 & 0.02 & 0.04 & 0.06 & 0.06 & 0.05\\\\\n",
    "\\end{array}\\\\\n",
    "求V=max\\{X,Y\\}和U=min\\{X,Y\\}的分布律$"
   ]
  },
  {
   "cell_type": "code",
   "execution_count": null,
   "metadata": {
    "pycharm": {
     "name": "#%%\n"
    }
   },
   "outputs": [],
   "source": [
    "np.set_printoptions(threshold=np.inf, precision=2, suppress=True)\n",
    "arr1 = np.array([[0.00, 0.01, 0.03, 0.05, 0.07, 0.09],\n",
    "                 [0.01, 0.02, 0.04, 0.05, 0.06, 0.08],\n",
    "                 [0.01, 0.03, 0.05, 0.05, 0.05, 0.06],\n",
    "                 [0.01, 0.02, 0.04, 0.06, 0.06, 0.05]])\n",
    "V1={}\n",
    "U1={}\n",
    "# V1[0]=1\n",
    "for i in range(4):\n",
    "    for j in range(6):\n",
    "        if max(i,j) in V1.keys():\n",
    "            V1[max(i,j)]+=arr1[i,j]\n",
    "        else:\n",
    "            V1[max(i,j)]=arr1[i,j]\n",
    "        if min(i,j) in U1.keys():\n",
    "            U1[min(i,j)]+=arr1[i,j]\n",
    "        else:\n",
    "            U1[min(i,j)]=arr1[i,j]\n",
    "\n",
    "df_v= pd.DataFrame(data=V1.values(),index=V1.keys(),columns=['p']).T\n",
    "df_v\n",
    "\n",
    "df_u= pd.DataFrame(data=U1.values(),index=U1.keys(),columns=['p']).T\n",
    "df_u\n",
    "df_v.iloc[0,:].sum()\n",
    "df_u.iloc[0,:].sum()"
   ]
  },
  {
   "cell_type": "code",
   "execution_count": null,
   "metadata": {
    "pycharm": {
     "name": "#%%\n"
    }
   },
   "outputs": [],
   "source": []
  },
  {
   "cell_type": "markdown",
   "metadata": {},
   "source": [
    "### 2012年数学三第23题    \n",
    "$设随机变量X与Y相互独立，且都服从参数为1的指数分布，求V=min\\{X,Y\\}的概率密度$  "
   ]
  },
  {
   "cell_type": "code",
   "execution_count": null,
   "metadata": {
    "pycharm": {
     "name": "#%%\n"
    }
   },
   "outputs": [],
   "source": [
    "x,y,z,v = symbols('x y z v')\n",
    "fx = Piecewise((exp(-x),x>0),(0,True))\n",
    "fy = Piecewise((exp(-y),y>0),(0,True))\n",
    "fx\n",
    "fy\n",
    "Fx = Integral(fx,(x,0,x)).doit()\n",
    "Fy = Integral(fy,(y,0,y)).doit()\n",
    "Fx\n",
    "Fy"
   ]
  },
  {
   "cell_type": "code",
   "execution_count": null,
   "metadata": {
    "pycharm": {
     "name": "#%%\n"
    }
   },
   "outputs": [],
   "source": [
    "Fv = 1-(1-Fx.subs(x,v))*(1-Fy.subs(y,v))\n",
    "Fv = simplify(Fv) # 最终结果\n",
    "Fv\n",
    "fv = diff(Fv,v)# 最终结果\n",
    "fv\n",
    "plot(fv)"
   ]
  },
  {
   "cell_type": "code",
   "execution_count": null,
   "metadata": {
    "pycharm": {
     "name": "#%%\n"
    }
   },
   "outputs": [],
   "source": [
    "\n"
   ]
  }
 ],
 "metadata": {
  "kernelspec": {
   "display_name": "Python 3",
   "language": "python",
   "name": "python3"
  },
  "language_info": {
   "codemirror_mode": {
    "name": "ipython",
    "version": 3
   },
   "file_extension": ".py",
   "mimetype": "text/x-python",
   "name": "python",
   "nbconvert_exporter": "python",
   "pygments_lexer": "ipython3",
   "version": "3.8.5"
  },
  "pycharm": {
   "stem_cell": {
    "cell_type": "raw",
    "metadata": {
     "collapsed": false
    },
    "source": []
   }
  },
  "toc": {
   "base_numbering": 1,
   "nav_menu": {},
   "number_sections": true,
   "sideBar": true,
   "skip_h1_title": false,
   "title_cell": "Table of Contents",
   "title_sidebar": "Contents",
   "toc_cell": false,
   "toc_position": {
    "height": "calc(100% - 180px)",
    "left": "10px",
    "top": "150px",
    "width": "219.573px"
   },
   "toc_section_display": true,
   "toc_window_display": true
  }
 },
 "nbformat": 4,
 "nbformat_minor": 2
}
