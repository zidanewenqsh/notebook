{
 "cells": [
  {
   "cell_type": "markdown",
   "metadata": {},
   "source": [
    "## 导包"
   ]
  },
  {
   "cell_type": "code",
   "execution_count": 1,
   "metadata": {},
   "outputs": [],
   "source": [
    "from IPython.core.interactiveshell import InteractiveShell \n",
    "InteractiveShell.ast_node_interactivity = 'all' #默认为'last'\n",
    "\n",
    "import numpy as np\n",
    "import pandas as pd\n",
    "import os\n",
    "import sympy \n",
    "from sympy import *\n",
    "# from scipy import stats\n",
    "# from sympy.abc import *\n",
    "# from sympy import gamma\n",
    "from matplotlib import pyplot as plt\n",
    "%matplotlib inline\n",
    "plt.rcParams['font.sans-serif']=['SimHei'] #指定默认字体 SimHei为黑体\n",
    "plt.rcParams['axes.unicode_minus']=False #用来正常显示负号\n",
    "sympy.init_printing(use_latex=True)\n",
    "x, y, z = symbols('x y z',real=True)"
   ]
  },
  {
   "cell_type": "markdown",
   "metadata": {},
   "source": [
    "# 第六章 样本及抽样分布"
   ]
  },
  {
   "cell_type": "markdown",
   "metadata": {},
   "source": [
    "### [exercises](Exercise_6.ipynb)"
   ]
  },
  {
   "cell_type": "markdown",
   "metadata": {},
   "source": [
    "## 随机样本"
   ]
  },
  {
   "cell_type": "markdown",
   "metadata": {},
   "source": [
    "## 直方图和箱线图"
   ]
  },
  {
   "cell_type": "markdown",
   "metadata": {},
   "source": [
    "## 抽样分布"
   ]
  },
  {
   "cell_type": "markdown",
   "metadata": {},
   "source": [
    "### 卡方分布(chi-square distribution)\n",
    "$定义1:\\chi^2分布\\\\\n",
    "设X_1,...X_n是来自总体N(0,1)的样本，即X_1,...X_n相互独立且都服从标准正态分布，\\\\\n",
    "则称统计量\\chi^2=X_1^2+...+X_n^2，服从自由度为n的\\chi^2分布\\\\\n",
    "记为\\chi^2\\sim\\chi^2(n)$  \n",
    "***\n",
    "$\\chi^2(n)分布的概率密度为\\\\\n",
    "f_n(x)=\\begin{cases}\\frac{1}{2^{\\frac{n}{2}}\\Gamma(\\frac{n}{2})}x^{\\frac{n}{2}-1}e^{-\\frac{x}{2}},&x>0\\\\\n",
    "0,& x\\le 0\\end{cases}$  \n",
    "***\n",
    "$\\Gamma(\\alpha,\\theta)分布概率密度\\Gamma(\\alpha,\\theta)\\\\\n",
    "\\begin{cases} \\frac{1}{\\theta^{\\alpha} \\Gamma\\left(\\alpha\\right)}x^{\\alpha - 1} e^{- \\frac{x}{\\theta}}, & x > 0 \\\\0, & x \\le 0 \\end{cases}$\n"
   ]
  },
  {
   "cell_type": "code",
   "execution_count": 10,
   "metadata": {},
   "outputs": [
    {
     "data": {
      "image/png": "[encoded data removed]",
      "text/latex": [
       "$\\displaystyle \\frac{2^{- \\frac{n}{2}} x^{\\frac{n}{2} - 1} e^{- \\frac{x}{2}}}{\\Gamma\\left(\\frac{n}{2}\\right)}$"
      ],
      "text/plain": [
       " -n   n      -x \n",
       " ───  ─ - 1  ───\n",
       "  2   2       2 \n",
       "2   ⋅x     ⋅ℯ   \n",
       "────────────────\n",
       "       ⎛n⎞      \n",
       "      Γ⎜─⎟      \n",
       "       ⎝2⎠      "
      ]
     },
     "execution_count": 10,
     "metadata": {},
     "output_type": "execute_result"
    },
    {
     "data": {
      "text/latex": [
       "$\\displaystyle \\begin{cases} \\frac{2^{- \\frac{n}{2}} x^{\\frac{n}{2} - 1} e^{- \\frac{x}{2}}}{\\Gamma\\left(\\frac{n}{2}\\right)} & \\text{for}\\: x > 0 \\\\0 & \\text{otherwise} \\end{cases}$"
      ],
      "text/plain": [
       "⎧ -n   n      -x            \n",
       "⎪ ───  ─ - 1  ───           \n",
       "⎪  2   2       2            \n",
       "⎪2   ⋅x     ⋅ℯ              \n",
       "⎪────────────────  for x > 0\n",
       "⎨       ⎛n⎞                 \n",
       "⎪      Γ⎜─⎟                 \n",
       "⎪       ⎝2⎠                 \n",
       "⎪                           \n",
       "⎪       0          otherwise\n",
       "⎩                           "
      ]
     },
     "execution_count": 10,
     "metadata": {},
     "output_type": "execute_result"
    },
    {
     "data": {
      "image/png": "[encoded data removed]",
      "text/latex": [
       "$\\displaystyle 1$"
      ],
      "text/plain": [
       "1"
      ]
     },
     "execution_count": 10,
     "metadata": {},
     "output_type": "execute_result"
    },
    {
     "name": "stdout",
     "output_type": "stream",
     "text": [
      "\\begin{cases} \\frac{2^{- \\frac{n}{2}} x^{\\frac{n}{2} - 1} e^{- \\frac{x}{2}}}{\\Gamma\\left(\\frac{n}{2}\\right)} & \\text{for}\\: x > 0 \\\\0 & \\text{otherwise} \\end{cases}\n"
     ]
    }
   ],
   "source": [
    "x,y,z=symbols('x y z',real=True)\n",
    "n = symbols('n',positive=True,integer=True)\n",
    "n1 = n/2\n",
    "f_nx_ = (1/(2**(n1)*gamma(n1))*x**(n1-1)*exp(-x/2))\n",
    "f_nx_\n",
    "f_nx = Piecewise((f_nx_,x>0),(0,True))\n",
    "f_nx\n",
    "Integral(f_nx.subs(n,10),(x,0,oo)).doit()\n",
    "print_latex(f_nx)"
   ]
  },
  {
   "cell_type": "code",
   "execution_count": 66,
   "metadata": {},
   "outputs": [
    {
     "data": {
      "image/png": "[encoded data removed]",
      "text/latex": [
       "$\\displaystyle \\frac{\\theta^{- \\alpha} x^{\\alpha - 1} e^{- \\frac{x}{\\theta}}}{\\Gamma\\left(\\alpha\\right)}$"
      ],
      "text/plain": [
       "            -x \n",
       "            ───\n",
       " -α  α - 1   θ \n",
       "θ  ⋅x     ⋅ℯ   \n",
       "───────────────\n",
       "      Γ(α)     "
      ]
     },
     "execution_count": 66,
     "metadata": {},
     "output_type": "execute_result"
    },
    {
     "data": {
      "text/latex": [
       "$\\displaystyle \\begin{cases} \\frac{\\theta^{- \\alpha} x^{\\alpha - 1} e^{- \\frac{x}{\\theta}}}{\\Gamma\\left(\\alpha\\right)} & \\text{for}\\: x > 0 \\\\0 & \\text{otherwise} \\end{cases}$"
      ],
      "text/plain": [
       "⎧            -x            \n",
       "⎪            ───           \n",
       "⎪ -α  α - 1   θ            \n",
       "⎪θ  ⋅x     ⋅ℯ              \n",
       "⎨───────────────  for x > 0\n",
       "⎪      Γ(α)                \n",
       "⎪                          \n",
       "⎪       0         otherwise\n",
       "⎩                          "
      ]
     },
     "execution_count": 66,
     "metadata": {},
     "output_type": "execute_result"
    },
    {
     "name": "stdout",
     "output_type": "stream",
     "text": [
      "\\begin{cases} \\frac{\\theta^{- \\alpha} x^{\\alpha - 1} e^{- \\frac{x}{\\theta}}}{\\Gamma\\left(\\alpha\\right)} & \\text{for}\\: x > 0 \\\\0 & \\text{otherwise} \\end{cases}\n"
     ]
    }
   ],
   "source": [
    "x,y,z=symbols('x y z',real=True)\n",
    "alpha, theta= symbols('alpha,theta')\n",
    "n = symbols('n',positive=True,integer=True)\n",
    "n1 = n/2\n",
    "f_nx_ = (1/(theta**(alpha)*gamma(alpha))*x**(alpha-1)*exp(-x/theta))\n",
    "f_nx_\n",
    "f_nx = Piecewise((f_nx_,x>0),(0,True))\n",
    "f_nx\n",
    "# Integral(f_nx.subs(n,10),(x,0,oo)).doit()\n",
    "print_latex(f_nx)"
   ]
  },
  {
   "cell_type": "code",
   "execution_count": 47,
   "metadata": {},
   "outputs": [
    {
     "data": {
      "text/plain": [
       "[<matplotlib.lines.Line2D at 0x200de5b6cc8>]"
      ]
     },
     "execution_count": 47,
     "metadata": {},
     "output_type": "execute_result"
    },
    {
     "data": {
      "image/png": "[encoded data removed]",
      "text/latex": [
       "$\\displaystyle \\left( -0.01, \\  10\\right)$"
      ],
      "text/plain": [
       "(-0.01, 10)"
      ]
     },
     "execution_count": 47,
     "metadata": {},
     "output_type": "execute_result"
    },
    {
     "data": {
      "image/png": "[encoded data removed]",
      "text/latex": [
       "$\\displaystyle \\left( 0, \\  0.5\\right)$"
      ],
      "text/plain": [
       "(0, 0.5)"
      ]
     },
     "execution_count": 47,
     "metadata": {},
     "output_type": "execute_result"
    },
    {
     "data": {
      "text/plain": [
       "<matplotlib.legend.Legend at 0x200de67a448>"
      ]
     },
     "execution_count": 47,
     "metadata": {},
     "output_type": "execute_result"
    },
    {
     "data": {
      "text/plain": [
       "[<matplotlib.lines.Line2D at 0x200de090108>]"
      ]
     },
     "execution_count": 47,
     "metadata": {},
     "output_type": "execute_result"
    },
    {
     "data": {
      "image/png": "[encoded data removed]",
      "text/latex": [
       "$\\displaystyle \\left( -0.01, \\  10\\right)$"
      ],
      "text/plain": [
       "(-0.01, 10)"
      ]
     },
     "execution_count": 47,
     "metadata": {},
     "output_type": "execute_result"
    },
    {
     "data": {
      "image/png": "[encoded data removed]",
      "text/latex": [
       "$\\displaystyle \\left( 0, \\  0.5\\right)$"
      ],
      "text/plain": [
       "(0, 0.5)"
      ]
     },
     "execution_count": 47,
     "metadata": {},
     "output_type": "execute_result"
    },
    {
     "data": {
      "text/plain": [
       "<matplotlib.legend.Legend at 0x200ddd1fbc8>"
      ]
     },
     "execution_count": 47,
     "metadata": {},
     "output_type": "execute_result"
    },
    {
     "data": {
      "text/plain": [
       "[<matplotlib.lines.Line2D at 0x200ddfc8948>]"
      ]
     },
     "execution_count": 47,
     "metadata": {},
     "output_type": "execute_result"
    },
    {
     "data": {
      "image/png": "[encoded data removed]",
      "text/latex": [
       "$\\displaystyle \\left( -0.01, \\  10\\right)$"
      ],
      "text/plain": [
       "(-0.01, 10)"
      ]
     },
     "execution_count": 47,
     "metadata": {},
     "output_type": "execute_result"
    },
    {
     "data": {
      "image/png": "[encoded data removed]",
      "text/latex": [
       "$\\displaystyle \\left( 0, \\  0.5\\right)$"
      ],
      "text/plain": [
       "(0, 0.5)"
      ]
     },
     "execution_count": 47,
     "metadata": {},
     "output_type": "execute_result"
    },
    {
     "data": {
      "text/plain": [
       "<matplotlib.legend.Legend at 0x200df6e0c88>"
      ]
     },
     "execution_count": 47,
     "metadata": {},
     "output_type": "execute_result"
    },
    {
     "data": {
      "text/plain": [
       "[<matplotlib.lines.Line2D at 0x200df6c1288>]"
      ]
     },
     "execution_count": 47,
     "metadata": {},
     "output_type": "execute_result"
    },
    {
     "data": {
      "image/png": "[encoded data removed]",
      "text/latex": [
       "$\\displaystyle \\left( -0.01, \\  10\\right)$"
      ],
      "text/plain": [
       "(-0.01, 10)"
      ]
     },
     "execution_count": 47,
     "metadata": {},
     "output_type": "execute_result"
    },
    {
     "data": {
      "image/png": "[encoded data removed]",
      "text/latex": [
       "$\\displaystyle \\left( 0, \\  0.5\\right)$"
      ],
      "text/plain": [
       "(0, 0.5)"
      ]
     },
     "execution_count": 47,
     "metadata": {},
     "output_type": "execute_result"
    },
    {
     "data": {
      "text/plain": [
       "<matplotlib.legend.Legend at 0x200ddcf6688>"
      ]
     },
     "execution_count": 47,
     "metadata": {},
     "output_type": "execute_result"
    },
    {
     "data": {
      "image/png": "[encoded data removed]",
      "text/plain": [
       "<Figure size 432x288 with 1 Axes>"
      ]
     },
     "metadata": {
      "needs_background": "light"
     },
     "output_type": "display_data"
    }
   ],
   "source": [
    "x1 = np.linspace(0.01,10,100)\n",
    "for i in range(1,12,3):\n",
    "    f1 = lambdify(x,f_nx_.subs({x:x1,n:i}))\n",
    "    y1 = f1(x1)\n",
    "    plt.plot(x1,y1,label=i)\n",
    "    plt.xlim(-0.01,10)\n",
    "    plt.ylim(0,0.5)\n",
    "    plt.legend()"
   ]
  },
  {
   "cell_type": "code",
   "execution_count": 85,
   "metadata": {},
   "outputs": [
    {
     "data": {
      "text/plain": [
       "[<matplotlib.lines.Line2D at 0x200e88b7d88>]"
      ]
     },
     "execution_count": 85,
     "metadata": {},
     "output_type": "execute_result"
    },
    {
     "data": {
      "text/plain": [
       "[<matplotlib.lines.Line2D at 0x200e88d7508>]"
      ]
     },
     "execution_count": 85,
     "metadata": {},
     "output_type": "execute_result"
    },
    {
     "data": {
      "image/png": "[encoded data removed]",
      "text/latex": [
       "$\\displaystyle 4.999999999998986$"
      ],
      "text/plain": [
       "4.999999999998986"
      ]
     },
     "execution_count": 85,
     "metadata": {},
     "output_type": "execute_result"
    },
    {
     "data": {
      "image/png": "[encoded data removed]",
      "text/latex": [
       "$\\displaystyle 10.0$"
      ],
      "text/plain": [
       "10.0"
      ]
     },
     "execution_count": 85,
     "metadata": {},
     "output_type": "execute_result"
    },
    {
     "data": {
      "image/png": "[encoded data removed]",
      "text/latex": [
       "$\\displaystyle 3.1622776601683795$"
      ],
      "text/plain": [
       "3.1622776601683795"
      ]
     },
     "execution_count": 85,
     "metadata": {},
     "output_type": "execute_result"
    },
    {
     "data": {
      "image/png": "[encoded data removed]",
      "text/latex": [
       "$\\displaystyle 11.070497693516351$"
      ],
      "text/plain": [
       "11.070497693516351"
      ]
     },
     "execution_count": 85,
     "metadata": {},
     "output_type": "execute_result"
    },
    {
     "data": {
      "image/png": "[encoded data removed]",
      "text/plain": [
       "<Figure size 432x288 with 1 Axes>"
      ]
     },
     "metadata": {
      "needs_background": "light"
     },
     "output_type": "display_data"
    }
   ],
   "source": [
    "from scipy.stats import chi2\n",
    "# Set up the sample range\n",
    "x_chi2 = np.linspace(-1,10,100)\n",
    "# Here set up the parameters for the normal distribution,\n",
    "# where loc is the mean and scale is the standard deviation.\n",
    "dist_chi2 = chi2(df=5)\n",
    "# Retrieving norm's PDF and CDF\n",
    "pdf_chi2 = dist_chi2.pdf(x_chi2) # 概率密度\n",
    "cdf_chi2 = dist_chi2.cdf(x_chi2) # 分布函数\n",
    "# pdf_chi2 = chi2.pdf(x_chi2,df=4)\n",
    "# pdf_chi2\n",
    "# cdf_chi2\n",
    "# # Here we draw out 500 random values from the norm.\n",
    "sample = dist_chi2.rvs(500)\n",
    "# # sample\n",
    "plt.plot(x_chi2, pdf_chi2)\n",
    "plt.plot(x_chi2, cdf_chi2)\n",
    "dist_chi2.expect() # 期望n\n",
    "dist_chi2.var() # 方差np\n",
    "dist_chi2.std() # 标准差\n",
    "dist_chi2.ppf(0.95) # 下alpha分位点"
   ]
  },
  {
   "cell_type": "code",
   "execution_count": 96,
   "metadata": {},
   "outputs": [
    {
     "name": "stdout",
     "output_type": "stream",
     "text": [
      "P(X<=3)=0.4421745996289252\n",
      "P(2<X<=8)=0.9084218055563291\n"
     ]
    },
    {
     "data": {
      "image/png": "[encoded data removed]",
      "text/latex": [
       "$\\displaystyle 0.2642411176571153$"
      ],
      "text/plain": [
       "0.2642411176571153"
      ]
     },
     "execution_count": 96,
     "metadata": {},
     "output_type": "execute_result"
    },
    {
     "data": {
      "image/png": "[encoded data removed]",
      "text/latex": [
       "$\\displaystyle 0.8008517265285442$"
      ],
      "text/plain": [
       "0.8008517265285442"
      ]
     },
     "execution_count": 96,
     "metadata": {},
     "output_type": "execute_result"
    },
    {
     "data": {
      "image/png": "[encoded data removed]",
      "text/latex": [
       "$\\displaystyle 0.9084218055563291$"
      ],
      "text/plain": [
       "0.9084218055563291"
      ]
     },
     "execution_count": 96,
     "metadata": {},
     "output_type": "execute_result"
    },
    {
     "data": {
      "image/png": "[encoded data removed]",
      "text/latex": [
       "$\\displaystyle 0.9167354833364496$"
      ],
      "text/plain": [
       "0.9167354833364496"
      ]
     },
     "execution_count": 96,
     "metadata": {},
     "output_type": "execute_result"
    },
    {
     "data": {
      "image/png": "[encoded data removed]",
      "text/latex": [
       "$\\displaystyle 0.6083748237289109$"
      ],
      "text/plain": [
       "0.6083748237289109"
      ]
     },
     "execution_count": 96,
     "metadata": {},
     "output_type": "execute_result"
    },
    {
     "data": {
      "image/png": "[encoded data removed]",
      "text/latex": [
       "$\\displaystyle 0.4421745996289252$"
      ],
      "text/plain": [
       "0.4421745996289252"
      ]
     },
     "execution_count": 96,
     "metadata": {},
     "output_type": "execute_result"
    },
    {
     "data": {
      "image/png": "[encoded data removed]",
      "text/latex": [
       "$\\displaystyle \\left( 34.38158701755296, \\  16.473407998673377\\right)$"
      ],
      "text/plain": [
       "(34.38158701755296, 16.473407998673377)"
      ]
     },
     "execution_count": 96,
     "metadata": {},
     "output_type": "execute_result"
    }
   ],
   "source": [
    "from scipy.stats import chi2\n",
    "#X<=3的概率密度之和\n",
    "print(\"P(X<=3)={}\".format(chi2.cdf(x=3,df=4)))\n",
    "#2<X<=8的概率密度之和\n",
    "print(\"P(2<X<=8)={}\".format(chi2.cdf(x=8,df=4)))\n",
    "chi2.cdf(x=2,df=4)\n",
    "chi2.cdf(x=6,df=4)\n",
    "chi2.cdf(x=8,df=4)\n",
    "chi2.cdf(x=3,df=1)\n",
    "chi2.cdf(x=3,df=3)\n",
    "chi2.cdf(x=3,df=4)\n",
    "a1 = chi2.ppf(q=0.9,df=25)\n",
    "a2 = chi2.ppf(q=0.1,df=25)\n",
    "a1,a2"
   ]
  },
  {
   "cell_type": "markdown",
   "metadata": {},
   "source": [
    "#### 卡方分布的分位点\n",
    "$对于一个数\\alpha(0<\\alpha<1),对于一个数c，\\\\\n",
    "使得概率P\\{\\chi^2>c\\}=\\alpha \\\\\n",
    "这个点c称为\\chi^2(n)分布的上\\alpha分位点，记为\\chi^2_{\\alpha}(n)\\\\\n",
    "即\\alpha=P\\{\\chi^2>\\chi^2_{\\alpha}(n)\\}=\\int_{\\chi^2_{\\alpha}}^{+\\infty}f_n(x)dx$"
   ]
  },
  {
   "cell_type": "markdown",
   "metadata": {},
   "source": [
    "### t分布  \n",
    "$定义2:t分布\\\\\n",
    "设X\\sim N(0,1),Y\\sim \\chi^2(n)，且X,Y相互独立，\\\\\n",
    "则称随机变量t=\\frac{X}{\\sqrt{Y/n}}\\sim t(n)，服从自由度为n的t分布(学生氏分布)$ \n",
    "***\n",
    "$t分布的概率密度为\\\\\n",
    "f(x)=\\frac{\\Gamma[(n+1)/2]}{\\sqrt{\\pi n}\\Gamma(n/2)}(1+\\frac{t^2}{n})^{-\\frac{(n+1)}{2}}\n",
    "$\n",
    "***\n",
    "$t分布的典型模式\\\\\n",
    "设X\\sim N(0,1)，Y\\sim \\chi^2(n)，且X,Y相互独立，则\\frac{X}{\\sqrt{Y/n}}\\sim t(n) \\\\\n",
    "t分布的应用模式\\\\\n",
    "设X,Y_1,...Y_n相互独立且都服从N(0,1),则\\frac{X}{\\sqrt{\\frac{Y_1^2+...+Y_n^2}{n}}}\\sim t(n)\n",
    "$"
   ]
  },
  {
   "cell_type": "code",
   "execution_count": 111,
   "metadata": {},
   "outputs": [
    {
     "data": {
      "image/png": "[encoded data removed]",
      "text/latex": [
       "$\\displaystyle 0.8353717114141455$"
      ],
      "text/plain": [
       "0.8353717114141455"
      ]
     },
     "execution_count": 111,
     "metadata": {},
     "output_type": "execute_result"
    }
   ],
   "source": [
    "from scipy.stats import t as td\n",
    "td.cdf(x=1,df=20)"
   ]
  },
  {
   "cell_type": "code",
   "execution_count": 125,
   "metadata": {},
   "outputs": [
    {
     "data": {
      "image/png": "[encoded data removed]",
      "text/latex": [
       "$\\displaystyle 6.976003623003317e-17$"
      ],
      "text/plain": [
       "6.976003623003317e-17"
      ]
     },
     "execution_count": 125,
     "metadata": {},
     "output_type": "execute_result"
    }
   ],
   "source": [
    "td.ppf(q=0.5,df=5)"
   ]
  },
  {
   "cell_type": "markdown",
   "metadata": {},
   "source": []
  },
  {
   "cell_type": "code",
   "execution_count": null,
   "metadata": {},
   "outputs": [],
   "source": []
  },
  {
   "cell_type": "code",
   "execution_count": null,
   "metadata": {},
   "outputs": [],
   "source": []
  },
  {
   "cell_type": "markdown",
   "metadata": {},
   "source": [
    "### F分布  \n",
    "$定义3:F分布\\\\\n",
    "设U\\sim \\chi^2(n_1),V\\sim \\chi^2(n_2)，且U,V相互独立，\\\\\n",
    "则称随机变量F=\\frac{U/n_1}{V/n_2}\\sim t(n)，服从自由度为(n_1,n2)的F分布$  \n",
    "***\n",
    "$F分布的概率密度为\\\\\n",
    "f_n(x)=\\begin{cases}\\frac{\\Gamma[(n_1+n_2)/2](n_1/n_2)^{n_1/2}x^{(n_1/2)-1}}{\\Gamma(n_1/2)\\Gamma(n_2/2)[1+(n_1x/n_2)]^{(n_1+n_2)/2}} \\\\\n",
    "0,& x\\le 0\\end{cases}  \n",
    "$"
   ]
  },
  {
   "cell_type": "code",
   "execution_count": 112,
   "metadata": {},
   "outputs": [
    {
     "data": {
      "image/png": "[encoded data removed]",
      "text/latex": [
       "$\\displaystyle 0.4755004684328913$"
      ],
      "text/plain": [
       "0.4755004684328913"
      ]
     },
     "execution_count": 112,
     "metadata": {},
     "output_type": "execute_result"
    }
   ],
   "source": [
    "from scipy.stats import f as fd\n",
    "fd.cdf(1,20,dfd=10)"
   ]
  },
  {
   "cell_type": "markdown",
   "metadata": {},
   "source": [
    "$F_{1-\\alpha}(n_1,n_2)=\\frac{1}{F_{\\alpha}(n_2,n_1)}$"
   ]
  },
  {
   "cell_type": "code",
   "execution_count": 128,
   "metadata": {},
   "outputs": [
    {
     "data": {
      "image/png": "[encoded data removed]",
      "text/latex": [
       "$\\displaystyle 3.938057988395037$"
      ],
      "text/plain": [
       "3.938057988395037"
      ]
     },
     "execution_count": 128,
     "metadata": {},
     "output_type": "execute_result"
    },
    {
     "data": {
      "image/png": "[encoded data removed]",
      "text/latex": [
       "$\\displaystyle 3.9380579883950366$"
      ],
      "text/plain": [
       "3.9380579883950366"
      ]
     },
     "execution_count": 128,
     "metadata": {},
     "output_type": "execute_result"
    }
   ],
   "source": [
    "fd.ppf(q=0.95,dfn=15,dfd=6)\n",
    "1/fd.ppf(q=0.05,dfn=6,dfd=15)"
   ]
  },
  {
   "cell_type": "markdown",
   "metadata": {},
   "source": [
    "### 正态总体的样本均值和样本方差的分布  \n",
    "$设有总体X(不管服从什么分布，只要数学期望E(X)和方差D(X)都存在)。\\\\\n",
    "设数学期望(均值)E(X)=\\mu，方差D(X)=\\sigma^2。X_1,X_2,...X_n是来自总体X的一个样本,样本均值和样本方差分别为\\\\\n",
    "\\bar{X}=\\frac{1}{n}\\sum_{i=1}^{n}X_i,\\ S^2=\\frac{1}{n-1}\\sum_{i=1}^{n}(X_i-\\bar{X})^2=\\frac{1}{n-1}(\\sum_{i=1}^{n}X_i^2-n\\bar{X}^2)$"
   ]
  },
  {
   "cell_type": "markdown",
   "metadata": {},
   "source": [
    "#### 命题1  \n",
    "$设有总体，设其数学期望E(X)=\\mu，X_1,X_2,...X_n是来自总体X的一个样本，则\\\\\n",
    "(1)\\ E(\\bar{X})=\\mu=E(X)\\\\\n",
    "(2)\\ D(\\bar{X})=\\frac{\\sigma^2}{n}=\\frac{D(X)}{n}\\\\\n",
    "(3)\\ E(S^2)=\\sigma^2=D(X)$"
   ]
  },
  {
   "cell_type": "markdown",
   "metadata": {},
   "source": [
    "#### 定理一(正态总体的样本均值的分布)\n",
    "$X_1,X_2,...X_n是来自正态总体N(\\mu,\\sigma^2)的一个样本，则\\\\\n",
    "\\bar{X}\\sim N(\\mu,\\frac{\\sigma^2}{n})\\\\\n",
    "标准化后，得：\\frac{\\bar{X}-\\mu}{\\sigma/\\sqrt{n}}\\sim N(0,1)\\\\\n",
    "当n较大时，样本均值比总体更加集中在\\mu附近$"
   ]
  },
  {
   "cell_type": "markdown",
   "metadata": {},
   "source": [
    "#### 定理二(正态总体的样本方差的分布)\n",
    "$X_1,X_2,...X_n是来自正态总体N(\\mu,\\sigma^2)的一个样本，则\\\\\n",
    "(1)\\ \\frac{(n-1)S^2}{\\sigma^2}\\sim \\chi^2(n-1)\\\\\n",
    "(2)\\ \\bar{X}与S^2相互独立\\\\\n",
    "几个等价写法\\\\\n",
    "\\frac{1}{\\sigma^2}\\sum_{i=1}^{n}(X_i-\\bar{X})^2\\sim \\chi^2(n-1)\\\\\n",
    "\\sum_{i=1}^{n}(\\frac{X_i-\\bar{X}}{\\sigma})^2\\sim \\chi^2(n-1)$"
   ]
  },
  {
   "cell_type": "markdown",
   "metadata": {},
   "source": [
    "#### 定理三(正态总体的样本均值与样本方差的分布)\n",
    "$X_1,X_2,...X_n是来自正态总体N(\\mu,\\sigma^2)的一个样本，则\\\\\n",
    "\\frac{\\bar{X}-\\mu}{S/\\sqrt{n}}\\sim t(n-1)$"
   ]
  },
  {
   "cell_type": "markdown",
   "metadata": {},
   "source": [
    "### 两个正态总体的样本均值与样本方差的分布   \n"
   ]
  },
  {
   "cell_type": "markdown",
   "metadata": {},
   "source": [
    "#### 命题\n",
    "$设X_1,X_2,...X_n和Y_1,Y_2,...Y_n是来自正态总体N(\\mu_1,\\sigma_1^2)和N(\\mu_1,\\sigma_1^2)的样本，且这两个样本相互独立，则\\\\\n",
    "\\frac{\\frac{1}{n_1\\sigma_1^2}\\sum_{i=1}^{n_1}(X_i-\\mu_1)^2}{\\frac{1}{n_2\\sigma_2^2}\\sum_{i=1}^{n_1}(Y_i-\\mu_2)^2}\\sim F(n_1,n_2)$"
   ]
  },
  {
   "cell_type": "markdown",
   "metadata": {},
   "source": [
    "#### 定理四(两个正态总体的样本均值与样本方差的分布 )\n",
    "$设X_1,X_2,...X_n和Y_1,Y_2,...Y_n是来自正态总体N(\\mu_1,\\sigma_1^2)和N(\\mu_1,\\sigma_1^2)的样本，且这两个样本相互独立，则有\\\\\n",
    "(1)\\ \\frac{S_1^2/\\sigma_1^2}{S_2^2/\\sigma_2^2}\\sim F(n_1-1,n_2-1)\\\\\n",
    "推论：若\\sigma_1^2=\\sigma_2^2，则\\frac{S_1^2}{S_2^2}\\sim F(n_1-1,n_2-1)\\\\\n",
    "(2)\\ \\bar{X}\\pm \\bar{Y}\\sim N(\\mu_1\\pm \\mu_2,\\frac{\\sigma_1^2}{n_1}+\\frac{\\sigma_2^2}{n_2})\\\\\n",
    "标准化后，有：\\frac{\\bar{X}\\pm \\bar{Y}-(\\mu_1\\pm \\mu_2)}{\\sqrt{\\frac{\\sigma_1^2}{n_1}+\\frac{\\sigma_2^2}{n_2}}}\\sim N(0,1)\\\\\n",
    "(3)\\ 若\\sigma_1^2=\\sigma_2^2，则：\\frac{\\bar{X}-\\bar{Y}-(\\mu_1-\\mu_2)}{S_w\\sqrt{\\frac{1}{n_1}+\\frac{1}{n_2}}}\\sim t(n_1+n_2-2)\\\\\n",
    "S_w=\\sqrt{\\frac{(n_1-1)S_1^2+(n_2-1)S_2^2}{n_1+n_2-2}}$"
   ]
  },
  {
   "cell_type": "code",
   "execution_count": null,
   "metadata": {},
   "outputs": [],
   "source": []
  },
  {
   "cell_type": "markdown",
   "metadata": {},
   "source": [
    "# 第七章 参数估计"
   ]
  },
  {
   "cell_type": "markdown",
   "metadata": {},
   "source": [
    "### [exercises](Exercise_7.ipynb)"
   ]
  },
  {
   "cell_type": "markdown",
   "metadata": {},
   "source": [
    "## 点估计"
   ]
  },
  {
   "cell_type": "markdown",
   "metadata": {},
   "source": [
    "### 定义(点估计Point Estimation)  \n",
    "$设总体X的分布函数F(x;\\theta)的形式(类型)已知，\\theta是未知参数。\\\\\n",
    "从总体X中抽取样本X_1,X_2,...X_n构造某个统计量\\hat \\theta(X_1,X_2,...X_n)，作为对未知参数\\theta的估计，称为\\theta的点估计量。\\\\\n",
    "将相应的观察值x_1,x_2,...x_n代入，得\\hat \\theta(x_1,x_2,...x_n)，称为\\theta的点估计值。\\\\\n",
    "估计量和估计值统称估计。\n",
    "$"
   ]
  },
  {
   "cell_type": "markdown",
   "metadata": {},
   "source": [
    "#### 两种常用的构造统计量的方法  \n",
    "1. 矩估计法\n",
    "2. 最大似然估计法"
   ]
  },
  {
   "cell_type": "markdown",
   "metadata": {},
   "source": [
    "### 矩估计法"
   ]
  },
  {
   "cell_type": "markdown",
   "metadata": {},
   "source": [
    "#### 矩估计法的具体做法\n",
    "$设X为连续型随机变量，其概率密度为f(x;\\theta_1,\\theta_2,...\\theta_k)\\\\\n",
    "或X为离散型随机变量，其分布律为P\\{X=x\\}=p(x;\\theta_1,\\theta_2,...\\theta_k)\\\\\n",
    "其中\\theta_1,\\theta_2,...\\theta_k为待估参数，X_,X_2,...X_n为来自总体的样本。\\\\\n",
    "(1) \\ 计算总体X的1\\sim k阶矩，得方程组\\\\\n",
    "(2) \\ 从方程组中解出未知参数\\\\\n",
    "(3) \\ 用样本矩A_l分别代替总体矩\\mu_l，得参数的矩估计量$\n"
   ]
  },
  {
   "cell_type": "code",
   "execution_count": null,
   "metadata": {},
   "outputs": [],
   "source": []
  },
  {
   "cell_type": "code",
   "execution_count": null,
   "metadata": {},
   "outputs": [],
   "source": []
  },
  {
   "cell_type": "code",
   "execution_count": null,
   "metadata": {},
   "outputs": [],
   "source": []
  },
  {
   "cell_type": "code",
   "execution_count": null,
   "metadata": {},
   "outputs": [],
   "source": []
  },
  {
   "cell_type": "code",
   "execution_count": null,
   "metadata": {},
   "outputs": [],
   "source": []
  },
  {
   "cell_type": "code",
   "execution_count": null,
   "metadata": {},
   "outputs": [],
   "source": []
  },
  {
   "cell_type": "markdown",
   "metadata": {},
   "source": [
    "## 基于截尾样本的最大似然估计"
   ]
  },
  {
   "cell_type": "markdown",
   "metadata": {},
   "source": [
    "## 估计量的评选标准"
   ]
  },
  {
   "cell_type": "markdown",
   "metadata": {},
   "source": [
    "## 区间估计"
   ]
  },
  {
   "cell_type": "markdown",
   "metadata": {},
   "source": [
    "$求参数\\theta的置信区间的步骤\\\\\n",
    "(1)对总体的样本X_1,X_2,...,X_n，取一个\\theta的点估计量(最好是无偏的)\\hat\\theta=\\hat\\theta(X_1,X_2,...,X_n)\\\\\n",
    "(2)从估计量\\hat\\theta出发，构造一个函数W=W(X_1,X_2,...,X_n;\\theta)\\\\\n",
    "W的分布已知，其中只含唯一的未知参数\\theta，W的分位点可以查表得到\\\\\n",
    "(3)对于给定的置信水平1-\\alpha，求a和b，使得\\\\\n",
    "P\\{a<W<b\\}=1-\\alpha\\ (a和b通常是W的分位点)\\\\\n",
    "从不等式a<W(X_1,X_2,...,X_n;\\theta)<b\\\\\n",
    "解出等价的不等式\\underline\\theta<\\theta<\\overline\\theta\\\\\n",
    "得置信区间：(\\underline\\theta,\\overline\\theta)$"
   ]
  },
  {
   "cell_type": "markdown",
   "metadata": {},
   "source": [
    "## 正态总体均值与方差的区间估计"
   ]
  },
  {
   "cell_type": "markdown",
   "metadata": {},
   "source": [
    "### 一个正态总体的情形"
   ]
  },
  {
   "cell_type": "markdown",
   "metadata": {},
   "source": [
    "$(1)设总体X\\sim N(\\mu,\\sigma^2)，总体方差\\sigma^2已知，总体均值\\mu未知。\\\\X_1,X_2,...X_n是来自总体X的样本，求\\mu的置信水平为1-\\alpha的置信区间\\\\\n",
    "(\\overline{X}-\\frac{\\sigma}{\\sqrt{n}}z_{\\alpha/2},\\overline{X}+\\frac{\\sigma}{\\sqrt{n}}z_{\\alpha/2})\\\\\n",
    "简写为(\\overline{X}\\pm\\frac{\\sigma}{\\sqrt{n}}z_{\\alpha/2})$"
   ]
  },
  {
   "cell_type": "markdown",
   "metadata": {},
   "source": [
    "$(2)设总体X\\sim N(\\mu,\\sigma^2)，总体方差\\sigma^2和均值\\mu未知。\\\\\n",
    "X_1,X_2,...X_n是来自总体X的样本，求\\mu的置信水平为1-\\alpha的置信区间\\\\\n",
    "(\\overline{X}-\\frac{S}{\\sqrt{n}}t_{\\alpha/2}(n-1),\\overline{X}+\\frac{S}{\\sqrt{n}}t_{\\alpha/2}(n-1))\\\\\n",
    "简写为(\\overline{X}\\pm\\frac{S}{\\sqrt{n}}t_{\\alpha/2}(n-1))$"
   ]
  },
  {
   "cell_type": "markdown",
   "metadata": {},
   "source": [
    "$(3)设总体X\\sim N(\\mu,\\sigma^2)，总体方差\\sigma^2和均值\\mu未知。\\\\\n",
    "X_1,X_2,...X_n是来自总体X的样本，求\\sigma^2的置信水平为1-\\alpha的置信区间\\\\\n",
    "(\\frac{(n-1)S^2}{\\chi_{\\alpha/2}^2(n-1)},\\frac{(n-1)S^2}{\\chi_{\\alpha/2}^2(n-1)})\n",
    "$"
   ]
  },
  {
   "cell_type": "markdown",
   "metadata": {},
   "source": [
    "### 两个正态总体的情形"
   ]
  },
  {
   "cell_type": "markdown",
   "metadata": {},
   "source": [
    "#### 两个正态总体均值差的区间估计"
   ]
  },
  {
   "cell_type": "markdown",
   "metadata": {},
   "source": [
    "$(1)有两个正态总体：X\\sim N(\\mu_1,\\sigma_1^2),Y\\sim N(\\mu_2,\\sigma_2^2)，其中方差\\sigma_1^2,\\sigma_2^2已知\\\\\n",
    "设样本X_1,X_2,...X_n来自样本X，Y_1,Y_2,...Y_n来自样本Y，这两个样本相互独立。\\\\\n",
    "设\\overline X,S_1^2和\\overline Y,S_2^2分别是两个样本的样本均值和样本方差，\\\\\n",
    "求均值差\\mu_1-\\mu_2的置信水平为1-\\alpha的置信区间\\\\\n",
    "(\\overline X-\\overline Y-z_{\\alpha/2}\\sqrt{\\frac{\\sigma_1^2}{n_1}+\\frac{\\sigma_2^2}{n_2}},\\overline X-\\overline Y+z_{\\alpha/2}\\sqrt{\\frac{\\sigma_1^2}{n_1}+\\frac{\\sigma_2^2}{n_2}})\\\\\n",
    "简记为(\\overline X-\\overline Y\\pm z_{\\alpha/2}\\sqrt{\\frac{\\sigma_1^2}{n_1}+\\frac{\\sigma_2^2}{n_2}})$"
   ]
  },
  {
   "cell_type": "markdown",
   "metadata": {},
   "source": [
    "$(2)有两个正态总体：X\\sim N(\\mu_1,\\sigma_1^2),Y\\sim N(\\mu_2,\\sigma_2^2)，其中方差\\sigma_1^2=\\sigma_2^2=\\sigma^2未知\\\\\n",
    "设样本X_1,X_2,...X_n来自样本X，Y_1,Y_2,...Y_n来自样本Y，这两个样本相互独立。\\\\\n",
    "设\\overline X,S_1^2和\\overline Y,S_2^2分别是两个样本的样本均值和样本方差，\\\\\n",
    "求均值差\\mu_1-\\mu_2的置信水平为1-\\alpha的置信区间\\\\\n",
    "(\\overline X-\\overline Y\\pm t_{\\alpha/2}(n_1+n_2-2)S_w\\sqrt{\\frac{1}{n_1}+\\frac{1}{n_2}})$"
   ]
  },
  {
   "cell_type": "markdown",
   "metadata": {},
   "source": [
    "#### 两个正态总体方差比的区间估计"
   ]
  },
  {
   "cell_type": "markdown",
   "metadata": {},
   "source": [
    "$(2)有两个正态总体：X\\sim N(\\mu_1,\\sigma_1^2),Y\\sim N(\\mu_2,\\sigma_2^2)，其中方差\\sigma_1^2=\\sigma_2^2=\\sigma^2未知\\\\\n",
    "设样本X_1,X_2,...X_n来自样本X，Y_1,Y_2,...Y_n来自样本Y，这两个样本相互独立。\\\\\n",
    "设\\overline X,S_1^2和\\overline Y,S_2^2分别是两个样本的样本均值和样本方差，\\\\\n",
    "求方差比\\sigma_1^2/\\sigma_2^2的置信水平为1-\\alpha的置信区间\\\\\n",
    "(\\frac{S_1^2}{S_2^2}\\frac{1}{F_{\\alpha/2}(n_1-1,n_2-1)},\\frac{S_1^2}{S_2^2}\\frac{1}{F_{1-\\alpha/2}(n_1-1,n_2-1)})$"
   ]
  },
  {
   "cell_type": "markdown",
   "metadata": {},
   "source": [
    "## 0-1分布参数的区间估计"
   ]
  },
  {
   "cell_type": "markdown",
   "metadata": {},
   "source": []
  },
  {
   "cell_type": "markdown",
   "metadata": {},
   "source": [
    "$$"
   ]
  },
  {
   "cell_type": "markdown",
   "metadata": {},
   "source": [
    "$$"
   ]
  },
  {
   "cell_type": "markdown",
   "metadata": {},
   "source": [
    "$$"
   ]
  },
  {
   "cell_type": "markdown",
   "metadata": {},
   "source": [
    "## 单侧置信区间"
   ]
  },
  {
   "cell_type": "markdown",
   "metadata": {},
   "source": []
  },
  {
   "cell_type": "markdown",
   "metadata": {},
   "source": [
    "$$"
   ]
  },
  {
   "cell_type": "markdown",
   "metadata": {},
   "source": [
    "$$"
   ]
  },
  {
   "cell_type": "markdown",
   "metadata": {},
   "source": []
  },
  {
   "cell_type": "markdown",
   "metadata": {},
   "source": [
    "# 第八章 假设检验"
   ]
  },
  {
   "cell_type": "markdown",
   "metadata": {},
   "source": [
    "### [exercises](Exercise_8.ipynb)"
   ]
  },
  {
   "cell_type": "markdown",
   "metadata": {},
   "source": [
    "## 假设检验"
   ]
  },
  {
   "cell_type": "code",
   "execution_count": null,
   "metadata": {},
   "outputs": [],
   "source": []
  },
  {
   "cell_type": "markdown",
   "metadata": {},
   "source": [
    "### 假设检验的基本思想"
   ]
  },
  {
   "cell_type": "markdown",
   "metadata": {},
   "source": [
    "### 假设检验的三种提法（设$\\theta_0$为已知常数）\n",
    "1. 双侧检验：$H_0:\\theta=\\theta_0,H_0:\\theta\\neq \\theta_0$\n",
    "2. 单侧检验：$H_0:\\theta\\le \\theta_0,H_1:\\theta> \\theta_0\\ 或H_0:\\theta\\ge \\theta_0,H_1:\\theta< \\theta_0$\n",
    "3. (2)的替代提法：$H_0:\\theta= \\theta_0,H_1:\\theta> \\theta_0\\ 或H_0:\\theta= \\theta_0,H_1:\\theta< \\theta_0$\n"
   ]
  },
  {
   "cell_type": "markdown",
   "metadata": {},
   "source": [
    "### 假设检验的两类错误\n",
    "1. 弃真\n",
    "    * 显著性水平$\\alpha$\n",
    "2. 取伪"
   ]
  },
  {
   "cell_type": "markdown",
   "metadata": {},
   "source": [
    "### 假设检验的步骤\n",
    "$设未知参数为\\theta，显著性水平为\\alpha，X_1,X_2,...,X_n为来自总体X的样本。对原假设H_0:\\theta=\\theta_0(\\theta_0是已知常数)，\\\\我们用以下步骤进行关于假设H_0的检验（主要是确定H_0的拒绝域W）$  \n",
    "1. 取一个未知参数的较优的点估计量（最好是无偏估计量）$\\hat \\theta=\\hat \\theta(X_1,X_2,...,X_n)$\n",
    "2. $从\\hat \\theta出发，构造一个检验统计量U=U(X_1,X_2,...,X_n,\\theta,\\hat \\theta),\\\\\n",
    "使得当\\theta=\\theta_0时，U的分布是已知的，且可以查表得到U的分位点$\n",
    "3. $对给定的检验水平\\alpha，查表得出U的分位点，并结合H_0的意义求出H_0的拒绝域W,\\\\\n",
    "使得\\theta=\\theta_0时，有P\\{U\\in W|H_0为真\\}=\\alpha,即P\\{拒绝H_0|H_0为真\\}=\\alpha$ \n",
    "4. $代入样本观测值x_1,x_2,...x_n，计算U的值u。\\\\\n",
    "若u\\in W,则拒绝假设H_0:\\theta=\\theta_0，接受H_1\\\\\n",
    "若u\\notin W,则接受假设H_0:\\theta=\\theta_0$"
   ]
  },
  {
   "cell_type": "markdown",
   "metadata": {},
   "source": [
    "## 正态总体均值的假设检验"
   ]
  },
  {
   "cell_type": "markdown",
   "metadata": {},
   "source": [
    "### 单个总体均值的假设检验"
   ]
  },
  {
   "cell_type": "markdown",
   "metadata": {},
   "source": [
    "#### Z检验\n",
    "$正态总体N(\\mu,\\sigma^2)均值\\mu的假设检验(Z检验)(已知方差，显著性水平为\\alpha)\\\\\n",
    "检验统计量及其分布Z=\\frac{\\overline{X}-\\mu_0}{\\sigma/\\sqrt{n}}\\sim N(0,1)$  \n",
    "\n",
    "$原假设H_0$|$备择假设H_1$|$H_0的拒绝域$\n",
    ":---:|:---:|:---:\n",
    "$\\mu=\\mu_0$|$\\mu\\neq\\mu_0$|$|z|\\ge z_{\\alpha/2}$\n",
    "$\\mu\\le\\mu_0$|$\\mu>\\mu_0$|$z\\ge z_{\\alpha}$\n",
    "$\\mu\\ge\\mu_0$|$\\mu<\\mu_0$|$z\\le -z_{\\alpha}$\n"
   ]
  },
  {
   "cell_type": "markdown",
   "metadata": {},
   "source": [
    "#### t检验\n",
    "$正态总体N(\\mu,\\sigma^2)均值\\mu的假设检验(t检验)(方差未知，显著性水平为\\alpha)\\\\\n",
    "检验统计量及其分布T=\\frac{\\overline{X}-\\mu_0}{S/\\sqrt{n}}\\sim t(n-1)$  \n",
    "\n",
    "$原假设H_0$|$备择假设H_1$|$H_0的拒绝域$\n",
    ":---:|:---:|:---:\n",
    "$\\mu=\\mu_0$|$\\mu\\neq\\mu_0$|$|t|\\ge t_{\\alpha/2}(n-1)$\n",
    "$\\mu\\le\\mu_0$|$\\mu>\\mu_0$|$t\\ge t_{\\alpha}(n-1)$\n",
    "$\\mu\\ge\\mu_0$|$\\mu<\\mu_0$|$t\\le -t_{\\alpha}(n-1)$\n"
   ]
  },
  {
   "cell_type": "markdown",
   "metadata": {},
   "source": [
    "### 两个正态总体均值的假设检验"
   ]
  },
  {
   "cell_type": "markdown",
   "metadata": {},
   "source": [
    "#### Z检验\n",
    "$比较两个正态总体N(\\mu_1,\\sigma_1^2)，N(\\mu_2,\\sigma_2^2)均值的假设检验(Z检验，\\delta为常数)(已知方差，显著性水平为\\alpha)\\\\\n",
    "检验统计量及其分布Z=\\frac{\\overline{X}-\\overline{Y}-\\delta}{\\sqrt{\\frac{\\sigma_1^2}{n_1}+\\frac{\\sigma_2^2}{n_2}}}\\sim N(0,1)$  \n",
    "\n",
    "$原假设H_0$|$备择假设H_1$|$H_0的拒绝域$\n",
    ":---:|:---:|:---:\n",
    "$\\mu_1-\\mu_2=\\delta$|$\\mu_1-\\mu_2=\\delta$|$|z|\\ge z_{\\alpha/2}$\n",
    "$\\mu_1-\\mu_2\\le \\delta$|$\\mu_1-\\mu_2>\\delta$|$z\\ge z_{\\alpha}$\n",
    "$\\mu_1-\\mu_2\\ge \\delta$|$\\mu_1-\\mu_2<\\delta$|$z\\le -z_{\\alpha}$\n"
   ]
  },
  {
   "cell_type": "markdown",
   "metadata": {},
   "source": [
    "#### t检验\n",
    "$比较两个正态总体N(\\mu_1,\\sigma_1^2)，N(\\mu_2,\\sigma_2^2)均值的假设检验(Z检验，\\delta为常数)(方差未知但相等，显著性水平为\\alpha)\\\\\n",
    "检验统计量及其分布T=\\frac{\\overline{X}-\\overline{Y}-\\delta}{S_w\\sqrt{\\frac{1}{n_1}+\\frac{1}{n_2}}}\\sim t(n_1+n_2-2) \\\\\n",
    "S_w=\\sqrt{\\frac{(n_1-1)S_1^2+(n_2-1)S_2^2}{n_1+n_2-2}}$  \n",
    "\n",
    "$原假设H_0$|$备择假设H_1$|$H_0的拒绝域$\n",
    ":---:|:---:|:---:\n",
    "$\\mu_1-\\mu_2=\\delta$|$\\mu_1-\\mu_2=\\delta$|$|t|\\ge t_{\\alpha/2}(n_1+n_2-2)$\n",
    "$\\mu_1-\\mu_2\\le \\delta$|$\\mu_1-\\mu_2>\\delta$|$t\\ge t_{\\alpha}(n_1+n_2-2)$\n",
    "$\\mu_1-\\mu_2\\ge \\delta$|$\\mu_1-\\mu_2<\\delta$|$t\\le -t_{\\alpha}(n_1+n_2-2)$\n"
   ]
  },
  {
   "cell_type": "markdown",
   "metadata": {},
   "source": [
    "## 正态总体方差的假设检验  \n",
    "1. $总体N(\\mu,\\sigma^2)，\\sigma^2已知，关于\\mu的假设检验(Z检验)$\n",
    "2. $总体N(\\mu,\\sigma^2)，\\sigma^2未知，关于\\mu的假设检验(t检验)$"
   ]
  },
  {
   "cell_type": "markdown",
   "metadata": {},
   "source": [
    "### 单个正态总体方差的假设检验"
   ]
  },
  {
   "cell_type": "markdown",
   "metadata": {},
   "source": [
    "#### $\\chi^2$检验\n",
    "$正态总体N(\\mu,\\sigma^2)均值\\sigma的假设检验(\\chi^2检验)(总体均值未知，显著性水平为\\alpha)\\\\\n",
    "检验统计量及其分布\\chi^2=\\frac{(n-1)S^2}{\\sigma_0^2}\\sim \\chi^2(n-1)$  \n",
    "\n",
    "$原假设H_0$|$备择假设H_1$|$H_0的拒绝域$\n",
    ":---:|:---:|:---:\n",
    "$\\sigma^2=\\sigma^2_0$|$\\sigma^2\\neq\\sigma^2_0$|$\\chi^2\\ge \\chi^2_{\\alpha/2}(n-1)\\\\ or\\ \\chi^2\\le \\chi^2_{1-\\alpha/2}(n-1)$\n",
    "$\\sigma^2\\le\\sigma^2_0$|$\\sigma^2>\\sigma^2_0$|$\\chi^2\\ge \\chi^2_{\\alpha}(n-1)$\n",
    "$\\sigma^2\\ge\\sigma^2_0$|$\\sigma^2<\\sigma^2_0$|$\\chi^2\\le \\chi^2_{1-\\alpha}(n-1)$  \n",
    "\n"
   ]
  },
  {
   "cell_type": "markdown",
   "metadata": {},
   "source": [
    "$正态总体N(\\mu,\\sigma^2)均值\\sigma的假设检验(\\chi^2检验)(总体均值\\mu已知，显著性水平为\\alpha)\\\\\n",
    "检验统计量及其分布\\chi^2=\\frac{\\sum_{i=1}^n(X_i-\\mu)^2}{\\sigma_0^2}\\sim \\chi^2(n)$  \n",
    "\n",
    "$原假设H_0$|$备择假设H_1$|$H_0的拒绝域$\n",
    ":---:|:---:|:---:\n",
    "$\\sigma^2=\\sigma^2_0$|$\\sigma^2\\neq\\sigma^2_0$|$\\chi^2\\ge \\chi^2_{\\alpha/2}(n)\\\\ or\\ \\chi^2\\le \\chi^2_{1-\\alpha/2}(n)$\n",
    "$\\sigma^2\\le\\sigma^2_0$|$\\sigma^2>\\sigma^2_0$|$\\chi^2\\ge \\chi^2_{\\alpha}(n)$\n",
    "$\\sigma^2\\ge\\sigma^2_0$|$\\sigma^2<\\sigma^2_0$|$\\chi^2\\le \\chi^2_{1-\\alpha}(n)$  "
   ]
  },
  {
   "cell_type": "markdown",
   "metadata": {},
   "source": [
    "### 两个正态总体方差的假设检验"
   ]
  },
  {
   "cell_type": "markdown",
   "metadata": {},
   "source": [
    "#### F检验\n",
    "$比较两个正态总体方差的假设检验(F检验)(总体均值未知，显著性水平为\\alpha)\\\\\n",
    "检验统计量及其分布F=\\frac{S_1^2}{S_2^2}\\sim F(n_1-1,n_2-1)$  \n",
    "\n",
    "$原假设H_0$|$备择假设H_1$|$H_0的拒绝域$\n",
    ":---:|:---:|:---:\n",
    "$\\sigma_1=\\sigma_2$|$\\sigma_1\\neq \\sigma_2$|$F\\ge F_{\\alpha/2}(n_1-1,n_2-1) \\\\ or\\ F\\le F_{1-\\alpha/2}(n_1-1,n_2-1)$\n",
    "$\\sigma_1\\le \\sigma_2$|$\\sigma_1>\\sigma_2$|$F\\ge F_{\\alpha}(n_1-1,n_2-1)$\n",
    "$\\sigma_1\\ge \\sigma_2$|$\\sigma_1<\\sigma_2$|$F\\le -F_{\\alpha}(n_1-1,n_2-1)$\n"
   ]
  },
  {
   "cell_type": "markdown",
   "metadata": {},
   "source": [
    "$比较两个正态总体方差的假设检验(F检验)(总体均值\\mu_1,\\mu_2已知，显著性水平为\\alpha)\\\\\n",
    "检验统计量及其分布F=\\frac{\\frac{1}{n_1}\\sum_{i=1}^n(X_i-\\mu_1)^2}{\\frac{1}{n_2}\\sum_{i=1}^n(X_i-\\mu_2)^2}\\sim F(n_1,n_2)$  \n",
    " \n",
    "\n",
    "$原假设H_0$|$备择假设H_1$|$H_0的拒绝域$\n",
    ":---:|:---:|:---:\n",
    "$\\sigma^2=\\sigma^2_0$|$\\sigma^2\\neq\\sigma^2_0$|$F\\ge F_{\\alpha/2}(n_1,n_2)\\\\ or\\ F\\le F_{1-\\alpha/2}(n_1,n_2)$\n",
    "$\\sigma^2\\le\\sigma^2_0$|$\\sigma^2>\\sigma^2_0$|$F\\ge F_{\\alpha}(n_1,n_2)$\n",
    "$\\sigma^2\\ge\\sigma^2_0$|$\\sigma^2<\\sigma^2_0$|$F\\le F_{1-\\alpha}(n_1,n_2)$  "
   ]
  },
  {
   "cell_type": "markdown",
   "metadata": {},
   "source": [
    "## 分布拟合检验"
   ]
  },
  {
   "cell_type": "markdown",
   "metadata": {},
   "source": [
    "### 皮尔逊定理  \n",
    "$若n充分大(n\\ge 50)，则当H_0为真时，无论总体服从何种分布，\\\\\n",
    "统计量\\chi_2=\\sum_{i=1}^{k}\\frac{n}{p_i}(\\frac{n_i}{n}-p_i)^2=\\sum_{i=1}^{k}\\frac{(n_i-np_i)^2}{np_i}\\\\\n",
    "都近似服从\\chi^2(k-r-1)$"
   ]
  },
  {
   "cell_type": "code",
   "execution_count": null,
   "metadata": {},
   "outputs": [],
   "source": []
  },
  {
   "cell_type": "code",
   "execution_count": null,
   "metadata": {},
   "outputs": [],
   "source": []
  },
  {
   "cell_type": "code",
   "execution_count": null,
   "metadata": {},
   "outputs": [],
   "source": []
  },
  {
   "cell_type": "code",
   "execution_count": null,
   "metadata": {},
   "outputs": [],
   "source": []
  },
  {
   "cell_type": "code",
   "execution_count": null,
   "metadata": {},
   "outputs": [],
   "source": []
  },
  {
   "cell_type": "markdown",
   "metadata": {},
   "source": [
    "# 方差分析及回归分析"
   ]
  },
  {
   "cell_type": "code",
   "execution_count": null,
   "metadata": {},
   "outputs": [],
   "source": []
  },
  {
   "cell_type": "markdown",
   "metadata": {},
   "source": []
  },
  {
   "cell_type": "code",
   "execution_count": null,
   "metadata": {},
   "outputs": [],
   "source": []
  },
  {
   "cell_type": "code",
   "execution_count": null,
   "metadata": {},
   "outputs": [],
   "source": []
  },
  {
   "cell_type": "code",
   "execution_count": 20,
   "metadata": {},
   "outputs": [
    {
     "data": {
      "image/png": "[encoded data removed]",
      "text/latex": [
       "$\\displaystyle -0.0011821294009929904$"
      ],
      "text/plain": [
       "-0.0011821294009929904"
      ]
     },
     "execution_count": 20,
     "metadata": {},
     "output_type": "execute_result"
    },
    {
     "data": {
      "image/png": "[encoded data removed]",
      "text/latex": [
       "$\\displaystyle 1.0007666195783917$"
      ],
      "text/plain": [
       "1.0007666195783917"
      ]
     },
     "execution_count": 20,
     "metadata": {},
     "output_type": "execute_result"
    },
    {
     "data": {
      "image/png": "[encoded data removed]",
      "text/latex": [
       "$\\displaystyle 1.0007686211176354$"
      ],
      "text/plain": [
       "1.0007686211176354"
      ]
     },
     "execution_count": 20,
     "metadata": {},
     "output_type": "execute_result"
    },
    {
     "data": {
      "image/png": "[encoded data removed]",
      "text/latex": [
       "$\\displaystyle -0.013828738150842849$"
      ],
      "text/plain": [
       "-0.013828738150842849"
      ]
     },
     "execution_count": 20,
     "metadata": {},
     "output_type": "execute_result"
    },
    {
     "data": {
      "image/png": "[encoded data removed]",
      "text/latex": [
       "$\\displaystyle 0.0630007682045404$"
      ],
      "text/plain": [
       "0.0630007682045404"
      ]
     },
     "execution_count": 20,
     "metadata": {},
     "output_type": "execute_result"
    },
    {
     "data": {
      "image/png": "[encoded data removed]",
      "text/latex": [
       "$\\displaystyle 10.0096683296833$"
      ],
      "text/plain": [
       "10.0096683296833"
      ]
     },
     "execution_count": 20,
     "metadata": {},
     "output_type": "execute_result"
    }
   ],
   "source": [
    "a1 = np.random.randn(1000000)\n",
    "a1 = a1\n",
    "# a1 = np.array([1,2,3,4,5])\n",
    "e1 = np.mean(a1)\n",
    "e1\n",
    "np.std(a1)\n",
    "np.std(a1,ddof=4)\n",
    "s1 = ((a1-e1)**5/1000000).sum()\n",
    "np.mean(a1**5)\n",
    "s2 = ((a1-e1)**2/9996).sum()\n",
    "sqrt(s1)\n",
    "sqrt(s2)"
   ]
  },
  {
   "cell_type": "code",
   "execution_count": 15,
   "metadata": {},
   "outputs": [
    {
     "name": "stdout",
     "output_type": "stream",
     "text": [
      "Help on function std in module numpy:\n",
      "\n",
      "std(a, axis=None, dtype=None, out=None, ddof=0, keepdims=<no value>)\n",
      "    Compute the standard deviation along the specified axis.\n",
      "    \n",
      "    Returns the standard deviation, a measure of the spread of a distribution,\n",
      "    of the array elements. The standard deviation is computed for the\n",
      "    flattened array by default, otherwise over the specified axis.\n",
      "    \n",
      "    Parameters\n",
      "    ----------\n",
      "    a : array_like\n",
      "        Calculate the standard deviation of these values.\n",
      "    axis : None or int or tuple of ints, optional\n",
      "        Axis or axes along which the standard deviation is computed. The\n",
      "        default is to compute the standard deviation of the flattened array.\n",
      "    \n",
      "        .. versionadded:: 1.7.0\n",
      "    \n",
      "        If this is a tuple of ints, a standard deviation is performed over\n",
      "        multiple axes, instead of a single axis or all the axes as before.\n",
      "    dtype : dtype, optional\n",
      "        Type to use in computing the standard deviation. For arrays of\n",
      "        integer type the default is float64, for arrays of float types it is\n",
      "        the same as the array type.\n",
      "    out : ndarray, optional\n",
      "        Alternative output array in which to place the result. It must have\n",
      "        the same shape as the expected output but the type (of the calculated\n",
      "        values) will be cast if necessary.\n",
      "    ddof : int, optional\n",
      "        Means Delta Degrees of Freedom.  The divisor used in calculations\n",
      "        is ``N - ddof``, where ``N`` represents the number of elements.\n",
      "        By default `ddof` is zero.\n",
      "    keepdims : bool, optional\n",
      "        If this is set to True, the axes which are reduced are left\n",
      "        in the result as dimensions with size one. With this option,\n",
      "        the result will broadcast correctly against the input array.\n",
      "    \n",
      "        If the default value is passed, then `keepdims` will not be\n",
      "        passed through to the `std` method of sub-classes of\n",
      "        `ndarray`, however any non-default value will be.  If the\n",
      "        sub-class' method does not implement `keepdims` any\n",
      "        exceptions will be raised.\n",
      "    \n",
      "    Returns\n",
      "    -------\n",
      "    standard_deviation : ndarray, see dtype parameter above.\n",
      "        If `out` is None, return a new array containing the standard deviation,\n",
      "        otherwise return a reference to the output array.\n",
      "    \n",
      "    See Also\n",
      "    --------\n",
      "    var, mean, nanmean, nanstd, nanvar\n",
      "    numpy.doc.ufuncs : Section \"Output arguments\"\n",
      "    \n",
      "    Notes\n",
      "    -----\n",
      "    The standard deviation is the square root of the average of the squared\n",
      "    deviations from the mean, i.e., ``std = sqrt(mean(abs(x - x.mean())**2))``.\n",
      "    \n",
      "    The average squared deviation is normally calculated as\n",
      "    ``x.sum() / N``, where ``N = len(x)``.  If, however, `ddof` is specified,\n",
      "    the divisor ``N - ddof`` is used instead. In standard statistical\n",
      "    practice, ``ddof=1`` provides an unbiased estimator of the variance\n",
      "    of the infinite population. ``ddof=0`` provides a maximum likelihood\n",
      "    estimate of the variance for normally distributed variables. The\n",
      "    standard deviation computed in this function is the square root of\n",
      "    the estimated variance, so even with ``ddof=1``, it will not be an\n",
      "    unbiased estimate of the standard deviation per se.\n",
      "    \n",
      "    Note that, for complex numbers, `std` takes the absolute\n",
      "    value before squaring, so that the result is always real and nonnegative.\n",
      "    \n",
      "    For floating-point input, the *std* is computed using the same\n",
      "    precision the input has. Depending on the input data, this can cause\n",
      "    the results to be inaccurate, especially for float32 (see example below).\n",
      "    Specifying a higher-accuracy accumulator using the `dtype` keyword can\n",
      "    alleviate this issue.\n",
      "    \n",
      "    Examples\n",
      "    --------\n",
      "    >>> a = np.array([[1, 2], [3, 4]])\n",
      "    >>> np.std(a)\n",
      "    1.1180339887498949\n",
      "    >>> np.std(a, axis=0)\n",
      "    array([ 1.,  1.])\n",
      "    >>> np.std(a, axis=1)\n",
      "    array([ 0.5,  0.5])\n",
      "    \n",
      "    In single precision, std() can be inaccurate:\n",
      "    \n",
      "    >>> a = np.zeros((2, 512*512), dtype=np.float32)\n",
      "    >>> a[0, :] = 1.0\n",
      "    >>> a[1, :] = 0.1\n",
      "    >>> np.std(a)\n",
      "    0.45000005\n",
      "    \n",
      "    Computing the standard deviation in float64 is more accurate:\n",
      "    \n",
      "    >>> np.std(a, dtype=np.float64)\n",
      "    0.44999999925494177\n",
      "\n"
     ]
    }
   ],
   "source": [
    "help(np.std)"
   ]
  },
  {
   "cell_type": "code",
   "execution_count": 21,
   "metadata": {},
   "outputs": [
    {
     "name": "stdout",
     "output_type": "stream",
     "text": [
      "Help on built-in function randn:\n",
      "\n",
      "randn(...) method of mtrand.RandomState instance\n",
      "    randn(d0, d1, ..., dn)\n",
      "    \n",
      "    Return a sample (or samples) from the \"standard normal\" distribution.\n",
      "    \n",
      "    If positive, int_like or int-convertible arguments are provided,\n",
      "    `randn` generates an array of shape ``(d0, d1, ..., dn)``, filled\n",
      "    with random floats sampled from a univariate \"normal\" (Gaussian)\n",
      "    distribution of mean 0 and variance 1 (if any of the :math:`d_i` are\n",
      "    floats, they are first converted to integers by truncation). A single\n",
      "    float randomly sampled from the distribution is returned if no\n",
      "    argument is provided.\n",
      "    \n",
      "    This is a convenience function.  If you want an interface that takes a\n",
      "    tuple as the first argument, use `numpy.random.standard_normal` instead.\n",
      "    \n",
      "    Parameters\n",
      "    ----------\n",
      "    d0, d1, ..., dn : int, optional\n",
      "        The dimensions of the returned array, should be all positive.\n",
      "        If no argument is given a single Python float is returned.\n",
      "    \n",
      "    Returns\n",
      "    -------\n",
      "    Z : ndarray or float\n",
      "        A ``(d0, d1, ..., dn)``-shaped array of floating-point samples from\n",
      "        the standard normal distribution, or a single such float if\n",
      "        no parameters were supplied.\n",
      "    \n",
      "    See Also\n",
      "    --------\n",
      "    standard_normal : Similar, but takes a tuple as its argument.\n",
      "    \n",
      "    Notes\n",
      "    -----\n",
      "    For random samples from :math:`N(\\mu, \\sigma^2)`, use:\n",
      "    \n",
      "    ``sigma * np.random.randn(...) + mu``\n",
      "    \n",
      "    Examples\n",
      "    --------\n",
      "    >>> np.random.randn()\n",
      "    2.1923875335537315 #random\n",
      "    \n",
      "    Two-by-four array of samples from N(3, 6.25):\n",
      "    \n",
      "    >>> 2.5 * np.random.randn(2, 4) + 3\n",
      "    array([[-4.49401501,  4.00950034, -1.81814867,  7.29718677],  #random\n",
      "           [ 0.39924804,  4.68456316,  4.99394529,  4.84057254]]) #random\n",
      "\n"
     ]
    }
   ],
   "source": [
    "help(np.random.randn)"
   ]
  },
  {
   "cell_type": "code",
   "execution_count": 18,
   "metadata": {},
   "outputs": [],
   "source": [
    "# %pylab\n",
    "%matplotlib inline"
   ]
  },
  {
   "cell_type": "code",
   "execution_count": 19,
   "metadata": {},
   "outputs": [
    {
     "data": {
      "text/plain": [
       "[<matplotlib.lines.Line2D at 0x1e935a92048>]"
      ]
     },
     "execution_count": 19,
     "metadata": {},
     "output_type": "execute_result"
    },
    {
     "data": {
      "image/png": "[encoded data removed]",
      "text/plain": [
       "<Figure size 432x288 with 1 Axes>"
      ]
     },
     "metadata": {
      "needs_background": "light"
     },
     "output_type": "display_data"
    }
   ],
   "source": [
    "# %matplotlib qt5\n",
    "a1 = np.linspace(0,1,10)*np.random.randn(10)\n",
    "#     plt.clf()\n",
    "plt.plot(a1)\n",
    "#     plt.show()"
   ]
  },
  {
   "cell_type": "code",
   "execution_count": 13,
   "metadata": {},
   "outputs": [
    {
     "data": {
      "text/plain": [
       "[<matplotlib.lines.Line2D at 0x1e9354f10c8>]"
      ]
     },
     "execution_count": 13,
     "metadata": {},
     "output_type": "execute_result"
    },
    {
     "data": {
      "text/plain": [
       "[<matplotlib.lines.Line2D at 0x1e9323db548>]"
      ]
     },
     "execution_count": 13,
     "metadata": {},
     "output_type": "execute_result"
    },
    {
     "data": {
      "text/plain": [
       "[<matplotlib.lines.Line2D at 0x1e935500b88>]"
      ]
     },
     "execution_count": 13,
     "metadata": {},
     "output_type": "execute_result"
    },
    {
     "data": {
      "text/plain": [
       "[<matplotlib.lines.Line2D at 0x1e935503788>]"
      ]
     },
     "execution_count": 13,
     "metadata": {},
     "output_type": "execute_result"
    },
    {
     "data": {
      "text/plain": [
       "[<matplotlib.lines.Line2D at 0x1e935507fc8>]"
      ]
     },
     "execution_count": 13,
     "metadata": {},
     "output_type": "execute_result"
    },
    {
     "data": {
      "text/plain": [
       "[<matplotlib.lines.Line2D at 0x1e935507f88>]"
      ]
     },
     "execution_count": 13,
     "metadata": {},
     "output_type": "execute_result"
    },
    {
     "data": {
      "text/plain": [
       "[<matplotlib.lines.Line2D at 0x1e93550ca48>]"
      ]
     },
     "execution_count": 13,
     "metadata": {},
     "output_type": "execute_result"
    },
    {
     "data": {
      "text/plain": [
       "[<matplotlib.lines.Line2D at 0x1e93550cc88>]"
      ]
     },
     "execution_count": 13,
     "metadata": {},
     "output_type": "execute_result"
    },
    {
     "data": {
      "text/plain": [
       "[<matplotlib.lines.Line2D at 0x1e935504f88>]"
      ]
     },
     "execution_count": 13,
     "metadata": {},
     "output_type": "execute_result"
    },
    {
     "data": {
      "text/plain": [
       "[<matplotlib.lines.Line2D at 0x1e935510948>]"
      ]
     },
     "execution_count": 13,
     "metadata": {},
     "output_type": "execute_result"
    }
   ],
   "source": [
    "# %matplotlib qt5\n",
    "for i in range(10):\n",
    "    a1 = np.linspace(0,1,10)*np.random.randn(10)\n",
    "#     plt.clf()\n",
    "    plt.plot(a1)\n",
    "    plt.show()"
   ]
  },
  {
   "cell_type": "code",
   "execution_count": null,
   "metadata": {},
   "outputs": [],
   "source": []
  },
  {
   "cell_type": "code",
   "execution_count": null,
   "metadata": {},
   "outputs": [],
   "source": []
  },
  {
   "cell_type": "code",
   "execution_count": 2,
   "metadata": {},
   "outputs": [
    {
     "name": "stdout",
     "output_type": "stream",
     "text": [
      "tensor([[-0.2381, -0.4906, -0.5166],\n",
      "        [ 0.3913,  0.0464,  1.9670],\n",
      "        [-1.4385,  0.8276,  0.3118]])\n",
      "tensor([[-0.0306,  0.2907,  0.5356],\n",
      "        [ 0.4138,  1.6000, -1.0613],\n",
      "        [ 1.2857,  0.0550,  0.6712]])\n"
     ]
    }
   ],
   "source": [
    "%run test01.py"
   ]
  },
  {
   "cell_type": "markdown",
   "metadata": {},
   "source": [
    "# end"
   ]
  }
 ],
 "metadata": {
  "kernelspec": {
   "display_name": "Python 3",
   "language": "python",
   "name": "python3"
  },
  "language_info": {
   "codemirror_mode": {
    "name": "ipython",
    "version": 3
   },
   "file_extension": ".py",
   "mimetype": "text/x-python",
   "name": "python",
   "nbconvert_exporter": "python",
   "pygments_lexer": "ipython3",
   "version": "3.8.5"
  },
  "toc": {
   "base_numbering": 1,
   "nav_menu": {
    "height": "285px",
    "width": "188px"
   },
   "number_sections": true,
   "sideBar": true,
   "skip_h1_title": false,
   "title_cell": "Table of Contents",
   "title_sidebar": "Contents",
   "toc_cell": false,
   "toc_position": {
    "height": "calc(100% - 180px)",
    "left": "10px",
    "top": "150px",
    "width": "219.411px"
   },
   "toc_section_display": true,
   "toc_window_display": true
  }
 },
 "nbformat": 4,
 "nbformat_minor": 2
}
