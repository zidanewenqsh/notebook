{
 "cells": [
  {
   "cell_type": "markdown",
   "metadata": {},
   "source": [
    "## 第八章 假设检验练习"
   ]
  },
  {
   "cell_type": "code",
   "execution_count": 73,
   "metadata": {},
   "outputs": [],
   "source": [
    "from IPython.core.interactiveshell import InteractiveShell \n",
    "InteractiveShell.ast_node_interactivity = 'all' #默认为'last'\n",
    "\n",
    "import numpy as np\n",
    "import pandas as pd\n",
    "import os\n",
    "import sympy \n",
    "from sympy import *\n",
    "from scipy.stats import norm\n",
    "from scipy.stats import t as td\n",
    "from scipy.stats import chi2 as c2d\n",
    "from scipy.stats import f as fd\n",
    "# from sympy.abc import *\n",
    "# from sympy import gamma\n",
    "from matplotlib import pyplot as plt\n",
    "%matplotlib inline\n",
    "plt.rcParams['font.sans-serif']=['SimHei'] #指定默认字体 SimHei为黑体\n",
    "plt.rcParams['axes.unicode_minus']=False #用来正常显示负号\n",
    "sympy.init_printing(use_latex=True)\n",
    "x, y, z = symbols('x y z',real=True)"
   ]
  },
  {
   "cell_type": "markdown",
   "metadata": {},
   "source": [
    "## 正态分布代码  \n",
    "```\n",
    "mu,sigma = symbols('mu sigma')\n",
    "fx = (1/(sigma*sqrt(2*pi)))*exp(-(x-mu)**2/(2*sigma**2))\n",
    "```"
   ]
  },
  {
   "cell_type": "code",
   "execution_count": 4,
   "metadata": {},
   "outputs": [],
   "source": [
    "from scipy.stats import norm\n"
   ]
  },
  {
   "cell_type": "markdown",
   "metadata": {},
   "source": [
    "# 假设检验"
   ]
  },
  {
   "cell_type": "markdown",
   "metadata": {},
   "source": [
    "# 正态总体均值的假设检验"
   ]
  },
  {
   "cell_type": "markdown",
   "metadata": {},
   "source": [
    "## 单个总体均值的假设检验"
   ]
  },
  {
   "cell_type": "markdown",
   "metadata": {},
   "source": [
    "### z检验"
   ]
  },
  {
   "cell_type": "markdown",
   "metadata": {},
   "source": [
    "#### 例1\n",
    "某车间用一台包装机包装葡萄糖.袋装糖的净重是一个随机变量，它 服从正态分布.当机器正常时，其均值为0.5 kg,标准差为0. 015 kg.某日开工 后为检验包装机是否正常，随机地抽取它所包装的糖9袋，称得净重为（kg）  \n",
    "$0.497, 0.506, 0.518, 0.524, 0.498, 0.511, 0.520, 0.515, 0.512 $  \n",
    "问机器是否正常？"
   ]
  },
  {
   "cell_type": "code",
   "execution_count": 63,
   "metadata": {},
   "outputs": [
    {
     "data": {
      "image/png": "[encoded data removed]",
      "text/latex": [
       "$\\displaystyle \\overline x$"
      ],
      "text/plain": [
       "\\overline x"
      ]
     },
     "execution_count": 63,
     "metadata": {},
     "output_type": "execute_result"
    },
    {
     "data": {
      "image/png": "[encoded data removed]",
      "text/latex": [
       "$\\displaystyle \\left( \\mu_{0}, \\  \\sigma, \\  \\alpha\\right)$"
      ],
      "text/plain": [
       "(μ₀, σ, α)"
      ]
     },
     "execution_count": 63,
     "metadata": {},
     "output_type": "execute_result"
    },
    {
     "data": {
      "image/png": "[encoded data removed]",
      "text/latex": [
       "$\\displaystyle \\sqrt{n} \\left|{\\frac{\\overline x - \\mu_{0}}{\\sigma}}\\right|$"
      ],
      "text/plain": [
       "   │\\overline x - μ₀│\n",
       "√n⋅│────────────────│\n",
       "   │       σ        │"
      ]
     },
     "execution_count": 63,
     "metadata": {},
     "output_type": "execute_result"
    }
   ],
   "source": [
    "# 建立模型\n",
    "n = symbols('n',positive=True,integer=True)\n",
    "mu_0,sigma,alpha = symbols('mu_0, sigma, alpha')\n",
    "x_ = Symbol('\\overline x')\n",
    "x_\n",
    "mu_0,sigma,alpha\n",
    "z = Abs((x_-mu_0)/(sigma/sqrt(n)))\n",
    "z\n"
   ]
  },
  {
   "cell_type": "code",
   "execution_count": 9,
   "metadata": {},
   "outputs": [
    {
     "data": {
      "image/png": "[encoded data removed]",
      "text/latex": [
       "$\\displaystyle 1 - \\frac{\\alpha}{2}$"
      ],
      "text/plain": [
       "    α\n",
       "1 - ─\n",
       "    2"
      ]
     },
     "execution_count": 9,
     "metadata": {},
     "output_type": "execute_result"
    },
    {
     "data": {
      "image/png": "[encoded data removed]",
      "text/latex": [
       "$\\displaystyle 0.975$"
      ],
      "text/plain": [
       "0.975000000000000"
      ]
     },
     "execution_count": 9,
     "metadata": {},
     "output_type": "execute_result"
    },
    {
     "data": {
      "image/png": "[encoded data removed]",
      "text/latex": [
       "$\\displaystyle 1.959963984540054$"
      ],
      "text/plain": [
       "1.959963984540054"
      ]
     },
     "execution_count": 9,
     "metadata": {},
     "output_type": "execute_result"
    }
   ],
   "source": [
    "# 分位点\n",
    "a_1 = 1-alpha/2\n",
    "a_1\n",
    "a_1.subs(alpha,0.05)\n",
    "# float(a_1.subs(alpha,0.05))\n",
    "# type(a_1.subs(alpha,0.05).evalf())\n",
    "z_a = norm.ppf(float(a_1.subs(alpha,0.05))) # 上alpha/2分位点\n",
    "z_a"
   ]
  },
  {
   "cell_type": "code",
   "execution_count": 65,
   "metadata": {},
   "outputs": [
    {
     "data": {
      "image/png": "[encoded data removed]",
      "text/latex": [
       "$\\displaystyle 0.5112222222222224$"
      ],
      "text/plain": [
       "0.5112222222222224"
      ]
     },
     "execution_count": 65,
     "metadata": {},
     "output_type": "execute_result"
    },
    {
     "data": {
      "image/png": "[encoded data removed]",
      "text/latex": [
       "$\\displaystyle 2.2$"
      ],
      "text/plain": [
       "2.2"
      ]
     },
     "execution_count": 65,
     "metadata": {},
     "output_type": "execute_result"
    }
   ],
   "source": [
    "# 比较\n",
    "data = np.array([0.497,0.506,0.518,0.524,0.498,0.511,0.520,0.515,0.512])\n",
    "datamean = data.mean()\n",
    "datamean\n",
    "z.subs({x_:datamean,mu_0:0.5,n:9,sigma:0.015}).evalf(2)"
   ]
  },
  {
   "cell_type": "markdown",
   "metadata": {},
   "source": [
    "#### 例2  \n",
    "$设某种元件的使用寿命(单位:h)服从正态分布N(\\mu,100^2)，\\mu未知，按要求元件使用寿命不低于2500h才算合格。\\\\现从一批元件中随机抽取25件，测得其平均寿命为2484h。\\\\试问在显著性水平\\alpha=0.1之下，这批元件是否合格？$"
   ]
  },
  {
   "cell_type": "code",
   "execution_count": 49,
   "metadata": {},
   "outputs": [
    {
     "data": {
      "image/png": "[encoded data removed]",
      "text/latex": [
       "$\\displaystyle \\overline x$"
      ],
      "text/plain": [
       "\\overline x"
      ]
     },
     "execution_count": 49,
     "metadata": {},
     "output_type": "execute_result"
    },
    {
     "data": {
      "image/png": "[encoded data removed]",
      "text/latex": [
       "$\\displaystyle \\left( \\mu_{0}, \\  \\sigma, \\  \\alpha\\right)$"
      ],
      "text/plain": [
       "(μ₀, σ, α)"
      ]
     },
     "execution_count": 49,
     "metadata": {},
     "output_type": "execute_result"
    },
    {
     "data": {
      "image/png": "[encoded data removed]",
      "text/latex": [
       "$\\displaystyle \\frac{\\sqrt{n} \\left(\\overline x - \\mu_{0}\\right)}{\\sigma}$"
      ],
      "text/plain": [
       "√n⋅(\\overline x - μ₀)\n",
       "─────────────────────\n",
       "          σ          "
      ]
     },
     "execution_count": 49,
     "metadata": {},
     "output_type": "execute_result"
    }
   ],
   "source": [
    "# 建立模型\n",
    "n = symbols('n',positive=True,integer=True)\n",
    "mu_0,sigma,alpha = symbols('mu_0, sigma, alpha')\n",
    "x_ = Symbol('\\overline x')\n",
    "x_\n",
    "mu_0,sigma,alpha\n",
    "z =(x_-mu_0)/(sigma/sqrt(n))\n",
    "z\n"
   ]
  },
  {
   "cell_type": "code",
   "execution_count": 52,
   "metadata": {},
   "outputs": [
    {
     "data": {
      "image/png": "[encoded data removed]",
      "text/latex": [
       "$\\displaystyle 1 - \\alpha$"
      ],
      "text/plain": [
       "1 - α"
      ]
     },
     "execution_count": 52,
     "metadata": {},
     "output_type": "execute_result"
    },
    {
     "data": {
      "image/png": "[encoded data removed]",
      "text/latex": [
       "$\\displaystyle -1.2815515655446004$"
      ],
      "text/plain": [
       "-1.2815515655446004"
      ]
     },
     "execution_count": 52,
     "metadata": {},
     "output_type": "execute_result"
    }
   ],
   "source": [
    "# 分位点\n",
    "a_1 = 1-alpha # 左侧检验\n",
    "a_1\n",
    "z_a = -norm.ppf(float(a_1.subs(alpha,0.1))) # -z_alpha\n",
    "z_a"
   ]
  },
  {
   "cell_type": "code",
   "execution_count": 53,
   "metadata": {},
   "outputs": [
    {
     "data": {
      "image/png": "[encoded data removed]",
      "text/latex": [
       "$\\displaystyle -0.8$"
      ],
      "text/plain": [
       "-0.80"
      ]
     },
     "execution_count": 53,
     "metadata": {},
     "output_type": "execute_result"
    },
    {
     "data": {
      "text/latex": [
       "$\\displaystyle \\text{True}$"
      ],
      "text/plain": [
       "True"
      ]
     },
     "execution_count": 53,
     "metadata": {},
     "output_type": "execute_result"
    }
   ],
   "source": [
    "# 比较\n",
    "z_ = z.subs({x_:2484,mu_0:2500,n:25,sigma:100}).evalf(2)\n",
    "z_\n",
    "z_>z_a #可以接受"
   ]
  },
  {
   "cell_type": "markdown",
   "metadata": {},
   "source": [
    "### t检验"
   ]
  },
  {
   "cell_type": "code",
   "execution_count": 57,
   "metadata": {},
   "outputs": [],
   "source": [
    "from scipy.stats import t as td"
   ]
  },
  {
   "cell_type": "markdown",
   "metadata": {},
   "source": [
    "#### 例3\n",
    "$改进工艺之前某厂生产的显像管的寿命X\\sim N(4,\\sigma^2)(单位:万小时)其中\\sigma^2未知，今从改进工艺后生产的一批显像管中随机抽取9只,测得寿命如下：\\\\\n",
    "4.33,4.12,4.05,4.34,4.41,4.52,4.16,4.05,4.37\\\\\n",
    "若取显著性水平\\alpha=0.05，问这批显像管的平均寿命是否有显著改变?$"
   ]
  },
  {
   "cell_type": "code",
   "execution_count": 70,
   "metadata": {},
   "outputs": [
    {
     "data": {
      "image/png": "[encoded data removed]",
      "text/latex": [
       "$\\displaystyle \\overline x$"
      ],
      "text/plain": [
       "\\overline x"
      ]
     },
     "execution_count": 70,
     "metadata": {},
     "output_type": "execute_result"
    },
    {
     "data": {
      "image/png": "[encoded data removed]",
      "text/latex": [
       "$\\displaystyle \\sqrt{n} \\left|{\\frac{\\overline x - \\mu_{0}}{S}}\\right|$"
      ],
      "text/plain": [
       "   │\\overline x - μ₀│\n",
       "√n⋅│────────────────│\n",
       "   │       S        │"
      ]
     },
     "execution_count": 70,
     "metadata": {},
     "output_type": "execute_result"
    }
   ],
   "source": [
    "# 建立模型\n",
    "n = symbols('n',positive=True,integer=True)\n",
    "mu_0,S,alpha = symbols('mu_0, S, alpha')\n",
    "x_ = Symbol('\\overline x')\n",
    "x_\n",
    "# mu_0,S,alpha\n",
    "t =Abs((x_-mu_0)/(S/sqrt(n)))\n",
    "t\n"
   ]
  },
  {
   "cell_type": "code",
   "execution_count": 78,
   "metadata": {},
   "outputs": [
    {
     "data": {
      "image/png": "[encoded data removed]",
      "text/latex": [
       "$\\displaystyle 1 - \\frac{\\alpha}{2}$"
      ],
      "text/plain": [
       "    α\n",
       "1 - ─\n",
       "    2"
      ]
     },
     "execution_count": 78,
     "metadata": {},
     "output_type": "execute_result"
    },
    {
     "data": {
      "image/png": "[encoded data removed]",
      "text/latex": [
       "$\\displaystyle 2.3060041350333704$"
      ],
      "text/plain": [
       "2.3060041350333704"
      ]
     },
     "execution_count": 78,
     "metadata": {},
     "output_type": "execute_result"
    }
   ],
   "source": [
    "# 分位点\n",
    "n_v = 9\n",
    "a_1 = 1-alpha/2 # 双侧检验\n",
    "a_1\n",
    "\n",
    "t_a = td.ppf(float(a_1.subs(alpha,0.05)),df=n_v-1) \n",
    "t_a"
   ]
  },
  {
   "cell_type": "code",
   "execution_count": 79,
   "metadata": {},
   "outputs": [
    {
     "data": {
      "image/png": "[encoded data removed]",
      "text/latex": [
       "$\\displaystyle 4.261111111111111$"
      ],
      "text/plain": [
       "4.261111111111111"
      ]
     },
     "execution_count": 79,
     "metadata": {},
     "output_type": "execute_result"
    },
    {
     "data": {
      "image/png": "[encoded data removed]",
      "text/latex": [
       "$\\displaystyle 0.1700326765980913$"
      ],
      "text/plain": [
       "0.1700326765980913"
      ]
     },
     "execution_count": 79,
     "metadata": {},
     "output_type": "execute_result"
    },
    {
     "data": {
      "image/png": "[encoded data removed]",
      "text/latex": [
       "$\\displaystyle 4.6$"
      ],
      "text/plain": [
       "4.6"
      ]
     },
     "execution_count": 79,
     "metadata": {},
     "output_type": "execute_result"
    },
    {
     "data": {
      "text/latex": [
       "$\\displaystyle \\text{True}$"
      ],
      "text/plain": [
       "True"
      ]
     },
     "execution_count": 79,
     "metadata": {},
     "output_type": "execute_result"
    }
   ],
   "source": [
    "# 比较\n",
    "mu_v = 4\n",
    "\n",
    "data = np.array([4.33,4.12,4.05,4.34,4.41,4.52,4.16,4.05,4.37])\n",
    "datamean = data.mean()\n",
    "datamean\n",
    "datastd = data.std(ddof=1)\n",
    "datastd\n",
    "t_ = t.subs({x_:datamean,mu_0:mu_v,n:n_v,S:datastd}).evalf(2)\n",
    "t_\n",
    "t_>t_a #拒绝接受"
   ]
  },
  {
   "cell_type": "markdown",
   "metadata": {},
   "source": [
    "#### 例4\n",
    "$4.\t下面列出的是某工厂随机选取的20只部件的装配时间(min)：\\\\\n",
    "9.8,10.4,10.6,9.6,9.7,9.9,10.9,11.1, 9.6,10.2,10.3,9.6,9.9,11.2,10.6,9.8,10.5,10.1,10.5,9.7\\\\\n",
    "设装配时间的总体服从正态分布N(\\mu,\\sigma^2),\\mu,\\sigma^2均未知.是否可以认为装配时间的均值显著大于10min取(\\alpha=0.05)?\n",
    "$  \n",
    "***\n",
    "<font color=red>注意：判断是否显著大于，一般均值大于期望，采用右侧检验法，$H_0:\\mu\\le \\mu_0=10\\ H_1:\\mu> \\mu_0=10$，本题是判断是否采用备择假设</font>"
   ]
  },
  {
   "cell_type": "code",
   "execution_count": 80,
   "metadata": {},
   "outputs": [
    {
     "data": {
      "image/png": "[encoded data removed]",
      "text/latex": [
       "$\\displaystyle \\overline x$"
      ],
      "text/plain": [
       "\\overline x"
      ]
     },
     "execution_count": 80,
     "metadata": {},
     "output_type": "execute_result"
    },
    {
     "data": {
      "image/png": "[encoded data removed]",
      "text/latex": [
       "$\\displaystyle \\frac{\\sqrt{n} \\left(\\overline x - \\mu_{0}\\right)}{S}$"
      ],
      "text/plain": [
       "√n⋅(\\overline x - μ₀)\n",
       "─────────────────────\n",
       "          S          "
      ]
     },
     "execution_count": 80,
     "metadata": {},
     "output_type": "execute_result"
    }
   ],
   "source": [
    "# 建立模型\n",
    "n = symbols('n',positive=True,integer=True)\n",
    "mu_0,S,alpha = symbols('mu_0, S, alpha')\n",
    "x_ = Symbol('\\overline x')\n",
    "x_\n",
    "# mu_0,S,alpha\n",
    "t =(x_-mu_0)/(S/sqrt(n))\n",
    "t\n"
   ]
  },
  {
   "cell_type": "code",
   "execution_count": 87,
   "metadata": {},
   "outputs": [
    {
     "data": {
      "image/png": "[encoded data removed]",
      "text/latex": [
       "$\\displaystyle 1 - \\alpha$"
      ],
      "text/plain": [
       "1 - α"
      ]
     },
     "execution_count": 87,
     "metadata": {},
     "output_type": "execute_result"
    },
    {
     "data": {
      "image/png": "[encoded data removed]",
      "text/latex": [
       "$\\displaystyle 1.729132811521367$"
      ],
      "text/plain": [
       "1.729132811521367"
      ]
     },
     "execution_count": 87,
     "metadata": {},
     "output_type": "execute_result"
    }
   ],
   "source": [
    "# 分位点\n",
    "n_v = 20\n",
    "alpha_v = 0.05\n",
    "\n",
    "a_1 = 1-alpha # 右侧检验\n",
    "a_1\n",
    "\n",
    "t_a = td.ppf(float(a_1.subs(alpha,alpha_v)),df=n_v-1) \n",
    "t_a"
   ]
  },
  {
   "cell_type": "code",
   "execution_count": 88,
   "metadata": {},
   "outputs": [
    {
     "data": {
      "image/png": "[encoded data removed]",
      "text/latex": [
       "$\\displaystyle 10.2$"
      ],
      "text/plain": [
       "10.2"
      ]
     },
     "execution_count": 88,
     "metadata": {},
     "output_type": "execute_result"
    },
    {
     "data": {
      "image/png": "[encoded data removed]",
      "text/latex": [
       "$\\displaystyle 0.5099019513592785$"
      ],
      "text/plain": [
       "0.5099019513592785"
      ]
     },
     "execution_count": 88,
     "metadata": {},
     "output_type": "execute_result"
    },
    {
     "data": {
      "image/png": "[encoded data removed]",
      "text/latex": [
       "$\\displaystyle 1.754$"
      ],
      "text/plain": [
       "1.754"
      ]
     },
     "execution_count": 88,
     "metadata": {},
     "output_type": "execute_result"
    },
    {
     "data": {
      "text/latex": [
       "$\\displaystyle \\text{True}$"
      ],
      "text/plain": [
       "True"
      ]
     },
     "execution_count": 88,
     "metadata": {},
     "output_type": "execute_result"
    }
   ],
   "source": [
    "# 比较\n",
    "mu_v = 10\n",
    "\n",
    "data = np.array([9.8,10.4,10.6,9.6,9.7,9.9,10.9,11.1, 9.6,10.2,10.3,9.6,9.9,11.2,10.6,9.8,10.5,10.1,10.5,9.7])\n",
    "datamean = data.mean()\n",
    "datamean\n",
    "datastd = data.std(ddof=1)\n",
    "datastd\n",
    "t_ = t.subs({x_:datamean,mu_0:mu_v,n:n_v,S:datastd}).evalf(4)\n",
    "t_\n",
    "t_>t_a #拒绝接受原假设"
   ]
  },
  {
   "cell_type": "code",
   "execution_count": null,
   "metadata": {},
   "outputs": [],
   "source": []
  },
  {
   "cell_type": "markdown",
   "metadata": {},
   "source": [
    "## 两个总体均值的假设检验"
   ]
  },
  {
   "cell_type": "markdown",
   "metadata": {},
   "source": [
    "### z检验"
   ]
  },
  {
   "cell_type": "markdown",
   "metadata": {},
   "source": [
    "#### 例5  \n",
    "$某林场采用两种方案做杨树育苗试验，已知两种方案下苗高服从正态分布，标准差分别\\sigma_1=20，\\sigma_2=18（单位：cm）。\\\\方案的树苗中各抽60株做样本，测得苗高均值分别\\overline x=59.34cm，\\overline y=49.16cm，\\\\\n",
    "试以95\\%的可靠性，估计两种方案对杨树苗高的高度有无影响$"
   ]
  },
  {
   "cell_type": "code",
   "execution_count": 31,
   "metadata": {
    "scrolled": true
   },
   "outputs": [
    {
     "data": {
      "image/png": "[encoded data removed]",
      "text/latex": [
       "$\\displaystyle \\left( \\overline{x}, \\  \\overline{y}\\right)$"
      ],
      "text/plain": [
       "(\\overline{x}, \\overline{y})"
      ]
     },
     "execution_count": 31,
     "metadata": {},
     "output_type": "execute_result"
    },
    {
     "data": {
      "image/png": "[encoded data removed]",
      "text/latex": [
       "$\\displaystyle \\left( \\sigma_1, \\  \\sigma_2, \\  \\alpha\\right)$"
      ],
      "text/plain": [
       "(\\sigma₁, \\sigma₂, α)"
      ]
     },
     "execution_count": 31,
     "metadata": {},
     "output_type": "execute_result"
    },
    {
     "data": {
      "image/png": "[encoded data removed]",
      "text/latex": [
       "$\\displaystyle \\frac{\\overline{x} - \\overline{y}}{\\sqrt{\\frac{\\sigma_1^{2}}{n_{1}} + \\frac{\\sigma_2^{2}}{n_{2}}}}$"
      ],
      "text/plain": [
       "\\overline{x} - \\overline{y}\n",
       "───────────────────────────\n",
       "      _____________________\n",
       "     ╱        2          2 \n",
       "    ╱  \\sigma₁    \\sigma₂  \n",
       "   ╱   ──────── + ──────── \n",
       " ╲╱       n₁         n₂    "
      ]
     },
     "execution_count": 31,
     "metadata": {},
     "output_type": "execute_result"
    }
   ],
   "source": [
    "# 建立模型\n",
    "n_1,n_2 = symbols('n_1,n_2',positive=True,integer=True)\n",
    "sigma_1,sigma_2,alpha = symbols('\\sigma_1,\\sigma_2,alpha')\n",
    "x_,y_ = symbols('\\overline{x},\\overline{y}')\n",
    "x_,y_\n",
    "sigma_1,sigma_2,alpha\n",
    "z =(x_-y_)/(sqrt(sigma_1**2/n_1+sigma_2**2/n_2))\n",
    "z\n"
   ]
  },
  {
   "cell_type": "code",
   "execution_count": 32,
   "metadata": {},
   "outputs": [
    {
     "data": {
      "image/png": "[encoded data removed]",
      "text/latex": [
       "$\\displaystyle 1 - \\frac{\\alpha}{2}$"
      ],
      "text/plain": [
       "    α\n",
       "1 - ─\n",
       "    2"
      ]
     },
     "execution_count": 32,
     "metadata": {},
     "output_type": "execute_result"
    },
    {
     "data": {
      "image/png": "[encoded data removed]",
      "text/latex": [
       "$\\displaystyle 0.975$"
      ],
      "text/plain": [
       "0.975000000000000"
      ]
     },
     "execution_count": 32,
     "metadata": {},
     "output_type": "execute_result"
    },
    {
     "data": {
      "image/png": "[encoded data removed]",
      "text/latex": [
       "$\\displaystyle 1.959963984540054$"
      ],
      "text/plain": [
       "1.959963984540054"
      ]
     },
     "execution_count": 32,
     "metadata": {},
     "output_type": "execute_result"
    }
   ],
   "source": [
    "# 分位点\n",
    "alpha_v = 0.05\n",
    "a_1 = 1-alpha/2\n",
    "a_1\n",
    "\n",
    "z_a = norm.ppf(float(a_1.subs(alpha,alpha_v))) # 上alpha/2分位点\n",
    "z_a"
   ]
  },
  {
   "cell_type": "code",
   "execution_count": 34,
   "metadata": {},
   "outputs": [
    {
     "data": {
      "image/png": "[encoded data removed]",
      "text/latex": [
       "$\\displaystyle 2.9$"
      ],
      "text/plain": [
       "2.9"
      ]
     },
     "execution_count": 34,
     "metadata": {},
     "output_type": "execute_result"
    },
    {
     "name": "stdout",
     "output_type": "stream",
     "text": [
      "reject\n"
     ]
    }
   ],
   "source": [
    "# 比较\n",
    "n_1_v = 60\n",
    "n_2_v = 60\n",
    "sigma_1_v = 20\n",
    "sigma_2_v = 18\n",
    "x_v = 59.34\n",
    "y_v = 49.16\n",
    "z_ = z.subs({x_:x_v,y_:y_v,sigma_1:sigma_1_v,sigma_2:sigma_2_v,n_1:n_1_v,n_2:n_2_v}).evalf(2)\n",
    "z_\n",
    "# z_>z_a # 拒绝假设\n",
    "if z_>z_a:\n",
    "    print(\"reject\")\n",
    "else:\n",
    "    print(\"accept\")"
   ]
  },
  {
   "cell_type": "markdown",
   "metadata": {},
   "source": [
    "### t检验"
   ]
  },
  {
   "cell_type": "markdown",
   "metadata": {},
   "source": [
    "#### 例6  \n",
    "$某实验室分别在75^oC和80^oC的温度下对某项指标做了8次试验，测得该项指标的如下数据：\\\\\n",
    "\\begin{array}{c|c}\n",
    "75^oC & 19.6,19.8,18.8,19.9,21.4,20.9,19.7,21.3\\\\\n",
    "\\hline\n",
    "80^oC & 20.6,18.9,20.1,20.2,20.3,19.4,18.8,17.8\\\\\n",
    "\\end{array}\\\\\n",
    "由经验知道，该项试验指标的数据服从正态分布，且方差相等问在显著性水平00:05下是否可以认为在两种温度下该项指标的数学期望也相等$"
   ]
  },
  {
   "cell_type": "code",
   "execution_count": 39,
   "metadata": {},
   "outputs": [
    {
     "data": {
      "image/png": "[encoded data removed]",
      "text/latex": [
       "$\\displaystyle \\left( \\overline{x}, \\  \\overline{y}\\right)$"
      ],
      "text/plain": [
       "(\\overline{x}, \\overline{y})"
      ]
     },
     "execution_count": 39,
     "metadata": {},
     "output_type": "execute_result"
    },
    {
     "data": {
      "image/png": "[encoded data removed]",
      "text/latex": [
       "$\\displaystyle \\left( \\sigma_1, \\  \\sigma_2, \\  \\alpha, \\  S^{2}_{1}, \\  S^{2}_{2}\\right)$"
      ],
      "text/plain": [
       "(\\sigma₁, \\sigma₂, α, S²₁, S²₂)"
      ]
     },
     "execution_count": 39,
     "metadata": {},
     "output_type": "execute_result"
    },
    {
     "data": {
      "image/png": "[encoded data removed]",
      "text/latex": [
       "$\\displaystyle \\frac{\\overline{x} - \\overline{y}}{\\sqrt{\\frac{S^{2}_{1} \\left(n_{1} - 1\\right) + S^{2}_{2} \\left(n_{2} - 1\\right)}{n_{1} + n_{2} - 2}} \\sqrt{\\frac{1}{n_{2}} + \\frac{1}{n_{1}}}}$"
      ],
      "text/plain": [
       "          \\overline{x} - \\overline{y}          \n",
       "───────────────────────────────────────────────\n",
       "    _____________________________     _________\n",
       "   ╱ S²₁⋅(n₁ - 1) + S²₂⋅(n₂ - 1)     ╱ 1    1  \n",
       "  ╱  ─────────────────────────── ⋅  ╱  ── + ── \n",
       "╲╱           n₁ + n₂ - 2          ╲╱   n₂   n₁ "
      ]
     },
     "execution_count": 39,
     "metadata": {},
     "output_type": "execute_result"
    }
   ],
   "source": [
    "# 建立模型\n",
    "n_1,n_2 = symbols('n_1,n_2',positive=True,integer=True)\n",
    "sigma_1,sigma_2, S2_1, S2_2, alpha = symbols('\\sigma_1,\\sigma_2, S_1^2, S_2^2, alpha')\n",
    "x_,y_ = symbols('\\overline{x},\\overline{y}')\n",
    "x_,y_\n",
    "sigma_1,sigma_2,alpha,S_1_2, S_2_2\n",
    "S_w = sqrt(((n_1-1)*S2_1+(n_2-1)*S2_2)/(n_1+n_2-2))\n",
    "t =(x_-y_)/(S_w*sqrt(1/n_1+1/n_2))\n",
    "t\n"
   ]
  },
  {
   "cell_type": "code",
   "execution_count": 40,
   "metadata": {
    "scrolled": true
   },
   "outputs": [
    {
     "data": {
      "image/png": "[encoded data removed]",
      "text/latex": [
       "$\\displaystyle 1 - \\frac{\\alpha}{2}$"
      ],
      "text/plain": [
       "    α\n",
       "1 - ─\n",
       "    2"
      ]
     },
     "execution_count": 40,
     "metadata": {},
     "output_type": "execute_result"
    },
    {
     "data": {
      "image/png": "[encoded data removed]",
      "text/latex": [
       "$\\displaystyle 0.975$"
      ],
      "text/plain": [
       "0.975000000000000"
      ]
     },
     "execution_count": 40,
     "metadata": {},
     "output_type": "execute_result"
    },
    {
     "data": {
      "image/png": "[encoded data removed]",
      "text/latex": [
       "$\\displaystyle 2.1447866879169273$"
      ],
      "text/plain": [
       "2.1447866879169273"
      ]
     },
     "execution_count": 40,
     "metadata": {},
     "output_type": "execute_result"
    }
   ],
   "source": [
    "# 分位点\n",
    "n_1_v, n_2_v = 8, 8\n",
    "alpha_v = 0.05\n",
    "a_1 = 1 - alpha / 2\n",
    "a_1\n",
    "\n",
    "t_a = td.ppf(float(a_1.subs(alpha, alpha_v)), df=(n_1_v + n_2_v - 2))  # 上alpha/2分位点\n",
    "t_a"
   ]
  },
  {
   "cell_type": "code",
   "execution_count": 41,
   "metadata": {},
   "outputs": [
    {
     "data": {
      "image/png": "[encoded data removed]",
      "text/latex": [
       "$\\displaystyle \\left( 20.175, \\  19.512500000000003, \\  0.8507142857142848, \\  0.9212500000000006\\right)$"
      ],
      "text/plain": [
       "(20.175, 19.512500000000003, 0.8507142857142848, 0.9212500000000006)"
      ]
     },
     "execution_count": 41,
     "metadata": {},
     "output_type": "execute_result"
    },
    {
     "data": {
      "image/png": "[encoded data removed]",
      "text/latex": [
       "$\\displaystyle 0.7443749999999991$"
      ],
      "text/plain": [
       "0.7443749999999991"
      ]
     },
     "execution_count": 41,
     "metadata": {},
     "output_type": "execute_result"
    },
    {
     "data": {
      "image/png": "[encoded data removed]",
      "text/latex": [
       "$\\displaystyle 1.41$"
      ],
      "text/plain": [
       "1.41"
      ]
     },
     "execution_count": 41,
     "metadata": {},
     "output_type": "execute_result"
    },
    {
     "name": "stdout",
     "output_type": "stream",
     "text": [
      "accept\n"
     ]
    }
   ],
   "source": [
    "# 比较\n",
    "\n",
    "data_x = np.array([19.6,19.8,18.8,19.9,21.4,20.9,19.7,21.3])\n",
    "data_y = np.array([20.6,18.9,20.1,20.2,20.3,19.4,18.8,17.8])\n",
    "x_v = np.mean(data_x)\n",
    "y_v = np.mean(data_y)\n",
    "# 不计算标准差，直接计算方差\n",
    "S2_1_v = np.var(data_x,ddof=1)\n",
    "S2_2_v = np.var(data_y,ddof=1)\n",
    "x_v,y_v,S2_1_v,S2_2_v\n",
    "np.var(data_x)\n",
    "t_ = t.subs({x_:x_v,y_:y_v,S2_1:S2_1_v,S2_2:S2_2_v,n_1:n_1_v,n_2:n_2_v}).evalf(3)\n",
    "t_\n",
    "# t_>t_a #接受\n",
    "if t_>t_a:\n",
    "    print(\"reject\")\n",
    "else:\n",
    "    print(\"accept\")"
   ]
  },
  {
   "cell_type": "markdown",
   "metadata": {},
   "source": [
    "#### 例7  \n",
    "$为了比较磷肥对玉米产量的影响，某作物试验区把18块条件相同的土地分为甲、乙两组，甲组土地施磷肥，一组土地不施磷肥。\\\\\n",
    "玉米收割后统计两组土地的亩产量(单位：10kg)。\\\\\n",
    "甲组：55,64,62,63,59,62,61,56,59\\\\\n",
    "乙组：51,60,55,54,55,52,61,50,52\\\\\n",
    "设两组土地的玉米亩产量都符合方差相同的正态分布，问在显著性水平\\alpha=0.1之下，施用磷肥是否有利于玉米产量的显著增加？$"
   ]
  },
  {
   "cell_type": "code",
   "execution_count": 50,
   "metadata": {},
   "outputs": [
    {
     "data": {
      "image/png": "[encoded data removed]",
      "text/latex": [
       "$\\displaystyle \\left( \\overline{x}, \\  \\overline{y}\\right)$"
      ],
      "text/plain": [
       "(\\overline{x}, \\overline{y})"
      ]
     },
     "execution_count": 50,
     "metadata": {},
     "output_type": "execute_result"
    },
    {
     "data": {
      "image/png": "[encoded data removed]",
      "text/latex": [
       "$\\displaystyle \\left( \\sigma_1, \\  \\sigma_2, \\  \\alpha, \\  S^{2}_{1}, \\  S^{2}_{2}\\right)$"
      ],
      "text/plain": [
       "(\\sigma₁, \\sigma₂, α, S²₁, S²₂)"
      ]
     },
     "execution_count": 50,
     "metadata": {},
     "output_type": "execute_result"
    },
    {
     "data": {
      "image/png": "[encoded data removed]",
      "text/latex": [
       "$\\displaystyle \\frac{\\overline{x} - \\overline{y}}{\\sqrt{\\frac{S^{2}_{1} \\left(n_{1} - 1\\right) + S^{2}_{2} \\left(n_{2} - 1\\right)}{n_{1} + n_{2} - 2}} \\sqrt{\\frac{1}{n_{2}} + \\frac{1}{n_{1}}}}$"
      ],
      "text/plain": [
       "          \\overline{x} - \\overline{y}          \n",
       "───────────────────────────────────────────────\n",
       "    _____________________________     _________\n",
       "   ╱ S²₁⋅(n₁ - 1) + S²₂⋅(n₂ - 1)     ╱ 1    1  \n",
       "  ╱  ─────────────────────────── ⋅  ╱  ── + ── \n",
       "╲╱           n₁ + n₂ - 2          ╲╱   n₂   n₁ "
      ]
     },
     "execution_count": 50,
     "metadata": {},
     "output_type": "execute_result"
    }
   ],
   "source": [
    "# 建立模型\n",
    "n_1,n_2 = symbols('n_1,n_2',positive=True,integer=True)\n",
    "sigma_1,sigma_2, S2_1, S2_2, alpha = symbols('\\sigma_1,\\sigma_2, S_1^2, S_2^2, alpha')\n",
    "x_,y_ = symbols('\\overline{x},\\overline{y}')\n",
    "x_,y_\n",
    "sigma_1,sigma_2,alpha,S_1_2, S_2_2\n",
    "S_w = sqrt(((n_1-1)*S2_1+(n_2-1)*S2_2)/(n_1+n_2-2))\n",
    "t =(x_-y_)/(S_w*sqrt(1/n_1+1/n_2))\n",
    "t\n"
   ]
  },
  {
   "cell_type": "code",
   "execution_count": 51,
   "metadata": {},
   "outputs": [
    {
     "data": {
      "image/png": "[encoded data removed]",
      "text/latex": [
       "$\\displaystyle 1.3367571673273142$"
      ],
      "text/plain": [
       "1.3367571673273142"
      ]
     },
     "execution_count": 51,
     "metadata": {},
     "output_type": "execute_result"
    }
   ],
   "source": [
    "# 分位点\n",
    "n_1_v, n_2_v = 9, 9\n",
    "alpha_v = 0.1\n",
    "\n",
    "a_1 = 1 - alpha\n",
    "\n",
    "t_a = td.ppf(float(a_1.subs(alpha, alpha_v)), df=(n_1_v + n_2_v - 2))  # 上alpha/2分位点\n",
    "t_a # 1.3367571673273142"
   ]
  },
  {
   "cell_type": "code",
   "execution_count": 53,
   "metadata": {},
   "outputs": [
    {
     "data": {
      "image/png": "[encoded data removed]",
      "text/latex": [
       "$\\displaystyle \\left( 60.111111111111114, \\  54.44444444444444, \\  9.611111111111109, \\  14.777777777777779\\right)$"
      ],
      "text/plain": [
       "(60.111111111111114, 54.44444444444444, 9.611111111111109, 14.777777777777779)"
      ]
     },
     "execution_count": 53,
     "metadata": {},
     "output_type": "execute_result"
    },
    {
     "data": {
      "image/png": "[encoded data removed]",
      "text/latex": [
       "$\\displaystyle 3.44$"
      ],
      "text/plain": [
       "3.44"
      ]
     },
     "execution_count": 53,
     "metadata": {},
     "output_type": "execute_result"
    },
    {
     "name": "stdout",
     "output_type": "stream",
     "text": [
      "reject\n"
     ]
    }
   ],
   "source": [
    "# 比较\n",
    "n_1_v, n_2_v = 9, 9\n",
    "data_x = np.array([55,64,62,63,59,62,61,56,59])\n",
    "data_y = np.array([51,60,55,54,55,52,61,50,52])\n",
    "x_v = np.mean(data_x)\n",
    "y_v = np.mean(data_y)\n",
    "# 不计算标准差，直接计算方差\n",
    "S2_1_v = np.var(data_x,ddof=1)\n",
    "S2_2_v = np.var(data_y,ddof=1)\n",
    "x_v,y_v,S2_1_v,S2_2_v\n",
    "\n",
    "t_ = t.subs({x_:x_v,y_:y_v,S2_1:S2_1_v,S2_2:S2_2_v,n_1:n_1_v,n_2:n_2_v}).evalf(3)\n",
    "t_\n",
    "# t_>t_a #接受\n",
    "if t_>t_a:\n",
    "    print(\"reject\")\n",
    "else:\n",
    "    print(\"accept\")"
   ]
  },
  {
   "cell_type": "markdown",
   "metadata": {},
   "source": [
    "# 正态总体方差的假设检验"
   ]
  },
  {
   "cell_type": "markdown",
   "metadata": {},
   "source": [
    "## 单个总体方差的假设检验"
   ]
  },
  {
   "cell_type": "markdown",
   "metadata": {},
   "source": [
    "### 例1\n",
    "$某厂生产的某种型号的电池，其寿命（以h计）长期以来服从方差\\sigma^2=5 000的正态分布。\\\\\n",
    "现有一批这种电池，从它的生产情况来看，寿命的波动性 有所改变。\\\\\n",
    "现随机取26只电池，测出其寿命的样本方差\\sigma^2=9200。\\\\\n",
    "问根据这一数据能否推断这批电池的寿命的波动性较以往的有显著的变化（取\\alpha=0.02）?$"
   ]
  },
  {
   "cell_type": "code",
   "execution_count": 45,
   "metadata": {},
   "outputs": [
    {
     "data": {
      "image/png": "[encoded data removed]",
      "text/latex": [
       "$\\displaystyle \\left( \\overline{x}, \\  \\overline{y}, \\  \\sigma^2, \\  S^{2}\\right)$"
      ],
      "text/plain": [
       "(\\overline{x}, \\overline{y}, \\sigma², S²)"
      ]
     },
     "execution_count": 45,
     "metadata": {},
     "output_type": "execute_result"
    },
    {
     "data": {
      "image/png": "[encoded data removed]",
      "text/latex": [
       "$\\displaystyle \\frac{S^{2} \\left(n - 1\\right)}{\\sigma^2}$"
      ],
      "text/plain": [
       "S²⋅(n - 1)\n",
       "──────────\n",
       " \\sigma²  "
      ]
     },
     "execution_count": 45,
     "metadata": {},
     "output_type": "execute_result"
    }
   ],
   "source": [
    "# 建立模型\n",
    "n = symbols('n',positive=True,integer=True)\n",
    "sigma2, S2, alpha = symbols('\\sigma^2, S^2, alpha')\n",
    "# x_,y_ = symbols('\\overline{x},\\overline{y}')\n",
    "# x_,y_,sigma2, S2\n",
    "\n",
    "chi2 =(n-1)*S2/sigma2\n",
    "chi2\n"
   ]
  },
  {
   "cell_type": "code",
   "execution_count": 56,
   "metadata": {},
   "outputs": [
    {
     "data": {
      "image/png": "[encoded data removed]",
      "text/latex": [
       "$\\displaystyle 44.31410489621915$"
      ],
      "text/plain": [
       "44.31410489621915"
      ]
     },
     "execution_count": 56,
     "metadata": {},
     "output_type": "execute_result"
    },
    {
     "data": {
      "image/png": "[encoded data removed]",
      "text/latex": [
       "$\\displaystyle 11.52397537224934$"
      ],
      "text/plain": [
       "11.52397537224934"
      ]
     },
     "execution_count": 56,
     "metadata": {},
     "output_type": "execute_result"
    }
   ],
   "source": [
    "# 分位点\n",
    "n_v = 26\n",
    "alpha_v = 0.02\n",
    "\n",
    "a_1 = 1 - alpha / 2\n",
    "a_2 = alpha / 2\n",
    "\n",
    "chi2_a_1 = c2d.ppf(float(a_1.subs(alpha, alpha_v)), df=n_v - 1)\n",
    "chi2_a_2 = c2d.ppf(float(a_2.subs(alpha, alpha_v)), df=n_v - 1)\n",
    "chi2_a_1\n",
    "chi2_a_2"
   ]
  },
  {
   "cell_type": "code",
   "execution_count": 58,
   "metadata": {},
   "outputs": [
    {
     "data": {
      "image/png": "[encoded data removed]",
      "text/latex": [
       "$\\displaystyle 46.0$"
      ],
      "text/plain": [
       "46.0"
      ]
     },
     "execution_count": 58,
     "metadata": {},
     "output_type": "execute_result"
    },
    {
     "name": "stdout",
     "output_type": "stream",
     "text": [
      "reject\n"
     ]
    }
   ],
   "source": [
    "# 比较\n",
    "n_v = 26\n",
    "S2_v = 9200\n",
    "sigma2_v = 5000\n",
    "chi2_ = chi2.subs({n:n_v,S2:S2_v,sigma2:sigma2_v}).evalf(3)\n",
    "chi2_\n",
    "\n",
    "if chi2_>=chi2_a_1 or chi2_<=chi2_a_2:\n",
    "    print(\"reject\")\n",
    "else:\n",
    "    print(\"accept\")"
   ]
  },
  {
   "cell_type": "markdown",
   "metadata": {},
   "source": [
    "#### 例2  \n",
    "$包装机包装食盐设每袋食盐的净重服从正态分布，按规定每袋食盐净重为500克，标准差不超过10克。\\\\\n",
    "某日开工后随机抽取9袋食盐测，得净重(单位：克)为\\\\\n",
    "497,507,510,475,515,484,488,524,491\\\\\n",
    "问在显著性水平\\alpha=0.05下，该日包装的食盐净重的标准差是否正常$"
   ]
  },
  {
   "cell_type": "code",
   "execution_count": 59,
   "metadata": {},
   "outputs": [
    {
     "data": {
      "image/png": "[encoded data removed]",
      "text/latex": [
       "$\\displaystyle \\left( \\overline{x}, \\  \\overline{y}, \\  \\sigma^2, \\  S^{2}\\right)$"
      ],
      "text/plain": [
       "(\\overline{x}, \\overline{y}, \\sigma², S²)"
      ]
     },
     "execution_count": 59,
     "metadata": {},
     "output_type": "execute_result"
    },
    {
     "data": {
      "image/png": "[encoded data removed]",
      "text/latex": [
       "$\\displaystyle \\frac{S^{2} \\left(n - 1\\right)}{\\sigma^2}$"
      ],
      "text/plain": [
       "S²⋅(n - 1)\n",
       "──────────\n",
       " \\sigma²  "
      ]
     },
     "execution_count": 59,
     "metadata": {},
     "output_type": "execute_result"
    }
   ],
   "source": [
    "# 建立模型\n",
    "n = symbols('n',positive=True,integer=True)\n",
    "sigma2, S2, alpha = symbols('\\sigma^2, S^2, alpha')\n",
    "x_,y_ = symbols('\\overline{x},\\overline{y}')\n",
    "x_,y_,sigma2, S2\n",
    "\n",
    "chi2 =(n-1)*S2/sigma2\n",
    "chi2\n"
   ]
  },
  {
   "cell_type": "code",
   "execution_count": 71,
   "metadata": {},
   "outputs": [
    {
     "data": {
      "image/png": "[encoded data removed]",
      "text/latex": [
       "$\\displaystyle 15.50731305586545$"
      ],
      "text/plain": [
       "15.50731305586545"
      ]
     },
     "execution_count": 71,
     "metadata": {},
     "output_type": "execute_result"
    }
   ],
   "source": [
    "# 分位点\n",
    "n_v = 9\n",
    "alpha_v = 0.05\n",
    "\n",
    "a_1 = 1 - alpha # 上alpha分位点\n",
    "\n",
    "chi2_a = c2d.ppf(float(a_1.subs(alpha, alpha_v)), df=(n_v - 1))\n",
    "chi2_a\n"
   ]
  },
  {
   "cell_type": "code",
   "execution_count": 72,
   "metadata": {},
   "outputs": [
    {
     "data": {
      "image/png": "[encoded data removed]",
      "text/latex": [
       "$\\displaystyle 257.0$"
      ],
      "text/plain": [
       "257.0"
      ]
     },
     "execution_count": 72,
     "metadata": {},
     "output_type": "execute_result"
    },
    {
     "data": {
      "image/png": "[encoded data removed]",
      "text/latex": [
       "$\\displaystyle 20.6$"
      ],
      "text/plain": [
       "20.6"
      ]
     },
     "execution_count": 72,
     "metadata": {},
     "output_type": "execute_result"
    },
    {
     "name": "stdout",
     "output_type": "stream",
     "text": [
      "reject\n"
     ]
    }
   ],
   "source": [
    "# 代入比较\n",
    "n_v = 9\n",
    "sigma2_v = 10**2\n",
    "\n",
    "data=np.array([497,507,510,475,515,484,488,524,491])\n",
    "S2_v = np.var(data,ddof=1)\n",
    "S2_v\n",
    "chi2_ = chi2.subs({n:n_v,S2:S2_v,sigma2:sigma2_v}).evalf(3)\n",
    "chi2_\n",
    "\n",
    "if chi2_>=chi2_a:\n",
    "    print(\"reject\")\n",
    "else:\n",
    "    print(\"accept\")"
   ]
  },
  {
   "cell_type": "code",
   "execution_count": null,
   "metadata": {},
   "outputs": [],
   "source": []
  },
  {
   "cell_type": "markdown",
   "metadata": {},
   "source": [
    "## 两个总体方差的假设检验"
   ]
  },
  {
   "cell_type": "markdown",
   "metadata": {},
   "source": [
    "#### 例3  \n",
    "$为了比较磷肥对玉米产量的影响，某作物试验区把18块条件相同的土地分为甲、乙两组，甲组土地施磷肥，一组土地不施磷肥。\\\\\n",
    "玉米收割后统计两组土地的亩产量(单位：10kg)。\\\\\n",
    "甲组：55,64,62,63,59,62,61,56,59\\\\\n",
    "乙组：51,60,55,54,55,52,61,50,52\\\\\n",
    "设两组土地的玉米亩产量都符合方差相同的正态分布，问在显著性水平\\alpha=0.05下，甲乙两组玉米亩产量的方差是否相同？$"
   ]
  },
  {
   "cell_type": "code",
   "execution_count": 74,
   "metadata": {},
   "outputs": [
    {
     "data": {
      "image/png": "[encoded data removed]",
      "text/latex": [
       "$\\displaystyle \\left( \\sigma_1, \\  \\sigma_2, \\  \\alpha, \\  S^{2}_{1}, \\  S^{2}_{2}\\right)$"
      ],
      "text/plain": [
       "(\\sigma₁, \\sigma₂, α, S²₁, S²₂)"
      ]
     },
     "execution_count": 74,
     "metadata": {},
     "output_type": "execute_result"
    }
   ],
   "source": [
    "# 建立模型\n",
    "# n_1,n_2 = symbols('n_1,n_2',positive=True,integer=True)\n",
    "sigma_1,sigma_2, S2_1, S2_2, alpha = symbols('\\sigma_1,\\sigma_2, S_1^2, S_2^2, alpha')\n",
    "sigma_1,sigma_2,alpha,S_1_2, S_2_2\n",
    "F = S2_1/S2_2\n"
   ]
  },
  {
   "cell_type": "code",
   "execution_count": 81,
   "metadata": {},
   "outputs": [
    {
     "data": {
      "image/png": "[encoded data removed]",
      "text/latex": [
       "$\\displaystyle 4.433259889182375$"
      ],
      "text/plain": [
       "4.433259889182375"
      ]
     },
     "execution_count": 81,
     "metadata": {},
     "output_type": "execute_result"
    },
    {
     "data": {
      "image/png": "[encoded data removed]",
      "text/latex": [
       "$\\displaystyle 0.2255676466069824$"
      ],
      "text/plain": [
       "0.2255676466069824"
      ]
     },
     "execution_count": 81,
     "metadata": {},
     "output_type": "execute_result"
    }
   ],
   "source": [
    "# 分位点\n",
    "n_1_v, n_2_v = 9, 9\n",
    "alpha_v = 0.05\n",
    "\n",
    "a_1 = 1 - alpha/2 # 上alpha/2分位点\n",
    "a_2 = alpha/2\n",
    "F_a_1 = fd.ppf(float(a_1.subs(alpha, alpha_v)),dfn=n_1_v-1,dfd = n_2_v-1)  # 上alpha/2分位点\n",
    "F_a_1 \n",
    "F_a_2 = fd.ppf(float(a_2.subs(alpha, alpha_v)), dfn=n_1_v-1,dfd = n_2_v-1)  # 上alpha/2分位点\n",
    "F_a_2 "
   ]
  },
  {
   "cell_type": "code",
   "execution_count": 82,
   "metadata": {},
   "outputs": [
    {
     "data": {
      "image/png": "[encoded data removed]",
      "text/latex": [
       "$\\displaystyle 0.65$"
      ],
      "text/plain": [
       "0.650"
      ]
     },
     "execution_count": 82,
     "metadata": {},
     "output_type": "execute_result"
    },
    {
     "name": "stdout",
     "output_type": "stream",
     "text": [
      "accept\n"
     ]
    }
   ],
   "source": [
    "# 比较\n",
    "n_1_v, n_2_v = 9, 9\n",
    "data_x = np.array([55,64,62,63,59,62,61,56,59])\n",
    "data_y = np.array([51,60,55,54,55,52,61,50,52])\n",
    "# x_v = np.mean(data_x)\n",
    "# y_v = np.mean(data_y)\n",
    "# 不计算标准差，直接计算方差\n",
    "S2_1_v = np.var(data_x,ddof=1)\n",
    "S2_2_v = np.var(data_y,ddof=1)\n",
    "# x_v,y_v,S2_1_v,S2_2_v\n",
    "\n",
    "F_ = F.subs({S2_1:S2_1_v,S2_2:S2_2_v}).evalf(3)\n",
    "F_\n",
    "\n",
    "if F_>F_a_1 or F_ < F_a_2:\n",
    "    print(\"reject\")\n",
    "else:\n",
    "    print(\"accept\")"
   ]
  },
  {
   "cell_type": "markdown",
   "metadata": {},
   "source": [
    "#### 例4\n",
    "$有两台机器生产金属部件。分别在两台机器所生产的部件中各取一容量n_1=60，n_2 =40的样本，\\\\\n",
    "测得部件重量（以kg计）的样本方差分别为s_1^2= 15.46,s_2^2=9.66。\\\\\n",
    "设两样本相互独立，两总体分别服从正态分布N(\\mu_1,\\sigma_1^2),N(\\mu_2,\\sigma_2^2)，\\mu_1,\\sigma_1^2,\\mu_2,\\sigma_2^2均未知。\\\\\n",
    "试在显著性水平\\alpha =0.05下检验假设\\\\\n",
    "H_0:\\sigma_1^2\\le \\sigma_2^2,\\ H_1:\\sigma_1^2>\\sigma_2^2$"
   ]
  },
  {
   "cell_type": "code",
   "execution_count": 88,
   "metadata": {},
   "outputs": [
    {
     "data": {
      "image/png": "[encoded data removed]",
      "text/latex": [
       "$\\displaystyle \\left( \\sigma_{1}, \\  \\sigma_2, \\  \\alpha, \\  S^{2}_{1}, \\  S^{2}_{2}\\right)$"
      ],
      "text/plain": [
       "(σ₁, \\sigma₂, α, S²₁, S²₂)"
      ]
     },
     "execution_count": 88,
     "metadata": {},
     "output_type": "execute_result"
    }
   ],
   "source": [
    "# 建立模型\n",
    "# n_1,n_2 = symbols('n_1,n_2',positive=True,integer=True)\n",
    "sigma_1,sigma_2, S2_1, S2_2, alpha = symbols('sigma_1,\\sigma_2, S_1^2, S_2^2, alpha')\n",
    "sigma_1,sigma_2,alpha,S_1_2, S_2_2\n",
    "F = S2_1/S2_2\n"
   ]
  },
  {
   "cell_type": "code",
   "execution_count": 84,
   "metadata": {},
   "outputs": [
    {
     "data": {
      "image/png": "[encoded data removed]",
      "text/latex": [
       "$\\displaystyle 1.647074731879087$"
      ],
      "text/plain": [
       "1.647074731879087"
      ]
     },
     "execution_count": 84,
     "metadata": {},
     "output_type": "execute_result"
    }
   ],
   "source": [
    "# 分位点\n",
    "n_1_v, n_2_v = 60, 40\n",
    "alpha_v = 0.05\n",
    "\n",
    "a_1 = 1 - alpha # 上alpha分位点\n",
    "\n",
    "F_a = fd.ppf(float(a_1.subs(alpha, alpha_v)),dfn=n_1_v-1,dfd = n_2_v-1)  # 上alpha/2分位点\n",
    "F_a \n",
    " "
   ]
  },
  {
   "cell_type": "code",
   "execution_count": 87,
   "metadata": {},
   "outputs": [
    {
     "data": {
      "image/png": "[encoded data removed]",
      "text/latex": [
       "$\\displaystyle 1.62$"
      ],
      "text/plain": [
       "1.62"
      ]
     },
     "execution_count": 87,
     "metadata": {},
     "output_type": "execute_result"
    },
    {
     "name": "stdout",
     "output_type": "stream",
     "text": [
      "accept\n"
     ]
    },
    {
     "data": {
      "image/png": "[encoded data removed]",
      "text/latex": [
       "$\\displaystyle 1.619047619047619$"
      ],
      "text/plain": [
       "1.619047619047619"
      ]
     },
     "execution_count": 87,
     "metadata": {},
     "output_type": "execute_result"
    }
   ],
   "source": [
    "# 比较\n",
    "n_1_v, n_2_v = 60, 40\n",
    "S2_1_v = 15.64\n",
    "S2_2_v = 9.66\n",
    "\n",
    "\n",
    "F_ = F.subs({S2_1:S2_1_v,S2_2:S2_2_v}).evalf(3)\n",
    "F_\n",
    "\n",
    "if F_>F_a:\n",
    "    print(\"reject\")\n",
    "else:\n",
    "    print(\"accept\")\n"
   ]
  }
 ],
 "metadata": {
  "kernelspec": {
   "display_name": "Python 3",
   "language": "python",
   "name": "python3"
  },
  "language_info": {
   "codemirror_mode": {
    "name": "ipython",
    "version": 3
   },
   "file_extension": ".py",
   "mimetype": "text/x-python",
   "name": "python",
   "nbconvert_exporter": "python",
   "pygments_lexer": "ipython3",
   "version": "3.8.5"
  },
  "toc": {
   "base_numbering": 1,
   "nav_menu": {},
   "number_sections": true,
   "sideBar": true,
   "skip_h1_title": false,
   "title_cell": "Table of Contents",
   "title_sidebar": "Contents",
   "toc_cell": false,
   "toc_position": {
    "height": "calc(100% - 180px)",
    "left": "10px",
    "top": "150px",
    "width": "253.723px"
   },
   "toc_section_display": true,
   "toc_window_display": true
  }
 },
 "nbformat": 4,
 "nbformat_minor": 4
}
