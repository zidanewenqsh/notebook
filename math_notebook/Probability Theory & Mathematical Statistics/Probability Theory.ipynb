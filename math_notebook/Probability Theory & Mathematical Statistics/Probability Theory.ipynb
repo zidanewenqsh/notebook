{
 "cells": [
  {
   "cell_type": "markdown",
   "metadata": {},
   "source": [
    "## 导包"
   ]
  },
  {
   "cell_type": "code",
   "execution_count": null,
   "metadata": {},
   "outputs": [],
   "source": [
    "from IPython.core.interactiveshell import InteractiveShell \n",
    "InteractiveShell.ast_node_interactivity = 'all' #默认为'last'\n",
    "\n",
    "import numpy as np\n",
    "import pandas as pd\n",
    "import os\n",
    "import sympy \n",
    "from sympy import *\n",
    "# from sympy.abc import *\n",
    "# from sympy import gamma\n",
    "from matplotlib import pyplot as plt\n",
    "%matplotlib inline\n",
    "plt.rcParams['font.sans-serif']=['SimHei'] #指定默认字体 SimHei为黑体\n",
    "plt.rcParams['axes.unicode_minus']=False #用来正常显示负号\n",
    "sympy.init_printing(use_latex=True)\n",
    "x, y, z = symbols('x y z',real=True)"
   ]
  },
  {
   "cell_type": "markdown",
   "metadata": {},
   "source": [
    "## 正态分布代码  \n",
    "```\n",
    "mu,sigma = symbols('mu sigma')\n",
    "fx = (1/(sigma*sqrt(2*pi)))*exp(-(x-mu)**2/(2*sigma**2))\n",
    "```"
   ]
  },
  {
   "cell_type": "markdown",
   "metadata": {},
   "source": [
    "# 第一章 概率论的基本概念"
   ]
  },
  {
   "cell_type": "markdown",
   "metadata": {},
   "source": [
    "### [exercises](Exercise_1.ipynb)"
   ]
  },
  {
   "cell_type": "markdown",
   "metadata": {},
   "source": [
    "# 第二章 随机变量及其分布"
   ]
  },
  {
   "cell_type": "markdown",
   "metadata": {},
   "source": [
    "### [exercises](Exercise_2.ipynb)"
   ]
  },
  {
   "cell_type": "markdown",
   "metadata": {},
   "source": [
    "## 随机变量"
   ]
  },
  {
   "cell_type": "markdown",
   "metadata": {},
   "source": [
    "## 离散型随机变量及其分布律"
   ]
  },
  {
   "cell_type": "markdown",
   "metadata": {},
   "source": [
    "### 0-1分布  \n",
    "$\\begin{array}{c|cc} \n",
    "X & 0 & 1 \\\\\n",
    "\\hline\n",
    "p_k & 1-p & p \\\\\n",
    "\\end{array}$"
   ]
  },
  {
   "cell_type": "markdown",
   "metadata": {},
   "source": [
    "### 二项分布 (伯努利分布)  \n",
    "$X\\sim b(n,p) \\\\ \n",
    "P\\{X=k\\}=C_n^kp^k(1-p)^{n-k} \\ (k=0,1,...,n)$"
   ]
  },
  {
   "cell_type": "markdown",
   "metadata": {},
   "source": [
    "### 泊松分布  \n",
    "$X\\sim \\pi(\\lambda) \\\\ \n",
    "P(x=k)=\\frac{\\lambda^k}{k!}e^{-\\lambda} \\ (k=0,1,2,...)$  \n",
    "```\n",
    "lamda = symbols('lamda')\n",
    "px = exp(-lamda)*lamda**k/factorial(k)\n",
    "```"
   ]
  },
  {
   "cell_type": "markdown",
   "metadata": {},
   "source": [
    "### 几何分布\n",
    "$X\\sim G(p) \\\\\n",
    "P(x=k)=p(1-p)^{k-1} \\ (k=1,2,...)$  \n",
    "$"
   ]
  },
  {
   "cell_type": "markdown",
   "metadata": {},
   "source": [
    "### 超几何分布  \n",
    "$X\\sim H(N,M,n)$  \n",
    "$p\\{x=k\\}=\\frac{C_M^k C_{N-M}^{n-k}}{C_N^n}$"
   ]
  },
  {
   "cell_type": "markdown",
   "metadata": {},
   "source": [
    "## 随机变量的分布函数"
   ]
  },
  {
   "cell_type": "markdown",
   "metadata": {},
   "source": [
    "## 连续型随机变量及其概率密度"
   ]
  },
  {
   "cell_type": "markdown",
   "metadata": {},
   "source": [
    "### 均匀分布  \n",
    "$X\\sim U(a,b)$  "
   ]
  },
  {
   "cell_type": "markdown",
   "metadata": {},
   "source": [
    "### 指数分布  \n",
    "$X\\sim E(\\lambda)$  \n",
    "$f(x)=\\begin{cases} \\lambda e^{- \\lambda x} & x > 0 \\\\0 & x\\le 0 \\end{cases}$  \n",
    "`$f(x)=\\begin{cases} \\lambda e^{- \\lambda x} & x > 0 \\\\0 & x\\le 0 \\end{cases}$`"
   ]
  },
  {
   "cell_type": "code",
   "execution_count": null,
   "metadata": {},
   "outputs": [],
   "source": [
    "t1 = symbols('t')\n",
    "t = symbols('t', positive=True)\n",
    "lamda = symbols('lamda', real=True)\n",
    "ft = lamda * exp(-lamda * t)\n",
    "ft_ = Piecewise((lamda * exp(-lamda * t1),t1>0),(0, True))\n",
    "ft_\n",
    "print_latex(ft_)"
   ]
  },
  {
   "cell_type": "markdown",
   "metadata": {},
   "source": [
    "### 正态分布  \n",
    "$X\\sim N(\\mu, \\sigma^2) \\\\ \n",
    "f(x)=\\frac{1}{\\sqrt{2\\pi}\\sigma}e^{- \\frac{\\left(x - \\mu \\right)^{2}}{2 \\sigma^{2}}}$  \n",
    "```\n",
    "mu,sigma = symbols('mu sigma')\n",
    "fx = (1/(sigma*sqrt(2*pi)))*exp(-(x-mu)**2/(2*sigma**2))\n",
    "```"
   ]
  },
  {
   "cell_type": "code",
   "execution_count": null,
   "metadata": {},
   "outputs": [],
   "source": [
    "mu,sigma = symbols('mu sigma')\n",
    "fx = (1/(sigma*sqrt(2*pi)))*exp(-(x-mu)**2/(2*sigma**2))\n",
    "print_latex(fx)"
   ]
  },
  {
   "cell_type": "markdown",
   "metadata": {},
   "source": [
    "#### 正态分布的标准化  \n",
    "$若X\\sim N(\\mu, \\sigma^2)，则Z=\\frac{X-\\mu}{\\sigma}\\sim N(0,1) \\\\\n",
    "F(x)=\\Phi(\\frac{x-\\mu}{\\sigma})$"
   ]
  },
  {
   "cell_type": "markdown",
   "metadata": {},
   "source": [
    "## 随机变量的函数的分布  \n",
    "$$f_Y(y)=f_X(g^{-1}(y))|(g^{-1})\\prime(y))|$$"
   ]
  },
  {
   "cell_type": "code",
   "execution_count": null,
   "metadata": {},
   "outputs": [],
   "source": [
    "# Discrete probability distribution\n",
    "# 离散型随机变量函数的分布\n",
    "def DPD(X, p):\n",
    "    '''\n",
    "    离散型随机变量函数的分布\n",
    "    :param X: 离散型随机变量的取值\n",
    "    :param p: 离散型随机变量的概率\n",
    "    :return: 离散型随机变量函数的分布\n",
    "    '''\n",
    "    return pd.DataFrame(data=np.stack((X, p), axis=1),\n",
    "                        columns=['X', 'p']).groupby('X').sum()# 去重\n",
    "# DPD(X,p)\n",
    "# DPD(Y,p)\n",
    "# DPD(Z,p)"
   ]
  },
  {
   "cell_type": "code",
   "execution_count": null,
   "metadata": {},
   "outputs": [],
   "source": [
    "# 反函数inverse function\n",
    "x,y = symbols('x y')\n",
    "f = 1- x**(1/3)-y\n",
    "def inv_func(func,x):\n",
    "    '''\n",
    "    计算反函数\n",
    "    :param func: 原函数 \n",
    "    :param x: 自变量\n",
    "    :return: \n",
    "    '''\n",
    "    return solve(func,x)[0]\n",
    "inv_func(f,x)\n",
    "type(x)\n",
    "type(f)\n",
    "# 计算函数的分布\n",
    "a, b, x, y = symbols('a b x y')\n",
    "f = a*x+b-y\n",
    "def func_density(fx, func, x, y):\n",
    "    '''\n",
    "    已知原分布概率密度求函数的概率密度\n",
    "    :param fx: 自变量的分布\n",
    "    :param func: 原函数\n",
    "    :param x: 原分布的自变量\n",
    "    :param y: 因变量，新分布的自变量\n",
    "    :return: \n",
    "    '''\n",
    "    x1 = solve(func,x)[0]\n",
    "    fy = fx.subs({x:x1})*Abs(diff(x1,y)) # 导数的绝对值\n",
    "    return fy\n",
    "\n",
    "# def func_dist(Fx, Func, x, y):\n",
    "#     '''\n",
    "#     已知原分布分布函数求函数的分布函数\n",
    "#     :param Fx: 自变量的分布\n",
    "#     :param Func: 原函数\n",
    "#     :param x: 原分布的自变量\n",
    "#     :param y: 因变量，新分布的自变量\n",
    "#     :return: \n",
    "#     '''\n",
    "#     x1 = solve(Func,x)[0]\n",
    "#     fy = Fx.subs({x:x1})*Abs(diff(x1,y)) # 导数的绝对值\n",
    "#     return fy\n",
    "# func_dist(fx,f,x,y)"
   ]
  },
  {
   "cell_type": "code",
   "execution_count": null,
   "metadata": {},
   "outputs": [],
   "source": []
  },
  {
   "cell_type": "markdown",
   "metadata": {},
   "source": [
    "# 第三章 多维随机变量及其分布"
   ]
  },
  {
   "cell_type": "markdown",
   "metadata": {},
   "source": [
    "### [exercises](Exercise_3.ipynb)"
   ]
  },
  {
   "cell_type": "markdown",
   "metadata": {},
   "source": [
    "## 二维随机变量"
   ]
  },
  {
   "cell_type": "code",
   "execution_count": null,
   "metadata": {},
   "outputs": [],
   "source": []
  },
  {
   "cell_type": "markdown",
   "metadata": {},
   "source": [
    "## 边缘分布"
   ]
  },
  {
   "cell_type": "code",
   "execution_count": null,
   "metadata": {},
   "outputs": [],
   "source": []
  },
  {
   "cell_type": "markdown",
   "metadata": {},
   "source": [
    "## 条件分布"
   ]
  },
  {
   "cell_type": "code",
   "execution_count": null,
   "metadata": {},
   "outputs": [],
   "source": []
  },
  {
   "cell_type": "markdown",
   "metadata": {},
   "source": [
    "## 相互独立的随机变量"
   ]
  },
  {
   "cell_type": "code",
   "execution_count": null,
   "metadata": {},
   "outputs": [],
   "source": []
  },
  {
   "cell_type": "markdown",
   "metadata": {},
   "source": [
    "## 两个随机变量的函数的分布"
   ]
  },
  {
   "cell_type": "markdown",
   "metadata": {},
   "source": [
    "### 连续性随机变量的函数的分布"
   ]
  },
  {
   "cell_type": "markdown",
   "metadata": {},
   "source": [
    "瑞利分布"
   ]
  },
  {
   "cell_type": "code",
   "execution_count": null,
   "metadata": {},
   "outputs": [],
   "source": [
    "# 概率密度\n",
    "# 瑞利分布\n",
    "fz = diff(Fz,z)\n",
    "fz"
   ]
  },
  {
   "cell_type": "markdown",
   "metadata": {},
   "source": [
    "### 二维离散型随机变量  \n",
    "方法类似于一维离散型随机变量"
   ]
  },
  {
   "cell_type": "markdown",
   "metadata": {},
   "source": [
    "假设随机变量$X1,X2,X3,X4$相互独立且同分布,  \n",
    "$P\\{X_i=0\\}=0.6, \\ P\\{X_i=1\\}=0.4 \\ (i=1,2,3,4)$  \n",
    "求行列式$X = \\begin{vmatrix}X_1 & X_2 \\\\ X_3 & X_4\\\\ \\end{vmatrix}$的概率分布"
   ]
  },
  {
   "cell_type": "markdown",
   "metadata": {},
   "source": [
    "### Z=X+Y的概率分布  \n",
    "$f_Z(z)=\\int_{-\\infty}^{\\infty}f(z-y,y)dy$  \n",
    "$f_Z(z)=\\int_{-\\infty}^{\\infty}f(x,z-x)dx$  \n",
    "***\n",
    "如果$X$和$Y$相互独立  \n",
    "卷积公式  \n",
    "$f_X*f_Y=\\int_{-\\infty}^{\\infty}f_X(z-y)f_Y(y)dy=\\int_{-\\infty}^{\\infty}f_X(x)f_Y(z-x)dx$  \n",
    "***\n",
    "$Z=aX+bY$  \n",
    "$f_X*f_Y=\\int_{-\\infty}^{\\infty}\\frac{1}{|a|}f_X(\\frac{z-by}{a})f_Y(y)dy=\\int_{-\\infty}^{\\infty}\\frac{1}{|b|}f_X(x)f_Y(\\frac{z-ax}{b})dx$  \n"
   ]
  },
  {
   "cell_type": "markdown",
   "metadata": {},
   "source": [
    "#### 正态分布的可加性  \n",
    "\n",
    "$若X\\sim N(0,1),Y\\sim N(0,1)且X和Y相互独立 \\\\ \n",
    "则X+Y\\sim N(0,2)$  \n",
    "$若X\\sim N(\\mu_1,\\sigma_1^2),Y\\sim N((\\mu_2,\\sigma_2^2)且X和Y相互独立 \\\\ \n",
    "则X+Y\\sim N(\\mu_1+\\mu_2,\\sigma_1^2+\\sigma_2^2)\\\\\n",
    "则aX+bY\\sim N(a\\mu_1+b\\mu_2,a^2\\sigma_1^2+b^2\\sigma_2^2)$  \n",
    "\n",
    "以上结果还可以推广n个正态分布的随机变量  \n",
    "***\n",
    "二项分布和泊松分布也具有可加性  \n",
    "\n",
    "$X\\sim b(n,p),y\\sim b(m,p)且X和Y相互独立\\Rightarrow X+Y\\sim b(n+m,p)$  \n",
    "即：$P\\{X=k\\}=C_n^kp^k(1-p)^{n-k},(k=0,1,...,n)\\\\\n",
    "P\\{Y=k\\}=C_m^kp^k(1-p)^{m-k},(k=0,1,...,m)\\\\\n",
    "P\\{X+Y=k\\}=C_{m+n}^kp^k(1-p)^{n+m-k},(k=0,1,...,n)$  \n",
    "***  \n",
    "$X\\sim \\pi(\\lambda_1),y\\sim \\pi(\\lambda_2)且X和Y相互独立\\Rightarrow X+Y\\sim \\pi(\\lambda_1+\\lambda_2)$  \n",
    "即：$P\\{X=k\\}=\\frac{\\lambda_1^k}{k!}e^{-\\lambda_1}\\\\\n",
    "P\\{Y=k\\}=\\frac{\\lambda_2^k}{k!}e^{-\\lambda_2}\\\\\n",
    "P\\{X+Y=k\\}=\\frac{(\\lambda_1+\\lambda_2)^k}{k!}e^{-(\\lambda_1+\\lambda_2)}$"
   ]
  },
  {
   "cell_type": "code",
   "execution_count": null,
   "metadata": {},
   "outputs": [],
   "source": [
    "# 设 𝑋 和 𝑌 是两个相互独立的随机变量，它们都服从标准正态分布 𝑁(0,1) ，求 𝑍=𝑋+𝑌 的概率密度\n",
    "x,y,z = symbols('x y z')\n",
    "mu,sigma = symbols('mu sigma')\n",
    "f = (1/(sigma*sqrt(2*pi)))*exp(-(x-mu)**2/(2*sigma**2))\n",
    "fx = f.subs({mu:0,sigma:1})\n",
    "fy = f.subs({x:y,mu:0,sigma:1})\n",
    "fx\n",
    "fy\n",
    "fxyz = Integral(fx*fy.subs(y,z-x),(x,-oo,+oo))\n",
    "fxyz_ = simplify(fxyz.doit())\n",
    "fxyz\n",
    "fxyz_"
   ]
  },
  {
   "cell_type": "markdown",
   "metadata": {},
   "source": [
    "#### 标准正态分布与误差函数的关系\n",
    "$erf(\\frac{x}{\\sqrt{2}})=2\\Phi(x)-1 \\\\\n",
    "erf(x)=2\\sqrt{2} \\Phi(\\sqrt{2}x)-1 \\\\\n",
    "erf(ax)=2\\sqrt{2}a \\Phi(\\sqrt{2}ax)-1 \\\\\n",
    "\\Phi(x)=\\frac{erf(\\frac{x}{\\sqrt{2}})+1}{2} \\\\\n",
    "\\Phi(\\sqrt{2} x)=\\frac{erf(x)+1}{2\\sqrt2} \\\\\n",
    "\\Phi(ax)=\\frac{erf(a\\frac{x}{\\sqrt{2}})+1}{2a}$"
   ]
  },
  {
   "cell_type": "markdown",
   "metadata": {},
   "source": [
    "### 积Z=XY与商Z=X/Y的分布\n",
    "\n",
    "$设X,Y是二维连续型随机变量，其概率密度为f(x,y)\\\\\n",
    "则随机变量Z=Y/X的概率密度为\\\\\n",
    "f_{Y/X}(z)=\\int_{-\\infty}^{\\infty}|x|f(x,xz)dx\\\\\n",
    "随机变量Z=XY的概率密度为\\\\\n",
    "f_{XY}(z)=\\int_{-\\infty}^{\\infty}{1\\over|x|}f(x,{z\\over x})dx$"
   ]
  },
  {
   "cell_type": "markdown",
   "metadata": {},
   "source": [
    "##### fz.args 重要属性\n",
    "fz.args\n"
   ]
  },
  {
   "cell_type": "markdown",
   "metadata": {},
   "source": [
    "### Z=max{X,Y}与Z=min{X,Y}的分布  \n",
    "$F_{max}(z)=P\\{max\\{X,Y\\}\\le z\\}=P\\{X\\le z,Y\\le z\\}=P\\{X\\le z\\}P\\{Y\\le z\\}=F_X(z)F_Y(z)\\\\\n",
    "F_{min}(z)=P\\{min\\{X,Y\\}\\le z\\}=1-P\\{min\\{X,Y\\}>z\\}=1-P\\{X>z,y>z\\}=\\ 1-P\\{X>z\\}P\\{y>z\\}=\\ 1-[1-P\\{X\\le z\\}][1-P\\{Y\\le z\\}]=1-[1-F_X(z)][1-F_Y(z)]\n",
    "$  \n",
    "以上情况可以推广到n个相互独立的随机变量"
   ]
  },
  {
   "cell_type": "code",
   "execution_count": null,
   "metadata": {},
   "outputs": [],
   "source": []
  },
  {
   "cell_type": "markdown",
   "metadata": {},
   "source": [
    "# 第四章 随机变量的数字特征"
   ]
  },
  {
   "cell_type": "markdown",
   "metadata": {},
   "source": [
    "### [exercises](Exercise_4.ipynb)"
   ]
  },
  {
   "cell_type": "markdown",
   "metadata": {},
   "source": [
    "## 数学期望"
   ]
  },
  {
   "cell_type": "markdown",
   "metadata": {},
   "source": [
    "### 随机变量的数学期望"
   ]
  },
  {
   "cell_type": "markdown",
   "metadata": {},
   "source": [
    "#### 0-1分布的数学期望"
   ]
  },
  {
   "cell_type": "code",
   "execution_count": null,
   "metadata": {},
   "outputs": [],
   "source": [
    "x, y, z = symbols('x y z')\n",
    "p = symbols('p', positive=True)\n",
    "n, k = symbols('n k', integer=True, positive=True)\n",
    "# 0-1分布的数学期望\n",
    "ex1 = 0*(1-p)+1*p\n",
    "ex1 # 结果\n"
   ]
  },
  {
   "cell_type": "markdown",
   "metadata": {},
   "source": [
    "#### 二项分布的数学期望  \n",
    "$C_n^m={n\\over m}C_{n-1}^{m-1}$"
   ]
  },
  {
   "cell_type": "code",
   "execution_count": null,
   "metadata": {},
   "outputs": [],
   "source": [
    "n, k = symbols('n k', integer=True, positive=True) # n设为正整数很重要\n",
    "p = symbols('p', positive=True)\n",
    "\n",
    "# 二项分布的概率\n",
    "px = binomial(n, k) * p**(k) * (1 - p)**(n - k)\n",
    "px\n",
    "# 二项分布的全概率\n",
    "summation(px, (k, 0, n)).simplify().args[0][0]\n",
    "# 二项分布的数学期望\n",
    "ex1 = summation(k*px, (k, 0, n)).simplify().args[0][0]\n",
    "ex1 # 结果"
   ]
  },
  {
   "cell_type": "markdown",
   "metadata": {},
   "source": [
    "#### 泊松分布的数学期望"
   ]
  },
  {
   "cell_type": "code",
   "execution_count": null,
   "metadata": {
    "scrolled": true
   },
   "outputs": [],
   "source": [
    "lamda = symbols('lamda')\n",
    "# 泊松分布的概率\n",
    "px = exp(-lamda)*lamda**k/factorial(k)\n",
    "px\n",
    "# 泊松分布的全概率\n",
    "summation(px, (k, 0, oo))\n",
    "# 泊松分布的数学期望\n",
    "ex1 = summation(k*px, (k, 0, oo))\n",
    "ex1 # 结果\n"
   ]
  },
  {
   "cell_type": "markdown",
   "metadata": {},
   "source": [
    "#### 几何分布的数学期望  \n"
   ]
  },
  {
   "cell_type": "code",
   "execution_count": null,
   "metadata": {},
   "outputs": [],
   "source": [
    "n, k = symbols('n k', integer=True, positive=True)\n",
    "p = symbols('p', positive=True)\n",
    "# 几何分布的概率\n",
    "px = p * (1 - p)**(k-1)\n",
    "# px = Piecewise((p * (1 - p)**(k-1), (p>0)&(p<1)),(0, True)) # 概率用分段函数表示\n",
    "px\n",
    "# 几何分布的全概率\n",
    "summation(px, (k, 1, oo)).simplify().args[0][0]\n",
    "# 几何分布的期望\n",
    "ex1 = summation(k*px, (k, 1, oo)).simplify().args[0][0] \n",
    "ex1 # 结果"
   ]
  },
  {
   "cell_type": "markdown",
   "metadata": {},
   "source": [
    "#### 超几何分布的数学期望   \n",
    "$X\\sim H(N,M,n)$   \n",
    "$p\\{x=k\\}=\\frac{C_M^k C_{N-M}^{n-k}}{C_N^n}$"
   ]
  },
  {
   "cell_type": "code",
   "execution_count": null,
   "metadata": {},
   "outputs": [],
   "source": [
    "n, k, N, M = symbols('n k N M', integer=True, positive=True)\n",
    "p = symbols('p', positive=True)\n",
    "# 超几何分布的概率\n",
    "px = binomial(M, k) * binomial(N - M, n - k) / binomial(N, n)\n",
    "px\n",
    "# 超几何分布的全概率\n",
    "summation(px, (k, 0, n)).simplify()\n",
    "# 超几何分布的期望\n",
    "ex1 = summation(k * px, (k, 0, n)).simplify()\n",
    "ex1 # 结果"
   ]
  },
  {
   "cell_type": "markdown",
   "metadata": {},
   "source": [
    "#### 均匀分布的数学期望"
   ]
  },
  {
   "cell_type": "code",
   "execution_count": null,
   "metadata": {},
   "outputs": [],
   "source": [
    "a, b = symbols('a b', real=True)\n",
    "# a = symbols('a', real=True)\n",
    "c = symbols('c', positive=True)\n",
    "fx = Piecewise((1 / c, (x >= a) & (x <= a + c)), (0, True))\n",
    "fx\n",
    "# 均匀分布的全概率\n",
    "p1 = Integral(fx, (x, a, a + c)).doit().simplify()\n",
    "p1\n",
    "# 均匀分布的数学期望\n",
    "ex1 = Integral(x * fx, (x, a, a + c)).doit().simplify()\n",
    "ex1\n",
    "# 符号替换\n",
    "# b = symbols('b', real=True) # b用符号替换回来\n",
    "ex1.subs(c, (b - a)).simplify() # 结果"
   ]
  },
  {
   "cell_type": "markdown",
   "metadata": {},
   "source": [
    "#### 指数分布的数学期望  \n",
    "$f(x)=\\lambda e^{-\\lambda x}$"
   ]
  },
  {
   "cell_type": "code",
   "execution_count": null,
   "metadata": {},
   "outputs": [],
   "source": [
    "# 数学arg表示复数的辐角\n",
    "x = symbols('x')\n",
    "lamda = symbols('lamda', real=True)\n",
    "fx = lamda * exp(-lamda * x)\n",
    "fx_ = Piecewise((lamda * exp(-lamda * x),x>0),(0, True))\n",
    "# 指数分布的概率密度\n",
    "fx_\n",
    "# 指数分布的全概率\n",
    "Integral(fx, (x, 0, oo)).doit().args[0][0] # 如果按分段函数积不出来，所以只积0到正无穷\n",
    "# 指数分布的数学期望\n",
    "ex1 = Integral(x*fx, (x, 0, oo)).doit().args[0][0]\n",
    "ex1 # 结果"
   ]
  },
  {
   "cell_type": "markdown",
   "metadata": {},
   "source": [
    "#### 正态分布的数学期望"
   ]
  },
  {
   "cell_type": "code",
   "execution_count": null,
   "metadata": {
    "scrolled": true
   },
   "outputs": [],
   "source": [
    "mu,sigma = symbols('mu sigma',real=True) # real设为True很重要\n",
    "fx = (1/(sigma*sqrt(2*pi)))*exp(-(x-mu)**2/(2*sigma**2))\n",
    "fx\n",
    "# 正态分布的全概率\n",
    "Integral(fx, (x, -oo, oo)).doit().args[0][0] \n",
    "# 正态分布的数学期望\n",
    "ex1 = Integral(x*fx, (x, -oo, oo)).doit().args[0][0]\n",
    "ex1 # 结果"
   ]
  },
  {
   "cell_type": "markdown",
   "metadata": {},
   "source": [
    "### 随机变量的函数的数学期望"
   ]
  },
  {
   "cell_type": "code",
   "execution_count": null,
   "metadata": {},
   "outputs": [],
   "source": [
    "x, y, z = symbols('x y z')\n",
    "p, t  = symbols('p t', positive=True)\n",
    "n, k = symbols('n k', integer=True, positive=True)\n",
    "lamda = symbols('lamda')"
   ]
  },
  {
   "cell_type": "markdown",
   "metadata": {},
   "source": [
    "#### 定理1  \n",
    "$设X是离散型随机变量，其分布律为 \\\\ \n",
    "P\\{X=k\\}=p_k \\ (k=1,2,...) \\\\ \n",
    "设Y是随机变量X的函数：Y=g(X)，\\\\\n",
    "则E(Y)=E(g(x)) = \\sum_{k=1}^{\\infty}{g(x)p_k}，要求绝对收敛\n",
    "$"
   ]
  },
  {
   "cell_type": "markdown",
   "metadata": {},
   "source": [
    "#### 定理2  \n",
    "$设X是连续型随机变量,其概率密度为f(x)，设Y是随机变量X的函数：Y=g(X)，其中g(x)是连续函数 \\\\ \n",
    "则E(Y)=E(g(x)) = \\int_{-\\infty}^{+\\infty}g(x)f(x)dx，要求绝对收敛\n",
    "$"
   ]
  },
  {
   "cell_type": "markdown",
   "metadata": {},
   "source": [
    "### 二维随机变量函数的数学期望"
   ]
  },
  {
   "cell_type": "markdown",
   "metadata": {},
   "source": [
    "#### 命题1\n",
    "$设二维离散型随机变量(X,Y)分布律为 \\\\ \n",
    "P\\{X=x_i,Y=y_j\\}=p_{ij} \\ (i,j=1,2,...) \\\\ \n",
    "则函数Z=g(X,Y)的数学期望 \\\\\n",
    "E(X)=E(g(X,Y)) = \\sum_{j=1}^{\\infty}\\sum_{i=1}^{\\infty}{g(x_i,y_j)p_{ij}}，要求绝对收敛\n",
    "$"
   ]
  },
  {
   "cell_type": "markdown",
   "metadata": {},
   "source": [
    "#### 命题2\n",
    "$设二维连续型随机变量(X,Y)概率密度为地f(x,y) \\\\ \n",
    "则函数Z=g(X,Y)的数学期望 \\\\\n",
    "E(X)=E(g(X,Y)) = \\int_{-\\infty}^{+\\infty}\\int_{-\\infty}^{+\\infty}{g(x,y)f(x,y)dxdy}，要求绝对收敛\n",
    "$"
   ]
  },
  {
   "cell_type": "markdown",
   "metadata": {},
   "source": [
    "### 数学期望的性质  \n",
    "$性质1：常数C的数学期望就是该常数本身,即E(C)=C \\\\ \n",
    " 性质2：设X是随机变量C是常数，则E(CX)=CE(X) \\\\\n",
    " 性质3：设X,Y是随机变量，则E(X+Y)=E(X)+E(Y) \\\\\n",
    " 推广：数学期望的线性性质 \\\\\n",
    " 性质4：设X,Y是相互独立的随机变量，则E(XY)=E(X)E(Y) \\\\\n",
    " 推广：n个相互独立的随机变量 \\\\\n",
    " 注意：若X与Y不相互独立，则有E(XY)=E(X)E(Y)-E[E(X-E(X))E(Y-E(Y))] \\\\\n",
    "$\n"
   ]
  },
  {
   "cell_type": "code",
   "execution_count": null,
   "metadata": {},
   "outputs": [],
   "source": []
  },
  {
   "cell_type": "code",
   "execution_count": null,
   "metadata": {},
   "outputs": [],
   "source": []
  },
  {
   "cell_type": "code",
   "execution_count": null,
   "metadata": {},
   "outputs": [],
   "source": []
  },
  {
   "cell_type": "code",
   "execution_count": null,
   "metadata": {},
   "outputs": [],
   "source": []
  },
  {
   "cell_type": "markdown",
   "metadata": {},
   "source": [
    "## 方差  \n",
    "$方差的定义D(x)=E{[X-E(X)^2} \\\\\n",
    "方差的计算公式：D(X)=E(X^2)-[E(X)]^2$"
   ]
  },
  {
   "cell_type": "markdown",
   "metadata": {},
   "source": [
    "### 随机变量的方差"
   ]
  },
  {
   "cell_type": "markdown",
   "metadata": {},
   "source": [
    "#### 0-1分布的方差"
   ]
  },
  {
   "cell_type": "code",
   "execution_count": null,
   "metadata": {},
   "outputs": [],
   "source": [
    "x, y, z = symbols('x y z')\n",
    "p = symbols('p', positive=True)\n",
    "n, k = symbols('n k', integer=True, positive=True)\n",
    "\n",
    "ex1 = 0 * (1 - p) + 1 * p\n",
    "# 0-1分布的方差\n",
    "# 定义法\n",
    "dx1 = ((0 - ex1)**2 * (1 - p) + (1 - ex1)**2 * p).simplify()\n",
    "dx1 \n",
    "# 公式法\n",
    "dx2 = (0**2 * (1 - p) + 1**2 * p - ex1**2).simplify()\n",
    "dx2"
   ]
  },
  {
   "cell_type": "markdown",
   "metadata": {},
   "source": [
    "#### 二项分布的方差\n",
    "$C_n^m={n\\over m}C_{n-1}^{m-1}$"
   ]
  },
  {
   "cell_type": "code",
   "execution_count": null,
   "metadata": {},
   "outputs": [],
   "source": [
    "n, k = symbols('n k', integer=True, positive=True) # n设为正整数很重要\n",
    "p,q= symbols('p q', positive=True)\n",
    "# q = 1 - p\n",
    "# 二项分布的概率\n",
    "px = binomial(n, k) * p**(k) * (1 - p)**(n - k)\n",
    "# px = binomial(n, k) * p**(k) * q**(n - k)\n",
    "px\n",
    "# 二项分布的全概率\n",
    "summation(px, (k, 0, n)).simplify().args[0][0]\n",
    "# 二项分布的数学期望\n",
    "ex1 = summation(k*px, (k, 0, n)).simplify().args[0][0]\n",
    "ex1\n",
    "# 二项分布的方差\n",
    "# 定义法: 太复杂，不好化简\n",
    "# dx1 = summation((k-ex1)**2*px, (k, 0, n)).simplify()\n",
    "# simplify(dacotx1) \n",
    "\"***\"\n",
    "# 公式法\n",
    "dx2 = summation(k**2*px, (k, 0, n)).args[0][0]-ex1**2\n",
    "dx2 = simplify(dx2) \n",
    "dx2 # npq\n",
    "\n",
    "simplify(dx2.replace((1-p),q)) # 去掉负号\n",
    "dx2.replace((p-1),-q) # 结果\n"
   ]
  },
  {
   "cell_type": "markdown",
   "metadata": {},
   "source": [
    "#### 泊松分布的方差"
   ]
  },
  {
   "cell_type": "code",
   "execution_count": null,
   "metadata": {},
   "outputs": [],
   "source": [
    "lamda = symbols('lamda')\n",
    "# 泊松分布的概率\n",
    "px = exp(-lamda)*lamda**k/factorial(k)\n",
    "px\n",
    "# 泊松分布的全概率\n",
    "summation(px, (k, 0, oo))\n",
    "# 泊松分布的数学期望\n",
    "ex1 = summation(k*px, (k, 0, oo))\n",
    "# 二项分布的方差\n",
    "# 定义法: \n",
    "dx1 = summation((k-ex1)**2*px, (k, 0, oo)).simplify()\n",
    "dx1 \n",
    "\"***\"\n",
    "# 公式法\n",
    "dx2 = (summation(k**2*px, (k, 0, oo))-ex1**2).simplify()\n",
    "dx2 "
   ]
  },
  {
   "cell_type": "markdown",
   "metadata": {},
   "source": [
    "#### 几何分布的方差"
   ]
  },
  {
   "cell_type": "code",
   "execution_count": null,
   "metadata": {},
   "outputs": [],
   "source": [
    "# 特别注意var和symbols的区别\n",
    "n, k = symbols('n k', integer=True, positive=True)\n",
    "p = symbols('p', positive=True)\n",
    "# 几何分布的概率\n",
    "px = p * (1 - p)**(k-1)\n",
    "# px = Piecewise((p * (1 - p)**(k-1), (p>0)&(p<1)),(0, True)) # 概率用分段函数表示\n",
    "px\n",
    "# 几何分布的全概率\n",
    "summation(px, (k, 1, oo)).simplify().args[0][0]\n",
    "# 几何分布的期望\n",
    "ex1 = summation(k*px, (k, 1, oo)).simplify().args[0][0] \n",
    "ex1\n",
    "# 几何分布的方差\n",
    "# 定义法: \n",
    "dx1 = summation((k-ex1)**2*px, (k, 1, oo)).simplify().simplify().args[0][0] # k要从1开始\n",
    "dx1 \n",
    "\"***\"\n",
    "# 公式法\n",
    "dx2 = (summation(k**2*px, (k, 1, oo))-ex1**2).simplify().args[0][0].simplify()\n",
    "dx2 # 结果"
   ]
  },
  {
   "cell_type": "markdown",
   "metadata": {},
   "source": [
    "#### 超几何分布的方差  \n",
    "$X\\sim H(N,M,n)$  \n",
    "$p\\{x=k\\}=\\frac{C_M^k C_{N-M}^{n-k}}{C_N^n}$"
   ]
  },
  {
   "cell_type": "code",
   "execution_count": null,
   "metadata": {
    "scrolled": true
   },
   "outputs": [],
   "source": [
    "n, k, N, M = symbols('n k N M', integer=True, positive=True)\n",
    "p = symbols('p', positive=True)\n",
    "# 超几何分布的概率\n",
    "px = binomial(M, k) * binomial(N-M, n-k)/binomial(N, n) \n",
    "px\n",
    "# 超几何分布的全概率\n",
    "summation(px, (k, 0, n)).simplify() \n",
    "# 超几何分布的期望\n",
    "ex1 = summation(k*px, (k, 0, n)).simplify() \n",
    "\"*****\"\n",
    "# 超何分布的方差\n",
    "# 定义法: \n",
    "dx1 = summation((k-ex1)**2*px, (k, 0, oo)).simplify().args[0][0].expand()\n",
    "dx1 \n",
    "\"***\"\n",
    "# 公式法\n",
    "dx2 = (summation(k**2*px, (k, 0, oo))-ex1**2).simplify().args[0][0]\n",
    "dx2 # 结果\n",
    "\"*****\"\n",
    "# 验证\n",
    "dx_ = n*M/N - (n*M/N)**2 + n*(n-1)*M*(M-1)/(N*(N-1)) # 正确结果\n",
    "# dx_\n",
    "dx_.simplify()"
   ]
  },
  {
   "cell_type": "markdown",
   "metadata": {},
   "source": [
    "#### 均匀分布的方差"
   ]
  },
  {
   "cell_type": "code",
   "execution_count": null,
   "metadata": {},
   "outputs": [],
   "source": [
    "a,b=symbols('a b',real=True)\n",
    "# a = symbols('a', real=True)\n",
    "c = symbols('c', positive=True)\n",
    "# b = a + c\n",
    "fx = Piecewise((1 / c, (x >= a) & (x <= a + c)), (0, True))\n",
    "fx\n",
    "# 均匀分布的全概率\n",
    "p1 = Integral(fx, (x, a, a + c)).doit().simplify()\n",
    "p1\n",
    "# 均匀分布的数学期望\n",
    "ex1 = Integral(x * fx, (x, a, a + c)).doit().simplify()\n",
    "ex1\n",
    "\"*****\"\n",
    "# 均匀分布的方差\n",
    "# 定义法: \n",
    "dx1 = Integral((x-ex1)**2 * fx, (x, a, a + c)).doit().simplify()\n",
    "dx1 \n",
    "\"***\"\n",
    "# 公式法\n",
    "dx2 = (Integral(x**2 * fx, (x, a, a + c)).doit()-ex1**2).simplify()\n",
    "dx2\n",
    "# 符号替换\n",
    "# b = symbols('b', real=True) # b用符号替换回来\n",
    "# ex1.subs(c,(b-a)).simplify()\n",
    "dx1.subs(c,(b-a)).simplify() # 结果"
   ]
  },
  {
   "cell_type": "markdown",
   "metadata": {},
   "source": [
    "#### 指数分布的方差  \n",
    "$f(x)=\\lambda e^{-\\lambda x}$"
   ]
  },
  {
   "cell_type": "code",
   "execution_count": null,
   "metadata": {},
   "outputs": [],
   "source": [
    "# 数学arg表示复数的辐角\n",
    "x = symbols('x')\n",
    "lamda = symbols('lamda', real=True)\n",
    "fx = lamda * exp(-lamda * x)\n",
    "fx_ = Piecewise((lamda * exp(-lamda * x),x>0),(0, True))\n",
    "# 指数分布的概率密度\n",
    "fx_\n",
    "# 指数分布的全概率\n",
    "Integral(fx, (x, 0, oo)).doit().args[0][0] # 如果按分段函数积不出来，所以只积0到正无穷\n",
    "# 指数分布的数学期望\n",
    "ex1 = Integral(x*fx, (x, 0, oo)).doit().args[0][0]\n",
    "\n",
    "# 指数分布的方差\n",
    "# 定义法: \n",
    "dx1 = Integral((x-ex1)**2 * fx, (x, 0, oo)).doit().simplify().args[0][0]\n",
    "dx1 \n",
    "\"***\"\n",
    "# 公式法\n",
    "dx2 = (Integral(x**2 * fx, (x, 0, oo)).doit()-ex1**2).simplify().args[0][0]\n",
    "dx2 # 结果"
   ]
  },
  {
   "cell_type": "markdown",
   "metadata": {},
   "source": [
    "#### 正态分布的方差"
   ]
  },
  {
   "cell_type": "code",
   "execution_count": null,
   "metadata": {
    "scrolled": true
   },
   "outputs": [],
   "source": [
    "mu,sigma = symbols('mu sigma',real=True) # real设为True很重要\n",
    "fx = (1/(sigma*sqrt(2*pi)))*exp(-(x-mu)**2/(2*sigma**2))\n",
    "fx\n",
    "# 指数分布的全概率\n",
    "Integral(fx, (x, -oo, oo)).doit().args[0][0] \n",
    "# 指数分布的数学期望\n",
    "ex1 = Integral(x*fx, (x, -oo, oo)).doit().args[0][0]\n",
    "\"*****\"\n",
    "# 正态分布的方差\n",
    "# 定义法: \n",
    "dx1 = Integral((x-ex1)**2 * fx, (x, -oo, oo)).doit().simplify().args[0][0]\n",
    "dx1 \n",
    "\"***\"\n",
    "# 公式法\n",
    "dx2 = (Integral(x**2 * fx, (x, -oo, oo)).doit()-ex1**2).simplify().args[0][0]\n",
    "dx2 # 结果"
   ]
  },
  {
   "cell_type": "markdown",
   "metadata": {},
   "source": [
    "### 方差的性质  "
   ]
  },
  {
   "cell_type": "markdown",
   "metadata": {},
   "source": [
    "#### 性质1  \n",
    "$常数C的方差为零，即D(C)=0$\n"
   ]
  },
  {
   "cell_type": "markdown",
   "metadata": {},
   "source": [
    "#### 性质2  \n",
    "$设X是随机变量，C是常数，则D(CX)=C^2D(X),D(X+C)=D(X) \\\\\n",
    "推论：\\sigma(CX)=|C|\\sigma(X)$\n"
   ]
  },
  {
   "cell_type": "markdown",
   "metadata": {},
   "source": [
    "#### 性质3  \n",
    "$设𝑋,Y是随机变量，则\\\\\n",
    "D(X+Y)=D(X)+D(Y)+2E\\{[X-E(X)][Y-E(Y)]\\}=D(X)+D(Y)+2Cov(X,Y)=D(X)+D(Y)+2\\rho \\sqrt{D(X)}\\sqrt{D(Y)}\\\\ \n",
    "若X,Y相互独立，则D(X+Y)=D(X)+D(Y),\\ D(aX\\pm bY)=a^2D(X)+b^2D(Y)$"
   ]
  },
  {
   "cell_type": "markdown",
   "metadata": {},
   "source": [
    "#### 性质4  \n",
    "$D(X)=0 \\Leftrightarrow P\\{X=E(X)\\}=1$\n"
   ]
  },
  {
   "cell_type": "markdown",
   "metadata": {},
   "source": [
    "#### 正态分布的线性组合  \n",
    "$设随机变量X\\sim N(\\mu, \\sigma^2) \\\\ \n",
    "则随机变量aX\\sim N(a\\mu, a^2\\sigma^2) \\\\ \n",
    "若X,Y相互独立，则 \\\\\n",
    "aX+bY\\sim N(a\\mu_1+b\\mu_2,a^2\\sigma_1^2+b^2\\sigma_2^2)$"
   ]
  },
  {
   "cell_type": "markdown",
   "metadata": {},
   "source": [
    "## 协方差及相关系数\n"
   ]
  },
  {
   "cell_type": "markdown",
   "metadata": {},
   "source": [
    "### 协方差的定义"
   ]
  },
  {
   "cell_type": "markdown",
   "metadata": {},
   "source": [
    "### 定义（协方差）\n",
    "$\n",
    "设X,Y是二维随机变量，称E\\{[X-E(X)][Y-E(Y)]\\}为X与Y的协方差(Covariance),记为Cov(X,Y)或\\sigma(X,Y)\\\\\n",
    "即Cov(X,Y)=E\\{[X-E(X)][Y-E(Y)]\\}=\\sigma(X,Y)\\\\\n",
    "-\\infty<Cov(X,Y)<+\\infty\n",
    "$"
   ]
  },
  {
   "cell_type": "markdown",
   "metadata": {},
   "source": [
    "### 定义（相关系数）  \n",
    "$\n",
    "设X,Y是二维随机变量，X与Y的协方差\\\\\n",
    "Cov(X,Y)=E\\{[X-E(X)][Y-E(Y)]\\}=\\sigma(X,Y)\\\\\n",
    "-\\infty<Cov(X,Y)<+\\infty\n",
    "$  \n",
    "$\n",
    "当D(X)和D(Y)不等于0时，定义X与Y的相关系数(Correlation Coefficient)为 \\\\\n",
    "\\rho_{XY} = \\frac{Cov(X,Y)}{\\sqrt{D(X)}\\sqrt{D(Y)}} = \\frac{\\sigma(X,Y)}{\\sigma(X)\\sigma(Y)}\\\\\n",
    "-1\\le\\rho_{XY}\\le 1 \\\\\n",
    "Cov(X,Y)=\\rho_{XY}\\sqrt{D(X)}\\sqrt{D(Y)}\n",
    "$\n"
   ]
  },
  {
   "cell_type": "markdown",
   "metadata": {},
   "source": [
    "### 协方差的计算公式  \n"
   ]
  },
  {
   "cell_type": "markdown",
   "metadata": {},
   "source": [
    "#### 二维离散型随机变量  \n",
    "$\n",
    "设X,Y是二维离散型随机变量\\\\\n",
    "其分布律为\\\\\n",
    "p_{ij} = P\\{X=x_i,Y=y_i\\},i,j=1,2\\\\\n",
    "则X与Y的协方差\\\\\n",
    "Cov(X,Y)=E\\{[X-E(X)][Y-E(Y)]\\}=\\sum_{j=1}^{\\infty}\\sum_{i=1}^{\\infty}[X_i-E(X)][Y_j-E(Y)]p_{ij}\n",
    "$"
   ]
  },
  {
   "cell_type": "markdown",
   "metadata": {},
   "source": [
    "#### 二维连续型随机变量\n",
    "$\n",
    "设X,Y是二维连续型随机变量\\\\\n",
    "其概率密度律为f(x,y)\\\\\n",
    "则X与Y的协方差\\\\\n",
    "Cov(X,Y)=E\\{[X-E(X)][Y-E(Y)]\\}=\\int_{-\\infty}^{\\infty}\\int_{-\\infty}^{\\infty}[X_i-E(X)][Y_j-E(Y)]dxdy\n",
    "$"
   ]
  },
  {
   "cell_type": "markdown",
   "metadata": {},
   "source": [
    "#### 一个重要的计算公式  \n",
    "$\n",
    "Cov(X,Y)=E(XY)-E(X)E(Y) \\\\\n",
    "X与Y相互独立时，Cov(X,Y)=0\\\\\n",
    "X与X的协方差等于X的方差\n",
    "$"
   ]
  },
  {
   "cell_type": "markdown",
   "metadata": {},
   "source": [
    "### 协方差的性质  \n",
    "$\n",
    "设X,Y,Z为随机变量，a,b是常数 \\\\\n",
    "(1) \\ Cov(X,Y)=Cov(Y,X) \\ 对称性\\\\\n",
    "(2) \\ Cov(X,a)=0 \\ 随机变量与常数不相关\\\\\n",
    "(3) \\ Cov(aX,bY)=abCov(X,Y) \\ 常数因子可以提出来\\\\\n",
    "(4) \\ Cov(X\\pm Y,Z)=Cov(X,Z)\\pm Cov(X,Z) \\ 线性性质\n",
    "$\n"
   ]
  },
  {
   "cell_type": "markdown",
   "metadata": {},
   "source": [
    "### 相关系数性质\n",
    "$\n",
    "(1) \\ \\rho_{XY}=\\rho_{YX} \\ 对称性\\\\\n",
    "(2) \\ |\\rho_{XY}|\\le 1 \\ 有界性\\\\\n",
    "(3) \\ |\\rho_{XY}|=1 \\ 的充分必要条件是存在常数a,b,(a\\neq 0)，使得P\\{Y=aX+b\\}=1 \\ Y以概率1等于X的线性函数，当a>0时，\\rho_{XY}=1，当a<0时，\\rho_{XY}=-1 \\\\\n",
    "a=\\pm \\frac{\\rho(Y)}{\\rho(X)},\\ b=E(Y)\\mp \\frac{\\rho(Y)}{\\rho(X)}E(X)\n",
    "$"
   ]
  },
  {
   "cell_type": "markdown",
   "metadata": {},
   "source": [
    "$\n",
    "X的标准化X^* = \\frac{X-E(X)}{\\sigma(X)}\n",
    "$"
   ]
  },
  {
   "cell_type": "markdown",
   "metadata": {},
   "source": [
    "###  引理  \n",
    "$设随机变量X和Y的数学期望和方差都存在 \\\\ \n",
    "令X^* = \\frac{X-E(X)}{\\sigma(X)},\\ Y^* = \\frac{Y-E(Y)}{\\sigma(Y)} \\\\ \n",
    "则\\rho_{XY} = Cov(X^*, Y^*)\\\\\n",
    "D(X^* \\pm Y^*)=2(1\\pm \\rho_{XY})\n",
    "$"
   ]
  },
  {
   "cell_type": "markdown",
   "metadata": {},
   "source": [
    "$\n",
    "\\rho_{XY}=1时，称X与Y正线性相关 \\\\\n",
    "\\rho_{XY}-1时，称X与Y负线性相关 \\\\\n",
    "\\rho_{XY}>0时，称X与Y正相关 \\\\\n",
    "\\rho_{XY}<0时，称X与Y负相关 \\\\\n",
    "\\rho_{XY}=0时，称X与Y不相关 \\\\\n",
    "当|\\rho_{XY}|的值从1变到0时，X与Y的相关性逐步降低 \\\\\n",
    "相关系数是衡量X和Y之间线性关系紧密程度的一个量 \\\\\n",
    "相关系数较大时X和Y之间线性相关程度较高 \\\\\n",
    "相关系数较小时X和Y之间线性相关程度较低 \\\\\n",
    "$"
   ]
  },
  {
   "cell_type": "markdown",
   "metadata": {},
   "source": [
    "### 独立与不相关的关系\n",
    "独立必不相关，不相关未必独立"
   ]
  },
  {
   "cell_type": "markdown",
   "metadata": {},
   "source": [
    "### 不相关的等价条件\n",
    "$\n",
    "(1)X与Y不相关\\\\\n",
    "(2)相关系数\\rho_{XY}=0\\\\\n",
    "(3)协方差Cov(X,Y)=0\\\\\n",
    "(4)E(XY)=E(X)E(Y)\\\\\n",
    "(5)D(X+Y)=D(X)+D(Y)\\\\\n",
    "$"
   ]
  },
  {
   "cell_type": "code",
   "execution_count": null,
   "metadata": {},
   "outputs": [],
   "source": []
  },
  {
   "cell_type": "code",
   "execution_count": null,
   "metadata": {},
   "outputs": [],
   "source": []
  },
  {
   "cell_type": "code",
   "execution_count": null,
   "metadata": {},
   "outputs": [],
   "source": []
  },
  {
   "cell_type": "markdown",
   "metadata": {},
   "source": [
    "### 二维正态随机变量的相关系数  \n",
    "$\n",
    "f(x,y)= \\frac{1}{2\\pi\\sigma_1\\sigma_2\\sqrt{1-\\rho^2}}e^{\\frac{-1}{2(1-\\rho^2)}[\\frac{(x-\\mu_1)^2}{\\sigma_1^2}-2\\rho\\frac{(x-\\mu_1)(x-\\mu_2)}{\\sigma_1\\sigma_2}+\\frac{(y-\\mu_2)^2}{\\sigma_2^2}]}\n",
    "$"
   ]
  },
  {
   "cell_type": "code",
   "execution_count": null,
   "metadata": {},
   "outputs": [],
   "source": [
    "# 二维正态分布的公式\n",
    "mu_1, mu_2, sigma_1, sigma_2, rho = symbols('mu_1,mu_2,sigma_1,sigma_2,rho')\n",
    "mu_1, mu_2, sigma_1, sigma_2, rho\n",
    "f_xy = (1 / (2 * pi * sigma_1 * sigma_2 * sqrt(1 - rho**2))) * exp(\n",
    "    (-1 / (2 * (1 - rho**2))) * ((x - mu_1)**2 / sigma_1**2 - 2 * rho *\n",
    "                                 ((x - mu_1) * (x - mu_2) /\n",
    "                                  (sigma_1 * sigma_2)) +\n",
    "                                 (x - mu_2)**2 / sigma_2**2))\n",
    "f_xy\n",
    "print_latex(f_xy)"
   ]
  },
  {
   "cell_type": "markdown",
   "metadata": {},
   "source": [
    "$\\frac{e^{- \\frac{- \\frac{2 \\rho \\left(- \\mu_{1} + x\\right) \\left(- \\mu_{2} + x\\right)}{\\sigma_{1} \\sigma_{2}} + \\frac{\\left(- \\mu_{2} + x\\right)^{2}}{\\sigma_{2}^{2}} + \\frac{\\left(- \\mu_{1} + x\\right)^{2}}{\\sigma_{1}^{2}}}{2 - 2 \\rho^{2}}}}{2 \\pi \\sigma_{1} \\sigma_{2} \\sqrt{1 - \\rho^{2}}}$"
   ]
  },
  {
   "cell_type": "markdown",
   "metadata": {},
   "source": [
    "## 矩、协方差矩阵"
   ]
  },
  {
   "cell_type": "markdown",
   "metadata": {},
   "source": [
    "$设随机变量X\\sim N(0,\\sigma^2),则X的k阶原点矩和k阶中心矩为 \\\\\n",
    "m_k=c_k=\\begin{cases} 0, & k是奇数\\\\ \\sigma^k(k-1)!!, & k是偶数\\end{cases}\n",
    "$"
   ]
  },
  {
   "cell_type": "code",
   "execution_count": null,
   "metadata": {},
   "outputs": [],
   "source": [
    "mu,sigma = symbols('mu sigma')\n",
    "k = symbols('k',positive=True, integer=True)\n",
    "fx = (1/(sigma*sqrt(2*pi)))*exp(-(x-mu)**2/(2*sigma**2))\n",
    "fx = fx.subs({mu:0})\n",
    "integrate(fx*x**k,(x,-oo,oo)).simplify()\n",
    "for i in range(1,9):\n",
    "    i\n",
    "    integrate(fx*x**i,(x,-oo,oo)).args[0][0]\n",
    "    \"***\""
   ]
  },
  {
   "cell_type": "markdown",
   "metadata": {},
   "source": [
    "# 第五章 大数定律及中心极限定理"
   ]
  },
  {
   "cell_type": "markdown",
   "metadata": {},
   "source": [
    "### [exercises](Exercise_5.ipynb)"
   ]
  },
  {
   "cell_type": "markdown",
   "metadata": {},
   "source": [
    "## 大数定律"
   ]
  },
  {
   "cell_type": "code",
   "execution_count": null,
   "metadata": {},
   "outputs": [],
   "source": []
  },
  {
   "cell_type": "markdown",
   "metadata": {},
   "source": [
    "## 中心极限定理"
   ]
  },
  {
   "cell_type": "code",
   "execution_count": null,
   "metadata": {},
   "outputs": [],
   "source": []
  },
  {
   "cell_type": "code",
   "execution_count": null,
   "metadata": {},
   "outputs": [],
   "source": []
  },
  {
   "cell_type": "code",
   "execution_count": null,
   "metadata": {},
   "outputs": [],
   "source": []
  }
 ],
 "metadata": {
  "kernelspec": {
   "display_name": "Python 3",
   "language": "python",
   "name": "python3"
  },
  "language_info": {
   "codemirror_mode": {
    "name": "ipython",
    "version": 3
   },
   "file_extension": ".py",
   "mimetype": "text/x-python",
   "name": "python",
   "nbconvert_exporter": "python",
   "pygments_lexer": "ipython3",
   "version": "3.7.6"
  },
  "toc": {
   "base_numbering": 1,
   "nav_menu": {},
   "number_sections": true,
   "sideBar": true,
   "skip_h1_title": false,
   "title_cell": "Table of Contents",
   "title_sidebar": "Contents",
   "toc_cell": false,
   "toc_position": {
    "height": "calc(100% - 180px)",
    "left": "10px",
    "top": "150px",
    "width": "219.563px"
   },
   "toc_section_display": true,
   "toc_window_display": true
  }
 },
 "nbformat": 4,
 "nbformat_minor": 2
}
