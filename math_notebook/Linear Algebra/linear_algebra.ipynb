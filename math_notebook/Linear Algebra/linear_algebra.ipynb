{
 "cells": [
  {
   "cell_type": "markdown",
   "metadata": {},
   "source": [
    "## 导包"
   ]
  },
  {
   "cell_type": "code",
   "execution_count": 2,
   "metadata": {},
   "outputs": [],
   "source": [
    "from IPython.core.interactiveshell import InteractiveShell\n",
    "InteractiveShell.ast_node_interactivity = 'all'  #默认为'last'\n",
    "%matplotlib inline\n",
    "\n",
    "import numpy as np\n",
    "import torch\n",
    "import torch.nn as nn\n",
    "import sympy as sy\n",
    "import scipy as sc\n",
    "\n",
    "# 这两个要单独导包\n",
    "import scipy.linalg\n",
    "import scipy.sparse.linalg\n",
    "\n",
    "import matplotlib.pyplot as plt\n",
    "import pandas as pd\n",
    "import time\n",
    "import os\n",
    "import sys\n",
    "import random\n",
    "from numpy import linalg\n",
    "np.set_printoptions(threshold=np.inf, precision=2, suppress=True)"
   ]
  },
  {
   "cell_type": "markdown",
   "metadata": {},
   "source": [
    "# 行列式"
   ]
  },
  {
   "cell_type": "code",
   "execution_count": null,
   "metadata": {},
   "outputs": [],
   "source": []
  },
  {
   "cell_type": "markdown",
   "metadata": {},
   "source": [
    "# 矩阵及其运算"
   ]
  },
  {
   "cell_type": "markdown",
   "metadata": {},
   "source": [
    "## 线性方程组和矩阵"
   ]
  },
  {
   "cell_type": "code",
   "execution_count": null,
   "metadata": {},
   "outputs": [],
   "source": []
  },
  {
   "cell_type": "markdown",
   "metadata": {},
   "source": [
    "### 对称矩阵"
   ]
  },
  {
   "cell_type": "markdown",
   "metadata": {},
   "source": [
    "#### 创建对称矩阵"
   ]
  },
  {
   "cell_type": "code",
   "execution_count": 3,
   "metadata": {},
   "outputs": [
    {
     "data": {
      "text/plain": [
       "array([[0.43, 0.86, 0.82, 0.2 , 0.5 ],\n",
       "       [0.  , 0.89, 0.83, 0.12, 0.77],\n",
       "       [0.  , 0.  , 0.5 , 0.43, 0.58],\n",
       "       [0.  , 0.  , 0.  , 0.08, 0.92],\n",
       "       [0.  , 0.  , 0.  , 0.  , 0.74]])"
      ]
     },
     "execution_count": 3,
     "metadata": {},
     "output_type": "execute_result"
    },
    {
     "data": {
      "text/plain": [
       "array([0.43, 0.89, 0.5 , 0.08, 0.74])"
      ]
     },
     "execution_count": 3,
     "metadata": {},
     "output_type": "execute_result"
    },
    {
     "data": {
      "text/plain": [
       "array([[0.43, 0.  , 0.  , 0.  , 0.  ],\n",
       "       [0.  , 0.89, 0.  , 0.  , 0.  ],\n",
       "       [0.  , 0.  , 0.5 , 0.  , 0.  ],\n",
       "       [0.  , 0.  , 0.  , 0.08, 0.  ],\n",
       "       [0.  , 0.  , 0.  , 0.  , 0.74]])"
      ]
     },
     "execution_count": 3,
     "metadata": {},
     "output_type": "execute_result"
    },
    {
     "data": {
      "text/plain": [
       "array([[0.43, 0.86, 0.82, 0.2 , 0.5 ],\n",
       "       [0.86, 0.89, 0.83, 0.12, 0.77],\n",
       "       [0.82, 0.83, 0.5 , 0.43, 0.58],\n",
       "       [0.2 , 0.12, 0.43, 0.08, 0.92],\n",
       "       [0.5 , 0.77, 0.58, 0.92, 0.74]])"
      ]
     },
     "execution_count": 3,
     "metadata": {},
     "output_type": "execute_result"
    }
   ],
   "source": [
    "X = np.random.rand(5**2).reshape(5, 5)\n",
    "X = np.triu(X) # 上三角矩阵\n",
    "X\n",
    "X.diagonal() # 对角元素\n",
    "np.diag(X.diagonal()) # 对角矩阵\n",
    "X += X.T - np.diag(X.diagonal())\n",
    "X"
   ]
  },
  {
   "cell_type": "code",
   "execution_count": 9,
   "metadata": {},
   "outputs": [],
   "source": [
    "def gen_sym_matrix(n, type='randn', low=0, high=10, seed=None):\n",
    "    '''\n",
    "    生成实对称矩阵\n",
    "    :param n: 生成对称矩阵的维度\n",
    "    :param type: 生成随机数类型，默认标准正态分布\n",
    "    :param low: 整数随机数上限，默认包含0\n",
    "    :param high: 整数随机数上限，默认不包含10\n",
    "    :param seed: 随机数种子，默认为None\n",
    "    :return:\n",
    "    '''\n",
    "    np.random.seed(seed)\n",
    "    if type == 'randint':\n",
    "        X = np.random.randint(low, high, size=(n, n))\n",
    "    elif type == 'rand':\n",
    "        X = np.random.rand(n, n)\n",
    "    else:\n",
    "        X = np.random.randn(n, n)\n",
    "    X = np.triu(X)  # 上三角矩阵\n",
    "    X += X.T - np.diag(X.diagonal())\n",
    "    return X\n"
   ]
  },
  {
   "cell_type": "markdown",
   "metadata": {},
   "source": [
    "#### 特征值问题\n",
    "* 标准特征值问题$Ax=\\lambda x$\n",
    "* 广义特征值问题$Ax=\\lambda B x$\n"
   ]
  },
  {
   "cell_type": "markdown",
   "metadata": {},
   "source": [
    "#### 特征值求解器\n",
    "* LAPACK\n",
    "    * 使用scipy.linalg模块的eigh函数及julia的eig函数（稠密矩阵）\n",
    "* ARPACK\n",
    "    * 使用scipy.sparse.linalg模块的eigsh函数及julia的eigs函数（稀疏矩阵）"
   ]
  },
  {
   "cell_type": "markdown",
   "metadata": {},
   "source": [
    "#### 几个特征值求解函数的性能比较  (没调好)\n",
    "[参考](https://fanyublog.com/2016/06/25/eig_rosser_python/)"
   ]
  },
  {
   "cell_type": "code",
   "execution_count": 23,
   "metadata": {},
   "outputs": [
    {
     "data": {
      "text/latex": [
       "$\\displaystyle \\left[\\begin{matrix}611 & 196 & -192 & 407 & -8 & -52 & -49 & 29\\\\196 & 899 & 113 & -192 & -71 & -43 & -8 & -44\\\\-192 & 113 & 899 & 196 & 61 & 49 & 8 & 52\\\\407 & -192 & 196 & 611 & 8 & 44 & 59 & -23\\\\-8 & -71 & 61 & 8 & 411 & -599 & 208 & 208\\\\-52 & -43 & 49 & 44 & -599 & 411 & 208 & 208\\\\-49 & -8 & 8 & 59 & 208 & 208 & 99 & -911\\\\29 & -44 & 52 & -23 & 208 & 208 & -911 & 99\\end{matrix}\\right]$"
      ],
      "text/plain": [
       "Matrix([\n",
       "[ 611,  196, -192,  407,   -8,  -52,  -49,   29],\n",
       "[ 196,  899,  113, -192,  -71,  -43,   -8,  -44],\n",
       "[-192,  113,  899,  196,   61,   49,    8,   52],\n",
       "[ 407, -192,  196,  611,    8,   44,   59,  -23],\n",
       "[  -8,  -71,   61,    8,  411, -599,  208,  208],\n",
       "[ -52,  -43,   49,   44, -599,  411,  208,  208],\n",
       "[ -49,   -8,    8,   59,  208,  208,   99, -911],\n",
       "[  29,  -44,   52,  -23,  208,  208, -911,   99]])"
      ]
     },
     "execution_count": 23,
     "metadata": {},
     "output_type": "execute_result"
    }
   ],
   "source": [
    "# Rosser矩阵\n",
    "Rosser = sy.Matrix([[611,196,-192,407,-8,-52,-49,29],\n",
    "                 [196,899,113,-192,-71,-43,-8,-44],\n",
    "                 [-192,113,899,196,61,49,8,52],\n",
    "                 [407,-192,196,611,8,44,59,-23],\n",
    "                 [-8,-71,61,8,411,-599,208,208],\n",
    "                 [-52,-43,49,44,-599,411,208,208],\n",
    "                 [-49,-8,8,59,208,208,99,-911],\n",
    "                 [29,-44,52,-23,208,208,-911,99]])\n",
    "Rosser"
   ]
  },
  {
   "cell_type": "code",
   "execution_count": 58,
   "metadata": {
    "scrolled": true
   },
   "outputs": [
    {
     "name": "stdout",
     "output_type": "stream",
     "text": [
      "                          1020,    1,\t1020.000000\n",
      "                          1000,    2,\t1000.000000\n",
      "            510 - 100*sqrt(26),    1,\t0.098049\n",
      "            100*sqrt(26) + 510,    1,\t1019.901951\n",
      "               -10*sqrt(10405),    1,\t-1020.049018\n",
      "                10*sqrt(10405),    1,\t1020.049018\n",
      "                             0,    1,\t0.000000\n"
     ]
    }
   ],
   "source": [
    "# m = gen_sym_matrix(3, type='randint',low=0,high=3,seed=0)\n",
    "m = Rosser\n",
    "# m\n",
    "R = sy.Matrix(m)\n",
    "# R\n",
    "re = R.eigenvals()\n",
    "# re\n",
    "for key in re.keys():\n",
    "    print('%30s,%5s,\\t%f'%(key,re[key],key.evalf()))"
   ]
  },
  {
   "cell_type": "code",
   "execution_count": null,
   "metadata": {},
   "outputs": [],
   "source": []
  },
  {
   "cell_type": "code",
   "execution_count": null,
   "metadata": {},
   "outputs": [],
   "source": []
  },
  {
   "cell_type": "code",
   "execution_count": 69,
   "metadata": {},
   "outputs": [
    {
     "data": {
      "text/plain": [
       "(array([-3.45, -3.4 , -3.3 ,  3.31,  3.36,  5.72]),\n",
       " array([[ 0.1 ,  0.09, -0.04, -0.02, -0.03,  0.12],\n",
       "        [-0.1 , -0.03,  0.05, -0.22,  0.04,  0.07],\n",
       "        [-0.01,  0.05, -0.06,  0.05, -0.23,  0.1 ],\n",
       "        [-0.02,  0.07,  0.04, -0.03, -0.01,  0.06],\n",
       "        [ 0.1 ,  0.  ,  0.05,  0.08,  0.12,  0.08],\n",
       "        [ 0.09, -0.05, -0.03,  0.03,  0.01,  0.07],\n",
       "        [-0.05,  0.18,  0.01, -0.02,  0.01,  0.09],\n",
       "        [-0.03,  0.02, -0.03, -0.18, -0.05,  0.1 ],\n",
       "        [-0.08, -0.01, -0.17,  0.13,  0.06,  0.19],\n",
       "        [-0.01,  0.14, -0.03,  0.03,  0.21,  0.12],\n",
       "        [-0.04, -0.21, -0.11,  0.06, -0.01,  0.1 ],\n",
       "        [ 0.03,  0.13, -0.11,  0.08, -0.22,  0.11],\n",
       "        [-0.09, -0.1 , -0.05,  0.05,  0.02,  0.1 ],\n",
       "        [ 0.09,  0.02,  0.08, -0.04,  0.16,  0.09],\n",
       "        [ 0.06, -0.02,  0.07, -0.1 , -0.06,  0.1 ],\n",
       "        [-0.  , -0.  , -0.01,  0.28,  0.12,  0.11],\n",
       "        [ 0.11,  0.06,  0.02,  0.06,  0.02,  0.16],\n",
       "        [ 0.06,  0.01,  0.01, -0.06,  0.03,  0.05],\n",
       "        [-0.18,  0.07, -0.12,  0.06, -0.07,  0.08],\n",
       "        [ 0.08, -0.14, -0.14,  0.09, -0.01,  0.09],\n",
       "        [ 0.1 ,  0.04, -0.04, -0.01, -0.03,  0.08],\n",
       "        [ 0.08, -0.04,  0.01,  0.13,  0.  ,  0.13],\n",
       "        [ 0.1 ,  0.15, -0.09, -0.14, -0.01,  0.1 ],\n",
       "        [-0.05, -0.04, -0.04,  0.01,  0.02,  0.08],\n",
       "        [-0.1 , -0.07,  0.03,  0.07, -0.09,  0.07],\n",
       "        [ 0.08,  0.05, -0.16, -0.18,  0.11,  0.06],\n",
       "        [-0.  , -0.08, -0.05,  0.06,  0.14,  0.07],\n",
       "        [-0.06, -0.09,  0.02,  0.07,  0.07,  0.09],\n",
       "        [-0.11, -0.05,  0.07, -0.05, -0.09,  0.1 ],\n",
       "        [-0.07,  0.06, -0.04,  0.02, -0.02,  0.12],\n",
       "        [-0.  ,  0.22, -0.09,  0.05, -0.05,  0.08],\n",
       "        [-0.04, -0.01,  0.08,  0.04, -0.16,  0.13],\n",
       "        [-0.02,  0.13,  0.14,  0.12,  0.07,  0.13],\n",
       "        [-0.04,  0.03,  0.06,  0.03,  0.05,  0.03],\n",
       "        [ 0.07, -0.06, -0.  , -0.16,  0.13,  0.08],\n",
       "        [-0.1 , -0.03,  0.04, -0.05, -0.11,  0.1 ],\n",
       "        [-0.05, -0.05,  0.09, -0.05, -0.  ,  0.06],\n",
       "        [ 0.04,  0.1 , -0.05,  0.02, -0.04,  0.04],\n",
       "        [ 0.08,  0.06, -0.1 ,  0.06, -0.1 ,  0.04],\n",
       "        [ 0.2 , -0.07,  0.  ,  0.03, -0.05,  0.11],\n",
       "        [ 0.03,  0.17, -0.22, -0.07,  0.12,  0.1 ],\n",
       "        [ 0.12,  0.14,  0.07, -0.03,  0.02,  0.09],\n",
       "        [ 0.09,  0.03,  0.06,  0.07, -0.02,  0.06],\n",
       "        [ 0.05,  0.06,  0.29, -0.04,  0.19,  0.11],\n",
       "        [ 0.03, -0.2 , -0.13, -0.  , -0.07,  0.1 ],\n",
       "        [-0.04,  0.1 , -0.02, -0.05,  0.08,  0.07],\n",
       "        [-0.08, -0.1 ,  0.02,  0.03, -0.03,  0.03],\n",
       "        [ 0.03,  0.03, -0.04,  0.  , -0.03,  0.02],\n",
       "        [-0.04, -0.14, -0.06,  0.03,  0.01,  0.04],\n",
       "        [-0.1 ,  0.02,  0.09, -0.08,  0.06,  0.1 ],\n",
       "        [ 0.02,  0.12,  0.26,  0.01,  0.03,  0.14],\n",
       "        [ 0.09,  0.04,  0.04, -0.2 , -0.03,  0.1 ],\n",
       "        [ 0.05,  0.01, -0.01,  0.01, -0.08,  0.09],\n",
       "        [ 0.  ,  0.04, -0.16, -0.24, -0.01,  0.07],\n",
       "        [ 0.07, -0.05,  0.04, -0.29, -0.02,  0.11],\n",
       "        [-0.13, -0.15, -0.05,  0.08,  0.05,  0.05],\n",
       "        [-0.15, -0.02, -0.02,  0.07, -0.17,  0.07],\n",
       "        [ 0.18,  0.14, -0.17, -0.01,  0.12,  0.08],\n",
       "        [ 0.15, -0.16, -0.05,  0.1 , -0.06,  0.14],\n",
       "        [-0.05, -0.05, -0.24, -0.1 ,  0.1 ,  0.09],\n",
       "        [ 0.14,  0.  , -0.11, -0.02, -0.12,  0.07],\n",
       "        [ 0.12,  0.17,  0.14,  0.13, -0.24,  0.11],\n",
       "        [ 0.08,  0.06, -0.06, -0.01,  0.09,  0.08],\n",
       "        [-0.05,  0.18,  0.06, -0.  , -0.09,  0.11],\n",
       "        [-0.19,  0.09,  0.07,  0.09,  0.09,  0.15],\n",
       "        [-0.06, -0.07, -0.15, -0.04,  0.06,  0.15],\n",
       "        [ 0.12,  0.06,  0.04, -0.01, -0.22,  0.22],\n",
       "        [ 0.2 , -0.07,  0.17,  0.05,  0.05,  0.09],\n",
       "        [-0.05, -0.17,  0.08, -0.02,  0.04,  0.1 ],\n",
       "        [-0.15, -0.11, -0.1 ,  0.08,  0.19,  0.1 ],\n",
       "        [-0.14,  0.1 , -0.08,  0.13,  0.04,  0.08],\n",
       "        [-0.11, -0.17,  0.22,  0.1 , -0.18,  0.09],\n",
       "        [ 0.13, -0.06,  0.02, -0.09,  0.11,  0.14],\n",
       "        [-0.05, -0.03, -0.07, -0.  , -0.03,  0.02],\n",
       "        [ 0.01, -0.08,  0.02, -0.06,  0.22,  0.08],\n",
       "        [-0.24, -0.08, -0.06, -0.05, -0.03,  0.09],\n",
       "        [ 0.11, -0.08, -0.13, -0.  , -0.05,  0.09],\n",
       "        [ 0.07, -0.03,  0.17, -0.03, -0.02,  0.15],\n",
       "        [-0.17, -0.07, -0.03, -0.13, -0.19,  0.14],\n",
       "        [-0.07, -0.02,  0.04,  0.02,  0.02,  0.12],\n",
       "        [-0.07,  0.1 ,  0.08,  0.14,  0.03,  0.08],\n",
       "        [-0.06, -0.04,  0.09,  0.03, -0.07,  0.07],\n",
       "        [ 0.08, -0.13, -0.07,  0.05,  0.15,  0.08],\n",
       "        [ 0.09, -0.08, -0.04,  0.3 ,  0.14,  0.1 ],\n",
       "        [ 0.01, -0.17,  0.11, -0.08, -0.06,  0.05],\n",
       "        [-0.  , -0.03, -0.04, -0.  ,  0.15,  0.08],\n",
       "        [-0.09,  0.18,  0.05,  0.05, -0.03,  0.1 ],\n",
       "        [ 0.2 , -0.12,  0.09,  0.07, -0.07,  0.06],\n",
       "        [ 0.01, -0.03, -0.  ,  0.07, -0.1 ,  0.07],\n",
       "        [-0.16,  0.07, -0.09, -0.03,  0.05,  0.1 ],\n",
       "        [-0.04,  0.2 ,  0.05,  0.08,  0.02,  0.13],\n",
       "        [ 0.2 , -0.03, -0.07, -0.01, -0.03,  0.1 ],\n",
       "        [-0.06, -0.  ,  0.24, -0.13,  0.2 ,  0.14],\n",
       "        [ 0.15, -0.12, -0.06, -0.05, -0.01,  0.12],\n",
       "        [-0.1 , -0.11,  0.16, -0.19, -0.07,  0.1 ],\n",
       "        [ 0.05, -0.2 , -0.02,  0.09, -0.11,  0.12],\n",
       "        [-0.  , -0.02, -0.07, -0.05, -0.06,  0.08],\n",
       "        [-0.18, -0.04,  0.1 ,  0.09,  0.18,  0.07],\n",
       "        [-0.04, -0.13,  0.07, -0.25, -0.02,  0.09],\n",
       "        [-0.22,  0.13, -0.16, -0.1 , -0.07,  0.15]]))"
      ]
     },
     "execution_count": 69,
     "metadata": {},
     "output_type": "execute_result"
    }
   ],
   "source": [
    "from scipy.sparse.linalg import eigsh\n",
    "from scipy.linalg import eigh\n",
    "import scipy.sparse\n",
    "# from scipy.sparse.linalg import eigsh\n",
    "# from scipy.linalg import eigh\n",
    "# np.linalg.eig(m)\n",
    "N=100\n",
    "m1 = scipy.sparse.rand(N, N, density=0.1)\n",
    "eigsh(m1)"
   ]
  },
  {
   "cell_type": "code",
   "execution_count": 4,
   "metadata": {},
   "outputs": [],
   "source": [
    "import scipy.linalg\n",
    "import scipy.sparse.linalg\n",
    "funcdic = {0:('numpy.linalg.eig',np.linalg.eig,{}),\n",
    "           1:('numpy.linalg.eigh',np.linalg.eigh,{}),\n",
    "           2:('scipy.linalg.eig',sc.linalg.eig,{}),\n",
    "           3:('scipy.linalg.eigh',sc.linalg.eigh,{}),\n",
    "           4:('scipy.sparse.linalg.eigs',sc.sparse.linalg.eigs,{}),\n",
    "           5:('scipy.sparse.linalg.eigsh',sc.sparse.linalg.eigsh,{}),\n",
    "           6:('scipy.sparse.linalg.eigs, sigma=0',sc.sparse.linalg.eigs,{'sigma':0}),\n",
    "           7:('scipy.sparse.linalg.eigsh, sigma=0',sc.sparse.linalg.eigsh,{'sigma':0})}\n",
    " "
   ]
  },
  {
   "cell_type": "code",
   "execution_count": 56,
   "metadata": {},
   "outputs": [],
   "source": [
    "def timing_val(func):\n",
    "    def wrapper(*arg, **kw):\n",
    "        t1 = time.time()\n",
    "        for i in range(0,1000):\n",
    "            res = func(*arg, **kw)\n",
    "        t2 = time.time()\n",
    "        print('%40s  %.3e sec' % (funcdic[arg[0]][0], t2-t1))\n",
    "        return [res,t2-t1]\n",
    "    return wrapper\n",
    "@timing_val\n",
    "def test_func(i):\n",
    "    name,func,args = funcdic[i]\n",
    "    eigval,eigvec = func(m,**args)\n",
    "    return numpy.real(numpy.sort(eigval))\n",
    " \n",
    "def compare():\n",
    "    Resultslist = []\n",
    "    for i in range(0,8):\n",
    "        try:\n",
    "            Resultslist.append(test_func(i))\n",
    "        except Exception as e:\n",
    "            print(type(e))\n",
    "            print(e)\n",
    "        continue\n",
    "    return Resultslist"
   ]
  },
  {
   "cell_type": "code",
   "execution_count": 57,
   "metadata": {},
   "outputs": [
    {
     "name": "stdout",
     "output_type": "stream",
     "text": [
      "<class 'TypeError'>\n",
      "ufunc 'isfinite' not supported for the input types, and the inputs could not be safely coerced to any supported types according to the casting rule ''safe''\n",
      "<class 'TypeError'>\n",
      "No loop matching the specified signature and casting was found for ufunc eigh_lo\n",
      "<class 'ValueError'>\n",
      "object arrays are not supported\n",
      "<class 'ValueError'>\n",
      "object arrays are not supported\n",
      "<class 'TypeError'>\n",
      "type not understood\n",
      "<class 'AttributeError'>\n",
      "MutableDenseMatrix has no attribute dtype.\n",
      "<class 'AttributeError'>\n",
      "MutableDenseMatrix has no attribute dtype.\n",
      "<class 'AttributeError'>\n",
      "MutableDenseMatrix has no attribute dtype.\n"
     ]
    },
    {
     "data": {
      "text/plain": [
       "[]"
      ]
     },
     "execution_count": 57,
     "metadata": {},
     "output_type": "execute_result"
    }
   ],
   "source": [
    "Resultslist = compare()\n",
    "Resultslist\n",
    "# exact = [-1020.049018,0,0.098049,1000,1000,1019.901951,1020.000000,1020.049018]\n",
    "\n",
    "# for i in range(0,8):\n",
    "#     name,func,args = funcdic[i]\n",
    "#     print('='*20)\n",
    "#     print(name) \n",
    "#     for j in range(0,8):\n",
    "#         if j < len(Resultslist[i][0]):\n",
    "#             print('%20f,%20f'%(exact[j],Resultslist[i][0][j])) \n",
    "#         else:\n",
    "#             print('%20f,'%(exact[j],)) \n",
    "#     print('='*20) \n",
    "#     print('\\n\\n') \n",
    "\n",
    "# info = 'method index - details\\n'\n",
    "# for i in range(0,8):\n",
    "#     info = info + '%d - %s\\n'%(i,funcdic[i][0])\n",
    "\n",
    "# plt.figure()\n",
    "# tt = [Resultslist[i][1] for i in range(0,8)]\n",
    "# plt.bar(numpy.arange(0,8)-0.4, tt, width=0.8,alpha=0.6)\n",
    "# plt.xticks(range(0,8),[str(i) for i in range(0,8)])\n",
    "# plt.xlabel('method index',fontsize = 16)\n",
    "# plt.ylabel('time (s)',fontsize = 16)\n",
    "# plt.text(0,0.5,info,fontsize = 14)\n",
    "# plt.show()"
   ]
  },
  {
   "cell_type": "code",
   "execution_count": null,
   "metadata": {},
   "outputs": [],
   "source": []
  },
  {
   "cell_type": "code",
   "execution_count": null,
   "metadata": {},
   "outputs": [],
   "source": []
  },
  {
   "cell_type": "code",
   "execution_count": 19,
   "metadata": {},
   "outputs": [
    {
     "data": {
      "text/plain": [
       "{3: 1, -2: 1, 5: 2}"
      ]
     },
     "execution_count": 19,
     "metadata": {},
     "output_type": "execute_result"
    },
    {
     "data": {
      "text/plain": [
       "[(-2,\n",
       "  1,\n",
       "  [Matrix([\n",
       "   [0],\n",
       "   [1],\n",
       "   [1],\n",
       "   [1]])]),\n",
       " (3,\n",
       "  1,\n",
       "  [Matrix([\n",
       "   [1],\n",
       "   [1],\n",
       "   [1],\n",
       "   [1]])]),\n",
       " (5,\n",
       "  2,\n",
       "  [Matrix([\n",
       "   [1],\n",
       "   [1],\n",
       "   [1],\n",
       "   [0]]),\n",
       "   Matrix([\n",
       "   [ 0],\n",
       "   [-1],\n",
       "   [ 0],\n",
       "   [ 1]])])]"
      ]
     },
     "execution_count": 19,
     "metadata": {},
     "output_type": "execute_result"
    }
   ],
   "source": [
    "M = sy.Matrix([[3, -2,  4, -2], [5,  3, -3, -2], [5, -2,  2, -2], [5, -2, -3,  3]])\n",
    "M.eigenvals()\n",
    "M.eigenvects()"
   ]
  },
  {
   "cell_type": "code",
   "execution_count": null,
   "metadata": {},
   "outputs": [],
   "source": []
  },
  {
   "cell_type": "code",
   "execution_count": null,
   "metadata": {},
   "outputs": [],
   "source": []
  },
  {
   "cell_type": "markdown",
   "metadata": {},
   "source": [
    "## 矩阵的运算"
   ]
  },
  {
   "cell_type": "markdown",
   "metadata": {},
   "source": [
    "## 逆矩阵"
   ]
  },
  {
   "cell_type": "markdown",
   "metadata": {},
   "source": [
    "## 克拉默法则"
   ]
  },
  {
   "cell_type": "markdown",
   "metadata": {},
   "source": [
    "## 矩阵分块法"
   ]
  },
  {
   "cell_type": "markdown",
   "metadata": {},
   "source": [
    "# 矩阵的初等变换与线性方程组"
   ]
  },
  {
   "cell_type": "code",
   "execution_count": null,
   "metadata": {},
   "outputs": [],
   "source": []
  },
  {
   "cell_type": "markdown",
   "metadata": {},
   "source": [
    "# 向量组的线性相关性"
   ]
  },
  {
   "cell_type": "code",
   "execution_count": null,
   "metadata": {},
   "outputs": [],
   "source": []
  },
  {
   "cell_type": "markdown",
   "metadata": {},
   "source": [
    "# 相似矩阵及二次型"
   ]
  },
  {
   "cell_type": "markdown",
   "metadata": {},
   "source": [
    "## 向量的内积、长度及正交性"
   ]
  },
  {
   "cell_type": "markdown",
   "metadata": {},
   "source": [
    "## 方阵的特征值与特征向量"
   ]
  },
  {
   "cell_type": "code",
   "execution_count": null,
   "metadata": {},
   "outputs": [],
   "source": []
  },
  {
   "cell_type": "markdown",
   "metadata": {},
   "source": [
    "## 相似矩阵"
   ]
  },
  {
   "cell_type": "markdown",
   "metadata": {},
   "source": [
    "## 对称矩阵的对角化"
   ]
  },
  {
   "cell_type": "markdown",
   "metadata": {},
   "source": [
    "## 二次型及其标准型"
   ]
  },
  {
   "cell_type": "markdown",
   "metadata": {},
   "source": [
    "## 用配方法化二次型为标准型"
   ]
  },
  {
   "cell_type": "markdown",
   "metadata": {},
   "source": [
    "## 正定二次型"
   ]
  },
  {
   "cell_type": "markdown",
   "metadata": {},
   "source": [
    "# 线性空间与线性变换"
   ]
  },
  {
   "cell_type": "code",
   "execution_count": null,
   "metadata": {},
   "outputs": [],
   "source": []
  },
  {
   "cell_type": "markdown",
   "metadata": {},
   "source": [
    "# 其它"
   ]
  },
  {
   "cell_type": "markdown",
   "metadata": {},
   "source": [
    "## 矩阵LU分解\n",
    "[Python实例：矩阵LU分解](https://blog.csdn.net/weixin_34367257/article/details/91716112)"
   ]
  },
  {
   "cell_type": "code",
   "execution_count": 115,
   "metadata": {},
   "outputs": [
    {
     "data": {
      "text/plain": [
       "'\\n求解线性方程组\\n2x1 + 3x2 = 4\\n5x1 + 4x2 = 3\\n'"
      ]
     },
     "execution_count": 115,
     "metadata": {},
     "output_type": "execute_result"
    },
    {
     "data": {
      "text/latex": [
       "$\\displaystyle \\left[\\begin{matrix}2 & 3\\\\5 & 4\\end{matrix}\\right]$"
      ],
      "text/plain": [
       "Matrix([\n",
       "[2, 3],\n",
       "[5, 4]])"
      ]
     },
     "execution_count": 115,
     "metadata": {},
     "output_type": "execute_result"
    },
    {
     "name": "stdout",
     "output_type": "stream",
     "text": [
      "rank: 2\n",
      "condition number: sqrt(2*sqrt(170) + 27)/sqrt(27 - 2*sqrt(170))\n",
      "A.norm(): 3*sqrt(6) 7.34846922834953\n"
     ]
    },
    {
     "data": {
      "text/plain": [
       "'***'"
      ]
     },
     "execution_count": 115,
     "metadata": {},
     "output_type": "execute_result"
    },
    {
     "name": "stdout",
     "output_type": "stream",
     "text": [
      "L,U =  Matrix([[1, 0], [5/2, 1]]) Matrix([[2, 3], [0, -7/2]])\n",
      "L * U =  Matrix([[2, 3], [5, 4]])\n",
      "x =  Matrix([[-1], [2]])\n"
     ]
    },
    {
     "data": {
      "text/plain": [
       "'***'"
      ]
     },
     "execution_count": 115,
     "metadata": {},
     "output_type": "execute_result"
    },
    {
     "name": "stdout",
     "output_type": "stream",
     "text": [
      "rank: 2\n",
      "cond: 7.582401374401514\n"
     ]
    },
    {
     "data": {
      "text/plain": [
       "'***'"
      ]
     },
     "execution_count": 115,
     "metadata": {},
     "output_type": "execute_result"
    },
    {
     "name": "stdout",
     "output_type": "stream",
     "text": [
      "L,U =  [[1.  0. ]\n",
      " [0.4 1. ]] [[5.  4. ]\n",
      " [0.  1.4]]\n",
      "L @ U =  [[5. 4.]\n",
      " [2. 3.]]\n",
      "x =  [-1.  2.]\n"
     ]
    }
   ],
   "source": [
    "import scipy.linalg as la\n",
    "import numpy.linalg as LA\n",
    "from scipy import optimize\n",
    "'''\n",
    "求解线性方程组\n",
    "2x1 + 3x2 = 4\n",
    "5x1 + 4x2 = 3\n",
    "'''\n",
    " \n",
    "# 使用符号方式求解\n",
    "A1 = sy.Matrix([[2,3],[5,4]])\n",
    "b1 = sy.Matrix([4,3])\n",
    "A1\n",
    "print('rank:',A1.rank()) # 秩\n",
    "print('condition number:',A1.condition_number()) # 条件数？\n",
    "# an1 =  A1.norm()\n",
    "# an2 = A1.inv().norm()\n",
    "# sy.simplify(an1)\n",
    "# sy.simplify(an2)\n",
    "# ac1 = A1.condition_number()\n",
    "# ac2 = an1*an2\n",
    "# sy.simplify(ac1)\n",
    "# sy.simplify(ac2)\n",
    "print('A.norm():',A1.norm(),A1.norm().evalf()) # 2范数：最大奇异值的平方根\n",
    "\"***\"\n",
    "# LU分解\n",
    "L1, U1, _ = A1.LUdecomposition()\n",
    "print('L,U = ',L1,U1)\n",
    "print('L * U = ',(L1 * U1)) # equivalent to A.LUsolve(b)\n",
    "x1 = A1.solve(b1)\n",
    "print('x = ',x1)\n",
    "\"***\"\n",
    "# 使用scipy线性库求解\n",
    "A2 = np.array([[2, 3], [5, 4]])\n",
    "b2 = np.array([4, 3])\n",
    "print('rank:',np.linalg.matrix_rank(A2))\n",
    "print('cond:',np.linalg.cond(A2))\n",
    "\"***\" \n",
    "# LU分解\n",
    "P2, L2, U2 = la.lu(A2)\n",
    "print('L,U = ',L2,U2)\n",
    "print('L @ U = ',L2 @ U2)\n",
    "x2 = la.solve(A2,b2)\n",
    "print('x = ',x2)\n",
    "\n",
    "# # LU分解2\n",
    "# P3, L3, U3 = LA.lu(A2)\n",
    "# print('L,U = ',L3,U3)\n",
    "# print('L @ U = ',L3 @ U3)\n",
    "# # x3 = la.solve(A2,b2)\n",
    "# # print('x3 = ',x3)\n"
   ]
  },
  {
   "cell_type": "code",
   "execution_count": 107,
   "metadata": {},
   "outputs": [
    {
     "data": {
      "text/plain": [
       "array([7.29, 0.96])"
      ]
     },
     "execution_count": 107,
     "metadata": {},
     "output_type": "execute_result"
    },
    {
     "data": {
      "text/plain": [
       "7.582401374401514"
      ]
     },
     "execution_count": 107,
     "metadata": {},
     "output_type": "execute_result"
    },
    {
     "data": {
      "text/latex": [
       "$\\displaystyle 7.58240137440151$"
      ],
      "text/plain": [
       "7.58240137440151"
      ]
     },
     "execution_count": 107,
     "metadata": {},
     "output_type": "execute_result"
    }
   ],
   "source": [
    "# 说明这里的条件数为奇异值中最大值与最小值的比值\n",
    "_,S1,_ = linalg.svd(A2)\n",
    "S1\n",
    "S1[0]/S1[1]\n",
    "A1.condition_number().evalf()"
   ]
  },
  {
   "cell_type": "code",
   "execution_count": 114,
   "metadata": {},
   "outputs": [
    {
     "data": {
      "text/plain": [
       "['LinAlgError',\n",
       " '__builtins__',\n",
       " '__cached__',\n",
       " '__doc__',\n",
       " '__file__',\n",
       " '__loader__',\n",
       " '__name__',\n",
       " '__package__',\n",
       " '__path__',\n",
       " '__spec__',\n",
       " '_umath_linalg',\n",
       " 'absolute_import',\n",
       " 'cholesky',\n",
       " 'cond',\n",
       " 'det',\n",
       " 'division',\n",
       " 'eig',\n",
       " 'eigh',\n",
       " 'eigvals',\n",
       " 'eigvalsh',\n",
       " 'inv',\n",
       " 'lapack_lite',\n",
       " 'linalg',\n",
       " 'lstsq',\n",
       " 'matrix_power',\n",
       " 'matrix_rank',\n",
       " 'multi_dot',\n",
       " 'norm',\n",
       " 'pinv',\n",
       " 'print_function',\n",
       " 'qr',\n",
       " 'slogdet',\n",
       " 'solve',\n",
       " 'svd',\n",
       " 'tensorinv',\n",
       " 'tensorsolve',\n",
       " 'test']"
      ]
     },
     "execution_count": 114,
     "metadata": {},
     "output_type": "execute_result"
    }
   ],
   "source": [
    "# help(np.linalg.cond)\n",
    "dir(LA)"
   ]
  },
  {
   "cell_type": "code",
   "execution_count": 91,
   "metadata": {},
   "outputs": [
    {
     "name": "stdout",
     "output_type": "stream",
     "text": [
      "Help on method norm in module sympy.matrices.matrices:\n",
      "\n",
      "norm(ord=None) method of sympy.matrices.dense.MutableDenseMatrix instance\n",
      "    Return the Norm of a Matrix or Vector.\n",
      "    In the simplest case this is the geometric size of the vector\n",
      "    Other norms can be specified by the ord parameter\n",
      "    \n",
      "    \n",
      "    =====  ============================  ==========================\n",
      "    ord    norm for matrices             norm for vectors\n",
      "    =====  ============================  ==========================\n",
      "    None   Frobenius norm                2-norm\n",
      "    'fro'  Frobenius norm                - does not exist\n",
      "    inf    maximum row sum               max(abs(x))\n",
      "    -inf   --                            min(abs(x))\n",
      "    1      maximum column sum            as below\n",
      "    -1     --                            as below\n",
      "    2      2-norm (largest sing. value)  as below\n",
      "    -2     smallest singular value       as below\n",
      "    other  - does not exist              sum(abs(x)**ord)**(1./ord)\n",
      "    =====  ============================  ==========================\n",
      "    \n",
      "    Examples\n",
      "    ========\n",
      "    \n",
      "    >>> from sympy import Matrix, Symbol, trigsimp, cos, sin, oo\n",
      "    >>> x = Symbol('x', real=True)\n",
      "    >>> v = Matrix([cos(x), sin(x)])\n",
      "    >>> trigsimp( v.norm() )\n",
      "    1\n",
      "    >>> v.norm(10)\n",
      "    (sin(x)**10 + cos(x)**10)**(1/10)\n",
      "    >>> A = Matrix([[1, 1], [1, 1]])\n",
      "    >>> A.norm(1) # maximum sum of absolute values of A is 2\n",
      "    2\n",
      "    >>> A.norm(2) # Spectral norm (max of |Ax|/|x| under 2-vector-norm)\n",
      "    2\n",
      "    >>> A.norm(-2) # Inverse spectral norm (smallest singular value)\n",
      "    0\n",
      "    >>> A.norm() # Frobenius Norm\n",
      "    2\n",
      "    >>> A.norm(oo) # Infinity Norm\n",
      "    2\n",
      "    >>> Matrix([1, -2]).norm(oo)\n",
      "    2\n",
      "    >>> Matrix([-1, 2]).norm(-oo)\n",
      "    1\n",
      "    \n",
      "    See Also\n",
      "    ========\n",
      "    \n",
      "    normalized\n",
      "\n"
     ]
    }
   ],
   "source": [
    "A1 = sy.Matrix([[2,3],[5,4]])\n",
    "help(A.norm)\n",
    "# help(np.linalg.norm)"
   ]
  },
  {
   "cell_type": "code",
   "execution_count": 93,
   "metadata": {},
   "outputs": [
    {
     "name": "stdout",
     "output_type": "stream",
     "text": [
      "Help on method condition_number in module sympy.matrices.matrices:\n",
      "\n",
      "condition_number() method of sympy.matrices.dense.MutableDenseMatrix instance\n",
      "    Returns the condition number of a matrix.\n",
      "    \n",
      "    This is the maximum singular value divided by the minimum singular value\n",
      "    \n",
      "    Examples\n",
      "    ========\n",
      "    \n",
      "    >>> from sympy import Matrix, S\n",
      "    >>> A = Matrix([[1, 0, 0], [0, 10, 0], [0, 0, S.One/10]])\n",
      "    >>> A.condition_number()\n",
      "    100\n",
      "    \n",
      "    See Also\n",
      "    ========\n",
      "    \n",
      "    singular_values\n",
      "\n"
     ]
    }
   ],
   "source": [
    "A1 = sy.Matrix([[2,3],[5,4]])\n",
    "help(A.condition_number)"
   ]
  },
  {
   "cell_type": "code",
   "execution_count": 97,
   "metadata": {},
   "outputs": [
    {
     "data": {
      "text/latex": [
       "$\\displaystyle \\left[\\begin{matrix}1 & 1 & 0\\\\0 & 10 & 0\\\\0 & 0 & 0.2\\end{matrix}\\right]$"
      ],
      "text/plain": [
       "Matrix([\n",
       "[1,  1,   0],\n",
       "[0, 10,   0],\n",
       "[0,  0, 0.2]])"
      ]
     },
     "execution_count": 97,
     "metadata": {},
     "output_type": "execute_result"
    },
    {
     "data": {
      "text/latex": [
       "$\\displaystyle 5 \\sqrt{\\sqrt{2501} + 51}$"
      ],
      "text/plain": [
       "5*sqrt(sqrt(2501) + 51)"
      ]
     },
     "execution_count": 97,
     "metadata": {},
     "output_type": "execute_result"
    }
   ],
   "source": [
    "from sympy import Matrix, S\n",
    "A1 = Matrix([[1, 1, 0], [0, 10, 0], [0, 0, 2/10]])\n",
    "A1\n",
    "A1.condition_number()"
   ]
  }
 ],
 "metadata": {
  "kernelspec": {
   "display_name": "Python 3",
   "language": "python",
   "name": "python3"
  },
  "language_info": {
   "codemirror_mode": {
    "name": "ipython",
    "version": 3
   },
   "file_extension": ".py",
   "mimetype": "text/x-python",
   "name": "python",
   "nbconvert_exporter": "python",
   "pygments_lexer": "ipython3",
   "version": "3.8.5"
  },
  "toc": {
   "base_numbering": 1,
   "nav_menu": {},
   "number_sections": true,
   "sideBar": true,
   "skip_h1_title": false,
   "title_cell": "Table of Contents",
   "title_sidebar": "Contents",
   "toc_cell": false,
   "toc_position": {
    "height": "calc(100% - 180px)",
    "left": "10px",
    "top": "150px",
    "width": "219.433px"
   },
   "toc_section_display": true,
   "toc_window_display": true
  }
 },
 "nbformat": 4,
 "nbformat_minor": 4
}
